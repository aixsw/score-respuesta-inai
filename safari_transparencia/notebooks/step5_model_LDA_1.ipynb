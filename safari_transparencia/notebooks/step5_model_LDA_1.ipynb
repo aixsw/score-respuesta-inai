{
 "cells": [
  {
   "cell_type": "code",
   "execution_count": 1,
   "metadata": {},
   "outputs": [],
   "source": [
    "import os, sys\n",
    "sys.path.insert(0, os.path.abspath(\"..\"))"
   ]
  },
  {
   "cell_type": "code",
   "execution_count": 2,
   "metadata": {},
   "outputs": [],
   "source": [
    "import pandas as pd\n",
    "import boto3\n",
    "import pickle\n",
    "import matplotlib.pyplot as plt\n",
    "import seaborn as sns\n",
    "import warnings\n",
    "warnings.filterwarnings('ignore')"
   ]
  },
  {
   "cell_type": "code",
   "execution_count": 3,
   "metadata": {},
   "outputs": [],
   "source": [
    "sns.set_style(\"whitegrid\")"
   ]
  },
  {
   "cell_type": "markdown",
   "metadata": {},
   "source": [
    "## Importamos la información"
   ]
  },
  {
   "cell_type": "code",
   "execution_count": 4,
   "metadata": {},
   "outputs": [],
   "source": [
    "session = boto3.session.Session()\n",
    "s3client = session.client('s3')"
   ]
  },
  {
   "cell_type": "code",
   "execution_count": 5,
   "metadata": {},
   "outputs": [],
   "source": [
    "response = s3client.get_object(Bucket='inai-summerofdata', Key='mlpreproc/pickles/df.pkl')\n",
    "\n",
    "body = response['Body'].read()\n",
    "df = pickle.loads(body)"
   ]
  },
  {
   "cell_type": "code",
   "execution_count": 6,
   "metadata": {},
   "outputs": [
    {
     "data": {
      "text/html": [
       "<div>\n",
       "<style scoped>\n",
       "    .dataframe tbody tr th:only-of-type {\n",
       "        vertical-align: middle;\n",
       "    }\n",
       "\n",
       "    .dataframe tbody tr th {\n",
       "        vertical-align: top;\n",
       "    }\n",
       "\n",
       "    .dataframe thead th {\n",
       "        text-align: right;\n",
       "    }\n",
       "</style>\n",
       "<table border=\"1\" class=\"dataframe\">\n",
       "  <thead>\n",
       "    <tr style=\"text-align: right;\">\n",
       "      <th></th>\n",
       "      <th>folio</th>\n",
       "      <th>fechasolicitud</th>\n",
       "      <th>dependencia</th>\n",
       "      <th>estatus</th>\n",
       "      <th>medioentrada</th>\n",
       "      <th>tiposolicitud</th>\n",
       "      <th>descripcionsolicitud</th>\n",
       "      <th>otrosdatos</th>\n",
       "      <th>archivoadjuntosolicitud</th>\n",
       "      <th>medioentrega</th>\n",
       "      <th>...</th>\n",
       "      <th>sector</th>\n",
       "      <th>tipo_archivo_respuesta</th>\n",
       "      <th>cantidad_archivos_respuesta</th>\n",
       "      <th>texto_respuesta_adjunto</th>\n",
       "      <th>respuestareal</th>\n",
       "      <th>calidad_respuesta</th>\n",
       "      <th>calidad_respuesta_real</th>\n",
       "      <th>solicitud_longitud</th>\n",
       "      <th>descripcionsolicitud_lemma</th>\n",
       "      <th>codigo_calidad_respuesta_real</th>\n",
       "    </tr>\n",
       "  </thead>\n",
       "  <tbody>\n",
       "    <tr>\n",
       "      <th>0</th>\n",
       "      <td>1857500001912</td>\n",
       "      <td>2012-01-01 05:04:07</td>\n",
       "      <td>pemex exploracion y produccion</td>\n",
       "      <td>terminada</td>\n",
       "      <td>electronica</td>\n",
       "      <td>informacion publica</td>\n",
       "      <td>copia de los documentos y los con que cuenta a...</td>\n",
       "      <td>None</td>\n",
       "      <td>None</td>\n",
       "      <td>entrega por internet en el infomex</td>\n",
       "      <td>...</td>\n",
       "      <td>energia</td>\n",
       "      <td>pdf</td>\n",
       "      <td>1.0</td>\n",
       "      <td>pemex exploracion y produccion oficio fecha 02...</td>\n",
       "      <td>entrega de informacion en medio electronico</td>\n",
       "      <td>satisfactoria</td>\n",
       "      <td>satisfactoria</td>\n",
       "      <td>768</td>\n",
       "      <td>copiar documento comportamiento historico tipi...</td>\n",
       "      <td>0</td>\n",
       "    </tr>\n",
       "    <tr>\n",
       "      <th>1</th>\n",
       "      <td>1857500002012</td>\n",
       "      <td>2012-01-01 05:13:16</td>\n",
       "      <td>pemex exploracion y produccion</td>\n",
       "      <td>terminada</td>\n",
       "      <td>electronica</td>\n",
       "      <td>informacion publica</td>\n",
       "      <td>del informacion y usados en la de flujo de efe...</td>\n",
       "      <td>None</td>\n",
       "      <td>None</td>\n",
       "      <td>entrega por internet en el infomex</td>\n",
       "      <td>...</td>\n",
       "      <td>energia</td>\n",
       "      <td>pdf</td>\n",
       "      <td>1.0</td>\n",
       "      <td>pemex exploracion y produccion oficio fecha 01...</td>\n",
       "      <td>entrega de informacion en medio electronico</td>\n",
       "      <td>satisfactoria</td>\n",
       "      <td>satisfactoria</td>\n",
       "      <td>548</td>\n",
       "      <td>informacion usar flujo efectivo pozo tipico ag...</td>\n",
       "      <td>0</td>\n",
       "    </tr>\n",
       "    <tr>\n",
       "      <th>2</th>\n",
       "      <td>0001800000712</td>\n",
       "      <td>2012-01-01 09:46:39</td>\n",
       "      <td>secretaria de energia</td>\n",
       "      <td>terminada</td>\n",
       "      <td>electronica</td>\n",
       "      <td>informacion publica</td>\n",
       "      <td>se me proporcione en magnetico y por este medi...</td>\n",
       "      <td>None</td>\n",
       "      <td>None</td>\n",
       "      <td>entrega por internet en el infomex</td>\n",
       "      <td>...</td>\n",
       "      <td>energia</td>\n",
       "      <td>zip</td>\n",
       "      <td>2.0</td>\n",
       "      <td>None</td>\n",
       "      <td>inexistencia de la informacion solicitada</td>\n",
       "      <td>no respondida</td>\n",
       "      <td>no respondida</td>\n",
       "      <td>269</td>\n",
       "      <td>proporcionar magnetico relacion ocupar amparar...</td>\n",
       "      <td>1</td>\n",
       "    </tr>\n",
       "    <tr>\n",
       "      <th>3</th>\n",
       "      <td>0000600003712</td>\n",
       "      <td>2012-01-01 10:11:41</td>\n",
       "      <td>secretaria de hacienda y credito publico</td>\n",
       "      <td>terminada</td>\n",
       "      <td>electronica</td>\n",
       "      <td>informacion publica</td>\n",
       "      <td>se me proporcione en magnetico y por este medi...</td>\n",
       "      <td>None</td>\n",
       "      <td>None</td>\n",
       "      <td>entrega por internet en el infomex</td>\n",
       "      <td>...</td>\n",
       "      <td>hacienda y credito publico</td>\n",
       "      <td>pdf</td>\n",
       "      <td>1.0</td>\n",
       "      <td>inidos secretaria de hacienda y credito public...</td>\n",
       "      <td>la informacion esta disponible publicamente</td>\n",
       "      <td>satisfactoria</td>\n",
       "      <td>satisfactoria</td>\n",
       "      <td>269</td>\n",
       "      <td>proporcionar magnetico relacion ocupar amparar...</td>\n",
       "      <td>0</td>\n",
       "    </tr>\n",
       "    <tr>\n",
       "      <th>4</th>\n",
       "      <td>0001500002812</td>\n",
       "      <td>2012-01-01 10:32:15</td>\n",
       "      <td>secretaria de desarrollo agrario territorial y...</td>\n",
       "      <td>terminada</td>\n",
       "      <td>electronica</td>\n",
       "      <td>informacion publica</td>\n",
       "      <td>se me proporcione en magnetico y por este medi...</td>\n",
       "      <td>None</td>\n",
       "      <td>None</td>\n",
       "      <td>entrega por internet en el infomex</td>\n",
       "      <td>...</td>\n",
       "      <td>reforma agraria</td>\n",
       "      <td>zip</td>\n",
       "      <td>4.0</td>\n",
       "      <td>None</td>\n",
       "      <td>sin respuesta</td>\n",
       "      <td>satisfactoria</td>\n",
       "      <td>no respondida</td>\n",
       "      <td>398</td>\n",
       "      <td>proporcionar magnetico relacion ocupar amparar...</td>\n",
       "      <td>1</td>\n",
       "    </tr>\n",
       "  </tbody>\n",
       "</table>\n",
       "<p>5 rows × 29 columns</p>\n",
       "</div>"
      ],
      "text/plain": [
       "           folio      fechasolicitud  \\\n",
       "0  1857500001912 2012-01-01 05:04:07   \n",
       "1  1857500002012 2012-01-01 05:13:16   \n",
       "2  0001800000712 2012-01-01 09:46:39   \n",
       "3  0000600003712 2012-01-01 10:11:41   \n",
       "4  0001500002812 2012-01-01 10:32:15   \n",
       "\n",
       "                                         dependencia    estatus medioentrada  \\\n",
       "0                     pemex exploracion y produccion  terminada  electronica   \n",
       "1                     pemex exploracion y produccion  terminada  electronica   \n",
       "2                              secretaria de energia  terminada  electronica   \n",
       "3           secretaria de hacienda y credito publico  terminada  electronica   \n",
       "4  secretaria de desarrollo agrario territorial y...  terminada  electronica   \n",
       "\n",
       "         tiposolicitud                               descripcionsolicitud  \\\n",
       "0  informacion publica  copia de los documentos y los con que cuenta a...   \n",
       "1  informacion publica  del informacion y usados en la de flujo de efe...   \n",
       "2  informacion publica  se me proporcione en magnetico y por este medi...   \n",
       "3  informacion publica  se me proporcione en magnetico y por este medi...   \n",
       "4  informacion publica  se me proporcione en magnetico y por este medi...   \n",
       "\n",
       "  otrosdatos archivoadjuntosolicitud                        medioentrega  ...  \\\n",
       "0       None                    None  entrega por internet en el infomex  ...   \n",
       "1       None                    None  entrega por internet en el infomex  ...   \n",
       "2       None                    None  entrega por internet en el infomex  ...   \n",
       "3       None                    None  entrega por internet en el infomex  ...   \n",
       "4       None                    None  entrega por internet en el infomex  ...   \n",
       "\n",
       "                       sector tipo_archivo_respuesta  \\\n",
       "0                     energia                    pdf   \n",
       "1                     energia                    pdf   \n",
       "2                     energia                    zip   \n",
       "3  hacienda y credito publico                    pdf   \n",
       "4             reforma agraria                    zip   \n",
       "\n",
       "  cantidad_archivos_respuesta  \\\n",
       "0                         1.0   \n",
       "1                         1.0   \n",
       "2                         2.0   \n",
       "3                         1.0   \n",
       "4                         4.0   \n",
       "\n",
       "                             texto_respuesta_adjunto  \\\n",
       "0  pemex exploracion y produccion oficio fecha 02...   \n",
       "1  pemex exploracion y produccion oficio fecha 01...   \n",
       "2                                               None   \n",
       "3  inidos secretaria de hacienda y credito public...   \n",
       "4                                               None   \n",
       "\n",
       "                                 respuestareal calidad_respuesta  \\\n",
       "0  entrega de informacion en medio electronico     satisfactoria   \n",
       "1  entrega de informacion en medio electronico     satisfactoria   \n",
       "2    inexistencia de la informacion solicitada     no respondida   \n",
       "3  la informacion esta disponible publicamente     satisfactoria   \n",
       "4                                sin respuesta     satisfactoria   \n",
       "\n",
       "  calidad_respuesta_real solicitud_longitud  \\\n",
       "0          satisfactoria                768   \n",
       "1          satisfactoria                548   \n",
       "2          no respondida                269   \n",
       "3          satisfactoria                269   \n",
       "4          no respondida                398   \n",
       "\n",
       "                          descripcionsolicitud_lemma  \\\n",
       "0  copiar documento comportamiento historico tipi...   \n",
       "1  informacion usar flujo efectivo pozo tipico ag...   \n",
       "2  proporcionar magnetico relacion ocupar amparar...   \n",
       "3  proporcionar magnetico relacion ocupar amparar...   \n",
       "4  proporcionar magnetico relacion ocupar amparar...   \n",
       "\n",
       "  codigo_calidad_respuesta_real  \n",
       "0                             0  \n",
       "1                             0  \n",
       "2                             1  \n",
       "3                             0  \n",
       "4                             1  \n",
       "\n",
       "[5 rows x 29 columns]"
      ]
     },
     "execution_count": 6,
     "metadata": {},
     "output_type": "execute_result"
    }
   ],
   "source": [
    "df.head()"
   ]
  },
  {
   "cell_type": "markdown",
   "metadata": {},
   "source": [
    "## Implementación LDA"
   ]
  },
  {
   "cell_type": "markdown",
   "metadata": {},
   "source": [
    "Quitamos palabras identificadas en el primer analisis LDA (Diego)"
   ]
  },
  {
   "cell_type": "code",
   "execution_count": 7,
   "metadata": {},
   "outputs": [],
   "source": [
    "banned = ['federativo', 'juicio', 'materia', 'proveedor', 'activar', 'cargar', 'amparar', 'transparencia', 'poblacion', 'favor', \n",
    "          'directo', 'facturar','federal', 'fecho', 'registrar', 'emplear', 'campar', 'tribunal', 'atencion',\n",
    "          'pagar', 'instituto', 'reportar', 'publicos', 'licitacion', 'honorario', 'encontrar', 'entidad',\n",
    "          'acceso', 'derecho', 'concepto', 'recurso', 'beneficiario', 'electoral', 'esperar', 'expedientar', 'basar',\n",
    "          'documento', 'adquirir', 'presentar', 'clavar', 'amparar', 'personal', 'solucion', 'adjuntar', 'adjunto',\n",
    "          'respuesta','solicitud','solicitar', 'solicito', 'solicitamos', 'solicite', 'informacion', 'mexico', 'titular', \n",
    "          'titulo', 'copiar', 'copie', 'copiamos', 'dependencia', 'municipio', 'tramitar', 'contratar', \n",
    "          'contrato', 'servicio', 'tramitar', 'tramite', 'proyectar', 'proyectamos', 'proyecte', 'proyeccion', \n",
    "          'nacional', 'administrativo', 'presupuestar', 'presupuesto', 'correo', 'pemex', 'programar', 'programa',\n",
    "          'programacion', 'empresa', 'personar', 'edad', 'unidad', 'soldar', 'circuito']"
   ]
  },
  {
   "cell_type": "code",
   "execution_count": 8,
   "metadata": {},
   "outputs": [],
   "source": [
    "f = lambda x: ' '.join([item for item in x.split() if item not in banned])\n",
    "df['descripcionsolicitud_lemma'] = df['descripcionsolicitud_lemma'].apply(f)"
   ]
  },
  {
   "cell_type": "code",
   "execution_count": 9,
   "metadata": {},
   "outputs": [],
   "source": [
    "df['solicitud_lemma_longitud'] = df['descripcionsolicitud_lemma'].str.len()"
   ]
  },
  {
   "cell_type": "code",
   "execution_count": 10,
   "metadata": {
    "scrolled": true
   },
   "outputs": [
    {
     "data": {
      "text/html": [
       "<div>\n",
       "<style scoped>\n",
       "    .dataframe tbody tr th:only-of-type {\n",
       "        vertical-align: middle;\n",
       "    }\n",
       "\n",
       "    .dataframe tbody tr th {\n",
       "        vertical-align: top;\n",
       "    }\n",
       "\n",
       "    .dataframe thead th {\n",
       "        text-align: right;\n",
       "    }\n",
       "</style>\n",
       "<table border=\"1\" class=\"dataframe\">\n",
       "  <thead>\n",
       "    <tr style=\"text-align: right;\">\n",
       "      <th></th>\n",
       "      <th>folio</th>\n",
       "      <th>fechasolicitud</th>\n",
       "      <th>dependencia</th>\n",
       "      <th>estatus</th>\n",
       "      <th>medioentrada</th>\n",
       "      <th>tiposolicitud</th>\n",
       "      <th>descripcionsolicitud</th>\n",
       "      <th>otrosdatos</th>\n",
       "      <th>archivoadjuntosolicitud</th>\n",
       "      <th>medioentrega</th>\n",
       "      <th>...</th>\n",
       "      <th>tipo_archivo_respuesta</th>\n",
       "      <th>cantidad_archivos_respuesta</th>\n",
       "      <th>texto_respuesta_adjunto</th>\n",
       "      <th>respuestareal</th>\n",
       "      <th>calidad_respuesta</th>\n",
       "      <th>calidad_respuesta_real</th>\n",
       "      <th>solicitud_longitud</th>\n",
       "      <th>descripcionsolicitud_lemma</th>\n",
       "      <th>codigo_calidad_respuesta_real</th>\n",
       "      <th>solicitud_lemma_longitud</th>\n",
       "    </tr>\n",
       "  </thead>\n",
       "  <tbody>\n",
       "    <tr>\n",
       "      <th>0</th>\n",
       "      <td>1857500001912</td>\n",
       "      <td>2012-01-01 05:04:07</td>\n",
       "      <td>pemex exploracion y produccion</td>\n",
       "      <td>terminada</td>\n",
       "      <td>electronica</td>\n",
       "      <td>informacion publica</td>\n",
       "      <td>copia de los documentos y los con que cuenta a...</td>\n",
       "      <td>None</td>\n",
       "      <td>None</td>\n",
       "      <td>entrega por internet en el infomex</td>\n",
       "      <td>...</td>\n",
       "      <td>pdf</td>\n",
       "      <td>1.0</td>\n",
       "      <td>pemex exploracion y produccion oficio fecha 02...</td>\n",
       "      <td>entrega de informacion en medio electronico</td>\n",
       "      <td>satisfactoria</td>\n",
       "      <td>satisfactoria</td>\n",
       "      <td>768</td>\n",
       "      <td>comportamiento historico tipicos comprender es...</td>\n",
       "      <td>0</td>\n",
       "      <td>418</td>\n",
       "    </tr>\n",
       "    <tr>\n",
       "      <th>1</th>\n",
       "      <td>1857500002012</td>\n",
       "      <td>2012-01-01 05:13:16</td>\n",
       "      <td>pemex exploracion y produccion</td>\n",
       "      <td>terminada</td>\n",
       "      <td>electronica</td>\n",
       "      <td>informacion publica</td>\n",
       "      <td>del informacion y usados en la de flujo de efe...</td>\n",
       "      <td>None</td>\n",
       "      <td>None</td>\n",
       "      <td>entrega por internet en el infomex</td>\n",
       "      <td>...</td>\n",
       "      <td>pdf</td>\n",
       "      <td>1.0</td>\n",
       "      <td>pemex exploracion y produccion oficio fecha 01...</td>\n",
       "      <td>entrega de informacion en medio electronico</td>\n",
       "      <td>satisfactoria</td>\n",
       "      <td>satisfactoria</td>\n",
       "      <td>548</td>\n",
       "      <td>usar flujo efectivo pozo tipico aguar fria ela...</td>\n",
       "      <td>0</td>\n",
       "      <td>289</td>\n",
       "    </tr>\n",
       "    <tr>\n",
       "      <th>2</th>\n",
       "      <td>0001800000712</td>\n",
       "      <td>2012-01-01 09:46:39</td>\n",
       "      <td>secretaria de energia</td>\n",
       "      <td>terminada</td>\n",
       "      <td>electronica</td>\n",
       "      <td>informacion publica</td>\n",
       "      <td>se me proporcione en magnetico y por este medi...</td>\n",
       "      <td>None</td>\n",
       "      <td>None</td>\n",
       "      <td>entrega por internet en el infomex</td>\n",
       "      <td>...</td>\n",
       "      <td>zip</td>\n",
       "      <td>2.0</td>\n",
       "      <td>None</td>\n",
       "      <td>inexistencia de la informacion solicitada</td>\n",
       "      <td>no respondida</td>\n",
       "      <td>no respondida</td>\n",
       "      <td>269</td>\n",
       "      <td>proporcionar magnetico relacion ocupar articul...</td>\n",
       "      <td>1</td>\n",
       "      <td>127</td>\n",
       "    </tr>\n",
       "    <tr>\n",
       "      <th>3</th>\n",
       "      <td>0000600003712</td>\n",
       "      <td>2012-01-01 10:11:41</td>\n",
       "      <td>secretaria de hacienda y credito publico</td>\n",
       "      <td>terminada</td>\n",
       "      <td>electronica</td>\n",
       "      <td>informacion publica</td>\n",
       "      <td>se me proporcione en magnetico y por este medi...</td>\n",
       "      <td>None</td>\n",
       "      <td>None</td>\n",
       "      <td>entrega por internet en el infomex</td>\n",
       "      <td>...</td>\n",
       "      <td>pdf</td>\n",
       "      <td>1.0</td>\n",
       "      <td>inidos secretaria de hacienda y credito public...</td>\n",
       "      <td>la informacion esta disponible publicamente</td>\n",
       "      <td>satisfactoria</td>\n",
       "      <td>satisfactoria</td>\n",
       "      <td>269</td>\n",
       "      <td>proporcionar magnetico relacion ocupar articul...</td>\n",
       "      <td>0</td>\n",
       "      <td>127</td>\n",
       "    </tr>\n",
       "    <tr>\n",
       "      <th>4</th>\n",
       "      <td>0001500002812</td>\n",
       "      <td>2012-01-01 10:32:15</td>\n",
       "      <td>secretaria de desarrollo agrario territorial y...</td>\n",
       "      <td>terminada</td>\n",
       "      <td>electronica</td>\n",
       "      <td>informacion publica</td>\n",
       "      <td>se me proporcione en magnetico y por este medi...</td>\n",
       "      <td>None</td>\n",
       "      <td>None</td>\n",
       "      <td>entrega por internet en el infomex</td>\n",
       "      <td>...</td>\n",
       "      <td>zip</td>\n",
       "      <td>4.0</td>\n",
       "      <td>None</td>\n",
       "      <td>sin respuesta</td>\n",
       "      <td>satisfactoria</td>\n",
       "      <td>no respondida</td>\n",
       "      <td>398</td>\n",
       "      <td>proporcionar magnetico relacion ocupar articul...</td>\n",
       "      <td>1</td>\n",
       "      <td>172</td>\n",
       "    </tr>\n",
       "  </tbody>\n",
       "</table>\n",
       "<p>5 rows × 30 columns</p>\n",
       "</div>"
      ],
      "text/plain": [
       "           folio      fechasolicitud  \\\n",
       "0  1857500001912 2012-01-01 05:04:07   \n",
       "1  1857500002012 2012-01-01 05:13:16   \n",
       "2  0001800000712 2012-01-01 09:46:39   \n",
       "3  0000600003712 2012-01-01 10:11:41   \n",
       "4  0001500002812 2012-01-01 10:32:15   \n",
       "\n",
       "                                         dependencia    estatus medioentrada  \\\n",
       "0                     pemex exploracion y produccion  terminada  electronica   \n",
       "1                     pemex exploracion y produccion  terminada  electronica   \n",
       "2                              secretaria de energia  terminada  electronica   \n",
       "3           secretaria de hacienda y credito publico  terminada  electronica   \n",
       "4  secretaria de desarrollo agrario territorial y...  terminada  electronica   \n",
       "\n",
       "         tiposolicitud                               descripcionsolicitud  \\\n",
       "0  informacion publica  copia de los documentos y los con que cuenta a...   \n",
       "1  informacion publica  del informacion y usados en la de flujo de efe...   \n",
       "2  informacion publica  se me proporcione en magnetico y por este medi...   \n",
       "3  informacion publica  se me proporcione en magnetico y por este medi...   \n",
       "4  informacion publica  se me proporcione en magnetico y por este medi...   \n",
       "\n",
       "  otrosdatos archivoadjuntosolicitud                        medioentrega  ...  \\\n",
       "0       None                    None  entrega por internet en el infomex  ...   \n",
       "1       None                    None  entrega por internet en el infomex  ...   \n",
       "2       None                    None  entrega por internet en el infomex  ...   \n",
       "3       None                    None  entrega por internet en el infomex  ...   \n",
       "4       None                    None  entrega por internet en el infomex  ...   \n",
       "\n",
       "  tipo_archivo_respuesta cantidad_archivos_respuesta  \\\n",
       "0                    pdf                         1.0   \n",
       "1                    pdf                         1.0   \n",
       "2                    zip                         2.0   \n",
       "3                    pdf                         1.0   \n",
       "4                    zip                         4.0   \n",
       "\n",
       "                             texto_respuesta_adjunto  \\\n",
       "0  pemex exploracion y produccion oficio fecha 02...   \n",
       "1  pemex exploracion y produccion oficio fecha 01...   \n",
       "2                                               None   \n",
       "3  inidos secretaria de hacienda y credito public...   \n",
       "4                                               None   \n",
       "\n",
       "                                 respuestareal calidad_respuesta  \\\n",
       "0  entrega de informacion en medio electronico     satisfactoria   \n",
       "1  entrega de informacion en medio electronico     satisfactoria   \n",
       "2    inexistencia de la informacion solicitada     no respondida   \n",
       "3  la informacion esta disponible publicamente     satisfactoria   \n",
       "4                                sin respuesta     satisfactoria   \n",
       "\n",
       "  calidad_respuesta_real solicitud_longitud  \\\n",
       "0          satisfactoria                768   \n",
       "1          satisfactoria                548   \n",
       "2          no respondida                269   \n",
       "3          satisfactoria                269   \n",
       "4          no respondida                398   \n",
       "\n",
       "                          descripcionsolicitud_lemma  \\\n",
       "0  comportamiento historico tipicos comprender es...   \n",
       "1  usar flujo efectivo pozo tipico aguar fria ela...   \n",
       "2  proporcionar magnetico relacion ocupar articul...   \n",
       "3  proporcionar magnetico relacion ocupar articul...   \n",
       "4  proporcionar magnetico relacion ocupar articul...   \n",
       "\n",
       "  codigo_calidad_respuesta_real solicitud_lemma_longitud  \n",
       "0                             0                      418  \n",
       "1                             0                      289  \n",
       "2                             1                      127  \n",
       "3                             0                      127  \n",
       "4                             1                      172  \n",
       "\n",
       "[5 rows x 30 columns]"
      ]
     },
     "execution_count": 10,
     "metadata": {},
     "output_type": "execute_result"
    }
   ],
   "source": [
    "df.head()"
   ]
  },
  {
   "cell_type": "code",
   "execution_count": 11,
   "metadata": {},
   "outputs": [
    {
     "data": {
      "image/png": "[encoded data removed]",
      "text/plain": [
       "<Figure size 921.6x432 with 1 Axes>"
      ]
     },
     "metadata": {},
     "output_type": "display_data"
    }
   ],
   "source": [
    "plt.figure(figsize=(12.8, 6))\n",
    "sns.distplot(df['solicitud_lemma_longitud']).set_title('Distribución de la logitud de las solicitudes lemma');"
   ]
  },
  {
   "cell_type": "code",
   "execution_count": 12,
   "metadata": {},
   "outputs": [
    {
     "data": {
      "text/plain": [
       "count    1.171697e+06\n",
       "mean     2.182406e+02\n",
       "std      2.525011e+02\n",
       "min      0.000000e+00\n",
       "25%      7.200000e+01\n",
       "50%      1.350000e+02\n",
       "75%      2.630000e+02\n",
       "max      3.681000e+03\n",
       "Name: solicitud_lemma_longitud, dtype: float64"
      ]
     },
     "execution_count": 12,
     "metadata": {},
     "output_type": "execute_result"
    }
   ],
   "source": [
    "df['solicitud_lemma_longitud'].describe()"
   ]
  },
  {
   "cell_type": "code",
   "execution_count": 13,
   "metadata": {},
   "outputs": [],
   "source": [
    "filtro = df['solicitud_lemma_longitud'] < 16\n",
    "cases = df[filtro]"
   ]
  },
  {
   "cell_type": "code",
   "execution_count": 14,
   "metadata": {},
   "outputs": [
    {
     "data": {
      "text/plain": [
       "33245"
      ]
     },
     "execution_count": 14,
     "metadata": {},
     "output_type": "execute_result"
    }
   ],
   "source": [
    "len(cases)"
   ]
  },
  {
   "cell_type": "code",
   "execution_count": 15,
   "metadata": {},
   "outputs": [],
   "source": [
    "df_new = df[df['descripcionsolicitud_lemma'].map(len) > 15]"
   ]
  },
  {
   "cell_type": "code",
   "execution_count": 16,
   "metadata": {},
   "outputs": [
    {
     "data": {
      "text/plain": [
       "count    1.138452e+06\n",
       "mean     2.244025e+02\n",
       "std      2.535345e+02\n",
       "min      1.600000e+01\n",
       "25%      7.700000e+01\n",
       "50%      1.400000e+02\n",
       "75%      2.700000e+02\n",
       "max      3.681000e+03\n",
       "Name: solicitud_lemma_longitud, dtype: float64"
      ]
     },
     "execution_count": 16,
     "metadata": {},
     "output_type": "execute_result"
    }
   ],
   "source": [
    "df_new['solicitud_lemma_longitud'].describe()"
   ]
  },
  {
   "cell_type": "code",
   "execution_count": 17,
   "metadata": {},
   "outputs": [
    {
     "data": {
      "image/png": "[encoded data removed]",
      "text/plain": [
       "<Figure size 921.6x432 with 1 Axes>"
      ]
     },
     "metadata": {},
     "output_type": "display_data"
    }
   ],
   "source": [
    "plt.figure(figsize=(12.8, 6))\n",
    "sns.distplot(df_new['solicitud_lemma_longitud']).set_title('Distribución de la logitud de las solicitudes lemma');"
   ]
  },
  {
   "cell_type": "code",
   "execution_count": 18,
   "metadata": {},
   "outputs": [],
   "source": [
    "data = df_new[['descripcionsolicitud_lemma']]\n",
    "data['index'] = data.index\n",
    "docs = data"
   ]
  },
  {
   "cell_type": "code",
   "execution_count": 19,
   "metadata": {},
   "outputs": [
    {
     "data": {
      "text/html": [
       "<div>\n",
       "<style scoped>\n",
       "    .dataframe tbody tr th:only-of-type {\n",
       "        vertical-align: middle;\n",
       "    }\n",
       "\n",
       "    .dataframe tbody tr th {\n",
       "        vertical-align: top;\n",
       "    }\n",
       "\n",
       "    .dataframe thead th {\n",
       "        text-align: right;\n",
       "    }\n",
       "</style>\n",
       "<table border=\"1\" class=\"dataframe\">\n",
       "  <thead>\n",
       "    <tr style=\"text-align: right;\">\n",
       "      <th></th>\n",
       "      <th>descripcionsolicitud_lemma</th>\n",
       "      <th>index</th>\n",
       "    </tr>\n",
       "  </thead>\n",
       "  <tbody>\n",
       "    <tr>\n",
       "      <th>0</th>\n",
       "      <td>comportamiento historico tipicos comprender es...</td>\n",
       "      <td>0</td>\n",
       "    </tr>\n",
       "    <tr>\n",
       "      <th>1</th>\n",
       "      <td>usar flujo efectivo pozo tipico aguar fria ela...</td>\n",
       "      <td>1</td>\n",
       "    </tr>\n",
       "    <tr>\n",
       "      <th>2</th>\n",
       "      <td>proporcionar magnetico relacion ocupar articul...</td>\n",
       "      <td>2</td>\n",
       "    </tr>\n",
       "    <tr>\n",
       "      <th>3</th>\n",
       "      <td>proporcionar magnetico relacion ocupar articul...</td>\n",
       "      <td>3</td>\n",
       "    </tr>\n",
       "    <tr>\n",
       "      <th>4</th>\n",
       "      <td>proporcionar magnetico relacion ocupar articul...</td>\n",
       "      <td>4</td>\n",
       "    </tr>\n",
       "    <tr>\n",
       "      <th>...</th>\n",
       "      <td>...</td>\n",
       "      <td>...</td>\n",
       "    </tr>\n",
       "    <tr>\n",
       "      <th>1559003</th>\n",
       "      <td>obrar conagua juan carlos galindo rodriguez co...</td>\n",
       "      <td>1559003</td>\n",
       "    </tr>\n",
       "    <tr>\n",
       "      <th>1559005</th>\n",
       "      <td>requerir militante partir alejandro belisario ...</td>\n",
       "      <td>1559005</td>\n",
       "    </tr>\n",
       "    <tr>\n",
       "      <th>1559006</th>\n",
       "      <td>desglosar chiapas erradicar hectareas mariguan...</td>\n",
       "      <td>1559006</td>\n",
       "    </tr>\n",
       "    <tr>\n",
       "      <th>1559007</th>\n",
       "      <td>relacion oficiar litro coordinacion delegacion...</td>\n",
       "      <td>1559007</td>\n",
       "    </tr>\n",
       "    <tr>\n",
       "      <th>1559008</th>\n",
       "      <td>feriar asueto estipular laborable mexicano dia...</td>\n",
       "      <td>1559008</td>\n",
       "    </tr>\n",
       "  </tbody>\n",
       "</table>\n",
       "<p>1138452 rows × 2 columns</p>\n",
       "</div>"
      ],
      "text/plain": [
       "                                descripcionsolicitud_lemma    index\n",
       "0        comportamiento historico tipicos comprender es...        0\n",
       "1        usar flujo efectivo pozo tipico aguar fria ela...        1\n",
       "2        proporcionar magnetico relacion ocupar articul...        2\n",
       "3        proporcionar magnetico relacion ocupar articul...        3\n",
       "4        proporcionar magnetico relacion ocupar articul...        4\n",
       "...                                                    ...      ...\n",
       "1559003  obrar conagua juan carlos galindo rodriguez co...  1559003\n",
       "1559005  requerir militante partir alejandro belisario ...  1559005\n",
       "1559006  desglosar chiapas erradicar hectareas mariguan...  1559006\n",
       "1559007  relacion oficiar litro coordinacion delegacion...  1559007\n",
       "1559008  feriar asueto estipular laborable mexicano dia...  1559008\n",
       "\n",
       "[1138452 rows x 2 columns]"
      ]
     },
     "execution_count": 19,
     "metadata": {},
     "output_type": "execute_result"
    }
   ],
   "source": [
    "docs"
   ]
  },
  {
   "cell_type": "code",
   "execution_count": 20,
   "metadata": {},
   "outputs": [
    {
     "data": {
      "text/plain": [
       "'institucion explicar procedimiento instalar cafeterias plantel maquinar cafe refresco producto industrializar convenio formalizar instalacion citar centro ganancia institucion plantel dejar consentir talar formar mercantil negociar autoridad consentimiento destinar'"
      ]
     },
     "execution_count": 20,
     "metadata": {},
     "output_type": "execute_result"
    }
   ],
   "source": [
    "texto = docs[docs['index'] == 4310].values[0][0]\n",
    "texto"
   ]
  },
  {
   "cell_type": "code",
   "execution_count": 21,
   "metadata": {},
   "outputs": [],
   "source": [
    "import spacy\n",
    "import nltk\n",
    "from nltk import SnowballStemmer"
   ]
  },
  {
   "cell_type": "code",
   "execution_count": 22,
   "metadata": {},
   "outputs": [],
   "source": [
    "nlp = spacy.load('es_core_news_sm')"
   ]
  },
  {
   "cell_type": "code",
   "execution_count": 23,
   "metadata": {},
   "outputs": [],
   "source": [
    "def LematizarTexto(texto):\n",
    "    \n",
    "    doc = nlp(texto)\n",
    "    words = [t.lemma_ for t in doc if not t.is_punct | t.is_stop]\n",
    "    lexical_tokens = [t.lower() for t in words if len(t) > 3 and t.isalpha()]\n",
    "    \n",
    "    return lexical_tokens"
   ]
  },
  {
   "cell_type": "code",
   "execution_count": 24,
   "metadata": {},
   "outputs": [],
   "source": [
    "import multiprocessing\n",
    "from multiprocessing.dummy import Pool as ThreadPool"
   ]
  },
  {
   "cell_type": "code",
   "execution_count": 25,
   "metadata": {},
   "outputs": [
    {
     "data": {
      "text/plain": [
       "12"
      ]
     },
     "execution_count": 25,
     "metadata": {},
     "output_type": "execute_result"
    }
   ],
   "source": [
    "cores = multiprocessing.cpu_count()\n",
    "pool = ThreadPool(cores)\n",
    "cores"
   ]
  },
  {
   "cell_type": "code",
   "execution_count": 26,
   "metadata": {},
   "outputs": [],
   "source": [
    "processed_docs = pool.map(LematizarTexto, docs['descripcionsolicitud_lemma'])\n",
    "pool.close()"
   ]
  },
  {
   "cell_type": "code",
   "execution_count": 27,
   "metadata": {},
   "outputs": [
    {
     "data": {
      "text/plain": [
       "list"
      ]
     },
     "execution_count": 27,
     "metadata": {},
     "output_type": "execute_result"
    }
   ],
   "source": [
    "type(processed_docs)"
   ]
  },
  {
   "cell_type": "code",
   "execution_count": 28,
   "metadata": {},
   "outputs": [],
   "source": [
    "import gensim"
   ]
  },
  {
   "cell_type": "code",
   "execution_count": 29,
   "metadata": {},
   "outputs": [],
   "source": [
    "dictionary = gensim.corpora.Dictionary(processed_docs)"
   ]
  },
  {
   "cell_type": "code",
   "execution_count": 30,
   "metadata": {},
   "outputs": [],
   "source": [
    "dictionary.filter_extremes(no_below=15, no_above=0.5, keep_n=100000)"
   ]
  },
  {
   "cell_type": "code",
   "execution_count": 31,
   "metadata": {},
   "outputs": [],
   "source": [
    "bow_corpus = [dictionary.doc2bow(doc) for doc in processed_docs]"
   ]
  },
  {
   "cell_type": "markdown",
   "metadata": {},
   "source": [
    "## Bag of Words"
   ]
  },
  {
   "cell_type": "code",
   "execution_count": 32,
   "metadata": {},
   "outputs": [],
   "source": [
    "lda_model_bw = gensim.models.LdaMulticore(bow_corpus, num_topics=10,\n",
    "                                      id2word=dictionary, passes=2,\n",
    "                                      workers=cores)"
   ]
  },
  {
   "cell_type": "code",
   "execution_count": 33,
   "metadata": {},
   "outputs": [
    {
     "name": "stdout",
     "output_type": "stream",
     "text": [
      "Topic: 0 \n",
      "Words: 0.079*\"medicar\" + 0.049*\"medicamento\" + 0.032*\"hospital\" + 0.026*\"paciente\" + 0.026*\"recetar\" + 0.019*\"nivel\" + 0.015*\"delegacion\" + 0.014*\"periodo\" + 0.013*\"especialidad\" + 0.011*\"gracia\"\n",
      "Topic: 1 \n",
      "Words: 0.016*\"trabajador\" + 0.009*\"educacion\" + 0.008*\"nava\" + 0.008*\"laborar\" + 0.008*\"vazquez\" + 0.008*\"periodo\" + 0.007*\"laboral\" + 0.007*\"superior\" + 0.007*\"secretario\" + 0.007*\"salariar\"\n",
      "Topic: 2 \n",
      "Words: 0.016*\"publicar\" + 0.011*\"montar\" + 0.011*\"acta\" + 0.010*\"tipo\" + 0.010*\"sistema\" + 0.010*\"servidor\" + 0.008*\"secretario\" + 0.008*\"proponer\" + 0.007*\"seguridad\" + 0.007*\"convocatorio\"\n",
      "Topic: 3 \n",
      "Words: 0.014*\"informar\" + 0.013*\"tipo\" + 0.013*\"requerir\" + 0.012*\"direccion\" + 0.012*\"profesional\" + 0.012*\"servidor\" + 0.012*\"ingresar\" + 0.011*\"informatica\" + 0.010*\"formato\" + 0.010*\"incluir\"\n",
      "Topic: 4 \n",
      "Words: 0.012*\"casar\" + 0.009*\"desglosar\" + 0.009*\"delito\" + 0.008*\"informar\" + 0.007*\"mujer\" + 0.007*\"humanar\" + 0.007*\"tipo\" + 0.007*\"secretario\" + 0.006*\"institucion\" + 0.006*\"especificar\"\n",
      "Topic: 5 \n",
      "Words: 0.018*\"montar\" + 0.014*\"apoyar\" + 0.010*\"aguar\" + 0.009*\"proyectar\" + 0.008*\"otorgar\" + 0.008*\"fondo\" + 0.006*\"desglosar\" + 0.006*\"desarrollar\" + 0.006*\"energia\" + 0.006*\"tipo\"\n",
      "Topic: 6 \n",
      "Words: 0.016*\"casar\" + 0.010*\"publicar\" + 0.010*\"requerir\" + 0.009*\"informar\" + 0.009*\"procedimiento\" + 0.006*\"social\" + 0.006*\"documentar\" + 0.006*\"recibir\" + 0.006*\"articular\" + 0.006*\"montar\"\n",
      "Topic: 7 \n",
      "Words: 0.013*\"santo\" + 0.011*\"articular\" + 0.011*\"obrar\" + 0.011*\"secretario\" + 0.009*\"ciudad\" + 0.009*\"informar\" + 0.008*\"ubicar\" + 0.008*\"publicar\" + 0.007*\"ambiental\" + 0.007*\"distrito\"\n",
      "Topic: 8 \n",
      "Words: 0.034*\"sanitario\" + 0.016*\"comision\" + 0.014*\"salud\" + 0.013*\"cofepris\" + 0.013*\"producto\" + 0.012*\"permiso\" + 0.012*\"informar\" + 0.011*\"ingresar\" + 0.010*\"evidenciar\" + 0.010*\"solicitante\"\n",
      "Topic: 9 \n",
      "Words: 0.038*\"medicamento\" + 0.022*\"adjudicacion\" + 0.021*\"articular\" + 0.019*\"preciar\" + 0.017*\"pieza\" + 0.016*\"invitacion\" + 0.016*\"adquisicion\" + 0.015*\"fundamentar\" + 0.014*\"cuadrar\" + 0.013*\"completar\"\n"
     ]
    }
   ],
   "source": [
    "for idx, topic in lda_model_bw.print_topics(-1):\n",
    "    print('Topic: {} \\nWords: {}'.format(idx, topic))"
   ]
  },
  {
   "cell_type": "code",
   "execution_count": 34,
   "metadata": {},
   "outputs": [
    {
     "name": "stdout",
     "output_type": "stream",
     "text": [
      "\n",
      "Score: 0.5074487328529358\t \n",
      "Topic: 0.013*\"santo\" + 0.011*\"articular\" + 0.011*\"obrar\" + 0.011*\"secretario\" + 0.009*\"ciudad\" + 0.009*\"informar\" + 0.008*\"ubicar\" + 0.008*\"publicar\" + 0.007*\"ambiental\" + 0.007*\"distrito\"\n",
      "\n",
      "Score: 0.3382684886455536\t \n",
      "Topic: 0.014*\"informar\" + 0.013*\"tipo\" + 0.013*\"requerir\" + 0.012*\"direccion\" + 0.012*\"profesional\" + 0.012*\"servidor\" + 0.012*\"ingresar\" + 0.011*\"informatica\" + 0.010*\"formato\" + 0.010*\"incluir\"\n",
      "\n",
      "Score: 0.11302309483289719\t \n",
      "Topic: 0.012*\"casar\" + 0.009*\"desglosar\" + 0.009*\"delito\" + 0.008*\"informar\" + 0.007*\"mujer\" + 0.007*\"humanar\" + 0.007*\"tipo\" + 0.007*\"secretario\" + 0.006*\"institucion\" + 0.006*\"especificar\"\n"
     ]
    }
   ],
   "source": [
    "for index, score in sorted(lda_model_bw[bow_corpus[4310]], \n",
    "                           key=lambda tup: -1*tup[1]):\n",
    "    print(\"\\nScore: {}\\t \\nTopic: {}\".format(score,\n",
    "                                            lda_model_bw.print_topic(index, 10)))"
   ]
  },
  {
   "cell_type": "markdown",
   "metadata": {},
   "source": [
    "## TF-IDF"
   ]
  },
  {
   "cell_type": "code",
   "execution_count": 35,
   "metadata": {},
   "outputs": [],
   "source": [
    "from gensim import corpora, models\n",
    "from pprint import pprint"
   ]
  },
  {
   "cell_type": "code",
   "execution_count": 36,
   "metadata": {},
   "outputs": [],
   "source": [
    "tfidf = models.TfidfModel(bow_corpus)\n",
    "corpus_tfidf = tfidf[bow_corpus]"
   ]
  },
  {
   "cell_type": "code",
   "execution_count": 37,
   "metadata": {},
   "outputs": [],
   "source": [
    "lda_model_tfidf = gensim.models.LdaMulticore(corpus_tfidf, \n",
    "                                            num_topics=10,\n",
    "                                            id2word=dictionary,\n",
    "                                            passes=2,\n",
    "                                            workers=cores)"
   ]
  },
  {
   "cell_type": "code",
   "execution_count": 38,
   "metadata": {},
   "outputs": [
    {
     "name": "stdout",
     "output_type": "stream",
     "text": [
      "Topic: 0 Word: 0.032*\"medicar\" + 0.020*\"medicamento\" + 0.016*\"recetar\" + 0.015*\"hospital\" + 0.015*\"paciente\" + 0.009*\"especialidad\" + 0.009*\"imss\" + 0.008*\"delegacion\" + 0.008*\"remuneracion\" + 0.008*\"nivel\"\n",
      "Topic: 1 Word: 0.006*\"montar\" + 0.005*\"casar\" + 0.004*\"informar\" + 0.004*\"financiero\" + 0.004*\"publicar\" + 0.004*\"fondo\" + 0.004*\"secretario\" + 0.004*\"apoyar\" + 0.004*\"credito\" + 0.003*\"sociedad\"\n",
      "Topic: 2 Word: 0.010*\"concesion\" + 0.007*\"aguar\" + 0.007*\"ambiental\" + 0.006*\"ambientar\" + 0.005*\"zona\" + 0.005*\"titulos\" + 0.005*\"impactar\" + 0.004*\"energia\" + 0.004*\"santo\" + 0.004*\"ubicar\"\n",
      "Topic: 3 Word: 0.024*\"medicamento\" + 0.013*\"articular\" + 0.011*\"fundamentar\" + 0.010*\"pieza\" + 0.009*\"establecer\" + 0.008*\"preciar\" + 0.008*\"obsequiar\" + 0.008*\"adjudicacion\" + 0.007*\"capitular\" + 0.007*\"cuadrar\"\n",
      "Topic: 4 Word: 0.043*\"sanitario\" + 0.026*\"cofepris\" + 0.013*\"comision\" + 0.011*\"registrar\" + 0.011*\"sustanciar\" + 0.010*\"ingresar\" + 0.010*\"denominacion\" + 0.009*\"permiso\" + 0.009*\"consignar\" + 0.008*\"evidenciar\"\n",
      "Topic: 5 Word: 0.011*\"anexar\" + 0.008*\"contratacion\" + 0.008*\"acta\" + 0.007*\"procedimiento\" + 0.007*\"convenio\" + 0.007*\"mercar\" + 0.007*\"proponer\" + 0.006*\"firmar\" + 0.006*\"documentar\" + 0.006*\"articular\"\n",
      "Topic: 6 Word: 0.010*\"colegiar\" + 0.006*\"dictar\" + 0.006*\"escuela\" + 0.006*\"denunciar\" + 0.006*\"educacion\" + 0.006*\"distrito\" + 0.005*\"penal\" + 0.005*\"juzgar\" + 0.005*\"superior\" + 0.005*\"resolucion\"\n",
      "Topic: 7 Word: 0.009*\"montar\" + 0.007*\"gastar\" + 0.006*\"destinar\" + 0.006*\"desglosar\" + 0.005*\"diputar\" + 0.005*\"detallar\" + 0.005*\"seguridad\" + 0.005*\"informatica\" + 0.005*\"secretario\" + 0.004*\"elementar\"\n",
      "Topic: 8 Word: 0.006*\"direccion\" + 0.006*\"servidor\" + 0.006*\"director\" + 0.006*\"secretario\" + 0.005*\"laborar\" + 0.005*\"requerir\" + 0.005*\"plaza\" + 0.005*\"oficiar\" + 0.005*\"electronicos\" + 0.004*\"trabajador\"\n",
      "Topic: 9 Word: 0.007*\"padron\" + 0.005*\"valioso\" + 0.005*\"quedar\" + 0.005*\"ordenar\" + 0.005*\"gracia\" + 0.004*\"informar\" + 0.004*\"delito\" + 0.004*\"social\" + 0.004*\"corresponder\" + 0.004*\"proyectar\"\n"
     ]
    }
   ],
   "source": [
    "for idx, topic in lda_model_tfidf.print_topics(-1):\n",
    "    print('Topic: {} Word: {}'.format(idx, topic))"
   ]
  },
  {
   "cell_type": "code",
   "execution_count": 39,
   "metadata": {},
   "outputs": [
    {
     "name": "stdout",
     "output_type": "stream",
     "text": [
      "\n",
      "Score: 0.5332320332527161\t \n",
      "Topic: 0.010*\"concesion\" + 0.007*\"aguar\" + 0.007*\"ambiental\" + 0.006*\"ambientar\" + 0.005*\"zona\" + 0.005*\"titulos\" + 0.005*\"impactar\" + 0.004*\"energia\" + 0.004*\"santo\" + 0.004*\"ubicar\".\n",
      "\n",
      "Score: 0.15021458268165588\t \n",
      "Topic: 0.006*\"montar\" + 0.005*\"casar\" + 0.004*\"informar\" + 0.004*\"financiero\" + 0.004*\"publicar\" + 0.004*\"fondo\" + 0.004*\"secretario\" + 0.004*\"apoyar\" + 0.004*\"credito\" + 0.003*\"sociedad\".\n",
      "\n",
      "Score: 0.1256367415189743\t \n",
      "Topic: 0.032*\"medicar\" + 0.020*\"medicamento\" + 0.016*\"recetar\" + 0.015*\"hospital\" + 0.015*\"paciente\" + 0.009*\"especialidad\" + 0.009*\"imss\" + 0.008*\"delegacion\" + 0.008*\"remuneracion\" + 0.008*\"nivel\".\n",
      "\n",
      "Score: 0.08255147188901901\t \n",
      "Topic: 0.043*\"sanitario\" + 0.026*\"cofepris\" + 0.013*\"comision\" + 0.011*\"registrar\" + 0.011*\"sustanciar\" + 0.010*\"ingresar\" + 0.010*\"denominacion\" + 0.009*\"permiso\" + 0.009*\"consignar\" + 0.008*\"evidenciar\".\n",
      "\n",
      "Score: 0.07874582707881927\t \n",
      "Topic: 0.006*\"direccion\" + 0.006*\"servidor\" + 0.006*\"director\" + 0.006*\"secretario\" + 0.005*\"laborar\" + 0.005*\"requerir\" + 0.005*\"plaza\" + 0.005*\"oficiar\" + 0.005*\"electronicos\" + 0.004*\"trabajador\".\n"
     ]
    }
   ],
   "source": [
    "for index, score in sorted(lda_model_tfidf[bow_corpus[4310]],\n",
    "                          key=lambda tup: -1*tup[1]):\n",
    "    print(\"\\nScore: {}\\t \\nTopic: {}.\".format(score,\n",
    "                                             lda_model_tfidf.print_topic(index, 10)))"
   ]
  },
  {
   "cell_type": "code",
   "execution_count": null,
   "metadata": {},
   "outputs": [],
   "source": [
    "bucket='inai-summerofdata'\n",
    "key='modeling/LDA/df.pkl'\n",
    "pickle_byte_obj = pickle.dumps(df_new)\n",
    "s3_resource = boto3.resource('s3')\n",
    "s3_resource.Object(bucket, key).put(Body=pickle_byte_obj)"
   ]
  },
  {
   "cell_type": "code",
   "execution_count": null,
   "metadata": {},
   "outputs": [],
   "source": [
    "bucket='inai-summerofdata'\n",
    "key='modeling/LDA/processed_docs.pkl'\n",
    "pickle_byte_obj = pickle.dumps(processed_docs)\n",
    "s3_resource = boto3.resource('s3')\n",
    "s3_resource.Object(bucket, key).put(Body=pickle_byte_obj)"
   ]
  },
  {
   "cell_type": "code",
   "execution_count": null,
   "metadata": {},
   "outputs": [],
   "source": [
    "bucket='inai-summerofdata'\n",
    "key='modeling/LDA/lda_model_bw.pkl'\n",
    "pickle_byte_obj = pickle.dumps(lda_model_bw)\n",
    "s3_resource = boto3.resource('s3')\n",
    "s3_resource.Object(bucket, key).put(Body=pickle_byte_obj)"
   ]
  },
  {
   "cell_type": "code",
   "execution_count": null,
   "metadata": {},
   "outputs": [],
   "source": [
    "bucket='inai-summerofdata'\n",
    "key='modeling/LDA/lda_model_tfidf.pkl'\n",
    "pickle_byte_obj = pickle.dumps(lda_model_tfidf)\n",
    "s3_resource = boto3.resource('s3')\n",
    "s3_resource.Object(bucket, key).put(Body=pickle_byte_obj)"
   ]
  }
 ],
 "metadata": {
  "kernelspec": {
   "display_name": "Python 3",
   "language": "python",
   "name": "python3"
  },
  "language_info": {
   "codemirror_mode": {
    "name": "ipython",
    "version": 3
   },
   "file_extension": ".py",
   "mimetype": "text/x-python",
   "name": "python",
   "nbconvert_exporter": "python",
   "pygments_lexer": "ipython3",
   "version": "3.7.3"
  }
 },
 "nbformat": 4,
 "nbformat_minor": 4
}
