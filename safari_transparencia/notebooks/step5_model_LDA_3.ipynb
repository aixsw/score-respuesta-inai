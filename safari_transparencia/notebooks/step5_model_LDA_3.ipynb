{
 "cells": [
  {
   "cell_type": "code",
   "execution_count": 1,
   "metadata": {},
   "outputs": [],
   "source": [
    "import os, sys\n",
    "sys.path.insert(0, os.path.abspath(\"..\"))"
   ]
  },
  {
   "cell_type": "code",
   "execution_count": 2,
   "metadata": {},
   "outputs": [],
   "source": [
    "import pandas as pd\n",
    "import boto3\n",
    "import pickle\n",
    "import matplotlib.pyplot as plt\n",
    "import seaborn as sns\n",
    "import warnings\n",
    "warnings.filterwarnings('ignore')"
   ]
  },
  {
   "cell_type": "code",
   "execution_count": 3,
   "metadata": {},
   "outputs": [],
   "source": [
    "sns.set_style(\"whitegrid\")"
   ]
  },
  {
   "cell_type": "markdown",
   "metadata": {},
   "source": [
    "## Importamos la información"
   ]
  },
  {
   "cell_type": "code",
   "execution_count": 4,
   "metadata": {},
   "outputs": [],
   "source": [
    "session = boto3.session.Session()\n",
    "s3client = session.client('s3')"
   ]
  },
  {
   "cell_type": "code",
   "execution_count": 5,
   "metadata": {},
   "outputs": [],
   "source": [
    "response = s3client.get_object(Bucket='inai-summerofdata', Key='mlpreproc/pickles/df.pkl')\n",
    "\n",
    "body = response['Body'].read()\n",
    "df = pickle.loads(body)"
   ]
  },
  {
   "cell_type": "code",
   "execution_count": 6,
   "metadata": {},
   "outputs": [
    {
     "data": {
      "text/html": [
       "<div>\n",
       "<style scoped>\n",
       "    .dataframe tbody tr th:only-of-type {\n",
       "        vertical-align: middle;\n",
       "    }\n",
       "\n",
       "    .dataframe tbody tr th {\n",
       "        vertical-align: top;\n",
       "    }\n",
       "\n",
       "    .dataframe thead th {\n",
       "        text-align: right;\n",
       "    }\n",
       "</style>\n",
       "<table border=\"1\" class=\"dataframe\">\n",
       "  <thead>\n",
       "    <tr style=\"text-align: right;\">\n",
       "      <th></th>\n",
       "      <th>folio</th>\n",
       "      <th>fechasolicitud</th>\n",
       "      <th>dependencia</th>\n",
       "      <th>estatus</th>\n",
       "      <th>medioentrada</th>\n",
       "      <th>tiposolicitud</th>\n",
       "      <th>descripcionsolicitud</th>\n",
       "      <th>otrosdatos</th>\n",
       "      <th>archivoadjuntosolicitud</th>\n",
       "      <th>medioentrega</th>\n",
       "      <th>...</th>\n",
       "      <th>sector</th>\n",
       "      <th>tipo_archivo_respuesta</th>\n",
       "      <th>cantidad_archivos_respuesta</th>\n",
       "      <th>texto_respuesta_adjunto</th>\n",
       "      <th>respuestareal</th>\n",
       "      <th>calidad_respuesta</th>\n",
       "      <th>calidad_respuesta_real</th>\n",
       "      <th>solicitud_longitud</th>\n",
       "      <th>descripcionsolicitud_lemma</th>\n",
       "      <th>codigo_calidad_respuesta_real</th>\n",
       "    </tr>\n",
       "  </thead>\n",
       "  <tbody>\n",
       "    <tr>\n",
       "      <th>0</th>\n",
       "      <td>1857500001912</td>\n",
       "      <td>2012-01-01 05:04:07</td>\n",
       "      <td>pemex exploracion y produccion</td>\n",
       "      <td>terminada</td>\n",
       "      <td>electronica</td>\n",
       "      <td>informacion publica</td>\n",
       "      <td>copia de los documentos y los con que cuenta a...</td>\n",
       "      <td>None</td>\n",
       "      <td>None</td>\n",
       "      <td>entrega por internet en el infomex</td>\n",
       "      <td>...</td>\n",
       "      <td>energia</td>\n",
       "      <td>pdf</td>\n",
       "      <td>1.0</td>\n",
       "      <td>pemex exploracion y produccion oficio fecha 02...</td>\n",
       "      <td>entrega de informacion en medio electronico</td>\n",
       "      <td>satisfactoria</td>\n",
       "      <td>satisfactoria</td>\n",
       "      <td>768</td>\n",
       "      <td>copiar documento comportamiento historico tipi...</td>\n",
       "      <td>0</td>\n",
       "    </tr>\n",
       "    <tr>\n",
       "      <th>1</th>\n",
       "      <td>1857500002012</td>\n",
       "      <td>2012-01-01 05:13:16</td>\n",
       "      <td>pemex exploracion y produccion</td>\n",
       "      <td>terminada</td>\n",
       "      <td>electronica</td>\n",
       "      <td>informacion publica</td>\n",
       "      <td>del informacion y usados en la de flujo de efe...</td>\n",
       "      <td>None</td>\n",
       "      <td>None</td>\n",
       "      <td>entrega por internet en el infomex</td>\n",
       "      <td>...</td>\n",
       "      <td>energia</td>\n",
       "      <td>pdf</td>\n",
       "      <td>1.0</td>\n",
       "      <td>pemex exploracion y produccion oficio fecha 01...</td>\n",
       "      <td>entrega de informacion en medio electronico</td>\n",
       "      <td>satisfactoria</td>\n",
       "      <td>satisfactoria</td>\n",
       "      <td>548</td>\n",
       "      <td>informacion usar flujo efectivo pozo tipico ag...</td>\n",
       "      <td>0</td>\n",
       "    </tr>\n",
       "    <tr>\n",
       "      <th>2</th>\n",
       "      <td>0001800000712</td>\n",
       "      <td>2012-01-01 09:46:39</td>\n",
       "      <td>secretaria de energia</td>\n",
       "      <td>terminada</td>\n",
       "      <td>electronica</td>\n",
       "      <td>informacion publica</td>\n",
       "      <td>se me proporcione en magnetico y por este medi...</td>\n",
       "      <td>None</td>\n",
       "      <td>None</td>\n",
       "      <td>entrega por internet en el infomex</td>\n",
       "      <td>...</td>\n",
       "      <td>energia</td>\n",
       "      <td>zip</td>\n",
       "      <td>2.0</td>\n",
       "      <td>None</td>\n",
       "      <td>inexistencia de la informacion solicitada</td>\n",
       "      <td>no respondida</td>\n",
       "      <td>no respondida</td>\n",
       "      <td>269</td>\n",
       "      <td>proporcionar magnetico relacion ocupar amparar...</td>\n",
       "      <td>1</td>\n",
       "    </tr>\n",
       "    <tr>\n",
       "      <th>3</th>\n",
       "      <td>0000600003712</td>\n",
       "      <td>2012-01-01 10:11:41</td>\n",
       "      <td>secretaria de hacienda y credito publico</td>\n",
       "      <td>terminada</td>\n",
       "      <td>electronica</td>\n",
       "      <td>informacion publica</td>\n",
       "      <td>se me proporcione en magnetico y por este medi...</td>\n",
       "      <td>None</td>\n",
       "      <td>None</td>\n",
       "      <td>entrega por internet en el infomex</td>\n",
       "      <td>...</td>\n",
       "      <td>hacienda y credito publico</td>\n",
       "      <td>pdf</td>\n",
       "      <td>1.0</td>\n",
       "      <td>inidos secretaria de hacienda y credito public...</td>\n",
       "      <td>la informacion esta disponible publicamente</td>\n",
       "      <td>satisfactoria</td>\n",
       "      <td>satisfactoria</td>\n",
       "      <td>269</td>\n",
       "      <td>proporcionar magnetico relacion ocupar amparar...</td>\n",
       "      <td>0</td>\n",
       "    </tr>\n",
       "    <tr>\n",
       "      <th>4</th>\n",
       "      <td>0001500002812</td>\n",
       "      <td>2012-01-01 10:32:15</td>\n",
       "      <td>secretaria de desarrollo agrario territorial y...</td>\n",
       "      <td>terminada</td>\n",
       "      <td>electronica</td>\n",
       "      <td>informacion publica</td>\n",
       "      <td>se me proporcione en magnetico y por este medi...</td>\n",
       "      <td>None</td>\n",
       "      <td>None</td>\n",
       "      <td>entrega por internet en el infomex</td>\n",
       "      <td>...</td>\n",
       "      <td>reforma agraria</td>\n",
       "      <td>zip</td>\n",
       "      <td>4.0</td>\n",
       "      <td>None</td>\n",
       "      <td>sin respuesta</td>\n",
       "      <td>satisfactoria</td>\n",
       "      <td>no respondida</td>\n",
       "      <td>398</td>\n",
       "      <td>proporcionar magnetico relacion ocupar amparar...</td>\n",
       "      <td>1</td>\n",
       "    </tr>\n",
       "  </tbody>\n",
       "</table>\n",
       "<p>5 rows × 29 columns</p>\n",
       "</div>"
      ],
      "text/plain": [
       "           folio      fechasolicitud  \\\n",
       "0  1857500001912 2012-01-01 05:04:07   \n",
       "1  1857500002012 2012-01-01 05:13:16   \n",
       "2  0001800000712 2012-01-01 09:46:39   \n",
       "3  0000600003712 2012-01-01 10:11:41   \n",
       "4  0001500002812 2012-01-01 10:32:15   \n",
       "\n",
       "                                         dependencia    estatus medioentrada  \\\n",
       "0                     pemex exploracion y produccion  terminada  electronica   \n",
       "1                     pemex exploracion y produccion  terminada  electronica   \n",
       "2                              secretaria de energia  terminada  electronica   \n",
       "3           secretaria de hacienda y credito publico  terminada  electronica   \n",
       "4  secretaria de desarrollo agrario territorial y...  terminada  electronica   \n",
       "\n",
       "         tiposolicitud                               descripcionsolicitud  \\\n",
       "0  informacion publica  copia de los documentos y los con que cuenta a...   \n",
       "1  informacion publica  del informacion y usados en la de flujo de efe...   \n",
       "2  informacion publica  se me proporcione en magnetico y por este medi...   \n",
       "3  informacion publica  se me proporcione en magnetico y por este medi...   \n",
       "4  informacion publica  se me proporcione en magnetico y por este medi...   \n",
       "\n",
       "  otrosdatos archivoadjuntosolicitud                        medioentrega  ...  \\\n",
       "0       None                    None  entrega por internet en el infomex  ...   \n",
       "1       None                    None  entrega por internet en el infomex  ...   \n",
       "2       None                    None  entrega por internet en el infomex  ...   \n",
       "3       None                    None  entrega por internet en el infomex  ...   \n",
       "4       None                    None  entrega por internet en el infomex  ...   \n",
       "\n",
       "                       sector tipo_archivo_respuesta  \\\n",
       "0                     energia                    pdf   \n",
       "1                     energia                    pdf   \n",
       "2                     energia                    zip   \n",
       "3  hacienda y credito publico                    pdf   \n",
       "4             reforma agraria                    zip   \n",
       "\n",
       "  cantidad_archivos_respuesta  \\\n",
       "0                         1.0   \n",
       "1                         1.0   \n",
       "2                         2.0   \n",
       "3                         1.0   \n",
       "4                         4.0   \n",
       "\n",
       "                             texto_respuesta_adjunto  \\\n",
       "0  pemex exploracion y produccion oficio fecha 02...   \n",
       "1  pemex exploracion y produccion oficio fecha 01...   \n",
       "2                                               None   \n",
       "3  inidos secretaria de hacienda y credito public...   \n",
       "4                                               None   \n",
       "\n",
       "                                 respuestareal calidad_respuesta  \\\n",
       "0  entrega de informacion en medio electronico     satisfactoria   \n",
       "1  entrega de informacion en medio electronico     satisfactoria   \n",
       "2    inexistencia de la informacion solicitada     no respondida   \n",
       "3  la informacion esta disponible publicamente     satisfactoria   \n",
       "4                                sin respuesta     satisfactoria   \n",
       "\n",
       "  calidad_respuesta_real solicitud_longitud  \\\n",
       "0          satisfactoria                768   \n",
       "1          satisfactoria                548   \n",
       "2          no respondida                269   \n",
       "3          satisfactoria                269   \n",
       "4          no respondida                398   \n",
       "\n",
       "                          descripcionsolicitud_lemma  \\\n",
       "0  copiar documento comportamiento historico tipi...   \n",
       "1  informacion usar flujo efectivo pozo tipico ag...   \n",
       "2  proporcionar magnetico relacion ocupar amparar...   \n",
       "3  proporcionar magnetico relacion ocupar amparar...   \n",
       "4  proporcionar magnetico relacion ocupar amparar...   \n",
       "\n",
       "  codigo_calidad_respuesta_real  \n",
       "0                             0  \n",
       "1                             0  \n",
       "2                             1  \n",
       "3                             0  \n",
       "4                             1  \n",
       "\n",
       "[5 rows x 29 columns]"
      ]
     },
     "execution_count": 6,
     "metadata": {},
     "output_type": "execute_result"
    }
   ],
   "source": [
    "df.head()"
   ]
  },
  {
   "cell_type": "markdown",
   "metadata": {},
   "source": [
    "## Implementación LDA"
   ]
  },
  {
   "cell_type": "markdown",
   "metadata": {},
   "source": [
    "Quitamos palabras identificadas en el primer analisis LDA validadas con SocialTIC."
   ]
  },
  {
   "cell_type": "code",
   "execution_count": 7,
   "metadata": {},
   "outputs": [],
   "source": [
    "banned = ['federativo', 'materia', 'activar', 'cargar', 'transparencia', 'poblacion', 'favor', \n",
    "          'directo', 'fecho', 'registrar', 'emplear', 'campar', 'atencion',\n",
    "          'pagar', 'reportar', 'publicos', 'encontrar', 'entidad',\n",
    "          'acceso', 'derecho', 'concepto', 'recurso', 'beneficiario', 'esperar', 'expedientar', 'basar',\n",
    "          'documento', 'presentar', 'clavar', 'personal', 'solucion', 'adjuntar', 'adjunto',\n",
    "          'respuesta','solicitud','solicitar', 'solicito', 'solicitamos', 'solicite', 'informacion', 'mexico', \n",
    "          'titular', 'copiar', 'copie', 'copiamos', 'dependencia', 'contratar', \n",
    "          'contrato', 'servicio', 'proyectar', 'proyectamos', 'proyecte', 'proyeccion', \n",
    "          'nacional', 'administrativo', 'correo', 'programar', 'programa',\n",
    "          'programacion', 'personar', 'edad', 'unidad', 'circuito']"
   ]
  },
  {
   "cell_type": "code",
   "execution_count": 8,
   "metadata": {},
   "outputs": [],
   "source": [
    "f = lambda x: ' '.join([item for item in x.split() if item not in banned])\n",
    "df['descripcionsolicitud_lemma'] = df['descripcionsolicitud_lemma'].apply(f)"
   ]
  },
  {
   "cell_type": "code",
   "execution_count": 9,
   "metadata": {},
   "outputs": [],
   "source": [
    "df['solicitud_lemma_longitud'] = df['descripcionsolicitud_lemma'].str.len()"
   ]
  },
  {
   "cell_type": "code",
   "execution_count": 10,
   "metadata": {
    "scrolled": true
   },
   "outputs": [
    {
     "data": {
      "text/html": [
       "<div>\n",
       "<style scoped>\n",
       "    .dataframe tbody tr th:only-of-type {\n",
       "        vertical-align: middle;\n",
       "    }\n",
       "\n",
       "    .dataframe tbody tr th {\n",
       "        vertical-align: top;\n",
       "    }\n",
       "\n",
       "    .dataframe thead th {\n",
       "        text-align: right;\n",
       "    }\n",
       "</style>\n",
       "<table border=\"1\" class=\"dataframe\">\n",
       "  <thead>\n",
       "    <tr style=\"text-align: right;\">\n",
       "      <th></th>\n",
       "      <th>folio</th>\n",
       "      <th>fechasolicitud</th>\n",
       "      <th>dependencia</th>\n",
       "      <th>estatus</th>\n",
       "      <th>medioentrada</th>\n",
       "      <th>tiposolicitud</th>\n",
       "      <th>descripcionsolicitud</th>\n",
       "      <th>otrosdatos</th>\n",
       "      <th>archivoadjuntosolicitud</th>\n",
       "      <th>medioentrega</th>\n",
       "      <th>...</th>\n",
       "      <th>tipo_archivo_respuesta</th>\n",
       "      <th>cantidad_archivos_respuesta</th>\n",
       "      <th>texto_respuesta_adjunto</th>\n",
       "      <th>respuestareal</th>\n",
       "      <th>calidad_respuesta</th>\n",
       "      <th>calidad_respuesta_real</th>\n",
       "      <th>solicitud_longitud</th>\n",
       "      <th>descripcionsolicitud_lemma</th>\n",
       "      <th>codigo_calidad_respuesta_real</th>\n",
       "      <th>solicitud_lemma_longitud</th>\n",
       "    </tr>\n",
       "  </thead>\n",
       "  <tbody>\n",
       "    <tr>\n",
       "      <th>0</th>\n",
       "      <td>1857500001912</td>\n",
       "      <td>2012-01-01 05:04:07</td>\n",
       "      <td>pemex exploracion y produccion</td>\n",
       "      <td>terminada</td>\n",
       "      <td>electronica</td>\n",
       "      <td>informacion publica</td>\n",
       "      <td>copia de los documentos y los con que cuenta a...</td>\n",
       "      <td>None</td>\n",
       "      <td>None</td>\n",
       "      <td>entrega por internet en el infomex</td>\n",
       "      <td>...</td>\n",
       "      <td>pdf</td>\n",
       "      <td>1.0</td>\n",
       "      <td>pemex exploracion y produccion oficio fecha 02...</td>\n",
       "      <td>entrega de informacion en medio electronico</td>\n",
       "      <td>satisfactoria</td>\n",
       "      <td>satisfactoria</td>\n",
       "      <td>768</td>\n",
       "      <td>comportamiento historico tipicos comprender es...</td>\n",
       "      <td>0</td>\n",
       "      <td>424</td>\n",
       "    </tr>\n",
       "    <tr>\n",
       "      <th>1</th>\n",
       "      <td>1857500002012</td>\n",
       "      <td>2012-01-01 05:13:16</td>\n",
       "      <td>pemex exploracion y produccion</td>\n",
       "      <td>terminada</td>\n",
       "      <td>electronica</td>\n",
       "      <td>informacion publica</td>\n",
       "      <td>del informacion y usados en la de flujo de efe...</td>\n",
       "      <td>None</td>\n",
       "      <td>None</td>\n",
       "      <td>entrega por internet en el infomex</td>\n",
       "      <td>...</td>\n",
       "      <td>pdf</td>\n",
       "      <td>1.0</td>\n",
       "      <td>pemex exploracion y produccion oficio fecha 01...</td>\n",
       "      <td>entrega de informacion en medio electronico</td>\n",
       "      <td>satisfactoria</td>\n",
       "      <td>satisfactoria</td>\n",
       "      <td>548</td>\n",
       "      <td>usar flujo efectivo pozo tipico aguar fria ela...</td>\n",
       "      <td>0</td>\n",
       "      <td>289</td>\n",
       "    </tr>\n",
       "    <tr>\n",
       "      <th>2</th>\n",
       "      <td>0001800000712</td>\n",
       "      <td>2012-01-01 09:46:39</td>\n",
       "      <td>secretaria de energia</td>\n",
       "      <td>terminada</td>\n",
       "      <td>electronica</td>\n",
       "      <td>informacion publica</td>\n",
       "      <td>se me proporcione en magnetico y por este medi...</td>\n",
       "      <td>None</td>\n",
       "      <td>None</td>\n",
       "      <td>entrega por internet en el infomex</td>\n",
       "      <td>...</td>\n",
       "      <td>zip</td>\n",
       "      <td>2.0</td>\n",
       "      <td>None</td>\n",
       "      <td>inexistencia de la informacion solicitada</td>\n",
       "      <td>no respondida</td>\n",
       "      <td>no respondida</td>\n",
       "      <td>269</td>\n",
       "      <td>proporcionar magnetico relacion ocupar amparar...</td>\n",
       "      <td>1</td>\n",
       "      <td>143</td>\n",
       "    </tr>\n",
       "    <tr>\n",
       "      <th>3</th>\n",
       "      <td>0000600003712</td>\n",
       "      <td>2012-01-01 10:11:41</td>\n",
       "      <td>secretaria de hacienda y credito publico</td>\n",
       "      <td>terminada</td>\n",
       "      <td>electronica</td>\n",
       "      <td>informacion publica</td>\n",
       "      <td>se me proporcione en magnetico y por este medi...</td>\n",
       "      <td>None</td>\n",
       "      <td>None</td>\n",
       "      <td>entrega por internet en el infomex</td>\n",
       "      <td>...</td>\n",
       "      <td>pdf</td>\n",
       "      <td>1.0</td>\n",
       "      <td>inidos secretaria de hacienda y credito public...</td>\n",
       "      <td>la informacion esta disponible publicamente</td>\n",
       "      <td>satisfactoria</td>\n",
       "      <td>satisfactoria</td>\n",
       "      <td>269</td>\n",
       "      <td>proporcionar magnetico relacion ocupar amparar...</td>\n",
       "      <td>0</td>\n",
       "      <td>143</td>\n",
       "    </tr>\n",
       "    <tr>\n",
       "      <th>4</th>\n",
       "      <td>0001500002812</td>\n",
       "      <td>2012-01-01 10:32:15</td>\n",
       "      <td>secretaria de desarrollo agrario territorial y...</td>\n",
       "      <td>terminada</td>\n",
       "      <td>electronica</td>\n",
       "      <td>informacion publica</td>\n",
       "      <td>se me proporcione en magnetico y por este medi...</td>\n",
       "      <td>None</td>\n",
       "      <td>None</td>\n",
       "      <td>entrega por internet en el infomex</td>\n",
       "      <td>...</td>\n",
       "      <td>zip</td>\n",
       "      <td>4.0</td>\n",
       "      <td>None</td>\n",
       "      <td>sin respuesta</td>\n",
       "      <td>satisfactoria</td>\n",
       "      <td>no respondida</td>\n",
       "      <td>398</td>\n",
       "      <td>proporcionar magnetico relacion ocupar amparar...</td>\n",
       "      <td>1</td>\n",
       "      <td>188</td>\n",
       "    </tr>\n",
       "  </tbody>\n",
       "</table>\n",
       "<p>5 rows × 30 columns</p>\n",
       "</div>"
      ],
      "text/plain": [
       "           folio      fechasolicitud  \\\n",
       "0  1857500001912 2012-01-01 05:04:07   \n",
       "1  1857500002012 2012-01-01 05:13:16   \n",
       "2  0001800000712 2012-01-01 09:46:39   \n",
       "3  0000600003712 2012-01-01 10:11:41   \n",
       "4  0001500002812 2012-01-01 10:32:15   \n",
       "\n",
       "                                         dependencia    estatus medioentrada  \\\n",
       "0                     pemex exploracion y produccion  terminada  electronica   \n",
       "1                     pemex exploracion y produccion  terminada  electronica   \n",
       "2                              secretaria de energia  terminada  electronica   \n",
       "3           secretaria de hacienda y credito publico  terminada  electronica   \n",
       "4  secretaria de desarrollo agrario territorial y...  terminada  electronica   \n",
       "\n",
       "         tiposolicitud                               descripcionsolicitud  \\\n",
       "0  informacion publica  copia de los documentos y los con que cuenta a...   \n",
       "1  informacion publica  del informacion y usados en la de flujo de efe...   \n",
       "2  informacion publica  se me proporcione en magnetico y por este medi...   \n",
       "3  informacion publica  se me proporcione en magnetico y por este medi...   \n",
       "4  informacion publica  se me proporcione en magnetico y por este medi...   \n",
       "\n",
       "  otrosdatos archivoadjuntosolicitud                        medioentrega  ...  \\\n",
       "0       None                    None  entrega por internet en el infomex  ...   \n",
       "1       None                    None  entrega por internet en el infomex  ...   \n",
       "2       None                    None  entrega por internet en el infomex  ...   \n",
       "3       None                    None  entrega por internet en el infomex  ...   \n",
       "4       None                    None  entrega por internet en el infomex  ...   \n",
       "\n",
       "  tipo_archivo_respuesta cantidad_archivos_respuesta  \\\n",
       "0                    pdf                         1.0   \n",
       "1                    pdf                         1.0   \n",
       "2                    zip                         2.0   \n",
       "3                    pdf                         1.0   \n",
       "4                    zip                         4.0   \n",
       "\n",
       "                             texto_respuesta_adjunto  \\\n",
       "0  pemex exploracion y produccion oficio fecha 02...   \n",
       "1  pemex exploracion y produccion oficio fecha 01...   \n",
       "2                                               None   \n",
       "3  inidos secretaria de hacienda y credito public...   \n",
       "4                                               None   \n",
       "\n",
       "                                 respuestareal calidad_respuesta  \\\n",
       "0  entrega de informacion en medio electronico     satisfactoria   \n",
       "1  entrega de informacion en medio electronico     satisfactoria   \n",
       "2    inexistencia de la informacion solicitada     no respondida   \n",
       "3  la informacion esta disponible publicamente     satisfactoria   \n",
       "4                                sin respuesta     satisfactoria   \n",
       "\n",
       "  calidad_respuesta_real solicitud_longitud  \\\n",
       "0          satisfactoria                768   \n",
       "1          satisfactoria                548   \n",
       "2          no respondida                269   \n",
       "3          satisfactoria                269   \n",
       "4          no respondida                398   \n",
       "\n",
       "                          descripcionsolicitud_lemma  \\\n",
       "0  comportamiento historico tipicos comprender es...   \n",
       "1  usar flujo efectivo pozo tipico aguar fria ela...   \n",
       "2  proporcionar magnetico relacion ocupar amparar...   \n",
       "3  proporcionar magnetico relacion ocupar amparar...   \n",
       "4  proporcionar magnetico relacion ocupar amparar...   \n",
       "\n",
       "  codigo_calidad_respuesta_real solicitud_lemma_longitud  \n",
       "0                             0                      424  \n",
       "1                             0                      289  \n",
       "2                             1                      143  \n",
       "3                             0                      143  \n",
       "4                             1                      188  \n",
       "\n",
       "[5 rows x 30 columns]"
      ]
     },
     "execution_count": 10,
     "metadata": {},
     "output_type": "execute_result"
    }
   ],
   "source": [
    "df.head()"
   ]
  },
  {
   "cell_type": "code",
   "execution_count": 11,
   "metadata": {},
   "outputs": [],
   "source": [
    "df_new = df[df['descripcionsolicitud_lemma'].map(len) > 15]"
   ]
  },
  {
   "cell_type": "code",
   "execution_count": 12,
   "metadata": {},
   "outputs": [
    {
     "data": {
      "text/plain": [
       "count    1.142011e+06\n",
       "mean     2.324750e+02\n",
       "std      2.612111e+02\n",
       "min      1.600000e+01\n",
       "25%      8.100000e+01\n",
       "50%      1.450000e+02\n",
       "75%      2.800000e+02\n",
       "max      3.681000e+03\n",
       "Name: solicitud_lemma_longitud, dtype: float64"
      ]
     },
     "execution_count": 12,
     "metadata": {},
     "output_type": "execute_result"
    }
   ],
   "source": [
    "df_new['solicitud_lemma_longitud'].describe()"
   ]
  },
  {
   "cell_type": "code",
   "execution_count": 13,
   "metadata": {},
   "outputs": [],
   "source": [
    "df_new['anosolicitud'] = pd.DatetimeIndex(df_new['fechasolicitud']).year"
   ]
  },
  {
   "cell_type": "code",
   "execution_count": 14,
   "metadata": {},
   "outputs": [
    {
     "data": {
      "text/html": [
       "<div>\n",
       "<style scoped>\n",
       "    .dataframe tbody tr th:only-of-type {\n",
       "        vertical-align: middle;\n",
       "    }\n",
       "\n",
       "    .dataframe tbody tr th {\n",
       "        vertical-align: top;\n",
       "    }\n",
       "\n",
       "    .dataframe thead th {\n",
       "        text-align: right;\n",
       "    }\n",
       "</style>\n",
       "<table border=\"1\" class=\"dataframe\">\n",
       "  <thead>\n",
       "    <tr style=\"text-align: right;\">\n",
       "      <th></th>\n",
       "      <th>folio</th>\n",
       "      <th>fechasolicitud</th>\n",
       "      <th>dependencia</th>\n",
       "      <th>estatus</th>\n",
       "      <th>medioentrada</th>\n",
       "      <th>tiposolicitud</th>\n",
       "      <th>descripcionsolicitud</th>\n",
       "      <th>otrosdatos</th>\n",
       "      <th>archivoadjuntosolicitud</th>\n",
       "      <th>medioentrega</th>\n",
       "      <th>...</th>\n",
       "      <th>cantidad_archivos_respuesta</th>\n",
       "      <th>texto_respuesta_adjunto</th>\n",
       "      <th>respuestareal</th>\n",
       "      <th>calidad_respuesta</th>\n",
       "      <th>calidad_respuesta_real</th>\n",
       "      <th>solicitud_longitud</th>\n",
       "      <th>descripcionsolicitud_lemma</th>\n",
       "      <th>codigo_calidad_respuesta_real</th>\n",
       "      <th>solicitud_lemma_longitud</th>\n",
       "      <th>anosolicitud</th>\n",
       "    </tr>\n",
       "  </thead>\n",
       "  <tbody>\n",
       "    <tr>\n",
       "      <th>0</th>\n",
       "      <td>1857500001912</td>\n",
       "      <td>2012-01-01 05:04:07</td>\n",
       "      <td>pemex exploracion y produccion</td>\n",
       "      <td>terminada</td>\n",
       "      <td>electronica</td>\n",
       "      <td>informacion publica</td>\n",
       "      <td>copia de los documentos y los con que cuenta a...</td>\n",
       "      <td>None</td>\n",
       "      <td>None</td>\n",
       "      <td>entrega por internet en el infomex</td>\n",
       "      <td>...</td>\n",
       "      <td>1.0</td>\n",
       "      <td>pemex exploracion y produccion oficio fecha 02...</td>\n",
       "      <td>entrega de informacion en medio electronico</td>\n",
       "      <td>satisfactoria</td>\n",
       "      <td>satisfactoria</td>\n",
       "      <td>768</td>\n",
       "      <td>comportamiento historico tipicos comprender es...</td>\n",
       "      <td>0</td>\n",
       "      <td>424</td>\n",
       "      <td>2012</td>\n",
       "    </tr>\n",
       "    <tr>\n",
       "      <th>1</th>\n",
       "      <td>1857500002012</td>\n",
       "      <td>2012-01-01 05:13:16</td>\n",
       "      <td>pemex exploracion y produccion</td>\n",
       "      <td>terminada</td>\n",
       "      <td>electronica</td>\n",
       "      <td>informacion publica</td>\n",
       "      <td>del informacion y usados en la de flujo de efe...</td>\n",
       "      <td>None</td>\n",
       "      <td>None</td>\n",
       "      <td>entrega por internet en el infomex</td>\n",
       "      <td>...</td>\n",
       "      <td>1.0</td>\n",
       "      <td>pemex exploracion y produccion oficio fecha 01...</td>\n",
       "      <td>entrega de informacion en medio electronico</td>\n",
       "      <td>satisfactoria</td>\n",
       "      <td>satisfactoria</td>\n",
       "      <td>548</td>\n",
       "      <td>usar flujo efectivo pozo tipico aguar fria ela...</td>\n",
       "      <td>0</td>\n",
       "      <td>289</td>\n",
       "      <td>2012</td>\n",
       "    </tr>\n",
       "    <tr>\n",
       "      <th>2</th>\n",
       "      <td>0001800000712</td>\n",
       "      <td>2012-01-01 09:46:39</td>\n",
       "      <td>secretaria de energia</td>\n",
       "      <td>terminada</td>\n",
       "      <td>electronica</td>\n",
       "      <td>informacion publica</td>\n",
       "      <td>se me proporcione en magnetico y por este medi...</td>\n",
       "      <td>None</td>\n",
       "      <td>None</td>\n",
       "      <td>entrega por internet en el infomex</td>\n",
       "      <td>...</td>\n",
       "      <td>2.0</td>\n",
       "      <td>None</td>\n",
       "      <td>inexistencia de la informacion solicitada</td>\n",
       "      <td>no respondida</td>\n",
       "      <td>no respondida</td>\n",
       "      <td>269</td>\n",
       "      <td>proporcionar magnetico relacion ocupar amparar...</td>\n",
       "      <td>1</td>\n",
       "      <td>143</td>\n",
       "      <td>2012</td>\n",
       "    </tr>\n",
       "    <tr>\n",
       "      <th>3</th>\n",
       "      <td>0000600003712</td>\n",
       "      <td>2012-01-01 10:11:41</td>\n",
       "      <td>secretaria de hacienda y credito publico</td>\n",
       "      <td>terminada</td>\n",
       "      <td>electronica</td>\n",
       "      <td>informacion publica</td>\n",
       "      <td>se me proporcione en magnetico y por este medi...</td>\n",
       "      <td>None</td>\n",
       "      <td>None</td>\n",
       "      <td>entrega por internet en el infomex</td>\n",
       "      <td>...</td>\n",
       "      <td>1.0</td>\n",
       "      <td>inidos secretaria de hacienda y credito public...</td>\n",
       "      <td>la informacion esta disponible publicamente</td>\n",
       "      <td>satisfactoria</td>\n",
       "      <td>satisfactoria</td>\n",
       "      <td>269</td>\n",
       "      <td>proporcionar magnetico relacion ocupar amparar...</td>\n",
       "      <td>0</td>\n",
       "      <td>143</td>\n",
       "      <td>2012</td>\n",
       "    </tr>\n",
       "    <tr>\n",
       "      <th>4</th>\n",
       "      <td>0001500002812</td>\n",
       "      <td>2012-01-01 10:32:15</td>\n",
       "      <td>secretaria de desarrollo agrario territorial y...</td>\n",
       "      <td>terminada</td>\n",
       "      <td>electronica</td>\n",
       "      <td>informacion publica</td>\n",
       "      <td>se me proporcione en magnetico y por este medi...</td>\n",
       "      <td>None</td>\n",
       "      <td>None</td>\n",
       "      <td>entrega por internet en el infomex</td>\n",
       "      <td>...</td>\n",
       "      <td>4.0</td>\n",
       "      <td>None</td>\n",
       "      <td>sin respuesta</td>\n",
       "      <td>satisfactoria</td>\n",
       "      <td>no respondida</td>\n",
       "      <td>398</td>\n",
       "      <td>proporcionar magnetico relacion ocupar amparar...</td>\n",
       "      <td>1</td>\n",
       "      <td>188</td>\n",
       "      <td>2012</td>\n",
       "    </tr>\n",
       "  </tbody>\n",
       "</table>\n",
       "<p>5 rows × 31 columns</p>\n",
       "</div>"
      ],
      "text/plain": [
       "           folio      fechasolicitud  \\\n",
       "0  1857500001912 2012-01-01 05:04:07   \n",
       "1  1857500002012 2012-01-01 05:13:16   \n",
       "2  0001800000712 2012-01-01 09:46:39   \n",
       "3  0000600003712 2012-01-01 10:11:41   \n",
       "4  0001500002812 2012-01-01 10:32:15   \n",
       "\n",
       "                                         dependencia    estatus medioentrada  \\\n",
       "0                     pemex exploracion y produccion  terminada  electronica   \n",
       "1                     pemex exploracion y produccion  terminada  electronica   \n",
       "2                              secretaria de energia  terminada  electronica   \n",
       "3           secretaria de hacienda y credito publico  terminada  electronica   \n",
       "4  secretaria de desarrollo agrario territorial y...  terminada  electronica   \n",
       "\n",
       "         tiposolicitud                               descripcionsolicitud  \\\n",
       "0  informacion publica  copia de los documentos y los con que cuenta a...   \n",
       "1  informacion publica  del informacion y usados en la de flujo de efe...   \n",
       "2  informacion publica  se me proporcione en magnetico y por este medi...   \n",
       "3  informacion publica  se me proporcione en magnetico y por este medi...   \n",
       "4  informacion publica  se me proporcione en magnetico y por este medi...   \n",
       "\n",
       "  otrosdatos archivoadjuntosolicitud                        medioentrega  ...  \\\n",
       "0       None                    None  entrega por internet en el infomex  ...   \n",
       "1       None                    None  entrega por internet en el infomex  ...   \n",
       "2       None                    None  entrega por internet en el infomex  ...   \n",
       "3       None                    None  entrega por internet en el infomex  ...   \n",
       "4       None                    None  entrega por internet en el infomex  ...   \n",
       "\n",
       "  cantidad_archivos_respuesta  \\\n",
       "0                         1.0   \n",
       "1                         1.0   \n",
       "2                         2.0   \n",
       "3                         1.0   \n",
       "4                         4.0   \n",
       "\n",
       "                             texto_respuesta_adjunto  \\\n",
       "0  pemex exploracion y produccion oficio fecha 02...   \n",
       "1  pemex exploracion y produccion oficio fecha 01...   \n",
       "2                                               None   \n",
       "3  inidos secretaria de hacienda y credito public...   \n",
       "4                                               None   \n",
       "\n",
       "                                 respuestareal calidad_respuesta  \\\n",
       "0  entrega de informacion en medio electronico     satisfactoria   \n",
       "1  entrega de informacion en medio electronico     satisfactoria   \n",
       "2    inexistencia de la informacion solicitada     no respondida   \n",
       "3  la informacion esta disponible publicamente     satisfactoria   \n",
       "4                                sin respuesta     satisfactoria   \n",
       "\n",
       "  calidad_respuesta_real solicitud_longitud  \\\n",
       "0          satisfactoria                768   \n",
       "1          satisfactoria                548   \n",
       "2          no respondida                269   \n",
       "3          satisfactoria                269   \n",
       "4          no respondida                398   \n",
       "\n",
       "                          descripcionsolicitud_lemma  \\\n",
       "0  comportamiento historico tipicos comprender es...   \n",
       "1  usar flujo efectivo pozo tipico aguar fria ela...   \n",
       "2  proporcionar magnetico relacion ocupar amparar...   \n",
       "3  proporcionar magnetico relacion ocupar amparar...   \n",
       "4  proporcionar magnetico relacion ocupar amparar...   \n",
       "\n",
       "  codigo_calidad_respuesta_real solicitud_lemma_longitud anosolicitud  \n",
       "0                             0                      424         2012  \n",
       "1                             0                      289         2012  \n",
       "2                             1                      143         2012  \n",
       "3                             0                      143         2012  \n",
       "4                             1                      188         2012  \n",
       "\n",
       "[5 rows x 31 columns]"
      ]
     },
     "execution_count": 14,
     "metadata": {},
     "output_type": "execute_result"
    }
   ],
   "source": [
    "df_new.head()"
   ]
  },
  {
   "cell_type": "markdown",
   "metadata": {},
   "source": [
    "# 2012"
   ]
  },
  {
   "cell_type": "code",
   "execution_count": 15,
   "metadata": {},
   "outputs": [],
   "source": [
    "filtro = df_new['anosolicitud'] == 2012\n",
    "df_2012 = df_new[filtro]"
   ]
  },
  {
   "cell_type": "code",
   "execution_count": 16,
   "metadata": {},
   "outputs": [
    {
     "name": "stdout",
     "output_type": "stream",
     "text": [
      "<class 'pandas.core.frame.DataFrame'>\n",
      "Int64Index: 87022 entries, 0 to 652131\n",
      "Data columns (total 31 columns):\n",
      " #   Column                         Non-Null Count  Dtype         \n",
      "---  ------                         --------------  -----         \n",
      " 0   folio                          87022 non-null  object        \n",
      " 1   fechasolicitud                 87022 non-null  datetime64[ns]\n",
      " 2   dependencia                    87022 non-null  object        \n",
      " 3   estatus                        87022 non-null  object        \n",
      " 4   medioentrada                   87022 non-null  object        \n",
      " 5   tiposolicitud                  87022 non-null  object        \n",
      " 6   descripcionsolicitud           87022 non-null  object        \n",
      " 7   otrosdatos                     87022 non-null  object        \n",
      " 8   archivoadjuntosolicitud        87022 non-null  object        \n",
      " 9   medioentrega                   87022 non-null  object        \n",
      " 10  fechalimite                    82412 non-null  datetime64[ns]\n",
      " 11  respuesta                      87022 non-null  object        \n",
      " 12  textorespuesta                 87022 non-null  object        \n",
      " 13  archivorespuesta               87022 non-null  object        \n",
      " 14  fecharespuesta                 87022 non-null  datetime64[ns]\n",
      " 15  pais                           87022 non-null  object        \n",
      " 16  estado                         87022 non-null  object        \n",
      " 17  municipio                      87022 non-null  object        \n",
      " 18  codigopostal                   87022 non-null  object        \n",
      " 19  sector                         87022 non-null  object        \n",
      " 20  tipo_archivo_respuesta         87022 non-null  object        \n",
      " 21  cantidad_archivos_respuesta    68371 non-null  float64       \n",
      " 22  texto_respuesta_adjunto        87022 non-null  object        \n",
      " 23  respuestareal                  87022 non-null  object        \n",
      " 24  calidad_respuesta              87022 non-null  object        \n",
      " 25  calidad_respuesta_real         87022 non-null  object        \n",
      " 26  solicitud_longitud             87022 non-null  int64         \n",
      " 27  descripcionsolicitud_lemma     87022 non-null  object        \n",
      " 28  codigo_calidad_respuesta_real  87022 non-null  int64         \n",
      " 29  solicitud_lemma_longitud       87022 non-null  int64         \n",
      " 30  anosolicitud                   87022 non-null  int64         \n",
      "dtypes: datetime64[ns](3), float64(1), int64(4), object(23)\n",
      "memory usage: 21.2+ MB\n"
     ]
    }
   ],
   "source": [
    "df_2012.info()"
   ]
  },
  {
   "cell_type": "code",
   "execution_count": 17,
   "metadata": {},
   "outputs": [],
   "source": [
    "data = df_2012[['descripcionsolicitud_lemma']]\n",
    "data['index'] = data.index\n",
    "docs = data"
   ]
  },
  {
   "cell_type": "code",
   "execution_count": 18,
   "metadata": {},
   "outputs": [
    {
     "data": {
      "text/html": [
       "<div>\n",
       "<style scoped>\n",
       "    .dataframe tbody tr th:only-of-type {\n",
       "        vertical-align: middle;\n",
       "    }\n",
       "\n",
       "    .dataframe tbody tr th {\n",
       "        vertical-align: top;\n",
       "    }\n",
       "\n",
       "    .dataframe thead th {\n",
       "        text-align: right;\n",
       "    }\n",
       "</style>\n",
       "<table border=\"1\" class=\"dataframe\">\n",
       "  <thead>\n",
       "    <tr style=\"text-align: right;\">\n",
       "      <th></th>\n",
       "      <th>descripcionsolicitud_lemma</th>\n",
       "      <th>index</th>\n",
       "    </tr>\n",
       "  </thead>\n",
       "  <tbody>\n",
       "    <tr>\n",
       "      <th>0</th>\n",
       "      <td>comportamiento historico tipicos comprender es...</td>\n",
       "      <td>0</td>\n",
       "    </tr>\n",
       "    <tr>\n",
       "      <th>1</th>\n",
       "      <td>usar flujo efectivo pozo tipico aguar fria ela...</td>\n",
       "      <td>1</td>\n",
       "    </tr>\n",
       "    <tr>\n",
       "      <th>2</th>\n",
       "      <td>proporcionar magnetico relacion ocupar amparar...</td>\n",
       "      <td>2</td>\n",
       "    </tr>\n",
       "    <tr>\n",
       "      <th>3</th>\n",
       "      <td>proporcionar magnetico relacion ocupar amparar...</td>\n",
       "      <td>3</td>\n",
       "    </tr>\n",
       "    <tr>\n",
       "      <th>4</th>\n",
       "      <td>proporcionar magnetico relacion ocupar amparar...</td>\n",
       "      <td>4</td>\n",
       "    </tr>\n",
       "  </tbody>\n",
       "</table>\n",
       "</div>"
      ],
      "text/plain": [
       "                          descripcionsolicitud_lemma  index\n",
       "0  comportamiento historico tipicos comprender es...      0\n",
       "1  usar flujo efectivo pozo tipico aguar fria ela...      1\n",
       "2  proporcionar magnetico relacion ocupar amparar...      2\n",
       "3  proporcionar magnetico relacion ocupar amparar...      3\n",
       "4  proporcionar magnetico relacion ocupar amparar...      4"
      ]
     },
     "execution_count": 18,
     "metadata": {},
     "output_type": "execute_result"
    }
   ],
   "source": [
    "docs.head()"
   ]
  },
  {
   "cell_type": "code",
   "execution_count": 19,
   "metadata": {},
   "outputs": [],
   "source": [
    "import spacy\n",
    "import nltk\n",
    "from nltk import SnowballStemmer"
   ]
  },
  {
   "cell_type": "code",
   "execution_count": 20,
   "metadata": {},
   "outputs": [],
   "source": [
    "nlp = spacy.load('es_core_news_sm')"
   ]
  },
  {
   "cell_type": "code",
   "execution_count": 21,
   "metadata": {},
   "outputs": [],
   "source": [
    "def ProcesarTexto(texto):\n",
    "    \n",
    "    doc = nlp(texto)\n",
    "    words = [t.text for t in doc]\n",
    "    \n",
    "    return words"
   ]
  },
  {
   "cell_type": "code",
   "execution_count": 22,
   "metadata": {},
   "outputs": [],
   "source": [
    "import multiprocessing\n",
    "from multiprocessing.dummy import Pool as ThreadPool"
   ]
  },
  {
   "cell_type": "code",
   "execution_count": 23,
   "metadata": {},
   "outputs": [
    {
     "data": {
      "text/plain": [
       "12"
      ]
     },
     "execution_count": 23,
     "metadata": {},
     "output_type": "execute_result"
    }
   ],
   "source": [
    "cores = multiprocessing.cpu_count()\n",
    "pool = ThreadPool(cores)\n",
    "cores"
   ]
  },
  {
   "cell_type": "code",
   "execution_count": 24,
   "metadata": {},
   "outputs": [],
   "source": [
    "processed_docs = pool.map(ProcesarTexto, docs['descripcionsolicitud_lemma'])\n",
    "pool.close()"
   ]
  },
  {
   "cell_type": "code",
   "execution_count": 25,
   "metadata": {},
   "outputs": [],
   "source": [
    "import gensim"
   ]
  },
  {
   "cell_type": "code",
   "execution_count": 26,
   "metadata": {},
   "outputs": [],
   "source": [
    "dictionary = gensim.corpora.Dictionary(processed_docs)"
   ]
  },
  {
   "cell_type": "code",
   "execution_count": 27,
   "metadata": {},
   "outputs": [],
   "source": [
    "dictionary.filter_extremes(no_below=15, no_above=0.5, keep_n=100000)"
   ]
  },
  {
   "cell_type": "code",
   "execution_count": 28,
   "metadata": {},
   "outputs": [],
   "source": [
    "bow_corpus = [dictionary.doc2bow(doc) for doc in processed_docs]"
   ]
  },
  {
   "cell_type": "code",
   "execution_count": 29,
   "metadata": {},
   "outputs": [],
   "source": [
    "from gensim import corpora, models\n",
    "from pprint import pprint"
   ]
  },
  {
   "cell_type": "code",
   "execution_count": 30,
   "metadata": {},
   "outputs": [],
   "source": [
    "tfidf = models.TfidfModel(bow_corpus)\n",
    "corpus_tfidf = tfidf[bow_corpus]"
   ]
  },
  {
   "cell_type": "markdown",
   "metadata": {},
   "source": [
    "### 5 tópicos TF-IDF"
   ]
  },
  {
   "cell_type": "code",
   "execution_count": 31,
   "metadata": {},
   "outputs": [],
   "source": [
    "lda_model_tfidf_5 = gensim.models.LdaMulticore(corpus_tfidf, \n",
    "                                            num_topics=5,\n",
    "                                            id2word=dictionary,\n",
    "                                            passes=2,\n",
    "                                            workers=cores)"
   ]
  },
  {
   "cell_type": "code",
   "execution_count": 32,
   "metadata": {},
   "outputs": [
    {
     "name": "stdout",
     "output_type": "stream",
     "text": [
      "Topic: 0 Word: 0.005*\"federal\" + 0.004*\"montar\" + 0.004*\"licitacion\" + 0.004*\"secretario\" + 0.003*\"relacion\" + 0.003*\"requerir\" + 0.003*\"profesional\" + 0.003*\"municipio\" + 0.003*\"correspondiente\" + 0.003*\"informar\"\n",
      "Topic: 1 Word: 0.005*\"imss\" + 0.004*\"medicar\" + 0.004*\"federal\" + 0.004*\"trabajador\" + 0.004*\"medicamento\" + 0.004*\"periodo\" + 0.004*\"secretario\" + 0.004*\"hepatitis\" + 0.003*\"requerir\" + 0.003*\"informar\"\n",
      "Topic: 2 Word: 0.007*\"secretario\" + 0.005*\"presupuestar\" + 0.005*\"publicar\" + 0.004*\"salud\" + 0.004*\"seguridad\" + 0.004*\"federal\" + 0.004*\"montar\" + 0.003*\"requerir\" + 0.003*\"obrar\" + 0.003*\"destinar\"\n",
      "Topic: 3 Word: 0.010*\"pieza\" + 0.009*\"existencia\" + 0.009*\"medicamento\" + 0.008*\"inventario\" + 0.006*\"cuadrar\" + 0.006*\"social\" + 0.006*\"basico\" + 0.006*\"seguro\" + 0.006*\"almacen\" + 0.006*\"infomex\"\n",
      "Topic: 4 Word: 0.006*\"federal\" + 0.005*\"tarde\" + 0.005*\"generar\" + 0.004*\"tener\" + 0.004*\"morbilidad\" + 0.004*\"excelente\" + 0.004*\"municipio\" + 0.004*\"montar\" + 0.003*\"institucion\" + 0.003*\"hospital\"\n"
     ]
    }
   ],
   "source": [
    "for idx, topic in lda_model_tfidf_5.print_topics(-1):\n",
    "    print('Topic: {} Word: {}'.format(idx, topic))"
   ]
  },
  {
   "cell_type": "markdown",
   "metadata": {},
   "source": [
    "### 10 tópicos TF-IDF"
   ]
  },
  {
   "cell_type": "code",
   "execution_count": 33,
   "metadata": {},
   "outputs": [],
   "source": [
    "lda_model_tfidf_10 = gensim.models.LdaMulticore(corpus_tfidf, \n",
    "                                            num_topics=10,\n",
    "                                            id2word=dictionary,\n",
    "                                            passes=2,\n",
    "                                            workers=cores)"
   ]
  },
  {
   "cell_type": "code",
   "execution_count": 34,
   "metadata": {},
   "outputs": [
    {
     "name": "stdout",
     "output_type": "stream",
     "text": [
      "Topic: 0 Word: 0.010*\"imss\" + 0.010*\"excelente\" + 0.009*\"desagregar\" + 0.009*\"hospital\" + 0.009*\"consecutivo\" + 0.008*\"virus\" + 0.008*\"diagnosticar\" + 0.008*\"sexo\" + 0.008*\"hospitalario\" + 0.008*\"numeros\"\n",
      "Topic: 1 Word: 0.013*\"medicamento\" + 0.012*\"medicar\" + 0.007*\"pieza\" + 0.006*\"fundamentar\" + 0.006*\"hospital\" + 0.006*\"periodo\" + 0.005*\"paciente\" + 0.005*\"recetar\" + 0.005*\"aplicar\" + 0.005*\"parrafo\"\n",
      "Topic: 2 Word: 0.006*\"municipio\" + 0.005*\"secretario\" + 0.005*\"federal\" + 0.004*\"publicar\" + 0.004*\"director\" + 0.003*\"gobernar\" + 0.003*\"informar\" + 0.003*\"casar\" + 0.003*\"documentar\" + 0.003*\"plaza\"\n",
      "Topic: 3 Word: 0.008*\"hepatitis\" + 0.006*\"federal\" + 0.005*\"requerir\" + 0.005*\"tarde\" + 0.005*\"morbilidad\" + 0.004*\"secretario\" + 0.004*\"delito\" + 0.004*\"gracia\" + 0.003*\"educacion\" + 0.003*\"escuela\"\n",
      "Topic: 4 Word: 0.006*\"secretario\" + 0.006*\"pemex\" + 0.005*\"federal\" + 0.004*\"municipio\" + 0.004*\"informar\" + 0.004*\"casar\" + 0.004*\"montar\" + 0.004*\"seguridad\" + 0.004*\"presupuestar\" + 0.003*\"aguar\"\n",
      "Topic: 5 Word: 0.006*\"institucion\" + 0.005*\"apellido\" + 0.005*\"sistema\" + 0.005*\"clausular\" + 0.005*\"oficio\" + 0.005*\"querer\" + 0.005*\"montar\" + 0.005*\"federal\" + 0.005*\"finar\" + 0.005*\"academicos\"\n",
      "Topic: 6 Word: 0.015*\"existencia\" + 0.013*\"seguro\" + 0.013*\"inventario\" + 0.010*\"pieza\" + 0.009*\"delegacion\" + 0.009*\"instituto\" + 0.009*\"mexicano\" + 0.008*\"social\" + 0.008*\"documentar\" + 0.007*\"almacen\"\n",
      "Topic: 7 Word: 0.006*\"presupuestar\" + 0.004*\"secretario\" + 0.004*\"destinar\" + 0.004*\"federal\" + 0.004*\"universidad\" + 0.004*\"informar\" + 0.004*\"municipio\" + 0.004*\"casar\" + 0.004*\"santo\" + 0.003*\"estudiante\"\n",
      "Topic: 8 Word: 0.010*\"inconformidad\" + 0.008*\"tramitar\" + 0.006*\"sanitario\" + 0.006*\"entregar\" + 0.005*\"recibir\" + 0.005*\"periodo\" + 0.005*\"resolver\" + 0.005*\"procesar\" + 0.005*\"portal\" + 0.005*\"publicar\"\n",
      "Topic: 9 Word: 0.004*\"federal\" + 0.004*\"aguar\" + 0.004*\"presupuestar\" + 0.004*\"acta\" + 0.004*\"municipio\" + 0.003*\"secretario\" + 0.003*\"direccion\" + 0.003*\"santo\" + 0.003*\"informar\" + 0.003*\"tecnologias\"\n"
     ]
    }
   ],
   "source": [
    "for idx, topic in lda_model_tfidf_10.print_topics(-1):\n",
    "    print('Topic: {} Word: {}'.format(idx, topic))"
   ]
  },
  {
   "cell_type": "markdown",
   "metadata": {},
   "source": [
    "### 20 tópicos TF-IDF"
   ]
  },
  {
   "cell_type": "code",
   "execution_count": 35,
   "metadata": {},
   "outputs": [],
   "source": [
    "lda_model_tfidf_20 = gensim.models.LdaMulticore(corpus_tfidf, \n",
    "                                            num_topics=20,\n",
    "                                            id2word=dictionary,\n",
    "                                            passes=2,\n",
    "                                            workers=cores)"
   ]
  },
  {
   "cell_type": "code",
   "execution_count": 36,
   "metadata": {},
   "outputs": [
    {
     "name": "stdout",
     "output_type": "stream",
     "text": [
      "Topic: 0 Word: 0.008*\"tabulador\" + 0.006*\"sueldo\" + 0.006*\"federal\" + 0.005*\"certificar\" + 0.005*\"secretario\" + 0.004*\"nivel\" + 0.004*\"periodo\" + 0.004*\"social\" + 0.004*\"trabajador\" + 0.004*\"silla\"\n",
      "Topic: 1 Word: 0.017*\"medicar\" + 0.015*\"consecutivo\" + 0.013*\"diagnosticar\" + 0.013*\"numeros\" + 0.013*\"hospitalario\" + 0.013*\"desagregar\" + 0.013*\"virus\" + 0.012*\"imss\" + 0.012*\"sexo\" + 0.012*\"especialidad\"\n",
      "Topic: 2 Word: 0.010*\"usuario\" + 0.009*\"comprador\" + 0.008*\"trabajar\" + 0.007*\"dato\" + 0.007*\"contactar\" + 0.007*\"afirmativo\" + 0.007*\"publicar\" + 0.006*\"informar\" + 0.006*\"secretario\" + 0.006*\"considerar\"\n",
      "Topic: 3 Word: 0.013*\"morbilidad\" + 0.013*\"tarde\" + 0.013*\"tener\" + 0.013*\"excelente\" + 0.012*\"generar\" + 0.010*\"inconformidad\" + 0.010*\"hospital\" + 0.008*\"gobernar\" + 0.007*\"portal\" + 0.005*\"federal\"\n",
      "Topic: 4 Word: 0.006*\"licitacion\" + 0.006*\"acta\" + 0.005*\"aguar\" + 0.005*\"secretario\" + 0.004*\"federal\" + 0.004*\"dictaminacion\" + 0.004*\"santo\" + 0.004*\"calificacion\" + 0.004*\"obrar\" + 0.004*\"convocatorio\"\n",
      "Topic: 5 Word: 0.011*\"clausular\" + 0.005*\"documentar\" + 0.005*\"obrar\" + 0.005*\"firmar\" + 0.005*\"publicar\" + 0.005*\"constar\" + 0.005*\"siniestro\" + 0.004*\"montar\" + 0.004*\"secretario\" + 0.004*\"bien\"\n",
      "Topic: 6 Word: 0.005*\"federal\" + 0.005*\"becar\" + 0.004*\"educacion\" + 0.004*\"etcétera\" + 0.004*\"montar\" + 0.004*\"presupuestar\" + 0.004*\"superior\" + 0.004*\"resistencia\" + 0.003*\"gastar\" + 0.003*\"secretario\"\n",
      "Topic: 7 Word: 0.009*\"cuestionario\" + 0.008*\"contestar\" + 0.007*\"municipio\" + 0.005*\"pemex\" + 0.004*\"formato\" + 0.004*\"federal\" + 0.004*\"publicar\" + 0.004*\"educacion\" + 0.004*\"alumbrar\" + 0.004*\"proporcionar\"\n",
      "Topic: 8 Word: 0.020*\"pieza\" + 0.019*\"existencia\" + 0.018*\"inventario\" + 0.015*\"medicamento\" + 0.015*\"seguro\" + 0.013*\"almacen\" + 0.012*\"basico\" + 0.011*\"cuadrar\" + 0.011*\"instituto\" + 0.010*\"delegacion\"\n",
      "Topic: 9 Word: 0.005*\"secretario\" + 0.004*\"progresivo\" + 0.003*\"informar\" + 0.003*\"montar\" + 0.003*\"ambiental\" + 0.003*\"desglosar\" + 0.003*\"federal\" + 0.003*\"administracion\" + 0.003*\"sociedad\" + 0.003*\"casar\"\n",
      "Topic: 10 Word: 0.006*\"federal\" + 0.006*\"secretario\" + 0.005*\"control\" + 0.005*\"informar\" + 0.005*\"juicio\" + 0.005*\"presupuestar\" + 0.004*\"administracion\" + 0.004*\"destinar\" + 0.004*\"nancy\" + 0.004*\"tribunal\"\n",
      "Topic: 11 Word: 0.013*\"sanitario\" + 0.012*\"tramitar\" + 0.011*\"masculino\" + 0.009*\"condonar\" + 0.009*\"entregar\" + 0.009*\"cofepris\" + 0.009*\"contraloria\" + 0.008*\"poder\" + 0.008*\"latex\" + 0.008*\"infomex\"\n",
      "Topic: 12 Word: 0.011*\"oficio\" + 0.011*\"consultar\" + 0.010*\"informatico\" + 0.010*\"querer\" + 0.010*\"unam\" + 0.010*\"academicos\" + 0.010*\"detectar\" + 0.010*\"radiar\" + 0.010*\"finar\" + 0.010*\"registro\"\n",
      "Topic: 13 Word: 0.006*\"vacante\" + 0.005*\"federal\" + 0.005*\"secretario\" + 0.004*\"trabajador\" + 0.004*\"publicar\" + 0.004*\"corporativo\" + 0.004*\"junto\" + 0.004*\"honorario\" + 0.004*\"sindicato\" + 0.004*\"direccion\"\n",
      "Topic: 14 Word: 0.015*\"apellido\" + 0.011*\"cotizacion\" + 0.009*\"asegurar\" + 0.008*\"sexo\" + 0.008*\"desempena\" + 0.008*\"confianza\" + 0.008*\"relacion\" + 0.007*\"ingresar\" + 0.007*\"auxiliar\" + 0.007*\"soldar\"\n",
      "Topic: 15 Word: 0.006*\"montar\" + 0.005*\"federal\" + 0.004*\"pensionar\" + 0.004*\"medicamento\" + 0.004*\"trabajador\" + 0.004*\"destinatario\" + 0.003*\"correspondiente\" + 0.003*\"informar\" + 0.003*\"casar\" + 0.003*\"tipo\"\n",
      "Topic: 16 Word: 0.010*\"aplicar\" + 0.007*\"perfil\" + 0.007*\"tecnologias\" + 0.007*\"psicopatia\" + 0.007*\"psicometricas\" + 0.007*\"lealtad\" + 0.007*\"enfocar\" + 0.007*\"tarde\" + 0.006*\"escuela\" + 0.006*\"analisis\"\n",
      "Topic: 17 Word: 0.019*\"hepatitis\" + 0.008*\"consumible\" + 0.005*\"delegacion\" + 0.005*\"negacion\" + 0.005*\"virus\" + 0.004*\"imss\" + 0.004*\"centrar\" + 0.004*\"sida\" + 0.003*\"apoyar\" + 0.003*\"preferencia\"\n",
      "Topic: 18 Word: 0.006*\"federal\" + 0.005*\"auditorio\" + 0.004*\"informar\" + 0.004*\"fiscal\" + 0.004*\"control\" + 0.004*\"municipio\" + 0.004*\"administracion\" + 0.004*\"requerir\" + 0.003*\"deuda\" + 0.003*\"externo\"\n",
      "Topic: 19 Word: 0.009*\"lubricante\" + 0.007*\"calderon\" + 0.007*\"felipe\" + 0.006*\"federal\" + 0.004*\"secretario\" + 0.004*\"hinojosa\" + 0.004*\"sexenio\" + 0.004*\"permiso\" + 0.004*\"area\" + 0.003*\"quimico\"\n"
     ]
    }
   ],
   "source": [
    "for idx, topic in lda_model_tfidf_20.print_topics(-1):\n",
    "    print('Topic: {} Word: {}'.format(idx, topic))"
   ]
  },
  {
   "cell_type": "markdown",
   "metadata": {},
   "source": [
    "### Guardamos en S3"
   ]
  },
  {
   "cell_type": "code",
   "execution_count": 37,
   "metadata": {},
   "outputs": [
    {
     "data": {
      "text/plain": [
       "{'ResponseMetadata': {'RequestId': '3A73112D6F387002',\n",
       "  'HostId': 'o8jjUqXIF4rm5TkK9fKuQdbL3mO4p8wFWSOAMKkdMWFFN8w8mPtHX023Pmb5YGh6lcJWAsZ4j7g=',\n",
       "  'HTTPStatusCode': 200,\n",
       "  'HTTPHeaders': {'x-amz-id-2': 'o8jjUqXIF4rm5TkK9fKuQdbL3mO4p8wFWSOAMKkdMWFFN8w8mPtHX023Pmb5YGh6lcJWAsZ4j7g=',\n",
       "   'x-amz-request-id': '3A73112D6F387002',\n",
       "   'date': 'Thu, 30 Jul 2020 16:50:38 GMT',\n",
       "   'etag': '\"0513246133c4bf08fe3804235e65837b\"',\n",
       "   'content-length': '0',\n",
       "   'server': 'AmazonS3'},\n",
       "  'RetryAttempts': 0},\n",
       " 'ETag': '\"0513246133c4bf08fe3804235e65837b\"'}"
      ]
     },
     "execution_count": 37,
     "metadata": {},
     "output_type": "execute_result"
    }
   ],
   "source": [
    "bucket='inai-summerofdata'\n",
    "key='modeling/LDA/3/2012/df_2012.pkl'\n",
    "pickle_byte_obj = pickle.dumps(df_2012)\n",
    "s3_resource = boto3.resource('s3')\n",
    "s3_resource.Object(bucket, key).put(Body=pickle_byte_obj)"
   ]
  },
  {
   "cell_type": "code",
   "execution_count": 38,
   "metadata": {},
   "outputs": [
    {
     "data": {
      "text/plain": [
       "{'ResponseMetadata': {'RequestId': '53E4D906E40F3AE0',\n",
       "  'HostId': 'etPll+TlI3xcMMm6Qwd20yCdDQte72aD7XdDaKQLjtbziE39MY57ElOBGNyZ2YUcOMpHH44J/o8=',\n",
       "  'HTTPStatusCode': 200,\n",
       "  'HTTPHeaders': {'x-amz-id-2': 'etPll+TlI3xcMMm6Qwd20yCdDQte72aD7XdDaKQLjtbziE39MY57ElOBGNyZ2YUcOMpHH44J/o8=',\n",
       "   'x-amz-request-id': '53E4D906E40F3AE0',\n",
       "   'date': 'Thu, 30 Jul 2020 16:51:15 GMT',\n",
       "   'etag': '\"4a42eff23258cba74ebc1ac3be93dc91\"',\n",
       "   'content-length': '0',\n",
       "   'server': 'AmazonS3'},\n",
       "  'RetryAttempts': 0},\n",
       " 'ETag': '\"4a42eff23258cba74ebc1ac3be93dc91\"'}"
      ]
     },
     "execution_count": 38,
     "metadata": {},
     "output_type": "execute_result"
    }
   ],
   "source": [
    "bucket='inai-summerofdata'\n",
    "key='modeling/LDA/3/2012/processed_docs.pkl'\n",
    "pickle_byte_obj = pickle.dumps(processed_docs)\n",
    "s3_resource = boto3.resource('s3')\n",
    "s3_resource.Object(bucket, key).put(Body=pickle_byte_obj)"
   ]
  },
  {
   "cell_type": "code",
   "execution_count": 39,
   "metadata": {},
   "outputs": [
    {
     "data": {
      "text/plain": [
       "{'ResponseMetadata': {'RequestId': 'A0A95F327D7BE6DD',\n",
       "  'HostId': 'SFpTom//7mM+AXUn8HSEEQBsOSMnQBlfCUhVYlvatcgx4vUTBLuA0Cph59pN7gaOV40dVxQ38kA=',\n",
       "  'HTTPStatusCode': 200,\n",
       "  'HTTPHeaders': {'x-amz-id-2': 'SFpTom//7mM+AXUn8HSEEQBsOSMnQBlfCUhVYlvatcgx4vUTBLuA0Cph59pN7gaOV40dVxQ38kA=',\n",
       "   'x-amz-request-id': 'A0A95F327D7BE6DD',\n",
       "   'date': 'Thu, 30 Jul 2020 16:51:29 GMT',\n",
       "   'etag': '\"0bfa0bd35975e4fd953efd567d660a0a\"',\n",
       "   'content-length': '0',\n",
       "   'server': 'AmazonS3'},\n",
       "  'RetryAttempts': 0},\n",
       " 'ETag': '\"0bfa0bd35975e4fd953efd567d660a0a\"'}"
      ]
     },
     "execution_count": 39,
     "metadata": {},
     "output_type": "execute_result"
    }
   ],
   "source": [
    "bucket='inai-summerofdata'\n",
    "key='modeling/LDA/3/2012/lda_model_tfidf_5.pkl'\n",
    "pickle_byte_obj = pickle.dumps(lda_model_tfidf_5)\n",
    "s3_resource = boto3.resource('s3')\n",
    "s3_resource.Object(bucket, key).put(Body=pickle_byte_obj)"
   ]
  },
  {
   "cell_type": "code",
   "execution_count": 40,
   "metadata": {},
   "outputs": [
    {
     "data": {
      "text/plain": [
       "{'ResponseMetadata': {'RequestId': 'DA2BF73C3E71CEC3',\n",
       "  'HostId': 'NQm/zhR9heLHnary/ekEADROEVy5txBvI8DLTkUikQXDjnI0MLXEUGqWOh3p+kLRrbRzUMzmpf4=',\n",
       "  'HTTPStatusCode': 200,\n",
       "  'HTTPHeaders': {'x-amz-id-2': 'NQm/zhR9heLHnary/ekEADROEVy5txBvI8DLTkUikQXDjnI0MLXEUGqWOh3p+kLRrbRzUMzmpf4=',\n",
       "   'x-amz-request-id': 'DA2BF73C3E71CEC3',\n",
       "   'date': 'Thu, 30 Jul 2020 16:51:34 GMT',\n",
       "   'etag': '\"3899b3bd83993372723da4d986957e23\"',\n",
       "   'content-length': '0',\n",
       "   'server': 'AmazonS3'},\n",
       "  'RetryAttempts': 0},\n",
       " 'ETag': '\"3899b3bd83993372723da4d986957e23\"'}"
      ]
     },
     "execution_count": 40,
     "metadata": {},
     "output_type": "execute_result"
    }
   ],
   "source": [
    "bucket='inai-summerofdata'\n",
    "key='modeling/LDA/3/2012/lda_model_tfidf_10.pkl'\n",
    "pickle_byte_obj = pickle.dumps(lda_model_tfidf_10)\n",
    "s3_resource = boto3.resource('s3')\n",
    "s3_resource.Object(bucket, key).put(Body=pickle_byte_obj)"
   ]
  },
  {
   "cell_type": "code",
   "execution_count": 41,
   "metadata": {},
   "outputs": [
    {
     "data": {
      "text/plain": [
       "{'ResponseMetadata': {'RequestId': 'FV1V5G5HDZAX4KEG',\n",
       "  'HostId': 'RFKIuU/lHeFIBMHE+OEovPCPaM6cux9aBwwwXcAH8DBb4/sZhkBv68fIm6YYqWvq7yMcv7nfgkM=',\n",
       "  'HTTPStatusCode': 200,\n",
       "  'HTTPHeaders': {'x-amz-id-2': 'RFKIuU/lHeFIBMHE+OEovPCPaM6cux9aBwwwXcAH8DBb4/sZhkBv68fIm6YYqWvq7yMcv7nfgkM=',\n",
       "   'x-amz-request-id': 'FV1V5G5HDZAX4KEG',\n",
       "   'date': 'Thu, 30 Jul 2020 16:51:38 GMT',\n",
       "   'etag': '\"ba06bd42b4fdeb84791b8eee97e57dea\"',\n",
       "   'content-length': '0',\n",
       "   'server': 'AmazonS3'},\n",
       "  'RetryAttempts': 0},\n",
       " 'ETag': '\"ba06bd42b4fdeb84791b8eee97e57dea\"'}"
      ]
     },
     "execution_count": 41,
     "metadata": {},
     "output_type": "execute_result"
    }
   ],
   "source": [
    "bucket='inai-summerofdata'\n",
    "key='modeling/LDA/3/2012/lda_model_tfidf_20.pkl'\n",
    "pickle_byte_obj = pickle.dumps(lda_model_tfidf_20)\n",
    "s3_resource = boto3.resource('s3')\n",
    "s3_resource.Object(bucket, key).put(Body=pickle_byte_obj)"
   ]
  },
  {
   "cell_type": "markdown",
   "metadata": {},
   "source": [
    "# 2013"
   ]
  },
  {
   "cell_type": "code",
   "execution_count": 42,
   "metadata": {},
   "outputs": [],
   "source": [
    "filtro = df_new['anosolicitud'] == 2013\n",
    "df_2013 = df_new[filtro]"
   ]
  },
  {
   "cell_type": "code",
   "execution_count": 43,
   "metadata": {},
   "outputs": [
    {
     "name": "stdout",
     "output_type": "stream",
     "text": [
      "<class 'pandas.core.frame.DataFrame'>\n",
      "Int64Index: 101141 entries, 64999 to 735674\n",
      "Data columns (total 31 columns):\n",
      " #   Column                         Non-Null Count   Dtype         \n",
      "---  ------                         --------------   -----         \n",
      " 0   folio                          101141 non-null  object        \n",
      " 1   fechasolicitud                 101141 non-null  datetime64[ns]\n",
      " 2   dependencia                    101141 non-null  object        \n",
      " 3   estatus                        101141 non-null  object        \n",
      " 4   medioentrada                   101141 non-null  object        \n",
      " 5   tiposolicitud                  101141 non-null  object        \n",
      " 6   descripcionsolicitud           101141 non-null  object        \n",
      " 7   otrosdatos                     101141 non-null  object        \n",
      " 8   archivoadjuntosolicitud        101141 non-null  object        \n",
      " 9   medioentrega                   101141 non-null  object        \n",
      " 10  fechalimite                    95819 non-null   datetime64[ns]\n",
      " 11  respuesta                      101141 non-null  object        \n",
      " 12  textorespuesta                 101141 non-null  object        \n",
      " 13  archivorespuesta               101141 non-null  object        \n",
      " 14  fecharespuesta                 101141 non-null  datetime64[ns]\n",
      " 15  pais                           101141 non-null  object        \n",
      " 16  estado                         101141 non-null  object        \n",
      " 17  municipio                      101141 non-null  object        \n",
      " 18  codigopostal                   101141 non-null  object        \n",
      " 19  sector                         101141 non-null  object        \n",
      " 20  tipo_archivo_respuesta         101141 non-null  object        \n",
      " 21  cantidad_archivos_respuesta    78888 non-null   float64       \n",
      " 22  texto_respuesta_adjunto        101141 non-null  object        \n",
      " 23  respuestareal                  101141 non-null  object        \n",
      " 24  calidad_respuesta              101141 non-null  object        \n",
      " 25  calidad_respuesta_real         101141 non-null  object        \n",
      " 26  solicitud_longitud             101141 non-null  int64         \n",
      " 27  descripcionsolicitud_lemma     101141 non-null  object        \n",
      " 28  codigo_calidad_respuesta_real  101141 non-null  int64         \n",
      " 29  solicitud_lemma_longitud       101141 non-null  int64         \n",
      " 30  anosolicitud                   101141 non-null  int64         \n",
      "dtypes: datetime64[ns](3), float64(1), int64(4), object(23)\n",
      "memory usage: 24.7+ MB\n"
     ]
    }
   ],
   "source": [
    "df_2013.info()"
   ]
  },
  {
   "cell_type": "code",
   "execution_count": 44,
   "metadata": {},
   "outputs": [],
   "source": [
    "data = df_2013[['descripcionsolicitud_lemma']]\n",
    "data['index'] = data.index\n",
    "docs = data"
   ]
  },
  {
   "cell_type": "code",
   "execution_count": 45,
   "metadata": {},
   "outputs": [
    {
     "data": {
      "text/html": [
       "<div>\n",
       "<style scoped>\n",
       "    .dataframe tbody tr th:only-of-type {\n",
       "        vertical-align: middle;\n",
       "    }\n",
       "\n",
       "    .dataframe tbody tr th {\n",
       "        vertical-align: top;\n",
       "    }\n",
       "\n",
       "    .dataframe thead th {\n",
       "        text-align: right;\n",
       "    }\n",
       "</style>\n",
       "<table border=\"1\" class=\"dataframe\">\n",
       "  <thead>\n",
       "    <tr style=\"text-align: right;\">\n",
       "      <th></th>\n",
       "      <th>descripcionsolicitud_lemma</th>\n",
       "      <th>index</th>\n",
       "    </tr>\n",
       "  </thead>\n",
       "  <tbody>\n",
       "    <tr>\n",
       "      <th>64999</th>\n",
       "      <td>recibir dirigir enlazar administracion tributa...</td>\n",
       "      <td>64999</td>\n",
       "    </tr>\n",
       "    <tr>\n",
       "      <th>65000</th>\n",
       "      <td>requerir sueldo confianza liconsa operativo ma...</td>\n",
       "      <td>65000</td>\n",
       "    </tr>\n",
       "    <tr>\n",
       "      <th>65001</th>\n",
       "      <td>guerra funcionar secretario marino</td>\n",
       "      <td>65001</td>\n",
       "    </tr>\n",
       "    <tr>\n",
       "      <th>65002</th>\n",
       "      <td>investigacion comision areas natural protegido...</td>\n",
       "      <td>65002</td>\n",
       "    </tr>\n",
       "    <tr>\n",
       "      <th>65005</th>\n",
       "      <td>referente buque clase reabastecer naval aguar ...</td>\n",
       "      <td>65005</td>\n",
       "    </tr>\n",
       "  </tbody>\n",
       "</table>\n",
       "</div>"
      ],
      "text/plain": [
       "                              descripcionsolicitud_lemma  index\n",
       "64999  recibir dirigir enlazar administracion tributa...  64999\n",
       "65000  requerir sueldo confianza liconsa operativo ma...  65000\n",
       "65001                 guerra funcionar secretario marino  65001\n",
       "65002  investigacion comision areas natural protegido...  65002\n",
       "65005  referente buque clase reabastecer naval aguar ...  65005"
      ]
     },
     "execution_count": 45,
     "metadata": {},
     "output_type": "execute_result"
    }
   ],
   "source": [
    "docs.head()"
   ]
  },
  {
   "cell_type": "code",
   "execution_count": 46,
   "metadata": {},
   "outputs": [],
   "source": [
    "import spacy\n",
    "import nltk\n",
    "from nltk import SnowballStemmer"
   ]
  },
  {
   "cell_type": "code",
   "execution_count": 47,
   "metadata": {},
   "outputs": [],
   "source": [
    "nlp = spacy.load('es_core_news_sm')"
   ]
  },
  {
   "cell_type": "code",
   "execution_count": 48,
   "metadata": {},
   "outputs": [],
   "source": [
    "def ProcesarTexto(texto):\n",
    "    \n",
    "    doc = nlp(texto)\n",
    "    words = [t.text for t in doc]\n",
    "    \n",
    "    return words"
   ]
  },
  {
   "cell_type": "code",
   "execution_count": 49,
   "metadata": {},
   "outputs": [],
   "source": [
    "import multiprocessing\n",
    "from multiprocessing.dummy import Pool as ThreadPool"
   ]
  },
  {
   "cell_type": "code",
   "execution_count": 50,
   "metadata": {},
   "outputs": [
    {
     "data": {
      "text/plain": [
       "12"
      ]
     },
     "execution_count": 50,
     "metadata": {},
     "output_type": "execute_result"
    }
   ],
   "source": [
    "cores = multiprocessing.cpu_count()\n",
    "pool = ThreadPool(cores)\n",
    "cores"
   ]
  },
  {
   "cell_type": "code",
   "execution_count": 51,
   "metadata": {},
   "outputs": [],
   "source": [
    "processed_docs = pool.map(ProcesarTexto, docs['descripcionsolicitud_lemma'])\n",
    "pool.close()"
   ]
  },
  {
   "cell_type": "code",
   "execution_count": 52,
   "metadata": {},
   "outputs": [],
   "source": [
    "import gensim"
   ]
  },
  {
   "cell_type": "code",
   "execution_count": 53,
   "metadata": {},
   "outputs": [],
   "source": [
    "dictionary = gensim.corpora.Dictionary(processed_docs)"
   ]
  },
  {
   "cell_type": "code",
   "execution_count": 54,
   "metadata": {},
   "outputs": [],
   "source": [
    "dictionary.filter_extremes(no_below=15, no_above=0.5, keep_n=100000)"
   ]
  },
  {
   "cell_type": "code",
   "execution_count": 55,
   "metadata": {},
   "outputs": [],
   "source": [
    "bow_corpus = [dictionary.doc2bow(doc) for doc in processed_docs]"
   ]
  },
  {
   "cell_type": "code",
   "execution_count": 56,
   "metadata": {},
   "outputs": [],
   "source": [
    "from gensim import corpora, models\n",
    "from pprint import pprint"
   ]
  },
  {
   "cell_type": "code",
   "execution_count": 57,
   "metadata": {},
   "outputs": [],
   "source": [
    "tfidf = models.TfidfModel(bow_corpus)\n",
    "corpus_tfidf = tfidf[bow_corpus]"
   ]
  },
  {
   "cell_type": "markdown",
   "metadata": {},
   "source": [
    "### 5 tópicos TF-IDF"
   ]
  },
  {
   "cell_type": "code",
   "execution_count": 58,
   "metadata": {},
   "outputs": [],
   "source": [
    "lda_model_tfidf_5 = gensim.models.LdaMulticore(corpus_tfidf, \n",
    "                                            num_topics=5,\n",
    "                                            id2word=dictionary,\n",
    "                                            passes=2,\n",
    "                                            workers=cores)"
   ]
  },
  {
   "cell_type": "code",
   "execution_count": 59,
   "metadata": {},
   "outputs": [
    {
     "name": "stdout",
     "output_type": "stream",
     "text": [
      "Topic: 0 Word: 0.007*\"existencia\" + 0.006*\"pieza\" + 0.006*\"proveedor\" + 0.006*\"inventario\" + 0.005*\"delegacion\" + 0.005*\"licitacion\" + 0.005*\"basico\" + 0.005*\"dental\" + 0.005*\"presupuestar\" + 0.005*\"cuadrar\"\n",
      "Topic: 1 Word: 0.022*\"acta\" + 0.015*\"fallir\" + 0.012*\"presupuestal\" + 0.011*\"partir\" + 0.009*\"fundamentar\" + 0.008*\"apertura\" + 0.008*\"proposición\" + 0.008*\"procedimiento\" + 0.008*\"articular\" + 0.008*\"gubernamental\"\n",
      "Topic: 2 Word: 0.005*\"cofepris\" + 0.005*\"documentar\" + 0.005*\"federal\" + 0.004*\"sanitario\" + 0.004*\"servidor\" + 0.004*\"tramitar\" + 0.004*\"publicar\" + 0.004*\"secretario\" + 0.003*\"periodo\" + 0.003*\"mencionar\"\n",
      "Topic: 3 Word: 0.005*\"medicamento\" + 0.005*\"requerir\" + 0.004*\"anual\" + 0.004*\"proveedor\" + 0.004*\"municipio\" + 0.004*\"especificación\" + 0.004*\"informar\" + 0.003*\"presupuestar\" + 0.003*\"gobernar\" + 0.003*\"mensual\"\n",
      "Topic: 4 Word: 0.006*\"techar\" + 0.004*\"publicar\" + 0.004*\"obrar\" + 0.004*\"empresa\" + 0.003*\"imss\" + 0.003*\"informar\" + 0.003*\"pemex\" + 0.003*\"fideicomiso\" + 0.003*\"federal\" + 0.003*\"servidor\"\n"
     ]
    }
   ],
   "source": [
    "for idx, topic in lda_model_tfidf_5.print_topics(-1):\n",
    "    print('Topic: {} Word: {}'.format(idx, topic))"
   ]
  },
  {
   "cell_type": "markdown",
   "metadata": {},
   "source": [
    "### 10 tópicos TF-IDF"
   ]
  },
  {
   "cell_type": "code",
   "execution_count": 60,
   "metadata": {},
   "outputs": [],
   "source": [
    "lda_model_tfidf_10 = gensim.models.LdaMulticore(corpus_tfidf, \n",
    "                                            num_topics=10,\n",
    "                                            id2word=dictionary,\n",
    "                                            passes=2,\n",
    "                                            workers=cores)"
   ]
  },
  {
   "cell_type": "code",
   "execution_count": 61,
   "metadata": {},
   "outputs": [
    {
     "name": "stdout",
     "output_type": "stream",
     "text": [
      "Topic: 0 Word: 0.014*\"cofepris\" + 0.011*\"documentar\" + 0.010*\"sanitario\" + 0.007*\"verificacion\" + 0.007*\"tramitar\" + 0.006*\"certificar\" + 0.005*\"ciudadano\" + 0.005*\"mencionar\" + 0.005*\"contraloria\" + 0.005*\"practicar\"\n",
      "Topic: 1 Word: 0.035*\"acta\" + 0.024*\"fallir\" + 0.013*\"proposición\" + 0.013*\"suficiencia\" + 0.013*\"xiii\" + 0.013*\"apertura\" + 0.013*\"aclaración\" + 0.013*\"fundamentar\" + 0.013*\"compranet\" + 0.013*\"antecedente\"\n",
      "Topic: 2 Word: 0.012*\"pieza\" + 0.011*\"existencia\" + 0.009*\"medicamento\" + 0.008*\"inventario\" + 0.008*\"cuadrar\" + 0.008*\"basico\" + 0.006*\"inicial\" + 0.006*\"aguar\" + 0.005*\"entrar\" + 0.005*\"consumir\"\n",
      "Topic: 3 Word: 0.006*\"presupuestar\" + 0.004*\"secretario\" + 0.004*\"proyecto\" + 0.004*\"montar\" + 0.004*\"partir\" + 0.004*\"federal\" + 0.004*\"trabajador\" + 0.004*\"apoyar\" + 0.004*\"pemex\" + 0.004*\"educacion\"\n",
      "Topic: 4 Word: 0.020*\"partir\" + 0.017*\"principal\" + 0.017*\"especificación\" + 0.013*\"proveedor\" + 0.010*\"dental\" + 0.010*\"presupuestal\" + 0.009*\"necesidad\" + 0.009*\"cepillo\" + 0.008*\"tecnicas\" + 0.008*\"caracteristicas\"\n",
      "Topic: 5 Word: 0.006*\"publicar\" + 0.005*\"secretario\" + 0.005*\"contratacion\" + 0.005*\"informar\" + 0.004*\"empresa\" + 0.004*\"federal\" + 0.004*\"presupuestar\" + 0.004*\"casar\" + 0.003*\"procesar\" + 0.003*\"autorizar\"\n",
      "Topic: 6 Word: 0.011*\"medicamento\" + 0.010*\"imss\" + 0.010*\"medicar\" + 0.008*\"proveedor\" + 0.007*\"distromed\" + 0.007*\"endotraqueal\" + 0.007*\"tubo\" + 0.007*\"licitacion\" + 0.006*\"hospital\" + 0.006*\"clave\"\n",
      "Topic: 7 Word: 0.007*\"municipio\" + 0.004*\"federal\" + 0.004*\"zona\" + 0.004*\"santo\" + 0.004*\"laminar\" + 0.003*\"afaspe\" + 0.003*\"secretario\" + 0.003*\"siniestro\" + 0.003*\"ubicar\" + 0.003*\"publicar\"\n",
      "Topic: 8 Word: 0.004*\"tramitar\" + 0.004*\"campana\" + 0.004*\"informar\" + 0.004*\"poseidon\" + 0.004*\"social\" + 0.003*\"industrial\" + 0.003*\"delito\" + 0.003*\"federal\" + 0.003*\"gobernar\" + 0.003*\"publicar\"\n",
      "Topic: 9 Word: 0.005*\"servidor\" + 0.005*\"comisionar\" + 0.004*\"federal\" + 0.004*\"laborar\" + 0.004*\"publicar\" + 0.003*\"desglosar\" + 0.003*\"periodo\" + 0.003*\"audiencia\" + 0.003*\"ingresar\" + 0.003*\"municipio\"\n"
     ]
    }
   ],
   "source": [
    "for idx, topic in lda_model_tfidf_10.print_topics(-1):\n",
    "    print('Topic: {} Word: {}'.format(idx, topic))"
   ]
  },
  {
   "cell_type": "markdown",
   "metadata": {},
   "source": [
    "### 20 tópicos TF-IDF"
   ]
  },
  {
   "cell_type": "code",
   "execution_count": 62,
   "metadata": {},
   "outputs": [],
   "source": [
    "lda_model_tfidf_20 = gensim.models.LdaMulticore(corpus_tfidf, \n",
    "                                            num_topics=20,\n",
    "                                            id2word=dictionary,\n",
    "                                            passes=2,\n",
    "                                            workers=cores)"
   ]
  },
  {
   "cell_type": "code",
   "execution_count": 63,
   "metadata": {},
   "outputs": [
    {
     "name": "stdout",
     "output_type": "stream",
     "text": [
      "Topic: 0 Word: 0.009*\"caracteristicas\" + 0.006*\"establecio\" + 0.006*\"terminacion\" + 0.006*\"publicar\" + 0.006*\"ancho\" + 0.005*\"banda\" + 0.005*\"tecnicas\" + 0.005*\"mensual\" + 0.005*\"minero\" + 0.005*\"proporcionar\"\n",
      "Topic: 1 Word: 0.043*\"acta\" + 0.028*\"fallir\" + 0.015*\"junto\" + 0.015*\"suficiencia\" + 0.015*\"apertura\" + 0.015*\"xiii\" + 0.015*\"antecedente\" + 0.015*\"fraccion\" + 0.014*\"aclaración\" + 0.014*\"compranet\"\n",
      "Topic: 2 Word: 0.007*\"credito\" + 0.006*\"sexto\" + 0.006*\"banco\" + 0.005*\"fondo\" + 0.005*\"clausular\" + 0.004*\"partir\" + 0.004*\"salud\" + 0.004*\"creditos\" + 0.004*\"secretario\" + 0.004*\"consultar\"\n",
      "Topic: 3 Word: 0.005*\"distrito\" + 0.005*\"federal\" + 0.004*\"proporcionar\" + 0.004*\"empresa\" + 0.004*\"local\" + 0.004*\"domiciliar\" + 0.004*\"administrador\" + 0.004*\"delegacion\" + 0.004*\"denominacion\" + 0.004*\"administracion\"\n",
      "Topic: 4 Word: 0.008*\"siniestro\" + 0.007*\"servidor\" + 0.006*\"director\" + 0.006*\"publicar\" + 0.005*\"vacante\" + 0.005*\"relacion\" + 0.005*\"departamento\" + 0.005*\"bien\" + 0.005*\"licitacion\" + 0.004*\"instituto\"\n",
      "Topic: 5 Word: 0.004*\"secretario\" + 0.004*\"documentar\" + 0.004*\"casar\" + 0.004*\"presupuestar\" + 0.004*\"zona\" + 0.004*\"informatico\" + 0.003*\"federal\" + 0.003*\"direccion\" + 0.003*\"periodo\" + 0.003*\"procedimiento\"\n",
      "Topic: 6 Word: 0.043*\"partir\" + 0.034*\"principal\" + 0.020*\"presupuestal\" + 0.018*\"necesidad\" + 0.016*\"especificación\" + 0.015*\"presupuestar\" + 0.005*\"salud\" + 0.004*\"secretario\" + 0.004*\"nivel\" + 0.004*\"ingreso\"\n",
      "Topic: 7 Word: 0.009*\"delegacion\" + 0.008*\"distromed\" + 0.008*\"imss\" + 0.008*\"proveedor\" + 0.008*\"endotraqueal\" + 0.008*\"tubo\" + 0.007*\"instituto\" + 0.007*\"licitacion\" + 0.007*\"mexicano\" + 0.007*\"constar\"\n",
      "Topic: 8 Word: 0.024*\"pieza\" + 0.024*\"existencia\" + 0.018*\"inventario\" + 0.017*\"basico\" + 0.017*\"cuadrar\" + 0.016*\"medicamento\" + 0.015*\"inicial\" + 0.014*\"medicar\" + 0.014*\"distribuidor\" + 0.014*\"trece\"\n",
      "Topic: 9 Word: 0.007*\"seguridad\" + 0.005*\"autorizar\" + 0.005*\"trabajador\" + 0.005*\"periodo\" + 0.004*\"privar\" + 0.004*\"contactar\" + 0.004*\"soldar\" + 0.004*\"social\" + 0.004*\"casar\" + 0.004*\"colectivo\"\n",
      "Topic: 10 Word: 0.005*\"cordial\" + 0.004*\"saludar\" + 0.004*\"aeronave\" + 0.004*\"recibir\" + 0.004*\"solicitarle\" + 0.004*\"informar\" + 0.004*\"quedar\" + 0.004*\"federal\" + 0.003*\"funcion\" + 0.003*\"medicar\"\n",
      "Topic: 11 Word: 0.009*\"comisionar\" + 0.008*\"tabulador\" + 0.007*\"sueldo\" + 0.006*\"presupuestar\" + 0.006*\"audiencia\" + 0.005*\"desglosar\" + 0.005*\"secretario\" + 0.004*\"salario\" + 0.004*\"fondo\" + 0.004*\"imponer\"\n",
      "Topic: 12 Word: 0.007*\"pemex\" + 0.007*\"gastar\" + 0.007*\"presupuestar\" + 0.006*\"campana\" + 0.006*\"gobernar\" + 0.005*\"desglosar\" + 0.005*\"medio\" + 0.005*\"produccion\" + 0.004*\"comunicacion\" + 0.004*\"destinar\"\n",
      "Topic: 13 Word: 0.009*\"medicamento\" + 0.008*\"parrafo\" + 0.007*\"pieza\" + 0.006*\"fundamentar\" + 0.006*\"articulos\" + 0.005*\"responsabilidad\" + 0.005*\"expedir\" + 0.005*\"marcar\" + 0.005*\"gubernamental\" + 0.004*\"facturar\"\n",
      "Topic: 14 Word: 0.019*\"proposición\" + 0.015*\"cofepris\" + 0.015*\"proveedor\" + 0.012*\"dental\" + 0.011*\"especificación\" + 0.011*\"tramitar\" + 0.010*\"entregar\" + 0.010*\"constar\" + 0.010*\"cepillo\" + 0.009*\"sanitario\"\n",
      "Topic: 15 Word: 0.006*\"externo\" + 0.006*\"delito\" + 0.005*\"licitacion\" + 0.004*\"federal\" + 0.004*\"adjudicacion\" + 0.004*\"periodo\" + 0.004*\"operacion\" + 0.004*\"querer\" + 0.004*\"reformar\" + 0.004*\"interno\"\n",
      "Topic: 16 Word: 0.008*\"plantel\" + 0.007*\"colegiar\" + 0.007*\"bachiller\" + 0.005*\"nombramiento\" + 0.004*\"presupuestar\" + 0.004*\"profesor\" + 0.004*\"querer\" + 0.004*\"secretario\" + 0.004*\"montar\" + 0.004*\"trayectoria\"\n",
      "Topic: 17 Word: 0.009*\"obrar\" + 0.008*\"cartero\" + 0.008*\"transportar\" + 0.007*\"comprador\" + 0.005*\"publicar\" + 0.005*\"ramo\" + 0.005*\"gracia\" + 0.005*\"formato\" + 0.005*\"proyecto\" + 0.005*\"montar\"\n",
      "Topic: 18 Word: 0.007*\"operación\" + 0.006*\"electricidad\" + 0.005*\"municipio\" + 0.005*\"poblar\" + 0.004*\"barril\" + 0.004*\"apoyar\" + 0.004*\"petrolear\" + 0.004*\"periodo\" + 0.004*\"indemnizacion\" + 0.004*\"causar\"\n",
      "Topic: 19 Word: 0.008*\"municipio\" + 0.007*\"ambiental\" + 0.006*\"educacion\" + 0.005*\"impactar\" + 0.005*\"aguar\" + 0.005*\"federal\" + 0.005*\"secretario\" + 0.005*\"escuela\" + 0.004*\"santo\" + 0.004*\"presupuestar\"\n"
     ]
    }
   ],
   "source": [
    "for idx, topic in lda_model_tfidf_20.print_topics(-1):\n",
    "    print('Topic: {} Word: {}'.format(idx, topic))"
   ]
  },
  {
   "cell_type": "markdown",
   "metadata": {},
   "source": [
    "### Guardamos en S3"
   ]
  },
  {
   "cell_type": "code",
   "execution_count": 64,
   "metadata": {},
   "outputs": [
    {
     "data": {
      "text/plain": [
       "{'ResponseMetadata': {'RequestId': '3B9F5F99CDA549ED',\n",
       "  'HostId': '7tGrx5dwoCbNlti7s99pNvKofdAUk0gxi9oSVEr4R0KiRPxRRdmmTWJOyxI63pLpVSrc+cYmueg=',\n",
       "  'HTTPStatusCode': 200,\n",
       "  'HTTPHeaders': {'x-amz-id-2': '7tGrx5dwoCbNlti7s99pNvKofdAUk0gxi9oSVEr4R0KiRPxRRdmmTWJOyxI63pLpVSrc+cYmueg=',\n",
       "   'x-amz-request-id': '3B9F5F99CDA549ED',\n",
       "   'date': 'Thu, 30 Jul 2020 17:06:00 GMT',\n",
       "   'etag': '\"6a50e1c9aea18d2c4cba34ab04909ddd\"',\n",
       "   'content-length': '0',\n",
       "   'server': 'AmazonS3'},\n",
       "  'RetryAttempts': 0},\n",
       " 'ETag': '\"6a50e1c9aea18d2c4cba34ab04909ddd\"'}"
      ]
     },
     "execution_count": 64,
     "metadata": {},
     "output_type": "execute_result"
    }
   ],
   "source": [
    "bucket='inai-summerofdata'\n",
    "key='modeling/LDA/3/2013/df_2013.pkl'\n",
    "pickle_byte_obj = pickle.dumps(df_2013)\n",
    "s3_resource = boto3.resource('s3')\n",
    "s3_resource.Object(bucket, key).put(Body=pickle_byte_obj)"
   ]
  },
  {
   "cell_type": "code",
   "execution_count": 65,
   "metadata": {},
   "outputs": [
    {
     "data": {
      "text/plain": [
       "{'ResponseMetadata': {'RequestId': 'C5D4C7F096374407',\n",
       "  'HostId': 'iRb82CRkoosQ0Tq1M1FcYympKdZa930nFG+ysLZxT/Wn3hPqr9m9SHltbr+NsDZNnPxwO7RTyZo=',\n",
       "  'HTTPStatusCode': 200,\n",
       "  'HTTPHeaders': {'x-amz-id-2': 'iRb82CRkoosQ0Tq1M1FcYympKdZa930nFG+ysLZxT/Wn3hPqr9m9SHltbr+NsDZNnPxwO7RTyZo=',\n",
       "   'x-amz-request-id': 'C5D4C7F096374407',\n",
       "   'date': 'Thu, 30 Jul 2020 17:06:53 GMT',\n",
       "   'etag': '\"774514acc83c1e95a18feb90578ff8a1\"',\n",
       "   'content-length': '0',\n",
       "   'server': 'AmazonS3'},\n",
       "  'RetryAttempts': 0},\n",
       " 'ETag': '\"774514acc83c1e95a18feb90578ff8a1\"'}"
      ]
     },
     "execution_count": 65,
     "metadata": {},
     "output_type": "execute_result"
    }
   ],
   "source": [
    "bucket='inai-summerofdata'\n",
    "key='modeling/LDA/3/2013/processed_docs.pkl'\n",
    "pickle_byte_obj = pickle.dumps(processed_docs)\n",
    "s3_resource = boto3.resource('s3')\n",
    "s3_resource.Object(bucket, key).put(Body=pickle_byte_obj)"
   ]
  },
  {
   "cell_type": "code",
   "execution_count": 66,
   "metadata": {},
   "outputs": [
    {
     "data": {
      "text/plain": [
       "{'ResponseMetadata': {'RequestId': '787798C71D58DD1E',\n",
       "  'HostId': 'DZ7pubYrxysN9DZFy6BtlyBh5KdjqkhMpkiaULNMrhpWOgNGZ0k5tDA6hr7gCPQ0+CNe+Dg1CFA=',\n",
       "  'HTTPStatusCode': 200,\n",
       "  'HTTPHeaders': {'x-amz-id-2': 'DZ7pubYrxysN9DZFy6BtlyBh5KdjqkhMpkiaULNMrhpWOgNGZ0k5tDA6hr7gCPQ0+CNe+Dg1CFA=',\n",
       "   'x-amz-request-id': '787798C71D58DD1E',\n",
       "   'date': 'Thu, 30 Jul 2020 17:07:07 GMT',\n",
       "   'etag': '\"63c1df4f0bd00015b507dfe3944802bf\"',\n",
       "   'content-length': '0',\n",
       "   'server': 'AmazonS3'},\n",
       "  'RetryAttempts': 0},\n",
       " 'ETag': '\"63c1df4f0bd00015b507dfe3944802bf\"'}"
      ]
     },
     "execution_count": 66,
     "metadata": {},
     "output_type": "execute_result"
    }
   ],
   "source": [
    "bucket='inai-summerofdata'\n",
    "key='modeling/LDA/3/2013/lda_model_tfidf_5.pkl'\n",
    "pickle_byte_obj = pickle.dumps(lda_model_tfidf_5)\n",
    "s3_resource = boto3.resource('s3')\n",
    "s3_resource.Object(bucket, key).put(Body=pickle_byte_obj)"
   ]
  },
  {
   "cell_type": "code",
   "execution_count": 67,
   "metadata": {},
   "outputs": [
    {
     "data": {
      "text/plain": [
       "{'ResponseMetadata': {'RequestId': '331288B63DBFC0EF',\n",
       "  'HostId': '+LFc6xOp9ZJxa0ROoQhM24HQrxMDruWtzhn3caobPbPFGqwSSgk84d9iT88th+tgHNsE7oiAR2Y=',\n",
       "  'HTTPStatusCode': 200,\n",
       "  'HTTPHeaders': {'x-amz-id-2': '+LFc6xOp9ZJxa0ROoQhM24HQrxMDruWtzhn3caobPbPFGqwSSgk84d9iT88th+tgHNsE7oiAR2Y=',\n",
       "   'x-amz-request-id': '331288B63DBFC0EF',\n",
       "   'date': 'Thu, 30 Jul 2020 17:07:11 GMT',\n",
       "   'etag': '\"9604dc912fba646bfb4a5f91bcc46515\"',\n",
       "   'content-length': '0',\n",
       "   'server': 'AmazonS3'},\n",
       "  'RetryAttempts': 0},\n",
       " 'ETag': '\"9604dc912fba646bfb4a5f91bcc46515\"'}"
      ]
     },
     "execution_count": 67,
     "metadata": {},
     "output_type": "execute_result"
    }
   ],
   "source": [
    "bucket='inai-summerofdata'\n",
    "key='modeling/LDA/3/2013/lda_model_tfidf_10.pkl'\n",
    "pickle_byte_obj = pickle.dumps(lda_model_tfidf_10)\n",
    "s3_resource = boto3.resource('s3')\n",
    "s3_resource.Object(bucket, key).put(Body=pickle_byte_obj)"
   ]
  },
  {
   "cell_type": "code",
   "execution_count": 68,
   "metadata": {},
   "outputs": [
    {
     "data": {
      "text/plain": [
       "{'ResponseMetadata': {'RequestId': '2A542280FC23A20F',\n",
       "  'HostId': 'HgJNTs9M478SZ5z9P4emNx/5PW8ypHYX52nSE0aM2NbA/P/yPAQBi06Pd+xv5RTMb6Qo8s/bJF0=',\n",
       "  'HTTPStatusCode': 200,\n",
       "  'HTTPHeaders': {'x-amz-id-2': 'HgJNTs9M478SZ5z9P4emNx/5PW8ypHYX52nSE0aM2NbA/P/yPAQBi06Pd+xv5RTMb6Qo8s/bJF0=',\n",
       "   'x-amz-request-id': '2A542280FC23A20F',\n",
       "   'date': 'Thu, 30 Jul 2020 17:07:15 GMT',\n",
       "   'etag': '\"3e3324f0e71df72f21997152486251a3\"',\n",
       "   'content-length': '0',\n",
       "   'server': 'AmazonS3'},\n",
       "  'RetryAttempts': 0},\n",
       " 'ETag': '\"3e3324f0e71df72f21997152486251a3\"'}"
      ]
     },
     "execution_count": 68,
     "metadata": {},
     "output_type": "execute_result"
    }
   ],
   "source": [
    "bucket='inai-summerofdata'\n",
    "key='modeling/LDA/3/2013/lda_model_tfidf_20.pkl'\n",
    "pickle_byte_obj = pickle.dumps(lda_model_tfidf_20)\n",
    "s3_resource = boto3.resource('s3')\n",
    "s3_resource.Object(bucket, key).put(Body=pickle_byte_obj)"
   ]
  },
  {
   "cell_type": "markdown",
   "metadata": {},
   "source": [
    "# 2014"
   ]
  },
  {
   "cell_type": "code",
   "execution_count": 69,
   "metadata": {},
   "outputs": [],
   "source": [
    "filtro = df_new['anosolicitud'] == 2014\n",
    "df_2014 = df_new[filtro]"
   ]
  },
  {
   "cell_type": "code",
   "execution_count": 70,
   "metadata": {},
   "outputs": [
    {
     "name": "stdout",
     "output_type": "stream",
     "text": [
      "<class 'pandas.core.frame.DataFrame'>\n",
      "Int64Index: 106645 entries, 129999 to 817123\n",
      "Data columns (total 31 columns):\n",
      " #   Column                         Non-Null Count   Dtype         \n",
      "---  ------                         --------------   -----         \n",
      " 0   folio                          106645 non-null  object        \n",
      " 1   fechasolicitud                 106645 non-null  datetime64[ns]\n",
      " 2   dependencia                    106645 non-null  object        \n",
      " 3   estatus                        106645 non-null  object        \n",
      " 4   medioentrada                   106645 non-null  object        \n",
      " 5   tiposolicitud                  106645 non-null  object        \n",
      " 6   descripcionsolicitud           106645 non-null  object        \n",
      " 7   otrosdatos                     106645 non-null  object        \n",
      " 8   archivoadjuntosolicitud        106645 non-null  object        \n",
      " 9   medioentrega                   106645 non-null  object        \n",
      " 10  fechalimite                    101290 non-null  datetime64[ns]\n",
      " 11  respuesta                      106645 non-null  object        \n",
      " 12  textorespuesta                 106645 non-null  object        \n",
      " 13  archivorespuesta               106645 non-null  object        \n",
      " 14  fecharespuesta                 106645 non-null  datetime64[ns]\n",
      " 15  pais                           106645 non-null  object        \n",
      " 16  estado                         106645 non-null  object        \n",
      " 17  municipio                      106645 non-null  object        \n",
      " 18  codigopostal                   106645 non-null  object        \n",
      " 19  sector                         106645 non-null  object        \n",
      " 20  tipo_archivo_respuesta         106645 non-null  object        \n",
      " 21  cantidad_archivos_respuesta    84752 non-null   float64       \n",
      " 22  texto_respuesta_adjunto        106645 non-null  object        \n",
      " 23  respuestareal                  106645 non-null  object        \n",
      " 24  calidad_respuesta              106645 non-null  object        \n",
      " 25  calidad_respuesta_real         106645 non-null  object        \n",
      " 26  solicitud_longitud             106645 non-null  int64         \n",
      " 27  descripcionsolicitud_lemma     106645 non-null  object        \n",
      " 28  codigo_calidad_respuesta_real  106645 non-null  int64         \n",
      " 29  solicitud_lemma_longitud       106645 non-null  int64         \n",
      " 30  anosolicitud                   106645 non-null  int64         \n",
      "dtypes: datetime64[ns](3), float64(1), int64(4), object(23)\n",
      "memory usage: 26.0+ MB\n"
     ]
    }
   ],
   "source": [
    "df_2014.info()"
   ]
  },
  {
   "cell_type": "code",
   "execution_count": 71,
   "metadata": {},
   "outputs": [],
   "source": [
    "data = df_2014[['descripcionsolicitud_lemma']]\n",
    "data['index'] = data.index\n",
    "docs = data"
   ]
  },
  {
   "cell_type": "code",
   "execution_count": 72,
   "metadata": {},
   "outputs": [
    {
     "data": {
      "text/html": [
       "<div>\n",
       "<style scoped>\n",
       "    .dataframe tbody tr th:only-of-type {\n",
       "        vertical-align: middle;\n",
       "    }\n",
       "\n",
       "    .dataframe tbody tr th {\n",
       "        vertical-align: top;\n",
       "    }\n",
       "\n",
       "    .dataframe thead th {\n",
       "        text-align: right;\n",
       "    }\n",
       "</style>\n",
       "<table border=\"1\" class=\"dataframe\">\n",
       "  <thead>\n",
       "    <tr style=\"text-align: right;\">\n",
       "      <th></th>\n",
       "      <th>descripcionsolicitud_lemma</th>\n",
       "      <th>index</th>\n",
       "    </tr>\n",
       "  </thead>\n",
       "  <tbody>\n",
       "    <tr>\n",
       "      <th>129999</th>\n",
       "      <td>instituto temer flujo legal migratorio fronter...</td>\n",
       "      <td>129999</td>\n",
       "    </tr>\n",
       "    <tr>\n",
       "      <th>130001</th>\n",
       "      <td>juicio amparar juicio juicio penal existente c...</td>\n",
       "      <td>130001</td>\n",
       "    </tr>\n",
       "    <tr>\n",
       "      <th>130002</th>\n",
       "      <td>zona riesgo migrante frotera concretamente zon...</td>\n",
       "      <td>130002</td>\n",
       "    </tr>\n",
       "    <tr>\n",
       "      <th>130003</th>\n",
       "      <td>zona riesgo migrante frotera concretamente zon...</td>\n",
       "      <td>130003</td>\n",
       "    </tr>\n",
       "    <tr>\n",
       "      <th>130004</th>\n",
       "      <td>zona riesgo migrante frotera concretamente zon...</td>\n",
       "      <td>130004</td>\n",
       "    </tr>\n",
       "  </tbody>\n",
       "</table>\n",
       "</div>"
      ],
      "text/plain": [
       "                               descripcionsolicitud_lemma   index\n",
       "129999  instituto temer flujo legal migratorio fronter...  129999\n",
       "130001  juicio amparar juicio juicio penal existente c...  130001\n",
       "130002  zona riesgo migrante frotera concretamente zon...  130002\n",
       "130003  zona riesgo migrante frotera concretamente zon...  130003\n",
       "130004  zona riesgo migrante frotera concretamente zon...  130004"
      ]
     },
     "execution_count": 72,
     "metadata": {},
     "output_type": "execute_result"
    }
   ],
   "source": [
    "docs.head()"
   ]
  },
  {
   "cell_type": "code",
   "execution_count": 73,
   "metadata": {},
   "outputs": [],
   "source": [
    "import spacy\n",
    "import nltk\n",
    "from nltk import SnowballStemmer"
   ]
  },
  {
   "cell_type": "code",
   "execution_count": 74,
   "metadata": {},
   "outputs": [],
   "source": [
    "nlp = spacy.load('es_core_news_sm')"
   ]
  },
  {
   "cell_type": "code",
   "execution_count": 75,
   "metadata": {},
   "outputs": [],
   "source": [
    "def ProcesarTexto(texto):\n",
    "    \n",
    "    doc = nlp(texto)\n",
    "    words = [t.text for t in doc]\n",
    "    \n",
    "    return words"
   ]
  },
  {
   "cell_type": "code",
   "execution_count": 76,
   "metadata": {},
   "outputs": [],
   "source": [
    "import multiprocessing\n",
    "from multiprocessing.dummy import Pool as ThreadPool"
   ]
  },
  {
   "cell_type": "code",
   "execution_count": 77,
   "metadata": {},
   "outputs": [
    {
     "data": {
      "text/plain": [
       "12"
      ]
     },
     "execution_count": 77,
     "metadata": {},
     "output_type": "execute_result"
    }
   ],
   "source": [
    "cores = multiprocessing.cpu_count()\n",
    "pool = ThreadPool(cores)\n",
    "cores"
   ]
  },
  {
   "cell_type": "code",
   "execution_count": 78,
   "metadata": {},
   "outputs": [],
   "source": [
    "processed_docs = pool.map(ProcesarTexto, docs['descripcionsolicitud_lemma'])\n",
    "pool.close()"
   ]
  },
  {
   "cell_type": "code",
   "execution_count": 79,
   "metadata": {},
   "outputs": [],
   "source": [
    "import gensim"
   ]
  },
  {
   "cell_type": "code",
   "execution_count": 80,
   "metadata": {},
   "outputs": [],
   "source": [
    "dictionary = gensim.corpora.Dictionary(processed_docs)"
   ]
  },
  {
   "cell_type": "code",
   "execution_count": 81,
   "metadata": {},
   "outputs": [],
   "source": [
    "dictionary.filter_extremes(no_below=15, no_above=0.5, keep_n=100000)"
   ]
  },
  {
   "cell_type": "code",
   "execution_count": 82,
   "metadata": {},
   "outputs": [],
   "source": [
    "bow_corpus = [dictionary.doc2bow(doc) for doc in processed_docs]"
   ]
  },
  {
   "cell_type": "code",
   "execution_count": 83,
   "metadata": {},
   "outputs": [],
   "source": [
    "from gensim import corpora, models\n",
    "from pprint import pprint"
   ]
  },
  {
   "cell_type": "code",
   "execution_count": 84,
   "metadata": {},
   "outputs": [],
   "source": [
    "tfidf = models.TfidfModel(bow_corpus)\n",
    "corpus_tfidf = tfidf[bow_corpus]"
   ]
  },
  {
   "cell_type": "markdown",
   "metadata": {},
   "source": [
    "### 5 tópicos TF-IDF"
   ]
  },
  {
   "cell_type": "code",
   "execution_count": 85,
   "metadata": {},
   "outputs": [],
   "source": [
    "lda_model_tfidf_5 = gensim.models.LdaMulticore(corpus_tfidf, \n",
    "                                            num_topics=5,\n",
    "                                            id2word=dictionary,\n",
    "                                            passes=2,\n",
    "                                            workers=cores)"
   ]
  },
  {
   "cell_type": "code",
   "execution_count": 86,
   "metadata": {},
   "outputs": [
    {
     "name": "stdout",
     "output_type": "stream",
     "text": [
      "Topic: 0 Word: 0.008*\"presupuestar\" + 0.006*\"medicamento\" + 0.005*\"delegacion\" + 0.005*\"anual\" + 0.005*\"medicar\" + 0.004*\"hospital\" + 0.004*\"destinar\" + 0.004*\"social\" + 0.004*\"parrafo\" + 0.004*\"instituto\"\n",
      "Topic: 1 Word: 0.004*\"federal\" + 0.003*\"publicar\" + 0.003*\"secretario\" + 0.003*\"escuela\" + 0.003*\"municipio\" + 0.003*\"informar\" + 0.003*\"periodo\" + 0.003*\"institucion\" + 0.003*\"educacion\" + 0.003*\"presupuestar\"\n",
      "Topic: 2 Word: 0.011*\"acta\" + 0.008*\"fallir\" + 0.007*\"federal\" + 0.006*\"aplicar\" + 0.006*\"convocatorio\" + 0.006*\"fraccion\" + 0.005*\"articular\" + 0.005*\"presupuestal\" + 0.005*\"seguridad\" + 0.005*\"montar\"\n",
      "Topic: 3 Word: 0.006*\"medicar\" + 0.005*\"medicamento\" + 0.005*\"imss\" + 0.005*\"especialidad\" + 0.005*\"hospital\" + 0.004*\"sanitario\" + 0.004*\"escribir\" + 0.004*\"delegacion\" + 0.004*\"sondar\" + 0.004*\"centrar\"\n",
      "Topic: 4 Word: 0.004*\"federal\" + 0.004*\"requerir\" + 0.004*\"tramitar\" + 0.004*\"municipio\" + 0.004*\"internet\" + 0.003*\"publicar\" + 0.003*\"gracia\" + 0.003*\"empresa\" + 0.003*\"trabajador\" + 0.003*\"documentar\"\n"
     ]
    }
   ],
   "source": [
    "for idx, topic in lda_model_tfidf_5.print_topics(-1):\n",
    "    print('Topic: {} Word: {}'.format(idx, topic))"
   ]
  },
  {
   "cell_type": "markdown",
   "metadata": {},
   "source": [
    "### 10 tópicos TF-IDF"
   ]
  },
  {
   "cell_type": "code",
   "execution_count": 87,
   "metadata": {},
   "outputs": [],
   "source": [
    "lda_model_tfidf_10 = gensim.models.LdaMulticore(corpus_tfidf, \n",
    "                                            num_topics=10,\n",
    "                                            id2word=dictionary,\n",
    "                                            passes=2,\n",
    "                                            workers=cores)"
   ]
  },
  {
   "cell_type": "code",
   "execution_count": 88,
   "metadata": {},
   "outputs": [
    {
     "name": "stdout",
     "output_type": "stream",
     "text": [
      "Topic: 0 Word: 0.005*\"ambiental\" + 0.004*\"informar\" + 0.004*\"internet\" + 0.004*\"publicar\" + 0.004*\"monto\" + 0.004*\"federal\" + 0.004*\"municipio\" + 0.003*\"sanitario\" + 0.003*\"costo\" + 0.003*\"formato\"\n",
      "Topic: 1 Word: 0.007*\"sindicato\" + 0.006*\"trabajador\" + 0.005*\"federal\" + 0.005*\"articular\" + 0.005*\"sindical\" + 0.004*\"fraccion\" + 0.004*\"global\" + 0.004*\"secretario\" + 0.003*\"requerir\" + 0.003*\"publicar\"\n",
      "Topic: 2 Word: 0.017*\"medicamento\" + 0.008*\"pieza\" + 0.007*\"parrafo\" + 0.007*\"medicar\" + 0.006*\"hospital\" + 0.006*\"fundamentar\" + 0.006*\"saludo\" + 0.005*\"establecer\" + 0.005*\"gratuito\" + 0.005*\"basico\"\n",
      "Topic: 3 Word: 0.011*\"acta\" + 0.007*\"fallir\" + 0.006*\"montar\" + 0.005*\"viajar\" + 0.005*\"adquisicion\" + 0.005*\"sistema\" + 0.004*\"convenio\" + 0.004*\"vigente\" + 0.004*\"extinguidores\" + 0.004*\"presupuestar\"\n",
      "Topic: 4 Word: 0.009*\"pemex\" + 0.007*\"produccion\" + 0.006*\"exploracion\" + 0.004*\"aplicar\" + 0.004*\"obrar\" + 0.004*\"celebrar\" + 0.004*\"empresa\" + 0.004*\"licitacion\" + 0.004*\"tipo\" + 0.004*\"fuego\"\n",
      "Topic: 5 Word: 0.004*\"becar\" + 0.004*\"federal\" + 0.003*\"secretario\" + 0.003*\"sanitario\" + 0.003*\"otorgar\" + 0.003*\"tramitar\" + 0.003*\"nivel\" + 0.003*\"cofepris\" + 0.003*\"requisito\" + 0.003*\"empresa\"\n",
      "Topic: 6 Word: 0.006*\"educacion\" + 0.006*\"federal\" + 0.006*\"empresa\" + 0.004*\"soldar\" + 0.004*\"salariar\" + 0.004*\"secretario\" + 0.004*\"publicar\" + 0.004*\"formar\" + 0.004*\"informar\" + 0.004*\"presupuestar\"\n",
      "Topic: 7 Word: 0.006*\"requerir\" + 0.005*\"gratuito\" + 0.004*\"documentar\" + 0.004*\"federal\" + 0.004*\"internet\" + 0.004*\"presupuestar\" + 0.004*\"publicar\" + 0.003*\"ingreso\" + 0.003*\"secretario\" + 0.003*\"elano\"\n",
      "Topic: 8 Word: 0.010*\"delegacion\" + 0.010*\"presupuestar\" + 0.007*\"imss\" + 0.007*\"medicar\" + 0.007*\"anual\" + 0.006*\"hospital\" + 0.006*\"especialidad\" + 0.006*\"clave\" + 0.005*\"proveedor\" + 0.005*\"sondar\"\n",
      "Topic: 9 Word: 0.006*\"municipio\" + 0.005*\"partir\" + 0.004*\"federal\" + 0.004*\"presupuestar\" + 0.004*\"secretario\" + 0.004*\"periodo\" + 0.004*\"sancionar\" + 0.003*\"concesion\" + 0.003*\"instituto\" + 0.003*\"tramitar\"\n"
     ]
    }
   ],
   "source": [
    "for idx, topic in lda_model_tfidf_10.print_topics(-1):\n",
    "    print('Topic: {} Word: {}'.format(idx, topic))"
   ]
  },
  {
   "cell_type": "markdown",
   "metadata": {},
   "source": [
    "### 20 tópicos TF-IDF"
   ]
  },
  {
   "cell_type": "code",
   "execution_count": 89,
   "metadata": {},
   "outputs": [],
   "source": [
    "lda_model_tfidf_20 = gensim.models.LdaMulticore(corpus_tfidf, \n",
    "                                            num_topics=20,\n",
    "                                            id2word=dictionary,\n",
    "                                            passes=2,\n",
    "                                            workers=cores)"
   ]
  },
  {
   "cell_type": "code",
   "execution_count": 90,
   "metadata": {},
   "outputs": [
    {
     "name": "stdout",
     "output_type": "stream",
     "text": [
      "Topic: 0 Word: 0.008*\"contener\" + 0.008*\"pensionario\" + 0.007*\"certificar\" + 0.007*\"seguridad\" + 0.006*\"casar\" + 0.006*\"previamente\" + 0.006*\"talar\" + 0.006*\"social\" + 0.006*\"prestacion\" + 0.006*\"instituto\"\n",
      "Topic: 1 Word: 0.006*\"federal\" + 0.005*\"investigacion\" + 0.005*\"comision\" + 0.005*\"aplicar\" + 0.004*\"proteccion\" + 0.004*\"denunciar\" + 0.004*\"presupuestar\" + 0.004*\"documentar\" + 0.004*\"informar\" + 0.004*\"municipio\"\n",
      "Topic: 2 Word: 0.013*\"pemex\" + 0.010*\"produccion\" + 0.010*\"exploracion\" + 0.006*\"celebrar\" + 0.005*\"oficio\" + 0.005*\"acuerdo\" + 0.005*\"escrito\" + 0.004*\"resolución\" + 0.004*\"plataforma\" + 0.004*\"tipo\"\n",
      "Topic: 3 Word: 0.009*\"internet\" + 0.008*\"requerir\" + 0.007*\"formato\" + 0.007*\"salariar\" + 0.007*\"soldar\" + 0.006*\"servidor\" + 0.006*\"cuestionario\" + 0.005*\"costo\" + 0.005*\"contestar\" + 0.005*\"hacerse\"\n",
      "Topic: 4 Word: 0.026*\"presupuestar\" + 0.015*\"anual\" + 0.011*\"partir\" + 0.007*\"presupuestal\" + 0.005*\"instituto\" + 0.005*\"gastar\" + 0.005*\"referente\" + 0.004*\"principal\" + 0.004*\"enfermedad\" + 0.004*\"acta\"\n",
      "Topic: 5 Word: 0.007*\"presupuestar\" + 0.006*\"destinar\" + 0.006*\"federal\" + 0.005*\"municipio\" + 0.005*\"permiso\" + 0.004*\"otorgar\" + 0.004*\"sinaloa\" + 0.004*\"zona\" + 0.004*\"federacion\" + 0.004*\"secretario\"\n",
      "Topic: 6 Word: 0.014*\"acta\" + 0.011*\"fallir\" + 0.007*\"realizar\" + 0.006*\"contratacion\" + 0.006*\"convenio\" + 0.006*\"sistema\" + 0.006*\"tecnica\" + 0.006*\"anexo\" + 0.006*\"procedimiento\" + 0.006*\"propuesta\"\n",
      "Topic: 7 Word: 0.008*\"obrar\" + 0.006*\"monto\" + 0.006*\"periodicos\" + 0.006*\"imprimir\" + 0.005*\"monitoreo\" + 0.005*\"medio\" + 0.005*\"asignar\" + 0.005*\"provedores\" + 0.004*\"empresa\" + 0.004*\"municipio\"\n",
      "Topic: 8 Word: 0.019*\"medicamento\" + 0.012*\"parrafo\" + 0.010*\"pieza\" + 0.008*\"licitacion\" + 0.008*\"fundamentar\" + 0.008*\"empresa\" + 0.008*\"expedir\" + 0.007*\"capitular\" + 0.007*\"preciar\" + 0.006*\"medicar\"\n",
      "Topic: 9 Word: 0.010*\"tramitar\" + 0.005*\"delito\" + 0.005*\"cofepris\" + 0.005*\"infomex\" + 0.005*\"sanitario\" + 0.005*\"practicar\" + 0.004*\"certificar\" + 0.004*\"federal\" + 0.004*\"otorgar\" + 0.004*\"penal\"\n",
      "Topic: 10 Word: 0.010*\"delegacion\" + 0.008*\"clave\" + 0.008*\"sondar\" + 0.007*\"imss\" + 0.007*\"proveedor\" + 0.007*\"entregar\" + 0.007*\"nelaton\" + 0.006*\"extinguidores\" + 0.006*\"licitacion\" + 0.006*\"dentilab\"\n",
      "Topic: 11 Word: 0.008*\"escuela\" + 0.008*\"gratuito\" + 0.008*\"saludo\" + 0.006*\"educacion\" + 0.006*\"gracia\" + 0.004*\"secretario\" + 0.004*\"nivel\" + 0.004*\"federal\" + 0.003*\"docente\" + 0.003*\"convenio\"\n",
      "Topic: 12 Word: 0.007*\"coordinacion\" + 0.007*\"imss\" + 0.006*\"delegacion\" + 0.006*\"insumo\" + 0.005*\"evidenciar\" + 0.005*\"universidad\" + 0.005*\"kofi\" + 0.005*\"actue\" + 0.005*\"predominio\" + 0.005*\"annan\"\n",
      "Topic: 13 Word: 0.005*\"credito\" + 0.005*\"medicar\" + 0.004*\"especialidad\" + 0.004*\"secretario\" + 0.004*\"hospital\" + 0.004*\"raza\" + 0.004*\"centrar\" + 0.004*\"federal\" + 0.004*\"publicar\" + 0.004*\"hacendar\"\n",
      "Topic: 14 Word: 0.005*\"ambiental\" + 0.005*\"medicar\" + 0.004*\"medicamento\" + 0.004*\"paciente\" + 0.004*\"aguar\" + 0.003*\"recetar\" + 0.003*\"delegacion\" + 0.003*\"obrar\" + 0.003*\"municipio\" + 0.003*\"sistema\"\n",
      "Topic: 15 Word: 0.007*\"documentar\" + 0.006*\"dental\" + 0.005*\"inaes\" + 0.005*\"testar\" + 0.005*\"eleccion\" + 0.005*\"emision\" + 0.005*\"publicar\" + 0.004*\"reglamentar\" + 0.004*\"enel\" + 0.004*\"cepillo\"\n",
      "Topic: 16 Word: 0.008*\"elector\" + 0.006*\"viajar\" + 0.005*\"federal\" + 0.005*\"tratar\" + 0.005*\"grupo\" + 0.005*\"extranjero\" + 0.004*\"credencial\" + 0.004*\"migrante\" + 0.004*\"domicilio\" + 0.004*\"fotografia\"\n",
      "Topic: 17 Word: 0.006*\"gobernar\" + 0.005*\"federal\" + 0.005*\"seguro\" + 0.005*\"desarrollar\" + 0.005*\"municipio\" + 0.005*\"externo\" + 0.005*\"asesor\" + 0.004*\"licitacion\" + 0.004*\"eficaz\" + 0.004*\"denunciar\"\n",
      "Topic: 18 Word: 0.011*\"sindicato\" + 0.010*\"trabajador\" + 0.008*\"punto\" + 0.008*\"sindical\" + 0.007*\"global\" + 0.006*\"requerir\" + 0.005*\"circular\" + 0.005*\"elano\" + 0.005*\"federal\" + 0.005*\"electricidad\"\n",
      "Topic: 19 Word: 0.009*\"medicamento\" + 0.006*\"municipio\" + 0.004*\"nominar\" + 0.004*\"casar\" + 0.004*\"medicar\" + 0.004*\"aguar\" + 0.004*\"presentacion\" + 0.004*\"producto\" + 0.003*\"lasecretaria\" + 0.003*\"requerir\"\n"
     ]
    }
   ],
   "source": [
    "for idx, topic in lda_model_tfidf_20.print_topics(-1):\n",
    "    print('Topic: {} Word: {}'.format(idx, topic))"
   ]
  },
  {
   "cell_type": "markdown",
   "metadata": {},
   "source": [
    "### Guardamos en S3"
   ]
  },
  {
   "cell_type": "code",
   "execution_count": 91,
   "metadata": {},
   "outputs": [
    {
     "data": {
      "text/plain": [
       "{'ResponseMetadata': {'RequestId': '5582815593136E05',\n",
       "  'HostId': '+G93VgabKphXlCH45C1pJmoH0R3PWFMPLhx8xG3PhPzu/YrCHdTaZp3qKLj3AgXhhZxcOvO3ViI=',\n",
       "  'HTTPStatusCode': 200,\n",
       "  'HTTPHeaders': {'x-amz-id-2': '+G93VgabKphXlCH45C1pJmoH0R3PWFMPLhx8xG3PhPzu/YrCHdTaZp3qKLj3AgXhhZxcOvO3ViI=',\n",
       "   'x-amz-request-id': '5582815593136E05',\n",
       "   'date': 'Thu, 30 Jul 2020 17:22:12 GMT',\n",
       "   'etag': '\"1ea543a39daef472b7d9ea8b58c29b14\"',\n",
       "   'content-length': '0',\n",
       "   'server': 'AmazonS3'},\n",
       "  'RetryAttempts': 0},\n",
       " 'ETag': '\"1ea543a39daef472b7d9ea8b58c29b14\"'}"
      ]
     },
     "execution_count": 91,
     "metadata": {},
     "output_type": "execute_result"
    }
   ],
   "source": [
    "bucket='inai-summerofdata'\n",
    "key='modeling/LDA/3/2014/df_2014.pkl'\n",
    "pickle_byte_obj = pickle.dumps(df_2014)\n",
    "s3_resource = boto3.resource('s3')\n",
    "s3_resource.Object(bucket, key).put(Body=pickle_byte_obj)"
   ]
  },
  {
   "cell_type": "code",
   "execution_count": 92,
   "metadata": {},
   "outputs": [
    {
     "data": {
      "text/plain": [
       "{'ResponseMetadata': {'RequestId': '7BA98940B16A76D5',\n",
       "  'HostId': 'RAjD5TsH74FN9dKV+2H40Lit1+oHUcRliuDsswSk/etxsoX04BAcEyAsW9poH+fhU98CZszo/0U=',\n",
       "  'HTTPStatusCode': 200,\n",
       "  'HTTPHeaders': {'x-amz-id-2': 'RAjD5TsH74FN9dKV+2H40Lit1+oHUcRliuDsswSk/etxsoX04BAcEyAsW9poH+fhU98CZszo/0U=',\n",
       "   'x-amz-request-id': '7BA98940B16A76D5',\n",
       "   'date': 'Thu, 30 Jul 2020 17:23:35 GMT',\n",
       "   'etag': '\"aabf5cbe6515c21af962972c27b5c914\"',\n",
       "   'content-length': '0',\n",
       "   'server': 'AmazonS3'},\n",
       "  'RetryAttempts': 0},\n",
       " 'ETag': '\"aabf5cbe6515c21af962972c27b5c914\"'}"
      ]
     },
     "execution_count": 92,
     "metadata": {},
     "output_type": "execute_result"
    }
   ],
   "source": [
    "bucket='inai-summerofdata'\n",
    "key='modeling/LDA/3/2014/processed_docs.pkl'\n",
    "pickle_byte_obj = pickle.dumps(processed_docs)\n",
    "s3_resource = boto3.resource('s3')\n",
    "s3_resource.Object(bucket, key).put(Body=pickle_byte_obj)"
   ]
  },
  {
   "cell_type": "code",
   "execution_count": 93,
   "metadata": {},
   "outputs": [
    {
     "data": {
      "text/plain": [
       "{'ResponseMetadata': {'RequestId': '6W8JCS2N6G2V8Q0T',\n",
       "  'HostId': 'gpEYM+sfXfkITWvg2HbKHgBrDcebPwKJhSMFMhE9TvR92RO9m3zB6vpN16/jCRN8QsxtlyIyM88=',\n",
       "  'HTTPStatusCode': 200,\n",
       "  'HTTPHeaders': {'x-amz-id-2': 'gpEYM+sfXfkITWvg2HbKHgBrDcebPwKJhSMFMhE9TvR92RO9m3zB6vpN16/jCRN8QsxtlyIyM88=',\n",
       "   'x-amz-request-id': '6W8JCS2N6G2V8Q0T',\n",
       "   'date': 'Thu, 30 Jul 2020 17:23:51 GMT',\n",
       "   'etag': '\"6fde0f0c2eba5c5502eb073c00ad6afd\"',\n",
       "   'content-length': '0',\n",
       "   'server': 'AmazonS3'},\n",
       "  'RetryAttempts': 0},\n",
       " 'ETag': '\"6fde0f0c2eba5c5502eb073c00ad6afd\"'}"
      ]
     },
     "execution_count": 93,
     "metadata": {},
     "output_type": "execute_result"
    }
   ],
   "source": [
    "bucket='inai-summerofdata'\n",
    "key='modeling/LDA/3/2014/lda_model_tfidf_5.pkl'\n",
    "pickle_byte_obj = pickle.dumps(lda_model_tfidf_5)\n",
    "s3_resource = boto3.resource('s3')\n",
    "s3_resource.Object(bucket, key).put(Body=pickle_byte_obj)"
   ]
  },
  {
   "cell_type": "code",
   "execution_count": 94,
   "metadata": {},
   "outputs": [
    {
     "data": {
      "text/plain": [
       "{'ResponseMetadata': {'RequestId': '87C4CE99360481C9',\n",
       "  'HostId': 'GeyGIFTr0peaaRruhjewRrmecm/dT6tS47RqFTKW0CWCTjsbiccyoDB7I84ETeJ0CLAm17i/i2g=',\n",
       "  'HTTPStatusCode': 200,\n",
       "  'HTTPHeaders': {'x-amz-id-2': 'GeyGIFTr0peaaRruhjewRrmecm/dT6tS47RqFTKW0CWCTjsbiccyoDB7I84ETeJ0CLAm17i/i2g=',\n",
       "   'x-amz-request-id': '87C4CE99360481C9',\n",
       "   'date': 'Thu, 30 Jul 2020 17:23:55 GMT',\n",
       "   'etag': '\"3aeb4709ff6cf82bbc31c9c3f1074f8b\"',\n",
       "   'content-length': '0',\n",
       "   'server': 'AmazonS3'},\n",
       "  'RetryAttempts': 0},\n",
       " 'ETag': '\"3aeb4709ff6cf82bbc31c9c3f1074f8b\"'}"
      ]
     },
     "execution_count": 94,
     "metadata": {},
     "output_type": "execute_result"
    }
   ],
   "source": [
    "bucket='inai-summerofdata'\n",
    "key='modeling/LDA/3/2014/lda_model_tfidf_10.pkl'\n",
    "pickle_byte_obj = pickle.dumps(lda_model_tfidf_10)\n",
    "s3_resource = boto3.resource('s3')\n",
    "s3_resource.Object(bucket, key).put(Body=pickle_byte_obj)"
   ]
  },
  {
   "cell_type": "code",
   "execution_count": 95,
   "metadata": {},
   "outputs": [
    {
     "data": {
      "text/plain": [
       "{'ResponseMetadata': {'RequestId': '817201B5875D93E0',\n",
       "  'HostId': 'HJt5UfouLcAa9BK4s6fp3jAKaZRT/SuYiOW2ScxW4LnmwRUKGCR7RYiBjiOXfg0FzLNwj5qEb6s=',\n",
       "  'HTTPStatusCode': 200,\n",
       "  'HTTPHeaders': {'x-amz-id-2': 'HJt5UfouLcAa9BK4s6fp3jAKaZRT/SuYiOW2ScxW4LnmwRUKGCR7RYiBjiOXfg0FzLNwj5qEb6s=',\n",
       "   'x-amz-request-id': '817201B5875D93E0',\n",
       "   'date': 'Thu, 30 Jul 2020 17:24:00 GMT',\n",
       "   'etag': '\"a78fd00bcdbdbb4e300cbe0326f5a956\"',\n",
       "   'content-length': '0',\n",
       "   'server': 'AmazonS3'},\n",
       "  'RetryAttempts': 0},\n",
       " 'ETag': '\"a78fd00bcdbdbb4e300cbe0326f5a956\"'}"
      ]
     },
     "execution_count": 95,
     "metadata": {},
     "output_type": "execute_result"
    }
   ],
   "source": [
    "bucket='inai-summerofdata'\n",
    "key='modeling/LDA/3/2014/lda_model_tfidf_20.pkl'\n",
    "pickle_byte_obj = pickle.dumps(lda_model_tfidf_20)\n",
    "s3_resource = boto3.resource('s3')\n",
    "s3_resource.Object(bucket, key).put(Body=pickle_byte_obj)"
   ]
  },
  {
   "cell_type": "markdown",
   "metadata": {},
   "source": [
    "# 2015"
   ]
  },
  {
   "cell_type": "code",
   "execution_count": 96,
   "metadata": {},
   "outputs": [],
   "source": [
    "filtro = df_new['anosolicitud'] == 2015\n",
    "df_2015 = df_new[filtro]"
   ]
  },
  {
   "cell_type": "code",
   "execution_count": 97,
   "metadata": {},
   "outputs": [
    {
     "name": "stdout",
     "output_type": "stream",
     "text": [
      "<class 'pandas.core.frame.DataFrame'>\n",
      "Int64Index: 111590 entries, 194997 to 908310\n",
      "Data columns (total 31 columns):\n",
      " #   Column                         Non-Null Count   Dtype         \n",
      "---  ------                         --------------   -----         \n",
      " 0   folio                          111590 non-null  object        \n",
      " 1   fechasolicitud                 111590 non-null  datetime64[ns]\n",
      " 2   dependencia                    111590 non-null  object        \n",
      " 3   estatus                        111590 non-null  object        \n",
      " 4   medioentrada                   111590 non-null  object        \n",
      " 5   tiposolicitud                  111590 non-null  object        \n",
      " 6   descripcionsolicitud           111590 non-null  object        \n",
      " 7   otrosdatos                     111590 non-null  object        \n",
      " 8   archivoadjuntosolicitud        111590 non-null  object        \n",
      " 9   medioentrega                   111590 non-null  object        \n",
      " 10  fechalimite                    106108 non-null  datetime64[ns]\n",
      " 11  respuesta                      111590 non-null  object        \n",
      " 12  textorespuesta                 111590 non-null  object        \n",
      " 13  archivorespuesta               111590 non-null  object        \n",
      " 14  fecharespuesta                 111590 non-null  datetime64[ns]\n",
      " 15  pais                           111590 non-null  object        \n",
      " 16  estado                         111590 non-null  object        \n",
      " 17  municipio                      111590 non-null  object        \n",
      " 18  codigopostal                   111590 non-null  object        \n",
      " 19  sector                         111590 non-null  object        \n",
      " 20  tipo_archivo_respuesta         111590 non-null  object        \n",
      " 21  cantidad_archivos_respuesta    89937 non-null   float64       \n",
      " 22  texto_respuesta_adjunto        111590 non-null  object        \n",
      " 23  respuestareal                  111590 non-null  object        \n",
      " 24  calidad_respuesta              111590 non-null  object        \n",
      " 25  calidad_respuesta_real         111590 non-null  object        \n",
      " 26  solicitud_longitud             111590 non-null  int64         \n",
      " 27  descripcionsolicitud_lemma     111590 non-null  object        \n",
      " 28  codigo_calidad_respuesta_real  111590 non-null  int64         \n",
      " 29  solicitud_lemma_longitud       111590 non-null  int64         \n",
      " 30  anosolicitud                   111590 non-null  int64         \n",
      "dtypes: datetime64[ns](3), float64(1), int64(4), object(23)\n",
      "memory usage: 27.2+ MB\n"
     ]
    }
   ],
   "source": [
    "df_2015.info()"
   ]
  },
  {
   "cell_type": "code",
   "execution_count": 98,
   "metadata": {},
   "outputs": [],
   "source": [
    "data = df_2015[['descripcionsolicitud_lemma']]\n",
    "data['index'] = data.index\n",
    "docs = data"
   ]
  },
  {
   "cell_type": "code",
   "execution_count": 99,
   "metadata": {},
   "outputs": [
    {
     "data": {
      "text/html": [
       "<div>\n",
       "<style scoped>\n",
       "    .dataframe tbody tr th:only-of-type {\n",
       "        vertical-align: middle;\n",
       "    }\n",
       "\n",
       "    .dataframe tbody tr th {\n",
       "        vertical-align: top;\n",
       "    }\n",
       "\n",
       "    .dataframe thead th {\n",
       "        text-align: right;\n",
       "    }\n",
       "</style>\n",
       "<table border=\"1\" class=\"dataframe\">\n",
       "  <thead>\n",
       "    <tr style=\"text-align: right;\">\n",
       "      <th></th>\n",
       "      <th>descripcionsolicitud_lemma</th>\n",
       "      <th>index</th>\n",
       "    </tr>\n",
       "  </thead>\n",
       "  <tbody>\n",
       "    <tr>\n",
       "      <th>194997</th>\n",
       "      <td>separar infraestructura construir lascar const...</td>\n",
       "      <td>194997</td>\n",
       "    </tr>\n",
       "    <tr>\n",
       "      <th>194998</th>\n",
       "      <td>separar infraestructurasconstruidas construcci...</td>\n",
       "      <td>194998</td>\n",
       "    </tr>\n",
       "    <tr>\n",
       "      <th>195000</th>\n",
       "      <td>proporcionar manual deprocedimientos utilizar ...</td>\n",
       "      <td>195000</td>\n",
       "    </tr>\n",
       "    <tr>\n",
       "      <th>195001</th>\n",
       "      <td>proporcionar calendario deconvocatorias public...</td>\n",
       "      <td>195001</td>\n",
       "    </tr>\n",
       "    <tr>\n",
       "      <th>195002</th>\n",
       "      <td>andres borunda valle jubilar central termoelec...</td>\n",
       "      <td>195002</td>\n",
       "    </tr>\n",
       "  </tbody>\n",
       "</table>\n",
       "</div>"
      ],
      "text/plain": [
       "                               descripcionsolicitud_lemma   index\n",
       "194997  separar infraestructura construir lascar const...  194997\n",
       "194998  separar infraestructurasconstruidas construcci...  194998\n",
       "195000  proporcionar manual deprocedimientos utilizar ...  195000\n",
       "195001  proporcionar calendario deconvocatorias public...  195001\n",
       "195002  andres borunda valle jubilar central termoelec...  195002"
      ]
     },
     "execution_count": 99,
     "metadata": {},
     "output_type": "execute_result"
    }
   ],
   "source": [
    "docs.head()"
   ]
  },
  {
   "cell_type": "code",
   "execution_count": 100,
   "metadata": {},
   "outputs": [],
   "source": [
    "import spacy\n",
    "import nltk\n",
    "from nltk import SnowballStemmer"
   ]
  },
  {
   "cell_type": "code",
   "execution_count": 101,
   "metadata": {},
   "outputs": [],
   "source": [
    "nlp = spacy.load('es_core_news_sm')"
   ]
  },
  {
   "cell_type": "code",
   "execution_count": 102,
   "metadata": {},
   "outputs": [],
   "source": [
    "def ProcesarTexto(texto):\n",
    "    \n",
    "    doc = nlp(texto)\n",
    "    words = [t.text for t in doc]\n",
    "    \n",
    "    return words"
   ]
  },
  {
   "cell_type": "code",
   "execution_count": 103,
   "metadata": {},
   "outputs": [],
   "source": [
    "import multiprocessing\n",
    "from multiprocessing.dummy import Pool as ThreadPool"
   ]
  },
  {
   "cell_type": "code",
   "execution_count": 104,
   "metadata": {},
   "outputs": [
    {
     "data": {
      "text/plain": [
       "12"
      ]
     },
     "execution_count": 104,
     "metadata": {},
     "output_type": "execute_result"
    }
   ],
   "source": [
    "cores = multiprocessing.cpu_count()\n",
    "pool = ThreadPool(cores)\n",
    "cores"
   ]
  },
  {
   "cell_type": "code",
   "execution_count": 105,
   "metadata": {},
   "outputs": [],
   "source": [
    "processed_docs = pool.map(ProcesarTexto, docs['descripcionsolicitud_lemma'])\n",
    "pool.close()"
   ]
  },
  {
   "cell_type": "code",
   "execution_count": 106,
   "metadata": {},
   "outputs": [],
   "source": [
    "import gensim"
   ]
  },
  {
   "cell_type": "code",
   "execution_count": 107,
   "metadata": {},
   "outputs": [],
   "source": [
    "dictionary = gensim.corpora.Dictionary(processed_docs)"
   ]
  },
  {
   "cell_type": "code",
   "execution_count": 108,
   "metadata": {},
   "outputs": [],
   "source": [
    "dictionary.filter_extremes(no_below=15, no_above=0.5, keep_n=100000)"
   ]
  },
  {
   "cell_type": "code",
   "execution_count": 109,
   "metadata": {},
   "outputs": [],
   "source": [
    "bow_corpus = [dictionary.doc2bow(doc) for doc in processed_docs]"
   ]
  },
  {
   "cell_type": "code",
   "execution_count": 110,
   "metadata": {},
   "outputs": [],
   "source": [
    "from gensim import corpora, models\n",
    "from pprint import pprint"
   ]
  },
  {
   "cell_type": "code",
   "execution_count": 111,
   "metadata": {},
   "outputs": [],
   "source": [
    "tfidf = models.TfidfModel(bow_corpus)\n",
    "corpus_tfidf = tfidf[bow_corpus]"
   ]
  },
  {
   "cell_type": "markdown",
   "metadata": {},
   "source": [
    "### 5 tópicos TF-IDF"
   ]
  },
  {
   "cell_type": "code",
   "execution_count": 112,
   "metadata": {},
   "outputs": [],
   "source": [
    "lda_model_tfidf_5 = gensim.models.LdaMulticore(corpus_tfidf, \n",
    "                                            num_topics=5,\n",
    "                                            id2word=dictionary,\n",
    "                                            passes=2,\n",
    "                                            workers=cores)"
   ]
  },
  {
   "cell_type": "code",
   "execution_count": 113,
   "metadata": {},
   "outputs": [
    {
     "name": "stdout",
     "output_type": "stream",
     "text": [
      "Topic: 0 Word: 0.008*\"presupuestar\" + 0.005*\"federal\" + 0.005*\"articular\" + 0.005*\"otorgar\" + 0.004*\"destinar\" + 0.004*\"sanitario\" + 0.004*\"municipio\" + 0.004*\"permiso\" + 0.004*\"partir\" + 0.004*\"escribir\"\n",
      "Topic: 1 Word: 0.005*\"servidor\" + 0.004*\"publicar\" + 0.004*\"secretario\" + 0.004*\"federal\" + 0.003*\"municipio\" + 0.003*\"casar\" + 0.003*\"informar\" + 0.003*\"capacitacion\" + 0.003*\"requerir\" + 0.003*\"proporcionar\"\n",
      "Topic: 2 Word: 0.007*\"medicamento\" + 0.005*\"hospital\" + 0.005*\"medicar\" + 0.004*\"delegacion\" + 0.004*\"imss\" + 0.004*\"informar\" + 0.004*\"ciudadano\" + 0.004*\"parrafo\" + 0.004*\"contraloria\" + 0.004*\"licitacion\"\n",
      "Topic: 3 Word: 0.004*\"requerir\" + 0.004*\"informar\" + 0.004*\"documentar\" + 0.003*\"federal\" + 0.003*\"secretario\" + 0.003*\"municipio\" + 0.003*\"seguridad\" + 0.003*\"incluir\" + 0.003*\"escuela\" + 0.003*\"social\"\n",
      "Topic: 4 Word: 0.005*\"montar\" + 0.004*\"trabajador\" + 0.004*\"federal\" + 0.004*\"informar\" + 0.004*\"secretario\" + 0.004*\"ayudar\" + 0.003*\"periodo\" + 0.003*\"administracion\" + 0.003*\"requerir\" + 0.003*\"convenio\"\n"
     ]
    }
   ],
   "source": [
    "for idx, topic in lda_model_tfidf_5.print_topics(-1):\n",
    "    print('Topic: {} Word: {}'.format(idx, topic))"
   ]
  },
  {
   "cell_type": "markdown",
   "metadata": {},
   "source": [
    "### 10 tópicos TF-IDF"
   ]
  },
  {
   "cell_type": "code",
   "execution_count": 114,
   "metadata": {},
   "outputs": [],
   "source": [
    "lda_model_tfidf_10 = gensim.models.LdaMulticore(corpus_tfidf, \n",
    "                                            num_topics=10,\n",
    "                                            id2word=dictionary,\n",
    "                                            passes=2,\n",
    "                                            workers=cores)"
   ]
  },
  {
   "cell_type": "code",
   "execution_count": 115,
   "metadata": {},
   "outputs": [
    {
     "name": "stdout",
     "output_type": "stream",
     "text": [
      "Topic: 0 Word: 0.009*\"ahorrador\" + 0.008*\"escribir\" + 0.008*\"requerimiento\" + 0.007*\"proteccion\" + 0.007*\"librar\" + 0.007*\"informar\" + 0.006*\"octubre\" + 0.006*\"ficrea\" + 0.005*\"consecutivo\" + 0.005*\"especificar\"\n",
      "Topic: 1 Word: 0.005*\"federal\" + 0.004*\"empresa\" + 0.004*\"municipio\" + 0.004*\"ambiental\" + 0.004*\"padron\" + 0.003*\"santo\" + 0.003*\"energia\" + 0.003*\"obrar\" + 0.003*\"proagro\" + 0.003*\"impactar\"\n",
      "Topic: 2 Word: 0.006*\"laborar\" + 0.006*\"ayudar\" + 0.005*\"federal\" + 0.005*\"informar\" + 0.005*\"trabajador\" + 0.005*\"prestación\" + 0.005*\"administracion\" + 0.004*\"secretario\" + 0.004*\"montar\" + 0.004*\"autorizar\"\n",
      "Topic: 3 Word: 0.007*\"pormenorizar\" + 0.006*\"requerir\" + 0.005*\"documentar\" + 0.005*\"preve\" + 0.005*\"campana\" + 0.004*\"social\" + 0.004*\"preguntar\" + 0.004*\"anual\" + 0.004*\"difusion\" + 0.004*\"contener\"\n",
      "Topic: 4 Word: 0.008*\"partir\" + 0.007*\"cuestionario\" + 0.007*\"contestar\" + 0.007*\"presupuestar\" + 0.007*\"montar\" + 0.005*\"destinar\" + 0.005*\"formato\" + 0.004*\"desglosar\" + 0.004*\"secretario\" + 0.004*\"ejercicio\"\n",
      "Topic: 5 Word: 0.008*\"sanitario\" + 0.006*\"ciudadano\" + 0.006*\"delegacion\" + 0.005*\"instituto\" + 0.005*\"imss\" + 0.005*\"contraloria\" + 0.004*\"cofepris\" + 0.004*\"social\" + 0.004*\"denunciar\" + 0.004*\"mexicano\"\n",
      "Topic: 6 Word: 0.005*\"sexo\" + 0.005*\"desagregar\" + 0.005*\"municipio\" + 0.005*\"hospital\" + 0.005*\"tratamiento\" + 0.005*\"salud\" + 0.004*\"requerir\" + 0.004*\"cronica\" + 0.004*\"leucemia\" + 0.004*\"numeros\"\n",
      "Topic: 7 Word: 0.007*\"presupuestar\" + 0.004*\"federal\" + 0.004*\"publicar\" + 0.004*\"profesional\" + 0.004*\"secretario\" + 0.003*\"medicamento\" + 0.003*\"federacion\" + 0.003*\"egreso\" + 0.003*\"medicar\" + 0.003*\"proyecto\"\n",
      "Topic: 8 Word: 0.007*\"escuela\" + 0.006*\"servidor\" + 0.006*\"capacitacion\" + 0.004*\"presupuestar\" + 0.004*\"curso\" + 0.003*\"informar\" + 0.003*\"destinar\" + 0.003*\"delegacion\" + 0.003*\"institucion\" + 0.003*\"casar\"\n",
      "Topic: 9 Word: 0.012*\"medicamento\" + 0.007*\"fundamentar\" + 0.007*\"parrafo\" + 0.007*\"articular\" + 0.006*\"pieza\" + 0.005*\"licitacion\" + 0.005*\"social\" + 0.005*\"gubernamental\" + 0.004*\"preciar\" + 0.004*\"producto\"\n"
     ]
    }
   ],
   "source": [
    "for idx, topic in lda_model_tfidf_10.print_topics(-1):\n",
    "    print('Topic: {} Word: {}'.format(idx, topic))"
   ]
  },
  {
   "cell_type": "markdown",
   "metadata": {},
   "source": [
    "### 20 tópicos TF-IDF"
   ]
  },
  {
   "cell_type": "code",
   "execution_count": 116,
   "metadata": {},
   "outputs": [],
   "source": [
    "lda_model_tfidf_20 = gensim.models.LdaMulticore(corpus_tfidf, \n",
    "                                            num_topics=20,\n",
    "                                            id2word=dictionary,\n",
    "                                            passes=2,\n",
    "                                            workers=cores)"
   ]
  },
  {
   "cell_type": "code",
   "execution_count": 117,
   "metadata": {},
   "outputs": [
    {
     "name": "stdout",
     "output_type": "stream",
     "text": [
      "Topic: 0 Word: 0.007*\"ciudadano\" + 0.006*\"gente\" + 0.006*\"delegacion\" + 0.006*\"contraloria\" + 0.006*\"detwitter\" + 0.006*\"imss\" + 0.005*\"corrupto\" + 0.005*\"acto\" + 0.005*\"denunciar\" + 0.005*\"decorrupcion\"\n",
      "Topic: 1 Word: 0.008*\"social\" + 0.007*\"campana\" + 0.006*\"redar\" + 0.006*\"difusion\" + 0.006*\"salud\" + 0.005*\"comunicacion\" + 0.005*\"instituto\" + 0.005*\"consultar\" + 0.004*\"medio\" + 0.004*\"secretario\"\n",
      "Topic: 2 Word: 0.011*\"requerimiento\" + 0.010*\"librar\" + 0.010*\"escribir\" + 0.009*\"octubre\" + 0.005*\"oficiar\" + 0.005*\"igualdad\" + 0.005*\"sonar\" + 0.005*\"derrotar\" + 0.004*\"secretario\" + 0.004*\"anexo\"\n",
      "Topic: 3 Word: 0.007*\"partir\" + 0.006*\"trabajador\" + 0.006*\"prestacion\" + 0.005*\"informar\" + 0.005*\"montar\" + 0.005*\"autorizar\" + 0.005*\"nominar\" + 0.005*\"presupuestar\" + 0.005*\"presupuestal\" + 0.005*\"confianza\"\n",
      "Topic: 4 Word: 0.005*\"prestar\" + 0.005*\"licenciar\" + 0.005*\"medicamento\" + 0.005*\"medicar\" + 0.004*\"administracion\" + 0.004*\"paciente\" + 0.004*\"recetar\" + 0.004*\"laborar\" + 0.003*\"estrato\" + 0.003*\"social\"\n",
      "Topic: 5 Word: 0.005*\"informar\" + 0.005*\"rendicion\" + 0.005*\"periodo\" + 0.005*\"llevar\" + 0.005*\"comprender\" + 0.005*\"accionar\" + 0.005*\"federal\" + 0.004*\"secretario\" + 0.004*\"universidad\" + 0.004*\"obrar\"\n",
      "Topic: 6 Word: 0.011*\"desagregar\" + 0.011*\"tratamiento\" + 0.010*\"hospital\" + 0.010*\"sexo\" + 0.010*\"leucemia\" + 0.010*\"mieloide\" + 0.009*\"cronica\" + 0.009*\"consecutivo\" + 0.009*\"esquema\" + 0.009*\"numeros\"\n",
      "Topic: 7 Word: 0.005*\"secretario\" + 0.005*\"empresa\" + 0.004*\"informar\" + 0.004*\"documentar\" + 0.003*\"profesional\" + 0.003*\"medicar\" + 0.003*\"social\" + 0.003*\"licitacion\" + 0.003*\"salud\" + 0.003*\"instituto\"\n",
      "Topic: 8 Word: 0.008*\"padron\" + 0.007*\"proagro\" + 0.007*\"cuestionario\" + 0.007*\"contestar\" + 0.006*\"obrar\" + 0.005*\"ampliación\" + 0.005*\"remodelación\" + 0.005*\"procampo\" + 0.004*\"dominio\" + 0.004*\"formato\"\n",
      "Topic: 9 Word: 0.012*\"presupuestar\" + 0.007*\"federal\" + 0.005*\"objetivar\" + 0.005*\"anual\" + 0.005*\"atender\" + 0.005*\"secretario\" + 0.005*\"potencial\" + 0.004*\"porcentaje\" + 0.004*\"trabajador\" + 0.004*\"administracion\"\n",
      "Topic: 10 Word: 0.013*\"capacitacion\" + 0.012*\"pormenorizar\" + 0.010*\"servidor\" + 0.008*\"curso\" + 0.008*\"preve\" + 0.008*\"requerir\" + 0.006*\"preguntar\" + 0.005*\"presupuestar\" + 0.005*\"documentar\" + 0.005*\"destinar\"\n",
      "Topic: 11 Word: 0.008*\"condusef\" + 0.006*\"mujer\" + 0.005*\"defensa\" + 0.004*\"presupuestar\" + 0.004*\"sedena\" + 0.004*\"militar\" + 0.004*\"acuerdo\" + 0.004*\"institucion\" + 0.004*\"armar\" + 0.004*\"municipio\"\n",
      "Topic: 12 Word: 0.021*\"medicamento\" + 0.011*\"parrafo\" + 0.010*\"pieza\" + 0.010*\"fundamentar\" + 0.007*\"gubernamental\" + 0.007*\"articular\" + 0.006*\"confidencial\" + 0.006*\"expedir\" + 0.006*\"entregarse\" + 0.006*\"prever\"\n",
      "Topic: 13 Word: 0.009*\"aguar\" + 0.008*\"tabla\" + 0.007*\"laborar\" + 0.006*\"montar\" + 0.006*\"economico\" + 0.006*\"comision\" + 0.005*\"consumir\" + 0.005*\"profesionistas\" + 0.005*\"prestar\" + 0.004*\"objetar\"\n",
      "Topic: 14 Word: 0.006*\"federal\" + 0.005*\"montar\" + 0.005*\"exel\" + 0.004*\"patrimonial\" + 0.004*\"municipio\" + 0.004*\"direccionar\" + 0.004*\"mercar\" + 0.003*\"siniestro\" + 0.003*\"direccion\" + 0.003*\"relacion\"\n",
      "Topic: 15 Word: 0.004*\"federal\" + 0.004*\"instituto\" + 0.003*\"informar\" + 0.003*\"tipo\" + 0.003*\"presupuestar\" + 0.003*\"latex\" + 0.003*\"municipio\" + 0.003*\"centímetro\" + 0.003*\"calibrar\" + 0.003*\"nivel\"\n",
      "Topic: 16 Word: 0.006*\"articular\" + 0.005*\"pemex\" + 0.005*\"ambiental\" + 0.005*\"oficiar\" + 0.004*\"secretario\" + 0.004*\"director\" + 0.003*\"empresa\" + 0.003*\"impactar\" + 0.003*\"direccion\" + 0.003*\"federal\"\n",
      "Topic: 17 Word: 0.012*\"ayudar\" + 0.010*\"permiso\" + 0.008*\"talar\" + 0.007*\"federal\" + 0.007*\"cantidad\" + 0.007*\"autorizar\" + 0.007*\"anualidad\" + 0.006*\"informar\" + 0.006*\"transportar\" + 0.006*\"mesar\"\n",
      "Topic: 18 Word: 0.007*\"municipio\" + 0.005*\"delegacion\" + 0.004*\"gratificacion\" + 0.004*\"yucatan\" + 0.004*\"nivel\" + 0.004*\"indigenas\" + 0.004*\"federal\" + 0.004*\"santo\" + 0.004*\"ensenanza\" + 0.004*\"ubicar\"\n",
      "Topic: 19 Word: 0.021*\"ahorrador\" + 0.014*\"ficrea\" + 0.014*\"proteccion\" + 0.012*\"financiero\" + 0.010*\"sociedad\" + 0.010*\"popular\" + 0.009*\"comite\" + 0.009*\"efectuar\" + 0.009*\"fondo\" + 0.008*\"intervencion\"\n"
     ]
    }
   ],
   "source": [
    "for idx, topic in lda_model_tfidf_20.print_topics(-1):\n",
    "    print('Topic: {} Word: {}'.format(idx, topic))"
   ]
  },
  {
   "cell_type": "markdown",
   "metadata": {},
   "source": [
    "### Guardamos en S3"
   ]
  },
  {
   "cell_type": "code",
   "execution_count": 118,
   "metadata": {},
   "outputs": [
    {
     "data": {
      "text/plain": [
       "{'ResponseMetadata': {'RequestId': '9C0BF1D2304BBDFB',\n",
       "  'HostId': 'h2bPi3pdzroPTkcs0phimkuPBGtLVtqEnsA35in0hAiXS487WGTQ4FYMCaalXSgiRR7uvPMMy6A=',\n",
       "  'HTTPStatusCode': 200,\n",
       "  'HTTPHeaders': {'x-amz-id-2': 'h2bPi3pdzroPTkcs0phimkuPBGtLVtqEnsA35in0hAiXS487WGTQ4FYMCaalXSgiRR7uvPMMy6A=',\n",
       "   'x-amz-request-id': '9C0BF1D2304BBDFB',\n",
       "   'date': 'Thu, 30 Jul 2020 17:39:43 GMT',\n",
       "   'etag': '\"c89018291ab1819d16567f250bb6dad1\"',\n",
       "   'content-length': '0',\n",
       "   'server': 'AmazonS3'},\n",
       "  'RetryAttempts': 0},\n",
       " 'ETag': '\"c89018291ab1819d16567f250bb6dad1\"'}"
      ]
     },
     "execution_count": 118,
     "metadata": {},
     "output_type": "execute_result"
    }
   ],
   "source": [
    "bucket='inai-summerofdata'\n",
    "key='modeling/LDA/3/2015/df_2015.pkl'\n",
    "pickle_byte_obj = pickle.dumps(df_2015)\n",
    "s3_resource = boto3.resource('s3')\n",
    "s3_resource.Object(bucket, key).put(Body=pickle_byte_obj)"
   ]
  },
  {
   "cell_type": "code",
   "execution_count": 119,
   "metadata": {},
   "outputs": [
    {
     "data": {
      "text/plain": [
       "{'ResponseMetadata': {'RequestId': '202696941FB881E2',\n",
       "  'HostId': 'zNVJfZdUHZyP9sX5Gpq4YLH6sAOY91C2+AHowKJ/JJ7A5N1ZBJP3bFlm2j5pJzNvMaEKATx5x4I=',\n",
       "  'HTTPStatusCode': 200,\n",
       "  'HTTPHeaders': {'x-amz-id-2': 'zNVJfZdUHZyP9sX5Gpq4YLH6sAOY91C2+AHowKJ/JJ7A5N1ZBJP3bFlm2j5pJzNvMaEKATx5x4I=',\n",
       "   'x-amz-request-id': '202696941FB881E2',\n",
       "   'date': 'Thu, 30 Jul 2020 17:40:25 GMT',\n",
       "   'etag': '\"d1deacf25555657471617e231e4204d9\"',\n",
       "   'content-length': '0',\n",
       "   'server': 'AmazonS3'},\n",
       "  'RetryAttempts': 0},\n",
       " 'ETag': '\"d1deacf25555657471617e231e4204d9\"'}"
      ]
     },
     "execution_count": 119,
     "metadata": {},
     "output_type": "execute_result"
    }
   ],
   "source": [
    "bucket='inai-summerofdata'\n",
    "key='modeling/LDA/3/2015/processed_docs.pkl'\n",
    "pickle_byte_obj = pickle.dumps(processed_docs)\n",
    "s3_resource = boto3.resource('s3')\n",
    "s3_resource.Object(bucket, key).put(Body=pickle_byte_obj)"
   ]
  },
  {
   "cell_type": "code",
   "execution_count": 120,
   "metadata": {},
   "outputs": [
    {
     "data": {
      "text/plain": [
       "{'ResponseMetadata': {'RequestId': '1Z3PANFMBK8QEX0G',\n",
       "  'HostId': 'QIXsk8qA/83BNKvXcIl4CbHwWsZ0lqBAI3R1UrlKt8LPiB3ndJE01E40RhOcd4Qpg8ZpyJbQV2k=',\n",
       "  'HTTPStatusCode': 200,\n",
       "  'HTTPHeaders': {'x-amz-id-2': 'QIXsk8qA/83BNKvXcIl4CbHwWsZ0lqBAI3R1UrlKt8LPiB3ndJE01E40RhOcd4Qpg8ZpyJbQV2k=',\n",
       "   'x-amz-request-id': '1Z3PANFMBK8QEX0G',\n",
       "   'date': 'Thu, 30 Jul 2020 17:40:54 GMT',\n",
       "   'etag': '\"a5d555a90c03c14492f39c1b00638bdf\"',\n",
       "   'content-length': '0',\n",
       "   'server': 'AmazonS3'},\n",
       "  'RetryAttempts': 0},\n",
       " 'ETag': '\"a5d555a90c03c14492f39c1b00638bdf\"'}"
      ]
     },
     "execution_count": 120,
     "metadata": {},
     "output_type": "execute_result"
    }
   ],
   "source": [
    "bucket='inai-summerofdata'\n",
    "key='modeling/LDA/3/2015/lda_model_tfidf_5.pkl'\n",
    "pickle_byte_obj = pickle.dumps(lda_model_tfidf_5)\n",
    "s3_resource = boto3.resource('s3')\n",
    "s3_resource.Object(bucket, key).put(Body=pickle_byte_obj)"
   ]
  },
  {
   "cell_type": "code",
   "execution_count": 121,
   "metadata": {},
   "outputs": [
    {
     "data": {
      "text/plain": [
       "{'ResponseMetadata': {'RequestId': 'EB65DAE63F3A6010',\n",
       "  'HostId': 'ueyp0Pb1ejVhY2GVDDNG5dumMy4FLnQcY1rv5gkN33cIF3fCHES1zFwrM6nhcXJp3zMilKB8jWo=',\n",
       "  'HTTPStatusCode': 200,\n",
       "  'HTTPHeaders': {'x-amz-id-2': 'ueyp0Pb1ejVhY2GVDDNG5dumMy4FLnQcY1rv5gkN33cIF3fCHES1zFwrM6nhcXJp3zMilKB8jWo=',\n",
       "   'x-amz-request-id': 'EB65DAE63F3A6010',\n",
       "   'date': 'Thu, 30 Jul 2020 17:40:58 GMT',\n",
       "   'etag': '\"6632db186978d1f0d3747597377fca91\"',\n",
       "   'content-length': '0',\n",
       "   'server': 'AmazonS3'},\n",
       "  'RetryAttempts': 0},\n",
       " 'ETag': '\"6632db186978d1f0d3747597377fca91\"'}"
      ]
     },
     "execution_count": 121,
     "metadata": {},
     "output_type": "execute_result"
    }
   ],
   "source": [
    "bucket='inai-summerofdata'\n",
    "key='modeling/LDA/3/2015/lda_model_tfidf_10.pkl'\n",
    "pickle_byte_obj = pickle.dumps(lda_model_tfidf_10)\n",
    "s3_resource = boto3.resource('s3')\n",
    "s3_resource.Object(bucket, key).put(Body=pickle_byte_obj)"
   ]
  },
  {
   "cell_type": "code",
   "execution_count": 122,
   "metadata": {},
   "outputs": [
    {
     "data": {
      "text/plain": [
       "{'ResponseMetadata': {'RequestId': '609D5E0A06208EDC',\n",
       "  'HostId': 'Py7duunpl9nU76p6frIUUgsI/nFhlUZ67DAwd+V/G1r9K7JlUlwjkC8A4kan7Wx97hpCImjX6vA=',\n",
       "  'HTTPStatusCode': 200,\n",
       "  'HTTPHeaders': {'x-amz-id-2': 'Py7duunpl9nU76p6frIUUgsI/nFhlUZ67DAwd+V/G1r9K7JlUlwjkC8A4kan7Wx97hpCImjX6vA=',\n",
       "   'x-amz-request-id': '609D5E0A06208EDC',\n",
       "   'date': 'Thu, 30 Jul 2020 17:41:03 GMT',\n",
       "   'etag': '\"9d4539abcd984ed56bf9da079082436e\"',\n",
       "   'content-length': '0',\n",
       "   'server': 'AmazonS3'},\n",
       "  'RetryAttempts': 0},\n",
       " 'ETag': '\"9d4539abcd984ed56bf9da079082436e\"'}"
      ]
     },
     "execution_count": 122,
     "metadata": {},
     "output_type": "execute_result"
    }
   ],
   "source": [
    "bucket='inai-summerofdata'\n",
    "key='modeling/LDA/3/2015/lda_model_tfidf_20.pkl'\n",
    "pickle_byte_obj = pickle.dumps(lda_model_tfidf_20)\n",
    "s3_resource = boto3.resource('s3')\n",
    "s3_resource.Object(bucket, key).put(Body=pickle_byte_obj)"
   ]
  },
  {
   "cell_type": "markdown",
   "metadata": {},
   "source": [
    "# 2016"
   ]
  },
  {
   "cell_type": "code",
   "execution_count": 123,
   "metadata": {},
   "outputs": [],
   "source": [
    "filtro = df_new['anosolicitud'] == 2016\n",
    "df_2016 = df_new[filtro]"
   ]
  },
  {
   "cell_type": "code",
   "execution_count": 124,
   "metadata": {},
   "outputs": [
    {
     "name": "stdout",
     "output_type": "stream",
     "text": [
      "<class 'pandas.core.frame.DataFrame'>\n",
      "Int64Index: 132866 entries, 259996 to 1032903\n",
      "Data columns (total 31 columns):\n",
      " #   Column                         Non-Null Count   Dtype         \n",
      "---  ------                         --------------   -----         \n",
      " 0   folio                          132866 non-null  object        \n",
      " 1   fechasolicitud                 132866 non-null  datetime64[ns]\n",
      " 2   dependencia                    132866 non-null  object        \n",
      " 3   estatus                        132866 non-null  object        \n",
      " 4   medioentrada                   132866 non-null  object        \n",
      " 5   tiposolicitud                  132866 non-null  object        \n",
      " 6   descripcionsolicitud           132866 non-null  object        \n",
      " 7   otrosdatos                     132866 non-null  object        \n",
      " 8   archivoadjuntosolicitud        132866 non-null  object        \n",
      " 9   medioentrega                   132866 non-null  object        \n",
      " 10  fechalimite                    126237 non-null  datetime64[ns]\n",
      " 11  respuesta                      132866 non-null  object        \n",
      " 12  textorespuesta                 132866 non-null  object        \n",
      " 13  archivorespuesta               132866 non-null  object        \n",
      " 14  fecharespuesta                 132866 non-null  datetime64[ns]\n",
      " 15  pais                           132866 non-null  object        \n",
      " 16  estado                         132866 non-null  object        \n",
      " 17  municipio                      132866 non-null  object        \n",
      " 18  codigopostal                   132866 non-null  object        \n",
      " 19  sector                         132866 non-null  object        \n",
      " 20  tipo_archivo_respuesta         132866 non-null  object        \n",
      " 21  cantidad_archivos_respuesta    104698 non-null  float64       \n",
      " 22  texto_respuesta_adjunto        132866 non-null  object        \n",
      " 23  respuestareal                  132866 non-null  object        \n",
      " 24  calidad_respuesta              132866 non-null  object        \n",
      " 25  calidad_respuesta_real         132866 non-null  object        \n",
      " 26  solicitud_longitud             132866 non-null  int64         \n",
      " 27  descripcionsolicitud_lemma     132866 non-null  object        \n",
      " 28  codigo_calidad_respuesta_real  132866 non-null  int64         \n",
      " 29  solicitud_lemma_longitud       132866 non-null  int64         \n",
      " 30  anosolicitud                   132866 non-null  int64         \n",
      "dtypes: datetime64[ns](3), float64(1), int64(4), object(23)\n",
      "memory usage: 32.4+ MB\n"
     ]
    }
   ],
   "source": [
    "df_2016.info()"
   ]
  },
  {
   "cell_type": "code",
   "execution_count": 125,
   "metadata": {},
   "outputs": [],
   "source": [
    "data = df_2016[['descripcionsolicitud_lemma']]\n",
    "data['index'] = data.index\n",
    "docs = data"
   ]
  },
  {
   "cell_type": "code",
   "execution_count": 126,
   "metadata": {},
   "outputs": [
    {
     "data": {
      "text/html": [
       "<div>\n",
       "<style scoped>\n",
       "    .dataframe tbody tr th:only-of-type {\n",
       "        vertical-align: middle;\n",
       "    }\n",
       "\n",
       "    .dataframe tbody tr th {\n",
       "        vertical-align: top;\n",
       "    }\n",
       "\n",
       "    .dataframe thead th {\n",
       "        text-align: right;\n",
       "    }\n",
       "</style>\n",
       "<table border=\"1\" class=\"dataframe\">\n",
       "  <thead>\n",
       "    <tr style=\"text-align: right;\">\n",
       "      <th></th>\n",
       "      <th>descripcionsolicitud_lemma</th>\n",
       "      <th>index</th>\n",
       "    </tr>\n",
       "  </thead>\n",
       "  <tbody>\n",
       "    <tr>\n",
       "      <th>259996</th>\n",
       "      <td>referenciar clinica imss medicar familiar atot...</td>\n",
       "      <td>259996</td>\n",
       "    </tr>\n",
       "    <tr>\n",
       "      <th>259997</th>\n",
       "      <td>referenciar clinica imss medicar familiar atot...</td>\n",
       "      <td>259997</td>\n",
       "    </tr>\n",
       "    <tr>\n",
       "      <th>259998</th>\n",
       "      <td>enterarme procesar ejecucion convenio establec...</td>\n",
       "      <td>259998</td>\n",
       "    </tr>\n",
       "    <tr>\n",
       "      <th>259999</th>\n",
       "      <td>contener completar covocatoria ingresar estudi...</td>\n",
       "      <td>259999</td>\n",
       "    </tr>\n",
       "    <tr>\n",
       "      <th>260000</th>\n",
       "      <td>informar rendicion empresa compraventa empresa...</td>\n",
       "      <td>260000</td>\n",
       "    </tr>\n",
       "  </tbody>\n",
       "</table>\n",
       "</div>"
      ],
      "text/plain": [
       "                               descripcionsolicitud_lemma   index\n",
       "259996  referenciar clinica imss medicar familiar atot...  259996\n",
       "259997  referenciar clinica imss medicar familiar atot...  259997\n",
       "259998  enterarme procesar ejecucion convenio establec...  259998\n",
       "259999  contener completar covocatoria ingresar estudi...  259999\n",
       "260000  informar rendicion empresa compraventa empresa...  260000"
      ]
     },
     "execution_count": 126,
     "metadata": {},
     "output_type": "execute_result"
    }
   ],
   "source": [
    "docs.head()"
   ]
  },
  {
   "cell_type": "code",
   "execution_count": 127,
   "metadata": {},
   "outputs": [],
   "source": [
    "import spacy\n",
    "import nltk\n",
    "from nltk import SnowballStemmer"
   ]
  },
  {
   "cell_type": "code",
   "execution_count": 128,
   "metadata": {},
   "outputs": [],
   "source": [
    "nlp = spacy.load('es_core_news_sm')"
   ]
  },
  {
   "cell_type": "code",
   "execution_count": 129,
   "metadata": {},
   "outputs": [],
   "source": [
    "def ProcesarTexto(texto):\n",
    "    \n",
    "    doc = nlp(texto)\n",
    "    words = [t.text for t in doc]\n",
    "    \n",
    "    return words"
   ]
  },
  {
   "cell_type": "code",
   "execution_count": 130,
   "metadata": {},
   "outputs": [],
   "source": [
    "import multiprocessing\n",
    "from multiprocessing.dummy import Pool as ThreadPool"
   ]
  },
  {
   "cell_type": "code",
   "execution_count": 131,
   "metadata": {},
   "outputs": [
    {
     "data": {
      "text/plain": [
       "12"
      ]
     },
     "execution_count": 131,
     "metadata": {},
     "output_type": "execute_result"
    }
   ],
   "source": [
    "cores = multiprocessing.cpu_count()\n",
    "pool = ThreadPool(cores)\n",
    "cores"
   ]
  },
  {
   "cell_type": "code",
   "execution_count": 132,
   "metadata": {},
   "outputs": [],
   "source": [
    "processed_docs = pool.map(ProcesarTexto, docs['descripcionsolicitud_lemma'])\n",
    "pool.close()"
   ]
  },
  {
   "cell_type": "code",
   "execution_count": 133,
   "metadata": {},
   "outputs": [],
   "source": [
    "import gensim"
   ]
  },
  {
   "cell_type": "code",
   "execution_count": 134,
   "metadata": {},
   "outputs": [],
   "source": [
    "dictionary = gensim.corpora.Dictionary(processed_docs)"
   ]
  },
  {
   "cell_type": "code",
   "execution_count": 135,
   "metadata": {},
   "outputs": [],
   "source": [
    "dictionary.filter_extremes(no_below=15, no_above=0.5, keep_n=100000)"
   ]
  },
  {
   "cell_type": "code",
   "execution_count": 136,
   "metadata": {},
   "outputs": [],
   "source": [
    "bow_corpus = [dictionary.doc2bow(doc) for doc in processed_docs]"
   ]
  },
  {
   "cell_type": "code",
   "execution_count": 137,
   "metadata": {},
   "outputs": [],
   "source": [
    "from gensim import corpora, models\n",
    "from pprint import pprint"
   ]
  },
  {
   "cell_type": "code",
   "execution_count": 138,
   "metadata": {},
   "outputs": [],
   "source": [
    "tfidf = models.TfidfModel(bow_corpus)\n",
    "corpus_tfidf = tfidf[bow_corpus]"
   ]
  },
  {
   "cell_type": "markdown",
   "metadata": {},
   "source": [
    "### 5 tópicos TF-IDF"
   ]
  },
  {
   "cell_type": "code",
   "execution_count": 139,
   "metadata": {},
   "outputs": [],
   "source": [
    "lda_model_tfidf_5 = gensim.models.LdaMulticore(corpus_tfidf, \n",
    "                                            num_topics=5,\n",
    "                                            id2word=dictionary,\n",
    "                                            passes=2,\n",
    "                                            workers=cores)"
   ]
  },
  {
   "cell_type": "code",
   "execution_count": 140,
   "metadata": {},
   "outputs": [
    {
     "name": "stdout",
     "output_type": "stream",
     "text": [
      "Topic: 0 Word: 0.006*\"procampo\" + 0.005*\"padron\" + 0.004*\"delito\" + 0.004*\"federal\" + 0.004*\"delegacion\" + 0.003*\"documentar\" + 0.003*\"secretario\" + 0.003*\"denunciar\" + 0.003*\"municipio\" + 0.003*\"correspondiente\"\n",
      "Topic: 1 Word: 0.012*\"presupuestar\" + 0.005*\"fiscal\" + 0.005*\"destinar\" + 0.004*\"partir\" + 0.004*\"empresa\" + 0.004*\"social\" + 0.004*\"gastar\" + 0.004*\"anual\" + 0.004*\"informar\" + 0.004*\"municipio\"\n",
      "Topic: 2 Word: 0.006*\"sanitario\" + 0.005*\"federal\" + 0.004*\"informar\" + 0.004*\"documentar\" + 0.004*\"tramitar\" + 0.004*\"articular\" + 0.004*\"permiso\" + 0.003*\"cofepris\" + 0.003*\"casar\" + 0.003*\"relacionar\"\n",
      "Topic: 3 Word: 0.004*\"secretario\" + 0.004*\"ciudad\" + 0.003*\"municipio\" + 0.003*\"montar\" + 0.003*\"listar\" + 0.003*\"empresa\" + 0.003*\"trabajador\" + 0.003*\"requerir\" + 0.003*\"federal\" + 0.002*\"ambiental\"\n",
      "Topic: 4 Word: 0.013*\"medicamento\" + 0.013*\"medicar\" + 0.006*\"paciente\" + 0.006*\"recetar\" + 0.006*\"hospital\" + 0.005*\"nivel\" + 0.004*\"pieza\" + 0.004*\"articular\" + 0.004*\"periodo\" + 0.004*\"basico\"\n"
     ]
    }
   ],
   "source": [
    "for idx, topic in lda_model_tfidf_5.print_topics(-1):\n",
    "    print('Topic: {} Word: {}'.format(idx, topic))"
   ]
  },
  {
   "cell_type": "markdown",
   "metadata": {},
   "source": [
    "### 10 tópicos TF-IDF"
   ]
  },
  {
   "cell_type": "code",
   "execution_count": 141,
   "metadata": {},
   "outputs": [],
   "source": [
    "lda_model_tfidf_10 = gensim.models.LdaMulticore(corpus_tfidf, \n",
    "                                            num_topics=10,\n",
    "                                            id2word=dictionary,\n",
    "                                            passes=2,\n",
    "                                            workers=cores)"
   ]
  },
  {
   "cell_type": "code",
   "execution_count": 142,
   "metadata": {},
   "outputs": [
    {
     "name": "stdout",
     "output_type": "stream",
     "text": [
      "Topic: 0 Word: 0.015*\"sanitario\" + 0.010*\"tramitar\" + 0.009*\"cofepris\" + 0.007*\"delito\" + 0.006*\"permiso\" + 0.005*\"consultar\" + 0.005*\"denunciar\" + 0.005*\"completo\" + 0.005*\"sustanciar\" + 0.005*\"informar\"\n",
      "Topic: 1 Word: 0.008*\"municipio\" + 0.007*\"obrar\" + 0.005*\"santo\" + 0.005*\"construccion\" + 0.005*\"ubicar\" + 0.004*\"ambiental\" + 0.004*\"empresa\" + 0.004*\"zona\" + 0.004*\"aguar\" + 0.004*\"impactar\"\n",
      "Topic: 2 Word: 0.005*\"laborar\" + 0.005*\"trabajador\" + 0.004*\"salariar\" + 0.004*\"secretario\" + 0.004*\"institucion\" + 0.004*\"plaza\" + 0.004*\"instituto\" + 0.004*\"soldar\" + 0.004*\"casar\" + 0.003*\"publicar\"\n",
      "Topic: 3 Word: 0.004*\"tribunal\" + 0.004*\"amparar\" + 0.004*\"federal\" + 0.004*\"revision\" + 0.003*\"presupuestar\" + 0.003*\"oficiar\" + 0.003*\"instituto\" + 0.003*\"secretario\" + 0.003*\"colegiar\" + 0.003*\"resolucion\"\n",
      "Topic: 4 Word: 0.006*\"escribir\" + 0.005*\"octubre\" + 0.005*\"librar\" + 0.005*\"requerimiento\" + 0.004*\"requerir\" + 0.004*\"electronicos\" + 0.004*\"institucional\" + 0.004*\"exel\" + 0.004*\"direccionar\" + 0.003*\"chiapas\"\n",
      "Topic: 5 Word: 0.006*\"informar\" + 0.005*\"medicamento\" + 0.005*\"telecomunicación\" + 0.005*\"empresa\" + 0.005*\"incluir\" + 0.005*\"sanitario\" + 0.004*\"objetar\" + 0.004*\"anexo\" + 0.004*\"tipo\" + 0.004*\"operar\"\n",
      "Topic: 6 Word: 0.006*\"presupuestar\" + 0.005*\"secretario\" + 0.005*\"documentar\" + 0.004*\"expediente\" + 0.004*\"federal\" + 0.004*\"profesional\" + 0.004*\"universidad\" + 0.004*\"correspondiente\" + 0.004*\"peua\" + 0.003*\"direccion\"\n",
      "Topic: 7 Word: 0.017*\"procampo\" + 0.015*\"padron\" + 0.004*\"investigacion\" + 0.004*\"modelar\" + 0.004*\"municipio\" + 0.003*\"distrito\" + 0.003*\"amparar\" + 0.003*\"informar\" + 0.003*\"desglosar\" + 0.003*\"tabasco\"\n",
      "Topic: 8 Word: 0.025*\"medicamento\" + 0.023*\"medicar\" + 0.012*\"recetar\" + 0.012*\"paciente\" + 0.009*\"pieza\" + 0.008*\"articular\" + 0.008*\"hospital\" + 0.007*\"capitular\" + 0.007*\"cuadrar\" + 0.007*\"basico\"\n",
      "Topic: 9 Word: 0.008*\"documentar\" + 0.006*\"social\" + 0.006*\"pedir\" + 0.005*\"pemex\" + 0.005*\"desglosar\" + 0.005*\"montar\" + 0.004*\"federal\" + 0.004*\"anexar\" + 0.004*\"empresa\" + 0.004*\"comunicacion\"\n"
     ]
    }
   ],
   "source": [
    "for idx, topic in lda_model_tfidf_10.print_topics(-1):\n",
    "    print('Topic: {} Word: {}'.format(idx, topic))"
   ]
  },
  {
   "cell_type": "markdown",
   "metadata": {},
   "source": [
    "### 20 tópicos TF-IDF"
   ]
  },
  {
   "cell_type": "code",
   "execution_count": 143,
   "metadata": {},
   "outputs": [],
   "source": [
    "lda_model_tfidf_20 = gensim.models.LdaMulticore(corpus_tfidf, \n",
    "                                            num_topics=20,\n",
    "                                            id2word=dictionary,\n",
    "                                            passes=2,\n",
    "                                            workers=cores)"
   ]
  },
  {
   "cell_type": "code",
   "execution_count": 144,
   "metadata": {},
   "outputs": [
    {
     "name": "stdout",
     "output_type": "stream",
     "text": [
      "Topic: 0 Word: 0.006*\"surgir\" + 0.006*\"imposible\" + 0.006*\"hernan\" + 0.006*\"hesse\" + 0.003*\"municipio\" + 0.003*\"obrar\" + 0.003*\"empresa\" + 0.003*\"produccion\" + 0.003*\"informar\" + 0.003*\"casar\"\n",
      "Topic: 1 Word: 0.011*\"computar\" + 0.010*\"telecomunicación\" + 0.010*\"digitalizacion\" + 0.010*\"fotocopiar\" + 0.009*\"centro\" + 0.009*\"tecnologias\" + 0.009*\"tecnicos\" + 0.009*\"anexo\" + 0.009*\"relacionar\" + 0.009*\"cuyo\"\n",
      "Topic: 2 Word: 0.007*\"chiapas\" + 0.006*\"investigacion\" + 0.004*\"guerrero\" + 0.004*\"protocolar\" + 0.004*\"municipio\" + 0.004*\"energia\" + 0.004*\"requerir\" + 0.004*\"conacyt\" + 0.004*\"oaxaca\" + 0.004*\"informar\"\n",
      "Topic: 3 Word: 0.007*\"delito\" + 0.006*\"denunciar\" + 0.006*\"humano\" + 0.005*\"desglosar\" + 0.004*\"regresar\" + 0.004*\"robar\" + 0.004*\"asociacion\" + 0.004*\"cuestionario\" + 0.004*\"partir\" + 0.004*\"contestar\"\n",
      "Topic: 4 Word: 0.013*\"sanitario\" + 0.010*\"consultar\" + 0.009*\"cofepris\" + 0.006*\"instituto\" + 0.006*\"recibir\" + 0.005*\"anexo\" + 0.005*\"contener\" + 0.005*\"completo\" + 0.005*\"informar\" + 0.005*\"casar\"\n",
      "Topic: 5 Word: 0.007*\"empresa\" + 0.005*\"social\" + 0.005*\"mayar\" + 0.005*\"comunicacion\" + 0.005*\"telefonia\" + 0.005*\"informar\" + 0.004*\"firmar\" + 0.004*\"monto\" + 0.004*\"montar\" + 0.004*\"instituto\"\n",
      "Topic: 6 Word: 0.037*\"medicar\" + 0.029*\"medicamento\" + 0.021*\"recetar\" + 0.020*\"paciente\" + 0.010*\"nivel\" + 0.009*\"hospitalizacion\" + 0.008*\"hospital\" + 0.008*\"farmacia\" + 0.008*\"delegacion\" + 0.008*\"prescribir\"\n",
      "Topic: 7 Word: 0.007*\"salud\" + 0.005*\"contratacion\" + 0.004*\"impi\" + 0.004*\"violar\" + 0.004*\"articular\" + 0.004*\"oficiar\" + 0.004*\"publicar\" + 0.004*\"contratación\" + 0.004*\"medicamento\" + 0.004*\"insumo\"\n",
      "Topic: 8 Word: 0.018*\"padron\" + 0.010*\"tribunal\" + 0.009*\"procampo\" + 0.009*\"amparar\" + 0.007*\"colegiar\" + 0.007*\"soldar\" + 0.006*\"trabajador\" + 0.006*\"diputar\" + 0.006*\"laborar\" + 0.006*\"pensionar\"\n",
      "Topic: 9 Word: 0.013*\"procampo\" + 0.008*\"exel\" + 0.008*\"electronicos\" + 0.007*\"direccionar\" + 0.006*\"institucional\" + 0.006*\"requerir\" + 0.006*\"escanear\" + 0.005*\"original\" + 0.005*\"confianza\" + 0.005*\"honorario\"\n",
      "Topic: 10 Word: 0.008*\"comite\" + 0.006*\"proporcionar\" + 0.006*\"informar\" + 0.006*\"describir\" + 0.006*\"unir\" + 0.005*\"politica\" + 0.005*\"federal\" + 0.005*\"constitucion\" + 0.005*\"reunion\" + 0.005*\"medicamento\"\n",
      "Topic: 11 Word: 0.009*\"sustanciar\" + 0.009*\"permiso\" + 0.007*\"tercero\" + 0.006*\"autorizar\" + 0.006*\"otorgar\" + 0.005*\"autorización\" + 0.005*\"estudio\" + 0.005*\"financiero\" + 0.005*\"sanitario\" + 0.005*\"informar\"\n",
      "Topic: 12 Word: 0.008*\"delito\" + 0.005*\"colimar\" + 0.005*\"consupago\" + 0.005*\"generar\" + 0.005*\"celebrar\" + 0.004*\"empresa\" + 0.004*\"causar\" + 0.004*\"penal\" + 0.004*\"consejo\" + 0.004*\"federal\"\n",
      "Topic: 13 Word: 0.006*\"presupuestar\" + 0.004*\"federacion\" + 0.004*\"secretario\" + 0.004*\"publicar\" + 0.004*\"federal\" + 0.003*\"egreso\" + 0.003*\"municipio\" + 0.003*\"casar\" + 0.003*\"turismo\" + 0.003*\"unam\"\n",
      "Topic: 14 Word: 0.007*\"tramitar\" + 0.007*\"imss\" + 0.006*\"acto\" + 0.006*\"denunciar\" + 0.006*\"asamblea\" + 0.006*\"demostrar\" + 0.006*\"consecutivo\" + 0.006*\"insercion\" + 0.006*\"corrupto\" + 0.006*\"desagregar\"\n",
      "Topic: 15 Word: 0.008*\"tratamiento\" + 0.007*\"atender\" + 0.006*\"tabasco\" + 0.006*\"municipio\" + 0.006*\"dispositivo\" + 0.006*\"diabetes\" + 0.006*\"medicos\" + 0.006*\"bachiller\" + 0.005*\"mellitus\" + 0.005*\"operar\"\n",
      "Topic: 16 Word: 0.006*\"ambiental\" + 0.006*\"impactar\" + 0.006*\"secretario\" + 0.005*\"federal\" + 0.004*\"natural\" + 0.004*\"partir\" + 0.004*\"ambientar\" + 0.004*\"semarnat\" + 0.004*\"presupuestario\" + 0.003*\"electoral\"\n",
      "Topic: 17 Word: 0.019*\"presupuestar\" + 0.009*\"destinar\" + 0.008*\"gastar\" + 0.006*\"fiscal\" + 0.005*\"federal\" + 0.005*\"educacion\" + 0.005*\"documentar\" + 0.004*\"universidad\" + 0.004*\"social\" + 0.004*\"desglosar\"\n",
      "Topic: 18 Word: 0.016*\"medicamento\" + 0.015*\"articular\" + 0.011*\"capitular\" + 0.010*\"fundamentar\" + 0.009*\"pieza\" + 0.009*\"establecer\" + 0.008*\"adquirir\" + 0.008*\"licitacion\" + 0.008*\"responsabilidad\" + 0.007*\"parrafo\"\n",
      "Topic: 19 Word: 0.019*\"librar\" + 0.018*\"requerimiento\" + 0.018*\"escribir\" + 0.017*\"documentar\" + 0.015*\"octubre\" + 0.014*\"pedir\" + 0.012*\"anexar\" + 0.011*\"condonar\" + 0.010*\"fabricacion\" + 0.010*\"masculino\"\n"
     ]
    }
   ],
   "source": [
    "for idx, topic in lda_model_tfidf_20.print_topics(-1):\n",
    "    print('Topic: {} Word: {}'.format(idx, topic))"
   ]
  },
  {
   "cell_type": "markdown",
   "metadata": {},
   "source": [
    "### Guardamos en S3"
   ]
  },
  {
   "cell_type": "code",
   "execution_count": 145,
   "metadata": {},
   "outputs": [
    {
     "data": {
      "text/plain": [
       "{'ResponseMetadata': {'RequestId': '99B1885E7223C724',\n",
       "  'HostId': 'gT5L7NHcGwVoLFekdawQc6EyukYC6LekhewBBunwFT0SC/uKw7g8SW+ADuD83dKa7Y1Hv54E55w=',\n",
       "  'HTTPStatusCode': 200,\n",
       "  'HTTPHeaders': {'x-amz-id-2': 'gT5L7NHcGwVoLFekdawQc6EyukYC6LekhewBBunwFT0SC/uKw7g8SW+ADuD83dKa7Y1Hv54E55w=',\n",
       "   'x-amz-request-id': '99B1885E7223C724',\n",
       "   'date': 'Thu, 30 Jul 2020 17:59:45 GMT',\n",
       "   'etag': '\"af26342660663983f2fa930c79bf2ce0\"',\n",
       "   'content-length': '0',\n",
       "   'server': 'AmazonS3'},\n",
       "  'RetryAttempts': 0},\n",
       " 'ETag': '\"af26342660663983f2fa930c79bf2ce0\"'}"
      ]
     },
     "execution_count": 145,
     "metadata": {},
     "output_type": "execute_result"
    }
   ],
   "source": [
    "bucket='inai-summerofdata'\n",
    "key='modeling/LDA/3/2016/df_2016.pkl'\n",
    "pickle_byte_obj = pickle.dumps(df_2016)\n",
    "s3_resource = boto3.resource('s3')\n",
    "s3_resource.Object(bucket, key).put(Body=pickle_byte_obj)"
   ]
  },
  {
   "cell_type": "code",
   "execution_count": 146,
   "metadata": {},
   "outputs": [
    {
     "data": {
      "text/plain": [
       "{'ResponseMetadata': {'RequestId': 'CB468C77D19274EC',\n",
       "  'HostId': 'XvhzMo/WWOUGO1XhRtGnHiNrdrrgosUwW+CN9FVmBp4vJYBAl/NjUTGeiKMLnzCLmeM0Jk7Kb24=',\n",
       "  'HTTPStatusCode': 200,\n",
       "  'HTTPHeaders': {'x-amz-id-2': 'XvhzMo/WWOUGO1XhRtGnHiNrdrrgosUwW+CN9FVmBp4vJYBAl/NjUTGeiKMLnzCLmeM0Jk7Kb24=',\n",
       "   'x-amz-request-id': 'CB468C77D19274EC',\n",
       "   'date': 'Thu, 30 Jul 2020 18:02:22 GMT',\n",
       "   'etag': '\"dba26894956c5a541806098885954de6\"',\n",
       "   'content-length': '0',\n",
       "   'server': 'AmazonS3'},\n",
       "  'RetryAttempts': 0},\n",
       " 'ETag': '\"dba26894956c5a541806098885954de6\"'}"
      ]
     },
     "execution_count": 146,
     "metadata": {},
     "output_type": "execute_result"
    }
   ],
   "source": [
    "bucket='inai-summerofdata'\n",
    "key='modeling/LDA/3/2016/processed_docs.pkl'\n",
    "pickle_byte_obj = pickle.dumps(processed_docs)\n",
    "s3_resource = boto3.resource('s3')\n",
    "s3_resource.Object(bucket, key).put(Body=pickle_byte_obj)"
   ]
  },
  {
   "cell_type": "code",
   "execution_count": 147,
   "metadata": {},
   "outputs": [
    {
     "data": {
      "text/plain": [
       "{'ResponseMetadata': {'RequestId': '7C30B40C15E75DD5',\n",
       "  'HostId': 'wafH2GO4SkU6cC44a3dhTSyI8e8R9Q81i8GVFZrfwG+ZmDxDCtDGYWu4zvHRu68mSqRKnpXZ5Wg=',\n",
       "  'HTTPStatusCode': 200,\n",
       "  'HTTPHeaders': {'x-amz-id-2': 'wafH2GO4SkU6cC44a3dhTSyI8e8R9Q81i8GVFZrfwG+ZmDxDCtDGYWu4zvHRu68mSqRKnpXZ5Wg=',\n",
       "   'x-amz-request-id': '7C30B40C15E75DD5',\n",
       "   'date': 'Thu, 30 Jul 2020 18:02:38 GMT',\n",
       "   'etag': '\"774db951f40e34019daf868c40e56bed\"',\n",
       "   'content-length': '0',\n",
       "   'server': 'AmazonS3'},\n",
       "  'RetryAttempts': 0},\n",
       " 'ETag': '\"774db951f40e34019daf868c40e56bed\"'}"
      ]
     },
     "execution_count": 147,
     "metadata": {},
     "output_type": "execute_result"
    }
   ],
   "source": [
    "bucket='inai-summerofdata'\n",
    "key='modeling/LDA/3/2016/lda_model_tfidf_5.pkl'\n",
    "pickle_byte_obj = pickle.dumps(lda_model_tfidf_5)\n",
    "s3_resource = boto3.resource('s3')\n",
    "s3_resource.Object(bucket, key).put(Body=pickle_byte_obj)"
   ]
  },
  {
   "cell_type": "code",
   "execution_count": 148,
   "metadata": {},
   "outputs": [
    {
     "data": {
      "text/plain": [
       "{'ResponseMetadata': {'RequestId': 'DC2D4B5B666987D6',\n",
       "  'HostId': 'L4ONYdTlS1OsdKGxUuNihvSl1aDH61a6lGC4p7TL8tXTWIGaqA1WuPfD/uRJnPw8+BI60QbT9Jw=',\n",
       "  'HTTPStatusCode': 200,\n",
       "  'HTTPHeaders': {'x-amz-id-2': 'L4ONYdTlS1OsdKGxUuNihvSl1aDH61a6lGC4p7TL8tXTWIGaqA1WuPfD/uRJnPw8+BI60QbT9Jw=',\n",
       "   'x-amz-request-id': 'DC2D4B5B666987D6',\n",
       "   'date': 'Thu, 30 Jul 2020 18:02:43 GMT',\n",
       "   'etag': '\"222493be288caa31b22d5bb3a5e3417e\"',\n",
       "   'content-length': '0',\n",
       "   'server': 'AmazonS3'},\n",
       "  'RetryAttempts': 0},\n",
       " 'ETag': '\"222493be288caa31b22d5bb3a5e3417e\"'}"
      ]
     },
     "execution_count": 148,
     "metadata": {},
     "output_type": "execute_result"
    }
   ],
   "source": [
    "bucket='inai-summerofdata'\n",
    "key='modeling/LDA/3/2016/lda_model_tfidf_10.pkl'\n",
    "pickle_byte_obj = pickle.dumps(lda_model_tfidf_10)\n",
    "s3_resource = boto3.resource('s3')\n",
    "s3_resource.Object(bucket, key).put(Body=pickle_byte_obj)"
   ]
  },
  {
   "cell_type": "code",
   "execution_count": 149,
   "metadata": {},
   "outputs": [
    {
     "data": {
      "text/plain": [
       "{'ResponseMetadata': {'RequestId': 'C1C8C26BF3AFC086',\n",
       "  'HostId': 'qEKxBgtUKncTX9Bh4+LTcT+lZ50wXlUkAe/v9AeRCuYqdSGypnteWCUkZ8zFUw6YC4qBkycZRSo=',\n",
       "  'HTTPStatusCode': 200,\n",
       "  'HTTPHeaders': {'x-amz-id-2': 'qEKxBgtUKncTX9Bh4+LTcT+lZ50wXlUkAe/v9AeRCuYqdSGypnteWCUkZ8zFUw6YC4qBkycZRSo=',\n",
       "   'x-amz-request-id': 'C1C8C26BF3AFC086',\n",
       "   'date': 'Thu, 30 Jul 2020 18:02:48 GMT',\n",
       "   'etag': '\"222f773a6150a893ca01e651461c7e1c\"',\n",
       "   'content-length': '0',\n",
       "   'server': 'AmazonS3'},\n",
       "  'RetryAttempts': 0},\n",
       " 'ETag': '\"222f773a6150a893ca01e651461c7e1c\"'}"
      ]
     },
     "execution_count": 149,
     "metadata": {},
     "output_type": "execute_result"
    }
   ],
   "source": [
    "bucket='inai-summerofdata'\n",
    "key='modeling/LDA/3/2016/lda_model_tfidf_20.pkl'\n",
    "pickle_byte_obj = pickle.dumps(lda_model_tfidf_20)\n",
    "s3_resource = boto3.resource('s3')\n",
    "s3_resource.Object(bucket, key).put(Body=pickle_byte_obj)"
   ]
  },
  {
   "cell_type": "markdown",
   "metadata": {},
   "source": [
    "# 2017"
   ]
  },
  {
   "cell_type": "code",
   "execution_count": 150,
   "metadata": {},
   "outputs": [],
   "source": [
    "filtro = df_new['anosolicitud'] == 2017\n",
    "df_2017 = df_new[filtro]"
   ]
  },
  {
   "cell_type": "code",
   "execution_count": 151,
   "metadata": {},
   "outputs": [
    {
     "name": "stdout",
     "output_type": "stream",
     "text": [
      "<class 'pandas.core.frame.DataFrame'>\n",
      "Int64Index: 195396 entries, 324995 to 1221750\n",
      "Data columns (total 31 columns):\n",
      " #   Column                         Non-Null Count   Dtype         \n",
      "---  ------                         --------------   -----         \n",
      " 0   folio                          195396 non-null  object        \n",
      " 1   fechasolicitud                 195396 non-null  datetime64[ns]\n",
      " 2   dependencia                    195396 non-null  object        \n",
      " 3   estatus                        195396 non-null  object        \n",
      " 4   medioentrada                   195396 non-null  object        \n",
      " 5   tiposolicitud                  195396 non-null  object        \n",
      " 6   descripcionsolicitud           195396 non-null  object        \n",
      " 7   otrosdatos                     195396 non-null  object        \n",
      " 8   archivoadjuntosolicitud        195396 non-null  object        \n",
      " 9   medioentrega                   195396 non-null  object        \n",
      " 10  fechalimite                    187922 non-null  datetime64[ns]\n",
      " 11  respuesta                      195396 non-null  object        \n",
      " 12  textorespuesta                 195396 non-null  object        \n",
      " 13  archivorespuesta               195396 non-null  object        \n",
      " 14  fecharespuesta                 195396 non-null  datetime64[ns]\n",
      " 15  pais                           195396 non-null  object        \n",
      " 16  estado                         195396 non-null  object        \n",
      " 17  municipio                      195396 non-null  object        \n",
      " 18  codigopostal                   195396 non-null  object        \n",
      " 19  sector                         195396 non-null  object        \n",
      " 20  tipo_archivo_respuesta         195396 non-null  object        \n",
      " 21  cantidad_archivos_respuesta    165528 non-null  float64       \n",
      " 22  texto_respuesta_adjunto        195396 non-null  object        \n",
      " 23  respuestareal                  195396 non-null  object        \n",
      " 24  calidad_respuesta              195396 non-null  object        \n",
      " 25  calidad_respuesta_real         195396 non-null  object        \n",
      " 26  solicitud_longitud             195396 non-null  int64         \n",
      " 27  descripcionsolicitud_lemma     195396 non-null  object        \n",
      " 28  codigo_calidad_respuesta_real  195396 non-null  int64         \n",
      " 29  solicitud_lemma_longitud       195396 non-null  int64         \n",
      " 30  anosolicitud                   195396 non-null  int64         \n",
      "dtypes: datetime64[ns](3), float64(1), int64(4), object(23)\n",
      "memory usage: 47.7+ MB\n"
     ]
    }
   ],
   "source": [
    "df_2017.info()"
   ]
  },
  {
   "cell_type": "code",
   "execution_count": 152,
   "metadata": {},
   "outputs": [],
   "source": [
    "data = df_2017[['descripcionsolicitud_lemma']]\n",
    "data['index'] = data.index\n",
    "docs = data"
   ]
  },
  {
   "cell_type": "code",
   "execution_count": 153,
   "metadata": {},
   "outputs": [
    {
     "data": {
      "text/html": [
       "<div>\n",
       "<style scoped>\n",
       "    .dataframe tbody tr th:only-of-type {\n",
       "        vertical-align: middle;\n",
       "    }\n",
       "\n",
       "    .dataframe tbody tr th {\n",
       "        vertical-align: top;\n",
       "    }\n",
       "\n",
       "    .dataframe thead th {\n",
       "        text-align: right;\n",
       "    }\n",
       "</style>\n",
       "<table border=\"1\" class=\"dataframe\">\n",
       "  <thead>\n",
       "    <tr style=\"text-align: right;\">\n",
       "      <th></th>\n",
       "      <th>descripcionsolicitud_lemma</th>\n",
       "      <th>index</th>\n",
       "    </tr>\n",
       "  </thead>\n",
       "  <tbody>\n",
       "    <tr>\n",
       "      <th>324995</th>\n",
       "      <td>alumno departamento obtener doctor ciencia cin...</td>\n",
       "      <td>324995</td>\n",
       "    </tr>\n",
       "    <tr>\n",
       "      <th>324996</th>\n",
       "      <td>alumno departamento obtener maestro ciencia ci...</td>\n",
       "      <td>324996</td>\n",
       "    </tr>\n",
       "    <tr>\n",
       "      <th>324997</th>\n",
       "      <td>alumno inscribir doctorar ciencia departamento...</td>\n",
       "      <td>324997</td>\n",
       "    </tr>\n",
       "    <tr>\n",
       "      <th>324998</th>\n",
       "      <td>curso seminario impartio carlos coello cinvest...</td>\n",
       "      <td>324998</td>\n",
       "    </tr>\n",
       "    <tr>\n",
       "      <th>324999</th>\n",
       "      <td>curso seminario impartio hector garcia compean...</td>\n",
       "      <td>324999</td>\n",
       "    </tr>\n",
       "  </tbody>\n",
       "</table>\n",
       "</div>"
      ],
      "text/plain": [
       "                               descripcionsolicitud_lemma   index\n",
       "324995  alumno departamento obtener doctor ciencia cin...  324995\n",
       "324996  alumno departamento obtener maestro ciencia ci...  324996\n",
       "324997  alumno inscribir doctorar ciencia departamento...  324997\n",
       "324998  curso seminario impartio carlos coello cinvest...  324998\n",
       "324999  curso seminario impartio hector garcia compean...  324999"
      ]
     },
     "execution_count": 153,
     "metadata": {},
     "output_type": "execute_result"
    }
   ],
   "source": [
    "docs.head()"
   ]
  },
  {
   "cell_type": "code",
   "execution_count": 154,
   "metadata": {},
   "outputs": [],
   "source": [
    "import spacy\n",
    "import nltk\n",
    "from nltk import SnowballStemmer"
   ]
  },
  {
   "cell_type": "code",
   "execution_count": 155,
   "metadata": {},
   "outputs": [],
   "source": [
    "nlp = spacy.load('es_core_news_sm')"
   ]
  },
  {
   "cell_type": "code",
   "execution_count": 156,
   "metadata": {},
   "outputs": [],
   "source": [
    "def ProcesarTexto(texto):\n",
    "    \n",
    "    doc = nlp(texto)\n",
    "    words = [t.text for t in doc]\n",
    "    \n",
    "    return words"
   ]
  },
  {
   "cell_type": "code",
   "execution_count": 157,
   "metadata": {},
   "outputs": [],
   "source": [
    "import multiprocessing\n",
    "from multiprocessing.dummy import Pool as ThreadPool"
   ]
  },
  {
   "cell_type": "code",
   "execution_count": 158,
   "metadata": {},
   "outputs": [
    {
     "data": {
      "text/plain": [
       "12"
      ]
     },
     "execution_count": 158,
     "metadata": {},
     "output_type": "execute_result"
    }
   ],
   "source": [
    "cores = multiprocessing.cpu_count()\n",
    "pool = ThreadPool(cores)\n",
    "cores"
   ]
  },
  {
   "cell_type": "code",
   "execution_count": 159,
   "metadata": {},
   "outputs": [],
   "source": [
    "processed_docs = pool.map(ProcesarTexto, docs['descripcionsolicitud_lemma'])\n",
    "pool.close()"
   ]
  },
  {
   "cell_type": "code",
   "execution_count": 160,
   "metadata": {},
   "outputs": [],
   "source": [
    "import gensim"
   ]
  },
  {
   "cell_type": "code",
   "execution_count": 161,
   "metadata": {},
   "outputs": [],
   "source": [
    "dictionary = gensim.corpora.Dictionary(processed_docs)"
   ]
  },
  {
   "cell_type": "code",
   "execution_count": 162,
   "metadata": {},
   "outputs": [],
   "source": [
    "dictionary.filter_extremes(no_below=15, no_above=0.5, keep_n=100000)"
   ]
  },
  {
   "cell_type": "code",
   "execution_count": 163,
   "metadata": {},
   "outputs": [],
   "source": [
    "bow_corpus = [dictionary.doc2bow(doc) for doc in processed_docs]"
   ]
  },
  {
   "cell_type": "code",
   "execution_count": 164,
   "metadata": {},
   "outputs": [],
   "source": [
    "from gensim import corpora, models\n",
    "from pprint import pprint"
   ]
  },
  {
   "cell_type": "code",
   "execution_count": 165,
   "metadata": {},
   "outputs": [],
   "source": [
    "tfidf = models.TfidfModel(bow_corpus)\n",
    "corpus_tfidf = tfidf[bow_corpus]"
   ]
  },
  {
   "cell_type": "markdown",
   "metadata": {},
   "source": [
    "### 5 tópicos TF-IDF"
   ]
  },
  {
   "cell_type": "code",
   "execution_count": 166,
   "metadata": {},
   "outputs": [],
   "source": [
    "lda_model_tfidf_5 = gensim.models.LdaMulticore(corpus_tfidf, \n",
    "                                            num_topics=5,\n",
    "                                            id2word=dictionary,\n",
    "                                            passes=2,\n",
    "                                            workers=cores)"
   ]
  },
  {
   "cell_type": "code",
   "execution_count": 167,
   "metadata": {},
   "outputs": [
    {
     "name": "stdout",
     "output_type": "stream",
     "text": [
      "Topic: 0 Word: 0.014*\"medicar\" + 0.009*\"medicamento\" + 0.007*\"paciente\" + 0.006*\"recetar\" + 0.005*\"nivel\" + 0.005*\"hospital\" + 0.005*\"publicar\" + 0.004*\"servidor\" + 0.004*\"periodo\" + 0.004*\"tipo\"\n",
      "Topic: 1 Word: 0.020*\"remuneracion\" + 0.017*\"servidor\" + 0.014*\"publicar\" + 0.013*\"tipo\" + 0.012*\"deducción\" + 0.011*\"soldar\" + 0.011*\"nivelar\" + 0.010*\"prestación\" + 0.010*\"vincular\" + 0.010*\"neto\"\n",
      "Topic: 2 Word: 0.008*\"sanitario\" + 0.007*\"concesion\" + 0.007*\"titulos\" + 0.007*\"numeros\" + 0.005*\"tramitar\" + 0.005*\"federal\" + 0.005*\"cofepris\" + 0.005*\"amparar\" + 0.004*\"tribunal\" + 0.004*\"informar\"\n",
      "Topic: 3 Word: 0.016*\"nava\" + 0.016*\"vazquez\" + 0.015*\"telecomunicación\" + 0.014*\"subprocuraduria\" + 0.012*\"consultor\" + 0.012*\"organigrama\" + 0.012*\"aplicar\" + 0.012*\"dictamenes\" + 0.011*\"diario\" + 0.011*\"manual\"\n",
      "Topic: 4 Word: 0.007*\"articular\" + 0.006*\"adquirir\" + 0.004*\"informar\" + 0.004*\"partir\" + 0.004*\"gastar\" + 0.004*\"casar\" + 0.003*\"presupuestal\" + 0.003*\"federal\" + 0.003*\"informatica\" + 0.003*\"centrar\"\n"
     ]
    }
   ],
   "source": [
    "for idx, topic in lda_model_tfidf_5.print_topics(-1):\n",
    "    print('Topic: {} Word: {}'.format(idx, topic))"
   ]
  },
  {
   "cell_type": "markdown",
   "metadata": {},
   "source": [
    "### 10 tópicos TF-IDF"
   ]
  },
  {
   "cell_type": "code",
   "execution_count": 168,
   "metadata": {},
   "outputs": [],
   "source": [
    "lda_model_tfidf_10 = gensim.models.LdaMulticore(corpus_tfidf, \n",
    "                                            num_topics=10,\n",
    "                                            id2word=dictionary,\n",
    "                                            passes=2,\n",
    "                                            workers=cores)"
   ]
  },
  {
   "cell_type": "code",
   "execution_count": 169,
   "metadata": {},
   "outputs": [
    {
     "name": "stdout",
     "output_type": "stream",
     "text": [
      "Topic: 0 Word: 0.011*\"amparar\" + 0.010*\"tribunal\" + 0.009*\"juicio\" + 0.007*\"colegiar\" + 0.006*\"dictar\" + 0.006*\"bebida\" + 0.006*\"federal\" + 0.006*\"montar\" + 0.006*\"distrito\" + 0.006*\"alcohol\"\n",
      "Topic: 1 Word: 0.013*\"adquirir\" + 0.012*\"articular\" + 0.010*\"medicar\" + 0.009*\"medicamento\" + 0.009*\"informatica\" + 0.007*\"gastar\" + 0.006*\"adquisicion\" + 0.006*\"presupuestal\" + 0.006*\"partir\" + 0.006*\"mencionar\"\n",
      "Topic: 2 Word: 0.005*\"federal\" + 0.004*\"electoral\" + 0.004*\"maderar\" + 0.004*\"articular\" + 0.004*\"informar\" + 0.004*\"partir\" + 0.003*\"sujeto\" + 0.003*\"instituto\" + 0.003*\"municipio\" + 0.003*\"recibir\"\n",
      "Topic: 3 Word: 0.007*\"modificacion\" + 0.007*\"tramitar\" + 0.005*\"cofepris\" + 0.005*\"aplicar\" + 0.005*\"municipio\" + 0.005*\"sanitario\" + 0.005*\"zona\" + 0.004*\"secretario\" + 0.004*\"ambiental\" + 0.004*\"ubicar\"\n",
      "Topic: 4 Word: 0.009*\"padron\" + 0.009*\"procampo\" + 0.007*\"partir\" + 0.007*\"original\" + 0.006*\"ejercer\" + 0.006*\"modificar\" + 0.005*\"presupuestal\" + 0.005*\"municipio\" + 0.005*\"presupuesto\" + 0.005*\"presupuestar\"\n",
      "Topic: 5 Word: 0.018*\"sanitario\" + 0.014*\"cofepris\" + 0.009*\"subprocuraduria\" + 0.008*\"tramitar\" + 0.008*\"consignar\" + 0.008*\"telecomunicación\" + 0.008*\"fabricacion\" + 0.008*\"evidenciar\" + 0.007*\"modificación\" + 0.007*\"informar\"\n",
      "Topic: 6 Word: 0.047*\"remuneracion\" + 0.044*\"servidor\" + 0.036*\"tipo\" + 0.030*\"nominar\" + 0.030*\"honorario\" + 0.029*\"publicar\" + 0.026*\"vincular\" + 0.025*\"bruto\" + 0.025*\"neto\" + 0.025*\"soldar\"\n",
      "Topic: 7 Word: 0.019*\"nava\" + 0.018*\"vazquez\" + 0.014*\"consultor\" + 0.009*\"organigrama\" + 0.009*\"despachar\" + 0.009*\"celebrar\" + 0.009*\"dictamenes\" + 0.008*\"manual\" + 0.008*\"diario\" + 0.008*\"oficial\"\n",
      "Topic: 8 Word: 0.041*\"titulos\" + 0.038*\"concesion\" + 0.037*\"numeros\" + 0.005*\"empresa\" + 0.004*\"sanitario\" + 0.004*\"oficio\" + 0.004*\"anexo\" + 0.004*\"informar\" + 0.003*\"comision\" + 0.003*\"sustanciar\"\n",
      "Topic: 9 Word: 0.015*\"vino\" + 0.007*\"social\" + 0.007*\"congregacion\" + 0.006*\"publicar\" + 0.006*\"curriculum\" + 0.006*\"montar\" + 0.005*\"contactar\" + 0.005*\"tipo\" + 0.005*\"servidor\" + 0.005*\"vitae\"\n"
     ]
    }
   ],
   "source": [
    "for idx, topic in lda_model_tfidf_10.print_topics(-1):\n",
    "    print('Topic: {} Word: {}'.format(idx, topic))"
   ]
  },
  {
   "cell_type": "markdown",
   "metadata": {},
   "source": [
    "### 20 tópicos TF-IDF"
   ]
  },
  {
   "cell_type": "code",
   "execution_count": 170,
   "metadata": {},
   "outputs": [],
   "source": [
    "lda_model_tfidf_20 = gensim.models.LdaMulticore(corpus_tfidf, \n",
    "                                            num_topics=20,\n",
    "                                            id2word=dictionary,\n",
    "                                            passes=2,\n",
    "                                            workers=cores)"
   ]
  },
  {
   "cell_type": "code",
   "execution_count": 171,
   "metadata": {},
   "outputs": [
    {
     "name": "stdout",
     "output_type": "stream",
     "text": [
      "Topic: 0 Word: 0.006*\"proyecto\" + 0.005*\"obrar\" + 0.004*\"auditorio\" + 0.004*\"ambiental\" + 0.004*\"anexo\" + 0.004*\"computar\" + 0.004*\"municipio\" + 0.004*\"relacionar\" + 0.004*\"tribunal\" + 0.004*\"amparar\"\n",
      "Topic: 1 Word: 0.024*\"organigrama\" + 0.023*\"manual\" + 0.022*\"dictamenes\" + 0.022*\"diario\" + 0.021*\"autorizacion\" + 0.021*\"oficial\" + 0.021*\"respectivo\" + 0.020*\"organizacion\" + 0.018*\"procedimiento\" + 0.017*\"federacion\"\n",
      "Topic: 2 Word: 0.012*\"remuneracion\" + 0.011*\"servidor\" + 0.011*\"proporcionar\" + 0.010*\"publicar\" + 0.010*\"tipo\" + 0.008*\"propiedad\" + 0.008*\"solicitante\" + 0.008*\"industrial\" + 0.008*\"correspondiente\" + 0.007*\"soldar\"\n",
      "Topic: 3 Word: 0.016*\"manufacturar\" + 0.013*\"maderar\" + 0.009*\"publicar\" + 0.009*\"servidor\" + 0.008*\"oficial\" + 0.008*\"guante\" + 0.007*\"organigrama\" + 0.007*\"dictamenes\" + 0.007*\"partir\" + 0.007*\"autorizacion\"\n",
      "Topic: 4 Word: 0.027*\"procampo\" + 0.027*\"padron\" + 0.017*\"aviso\" + 0.015*\"original\" + 0.014*\"modificar\" + 0.014*\"partir\" + 0.013*\"vino\" + 0.012*\"alcohol\" + 0.012*\"ejercer\" + 0.011*\"presupuesto\"\n",
      "Topic: 5 Word: 0.025*\"medicar\" + 0.019*\"informatica\" + 0.018*\"medicamento\" + 0.013*\"adquisicion\" + 0.013*\"paciente\" + 0.012*\"recetar\" + 0.010*\"anexar\" + 0.009*\"preguntar\" + 0.009*\"responder\" + 0.009*\"proveedor\"\n",
      "Topic: 6 Word: 0.006*\"diputar\" + 0.005*\"partir\" + 0.004*\"informar\" + 0.004*\"gastar\" + 0.004*\"montar\" + 0.004*\"viaticos\" + 0.004*\"escuela\" + 0.004*\"instituto\" + 0.004*\"educacion\" + 0.004*\"desglosar\"\n",
      "Topic: 7 Word: 0.103*\"numeros\" + 0.043*\"titulos\" + 0.023*\"concesion\" + 0.022*\"amparar\" + 0.017*\"juicio\" + 0.015*\"tribunal\" + 0.014*\"dictar\" + 0.014*\"distrito\" + 0.013*\"juzgar\" + 0.013*\"colegiar\"\n",
      "Topic: 8 Word: 0.009*\"estadisticas\" + 0.009*\"sanitario\" + 0.007*\"modificación\" + 0.007*\"institucion\" + 0.007*\"cofepris\" + 0.006*\"geograficas\" + 0.005*\"federal\" + 0.005*\"capacitacion\" + 0.005*\"sindicato\" + 0.005*\"completar\"\n",
      "Topic: 9 Word: 0.006*\"electoral\" + 0.006*\"investigacion\" + 0.005*\"maderar\" + 0.005*\"essa\" + 0.005*\"informar\" + 0.004*\"facturar\" + 0.004*\"producto\" + 0.004*\"montar\" + 0.004*\"licitacion\" + 0.004*\"publicar\"\n",
      "Topic: 10 Word: 0.028*\"aplicar\" + 0.022*\"obligar\" + 0.021*\"sujeto\" + 0.018*\"servidor\" + 0.018*\"prestador\" + 0.017*\"sueldo\" + 0.014*\"comprender\" + 0.014*\"periodo\" + 0.013*\"honorario\" + 0.012*\"nominar\"\n",
      "Topic: 11 Word: 0.058*\"concesion\" + 0.049*\"titulos\" + 0.025*\"nava\" + 0.025*\"vazquez\" + 0.019*\"consultor\" + 0.012*\"despachar\" + 0.012*\"celebrar\" + 0.008*\"relacion\" + 0.007*\"betancourt\" + 0.007*\"objetar\"\n",
      "Topic: 12 Word: 0.012*\"tramitar\" + 0.012*\"sanitario\" + 0.012*\"pemex\" + 0.011*\"corresponder\" + 0.011*\"cofepris\" + 0.010*\"empresa\" + 0.008*\"mensual\" + 0.008*\"rojo\" + 0.008*\"margarita\" + 0.007*\"laborar\"\n",
      "Topic: 13 Word: 0.031*\"adquirir\" + 0.026*\"articular\" + 0.019*\"gastar\" + 0.017*\"partir\" + 0.017*\"presupuestal\" + 0.014*\"mencionar\" + 0.012*\"informar\" + 0.010*\"fiscal\" + 0.010*\"envio\" + 0.010*\"saludar\"\n",
      "Topic: 14 Word: 0.025*\"sanitario\" + 0.014*\"cofepris\" + 0.014*\"fabricacion\" + 0.011*\"tramitar\" + 0.010*\"licenciar\" + 0.010*\"modificacion\" + 0.010*\"informar\" + 0.009*\"empresa\" + 0.009*\"medicamento\" + 0.007*\"prevención\"\n",
      "Topic: 15 Word: 0.034*\"telecomunicación\" + 0.033*\"subprocuraduria\" + 0.012*\"digitalizacion\" + 0.009*\"universo\" + 0.009*\"aplicar\" + 0.009*\"autonomos\" + 0.006*\"servidor\" + 0.006*\"tecnologias\" + 0.006*\"tipo\" + 0.005*\"periodo\"\n",
      "Topic: 16 Word: 0.011*\"seguridad\" + 0.008*\"especificar\" + 0.008*\"monto\" + 0.007*\"zona\" + 0.006*\"casar\" + 0.006*\"elemento\" + 0.006*\"federal\" + 0.005*\"cuerpo\" + 0.005*\"operar\" + 0.005*\"terrestre\"\n",
      "Topic: 17 Word: 0.008*\"bebida\" + 0.008*\"quedar\" + 0.007*\"valioso\" + 0.007*\"ordenar\" + 0.007*\"oficiar\" + 0.007*\"violar\" + 0.007*\"patentarios\" + 0.006*\"reglamentar\" + 0.006*\"impi\" + 0.006*\"insumo\"\n",
      "Topic: 18 Word: 0.048*\"remuneracion\" + 0.039*\"servidor\" + 0.031*\"tipo\" + 0.030*\"publicar\" + 0.026*\"bruto\" + 0.026*\"neto\" + 0.026*\"nivelar\" + 0.026*\"compensacion\" + 0.026*\"percepción\" + 0.026*\"soldar\"\n",
      "Topic: 19 Word: 0.011*\"institucional\" + 0.009*\"electronicos\" + 0.007*\"administracion\" + 0.007*\"control\" + 0.007*\"archivo\" + 0.006*\"federal\" + 0.006*\"enviar\" + 0.006*\"victoria\" + 0.006*\"alto\" + 0.006*\"regional\"\n"
     ]
    }
   ],
   "source": [
    "for idx, topic in lda_model_tfidf_20.print_topics(-1):\n",
    "    print('Topic: {} Word: {}'.format(idx, topic))"
   ]
  },
  {
   "cell_type": "markdown",
   "metadata": {},
   "source": [
    "### Guardamos en S3"
   ]
  },
  {
   "cell_type": "code",
   "execution_count": 172,
   "metadata": {},
   "outputs": [
    {
     "data": {
      "text/plain": [
       "{'ResponseMetadata': {'RequestId': 'F851D018F6D33049',\n",
       "  'HostId': 'zqkPGPMh0BScooKNVRCgcIs3vDtmD+jwn5i42iFzxxY29U0QDxtE6jzq9Gry1H2tNlOCo7/vrcI=',\n",
       "  'HTTPStatusCode': 200,\n",
       "  'HTTPHeaders': {'x-amz-id-2': 'zqkPGPMh0BScooKNVRCgcIs3vDtmD+jwn5i42iFzxxY29U0QDxtE6jzq9Gry1H2tNlOCo7/vrcI=',\n",
       "   'x-amz-request-id': 'F851D018F6D33049',\n",
       "   'date': 'Thu, 30 Jul 2020 18:30:54 GMT',\n",
       "   'etag': '\"40eb26d44e51dfdfcd6b273623c41270\"',\n",
       "   'content-length': '0',\n",
       "   'server': 'AmazonS3',\n",
       "   'connection': 'close'},\n",
       "  'RetryAttempts': 0},\n",
       " 'ETag': '\"40eb26d44e51dfdfcd6b273623c41270\"'}"
      ]
     },
     "execution_count": 172,
     "metadata": {},
     "output_type": "execute_result"
    }
   ],
   "source": [
    "bucket='inai-summerofdata'\n",
    "key='modeling/LDA/3/2017/df_2017.pkl'\n",
    "pickle_byte_obj = pickle.dumps(df_2017)\n",
    "s3_resource = boto3.resource('s3')\n",
    "s3_resource.Object(bucket, key).put(Body=pickle_byte_obj)"
   ]
  },
  {
   "cell_type": "code",
   "execution_count": 173,
   "metadata": {},
   "outputs": [
    {
     "data": {
      "text/plain": [
       "{'ResponseMetadata': {'RequestId': '36EBEDB498C2B8F7',\n",
       "  'HostId': 'DyKdSFm1bvdbvD/l28je7IpqYBKc9XOiFLVeijLwpxvDd3JBXFYIKX8WXL/ytAVsRDt8/2lP00M=',\n",
       "  'HTTPStatusCode': 200,\n",
       "  'HTTPHeaders': {'x-amz-id-2': 'DyKdSFm1bvdbvD/l28je7IpqYBKc9XOiFLVeijLwpxvDd3JBXFYIKX8WXL/ytAVsRDt8/2lP00M=',\n",
       "   'x-amz-request-id': '36EBEDB498C2B8F7',\n",
       "   'date': 'Thu, 30 Jul 2020 18:36:39 GMT',\n",
       "   'etag': '\"0a0c72108705938a09e94c9929f3076a\"',\n",
       "   'content-length': '0',\n",
       "   'server': 'AmazonS3'},\n",
       "  'RetryAttempts': 0},\n",
       " 'ETag': '\"0a0c72108705938a09e94c9929f3076a\"'}"
      ]
     },
     "execution_count": 173,
     "metadata": {},
     "output_type": "execute_result"
    }
   ],
   "source": [
    "bucket='inai-summerofdata'\n",
    "key='modeling/LDA/3/2017/processed_docs.pkl'\n",
    "pickle_byte_obj = pickle.dumps(processed_docs)\n",
    "s3_resource = boto3.resource('s3')\n",
    "s3_resource.Object(bucket, key).put(Body=pickle_byte_obj)"
   ]
  },
  {
   "cell_type": "code",
   "execution_count": 174,
   "metadata": {},
   "outputs": [
    {
     "data": {
      "text/plain": [
       "{'ResponseMetadata': {'RequestId': '1NAW1S0R4K3V2W2J',\n",
       "  'HostId': 'G1xPsJ9eNVb9dbZqPKW/IWpZ12lCZpXVB3a6DwoD9IadPFJvUFdQGtL8EacuiQLpha/mGnPAnqU=',\n",
       "  'HTTPStatusCode': 200,\n",
       "  'HTTPHeaders': {'x-amz-id-2': 'G1xPsJ9eNVb9dbZqPKW/IWpZ12lCZpXVB3a6DwoD9IadPFJvUFdQGtL8EacuiQLpha/mGnPAnqU=',\n",
       "   'x-amz-request-id': '1NAW1S0R4K3V2W2J',\n",
       "   'date': 'Thu, 30 Jul 2020 18:37:23 GMT',\n",
       "   'etag': '\"ae58190b8925ee447d1f565e645b18b4\"',\n",
       "   'content-length': '0',\n",
       "   'server': 'AmazonS3'},\n",
       "  'RetryAttempts': 0},\n",
       " 'ETag': '\"ae58190b8925ee447d1f565e645b18b4\"'}"
      ]
     },
     "execution_count": 174,
     "metadata": {},
     "output_type": "execute_result"
    }
   ],
   "source": [
    "bucket='inai-summerofdata'\n",
    "key='modeling/LDA/3/2017/lda_model_tfidf_5.pkl'\n",
    "pickle_byte_obj = pickle.dumps(lda_model_tfidf_5)\n",
    "s3_resource = boto3.resource('s3')\n",
    "s3_resource.Object(bucket, key).put(Body=pickle_byte_obj)"
   ]
  },
  {
   "cell_type": "code",
   "execution_count": 175,
   "metadata": {},
   "outputs": [
    {
     "data": {
      "text/plain": [
       "{'ResponseMetadata': {'RequestId': '2Z7HERCT6Y4KBV9R',\n",
       "  'HostId': 'xz8aC2IjxLTEe58KlnyrWWckXxj1dczhg1bmLSYkErbb12M9P3ox84PCyOsY+Mfo1Tr2SApY+fk=',\n",
       "  'HTTPStatusCode': 200,\n",
       "  'HTTPHeaders': {'x-amz-id-2': 'xz8aC2IjxLTEe58KlnyrWWckXxj1dczhg1bmLSYkErbb12M9P3ox84PCyOsY+Mfo1Tr2SApY+fk=',\n",
       "   'x-amz-request-id': '2Z7HERCT6Y4KBV9R',\n",
       "   'date': 'Thu, 30 Jul 2020 18:37:28 GMT',\n",
       "   'etag': '\"9d206e460e6b16285b1fce4f89e60a59\"',\n",
       "   'content-length': '0',\n",
       "   'server': 'AmazonS3'},\n",
       "  'RetryAttempts': 0},\n",
       " 'ETag': '\"9d206e460e6b16285b1fce4f89e60a59\"'}"
      ]
     },
     "execution_count": 175,
     "metadata": {},
     "output_type": "execute_result"
    }
   ],
   "source": [
    "bucket='inai-summerofdata'\n",
    "key='modeling/LDA/3/2017/lda_model_tfidf_10.pkl'\n",
    "pickle_byte_obj = pickle.dumps(lda_model_tfidf_10)\n",
    "s3_resource = boto3.resource('s3')\n",
    "s3_resource.Object(bucket, key).put(Body=pickle_byte_obj)"
   ]
  },
  {
   "cell_type": "code",
   "execution_count": 176,
   "metadata": {},
   "outputs": [
    {
     "data": {
      "text/plain": [
       "{'ResponseMetadata': {'RequestId': '8A4CF9E33E740DB1',\n",
       "  'HostId': 'Oe0jnkQZ5pq9xeq4zrHtQ02uGS2CIDQKvVYMC9y1E2H8Hm5q1I7U+N5q1yTBTZETeggA+GNHNIE=',\n",
       "  'HTTPStatusCode': 200,\n",
       "  'HTTPHeaders': {'x-amz-id-2': 'Oe0jnkQZ5pq9xeq4zrHtQ02uGS2CIDQKvVYMC9y1E2H8Hm5q1I7U+N5q1yTBTZETeggA+GNHNIE=',\n",
       "   'x-amz-request-id': '8A4CF9E33E740DB1',\n",
       "   'date': 'Thu, 30 Jul 2020 18:37:36 GMT',\n",
       "   'etag': '\"37718f4b90481bc57001453632c99e44\"',\n",
       "   'content-length': '0',\n",
       "   'server': 'AmazonS3'},\n",
       "  'RetryAttempts': 0},\n",
       " 'ETag': '\"37718f4b90481bc57001453632c99e44\"'}"
      ]
     },
     "execution_count": 176,
     "metadata": {},
     "output_type": "execute_result"
    }
   ],
   "source": [
    "bucket='inai-summerofdata'\n",
    "key='modeling/LDA/3/2017/lda_model_tfidf_20.pkl'\n",
    "pickle_byte_obj = pickle.dumps(lda_model_tfidf_20)\n",
    "s3_resource = boto3.resource('s3')\n",
    "s3_resource.Object(bucket, key).put(Body=pickle_byte_obj)"
   ]
  },
  {
   "cell_type": "markdown",
   "metadata": {},
   "source": [
    "# 2018"
   ]
  },
  {
   "cell_type": "code",
   "execution_count": 177,
   "metadata": {},
   "outputs": [],
   "source": [
    "filtro = df_new['anosolicitud'] == 2018\n",
    "df_2018 = df_new[filtro]"
   ]
  },
  {
   "cell_type": "code",
   "execution_count": 178,
   "metadata": {},
   "outputs": [
    {
     "name": "stdout",
     "output_type": "stream",
     "text": [
      "<class 'pandas.core.frame.DataFrame'>\n",
      "Int64Index: 184742 entries, 389995 to 1396674\n",
      "Data columns (total 31 columns):\n",
      " #   Column                         Non-Null Count   Dtype         \n",
      "---  ------                         --------------   -----         \n",
      " 0   folio                          184742 non-null  object        \n",
      " 1   fechasolicitud                 184742 non-null  datetime64[ns]\n",
      " 2   dependencia                    184742 non-null  object        \n",
      " 3   estatus                        184742 non-null  object        \n",
      " 4   medioentrada                   184742 non-null  object        \n",
      " 5   tiposolicitud                  184742 non-null  object        \n",
      " 6   descripcionsolicitud           184742 non-null  object        \n",
      " 7   otrosdatos                     184742 non-null  object        \n",
      " 8   archivoadjuntosolicitud        184742 non-null  object        \n",
      " 9   medioentrega                   184742 non-null  object        \n",
      " 10  fechalimite                    177183 non-null  datetime64[ns]\n",
      " 11  respuesta                      184742 non-null  object        \n",
      " 12  textorespuesta                 184742 non-null  object        \n",
      " 13  archivorespuesta               184742 non-null  object        \n",
      " 14  fecharespuesta                 184742 non-null  datetime64[ns]\n",
      " 15  pais                           184742 non-null  object        \n",
      " 16  estado                         184742 non-null  object        \n",
      " 17  municipio                      184742 non-null  object        \n",
      " 18  codigopostal                   184742 non-null  object        \n",
      " 19  sector                         184742 non-null  object        \n",
      " 20  tipo_archivo_respuesta         184742 non-null  object        \n",
      " 21  cantidad_archivos_respuesta    149222 non-null  float64       \n",
      " 22  texto_respuesta_adjunto        184742 non-null  object        \n",
      " 23  respuestareal                  184742 non-null  object        \n",
      " 24  calidad_respuesta              184742 non-null  object        \n",
      " 25  calidad_respuesta_real         184742 non-null  object        \n",
      " 26  solicitud_longitud             184742 non-null  int64         \n",
      " 27  descripcionsolicitud_lemma     184742 non-null  object        \n",
      " 28  codigo_calidad_respuesta_real  184742 non-null  int64         \n",
      " 29  solicitud_lemma_longitud       184742 non-null  int64         \n",
      " 30  anosolicitud                   184742 non-null  int64         \n",
      "dtypes: datetime64[ns](3), float64(1), int64(4), object(23)\n",
      "memory usage: 45.1+ MB\n"
     ]
    }
   ],
   "source": [
    "df_2018.info()"
   ]
  },
  {
   "cell_type": "code",
   "execution_count": 179,
   "metadata": {},
   "outputs": [],
   "source": [
    "data = df_2018[['descripcionsolicitud_lemma']]\n",
    "data['index'] = data.index\n",
    "docs = data"
   ]
  },
  {
   "cell_type": "code",
   "execution_count": 180,
   "metadata": {},
   "outputs": [
    {
     "data": {
      "text/html": [
       "<div>\n",
       "<style scoped>\n",
       "    .dataframe tbody tr th:only-of-type {\n",
       "        vertical-align: middle;\n",
       "    }\n",
       "\n",
       "    .dataframe tbody tr th {\n",
       "        vertical-align: top;\n",
       "    }\n",
       "\n",
       "    .dataframe thead th {\n",
       "        text-align: right;\n",
       "    }\n",
       "</style>\n",
       "<table border=\"1\" class=\"dataframe\">\n",
       "  <thead>\n",
       "    <tr style=\"text-align: right;\">\n",
       "      <th></th>\n",
       "      <th>descripcionsolicitud_lemma</th>\n",
       "      <th>index</th>\n",
       "    </tr>\n",
       "  </thead>\n",
       "  <tbody>\n",
       "    <tr>\n",
       "      <th>389995</th>\n",
       "      <td>documentar legal expedir competente constar de...</td>\n",
       "      <td>389995</td>\n",
       "    </tr>\n",
       "    <tr>\n",
       "      <th>389997</th>\n",
       "      <td>listar escalafon cambiar turnar medicos especi...</td>\n",
       "      <td>389997</td>\n",
       "    </tr>\n",
       "    <tr>\n",
       "      <th>389999</th>\n",
       "      <td>acta adjudicacion contratacion integral banco ...</td>\n",
       "      <td>389999</td>\n",
       "    </tr>\n",
       "    <tr>\n",
       "      <th>390000</th>\n",
       "      <td>acta adjudicacion contratacion integral banco ...</td>\n",
       "      <td>390000</td>\n",
       "    </tr>\n",
       "    <tr>\n",
       "      <th>390001</th>\n",
       "      <td>querer agenciar tipo aguascalientes hablar con...</td>\n",
       "      <td>390001</td>\n",
       "    </tr>\n",
       "  </tbody>\n",
       "</table>\n",
       "</div>"
      ],
      "text/plain": [
       "                               descripcionsolicitud_lemma   index\n",
       "389995  documentar legal expedir competente constar de...  389995\n",
       "389997  listar escalafon cambiar turnar medicos especi...  389997\n",
       "389999  acta adjudicacion contratacion integral banco ...  389999\n",
       "390000  acta adjudicacion contratacion integral banco ...  390000\n",
       "390001  querer agenciar tipo aguascalientes hablar con...  390001"
      ]
     },
     "execution_count": 180,
     "metadata": {},
     "output_type": "execute_result"
    }
   ],
   "source": [
    "docs.head()"
   ]
  },
  {
   "cell_type": "code",
   "execution_count": 181,
   "metadata": {},
   "outputs": [],
   "source": [
    "import spacy\n",
    "import nltk\n",
    "from nltk import SnowballStemmer"
   ]
  },
  {
   "cell_type": "code",
   "execution_count": 182,
   "metadata": {},
   "outputs": [],
   "source": [
    "nlp = spacy.load('es_core_news_sm')"
   ]
  },
  {
   "cell_type": "code",
   "execution_count": 183,
   "metadata": {},
   "outputs": [],
   "source": [
    "def ProcesarTexto(texto):\n",
    "    \n",
    "    doc = nlp(texto)\n",
    "    words = [t.text for t in doc]\n",
    "    \n",
    "    return words"
   ]
  },
  {
   "cell_type": "code",
   "execution_count": 184,
   "metadata": {},
   "outputs": [],
   "source": [
    "import multiprocessing\n",
    "from multiprocessing.dummy import Pool as ThreadPool"
   ]
  },
  {
   "cell_type": "code",
   "execution_count": 185,
   "metadata": {},
   "outputs": [
    {
     "data": {
      "text/plain": [
       "12"
      ]
     },
     "execution_count": 185,
     "metadata": {},
     "output_type": "execute_result"
    }
   ],
   "source": [
    "cores = multiprocessing.cpu_count()\n",
    "pool = ThreadPool(cores)\n",
    "cores"
   ]
  },
  {
   "cell_type": "code",
   "execution_count": 186,
   "metadata": {},
   "outputs": [],
   "source": [
    "processed_docs = pool.map(ProcesarTexto, docs['descripcionsolicitud_lemma'])\n",
    "pool.close()"
   ]
  },
  {
   "cell_type": "code",
   "execution_count": 187,
   "metadata": {},
   "outputs": [],
   "source": [
    "import gensim"
   ]
  },
  {
   "cell_type": "code",
   "execution_count": 188,
   "metadata": {},
   "outputs": [],
   "source": [
    "dictionary = gensim.corpora.Dictionary(processed_docs)"
   ]
  },
  {
   "cell_type": "code",
   "execution_count": 189,
   "metadata": {},
   "outputs": [],
   "source": [
    "dictionary.filter_extremes(no_below=15, no_above=0.5, keep_n=100000)"
   ]
  },
  {
   "cell_type": "code",
   "execution_count": 190,
   "metadata": {},
   "outputs": [],
   "source": [
    "bow_corpus = [dictionary.doc2bow(doc) for doc in processed_docs]"
   ]
  },
  {
   "cell_type": "code",
   "execution_count": 191,
   "metadata": {},
   "outputs": [],
   "source": [
    "from gensim import corpora, models\n",
    "from pprint import pprint"
   ]
  },
  {
   "cell_type": "code",
   "execution_count": 192,
   "metadata": {},
   "outputs": [],
   "source": [
    "tfidf = models.TfidfModel(bow_corpus)\n",
    "corpus_tfidf = tfidf[bow_corpus]"
   ]
  },
  {
   "cell_type": "markdown",
   "metadata": {},
   "source": [
    "### 5 tópicos TF-IDF"
   ]
  },
  {
   "cell_type": "code",
   "execution_count": 193,
   "metadata": {},
   "outputs": [],
   "source": [
    "lda_model_tfidf_5 = gensim.models.LdaMulticore(corpus_tfidf, \n",
    "                                            num_topics=5,\n",
    "                                            id2word=dictionary,\n",
    "                                            passes=2,\n",
    "                                            workers=cores)"
   ]
  },
  {
   "cell_type": "code",
   "execution_count": 194,
   "metadata": {},
   "outputs": [
    {
     "name": "stdout",
     "output_type": "stream",
     "text": [
      "Topic: 0 Word: 0.004*\"permiso\" + 0.004*\"informar\" + 0.004*\"municipio\" + 0.003*\"mexicano\" + 0.003*\"electoral\" + 0.003*\"federal\" + 0.003*\"vigente\" + 0.003*\"casar\" + 0.003*\"sanitario\" + 0.003*\"gracia\"\n",
      "Topic: 1 Word: 0.005*\"municipio\" + 0.005*\"concesion\" + 0.004*\"documentar\" + 0.004*\"titulos\" + 0.004*\"presupuestar\" + 0.004*\"numeros\" + 0.004*\"california\" + 0.004*\"informar\" + 0.004*\"federal\" + 0.003*\"bajo\"\n",
      "Topic: 2 Word: 0.005*\"direccion\" + 0.004*\"montar\" + 0.004*\"federal\" + 0.004*\"requerir\" + 0.004*\"agostar\" + 0.004*\"instituto\" + 0.004*\"servidor\" + 0.003*\"gracia\" + 0.003*\"secretario\" + 0.003*\"funcionario\"\n",
      "Topic: 3 Word: 0.015*\"medicamento\" + 0.013*\"medicar\" + 0.011*\"amparar\" + 0.010*\"tribunal\" + 0.010*\"juicio\" + 0.009*\"colegiar\" + 0.006*\"obsequiar\" + 0.006*\"recetar\" + 0.006*\"paciente\" + 0.006*\"plataforma\"\n",
      "Topic: 4 Word: 0.010*\"sanitario\" + 0.007*\"cofepris\" + 0.007*\"tramitar\" + 0.005*\"salud\" + 0.005*\"ingresar\" + 0.005*\"secretario\" + 0.005*\"evidenciar\" + 0.005*\"consignar\" + 0.005*\"informar\" + 0.004*\"montar\"\n"
     ]
    }
   ],
   "source": [
    "for idx, topic in lda_model_tfidf_5.print_topics(-1):\n",
    "    print('Topic: {} Word: {}'.format(idx, topic))"
   ]
  },
  {
   "cell_type": "markdown",
   "metadata": {},
   "source": [
    "### 10 tópicos TF-IDF"
   ]
  },
  {
   "cell_type": "code",
   "execution_count": 195,
   "metadata": {},
   "outputs": [],
   "source": [
    "lda_model_tfidf_10 = gensim.models.LdaMulticore(corpus_tfidf, \n",
    "                                            num_topics=10,\n",
    "                                            id2word=dictionary,\n",
    "                                            passes=2,\n",
    "                                            workers=cores)"
   ]
  },
  {
   "cell_type": "code",
   "execution_count": 196,
   "metadata": {},
   "outputs": [
    {
     "name": "stdout",
     "output_type": "stream",
     "text": [
      "Topic: 0 Word: 0.033*\"sanitario\" + 0.018*\"tramitar\" + 0.016*\"cofepris\" + 0.013*\"ingresar\" + 0.010*\"comision\" + 0.009*\"denominacion\" + 0.008*\"concesion\" + 0.007*\"titulos\" + 0.007*\"permiso\" + 0.007*\"informar\"\n",
      "Topic: 1 Word: 0.020*\"amparar\" + 0.019*\"tribunal\" + 0.018*\"colegiar\" + 0.016*\"juicio\" + 0.013*\"obsequiar\" + 0.012*\"bajo\" + 0.011*\"plataforma\" + 0.009*\"requerir\" + 0.007*\"civil\" + 0.006*\"penal\"\n",
      "Topic: 2 Word: 0.006*\"federacion\" + 0.005*\"magistrado\" + 0.004*\"diario\" + 0.004*\"oficial\" + 0.004*\"municipio\" + 0.004*\"montar\" + 0.004*\"requerir\" + 0.004*\"gastar\" + 0.004*\"fiscal\" + 0.003*\"ambiental\"\n",
      "Topic: 3 Word: 0.022*\"medicamento\" + 0.022*\"medicar\" + 0.011*\"salud\" + 0.011*\"recetar\" + 0.010*\"adquisicion\" + 0.010*\"paciente\" + 0.010*\"hospital\" + 0.008*\"licitacion\" + 0.008*\"evidenciar\" + 0.007*\"consignar\"\n",
      "Topic: 4 Word: 0.008*\"educacion\" + 0.007*\"convenio\" + 0.007*\"direccion\" + 0.005*\"secretario\" + 0.005*\"sindicato\" + 0.005*\"valioso\" + 0.005*\"quedar\" + 0.005*\"institucion\" + 0.005*\"casar\" + 0.004*\"gracia\"\n",
      "Topic: 5 Word: 0.009*\"padron\" + 0.007*\"sanitario\" + 0.007*\"cofepris\" + 0.006*\"renunciar\" + 0.006*\"chihuahua\" + 0.006*\"funcionario\" + 0.006*\"modificación\" + 0.006*\"tecnologico\" + 0.005*\"instituto\" + 0.004*\"trabajador\"\n",
      "Topic: 6 Word: 0.005*\"municipio\" + 0.004*\"primario\" + 0.004*\"escuela\" + 0.004*\"secundario\" + 0.004*\"ciudad\" + 0.004*\"inmueble\" + 0.004*\"documentar\" + 0.004*\"plantel\" + 0.003*\"presupuestar\" + 0.003*\"pormenorizar\"\n",
      "Topic: 7 Word: 0.009*\"articular\" + 0.007*\"establecer\" + 0.006*\"fundamentar\" + 0.005*\"oficiar\" + 0.005*\"salud\" + 0.004*\"federal\" + 0.004*\"impi\" + 0.004*\"partir\" + 0.004*\"medicamento\" + 0.004*\"adquirir\"\n",
      "Topic: 8 Word: 0.008*\"empresa\" + 0.008*\"montar\" + 0.007*\"consulting\" + 0.006*\"monto\" + 0.006*\"licitacion\" + 0.006*\"agostar\" + 0.006*\"informar\" + 0.006*\"detallar\" + 0.005*\"procedimiento\" + 0.005*\"denominar\"\n",
      "Topic: 9 Word: 0.007*\"federal\" + 0.006*\"procuraduria\" + 0.006*\"denunciar\" + 0.005*\"ambientar\" + 0.005*\"proteccion\" + 0.005*\"expediente\" + 0.005*\"resolución\" + 0.005*\"procedimiento\" + 0.005*\"delito\" + 0.004*\"servidor\"\n"
     ]
    }
   ],
   "source": [
    "for idx, topic in lda_model_tfidf_10.print_topics(-1):\n",
    "    print('Topic: {} Word: {}'.format(idx, topic))"
   ]
  },
  {
   "cell_type": "markdown",
   "metadata": {},
   "source": [
    "### 20 tópicos TF-IDF"
   ]
  },
  {
   "cell_type": "code",
   "execution_count": 197,
   "metadata": {},
   "outputs": [],
   "source": [
    "lda_model_tfidf_20 = gensim.models.LdaMulticore(corpus_tfidf, \n",
    "                                            num_topics=20,\n",
    "                                            id2word=dictionary,\n",
    "                                            passes=2,\n",
    "                                            workers=cores)"
   ]
  },
  {
   "cell_type": "code",
   "execution_count": 198,
   "metadata": {},
   "outputs": [
    {
     "name": "stdout",
     "output_type": "stream",
     "text": [
      "Topic: 0 Word: 0.040*\"medicamento\" + 0.035*\"medicar\" + 0.018*\"recetar\" + 0.016*\"paciente\" + 0.012*\"gubernamental\" + 0.012*\"pieza\" + 0.012*\"hospital\" + 0.011*\"adquisicion\" + 0.011*\"licitacion\" + 0.011*\"cuadrar\"\n",
      "Topic: 1 Word: 0.005*\"tramitar\" + 0.005*\"prevención\" + 0.005*\"partir\" + 0.005*\"jubilacion\" + 0.005*\"modificacion\" + 0.004*\"seguridad\" + 0.004*\"electoral\" + 0.004*\"desglosar\" + 0.004*\"cofepris\" + 0.004*\"cortar\"\n",
      "Topic: 2 Word: 0.017*\"valioso\" + 0.015*\"quedar\" + 0.014*\"cofepris\" + 0.013*\"ordenar\" + 0.013*\"modificación\" + 0.013*\"corresponder\" + 0.013*\"sanitario\" + 0.011*\"gracia\" + 0.007*\"tramitar\" + 0.007*\"acosar\"\n",
      "Topic: 3 Word: 0.006*\"chihuahua\" + 0.005*\"confianza\" + 0.005*\"honorario\" + 0.005*\"requerir\" + 0.005*\"roer\" + 0.005*\"adscripcion\" + 0.005*\"quintana\" + 0.004*\"municipio\" + 0.004*\"etcétera\" + 0.004*\"delegacion\"\n",
      "Topic: 4 Word: 0.026*\"obsequiar\" + 0.010*\"partir\" + 0.007*\"diputar\" + 0.006*\"bien\" + 0.006*\"oficialia\" + 0.005*\"protocolar\" + 0.005*\"campana\" + 0.005*\"andres\" + 0.005*\"bioequivalencia\" + 0.004*\"candidato\"\n",
      "Topic: 5 Word: 0.006*\"presupuestar\" + 0.006*\"consumidor\" + 0.006*\"comunicacion\" + 0.005*\"social\" + 0.005*\"telecomunicación\" + 0.005*\"trabajador\" + 0.005*\"federal\" + 0.005*\"profeco\" + 0.005*\"montar\" + 0.005*\"delegacion\"\n",
      "Topic: 6 Word: 0.014*\"tramitar\" + 0.011*\"sindicato\" + 0.010*\"acordo\" + 0.010*\"noventa\" + 0.009*\"trabajador\" + 0.009*\"sanitario\" + 0.009*\"convenio\" + 0.009*\"educacion\" + 0.009*\"aguinaldo\" + 0.009*\"secretario\"\n",
      "Topic: 7 Word: 0.012*\"magistrado\" + 0.012*\"federacion\" + 0.009*\"servidor\" + 0.008*\"oficial\" + 0.008*\"diario\" + 0.008*\"remuneración\" + 0.008*\"requerir\" + 0.006*\"montar\" + 0.006*\"remuneracion\" + 0.006*\"gastar\"\n",
      "Topic: 8 Word: 0.010*\"director\" + 0.010*\"pago\" + 0.010*\"detallar\" + 0.009*\"jefe\" + 0.009*\"secundario\" + 0.008*\"primario\" + 0.008*\"plantel\" + 0.008*\"educativo\" + 0.007*\"profesor\" + 0.007*\"trabajador\"\n",
      "Topic: 9 Word: 0.008*\"servidor\" + 0.007*\"proceso\" + 0.005*\"procesar\" + 0.005*\"publicar\" + 0.005*\"casar\" + 0.005*\"secretario\" + 0.004*\"funcionario\" + 0.004*\"direccion\" + 0.004*\"control\" + 0.004*\"institucion\"\n",
      "Topic: 10 Word: 0.013*\"ambientar\" + 0.010*\"padron\" + 0.009*\"proteccion\" + 0.009*\"federal\" + 0.008*\"yucatan\" + 0.007*\"reglamentar\" + 0.007*\"zona\" + 0.007*\"california\" + 0.006*\"terrestre\" + 0.006*\"procuraduria\"\n",
      "Topic: 11 Word: 0.028*\"amparar\" + 0.026*\"tribunal\" + 0.026*\"juicio\" + 0.023*\"colegiar\" + 0.014*\"bajo\" + 0.012*\"plataforma\" + 0.011*\"dictar\" + 0.011*\"penal\" + 0.011*\"distrito\" + 0.010*\"requerir\"\n",
      "Topic: 12 Word: 0.027*\"salud\" + 0.019*\"direccion\" + 0.016*\"peticion\" + 0.015*\"plataforma\" + 0.012*\"secretario\" + 0.011*\"consignar\" + 0.011*\"evidenciar\" + 0.011*\"naturaleza\" + 0.011*\"electronicos\" + 0.009*\"subdireccion\"\n",
      "Topic: 13 Word: 0.010*\"call\" + 0.010*\"center\" + 0.009*\"renunciar\" + 0.009*\"monto\" + 0.008*\"corresponder\" + 0.007*\"informar\" + 0.006*\"motivar\" + 0.006*\"aeropuerto\" + 0.006*\"montar\" + 0.006*\"rentar\"\n",
      "Topic: 14 Word: 0.005*\"municipio\" + 0.004*\"libro\" + 0.004*\"energia\" + 0.004*\"radiologico\" + 0.004*\"adulto\" + 0.003*\"consumir\" + 0.003*\"fundicion\" + 0.003*\"presupuestar\" + 0.003*\"social\" + 0.003*\"realizar\"\n",
      "Topic: 15 Word: 0.007*\"concesion\" + 0.006*\"titulos\" + 0.005*\"numeros\" + 0.004*\"curriculum\" + 0.004*\"participacion\" + 0.004*\"cedula\" + 0.004*\"desarrollar\" + 0.004*\"llenar\" + 0.004*\"profesional\" + 0.004*\"secretario\"\n",
      "Topic: 16 Word: 0.023*\"sanitario\" + 0.012*\"empresa\" + 0.011*\"denominar\" + 0.011*\"consulting\" + 0.011*\"articular\" + 0.010*\"licitacion\" + 0.010*\"cofepris\" + 0.009*\"procedimiento\" + 0.009*\"fundamentar\" + 0.008*\"agostar\"\n",
      "Topic: 17 Word: 0.006*\"mujer\" + 0.005*\"delito\" + 0.005*\"informar\" + 0.004*\"discapacidad\" + 0.004*\"victimar\" + 0.004*\"federal\" + 0.004*\"casar\" + 0.004*\"codigo\" + 0.004*\"articular\" + 0.004*\"ninos\"\n",
      "Topic: 18 Word: 0.007*\"pemex\" + 0.005*\"hidrocarburo\" + 0.004*\"aguar\" + 0.004*\"municipio\" + 0.004*\"empresa\" + 0.004*\"motivar\" + 0.004*\"produccion\" + 0.004*\"exploracion\" + 0.003*\"tomar\" + 0.003*\"casar\"\n",
      "Topic: 19 Word: 0.009*\"superior\" + 0.008*\"becar\" + 0.007*\"institucion\" + 0.007*\"vigente\" + 0.007*\"facturar\" + 0.007*\"electronicas\" + 0.006*\"educacion\" + 0.006*\"timbrar\" + 0.006*\"digital\" + 0.005*\"concluir\"\n"
     ]
    }
   ],
   "source": [
    "for idx, topic in lda_model_tfidf_20.print_topics(-1):\n",
    "    print('Topic: {} Word: {}'.format(idx, topic))"
   ]
  },
  {
   "cell_type": "markdown",
   "metadata": {},
   "source": [
    "### Guardamos en S3"
   ]
  },
  {
   "cell_type": "code",
   "execution_count": 199,
   "metadata": {},
   "outputs": [
    {
     "data": {
      "text/plain": [
       "{'ResponseMetadata': {'RequestId': 'DB4165D87816C1B5',\n",
       "  'HostId': 'hqVti/+oYML1msWJPZb+Rz3VyYFYFAGm3Q5yM/DAKnX2vN4VE/MXtz/AhzkNvzFhBAVkq40KBQM=',\n",
       "  'HTTPStatusCode': 200,\n",
       "  'HTTPHeaders': {'x-amz-id-2': 'hqVti/+oYML1msWJPZb+Rz3VyYFYFAGm3Q5yM/DAKnX2vN4VE/MXtz/AhzkNvzFhBAVkq40KBQM=',\n",
       "   'x-amz-request-id': 'DB4165D87816C1B5',\n",
       "   'date': 'Thu, 30 Jul 2020 19:04:12 GMT',\n",
       "   'etag': '\"fa7233747bfea1f12925e6e16939fb55\"',\n",
       "   'content-length': '0',\n",
       "   'server': 'AmazonS3',\n",
       "   'connection': 'close'},\n",
       "  'RetryAttempts': 0},\n",
       " 'ETag': '\"fa7233747bfea1f12925e6e16939fb55\"'}"
      ]
     },
     "execution_count": 199,
     "metadata": {},
     "output_type": "execute_result"
    }
   ],
   "source": [
    "bucket='inai-summerofdata'\n",
    "key='modeling/LDA/3/2018/df_2018.pkl'\n",
    "pickle_byte_obj = pickle.dumps(df_2018)\n",
    "s3_resource = boto3.resource('s3')\n",
    "s3_resource.Object(bucket, key).put(Body=pickle_byte_obj)"
   ]
  },
  {
   "cell_type": "code",
   "execution_count": 200,
   "metadata": {},
   "outputs": [
    {
     "data": {
      "text/plain": [
       "{'ResponseMetadata': {'RequestId': '9BFB9FF0B034910E',\n",
       "  'HostId': 'hDCe2ihdk1NkrMwgF33P4u9vIJDbVK4YCQQFUJA3vFogI0HzKv3KUyErQWjGv/5b7EF9LaJ7iOI=',\n",
       "  'HTTPStatusCode': 200,\n",
       "  'HTTPHeaders': {'x-amz-id-2': 'hDCe2ihdk1NkrMwgF33P4u9vIJDbVK4YCQQFUJA3vFogI0HzKv3KUyErQWjGv/5b7EF9LaJ7iOI=',\n",
       "   'x-amz-request-id': '9BFB9FF0B034910E',\n",
       "   'date': 'Thu, 30 Jul 2020 19:09:37 GMT',\n",
       "   'etag': '\"d9218eb34bd34ae5f370ce4f4a35a07c\"',\n",
       "   'content-length': '0',\n",
       "   'server': 'AmazonS3'},\n",
       "  'RetryAttempts': 0},\n",
       " 'ETag': '\"d9218eb34bd34ae5f370ce4f4a35a07c\"'}"
      ]
     },
     "execution_count": 200,
     "metadata": {},
     "output_type": "execute_result"
    }
   ],
   "source": [
    "bucket='inai-summerofdata'\n",
    "key='modeling/LDA/3/2018/processed_docs.pkl'\n",
    "pickle_byte_obj = pickle.dumps(processed_docs)\n",
    "s3_resource = boto3.resource('s3')\n",
    "s3_resource.Object(bucket, key).put(Body=pickle_byte_obj)"
   ]
  },
  {
   "cell_type": "code",
   "execution_count": 201,
   "metadata": {},
   "outputs": [
    {
     "data": {
      "text/plain": [
       "{'ResponseMetadata': {'RequestId': 'AT7Z8WAP9VEW1X8G',\n",
       "  'HostId': 'CL2Dt/VtA1u/zTcXDRo5+hqBrt6xhibe22CR9vRmjkVx1IJ01fc+JsiajV5b9YXTXXh4VI+nPKA=',\n",
       "  'HTTPStatusCode': 200,\n",
       "  'HTTPHeaders': {'x-amz-id-2': 'CL2Dt/VtA1u/zTcXDRo5+hqBrt6xhibe22CR9vRmjkVx1IJ01fc+JsiajV5b9YXTXXh4VI+nPKA=',\n",
       "   'x-amz-request-id': 'AT7Z8WAP9VEW1X8G',\n",
       "   'date': 'Thu, 30 Jul 2020 19:13:23 GMT',\n",
       "   'etag': '\"42b10e2f8383acc303c6b6bb79bf672a\"',\n",
       "   'content-length': '0',\n",
       "   'server': 'AmazonS3'},\n",
       "  'RetryAttempts': 0},\n",
       " 'ETag': '\"42b10e2f8383acc303c6b6bb79bf672a\"'}"
      ]
     },
     "execution_count": 201,
     "metadata": {},
     "output_type": "execute_result"
    }
   ],
   "source": [
    "bucket='inai-summerofdata'\n",
    "key='modeling/LDA/3/2018/lda_model_tfidf_5.pkl'\n",
    "pickle_byte_obj = pickle.dumps(lda_model_tfidf_5)\n",
    "s3_resource = boto3.resource('s3')\n",
    "s3_resource.Object(bucket, key).put(Body=pickle_byte_obj)"
   ]
  },
  {
   "cell_type": "code",
   "execution_count": 202,
   "metadata": {},
   "outputs": [
    {
     "data": {
      "text/plain": [
       "{'ResponseMetadata': {'RequestId': '210E11C6EA93895C',\n",
       "  'HostId': 'lFssXGaJ3B8bO68cTO7ka1W7rvqHNta0ZwJyk7LkApF7DfrxwFWDJgJozRaixqJsu07C1/sXkhI=',\n",
       "  'HTTPStatusCode': 200,\n",
       "  'HTTPHeaders': {'x-amz-id-2': 'lFssXGaJ3B8bO68cTO7ka1W7rvqHNta0ZwJyk7LkApF7DfrxwFWDJgJozRaixqJsu07C1/sXkhI=',\n",
       "   'x-amz-request-id': '210E11C6EA93895C',\n",
       "   'date': 'Thu, 30 Jul 2020 19:13:28 GMT',\n",
       "   'etag': '\"01f8562133e28669376820fbde9bd794\"',\n",
       "   'content-length': '0',\n",
       "   'server': 'AmazonS3'},\n",
       "  'RetryAttempts': 0},\n",
       " 'ETag': '\"01f8562133e28669376820fbde9bd794\"'}"
      ]
     },
     "execution_count": 202,
     "metadata": {},
     "output_type": "execute_result"
    }
   ],
   "source": [
    "bucket='inai-summerofdata'\n",
    "key='modeling/LDA/3/2018/lda_model_tfidf_10.pkl'\n",
    "pickle_byte_obj = pickle.dumps(lda_model_tfidf_10)\n",
    "s3_resource = boto3.resource('s3')\n",
    "s3_resource.Object(bucket, key).put(Body=pickle_byte_obj)"
   ]
  },
  {
   "cell_type": "code",
   "execution_count": 203,
   "metadata": {},
   "outputs": [
    {
     "data": {
      "text/plain": [
       "{'ResponseMetadata': {'RequestId': '02DD0E387FE131B3',\n",
       "  'HostId': 'Hms1G6VVQTHVyC4o8T9jeTC0u6tw+SVbndHTK28kFYlL7c56QyrtBnOF7w8fHlp93bGfW1yz3Kg=',\n",
       "  'HTTPStatusCode': 200,\n",
       "  'HTTPHeaders': {'x-amz-id-2': 'Hms1G6VVQTHVyC4o8T9jeTC0u6tw+SVbndHTK28kFYlL7c56QyrtBnOF7w8fHlp93bGfW1yz3Kg=',\n",
       "   'x-amz-request-id': '02DD0E387FE131B3',\n",
       "   'date': 'Thu, 30 Jul 2020 19:13:33 GMT',\n",
       "   'etag': '\"0148de123cda063ceddc767ef2c26afc\"',\n",
       "   'content-length': '0',\n",
       "   'server': 'AmazonS3'},\n",
       "  'RetryAttempts': 0},\n",
       " 'ETag': '\"0148de123cda063ceddc767ef2c26afc\"'}"
      ]
     },
     "execution_count": 203,
     "metadata": {},
     "output_type": "execute_result"
    }
   ],
   "source": [
    "bucket='inai-summerofdata'\n",
    "key='modeling/LDA/3/2018/lda_model_tfidf_20.pkl'\n",
    "pickle_byte_obj = pickle.dumps(lda_model_tfidf_20)\n",
    "s3_resource = boto3.resource('s3')\n",
    "s3_resource.Object(bucket, key).put(Body=pickle_byte_obj)"
   ]
  },
  {
   "cell_type": "markdown",
   "metadata": {},
   "source": [
    "# 2019"
   ]
  },
  {
   "cell_type": "code",
   "execution_count": 204,
   "metadata": {},
   "outputs": [],
   "source": [
    "filtro = df_new['anosolicitud'] == 2019\n",
    "df_2019 = df_new[filtro]"
   ]
  },
  {
   "cell_type": "code",
   "execution_count": 205,
   "metadata": {},
   "outputs": [
    {
     "name": "stdout",
     "output_type": "stream",
     "text": [
      "<class 'pandas.core.frame.DataFrame'>\n",
      "Int64Index: 222609 entries, 454993 to 1559008\n",
      "Data columns (total 31 columns):\n",
      " #   Column                         Non-Null Count   Dtype         \n",
      "---  ------                         --------------   -----         \n",
      " 0   folio                          222609 non-null  object        \n",
      " 1   fechasolicitud                 222609 non-null  datetime64[ns]\n",
      " 2   dependencia                    222609 non-null  object        \n",
      " 3   estatus                        222609 non-null  object        \n",
      " 4   medioentrada                   222609 non-null  object        \n",
      " 5   tiposolicitud                  222609 non-null  object        \n",
      " 6   descripcionsolicitud           222609 non-null  object        \n",
      " 7   otrosdatos                     222609 non-null  object        \n",
      " 8   archivoadjuntosolicitud        222609 non-null  object        \n",
      " 9   medioentrega                   222609 non-null  object        \n",
      " 10  fechalimite                    215440 non-null  datetime64[ns]\n",
      " 11  respuesta                      222609 non-null  object        \n",
      " 12  textorespuesta                 222609 non-null  object        \n",
      " 13  archivorespuesta               222609 non-null  object        \n",
      " 14  fecharespuesta                 222609 non-null  datetime64[ns]\n",
      " 15  pais                           222609 non-null  object        \n",
      " 16  estado                         222609 non-null  object        \n",
      " 17  municipio                      222609 non-null  object        \n",
      " 18  codigopostal                   222609 non-null  object        \n",
      " 19  sector                         222609 non-null  object        \n",
      " 20  tipo_archivo_respuesta         222609 non-null  object        \n",
      " 21  cantidad_archivos_respuesta    177565 non-null  float64       \n",
      " 22  texto_respuesta_adjunto        222609 non-null  object        \n",
      " 23  respuestareal                  222609 non-null  object        \n",
      " 24  calidad_respuesta              222609 non-null  object        \n",
      " 25  calidad_respuesta_real         222609 non-null  object        \n",
      " 26  solicitud_longitud             222609 non-null  int64         \n",
      " 27  descripcionsolicitud_lemma     222609 non-null  object        \n",
      " 28  codigo_calidad_respuesta_real  222609 non-null  int64         \n",
      " 29  solicitud_lemma_longitud       222609 non-null  int64         \n",
      " 30  anosolicitud                   222609 non-null  int64         \n",
      "dtypes: datetime64[ns](3), float64(1), int64(4), object(23)\n",
      "memory usage: 54.3+ MB\n"
     ]
    }
   ],
   "source": [
    "df_2019.info()"
   ]
  },
  {
   "cell_type": "code",
   "execution_count": 206,
   "metadata": {},
   "outputs": [],
   "source": [
    "data = df_2019[['descripcionsolicitud_lemma']]\n",
    "data['index'] = data.index\n",
    "docs = data"
   ]
  },
  {
   "cell_type": "code",
   "execution_count": 207,
   "metadata": {},
   "outputs": [
    {
     "data": {
      "text/html": [
       "<div>\n",
       "<style scoped>\n",
       "    .dataframe tbody tr th:only-of-type {\n",
       "        vertical-align: middle;\n",
       "    }\n",
       "\n",
       "    .dataframe tbody tr th {\n",
       "        vertical-align: top;\n",
       "    }\n",
       "\n",
       "    .dataframe thead th {\n",
       "        text-align: right;\n",
       "    }\n",
       "</style>\n",
       "<table border=\"1\" class=\"dataframe\">\n",
       "  <thead>\n",
       "    <tr style=\"text-align: right;\">\n",
       "      <th></th>\n",
       "      <th>descripcionsolicitud_lemma</th>\n",
       "      <th>index</th>\n",
       "    </tr>\n",
       "  </thead>\n",
       "  <tbody>\n",
       "    <tr>\n",
       "      <th>454993</th>\n",
       "      <td>documentar listar funcionario local oficina pr...</td>\n",
       "      <td>454993</td>\n",
       "    </tr>\n",
       "    <tr>\n",
       "      <th>454994</th>\n",
       "      <td>documentar listar funcionario local oficina pr...</td>\n",
       "      <td>454994</td>\n",
       "    </tr>\n",
       "    <tr>\n",
       "      <th>454995</th>\n",
       "      <td>amparar revision indice decimo tribunal colegi...</td>\n",
       "      <td>454995</td>\n",
       "    </tr>\n",
       "    <tr>\n",
       "      <th>454996</th>\n",
       "      <td>amparar revision indice tribunal colegiar escr...</td>\n",
       "      <td>454996</td>\n",
       "    </tr>\n",
       "    <tr>\n",
       "      <th>454997</th>\n",
       "      <td>juicio amparar indirecto indice juzgar decimo ...</td>\n",
       "      <td>454997</td>\n",
       "    </tr>\n",
       "  </tbody>\n",
       "</table>\n",
       "</div>"
      ],
      "text/plain": [
       "                               descripcionsolicitud_lemma   index\n",
       "454993  documentar listar funcionario local oficina pr...  454993\n",
       "454994  documentar listar funcionario local oficina pr...  454994\n",
       "454995  amparar revision indice decimo tribunal colegi...  454995\n",
       "454996  amparar revision indice tribunal colegiar escr...  454996\n",
       "454997  juicio amparar indirecto indice juzgar decimo ...  454997"
      ]
     },
     "execution_count": 207,
     "metadata": {},
     "output_type": "execute_result"
    }
   ],
   "source": [
    "docs.head()"
   ]
  },
  {
   "cell_type": "code",
   "execution_count": 208,
   "metadata": {},
   "outputs": [],
   "source": [
    "import spacy\n",
    "import nltk\n",
    "from nltk import SnowballStemmer"
   ]
  },
  {
   "cell_type": "code",
   "execution_count": 209,
   "metadata": {},
   "outputs": [],
   "source": [
    "nlp = spacy.load('es_core_news_sm')"
   ]
  },
  {
   "cell_type": "code",
   "execution_count": 210,
   "metadata": {},
   "outputs": [],
   "source": [
    "def ProcesarTexto(texto):\n",
    "    \n",
    "    doc = nlp(texto)\n",
    "    words = [t.text for t in doc]\n",
    "    \n",
    "    return words"
   ]
  },
  {
   "cell_type": "code",
   "execution_count": 211,
   "metadata": {},
   "outputs": [],
   "source": [
    "import multiprocessing\n",
    "from multiprocessing.dummy import Pool as ThreadPool"
   ]
  },
  {
   "cell_type": "code",
   "execution_count": 212,
   "metadata": {},
   "outputs": [
    {
     "data": {
      "text/plain": [
       "12"
      ]
     },
     "execution_count": 212,
     "metadata": {},
     "output_type": "execute_result"
    }
   ],
   "source": [
    "cores = multiprocessing.cpu_count()\n",
    "pool = ThreadPool(cores)\n",
    "cores"
   ]
  },
  {
   "cell_type": "code",
   "execution_count": 213,
   "metadata": {},
   "outputs": [],
   "source": [
    "processed_docs = pool.map(ProcesarTexto, docs['descripcionsolicitud_lemma'])\n",
    "pool.close()"
   ]
  },
  {
   "cell_type": "code",
   "execution_count": 214,
   "metadata": {},
   "outputs": [],
   "source": [
    "import gensim"
   ]
  },
  {
   "cell_type": "code",
   "execution_count": 215,
   "metadata": {},
   "outputs": [],
   "source": [
    "dictionary = gensim.corpora.Dictionary(processed_docs)"
   ]
  },
  {
   "cell_type": "code",
   "execution_count": 216,
   "metadata": {},
   "outputs": [],
   "source": [
    "dictionary.filter_extremes(no_below=15, no_above=0.5, keep_n=100000)"
   ]
  },
  {
   "cell_type": "code",
   "execution_count": 217,
   "metadata": {},
   "outputs": [],
   "source": [
    "bow_corpus = [dictionary.doc2bow(doc) for doc in processed_docs]"
   ]
  },
  {
   "cell_type": "code",
   "execution_count": 218,
   "metadata": {},
   "outputs": [],
   "source": [
    "from gensim import corpora, models\n",
    "from pprint import pprint"
   ]
  },
  {
   "cell_type": "code",
   "execution_count": 219,
   "metadata": {},
   "outputs": [],
   "source": [
    "tfidf = models.TfidfModel(bow_corpus)\n",
    "corpus_tfidf = tfidf[bow_corpus]"
   ]
  },
  {
   "cell_type": "markdown",
   "metadata": {},
   "source": [
    "### 5 tópicos TF-IDF"
   ]
  },
  {
   "cell_type": "code",
   "execution_count": 220,
   "metadata": {},
   "outputs": [],
   "source": [
    "lda_model_tfidf_5 = gensim.models.LdaMulticore(corpus_tfidf, \n",
    "                                            num_topics=5,\n",
    "                                            id2word=dictionary,\n",
    "                                            passes=2,\n",
    "                                            workers=cores)"
   ]
  },
  {
   "cell_type": "code",
   "execution_count": 221,
   "metadata": {},
   "outputs": [
    {
     "name": "stdout",
     "output_type": "stream",
     "text": [
      "Topic: 0 Word: 0.004*\"servidor\" + 0.004*\"requerir\" + 0.004*\"institucion\" + 0.004*\"mensual\" + 0.004*\"informar\" + 0.004*\"trabajador\" + 0.004*\"secretario\" + 0.004*\"soldar\" + 0.003*\"federal\" + 0.003*\"octubre\"\n",
      "Topic: 1 Word: 0.012*\"sanitario\" + 0.011*\"tramitar\" + 0.008*\"permiso\" + 0.007*\"control\" + 0.007*\"fumigacion\" + 0.007*\"plagar\" + 0.005*\"comision\" + 0.005*\"periodo\" + 0.005*\"montar\" + 0.004*\"ingresar\"\n",
      "Topic: 2 Word: 0.013*\"medicamento\" + 0.012*\"medicar\" + 0.007*\"padron\" + 0.006*\"recetar\" + 0.005*\"municipio\" + 0.005*\"hospital\" + 0.005*\"paciente\" + 0.004*\"extintor\" + 0.004*\"grupo\" + 0.004*\"periodo\"\n",
      "Topic: 3 Word: 0.008*\"amparar\" + 0.007*\"tribunal\" + 0.007*\"gracia\" + 0.006*\"valioso\" + 0.006*\"ordenar\" + 0.006*\"quedar\" + 0.006*\"dictar\" + 0.005*\"colegiar\" + 0.005*\"corresponder\" + 0.005*\"decimo\"\n",
      "Topic: 4 Word: 0.004*\"denunciar\" + 0.004*\"firmar\" + 0.004*\"procedimiento\" + 0.003*\"convenio\" + 0.003*\"publicar\" + 0.003*\"documentar\" + 0.003*\"casar\" + 0.003*\"contratista\" + 0.003*\"avanzar\" + 0.003*\"fiscal\"\n"
     ]
    }
   ],
   "source": [
    "for idx, topic in lda_model_tfidf_5.print_topics(-1):\n",
    "    print('Topic: {} Word: {}'.format(idx, topic))"
   ]
  },
  {
   "cell_type": "markdown",
   "metadata": {},
   "source": [
    "### 10 tópicos TF-IDF"
   ]
  },
  {
   "cell_type": "code",
   "execution_count": 222,
   "metadata": {},
   "outputs": [],
   "source": [
    "lda_model_tfidf_10 = gensim.models.LdaMulticore(corpus_tfidf, \n",
    "                                            num_topics=10,\n",
    "                                            id2word=dictionary,\n",
    "                                            passes=2,\n",
    "                                            workers=cores)"
   ]
  },
  {
   "cell_type": "code",
   "execution_count": 223,
   "metadata": {},
   "outputs": [
    {
     "name": "stdout",
     "output_type": "stream",
     "text": [
      "Topic: 0 Word: 0.007*\"medicamento\" + 0.005*\"grupo\" + 0.004*\"federal\" + 0.004*\"publicar\" + 0.004*\"facturar\" + 0.004*\"secretario\" + 0.004*\"adjudicacion\" + 0.004*\"servidor\" + 0.004*\"plaza\" + 0.004*\"direccion\"\n",
      "Topic: 1 Word: 0.027*\"medicar\" + 0.021*\"medicamento\" + 0.017*\"recetar\" + 0.013*\"paciente\" + 0.008*\"hospital\" + 0.006*\"nivel\" + 0.005*\"matricular\" + 0.005*\"prescribir\" + 0.005*\"basico\" + 0.005*\"cuadrar\"\n",
      "Topic: 2 Word: 0.005*\"ambiental\" + 0.004*\"secretario\" + 0.004*\"impactar\" + 0.003*\"credito\" + 0.003*\"convenio\" + 0.003*\"publicar\" + 0.003*\"federal\" + 0.003*\"presupuestar\" + 0.003*\"desarrollar\" + 0.003*\"financiero\"\n",
      "Topic: 3 Word: 0.008*\"denunciar\" + 0.006*\"avanzar\" + 0.005*\"firmar\" + 0.005*\"articular\" + 0.005*\"publicar\" + 0.005*\"tipo\" + 0.004*\"social\" + 0.004*\"institucion\" + 0.004*\"montar\" + 0.004*\"acosar\"\n",
      "Topic: 4 Word: 0.011*\"extintor\" + 0.009*\"enajenación\" + 0.008*\"octubre\" + 0.008*\"noviembre\" + 0.008*\"oficina\" + 0.008*\"salud\" + 0.007*\"completar\" + 0.007*\"concesion\" + 0.006*\"confianza\" + 0.006*\"honorario\"\n",
      "Topic: 5 Word: 0.013*\"plagar\" + 0.013*\"fumigacion\" + 0.012*\"control\" + 0.008*\"contratacion\" + 0.005*\"tramitar\" + 0.005*\"premio\" + 0.005*\"lotenal\" + 0.005*\"requerir\" + 0.005*\"celebrar\" + 0.005*\"obtener\"\n",
      "Topic: 6 Word: 0.005*\"municipio\" + 0.005*\"institucional\" + 0.005*\"mensual\" + 0.004*\"soldar\" + 0.004*\"requerir\" + 0.004*\"ciudad\" + 0.003*\"servidor\" + 0.003*\"informar\" + 0.003*\"proporcionar\" + 0.003*\"ubicar\"\n",
      "Topic: 7 Word: 0.017*\"sanitario\" + 0.009*\"permiso\" + 0.007*\"tramitar\" + 0.007*\"comision\" + 0.007*\"cofepris\" + 0.006*\"concesion\" + 0.005*\"ingresar\" + 0.005*\"informar\" + 0.005*\"aguar\" + 0.005*\"producto\"\n",
      "Topic: 8 Word: 0.011*\"valioso\" + 0.010*\"quedar\" + 0.010*\"ordenar\" + 0.009*\"gracia\" + 0.009*\"corresponder\" + 0.006*\"documentar\" + 0.005*\"protocolar\" + 0.005*\"investigacion\" + 0.004*\"estudio\" + 0.003*\"universidad\"\n",
      "Topic: 9 Word: 0.011*\"tribunal\" + 0.010*\"amparar\" + 0.009*\"tramitar\" + 0.007*\"colegiar\" + 0.007*\"contratista\" + 0.007*\"padron\" + 0.007*\"distrito\" + 0.007*\"juicio\" + 0.006*\"dictar\" + 0.006*\"resolucion\"\n"
     ]
    }
   ],
   "source": [
    "for idx, topic in lda_model_tfidf_10.print_topics(-1):\n",
    "    print('Topic: {} Word: {}'.format(idx, topic))"
   ]
  },
  {
   "cell_type": "markdown",
   "metadata": {},
   "source": [
    "### 20 tópicos TF-IDF"
   ]
  },
  {
   "cell_type": "code",
   "execution_count": 224,
   "metadata": {},
   "outputs": [],
   "source": [
    "lda_model_tfidf_20 = gensim.models.LdaMulticore(corpus_tfidf, \n",
    "                                            num_topics=20,\n",
    "                                            id2word=dictionary,\n",
    "                                            passes=2,\n",
    "                                            workers=cores)"
   ]
  },
  {
   "cell_type": "code",
   "execution_count": 225,
   "metadata": {},
   "outputs": [
    {
     "name": "stdout",
     "output_type": "stream",
     "text": [
      "Topic: 0 Word: 0.017*\"tramitar\" + 0.009*\"delito\" + 0.008*\"periodo\" + 0.006*\"denunciar\" + 0.006*\"detenido\" + 0.006*\"robar\" + 0.006*\"recibir\" + 0.005*\"responsable\" + 0.005*\"casar\" + 0.005*\"investigacion\"\n",
      "Topic: 1 Word: 0.007*\"lotenal\" + 0.004*\"desarrollar\" + 0.004*\"comite\" + 0.004*\"requerir\" + 0.003*\"acta\" + 0.003*\"convenio\" + 0.003*\"consultar\" + 0.003*\"citar\" + 0.003*\"extraordinario\" + 0.003*\"casar\"\n",
      "Topic: 2 Word: 0.024*\"montar\" + 0.018*\"extintor\" + 0.016*\"institucion\" + 0.013*\"detallar\" + 0.012*\"proveedor\" + 0.011*\"comer\" + 0.009*\"adjudicacion\" + 0.009*\"fiesta\" + 0.009*\"gracia\" + 0.009*\"gastar\"\n",
      "Topic: 3 Word: 0.010*\"avanzar\" + 0.008*\"firmar\" + 0.006*\"proceso\" + 0.005*\"digital\" + 0.005*\"procedimiento\" + 0.005*\"certificar\" + 0.005*\"publicar\" + 0.004*\"educacion\" + 0.004*\"caracter\" + 0.004*\"articular\"\n",
      "Topic: 4 Word: 0.041*\"sanitario\" + 0.021*\"valioso\" + 0.019*\"ordenar\" + 0.018*\"cofepris\" + 0.017*\"quedar\" + 0.016*\"corresponder\" + 0.014*\"comision\" + 0.014*\"tramitar\" + 0.013*\"gracia\" + 0.011*\"ingresar\"\n",
      "Topic: 5 Word: 0.007*\"lopez\" + 0.005*\"secretario\" + 0.005*\"publicar\" + 0.004*\"informar\" + 0.004*\"servidor\" + 0.004*\"funcionario\" + 0.004*\"andres\" + 0.004*\"obrador\" + 0.004*\"diputar\" + 0.004*\"director\"\n",
      "Topic: 6 Word: 0.009*\"institucional\" + 0.008*\"electronicos\" + 0.006*\"comunicacion\" + 0.006*\"laboral\" + 0.006*\"requerir\" + 0.005*\"proporcionar\" + 0.005*\"superior\" + 0.005*\"servidor\" + 0.005*\"direccion\" + 0.004*\"social\"\n",
      "Topic: 7 Word: 0.007*\"cenar\" + 0.006*\"nominar\" + 0.006*\"institucion\" + 0.004*\"fondo\" + 0.004*\"aportación\" + 0.004*\"montar\" + 0.004*\"municipio\" + 0.004*\"casar\" + 0.004*\"pensionar\" + 0.004*\"informar\"\n",
      "Topic: 8 Word: 0.006*\"protocolar\" + 0.005*\"aeropuerto\" + 0.005*\"tomar\" + 0.004*\"clandestino\" + 0.004*\"bioequivalencia\" + 0.004*\"bendamustina\" + 0.004*\"abastecimiento\" + 0.004*\"denominar\" + 0.003*\"ampliacion\" + 0.003*\"informar\"\n",
      "Topic: 9 Word: 0.010*\"contratista\" + 0.009*\"expendio\" + 0.008*\"precio\" + 0.008*\"identificar\" + 0.007*\"padron\" + 0.007*\"acuerdo\" + 0.007*\"vigente\" + 0.007*\"permiso\" + 0.006*\"ambiental\" + 0.006*\"gasolina\"\n",
      "Topic: 10 Word: 0.008*\"octubre\" + 0.008*\"honorario\" + 0.008*\"mensual\" + 0.008*\"soldar\" + 0.008*\"confianza\" + 0.008*\"noviembre\" + 0.008*\"premio\" + 0.008*\"contratacion\" + 0.007*\"institucion\" + 0.006*\"miembro\"\n",
      "Topic: 11 Word: 0.034*\"fumigacion\" + 0.034*\"plagar\" + 0.030*\"control\" + 0.020*\"contratacion\" + 0.015*\"concesion\" + 0.014*\"completar\" + 0.013*\"otorgamiento\" + 0.012*\"procesar\" + 0.009*\"celebrar\" + 0.009*\"orden\"\n",
      "Topic: 12 Word: 0.024*\"tribunal\" + 0.023*\"amparar\" + 0.018*\"colegiar\" + 0.016*\"dictar\" + 0.014*\"juicio\" + 0.013*\"distrito\" + 0.012*\"decimo\" + 0.012*\"radicar\" + 0.011*\"juzgar\" + 0.011*\"civil\"\n",
      "Topic: 13 Word: 0.022*\"medicamento\" + 0.014*\"grupo\" + 0.011*\"facturar\" + 0.010*\"medicar\" + 0.010*\"licitacion\" + 0.009*\"adquirir\" + 0.009*\"completo\" + 0.008*\"consumir\" + 0.008*\"adjudicacion\" + 0.007*\"preciar\"\n",
      "Topic: 14 Word: 0.038*\"medicar\" + 0.030*\"medicamento\" + 0.027*\"recetar\" + 0.020*\"paciente\" + 0.010*\"hospital\" + 0.009*\"documentar\" + 0.008*\"nivel\" + 0.008*\"prescribir\" + 0.008*\"matricular\" + 0.007*\"hospitalizacion\"\n",
      "Topic: 15 Word: 0.010*\"condonar\" + 0.010*\"salud\" + 0.007*\"masculino\" + 0.007*\"femenino\" + 0.006*\"secretario\" + 0.006*\"centrar\" + 0.006*\"presupuestar\" + 0.005*\"consignar\" + 0.005*\"evidenciar\" + 0.005*\"partir\"\n",
      "Topic: 16 Word: 0.012*\"comprobante\" + 0.011*\"aguar\" + 0.010*\"fiscal\" + 0.008*\"numerar\" + 0.007*\"concesion\" + 0.007*\"oficiar\" + 0.006*\"pago\" + 0.006*\"impi\" + 0.006*\"violar\" + 0.006*\"patentarios\"\n",
      "Topic: 17 Word: 0.008*\"permiso\" + 0.006*\"federal\" + 0.005*\"informar\" + 0.005*\"sustanciar\" + 0.005*\"sanitario\" + 0.004*\"autorización\" + 0.004*\"farmaco\" + 0.004*\"otorgar\" + 0.004*\"fundamentar\" + 0.004*\"haber\"\n",
      "Topic: 18 Word: 0.013*\"denunciar\" + 0.009*\"acosar\" + 0.008*\"inspeccionar\" + 0.007*\"quejar\" + 0.006*\"mujer\" + 0.006*\"municipio\" + 0.005*\"violencia\" + 0.005*\"sancion\" + 0.005*\"caso\" + 0.005*\"tipo\"\n",
      "Topic: 19 Word: 0.015*\"enajenación\" + 0.014*\"oficina\" + 0.009*\"adjudicación\" + 0.008*\"oficialia\" + 0.007*\"capturar\" + 0.007*\"padron\" + 0.006*\"central\" + 0.006*\"manana\" + 0.005*\"ingresar\" + 0.005*\"sanidad\"\n"
     ]
    }
   ],
   "source": [
    "for idx, topic in lda_model_tfidf_20.print_topics(-1):\n",
    "    print('Topic: {} Word: {}'.format(idx, topic))"
   ]
  },
  {
   "cell_type": "markdown",
   "metadata": {},
   "source": [
    "### Guardamos en S3"
   ]
  },
  {
   "cell_type": "code",
   "execution_count": null,
   "metadata": {},
   "outputs": [],
   "source": [
    "bucket='inai-summerofdata'\n",
    "key='modeling/LDA/3/2019/df_2019.pkl'\n",
    "pickle_byte_obj = pickle.dumps(df_2019)\n",
    "s3_resource = boto3.resource('s3')\n",
    "s3_resource.Object(bucket, key).put(Body=pickle_byte_obj)"
   ]
  },
  {
   "cell_type": "code",
   "execution_count": null,
   "metadata": {},
   "outputs": [],
   "source": [
    "bucket='inai-summerofdata'\n",
    "key='modeling/LDA/3/2019/processed_docs.pkl'\n",
    "pickle_byte_obj = pickle.dumps(processed_docs)\n",
    "s3_resource = boto3.resource('s3')\n",
    "s3_resource.Object(bucket, key).put(Body=pickle_byte_obj)"
   ]
  },
  {
   "cell_type": "code",
   "execution_count": null,
   "metadata": {},
   "outputs": [],
   "source": [
    "bucket='inai-summerofdata'\n",
    "key='modeling/LDA/3/2019/lda_model_tfidf_5.pkl'\n",
    "pickle_byte_obj = pickle.dumps(lda_model_tfidf_5)\n",
    "s3_resource = boto3.resource('s3')\n",
    "s3_resource.Object(bucket, key).put(Body=pickle_byte_obj)"
   ]
  },
  {
   "cell_type": "code",
   "execution_count": null,
   "metadata": {},
   "outputs": [],
   "source": [
    "bucket='inai-summerofdata'\n",
    "key='modeling/LDA/3/2019/lda_model_tfidf_10.pkl'\n",
    "pickle_byte_obj = pickle.dumps(lda_model_tfidf_10)\n",
    "s3_resource = boto3.resource('s3')\n",
    "s3_resource.Object(bucket, key).put(Body=pickle_byte_obj)"
   ]
  },
  {
   "cell_type": "code",
   "execution_count": null,
   "metadata": {},
   "outputs": [],
   "source": [
    "bucket='inai-summerofdata'\n",
    "key='modeling/LDA/3/2019/lda_model_tfidf_20.pkl'\n",
    "pickle_byte_obj = pickle.dumps(lda_model_tfidf_20)\n",
    "s3_resource = boto3.resource('s3')\n",
    "s3_resource.Object(bucket, key).put(Body=pickle_byte_obj)"
   ]
  }
 ],
 "metadata": {
  "kernelspec": {
   "display_name": "Python 3",
   "language": "python",
   "name": "python3"
  },
  "language_info": {
   "codemirror_mode": {
    "name": "ipython",
    "version": 3
   },
   "file_extension": ".py",
   "mimetype": "text/x-python",
   "name": "python",
   "nbconvert_exporter": "python",
   "pygments_lexer": "ipython3",
   "version": "3.7.3"
  }
 },
 "nbformat": 4,
 "nbformat_minor": 4
}
