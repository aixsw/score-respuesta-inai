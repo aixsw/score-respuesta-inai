{
 "cells": [
  {
   "cell_type": "code",
   "execution_count": 1,
   "metadata": {},
   "outputs": [],
   "source": [
    "import os, sys\n",
    "sys.path.insert(0, os.path.abspath(\"..\"))"
   ]
  },
  {
   "cell_type": "code",
   "execution_count": 2,
   "metadata": {},
   "outputs": [],
   "source": [
    "import pandas as pd\n",
    "import boto3\n",
    "import pickle\n",
    "import matplotlib.pyplot as plt\n",
    "import seaborn as sns\n",
    "import warnings\n",
    "warnings.filterwarnings('ignore')\n",
    "\n",
    "from src import fixdependencia as fix"
   ]
  },
  {
   "cell_type": "code",
   "execution_count": 3,
   "metadata": {},
   "outputs": [],
   "source": [
    "sns.set_style(\"whitegrid\")"
   ]
  },
  {
   "cell_type": "markdown",
   "metadata": {},
   "source": [
    "## Importamos la información"
   ]
  },
  {
   "cell_type": "code",
   "execution_count": 4,
   "metadata": {},
   "outputs": [],
   "source": [
    "session = boto3.session.Session()\n",
    "s3client = session.client('s3')"
   ]
  },
  {
   "cell_type": "code",
   "execution_count": 5,
   "metadata": {},
   "outputs": [],
   "source": [
    "response = s3client.get_object(Bucket='inai-summerofdata', Key='mlpreproc/pickles/df.pkl')\n",
    "\n",
    "body = response['Body'].read()\n",
    "df = pickle.loads(body)"
   ]
  },
  {
   "cell_type": "code",
   "execution_count": 6,
   "metadata": {},
   "outputs": [
    {
     "data": {
      "text/html": [
       "<div>\n",
       "<style scoped>\n",
       "    .dataframe tbody tr th:only-of-type {\n",
       "        vertical-align: middle;\n",
       "    }\n",
       "\n",
       "    .dataframe tbody tr th {\n",
       "        vertical-align: top;\n",
       "    }\n",
       "\n",
       "    .dataframe thead th {\n",
       "        text-align: right;\n",
       "    }\n",
       "</style>\n",
       "<table border=\"1\" class=\"dataframe\">\n",
       "  <thead>\n",
       "    <tr style=\"text-align: right;\">\n",
       "      <th></th>\n",
       "      <th>folio</th>\n",
       "      <th>fechasolicitud</th>\n",
       "      <th>dependencia</th>\n",
       "      <th>estatus</th>\n",
       "      <th>medioentrada</th>\n",
       "      <th>tiposolicitud</th>\n",
       "      <th>descripcionsolicitud</th>\n",
       "      <th>otrosdatos</th>\n",
       "      <th>archivoadjuntosolicitud</th>\n",
       "      <th>medioentrega</th>\n",
       "      <th>...</th>\n",
       "      <th>sector</th>\n",
       "      <th>tipo_archivo_respuesta</th>\n",
       "      <th>cantidad_archivos_respuesta</th>\n",
       "      <th>texto_respuesta_adjunto</th>\n",
       "      <th>respuestareal</th>\n",
       "      <th>calidad_respuesta</th>\n",
       "      <th>calidad_respuesta_real</th>\n",
       "      <th>solicitud_longitud</th>\n",
       "      <th>descripcionsolicitud_lemma</th>\n",
       "      <th>codigo_calidad_respuesta_real</th>\n",
       "    </tr>\n",
       "  </thead>\n",
       "  <tbody>\n",
       "    <tr>\n",
       "      <th>0</th>\n",
       "      <td>1857500001912</td>\n",
       "      <td>2012-01-01 05:04:07</td>\n",
       "      <td>pemex exploracion y produccion</td>\n",
       "      <td>terminada</td>\n",
       "      <td>electronica</td>\n",
       "      <td>informacion publica</td>\n",
       "      <td>copia de los documentos y los con que cuenta a...</td>\n",
       "      <td>None</td>\n",
       "      <td>None</td>\n",
       "      <td>entrega por internet en el infomex</td>\n",
       "      <td>...</td>\n",
       "      <td>energia</td>\n",
       "      <td>pdf</td>\n",
       "      <td>1.0</td>\n",
       "      <td>pemex exploracion y produccion oficio fecha 02...</td>\n",
       "      <td>entrega de informacion en medio electronico</td>\n",
       "      <td>satisfactoria</td>\n",
       "      <td>satisfactoria</td>\n",
       "      <td>768</td>\n",
       "      <td>copiar documento comportamiento historico tipi...</td>\n",
       "      <td>0</td>\n",
       "    </tr>\n",
       "    <tr>\n",
       "      <th>1</th>\n",
       "      <td>1857500002012</td>\n",
       "      <td>2012-01-01 05:13:16</td>\n",
       "      <td>pemex exploracion y produccion</td>\n",
       "      <td>terminada</td>\n",
       "      <td>electronica</td>\n",
       "      <td>informacion publica</td>\n",
       "      <td>del informacion y usados en la de flujo de efe...</td>\n",
       "      <td>None</td>\n",
       "      <td>None</td>\n",
       "      <td>entrega por internet en el infomex</td>\n",
       "      <td>...</td>\n",
       "      <td>energia</td>\n",
       "      <td>pdf</td>\n",
       "      <td>1.0</td>\n",
       "      <td>pemex exploracion y produccion oficio fecha 01...</td>\n",
       "      <td>entrega de informacion en medio electronico</td>\n",
       "      <td>satisfactoria</td>\n",
       "      <td>satisfactoria</td>\n",
       "      <td>548</td>\n",
       "      <td>informacion usar flujo efectivo pozo tipico ag...</td>\n",
       "      <td>0</td>\n",
       "    </tr>\n",
       "    <tr>\n",
       "      <th>2</th>\n",
       "      <td>0001800000712</td>\n",
       "      <td>2012-01-01 09:46:39</td>\n",
       "      <td>secretaria de energia</td>\n",
       "      <td>terminada</td>\n",
       "      <td>electronica</td>\n",
       "      <td>informacion publica</td>\n",
       "      <td>se me proporcione en magnetico y por este medi...</td>\n",
       "      <td>None</td>\n",
       "      <td>None</td>\n",
       "      <td>entrega por internet en el infomex</td>\n",
       "      <td>...</td>\n",
       "      <td>energia</td>\n",
       "      <td>zip</td>\n",
       "      <td>2.0</td>\n",
       "      <td>None</td>\n",
       "      <td>inexistencia de la informacion solicitada</td>\n",
       "      <td>no respondida</td>\n",
       "      <td>no respondida</td>\n",
       "      <td>269</td>\n",
       "      <td>proporcionar magnetico relacion ocupar amparar...</td>\n",
       "      <td>1</td>\n",
       "    </tr>\n",
       "    <tr>\n",
       "      <th>3</th>\n",
       "      <td>0000600003712</td>\n",
       "      <td>2012-01-01 10:11:41</td>\n",
       "      <td>secretaria de hacienda y credito publico</td>\n",
       "      <td>terminada</td>\n",
       "      <td>electronica</td>\n",
       "      <td>informacion publica</td>\n",
       "      <td>se me proporcione en magnetico y por este medi...</td>\n",
       "      <td>None</td>\n",
       "      <td>None</td>\n",
       "      <td>entrega por internet en el infomex</td>\n",
       "      <td>...</td>\n",
       "      <td>hacienda y credito publico</td>\n",
       "      <td>pdf</td>\n",
       "      <td>1.0</td>\n",
       "      <td>inidos secretaria de hacienda y credito public...</td>\n",
       "      <td>la informacion esta disponible publicamente</td>\n",
       "      <td>satisfactoria</td>\n",
       "      <td>satisfactoria</td>\n",
       "      <td>269</td>\n",
       "      <td>proporcionar magnetico relacion ocupar amparar...</td>\n",
       "      <td>0</td>\n",
       "    </tr>\n",
       "    <tr>\n",
       "      <th>4</th>\n",
       "      <td>0001500002812</td>\n",
       "      <td>2012-01-01 10:32:15</td>\n",
       "      <td>secretaria de desarrollo agrario territorial y...</td>\n",
       "      <td>terminada</td>\n",
       "      <td>electronica</td>\n",
       "      <td>informacion publica</td>\n",
       "      <td>se me proporcione en magnetico y por este medi...</td>\n",
       "      <td>None</td>\n",
       "      <td>None</td>\n",
       "      <td>entrega por internet en el infomex</td>\n",
       "      <td>...</td>\n",
       "      <td>reforma agraria</td>\n",
       "      <td>zip</td>\n",
       "      <td>4.0</td>\n",
       "      <td>None</td>\n",
       "      <td>sin respuesta</td>\n",
       "      <td>satisfactoria</td>\n",
       "      <td>no respondida</td>\n",
       "      <td>398</td>\n",
       "      <td>proporcionar magnetico relacion ocupar amparar...</td>\n",
       "      <td>1</td>\n",
       "    </tr>\n",
       "  </tbody>\n",
       "</table>\n",
       "<p>5 rows × 29 columns</p>\n",
       "</div>"
      ],
      "text/plain": [
       "           folio      fechasolicitud  \\\n",
       "0  1857500001912 2012-01-01 05:04:07   \n",
       "1  1857500002012 2012-01-01 05:13:16   \n",
       "2  0001800000712 2012-01-01 09:46:39   \n",
       "3  0000600003712 2012-01-01 10:11:41   \n",
       "4  0001500002812 2012-01-01 10:32:15   \n",
       "\n",
       "                                         dependencia    estatus medioentrada  \\\n",
       "0                     pemex exploracion y produccion  terminada  electronica   \n",
       "1                     pemex exploracion y produccion  terminada  electronica   \n",
       "2                              secretaria de energia  terminada  electronica   \n",
       "3           secretaria de hacienda y credito publico  terminada  electronica   \n",
       "4  secretaria de desarrollo agrario territorial y...  terminada  electronica   \n",
       "\n",
       "         tiposolicitud                               descripcionsolicitud  \\\n",
       "0  informacion publica  copia de los documentos y los con que cuenta a...   \n",
       "1  informacion publica  del informacion y usados en la de flujo de efe...   \n",
       "2  informacion publica  se me proporcione en magnetico y por este medi...   \n",
       "3  informacion publica  se me proporcione en magnetico y por este medi...   \n",
       "4  informacion publica  se me proporcione en magnetico y por este medi...   \n",
       "\n",
       "  otrosdatos archivoadjuntosolicitud                        medioentrega  ...  \\\n",
       "0       None                    None  entrega por internet en el infomex  ...   \n",
       "1       None                    None  entrega por internet en el infomex  ...   \n",
       "2       None                    None  entrega por internet en el infomex  ...   \n",
       "3       None                    None  entrega por internet en el infomex  ...   \n",
       "4       None                    None  entrega por internet en el infomex  ...   \n",
       "\n",
       "                       sector tipo_archivo_respuesta  \\\n",
       "0                     energia                    pdf   \n",
       "1                     energia                    pdf   \n",
       "2                     energia                    zip   \n",
       "3  hacienda y credito publico                    pdf   \n",
       "4             reforma agraria                    zip   \n",
       "\n",
       "  cantidad_archivos_respuesta  \\\n",
       "0                         1.0   \n",
       "1                         1.0   \n",
       "2                         2.0   \n",
       "3                         1.0   \n",
       "4                         4.0   \n",
       "\n",
       "                             texto_respuesta_adjunto  \\\n",
       "0  pemex exploracion y produccion oficio fecha 02...   \n",
       "1  pemex exploracion y produccion oficio fecha 01...   \n",
       "2                                               None   \n",
       "3  inidos secretaria de hacienda y credito public...   \n",
       "4                                               None   \n",
       "\n",
       "                                 respuestareal calidad_respuesta  \\\n",
       "0  entrega de informacion en medio electronico     satisfactoria   \n",
       "1  entrega de informacion en medio electronico     satisfactoria   \n",
       "2    inexistencia de la informacion solicitada     no respondida   \n",
       "3  la informacion esta disponible publicamente     satisfactoria   \n",
       "4                                sin respuesta     satisfactoria   \n",
       "\n",
       "  calidad_respuesta_real solicitud_longitud  \\\n",
       "0          satisfactoria                768   \n",
       "1          satisfactoria                548   \n",
       "2          no respondida                269   \n",
       "3          satisfactoria                269   \n",
       "4          no respondida                398   \n",
       "\n",
       "                          descripcionsolicitud_lemma  \\\n",
       "0  copiar documento comportamiento historico tipi...   \n",
       "1  informacion usar flujo efectivo pozo tipico ag...   \n",
       "2  proporcionar magnetico relacion ocupar amparar...   \n",
       "3  proporcionar magnetico relacion ocupar amparar...   \n",
       "4  proporcionar magnetico relacion ocupar amparar...   \n",
       "\n",
       "  codigo_calidad_respuesta_real  \n",
       "0                             0  \n",
       "1                             0  \n",
       "2                             1  \n",
       "3                             0  \n",
       "4                             1  \n",
       "\n",
       "[5 rows x 29 columns]"
      ]
     },
     "execution_count": 6,
     "metadata": {},
     "output_type": "execute_result"
    }
   ],
   "source": [
    "df.head()"
   ]
  },
  {
   "cell_type": "markdown",
   "metadata": {},
   "source": [
    "Agregamos la dependencia."
   ]
  },
  {
   "cell_type": "code",
   "execution_count": 7,
   "metadata": {},
   "outputs": [],
   "source": [
    "df = fix.FixDependencia(df)"
   ]
  },
  {
   "cell_type": "code",
   "execution_count": 8,
   "metadata": {},
   "outputs": [
    {
     "data": {
      "text/html": [
       "<div>\n",
       "<style scoped>\n",
       "    .dataframe tbody tr th:only-of-type {\n",
       "        vertical-align: middle;\n",
       "    }\n",
       "\n",
       "    .dataframe tbody tr th {\n",
       "        vertical-align: top;\n",
       "    }\n",
       "\n",
       "    .dataframe thead th {\n",
       "        text-align: right;\n",
       "    }\n",
       "</style>\n",
       "<table border=\"1\" class=\"dataframe\">\n",
       "  <thead>\n",
       "    <tr style=\"text-align: right;\">\n",
       "      <th></th>\n",
       "      <th>folio</th>\n",
       "      <th>fechasolicitud</th>\n",
       "      <th>dependencia</th>\n",
       "      <th>estatus</th>\n",
       "      <th>medioentrada</th>\n",
       "      <th>tiposolicitud</th>\n",
       "      <th>descripcionsolicitud</th>\n",
       "      <th>otrosdatos</th>\n",
       "      <th>archivoadjuntosolicitud</th>\n",
       "      <th>medioentrega</th>\n",
       "      <th>...</th>\n",
       "      <th>tipo_archivo_respuesta</th>\n",
       "      <th>cantidad_archivos_respuesta</th>\n",
       "      <th>texto_respuesta_adjunto</th>\n",
       "      <th>respuestareal</th>\n",
       "      <th>calidad_respuesta</th>\n",
       "      <th>calidad_respuesta_real</th>\n",
       "      <th>solicitud_longitud</th>\n",
       "      <th>descripcionsolicitud_lemma</th>\n",
       "      <th>codigo_calidad_respuesta_real</th>\n",
       "      <th>dependencia_clean</th>\n",
       "    </tr>\n",
       "  </thead>\n",
       "  <tbody>\n",
       "    <tr>\n",
       "      <th>0</th>\n",
       "      <td>1857500001912</td>\n",
       "      <td>2012-01-01 05:04:07</td>\n",
       "      <td>pemex exploracion y produccion</td>\n",
       "      <td>terminada</td>\n",
       "      <td>electronica</td>\n",
       "      <td>informacion publica</td>\n",
       "      <td>copia de los documentos y los con que cuenta a...</td>\n",
       "      <td>None</td>\n",
       "      <td>None</td>\n",
       "      <td>entrega por internet en el infomex</td>\n",
       "      <td>...</td>\n",
       "      <td>pdf</td>\n",
       "      <td>1.0</td>\n",
       "      <td>pemex exploracion y produccion oficio fecha 02...</td>\n",
       "      <td>entrega de informacion en medio electronico</td>\n",
       "      <td>satisfactoria</td>\n",
       "      <td>satisfactoria</td>\n",
       "      <td>768</td>\n",
       "      <td>copiar documento comportamiento historico tipi...</td>\n",
       "      <td>0</td>\n",
       "      <td>pemex</td>\n",
       "    </tr>\n",
       "    <tr>\n",
       "      <th>1</th>\n",
       "      <td>1857500002012</td>\n",
       "      <td>2012-01-01 05:13:16</td>\n",
       "      <td>pemex exploracion y produccion</td>\n",
       "      <td>terminada</td>\n",
       "      <td>electronica</td>\n",
       "      <td>informacion publica</td>\n",
       "      <td>del informacion y usados en la de flujo de efe...</td>\n",
       "      <td>None</td>\n",
       "      <td>None</td>\n",
       "      <td>entrega por internet en el infomex</td>\n",
       "      <td>...</td>\n",
       "      <td>pdf</td>\n",
       "      <td>1.0</td>\n",
       "      <td>pemex exploracion y produccion oficio fecha 01...</td>\n",
       "      <td>entrega de informacion en medio electronico</td>\n",
       "      <td>satisfactoria</td>\n",
       "      <td>satisfactoria</td>\n",
       "      <td>548</td>\n",
       "      <td>informacion usar flujo efectivo pozo tipico ag...</td>\n",
       "      <td>0</td>\n",
       "      <td>pemex</td>\n",
       "    </tr>\n",
       "    <tr>\n",
       "      <th>2</th>\n",
       "      <td>0001800000712</td>\n",
       "      <td>2012-01-01 09:46:39</td>\n",
       "      <td>secretaria de energia</td>\n",
       "      <td>terminada</td>\n",
       "      <td>electronica</td>\n",
       "      <td>informacion publica</td>\n",
       "      <td>se me proporcione en magnetico y por este medi...</td>\n",
       "      <td>None</td>\n",
       "      <td>None</td>\n",
       "      <td>entrega por internet en el infomex</td>\n",
       "      <td>...</td>\n",
       "      <td>zip</td>\n",
       "      <td>2.0</td>\n",
       "      <td>None</td>\n",
       "      <td>inexistencia de la informacion solicitada</td>\n",
       "      <td>no respondida</td>\n",
       "      <td>no respondida</td>\n",
       "      <td>269</td>\n",
       "      <td>proporcionar magnetico relacion ocupar amparar...</td>\n",
       "      <td>1</td>\n",
       "      <td>secretaria de energia</td>\n",
       "    </tr>\n",
       "    <tr>\n",
       "      <th>3</th>\n",
       "      <td>0000600003712</td>\n",
       "      <td>2012-01-01 10:11:41</td>\n",
       "      <td>secretaria de hacienda y credito publico</td>\n",
       "      <td>terminada</td>\n",
       "      <td>electronica</td>\n",
       "      <td>informacion publica</td>\n",
       "      <td>se me proporcione en magnetico y por este medi...</td>\n",
       "      <td>None</td>\n",
       "      <td>None</td>\n",
       "      <td>entrega por internet en el infomex</td>\n",
       "      <td>...</td>\n",
       "      <td>pdf</td>\n",
       "      <td>1.0</td>\n",
       "      <td>inidos secretaria de hacienda y credito public...</td>\n",
       "      <td>la informacion esta disponible publicamente</td>\n",
       "      <td>satisfactoria</td>\n",
       "      <td>satisfactoria</td>\n",
       "      <td>269</td>\n",
       "      <td>proporcionar magnetico relacion ocupar amparar...</td>\n",
       "      <td>0</td>\n",
       "      <td>secretaria de hacienda y credito publico</td>\n",
       "    </tr>\n",
       "    <tr>\n",
       "      <th>4</th>\n",
       "      <td>0001500002812</td>\n",
       "      <td>2012-01-01 10:32:15</td>\n",
       "      <td>secretaria de desarrollo agrario territorial y...</td>\n",
       "      <td>terminada</td>\n",
       "      <td>electronica</td>\n",
       "      <td>informacion publica</td>\n",
       "      <td>se me proporcione en magnetico y por este medi...</td>\n",
       "      <td>None</td>\n",
       "      <td>None</td>\n",
       "      <td>entrega por internet en el infomex</td>\n",
       "      <td>...</td>\n",
       "      <td>zip</td>\n",
       "      <td>4.0</td>\n",
       "      <td>None</td>\n",
       "      <td>sin respuesta</td>\n",
       "      <td>satisfactoria</td>\n",
       "      <td>no respondida</td>\n",
       "      <td>398</td>\n",
       "      <td>proporcionar magnetico relacion ocupar amparar...</td>\n",
       "      <td>1</td>\n",
       "      <td>secretaria de desarrollo agrario territorial y...</td>\n",
       "    </tr>\n",
       "  </tbody>\n",
       "</table>\n",
       "<p>5 rows × 30 columns</p>\n",
       "</div>"
      ],
      "text/plain": [
       "           folio      fechasolicitud  \\\n",
       "0  1857500001912 2012-01-01 05:04:07   \n",
       "1  1857500002012 2012-01-01 05:13:16   \n",
       "2  0001800000712 2012-01-01 09:46:39   \n",
       "3  0000600003712 2012-01-01 10:11:41   \n",
       "4  0001500002812 2012-01-01 10:32:15   \n",
       "\n",
       "                                         dependencia    estatus medioentrada  \\\n",
       "0                     pemex exploracion y produccion  terminada  electronica   \n",
       "1                     pemex exploracion y produccion  terminada  electronica   \n",
       "2                              secretaria de energia  terminada  electronica   \n",
       "3           secretaria de hacienda y credito publico  terminada  electronica   \n",
       "4  secretaria de desarrollo agrario territorial y...  terminada  electronica   \n",
       "\n",
       "         tiposolicitud                               descripcionsolicitud  \\\n",
       "0  informacion publica  copia de los documentos y los con que cuenta a...   \n",
       "1  informacion publica  del informacion y usados en la de flujo de efe...   \n",
       "2  informacion publica  se me proporcione en magnetico y por este medi...   \n",
       "3  informacion publica  se me proporcione en magnetico y por este medi...   \n",
       "4  informacion publica  se me proporcione en magnetico y por este medi...   \n",
       "\n",
       "  otrosdatos archivoadjuntosolicitud                        medioentrega  ...  \\\n",
       "0       None                    None  entrega por internet en el infomex  ...   \n",
       "1       None                    None  entrega por internet en el infomex  ...   \n",
       "2       None                    None  entrega por internet en el infomex  ...   \n",
       "3       None                    None  entrega por internet en el infomex  ...   \n",
       "4       None                    None  entrega por internet en el infomex  ...   \n",
       "\n",
       "  tipo_archivo_respuesta cantidad_archivos_respuesta  \\\n",
       "0                    pdf                         1.0   \n",
       "1                    pdf                         1.0   \n",
       "2                    zip                         2.0   \n",
       "3                    pdf                         1.0   \n",
       "4                    zip                         4.0   \n",
       "\n",
       "                             texto_respuesta_adjunto  \\\n",
       "0  pemex exploracion y produccion oficio fecha 02...   \n",
       "1  pemex exploracion y produccion oficio fecha 01...   \n",
       "2                                               None   \n",
       "3  inidos secretaria de hacienda y credito public...   \n",
       "4                                               None   \n",
       "\n",
       "                                 respuestareal calidad_respuesta  \\\n",
       "0  entrega de informacion en medio electronico     satisfactoria   \n",
       "1  entrega de informacion en medio electronico     satisfactoria   \n",
       "2    inexistencia de la informacion solicitada     no respondida   \n",
       "3  la informacion esta disponible publicamente     satisfactoria   \n",
       "4                                sin respuesta     satisfactoria   \n",
       "\n",
       "  calidad_respuesta_real solicitud_longitud  \\\n",
       "0          satisfactoria                768   \n",
       "1          satisfactoria                548   \n",
       "2          no respondida                269   \n",
       "3          satisfactoria                269   \n",
       "4          no respondida                398   \n",
       "\n",
       "                          descripcionsolicitud_lemma  \\\n",
       "0  copiar documento comportamiento historico tipi...   \n",
       "1  informacion usar flujo efectivo pozo tipico ag...   \n",
       "2  proporcionar magnetico relacion ocupar amparar...   \n",
       "3  proporcionar magnetico relacion ocupar amparar...   \n",
       "4  proporcionar magnetico relacion ocupar amparar...   \n",
       "\n",
       "  codigo_calidad_respuesta_real  \\\n",
       "0                             0   \n",
       "1                             0   \n",
       "2                             1   \n",
       "3                             0   \n",
       "4                             1   \n",
       "\n",
       "                                   dependencia_clean  \n",
       "0                                              pemex  \n",
       "1                                              pemex  \n",
       "2                              secretaria de energia  \n",
       "3           secretaria de hacienda y credito publico  \n",
       "4  secretaria de desarrollo agrario territorial y...  \n",
       "\n",
       "[5 rows x 30 columns]"
      ]
     },
     "execution_count": 8,
     "metadata": {},
     "output_type": "execute_result"
    }
   ],
   "source": [
    "df.head()"
   ]
  },
  {
   "cell_type": "markdown",
   "metadata": {},
   "source": [
    "## Implementación LDA"
   ]
  },
  {
   "cell_type": "markdown",
   "metadata": {},
   "source": [
    "Quitamos palabras identificadas en el primer analisis LDA validadas con SocialTIC."
   ]
  },
  {
   "cell_type": "code",
   "execution_count": 9,
   "metadata": {},
   "outputs": [],
   "source": [
    "banned = ['federativo', 'materia', 'activar', 'cargar', 'transparencia', 'poblacion', 'favor', \n",
    "          'directo', 'fecho', 'registrar', 'emplear', 'campar', 'atencion',\n",
    "          'pagar', 'reportar', 'publicos', 'encontrar', 'entidad',\n",
    "          'acceso', 'derecho', 'concepto', 'recurso', 'beneficiario', 'esperar', 'expedientar', 'basar',\n",
    "          'documento', 'presentar', 'clavar', 'personal', 'solucion', 'adjuntar', 'adjunto',\n",
    "          'respuesta','solicitud','solicitar', 'solicito', 'solicitamos', 'solicite', 'informacion', 'mexico', \n",
    "          'titular', 'copiar', 'copie', 'copiamos', 'dependencia', 'contratar', \n",
    "          'contrato', 'servicio', 'proyectar', 'proyectamos', 'proyecte', 'proyeccion', \n",
    "          'nacional', 'administrativo', 'correo', 'programar', 'programa',\n",
    "          'programacion', 'personar', 'edad', 'unidad', 'circuito']"
   ]
  },
  {
   "cell_type": "code",
   "execution_count": 10,
   "metadata": {},
   "outputs": [],
   "source": [
    "f = lambda x: ' '.join([item for item in x.split() if item not in banned])\n",
    "df['descripcionsolicitud_lemma'] = df['descripcionsolicitud_lemma'].apply(f)"
   ]
  },
  {
   "cell_type": "code",
   "execution_count": 11,
   "metadata": {},
   "outputs": [],
   "source": [
    "df['solicitud_lemma_longitud'] = df['descripcionsolicitud_lemma'].str.len()"
   ]
  },
  {
   "cell_type": "code",
   "execution_count": 12,
   "metadata": {
    "scrolled": true
   },
   "outputs": [
    {
     "data": {
      "text/html": [
       "<div>\n",
       "<style scoped>\n",
       "    .dataframe tbody tr th:only-of-type {\n",
       "        vertical-align: middle;\n",
       "    }\n",
       "\n",
       "    .dataframe tbody tr th {\n",
       "        vertical-align: top;\n",
       "    }\n",
       "\n",
       "    .dataframe thead th {\n",
       "        text-align: right;\n",
       "    }\n",
       "</style>\n",
       "<table border=\"1\" class=\"dataframe\">\n",
       "  <thead>\n",
       "    <tr style=\"text-align: right;\">\n",
       "      <th></th>\n",
       "      <th>folio</th>\n",
       "      <th>fechasolicitud</th>\n",
       "      <th>dependencia</th>\n",
       "      <th>estatus</th>\n",
       "      <th>medioentrada</th>\n",
       "      <th>tiposolicitud</th>\n",
       "      <th>descripcionsolicitud</th>\n",
       "      <th>otrosdatos</th>\n",
       "      <th>archivoadjuntosolicitud</th>\n",
       "      <th>medioentrega</th>\n",
       "      <th>...</th>\n",
       "      <th>cantidad_archivos_respuesta</th>\n",
       "      <th>texto_respuesta_adjunto</th>\n",
       "      <th>respuestareal</th>\n",
       "      <th>calidad_respuesta</th>\n",
       "      <th>calidad_respuesta_real</th>\n",
       "      <th>solicitud_longitud</th>\n",
       "      <th>descripcionsolicitud_lemma</th>\n",
       "      <th>codigo_calidad_respuesta_real</th>\n",
       "      <th>dependencia_clean</th>\n",
       "      <th>solicitud_lemma_longitud</th>\n",
       "    </tr>\n",
       "  </thead>\n",
       "  <tbody>\n",
       "    <tr>\n",
       "      <th>0</th>\n",
       "      <td>1857500001912</td>\n",
       "      <td>2012-01-01 05:04:07</td>\n",
       "      <td>pemex exploracion y produccion</td>\n",
       "      <td>terminada</td>\n",
       "      <td>electronica</td>\n",
       "      <td>informacion publica</td>\n",
       "      <td>copia de los documentos y los con que cuenta a...</td>\n",
       "      <td>None</td>\n",
       "      <td>None</td>\n",
       "      <td>entrega por internet en el infomex</td>\n",
       "      <td>...</td>\n",
       "      <td>1.0</td>\n",
       "      <td>pemex exploracion y produccion oficio fecha 02...</td>\n",
       "      <td>entrega de informacion en medio electronico</td>\n",
       "      <td>satisfactoria</td>\n",
       "      <td>satisfactoria</td>\n",
       "      <td>768</td>\n",
       "      <td>comportamiento historico tipicos comprender es...</td>\n",
       "      <td>0</td>\n",
       "      <td>pemex</td>\n",
       "      <td>424</td>\n",
       "    </tr>\n",
       "    <tr>\n",
       "      <th>1</th>\n",
       "      <td>1857500002012</td>\n",
       "      <td>2012-01-01 05:13:16</td>\n",
       "      <td>pemex exploracion y produccion</td>\n",
       "      <td>terminada</td>\n",
       "      <td>electronica</td>\n",
       "      <td>informacion publica</td>\n",
       "      <td>del informacion y usados en la de flujo de efe...</td>\n",
       "      <td>None</td>\n",
       "      <td>None</td>\n",
       "      <td>entrega por internet en el infomex</td>\n",
       "      <td>...</td>\n",
       "      <td>1.0</td>\n",
       "      <td>pemex exploracion y produccion oficio fecha 01...</td>\n",
       "      <td>entrega de informacion en medio electronico</td>\n",
       "      <td>satisfactoria</td>\n",
       "      <td>satisfactoria</td>\n",
       "      <td>548</td>\n",
       "      <td>usar flujo efectivo pozo tipico aguar fria ela...</td>\n",
       "      <td>0</td>\n",
       "      <td>pemex</td>\n",
       "      <td>289</td>\n",
       "    </tr>\n",
       "    <tr>\n",
       "      <th>2</th>\n",
       "      <td>0001800000712</td>\n",
       "      <td>2012-01-01 09:46:39</td>\n",
       "      <td>secretaria de energia</td>\n",
       "      <td>terminada</td>\n",
       "      <td>electronica</td>\n",
       "      <td>informacion publica</td>\n",
       "      <td>se me proporcione en magnetico y por este medi...</td>\n",
       "      <td>None</td>\n",
       "      <td>None</td>\n",
       "      <td>entrega por internet en el infomex</td>\n",
       "      <td>...</td>\n",
       "      <td>2.0</td>\n",
       "      <td>None</td>\n",
       "      <td>inexistencia de la informacion solicitada</td>\n",
       "      <td>no respondida</td>\n",
       "      <td>no respondida</td>\n",
       "      <td>269</td>\n",
       "      <td>proporcionar magnetico relacion ocupar amparar...</td>\n",
       "      <td>1</td>\n",
       "      <td>secretaria de energia</td>\n",
       "      <td>143</td>\n",
       "    </tr>\n",
       "    <tr>\n",
       "      <th>3</th>\n",
       "      <td>0000600003712</td>\n",
       "      <td>2012-01-01 10:11:41</td>\n",
       "      <td>secretaria de hacienda y credito publico</td>\n",
       "      <td>terminada</td>\n",
       "      <td>electronica</td>\n",
       "      <td>informacion publica</td>\n",
       "      <td>se me proporcione en magnetico y por este medi...</td>\n",
       "      <td>None</td>\n",
       "      <td>None</td>\n",
       "      <td>entrega por internet en el infomex</td>\n",
       "      <td>...</td>\n",
       "      <td>1.0</td>\n",
       "      <td>inidos secretaria de hacienda y credito public...</td>\n",
       "      <td>la informacion esta disponible publicamente</td>\n",
       "      <td>satisfactoria</td>\n",
       "      <td>satisfactoria</td>\n",
       "      <td>269</td>\n",
       "      <td>proporcionar magnetico relacion ocupar amparar...</td>\n",
       "      <td>0</td>\n",
       "      <td>secretaria de hacienda y credito publico</td>\n",
       "      <td>143</td>\n",
       "    </tr>\n",
       "    <tr>\n",
       "      <th>4</th>\n",
       "      <td>0001500002812</td>\n",
       "      <td>2012-01-01 10:32:15</td>\n",
       "      <td>secretaria de desarrollo agrario territorial y...</td>\n",
       "      <td>terminada</td>\n",
       "      <td>electronica</td>\n",
       "      <td>informacion publica</td>\n",
       "      <td>se me proporcione en magnetico y por este medi...</td>\n",
       "      <td>None</td>\n",
       "      <td>None</td>\n",
       "      <td>entrega por internet en el infomex</td>\n",
       "      <td>...</td>\n",
       "      <td>4.0</td>\n",
       "      <td>None</td>\n",
       "      <td>sin respuesta</td>\n",
       "      <td>satisfactoria</td>\n",
       "      <td>no respondida</td>\n",
       "      <td>398</td>\n",
       "      <td>proporcionar magnetico relacion ocupar amparar...</td>\n",
       "      <td>1</td>\n",
       "      <td>secretaria de desarrollo agrario territorial y...</td>\n",
       "      <td>188</td>\n",
       "    </tr>\n",
       "  </tbody>\n",
       "</table>\n",
       "<p>5 rows × 31 columns</p>\n",
       "</div>"
      ],
      "text/plain": [
       "           folio      fechasolicitud  \\\n",
       "0  1857500001912 2012-01-01 05:04:07   \n",
       "1  1857500002012 2012-01-01 05:13:16   \n",
       "2  0001800000712 2012-01-01 09:46:39   \n",
       "3  0000600003712 2012-01-01 10:11:41   \n",
       "4  0001500002812 2012-01-01 10:32:15   \n",
       "\n",
       "                                         dependencia    estatus medioentrada  \\\n",
       "0                     pemex exploracion y produccion  terminada  electronica   \n",
       "1                     pemex exploracion y produccion  terminada  electronica   \n",
       "2                              secretaria de energia  terminada  electronica   \n",
       "3           secretaria de hacienda y credito publico  terminada  electronica   \n",
       "4  secretaria de desarrollo agrario territorial y...  terminada  electronica   \n",
       "\n",
       "         tiposolicitud                               descripcionsolicitud  \\\n",
       "0  informacion publica  copia de los documentos y los con que cuenta a...   \n",
       "1  informacion publica  del informacion y usados en la de flujo de efe...   \n",
       "2  informacion publica  se me proporcione en magnetico y por este medi...   \n",
       "3  informacion publica  se me proporcione en magnetico y por este medi...   \n",
       "4  informacion publica  se me proporcione en magnetico y por este medi...   \n",
       "\n",
       "  otrosdatos archivoadjuntosolicitud                        medioentrega  ...  \\\n",
       "0       None                    None  entrega por internet en el infomex  ...   \n",
       "1       None                    None  entrega por internet en el infomex  ...   \n",
       "2       None                    None  entrega por internet en el infomex  ...   \n",
       "3       None                    None  entrega por internet en el infomex  ...   \n",
       "4       None                    None  entrega por internet en el infomex  ...   \n",
       "\n",
       "  cantidad_archivos_respuesta  \\\n",
       "0                         1.0   \n",
       "1                         1.0   \n",
       "2                         2.0   \n",
       "3                         1.0   \n",
       "4                         4.0   \n",
       "\n",
       "                             texto_respuesta_adjunto  \\\n",
       "0  pemex exploracion y produccion oficio fecha 02...   \n",
       "1  pemex exploracion y produccion oficio fecha 01...   \n",
       "2                                               None   \n",
       "3  inidos secretaria de hacienda y credito public...   \n",
       "4                                               None   \n",
       "\n",
       "                                 respuestareal calidad_respuesta  \\\n",
       "0  entrega de informacion en medio electronico     satisfactoria   \n",
       "1  entrega de informacion en medio electronico     satisfactoria   \n",
       "2    inexistencia de la informacion solicitada     no respondida   \n",
       "3  la informacion esta disponible publicamente     satisfactoria   \n",
       "4                                sin respuesta     satisfactoria   \n",
       "\n",
       "  calidad_respuesta_real solicitud_longitud  \\\n",
       "0          satisfactoria                768   \n",
       "1          satisfactoria                548   \n",
       "2          no respondida                269   \n",
       "3          satisfactoria                269   \n",
       "4          no respondida                398   \n",
       "\n",
       "                          descripcionsolicitud_lemma  \\\n",
       "0  comportamiento historico tipicos comprender es...   \n",
       "1  usar flujo efectivo pozo tipico aguar fria ela...   \n",
       "2  proporcionar magnetico relacion ocupar amparar...   \n",
       "3  proporcionar magnetico relacion ocupar amparar...   \n",
       "4  proporcionar magnetico relacion ocupar amparar...   \n",
       "\n",
       "  codigo_calidad_respuesta_real  \\\n",
       "0                             0   \n",
       "1                             0   \n",
       "2                             1   \n",
       "3                             0   \n",
       "4                             1   \n",
       "\n",
       "                                   dependencia_clean solicitud_lemma_longitud  \n",
       "0                                              pemex                      424  \n",
       "1                                              pemex                      289  \n",
       "2                              secretaria de energia                      143  \n",
       "3           secretaria de hacienda y credito publico                      143  \n",
       "4  secretaria de desarrollo agrario territorial y...                      188  \n",
       "\n",
       "[5 rows x 31 columns]"
      ]
     },
     "execution_count": 12,
     "metadata": {},
     "output_type": "execute_result"
    }
   ],
   "source": [
    "df.head()"
   ]
  },
  {
   "cell_type": "code",
   "execution_count": 13,
   "metadata": {},
   "outputs": [],
   "source": [
    "df_new = df[df['descripcionsolicitud_lemma'].map(len) > 15]"
   ]
  },
  {
   "cell_type": "code",
   "execution_count": 14,
   "metadata": {},
   "outputs": [
    {
     "data": {
      "text/plain": [
       "count    1.142011e+06\n",
       "mean     2.324750e+02\n",
       "std      2.612111e+02\n",
       "min      1.600000e+01\n",
       "25%      8.100000e+01\n",
       "50%      1.450000e+02\n",
       "75%      2.800000e+02\n",
       "max      3.681000e+03\n",
       "Name: solicitud_lemma_longitud, dtype: float64"
      ]
     },
     "execution_count": 14,
     "metadata": {},
     "output_type": "execute_result"
    }
   ],
   "source": [
    "df_new['solicitud_lemma_longitud'].describe()"
   ]
  },
  {
   "cell_type": "code",
   "execution_count": 15,
   "metadata": {},
   "outputs": [
    {
     "data": {
      "text/plain": [
       "array(['pemex', 'secretaria de energia',\n",
       "       'secretaria de hacienda y credito publico',\n",
       "       'secretaria de desarrollo agrario territorial y urbano antes secretaria de la reforma agraria',\n",
       "       'secretaria de educacion publica',\n",
       "       'secretaria de medio ambiente y recursos naturales',\n",
       "       'consejo nacional de poblacion',\n",
       "       'secretaria de gobernacion (incluye la entonces secretaria de seguridad publica)',\n",
       "       'secretaria de agricultura ganaderia desarrollo rural pesca y alimentacion',\n",
       "       'secretaria de salud',\n",
       "       'instituto mexicano del seguro social (imss)',\n",
       "       'organismo descentralizado', 'petroleos mexicanos',\n",
       "       'administracion portuaria integral de altamira s.a. de c.v.',\n",
       "       'administracion portuaria integral de dos bocas s.a. de c.v.',\n",
       "       'hospitales', 'sedena', 'instituto nacional de cancerologia',\n",
       "       'instituto nacional de cardiologia ignacio chavez',\n",
       "       'instituto nacional de ciencias medicas y nutricion salvador zubiran',\n",
       "       'ssa',\n",
       "       'instituto nacional de neurologia y neurocirugia manuel velasco suarez',\n",
       "       'instituto nacional de pediatria',\n",
       "       'instituto nacional de perinatologia',\n",
       "       'instituto nacional de psiquiatria ramon de la fuente muniz',\n",
       "       'instituto nacional de rehabilitacion',\n",
       "       'secretaria de la defensa nacional',\n",
       "       'consejo nacional de evaluacion de la politica de desarrollo social',\n",
       "       'comision federal de electricidad',\n",
       "       'colegio nacional de educacion profesional tecnica',\n",
       "       'presidencia de la republica',\n",
       "       'policia federal antes policia federal preventiva',\n",
       "       'instituto nacional de migracion',\n",
       "       'instituto politecnico nacional', 'secretaria de economia',\n",
       "       'servicio de administracion tributaria',\n",
       "       'procuraduria general de la republica',\n",
       "       'secretaria de la funcion publica',\n",
       "       'secretaria de seguridad publica (ahora incorporada a la secretaria de gobernacion)',\n",
       "       'instituto federal de acceso a la informacion y proteccion de datos organismo autonomo',\n",
       "       'secretaria de comunicaciones y transportes', 'sct',\n",
       "       'comision nacional del sistema de ahorro para el retiro', 'sectur',\n",
       "       'secretaría de cultura', 'sep',\n",
       "       'instituto nacional para la educacion de los adultos',\n",
       "       'secretaria de relaciones exteriores', 'secretaria de marina',\n",
       "       'instituto para la proteccion al ahorro bancario',\n",
       "       'consejo nacional de ciencia y tecnologia',\n",
       "       'secretaria del trabajo y prevision social',\n",
       "       'comision reguladora de energia',\n",
       "       'comision federal para la proteccion contra riesgos sanitarios',\n",
       "       'capufe', 'comision nacional del agua',\n",
       "       'administracion federal de servicios educativos en el distrito federal (afsedf)',\n",
       "       'organismo autonomo',\n",
       "       'loteria nacional para la asistencia publica',\n",
       "       'aeropuertos y servicios auxiliares (asa)',\n",
       "       'comision nacional para la proteccion y defensa de los usuarios de servicios financieros',\n",
       "       'servicio de administracion y enajenacion de bienes',\n",
       "       'comision nacional bancaria y de valores',\n",
       "       'banco nacional de obras y servicios publicos s.n.c.',\n",
       "       'procuraduria federal del consumidor',\n",
       "       'secretaria de desarrollo social',\n",
       "       'comision nacional de arbitraje medico', 'secretaria de turismo',\n",
       "       'fondo de garantia y fomento para la agricultura ganaderia y avicultura',\n",
       "       'iii servicios s. a. de c. v.', 'banca de desarrollo',\n",
       "       'secretariado ejecutivo del sistema nacional de seguridad publica',\n",
       "       'comision para la regularizacion de la tenencia de la tierra',\n",
       "       'comision nacional de areas naturales protegidas',\n",
       "       'administracion portuaria integral de veracruz s.a. de c.v.',\n",
       "       'procuraduria agraria',\n",
       "       'procuraduria federal de proteccion al ambiente',\n",
       "       'instituto nacional de ecologia y cambio climatico antes instituto nacional de ecologia',\n",
       "       'instituto nacional de antropologia e historia',\n",
       "       'registro agrario nacional',\n",
       "       'comision nacional para el desarrollo de los pueblos indigenas',\n",
       "       'instituto del fondo nacional de la vivienda para los trabajadores',\n",
       "       'instituto federal de telecomunicaciones (ift)',\n",
       "       'administracion portuaria integral de progreso s.a. de c.v.',\n",
       "       'aeropuerto internacional de la ciudad de mexico s.a. de c.v.',\n",
       "       'junta federal de conciliacion y arbitraje',\n",
       "       'instituto mexicano de cinematografia',\n",
       "       'coordinacion nacional del programa de desarrollo humano oportunidades',\n",
       "       'comision nacional de los salarios minimos',\n",
       "       'centros de integracion juvenil a.c.',\n",
       "       'servicio nacional de sanidad inocuidad y calidad agroalimentaria',\n",
       "       'servicio de informacion agroalimentaria y pesquera', 'sedesol',\n",
       "       'banco nacional de comercio exterior s.n.c.',\n",
       "       'instituto mexicano de la propiedad industrial',\n",
       "       'laboratorios de biologicos y reactivos de mexico s. a. de c.v.',\n",
       "       'corporacion mexicana de investigacion en materiales s. a. de c.v.',\n",
       "       'compania operadora del centro cultural y turistico de tijuana s.a. de c.v.',\n",
       "       'comision nacional forestal', 'promexico',\n",
       "       'instituto nacional de salud publica',\n",
       "       'agencia de servicios a la comercializacion y desarrollo de mercados agropecuarios antes apoyos y servicios a la comercializacion agropecuaria',\n",
       "       'comite nacional mixto de proteccion al salario', 'sfp',\n",
       "       'administracion portuaria integral de topolobampo s.a. de c.v.',\n",
       "       'servicios aeroportuarios de la ciudad de mexico s.a. de c.v.',\n",
       "       'comision nacional de vivienda',\n",
       "       'comision federal de mejora regulatoria',\n",
       "       'financiera nacional de desarrollo agropecuario rural forestal y pesquero',\n",
       "       'servicios a la navegacion en el espacio aereo mexicano',\n",
       "       'banco nacional del ejercito fuerza aerea y armada s.n.c.',\n",
       "       'comision nacional de seguros y fianzas',\n",
       "       'consejo de promocion turistica de mexico s.a. de c.v.',\n",
       "       'centro de investigacion y seguridad nacional',\n",
       "       'instituto nacional de la economia social (inaes) antes fonaes',\n",
       "       'instituto nacional de estudios historicos de las revoluciones de mexico',\n",
       "       'consejeria juridica del ejecutivo federal',\n",
       "       'el colegio de mexico a.c.', 'se',\n",
       "       'pronosticos para la asistencia publica',\n",
       "       'instituto nacional de la infraestructura fisica educativa',\n",
       "       'pmi comercio internacional s.a. de c.v.',\n",
       "       'administracion portuaria integral de lazaro cardenas s.a. de c.v.',\n",
       "       'administracion portuaria integral de mazatlan s.a. de c.v.',\n",
       "       'sagarpa', 'centro nacional de metrologia',\n",
       "       'instituto de ecologia a. c.',\n",
       "       'compania mexicana de exploraciones s.a. de c.v.',\n",
       "       'centro nacional de prevencion de desastres',\n",
       "       'comision nacional de acuacultura y pesca',\n",
       "       'consejo nacional para prevenir la discriminacion',\n",
       "       'centro de investigaciones biologicas del noroeste s.c.',\n",
       "       'sociedad hipotecaria federal s.n.c.',\n",
       "       'archivo general de la nacion',\n",
       "       'coordinacion general de la comision mexicana de ayuda a refugiados',\n",
       "       'comision nacional de cultura fisica y deporte',\n",
       "       'administracion portuaria integral de manzanillo s.a. de c.v.',\n",
       "       'centro de investigacion en geografia y geomatica ing. jorge l.tamayo a.c.',\n",
       "       'empresas de participacion estatal',\n",
       "       'ferrocarriles nacionales de mexico en liquidacion',\n",
       "       'telecomunicaciones de mexico', 'ipn',\n",
       "       'instituto de investigaciones dr. jose maria luis mora',\n",
       "       'banco del ahorro nacional y servicios financieros s.n.c.',\n",
       "       'patronato de obras e instalaciones del instituto politecnico nacional',\n",
       "       'comision nacional para el uso eficiente de la energia', 'stps',\n",
       "       'instituto mexicano del petroleo',\n",
       "       'instituto nacional de investigaciones forestales agricolas y pecuarias',\n",
       "       'casa de moneda de mexico', 'talleres graficos de mexico',\n",
       "       'comision nacional de zonas aridas',\n",
       "       'centro de ensenanza tecnica industrial',\n",
       "       'impresora y encuadernadora progreso s. a. de c.v.', 'sader',\n",
       "       'centro de capacitacion cinematografica a.c.',\n",
       "       'estudios churubusco azteca s.a.',\n",
       "       'television metropolitana s.a. de c.v.',\n",
       "       'comision nacional de hidrocarburos',\n",
       "       'notimex agencia de noticias del estado mexicano',\n",
       "       'grupo aeroportuario de la ciudad de mexico s.a. de c.v.',\n",
       "       'procuraduria federal de la defensa del trabajo',\n",
       "       'fideicomiso de formacion y capacitacion para el personal de la marina mercante nacional',\n",
       "       'agroasemex s.a.', 'centro de ingenieria y desarrollo industrial',\n",
       "       'centro de investigacion en alimentacion y desarrollo a.c.',\n",
       "       'centro de investigacion en matematicas a.c.',\n",
       "       'centro de investigacion en materiales avanzados s.c.',\n",
       "       'centro de investigacion en quimica aplicada',\n",
       "       'centro de investigacion y desarrollo tecnologico en electroquimica s.c.',\n",
       "       'centro de investigacion y docencia economicas a.c.',\n",
       "       'instituto para el desarrollo tecnico de las haciendas publicas',\n",
       "       'fondo de informacion y documentacion para la industria',\n",
       "       'universidad pedagogica nacional',\n",
       "       'administracion portuaria integral de coatzacoalcos s.a. de c.v.',\n",
       "       'administracion portuaria integral de ensenada s.a. de c.v.',\n",
       "       'administracion portuaria integral de guaymas s.a. de c.v.',\n",
       "       'administracion portuaria integral de puerto madero s.a. de c.v.',\n",
       "       'administracion portuaria integral de puerto vallarta s.a. de c.v.',\n",
       "       'administracion portuaria integral de tampico s.a. de. c.v',\n",
       "       'administracion portuaria integral de tuxpan s.a. de c.v.',\n",
       "       'servicio de proteccion federal',\n",
       "       'centro de investigaciones en optica a.c.',\n",
       "       'centro de investigaciones y estudios superiores en antropologia social',\n",
       "       'conacyt', 'comision nacional de libros de texto gratuitos',\n",
       "       'comision nacional de seguridad nuclear y salvaguardias',\n",
       "       'fondo de capitalizacion e inversion del sector rural',\n",
       "       'instituto nacional de medicina genomica',\n",
       "       'fondo de cultura economica',\n",
       "       'instituto mexicano de tecnologia del agua',\n",
       "       'fondo nacional para el fomento de las artesanias',\n",
       "       'instituto de investigaciones electricas',\n",
       "       'instituto nacional de astrofisica optica y electronica',\n",
       "       'instituto nacional de lenguas indigenas',\n",
       "       'instituto nacional para la evaluacion de la educacion. organo constitucionalmente autonomo a partir del 12 de septiembre de 2013',\n",
       "       'productora nacional de biologicos veterinarios',\n",
       "       'el colegio de michoacan a.c.', 'servicio geologico mexicano',\n",
       "       'servicio nacional de inspeccion y certificacion de semillas',\n",
       "       'administracion portuaria integral de salina cruz s.a. de c.v.',\n",
       "       'centro de investigacion cientifica y educacion superior de ensenada b.c.',\n",
       "       'centro de investigacion cientifica de yucatan a.c.',\n",
       "       'el colegio de san luis a.c.',\n",
       "       'procuraduria de la defensa del contribuyente (prodecon)',\n",
       "       'comision ejecutiva de atencion a victimas',\n",
       "       'instituto potosino de investigacion cientifica y tecnologica a.c.',\n",
       "       'centro de investigacion y asistencia en tecnologia y diseno del estado de jalisco',\n",
       "       'oadprs organo administrativo desconcentrado prevencion y readaptacion social',\n",
       "       'comision reguladora de energia organo regulador coordinado en materia energetica a partir del 12 de agosto de 2014',\n",
       "       'coordinacion nacional de prospera programa de inclusion social',\n",
       "       'comision nacional de proteccion social en salud', 'inai',\n",
       "       'secretaria de desarrollo agrario territorial y urbano',\n",
       "       'consejo nacional para el desarrollo y la inclusion de las personas con discapacidad',\n",
       "       'secretaria de cultura en proceso de reestructuracion y actualizacion de la informacion',\n",
       "       'agencia nacional de seguridad industrial y de proteccion al medio ambiente del sector hidrocarburos',\n",
       "       'instituto nacional de electricidad y energias limpias',\n",
       "       'universidad autonoma agraria antonio narro',\n",
       "       'comision nacional para prevenir y erradicar la violencia contra las mujeres',\n",
       "       'partidos politicos',\n",
       "       'instituto nacional de estadistica y geografia',\n",
       "       'camara de diputados',\n",
       "       'fideicomiso de apoyos medicos complementarios y de apoyo economico extraordinario para los servidores publicos del poder judicial de la federacion con excepcion de los de la suprema corte de justicia de la nacion',\n",
       "       'sindicatos',\n",
       "       'administracion de los recursos producto de la venta de publicaciones de la suprema corte para el financiamiento de nuevas publicaciones y cualquier proyecto de interes para el fideicomitente',\n",
       "       'banco de mexico', 'fondo de compensacion de automoviles nuevos',\n",
       "       'la transferencia del fondo mexicano del petroleo para la estabilizacion y el desarrollo',\n",
       "       'organo administrativo desconcentrado especializado en mecanismos alternativos de solucion de controversias en materia penal',\n",
       "       'universidad nacional autonoma de mexico',\n",
       "       'auditoria superior de la federacion',\n",
       "       'suprema corte de justicia de la nacion',\n",
       "       'tribunal federal de justicia fiscal y administrativa',\n",
       "       'comision nacional de los derechos humanos',\n",
       "       'fideicomiso para apoyar los programas proyectos y acciones ambientales de la megalopolis',\n",
       "       'agencia de investigacion criminal', 'partido accion nacional',\n",
       "       'partido de la revolucion democratica',\n",
       "       'partido verde ecologista de mexico',\n",
       "       'fideicomiso de investigacion en salud', 'ine',\n",
       "       'instituto federal de defensoria publica', 'sae',\n",
       "       'comite nacional para el desarrollo sustentable de la cana de azucar',\n",
       "       'fideicomiso para el fomento y la conservacion del patrimonio cultural antropologico arqueologico e historico de mexico',\n",
       "       'universidad abierta y a distancia de mexico',\n",
       "       'fondos de investigacion cientifica y desarrollo tecnologico 1759-6',\n",
       "       'fondo de supervision auxiliar de sociedades cooperativas de ahorro y prestamo y de proteccion a sus ahorradores. f/10217',\n",
       "       'administracion del patrimonio de la beneficencia publica',\n",
       "       'tribunal federal de conciliacion y arbitraje',\n",
       "       'tecnologico nacional de mexico',\n",
       "       'asociacion autonoma del personal academico de la universidad nacional autonoma de mexico.',\n",
       "       'centro nacional de control de energia',\n",
       "       'poder judicial de la federacion',\n",
       "       'tribunal electoral del poder judicial de la federacion',\n",
       "       'universidad autonoma chapingo',\n",
       "       'centro nacional de excelencia tecnologica en salud',\n",
       "       'fideicomiso inversion y administracion', 'sre', 'shcp',\n",
       "       'instituto de administracion y avaluos de bienes nacionales',\n",
       "       'fideicomiso centro de investigacion en materiales avanzados s.c. (cimav)',\n",
       "       'fondo de inversion de capital en agronegocios agropyme',\n",
       "       'fondo de extraccion de hidrocarburos',\n",
       "       'fondo mexicano del petroleo para la estabilizacion y el desarrollo',\n",
       "       'universidad autonoma metropolitana',\n",
       "       'fondo de aportaciones para la seguridad publica de los estados y del distrito federal (fasp)',\n",
       "       'comision nacional contra las adicciones', 'segob',\n",
       "       'fondo de aportaciones para nomina educativa y gasto operativo (fone)',\n",
       "       'agencia mexicana de cooperacion internacional para el desarrollo',\n",
       "       'tribunales administrativos',\n",
       "       'fideicomiso de reserva para el pago de pensiones o jubilaciones y primas de antiguedad.',\n",
       "       'fideicomiso para administrar la contraprestacion del articulo 16 de la ley aduanera.',\n",
       "       '9/11 de la recaudacion por concepto de las cuotas establecidas en el articulo 2a. fraccion ii de la ley del impuesto especial sobre produccion y servicios',\n",
       "       'instituto matias romero',\n",
       "       'centro nacional de equidad de genero y salud reproductiva',\n",
       "       'secciones mexicanas de las comisiones internacionales de limites y aguas entre mexico y guatemala y entre mexico y belice',\n",
       "       'fideicomiso para promover el desarrollo de proveedores y contratistas nacionales de la industria energetica',\n",
       "       'banco nacional de credito rural s.n.c.',\n",
       "       'contraloria del poder judicial de la federacion',\n",
       "       'mandato de administracion para recompensas de la procuraduria general de la republica',\n",
       "       'secretaria ejecutiva del sistema nacional para la proteccion integral de ninas ninos y adolescentes',\n",
       "       'secretaria tecnica de la comision calificadora de publicaciones y revistas ilustradas',\n",
       "       'coordinacion nacional antisecuestro',\n",
       "       'ferrocarriles nacionales de mexico',\n",
       "       'centro nacional para la prevencion y el control del vih/sida',\n",
       "       'centro de investigacion y de estudios avanzados del instituto politecnico nacional',\n",
       "       'secretaria de educacion publica (sep)', 'scjn',\n",
       "       'secretaria de economia (se)', 'sener', 'pgr',\n",
       "       'servicio de administracion tributaria (sat)',\n",
       "       'secretaria de relaciones exteriores (sre)', 'semarnat',\n",
       "       'senado de la republica', 'cnbv', 'sedatu',\n",
       "       'oficina de la presidencia de la republica',\n",
       "       'servicio de administracion y enajenacion de bienes (sae)', 'unam',\n",
       "       'cfe',\n",
       "       'centro de investigacion en materiales avanzados s.c. (cimav)',\n",
       "       'inah', 'secretaria de cultura', 'promexico (promexico)',\n",
       "       'instituto nacional de rehabilitacion luis guillermo ibarra ibarra',\n",
       "       'lotenal', 'comision federal de competencia economica',\n",
       "       'instituto mexicano del petroleo (imp)',\n",
       "       'confederacion patronal de la republica mexicana',\n",
       "       'centro de investigacion y asistencia en tecnologia y diseno del estado de jalisco a.c.',\n",
       "       'administracion publica federal',\n",
       "       'fondo de garantia y fomento para la agricultura ganaderia y avicultura (fondo)',\n",
       "       'centro de investigacion en ciencias de informacion geoespacial',\n",
       "       'centro de investigacion cientifica y de educacion superior de ensenada baja california',\n",
       "       'centro de investigaciones en optica a.c. (cio)',\n",
       "       'corporacion mexicana de investigacion en materiales s.a. de c.v.',\n",
       "       'instituto de ecologia a.c.', 'almacenadora sur s.a.',\n",
       "       'asociacion sindical de oficiales de maquinas de la marina mercante nacional',\n",
       "       'cio-fideicomiso centro de investigaciones en optica a.c. no. 040026-8',\n",
       "       'cimav-fideicomiso centro de investigacion en materiales avanzados s.c. (cimav)',\n",
       "       'sat',\n",
       "       'cio-fideicomiso para el pago de las obligaciones laborales de los trabajadores del centro de investigaciones en optica a.c.',\n",
       "       'promexico-fideicomiso para la competitividad e innovacion mexico-union europea y/o fideicomiso procei',\n",
       "       'inecol-fondo de investigacion cientifica y desarrollo tecnologico',\n",
       "       'mora-fondos de investigacion cientifica y desarrollo tecnologico 1759-6',\n",
       "       'promexico-mandato para la administracion de los recursos del programa de apoyo a la industria cinematografica y audiovisual fondo',\n",
       "       'orden de capitanes y pilotos navales de la republica mexicana similares y conexos',\n",
       "       'union nacional de trabajadores de la industria alimenticia refresquera turistica hotelera gastronomica similares y conexos',\n",
       "       'fideicomiso de la comision nacional de hidrocarburos',\n",
       "       'secretaria ejecutiva del sistema nacional anticorrupcion',\n",
       "       'secretaria de agricultura y desarrollo rural',\n",
       "       'instituto nacional de los pueblos indigenas',\n",
       "       'secretaria de bienestar', 'policia federal',\n",
       "       'mandato para la estrategia de fortalecimiento para la atencion a mexicanos en estados unidos',\n",
       "       'prevencion y readaptacion social',\n",
       "       'opr-centro de produccion de programas informativos y especiales (*)',\n",
       "       'fideicomiso de transicion 2018',\n",
       "       'fgr-mandato de administracion y pago para programas de procuracion de justicia de la procuraduria general de la republica',\n",
       "       'sspc',\n",
       "       'coordinacion nacional de becas para el bienestar benito juarez (cnbbj)',\n",
       "       'fideicomiso de los sistemas normalizados de competencia laboral y de certificacion de competencia laboral',\n",
       "       'amexcid-fondo de infraestructura para paises de mesoamerica y el caribe',\n",
       "       'fgr-mandato de administracion para recompensas de la procuraduria general de la republica',\n",
       "       'secretaria de seguridad y proteccion ciudadana (seguridad)',\n",
       "       'comision nacional de busqueda de personas',\n",
       "       'fideicomiso publico de administracion y pago asea',\n",
       "       'centro nacional de la transfusion sanguinea',\n",
       "       'fideicomiso fondo de apoyo a los trabajadores de confianza de la comision nacional bancaria y de valores',\n",
       "       'fideicomiso fondo de ahorro del personal de mandos medios y superiores del colegio de san luis a.c. n 030057-3',\n",
       "       'fideicomiso fondo de estabilizacion de los ingresos presupuestarios',\n",
       "       'fideicomiso fondo de inversion y estimulos al cine (fidecine)',\n",
       "       'fondo mixto de cooperacion tecnica y cientifica mexico-espana',\n",
       "       'fideicomiso fondo para la produccion cinematografica de calidad (foprocine)',\n",
       "       'fondo de ayuda asistencia y reparacion integral',\n",
       "       'fideicomiso centro de ingenieria y desarrollo industrial no. 135826-8',\n",
       "       'secretaria tecnica del consejo de coordinacion para la implementacion del sistema de justicia penal',\n",
       "       'fideicomiso del sistema de proteccion social en salud',\n",
       "       'centro federal de proteccion a personas',\n",
       "       'fideicomiso para el desarrollo de la region centro-pais (fidcentro)',\n",
       "       'fideicomiso para la implementacion del sistema de justicia penal en las entidades federativas',\n",
       "       'centro de evaluacion y control de confianza',\n",
       "       'instituto nacional de geriatria',\n",
       "       'conservaduria de palacio nacional',\n",
       "       'fid. 1327.- gobierno federal programa de vivienda para magistrados y jueces del poder judicial federal',\n",
       "       'fideicomiso de administracion de gastos previos',\n",
       "       'fideicomiso de administracion e inversion para el desarrollo y fomento del deporte en el estado de puebla',\n",
       "       'radio educacion',\n",
       "       'fideicomiso para el mantenimiento de casas habitacion de magistrados y jueces',\n",
       "       'fideicomiso de proyectos de investigacion del centro de investigacion cientifica y de educacion superior de ensenada b.c.',\n",
       "       'mario renato menendez rodriguez 7997',\n",
       "       'fideicomiso no. 2103.- cuauhtemoc - osiris',\n",
       "       'mandato extinta comision monetaria',\n",
       "       'fondo de garantia y fomento para las actividades pesqueras',\n",
       "       'fondo de operacion y financiamiento bancario a la vivienda',\n",
       "       'incobusa s.a. de c.v.', 'terrenos para industrias s.a.',\n",
       "       'ferrocarril chihuahua al pacifico s.a. de c.v.',\n",
       "       'coordinacion nacional del servicio profesional docente',\n",
       "       'centro nacional de planeacion analisis e informacion para el combate a la delincuencia',\n",
       "       'fid. 294.- colonia petrolera jose escandon.',\n",
       "       'fondo para el cambio climatico', 'mexico emprende',\n",
       "       'servicios de atencion psiquiatrica',\n",
       "       'seccion mexicana de la comision internacional de limites y aguas entre mexico y estados unidos',\n",
       "       'centro de produccion de programas informativos y especiales',\n",
       "       'comision de apelacion y arbitraje del deporte',\n",
       "       'comision nacional de bioetica',\n",
       "       'corporacion de servicios al turista angeles verdes',\n",
       "       'instituto de formacion ministerial policial y pericial',\n",
       "       'instituto de competitividad turistica',\n",
       "       'fondo especial de asistencia tecnica y garantia para creditos agropecuarios',\n",
       "       'fondo sectorial de investigacion ambiental',\n",
       "       'sm940243 gomez palacio-cuencame-yerbanis (carretera torreon-cuencame-durango) mandato 4861-5',\n",
       "       'fondo nacional para el fortalecimiento y modernizacion de la imparticion de justicia (fondo jurica)',\n",
       "       'fondo sectorial de investigacion y desarrollo sobre el agua',\n",
       "       'fondo de investigacion cientifica y desarrollo tecnologico del instituto mexicano de tecnologia del agua',\n",
       "       'fondo de fomento a la educacion (fofoe)',\n",
       "       'fondo de la amistad mexico-japon',\n",
       "       'fondo sectorial de investigacion secretaria de relaciones exteriores',\n",
       "       'fondo de compensacion', 'fideicomiso e-mexico',\n",
       "       'fideicomiso de contragarantia para el financiamiento empresarial',\n",
       "       'fideicomiso para la competitividad e innovacion mexico-union europea y/o fideicomiso procei',\n",
       "       'fondo institucional de fomento regional para el desarrollo cientifico tecnologico y de innovacion',\n",
       "       'convenio especifico para la operacion y desarrollo del programa sepa-ingles',\n",
       "       'fondo de ahorro', 'san martin texmelucan-tlaxcala-el molinito',\n",
       "       'fondo para la prevision de desastres naturales',\n",
       "       'mandato para remediacion ambiental',\n",
       "       'fideicomiso para el desarrollo de la region sur-sureste (fidesur)',\n",
       "       'fideicomiso de administracion para el otorgamiento y primas de antiguedad',\n",
       "       'fondo mexicano de carbono capitulo uno',\n",
       "       'fideicomiso de administracion e inversion para el manejo del fondo de ahorro de los trabajadores del fondo de cultura economica',\n",
       "       'fideicomiso de inversion y administracion del tramo carretero nizuc-tulum no. 160265-7',\n",
       "       'fideicomiso irrevocable de administracion centro cultural santo domingo oaxaca',\n",
       "       'fondo sectorial de investigacion para la educacion',\n",
       "       'fondo para la participacion de riesgos en fianzas',\n",
       "       'coordinacion para la atencion integral de la migracion en la frontera sur',\n",
       "       'fondo editorial de la plastica mexicana',\n",
       "       'fondo de inversion de capital en agronegocios (fica)',\n",
       "       'bachillerato general en sus modalidades no escolarizada y mixta',\n",
       "       'c. g. cerro prieto iv',\n",
       "       'contrato de mandato para el pago de haberes de retiro pensiones y compensaciones',\n",
       "       'convenio de adhesion al fideicomiso c f/1532 ahm/sociedad hipotecaria federal',\n",
       "       'coordinacion general @prende.mx',\n",
       "       'fideicomiso para la plataforma de infraestructura mantenimiento y equipamiento de seguridad publica y de aeronaves',\n",
       "       'fondo para la transicion energetica y el aprovechamiento sustentable de la energia',\n",
       "       'fid. 122.- benjamin hill trabajadores f.f.c.c. sonora-baja california',\n",
       "       'fid. 2160 fondo de pensiones de contribucion definida',\n",
       "       'fideicomiso archivos plutarco elias calles y fernando torreblanca.',\n",
       "       'fideicomiso centro de investigacion en matematicas no. 040024-1',\n",
       "       'fideicomiso centro de investigaciones biologicas del noroeste s.c.',\n",
       "       'fideicomiso centro de investigaciones en optica a.c. no. 040026-8',\n",
       "       'fideicomiso de administracion e inversion para pensiones de los trabajadores',\n",
       "       'fideicomiso de administracion inversion y pago numero 013 anp valle de bravo',\n",
       "       'fideicomiso de administracion y garantia complementaria fondo 95',\n",
       "       'fideicomiso de administracion y traslativo de dominio (obras de infraestructura para el sistema electrico federal)',\n",
       "       'fideicomiso de apoyo a deudos de militares fallecidos o a militares que hayan adquirido una inutilidad en primera categoria en actos del servicio considerado de alto riesgo',\n",
       "       'fideicomiso de ciencia y tecnologia del colegio de michoacan a. c.',\n",
       "       'fideicomiso de inversion y administracion de primas de antiguedad de los trabajadores',\n",
       "       'fideicomiso de inversion y administracion denominado world cup in shotgun acapulco 2010',\n",
       "       'fideicomiso de investigacion cientifica y de desarrollo tecnologico',\n",
       "       'fideicomiso de investigacion cientifica y desarrollo tecnologico del centro publico de investigacion y desarrollo tecnologico en electroquimica s.c. en materia de electroquimica agua procesos materiales ambiente y ciencias afines',\n",
       "       'fideicomiso de investigacion cientifica y desarrollo tecnologico no. 1750-2',\n",
       "       'fideicomiso de investigacion para el desarrollo del programa de aprovechamiento del atun y proteccion de delfines y otros en torno a especies acuaticas protegidas',\n",
       "       'fideicomiso de pensiones del fondo de garantia y fomento para la agricultura ganaderia y avicultura',\n",
       "       'fideicomiso fondo de asistencia tecnica en programas de financiamiento',\n",
       "       'fideicomiso irrevocable de administracion e inversion del fondo de pensiones o jubilaciones o primas de antiguedad de los trabajadores del banco nacional del ejercito fuerza aerea y armada s.n.c.',\n",
       "       'fideicomiso irrevocable de administracion e inversion nina del milenio',\n",
       "       'fideicomiso irrevocable de administracion museo regional de guadalupe zacatecas',\n",
       "       'fideicomiso irrevocable de administracion no. 10055 (l@red de la gente)',\n",
       "       'fideicomiso irrevocable de administracion para los grandes exconventos de la mixteca alta oaxaca',\n",
       "       'fideicomiso irrevocable de administracion y fuente de pago no. 1928.- para apoyar el proyecto de saneamiento del valle de mexico',\n",
       "       'fideicomiso irrevocable de administracion y fuente de pago numero cib/2064',\n",
       "       'fideicomiso irrevocable de inversion y administracion para el pago de pensiones y jubilaciones f/10045',\n",
       "       'fideicomiso mexicana de tecnicos de autopistas (libramiento oriente slp)',\n",
       "       'fideicomiso n 030051-4',\n",
       "       'fideicomiso para administrar el fondo de pensiones y gastos medicos de banpesca',\n",
       "       'fideicomiso para apoyar la construccion del centro nacional de las artes',\n",
       "       'fideicomiso para apoyo a la investigacion cientifica y desarrollo tecnologico.',\n",
       "       'fideicomiso para cubrir indemnizaciones legales por despido en favor del personal de planta y los beneficiarios que estos designen',\n",
       "       'fideicomiso para el ahorro de energia electrica',\n",
       "       'fideicomiso para el apoyo a la investigacion cientifica y desarrollo tecnologico del instituto de investigaciones electricas',\n",
       "       'fideicomiso para el desarrollo del nuevo aeropuerto internacional de la ciudad del mexico',\n",
       "       'fideicomiso para el otorgamiento y pago de primas de antiguedad de su personal y los beneficiarios que estos designen en su caso',\n",
       "       'fideicomiso para el pago de las obligaciones laborales de los trabajadores del centro de investigaciones en optica a.c.',\n",
       "       'fideicomiso para la adaptacion de los museos diego rivera y frida kahlo',\n",
       "       'fideicomiso para la administracion de recursos para el pago de primas de seguros y la administracion de los fondos que conforman el seguro de separacion individualizado para los servidores de mandos medios y superiores',\n",
       "       'fideicomiso para la asistencia legal de los miembros de la junta de gobierno del comite consultivo y de vigilancia y servidores publicos de la comision nacional del sistema de ahorro para el retiro asi como de los interventores administrativos o gerentes y funcionarios auxiliares de las intervenciones.',\n",
       "       'fideicomiso para la asistencia legal de los miembros de la junta de gobierno y servidores publicos de la comision nacional de seguros y fianza asi como de los interventores administrativos o gerentes y funcionarios auxiliares de las intervenciones',\n",
       "       'museo dolores olmedo patino',\n",
       "       'fideicomiso para la comision mexico-estados unidos f 22927-8',\n",
       "       'fideicomiso para la constitucion de un fondo revolvente de financiamiento para el programa de aislamiento termico de la vivienda en el valle de mexicali b.c. (fipaterm mexicali).',\n",
       "       'fideicomiso para la construccion explotacion y conservacion del tramo carretero atlacomulco-maravatio',\n",
       "       'fideicomiso para la restauracion recuperacion sostenimiento y mantenimiento de la zona federal maritimo terrestre del estado de quintana roo.',\n",
       "       'fideicomiso patronato del centro de diseno mexico',\n",
       "       'fideicomiso privado irrevocable de administracion santo domingo de guzman chiapas',\n",
       "       'fideicomiso programa de mejoramiento de los medios de informatica y control de las autoridades aduaneras',\n",
       "       'fideicomiso programa de venta de titulos en directo al publico',\n",
       "       'fideicomiso programa habitacional de ferronales en la republica mexicana (ferronales)',\n",
       "       'fideicomiso publico de administracion e inversion para el desarrollo de la infraestructura y equipamiento deportivo en el estado de veracruz de ignacio de la llave para los juegos deportivos centroamericanos y del caribe veracruz 2014',\n",
       "       'fideicomiso publico de administracion y pago de equipo militar',\n",
       "       'fideicomiso que administrara el fondo para el fortalecimiento de sociedades y cooperativas de ahorro y prestamo y de apoyo a sus ahorradores.',\n",
       "       'fideicomiso 1738-3-ciencia y tecnologia',\n",
       "       'fondo mexicano para la conservacion de la naturaleza',\n",
       "       'convenio de cooperacion para la operacion del programa de educacion a distancia',\n",
       "       'convenio de cooperacion para la operacion del programa de educacion a distancia ii',\n",
       "       'fideicomiso angeles verdes',\n",
       "       'programa nacional de superacion de personal academico (supera)',\n",
       "       'programa interinstitucional de estudios de la region de america del norte',\n",
       "       'prima de antiguedad',\n",
       "       'para apoyar la construccion y equipamiento del nuevo recinto de la camara de senadores',\n",
       "       'pensiones complementarias para mandos medios y personal operativo de la suprema corte de justicia de la nacion',\n",
       "       'fondo de compensacion al regimen de pequenos contribuyentes y del regimen de los intermedios',\n",
       "       'fondo sectorial para la investigacion el desarrollo y la innovacion tecnologica en turismo',\n",
       "       'fondo sectorial para la investigacion el desarrollo y la innovacion tecnologica forestal',\n",
       "       'fondo para ayudas extraordinarias con motivo del incendio de la guarderia abc',\n",
       "       'pensiones complementarias para servidores publicos de mando superior de la suprema corte de justicia de la nacion',\n",
       "       'remanentes presupuestarios del ano 1998 y anteriores',\n",
       "       'fondo de aportaciones multiples (fam)',\n",
       "       'fondo sectorial de investigacion en materias agricola pecuaria acuacultura agrobiotecnologia y recursos fitogeneticos',\n",
       "       'fondo de apoyo a la administracion de justicia',\n",
       "       'fondo de apoyo al programa intersectorial de educacion saludable',\n",
       "       'fondo de cooperacion internacional en ciencia y tecnologia',\n",
       "       'fondo de desarrollo cientifico y tecnologico para el fomento de la produccion y financiamiento de vivienda y el crecimiento del sector habitacional',\n",
       "       'fondo de desincorporacion de entidades',\n",
       "       'fondo de estabilizacion de los ingresos de las entidades federativas (feief)',\n",
       "       'fondo de infraestructura para paises de mesoamerica y el caribe',\n",
       "       'fondo de inversion de capital en agronegocios activa (fica activa)',\n",
       "       'fondo de inversion de capital en agronegocios (fica sureste 2)',\n",
       "       'fondo de inversion de capital en agronegocios logistics 1474/2012',\n",
       "       'fondo de inversion de capital en agronegocios sureste (fica sureste)',\n",
       "       'fondo de inversion de capital en agronegocios 2 (fica 2)',\n",
       "       'fondo de inversion de capital en agronegocios 3 (fica 3)',\n",
       "       'fondo de inversion para programas y proyectos de infraestructura del gobierno federal',\n",
       "       'fondo de investigacion cientifica y desarrollo tecnologico',\n",
       "       'fondo de investigacion cientifica y desarrollo tecnologico de el colegio de san luis a.c.',\n",
       "       'fondo de investigacion cientifica y desarrollo tecnologico del centro de investigacion cientifica de yucatan a.c.',\n",
       "       'fondo de investigacion y desarrollo para la modernizacion tecnologica',\n",
       "       'fondo de pensiones fideicomiso liquidador de instituciones y organizaciones auxiliares de credito',\n",
       "       'fondo de primas de antiguedad beneficios al retiro y jubilaciones del instituto de investigaciones electricas',\n",
       "       'fondo de proteccion de sociedades financieras populares y de proteccion a sus ahorradores (f/10216)',\n",
       "       'fondo de reconstruccion de entidades federativas',\n",
       "       'fondo de restitucion (fore)', 'fondo mixto de mazatlan.',\n",
       "       'fondo nacional de cooperacion internacional para el desarrollo',\n",
       "       'fondo para el fomento y apoyo a la investigacion cientifica y tecnologica en bioseguridad y biotecnologia.',\n",
       "       'fondo para la asistencia y defensa legal de los miembros de la junta de gobierno de la comision nacional bancaria y de valores que no sean servidores publicos de esta asi como de los interventores y personal auxiliar al cual los propios interventores les otorguen poderes porque sea necesario para el desempeno de sus funciones.',\n",
       "       'fondo para la participacion de riesgos 11480',\n",
       "       'fondo para la proteccion de personas defensoras de derechos humanos y periodistas',\n",
       "       'fondo para solventar las contingencias derivadas de juicios laborales de la comision federal de competencia economica',\n",
       "       'fondo sectorial de investigacion en salud y seguridad social',\n",
       "       'fondo sectorial de investigacion para el desarrollo aeroportuario y la navegacion aerea',\n",
       "       'fondo sectorial de investigacion para el desarrollo social',\n",
       "       'fondo sectorial de investigacion y desarrollo en ciencias navales',\n",
       "       'fondo sectorial para investigacion y desarrollo tecnologico en energia',\n",
       "       'mandato de administracion para la transmision de bienes a favor de grupos campesinos',\n",
       "       'mandato de administracion y pago para programas de procuracion de justicia de la procuraduria general de la republica',\n",
       "       'mandato para el establecimiento del fondo de contingencia de las rme s',\n",
       "       'mandato para la administracion de los recursos del programa de apoyo a la industria cinematografica y audiovisual fondo',\n",
       "       'mandato para la administracion de los recursos del programa de cooperacion energetica para paises de centroamerica y el caribe',\n",
       "       'mandatos fusion y liquidacion (fonep fidein pai)',\n",
       "       'plan de prestaciones medicas complementarias y de apoyo economico extraordinario a los empleados del poder judicial de la federacion',\n",
       "       'fondo de servicio universal electrico'], dtype=object)"
      ]
     },
     "execution_count": 15,
     "metadata": {},
     "output_type": "execute_result"
    }
   ],
   "source": [
    "df_new['dependencia_clean'].unique()"
   ]
  },
  {
   "cell_type": "markdown",
   "metadata": {},
   "source": [
    "# ssa + imss + cofepris"
   ]
  },
  {
   "cell_type": "code",
   "execution_count": 18,
   "metadata": {},
   "outputs": [],
   "source": [
    "filtro = (df_new['dependencia_clean'] == 'ssa') | (df_new['dependencia_clean'] == 'instituto mexicano del seguro social (imss)') | (df_new['dependencia_clean'] == 'cofepris')\n",
    "df_salud = df_new[filtro]"
   ]
  },
  {
   "cell_type": "code",
   "execution_count": 19,
   "metadata": {},
   "outputs": [
    {
     "name": "stdout",
     "output_type": "stream",
     "text": [
      "<class 'pandas.core.frame.DataFrame'>\n",
      "Int64Index: 102284 entries, 14 to 1559007\n",
      "Data columns (total 31 columns):\n",
      " #   Column                         Non-Null Count   Dtype         \n",
      "---  ------                         --------------   -----         \n",
      " 0   folio                          102284 non-null  object        \n",
      " 1   fechasolicitud                 102284 non-null  datetime64[ns]\n",
      " 2   dependencia                    102284 non-null  object        \n",
      " 3   estatus                        102284 non-null  object        \n",
      " 4   medioentrada                   102284 non-null  object        \n",
      " 5   tiposolicitud                  102284 non-null  object        \n",
      " 6   descripcionsolicitud           102284 non-null  object        \n",
      " 7   otrosdatos                     102284 non-null  object        \n",
      " 8   archivoadjuntosolicitud        102284 non-null  object        \n",
      " 9   medioentrega                   102284 non-null  object        \n",
      " 10  fechalimite                    99402 non-null   datetime64[ns]\n",
      " 11  respuesta                      102284 non-null  object        \n",
      " 12  textorespuesta                 102284 non-null  object        \n",
      " 13  archivorespuesta               102284 non-null  object        \n",
      " 14  fecharespuesta                 102284 non-null  datetime64[ns]\n",
      " 15  pais                           102284 non-null  object        \n",
      " 16  estado                         102284 non-null  object        \n",
      " 17  municipio                      102284 non-null  object        \n",
      " 18  codigopostal                   102284 non-null  object        \n",
      " 19  sector                         102284 non-null  object        \n",
      " 20  tipo_archivo_respuesta         102284 non-null  object        \n",
      " 21  cantidad_archivos_respuesta    91335 non-null   float64       \n",
      " 22  texto_respuesta_adjunto        102284 non-null  object        \n",
      " 23  respuestareal                  102284 non-null  object        \n",
      " 24  calidad_respuesta              102284 non-null  object        \n",
      " 25  calidad_respuesta_real         102284 non-null  object        \n",
      " 26  solicitud_longitud             102284 non-null  int64         \n",
      " 27  descripcionsolicitud_lemma     102284 non-null  object        \n",
      " 28  codigo_calidad_respuesta_real  102284 non-null  int64         \n",
      " 29  dependencia_clean              102284 non-null  object        \n",
      " 30  solicitud_lemma_longitud       102284 non-null  int64         \n",
      "dtypes: datetime64[ns](3), float64(1), int64(3), object(24)\n",
      "memory usage: 25.0+ MB\n"
     ]
    }
   ],
   "source": [
    "df_salud.info()"
   ]
  },
  {
   "cell_type": "code",
   "execution_count": 27,
   "metadata": {},
   "outputs": [],
   "source": [
    "data = df_salud[['descripcionsolicitud_lemma']]\n",
    "data['index'] = data.index\n",
    "docs = data"
   ]
  },
  {
   "cell_type": "code",
   "execution_count": 28,
   "metadata": {},
   "outputs": [
    {
     "data": {
      "text/html": [
       "<div>\n",
       "<style scoped>\n",
       "    .dataframe tbody tr th:only-of-type {\n",
       "        vertical-align: middle;\n",
       "    }\n",
       "\n",
       "    .dataframe tbody tr th {\n",
       "        vertical-align: top;\n",
       "    }\n",
       "\n",
       "    .dataframe thead th {\n",
       "        text-align: right;\n",
       "    }\n",
       "</style>\n",
       "<table border=\"1\" class=\"dataframe\">\n",
       "  <thead>\n",
       "    <tr style=\"text-align: right;\">\n",
       "      <th></th>\n",
       "      <th>descripcionsolicitud_lemma</th>\n",
       "      <th>index</th>\n",
       "    </tr>\n",
       "  </thead>\n",
       "  <tbody>\n",
       "    <tr>\n",
       "      <th>14</th>\n",
       "      <td>fundamentar prever articulos parrafo parrafo i...</td>\n",
       "      <td>14</td>\n",
       "    </tr>\n",
       "    <tr>\n",
       "      <th>39</th>\n",
       "      <td>fundamentar prever articulos parrafo parrafo i...</td>\n",
       "      <td>39</td>\n",
       "    </tr>\n",
       "    <tr>\n",
       "      <th>46</th>\n",
       "      <td>fundamentar prever articulos parrafo parrafo i...</td>\n",
       "      <td>46</td>\n",
       "    </tr>\n",
       "    <tr>\n",
       "      <th>47</th>\n",
       "      <td>fundamentar prever articulos parrafo parrafo i...</td>\n",
       "      <td>47</td>\n",
       "    </tr>\n",
       "    <tr>\n",
       "      <th>48</th>\n",
       "      <td>fundamentar prever articulos parrafo parrafo i...</td>\n",
       "      <td>48</td>\n",
       "    </tr>\n",
       "  </tbody>\n",
       "</table>\n",
       "</div>"
      ],
      "text/plain": [
       "                           descripcionsolicitud_lemma  index\n",
       "14  fundamentar prever articulos parrafo parrafo i...     14\n",
       "39  fundamentar prever articulos parrafo parrafo i...     39\n",
       "46  fundamentar prever articulos parrafo parrafo i...     46\n",
       "47  fundamentar prever articulos parrafo parrafo i...     47\n",
       "48  fundamentar prever articulos parrafo parrafo i...     48"
      ]
     },
     "execution_count": 28,
     "metadata": {},
     "output_type": "execute_result"
    }
   ],
   "source": [
    "docs.head()"
   ]
  },
  {
   "cell_type": "code",
   "execution_count": 29,
   "metadata": {},
   "outputs": [],
   "source": [
    "import spacy\n",
    "import nltk\n",
    "from nltk import SnowballStemmer"
   ]
  },
  {
   "cell_type": "code",
   "execution_count": 30,
   "metadata": {},
   "outputs": [],
   "source": [
    "nlp = spacy.load('es_core_news_sm')"
   ]
  },
  {
   "cell_type": "code",
   "execution_count": 31,
   "metadata": {},
   "outputs": [],
   "source": [
    "def ProcesarTexto(texto):\n",
    "    \n",
    "    doc = nlp(texto)\n",
    "    words = [t.text for t in doc]\n",
    "    \n",
    "    return words"
   ]
  },
  {
   "cell_type": "code",
   "execution_count": 32,
   "metadata": {},
   "outputs": [],
   "source": [
    "import multiprocessing\n",
    "from multiprocessing.dummy import Pool as ThreadPool"
   ]
  },
  {
   "cell_type": "code",
   "execution_count": 33,
   "metadata": {},
   "outputs": [
    {
     "data": {
      "text/plain": [
       "12"
      ]
     },
     "execution_count": 33,
     "metadata": {},
     "output_type": "execute_result"
    }
   ],
   "source": [
    "cores = multiprocessing.cpu_count()\n",
    "pool = ThreadPool(cores)\n",
    "cores"
   ]
  },
  {
   "cell_type": "code",
   "execution_count": 34,
   "metadata": {},
   "outputs": [],
   "source": [
    "processed_docs = pool.map(ProcesarTexto, docs['descripcionsolicitud_lemma'])\n",
    "pool.close()"
   ]
  },
  {
   "cell_type": "code",
   "execution_count": 35,
   "metadata": {},
   "outputs": [],
   "source": [
    "import gensim"
   ]
  },
  {
   "cell_type": "code",
   "execution_count": 36,
   "metadata": {},
   "outputs": [],
   "source": [
    "dictionary = gensim.corpora.Dictionary(processed_docs)"
   ]
  },
  {
   "cell_type": "code",
   "execution_count": 37,
   "metadata": {},
   "outputs": [],
   "source": [
    "dictionary.filter_extremes(no_below=15, no_above=0.5, keep_n=100000)"
   ]
  },
  {
   "cell_type": "code",
   "execution_count": 38,
   "metadata": {},
   "outputs": [],
   "source": [
    "bow_corpus = [dictionary.doc2bow(doc) for doc in processed_docs]"
   ]
  },
  {
   "cell_type": "code",
   "execution_count": 39,
   "metadata": {},
   "outputs": [],
   "source": [
    "from gensim import corpora, models\n",
    "from pprint import pprint"
   ]
  },
  {
   "cell_type": "code",
   "execution_count": 40,
   "metadata": {},
   "outputs": [],
   "source": [
    "tfidf = models.TfidfModel(bow_corpus)\n",
    "corpus_tfidf = tfidf[bow_corpus]"
   ]
  },
  {
   "cell_type": "markdown",
   "metadata": {},
   "source": [
    "### 20 tópicos TF-IDF"
   ]
  },
  {
   "cell_type": "code",
   "execution_count": 41,
   "metadata": {},
   "outputs": [],
   "source": [
    "lda_model_tfidf_20 = gensim.models.LdaMulticore(corpus_tfidf, \n",
    "                                            num_topics=20,\n",
    "                                            id2word=dictionary,\n",
    "                                            passes=2,\n",
    "                                            workers=cores)"
   ]
  },
  {
   "cell_type": "code",
   "execution_count": 42,
   "metadata": {},
   "outputs": [
    {
     "name": "stdout",
     "output_type": "stream",
     "text": [
      "Topic: 0 Word: 0.027*\"salud\" + 0.018*\"secretario\" + 0.012*\"direccion\" + 0.010*\"centrar\" + 0.009*\"peticion\" + 0.009*\"plataforma\" + 0.009*\"reproductivo\" + 0.009*\"equidad\" + 0.008*\"condon\" + 0.008*\"evidenciar\"\n",
      "Topic: 1 Word: 0.012*\"medicamento\" + 0.011*\"medicar\" + 0.008*\"recetar\" + 0.008*\"aborto\" + 0.007*\"violacion\" + 0.007*\"paciente\" + 0.006*\"hospital\" + 0.006*\"nivel\" + 0.005*\"procedimiento\" + 0.005*\"imss\"\n",
      "Topic: 2 Word: 0.006*\"imss\" + 0.005*\"ocupar\" + 0.005*\"medicar\" + 0.005*\"plaza\" + 0.005*\"social\" + 0.004*\"instituto\" + 0.004*\"servidor\" + 0.004*\"director\" + 0.004*\"hospital\" + 0.004*\"delegacion\"\n",
      "Topic: 3 Word: 0.012*\"coordinacion\" + 0.009*\"cocti\" + 0.009*\"insumo\" + 0.008*\"imss\" + 0.008*\"analisis\" + 0.007*\"control\" + 0.007*\"corresponder\" + 0.007*\"etcétera\" + 0.006*\"quedar\" + 0.006*\"valioso\"\n",
      "Topic: 4 Word: 0.006*\"auditorio\" + 0.006*\"imss\" + 0.005*\"social\" + 0.005*\"salud\" + 0.005*\"instituto\" + 0.005*\"seguro\" + 0.005*\"mexicano\" + 0.004*\"direccion\" + 0.004*\"empresa\" + 0.004*\"licitacion\"\n",
      "Topic: 5 Word: 0.009*\"mujer\" + 0.007*\"social\" + 0.007*\"embarazar\" + 0.006*\"seguro\" + 0.006*\"mexicano\" + 0.006*\"instituto\" + 0.005*\"bajo\" + 0.005*\"municipio\" + 0.005*\"salud\" + 0.005*\"california\"\n",
      "Topic: 6 Word: 0.048*\"condonar\" + 0.038*\"masculino\" + 0.029*\"distribuir\" + 0.024*\"consignar\" + 0.023*\"evidenciar\" + 0.022*\"planear\" + 0.021*\"secretario\" + 0.020*\"femenino\" + 0.017*\"centrar\" + 0.017*\"salud\"\n",
      "Topic: 7 Word: 0.010*\"dental\" + 0.010*\"cepillo\" + 0.009*\"licitacion\" + 0.009*\"proveedor\" + 0.008*\"delegacion\" + 0.008*\"imss\" + 0.006*\"adjudicacion\" + 0.006*\"medicar\" + 0.006*\"reposicion\" + 0.006*\"instituto\"\n",
      "Topic: 8 Word: 0.007*\"derechohabiente\" + 0.006*\"seguro\" + 0.006*\"social\" + 0.006*\"imss\" + 0.006*\"instituto\" + 0.006*\"documentar\" + 0.006*\"medicamento\" + 0.005*\"cnegsr\" + 0.005*\"mexicano\" + 0.005*\"medicar\"\n",
      "Topic: 9 Word: 0.011*\"especialidad\" + 0.010*\"tubo\" + 0.010*\"medicar\" + 0.009*\"endotraqueal\" + 0.009*\"distromed\" + 0.009*\"imss\" + 0.008*\"umae\" + 0.007*\"hospital\" + 0.007*\"alto\" + 0.007*\"proveedor\"\n",
      "Topic: 10 Word: 0.018*\"dental\" + 0.014*\"cepillo\" + 0.011*\"proveedor\" + 0.010*\"adulto\" + 0.010*\"delegacion\" + 0.009*\"reposicion\" + 0.008*\"imss\" + 0.008*\"infantil\" + 0.007*\"contraloria\" + 0.007*\"licitacion\"\n",
      "Topic: 11 Word: 0.026*\"medicamento\" + 0.018*\"pieza\" + 0.018*\"inventario\" + 0.016*\"existencia\" + 0.016*\"almacen\" + 0.015*\"basico\" + 0.015*\"cuadrar\" + 0.014*\"completo\" + 0.014*\"consumir\" + 0.012*\"mensual\"\n",
      "Topic: 12 Word: 0.056*\"valioso\" + 0.053*\"quedar\" + 0.047*\"ordenar\" + 0.043*\"corresponder\" + 0.033*\"gracia\" + 0.009*\"trabajador\" + 0.006*\"plataforma\" + 0.006*\"direccion\" + 0.005*\"electronicos\" + 0.005*\"seguimiento\"\n",
      "Topic: 13 Word: 0.009*\"medicamento\" + 0.007*\"medicar\" + 0.006*\"mexicano\" + 0.006*\"instituto\" + 0.006*\"seguro\" + 0.006*\"social\" + 0.005*\"hospital\" + 0.005*\"delegacion\" + 0.005*\"licitacion\" + 0.005*\"unitario\"\n",
      "Topic: 14 Word: 0.048*\"medicar\" + 0.047*\"medicamento\" + 0.042*\"recetar\" + 0.036*\"paciente\" + 0.016*\"hospitalizacion\" + 0.014*\"nivel\" + 0.014*\"hospitalizar\" + 0.013*\"prescribir\" + 0.013*\"matricular\" + 0.013*\"emitir\"\n",
      "Topic: 15 Word: 0.011*\"seguro\" + 0.011*\"social\" + 0.010*\"instituto\" + 0.009*\"mexicano\" + 0.009*\"abastecio\" + 0.006*\"imss\" + 0.006*\"proporcionar\" + 0.005*\"domiciliar\" + 0.005*\"informar\" + 0.005*\"delegacion\"\n",
      "Topic: 16 Word: 0.016*\"mercar\" + 0.015*\"investigacion\" + 0.012*\"licitacion\" + 0.012*\"consolidar\" + 0.012*\"central\" + 0.011*\"bien\" + 0.009*\"terapeuticos\" + 0.009*\"elaborar\" + 0.008*\"imss\" + 0.008*\"nivel\"\n",
      "Topic: 17 Word: 0.006*\"debian\" + 0.005*\"medicamento\" + 0.005*\"tipo\" + 0.005*\"salud\" + 0.005*\"direccion\" + 0.004*\"montar\" + 0.004*\"formato\" + 0.004*\"imss\" + 0.004*\"empresa\" + 0.004*\"social\"\n",
      "Topic: 18 Word: 0.007*\"instituto\" + 0.007*\"social\" + 0.007*\"seguro\" + 0.006*\"imss\" + 0.006*\"mexicano\" + 0.005*\"documentar\" + 0.005*\"infliximab\" + 0.005*\"pensionar\" + 0.005*\"delegacion\" + 0.005*\"terapeutica\"\n",
      "Topic: 19 Word: 0.009*\"medicar\" + 0.008*\"medicamento\" + 0.007*\"recetar\" + 0.005*\"paciente\" + 0.005*\"delegacion\" + 0.005*\"imss\" + 0.005*\"levonorgestrel\" + 0.005*\"morelia\" + 0.005*\"instituto\" + 0.005*\"hospital\"\n"
     ]
    }
   ],
   "source": [
    "for idx, topic in lda_model_tfidf_20.print_topics(-1):\n",
    "    print('Topic: {} Word: {}'.format(idx, topic))"
   ]
  },
  {
   "cell_type": "markdown",
   "metadata": {},
   "source": [
    "### Guardamos en S3"
   ]
  },
  {
   "cell_type": "code",
   "execution_count": null,
   "metadata": {},
   "outputs": [],
   "source": [
    "bucket='inai-summerofdata'\n",
    "key='modeling/LDA/4/salud/df_salud.pkl'\n",
    "pickle_byte_obj = pickle.dumps(df_salud)\n",
    "s3_resource = boto3.resource('s3')\n",
    "s3_resource.Object(bucket, key).put(Body=pickle_byte_obj)"
   ]
  },
  {
   "cell_type": "code",
   "execution_count": null,
   "metadata": {},
   "outputs": [],
   "source": [
    "bucket='inai-summerofdata'\n",
    "key='modeling/LDA/4/salud/processed_docs.pkl'\n",
    "pickle_byte_obj = pickle.dumps(processed_docs)\n",
    "s3_resource = boto3.resource('s3')\n",
    "s3_resource.Object(bucket, key).put(Body=pickle_byte_obj)"
   ]
  },
  {
   "cell_type": "code",
   "execution_count": null,
   "metadata": {},
   "outputs": [],
   "source": [
    "bucket='inai-summerofdata'\n",
    "key='modeling/LDA/4/salud/lda_model_tfidf_20.pkl'\n",
    "pickle_byte_obj = pickle.dumps(lda_model_tfidf_20)\n",
    "s3_resource = boto3.resource('s3')\n",
    "s3_resource.Object(bucket, key).put(Body=pickle_byte_obj)"
   ]
  },
  {
   "cell_type": "markdown",
   "metadata": {},
   "source": [
    "# sep"
   ]
  },
  {
   "cell_type": "code",
   "execution_count": 46,
   "metadata": {},
   "outputs": [],
   "source": [
    "filtro = (df_new['dependencia_clean'] == 'sep')\n",
    "df_sep = df_new[filtro]"
   ]
  },
  {
   "cell_type": "code",
   "execution_count": 47,
   "metadata": {},
   "outputs": [
    {
     "name": "stdout",
     "output_type": "stream",
     "text": [
      "<class 'pandas.core.frame.DataFrame'>\n",
      "Int64Index: 18074 entries, 207 to 1558839\n",
      "Data columns (total 31 columns):\n",
      " #   Column                         Non-Null Count  Dtype         \n",
      "---  ------                         --------------  -----         \n",
      " 0   folio                          18074 non-null  object        \n",
      " 1   fechasolicitud                 18074 non-null  datetime64[ns]\n",
      " 2   dependencia                    18074 non-null  object        \n",
      " 3   estatus                        18074 non-null  object        \n",
      " 4   medioentrada                   18074 non-null  object        \n",
      " 5   tiposolicitud                  18074 non-null  object        \n",
      " 6   descripcionsolicitud           18074 non-null  object        \n",
      " 7   otrosdatos                     18074 non-null  object        \n",
      " 8   archivoadjuntosolicitud        18074 non-null  object        \n",
      " 9   medioentrega                   18074 non-null  object        \n",
      " 10  fechalimite                    17587 non-null  datetime64[ns]\n",
      " 11  respuesta                      18074 non-null  object        \n",
      " 12  textorespuesta                 18074 non-null  object        \n",
      " 13  archivorespuesta               18074 non-null  object        \n",
      " 14  fecharespuesta                 18074 non-null  datetime64[ns]\n",
      " 15  pais                           18074 non-null  object        \n",
      " 16  estado                         18074 non-null  object        \n",
      " 17  municipio                      18074 non-null  object        \n",
      " 18  codigopostal                   18074 non-null  object        \n",
      " 19  sector                         18074 non-null  object        \n",
      " 20  tipo_archivo_respuesta         18074 non-null  object        \n",
      " 21  cantidad_archivos_respuesta    14606 non-null  float64       \n",
      " 22  texto_respuesta_adjunto        18074 non-null  object        \n",
      " 23  respuestareal                  18074 non-null  object        \n",
      " 24  calidad_respuesta              18074 non-null  object        \n",
      " 25  calidad_respuesta_real         18074 non-null  object        \n",
      " 26  solicitud_longitud             18074 non-null  int64         \n",
      " 27  descripcionsolicitud_lemma     18074 non-null  object        \n",
      " 28  codigo_calidad_respuesta_real  18074 non-null  int64         \n",
      " 29  dependencia_clean              18074 non-null  object        \n",
      " 30  solicitud_lemma_longitud       18074 non-null  int64         \n",
      "dtypes: datetime64[ns](3), float64(1), int64(3), object(24)\n",
      "memory usage: 4.4+ MB\n"
     ]
    }
   ],
   "source": [
    "df_sep.info()"
   ]
  },
  {
   "cell_type": "code",
   "execution_count": 48,
   "metadata": {},
   "outputs": [],
   "source": [
    "data = df_sep[['descripcionsolicitud_lemma']]\n",
    "data['index'] = data.index\n",
    "docs = data"
   ]
  },
  {
   "cell_type": "code",
   "execution_count": 49,
   "metadata": {},
   "outputs": [
    {
     "data": {
      "text/html": [
       "<div>\n",
       "<style scoped>\n",
       "    .dataframe tbody tr th:only-of-type {\n",
       "        vertical-align: middle;\n",
       "    }\n",
       "\n",
       "    .dataframe tbody tr th {\n",
       "        vertical-align: top;\n",
       "    }\n",
       "\n",
       "    .dataframe thead th {\n",
       "        text-align: right;\n",
       "    }\n",
       "</style>\n",
       "<table border=\"1\" class=\"dataframe\">\n",
       "  <thead>\n",
       "    <tr style=\"text-align: right;\">\n",
       "      <th></th>\n",
       "      <th>descripcionsolicitud_lemma</th>\n",
       "      <th>index</th>\n",
       "    </tr>\n",
       "  </thead>\n",
       "  <tbody>\n",
       "    <tr>\n",
       "      <th>207</th>\n",
       "      <td>obrar arte funcionario conaculta impulsar apoy...</td>\n",
       "      <td>207</td>\n",
       "    </tr>\n",
       "    <tr>\n",
       "      <th>214</th>\n",
       "      <td>poner contactar pedirles apoyar requisito clas...</td>\n",
       "      <td>214</td>\n",
       "    </tr>\n",
       "    <tr>\n",
       "      <th>279</th>\n",
       "      <td>publicar decretar indicar consejo cultura arte...</td>\n",
       "      <td>279</td>\n",
       "    </tr>\n",
       "    <tr>\n",
       "      <th>594</th>\n",
       "      <td>montar anual consejo cultura arte prever inver...</td>\n",
       "      <td>594</td>\n",
       "    </tr>\n",
       "    <tr>\n",
       "      <th>655</th>\n",
       "      <td>amablamente relacion trabajador academicos ing...</td>\n",
       "      <td>655</td>\n",
       "    </tr>\n",
       "  </tbody>\n",
       "</table>\n",
       "</div>"
      ],
      "text/plain": [
       "                            descripcionsolicitud_lemma  index\n",
       "207  obrar arte funcionario conaculta impulsar apoy...    207\n",
       "214  poner contactar pedirles apoyar requisito clas...    214\n",
       "279  publicar decretar indicar consejo cultura arte...    279\n",
       "594  montar anual consejo cultura arte prever inver...    594\n",
       "655  amablamente relacion trabajador academicos ing...    655"
      ]
     },
     "execution_count": 49,
     "metadata": {},
     "output_type": "execute_result"
    }
   ],
   "source": [
    "docs.head()"
   ]
  },
  {
   "cell_type": "code",
   "execution_count": 50,
   "metadata": {},
   "outputs": [],
   "source": [
    "import spacy\n",
    "import nltk\n",
    "from nltk import SnowballStemmer"
   ]
  },
  {
   "cell_type": "code",
   "execution_count": 51,
   "metadata": {},
   "outputs": [],
   "source": [
    "nlp = spacy.load('es_core_news_sm')"
   ]
  },
  {
   "cell_type": "code",
   "execution_count": 52,
   "metadata": {},
   "outputs": [],
   "source": [
    "def ProcesarTexto(texto):\n",
    "    \n",
    "    doc = nlp(texto)\n",
    "    words = [t.text for t in doc]\n",
    "    \n",
    "    return words"
   ]
  },
  {
   "cell_type": "code",
   "execution_count": 53,
   "metadata": {},
   "outputs": [],
   "source": [
    "import multiprocessing\n",
    "from multiprocessing.dummy import Pool as ThreadPool"
   ]
  },
  {
   "cell_type": "code",
   "execution_count": 54,
   "metadata": {},
   "outputs": [
    {
     "data": {
      "text/plain": [
       "12"
      ]
     },
     "execution_count": 54,
     "metadata": {},
     "output_type": "execute_result"
    }
   ],
   "source": [
    "cores = multiprocessing.cpu_count()\n",
    "pool = ThreadPool(cores)\n",
    "cores"
   ]
  },
  {
   "cell_type": "code",
   "execution_count": 55,
   "metadata": {},
   "outputs": [],
   "source": [
    "processed_docs = pool.map(ProcesarTexto, docs['descripcionsolicitud_lemma'])\n",
    "pool.close()"
   ]
  },
  {
   "cell_type": "code",
   "execution_count": 56,
   "metadata": {},
   "outputs": [],
   "source": [
    "import gensim"
   ]
  },
  {
   "cell_type": "code",
   "execution_count": 57,
   "metadata": {},
   "outputs": [],
   "source": [
    "dictionary = gensim.corpora.Dictionary(processed_docs)"
   ]
  },
  {
   "cell_type": "code",
   "execution_count": 58,
   "metadata": {},
   "outputs": [],
   "source": [
    "dictionary.filter_extremes(no_below=15, no_above=0.5, keep_n=100000)"
   ]
  },
  {
   "cell_type": "code",
   "execution_count": 59,
   "metadata": {},
   "outputs": [],
   "source": [
    "bow_corpus = [dictionary.doc2bow(doc) for doc in processed_docs]"
   ]
  },
  {
   "cell_type": "code",
   "execution_count": 60,
   "metadata": {},
   "outputs": [],
   "source": [
    "from gensim import corpora, models\n",
    "from pprint import pprint"
   ]
  },
  {
   "cell_type": "code",
   "execution_count": 61,
   "metadata": {},
   "outputs": [],
   "source": [
    "tfidf = models.TfidfModel(bow_corpus)\n",
    "corpus_tfidf = tfidf[bow_corpus]"
   ]
  },
  {
   "cell_type": "markdown",
   "metadata": {},
   "source": [
    "### 20 tópicos TF-IDF"
   ]
  },
  {
   "cell_type": "code",
   "execution_count": 62,
   "metadata": {},
   "outputs": [],
   "source": [
    "lda_model_tfidf_20 = gensim.models.LdaMulticore(corpus_tfidf, \n",
    "                                            num_topics=20,\n",
    "                                            id2word=dictionary,\n",
    "                                            passes=2,\n",
    "                                            workers=cores)"
   ]
  },
  {
   "cell_type": "code",
   "execution_count": 63,
   "metadata": {},
   "outputs": [
    {
     "name": "stdout",
     "output_type": "stream",
     "text": [
      "Topic: 0 Word: 0.006*\"tecnologico\" + 0.006*\"plantel\" + 0.005*\"instituto\" + 0.005*\"colegiar\" + 0.004*\"bachiller\" + 0.004*\"institucion\" + 0.004*\"cultura\" + 0.004*\"docente\" + 0.004*\"servidor\" + 0.004*\"grupo\"\n",
      "Topic: 1 Word: 0.016*\"tecnologico\" + 0.011*\"instituto\" + 0.011*\"semestre\" + 0.009*\"chihuahua\" + 0.008*\"dependiente\" + 0.006*\"evento\" + 0.006*\"docente\" + 0.006*\"asistencia\" + 0.005*\"correspondiente\" + 0.005*\"actividad\"\n",
      "Topic: 2 Word: 0.013*\"remuneracion\" + 0.011*\"servidor\" + 0.010*\"tipo\" + 0.010*\"tecnologico\" + 0.009*\"publicar\" + 0.009*\"ingresar\" + 0.007*\"instituto\" + 0.007*\"bruto\" + 0.007*\"vincular\" + 0.007*\"neto\"\n",
      "Topic: 3 Word: 0.010*\"tecnologico\" + 0.007*\"instituto\" + 0.007*\"docente\" + 0.006*\"ocupar\" + 0.006*\"gastar\" + 0.005*\"semestre\" + 0.005*\"plantel\" + 0.004*\"educacion\" + 0.004*\"facturar\" + 0.004*\"maderar\"\n",
      "Topic: 4 Word: 0.013*\"tecnologico\" + 0.010*\"instituto\" + 0.008*\"escuela\" + 0.005*\"docente\" + 0.005*\"tipo\" + 0.004*\"bachiller\" + 0.004*\"colegiar\" + 0.004*\"agostar\" + 0.004*\"servidor\" + 0.004*\"periodo\"\n",
      "Topic: 5 Word: 0.009*\"tecnologico\" + 0.006*\"instituto\" + 0.005*\"informar\" + 0.005*\"montar\" + 0.005*\"gastar\" + 0.004*\"chihuahua\" + 0.004*\"educacion\" + 0.004*\"docente\" + 0.004*\"educativo\" + 0.004*\"plantel\"\n",
      "Topic: 6 Word: 0.008*\"tecnologico\" + 0.007*\"bachiller\" + 0.007*\"colegiar\" + 0.006*\"plantel\" + 0.005*\"instituto\" + 0.005*\"semestre\" + 0.004*\"institucion\" + 0.004*\"presupuestar\" + 0.004*\"federal\" + 0.004*\"educacion\"\n",
      "Topic: 7 Word: 0.011*\"conade\" + 0.008*\"tecnologico\" + 0.008*\"profesor\" + 0.007*\"comision\" + 0.006*\"instituto\" + 0.006*\"colegiar\" + 0.006*\"bachiller\" + 0.006*\"deportar\" + 0.005*\"presupuestar\" + 0.005*\"federacion\"\n",
      "Topic: 8 Word: 0.012*\"tecnologico\" + 0.009*\"instituto\" + 0.007*\"publicar\" + 0.007*\"manual\" + 0.006*\"organigrama\" + 0.006*\"procedimiento\" + 0.006*\"diario\" + 0.006*\"respectivo\" + 0.006*\"autorizacion\" + 0.006*\"dictamenes\"\n",
      "Topic: 9 Word: 0.007*\"tecnologico\" + 0.006*\"docente\" + 0.005*\"educacion\" + 0.005*\"instituto\" + 0.005*\"becar\" + 0.005*\"plaza\" + 0.005*\"colegiar\" + 0.004*\"bachiller\" + 0.004*\"realizar\" + 0.004*\"federal\"\n",
      "Topic: 10 Word: 0.007*\"presupuestar\" + 0.005*\"institucion\" + 0.005*\"tecnologico\" + 0.005*\"educacion\" + 0.005*\"tipo\" + 0.004*\"educativo\" + 0.004*\"bachiller\" + 0.004*\"docente\" + 0.004*\"colegiar\" + 0.004*\"plantel\"\n",
      "Topic: 11 Word: 0.007*\"nava\" + 0.006*\"vazquez\" + 0.006*\"tecnologico\" + 0.005*\"consultor\" + 0.005*\"tipo\" + 0.004*\"instituto\" + 0.004*\"plantel\" + 0.004*\"servidor\" + 0.004*\"publicar\" + 0.004*\"celebrar\"\n",
      "Topic: 12 Word: 0.010*\"tecnologico\" + 0.008*\"pago\" + 0.008*\"presupuestar\" + 0.007*\"contener\" + 0.007*\"proveedor\" + 0.007*\"instituto\" + 0.006*\"chihuahua\" + 0.005*\"montar\" + 0.005*\"requerir\" + 0.005*\"plantel\"\n",
      "Topic: 13 Word: 0.007*\"cultura\" + 0.007*\"tecnologico\" + 0.006*\"presupuestar\" + 0.006*\"arte\" + 0.005*\"instituto\" + 0.005*\"consejo\" + 0.004*\"informar\" + 0.004*\"docente\" + 0.004*\"partir\" + 0.004*\"montar\"\n",
      "Topic: 14 Word: 0.007*\"tecnologico\" + 0.006*\"plantel\" + 0.005*\"bachiller\" + 0.005*\"colegiar\" + 0.005*\"instituto\" + 0.005*\"destinar\" + 0.004*\"docente\" + 0.004*\"presupuestar\" + 0.004*\"requerir\" + 0.004*\"mexicano\"\n",
      "Topic: 15 Word: 0.009*\"presupuestar\" + 0.007*\"extintor\" + 0.006*\"tecnologico\" + 0.006*\"educacion\" + 0.006*\"municipio\" + 0.005*\"centrar\" + 0.005*\"plantel\" + 0.005*\"contar\" + 0.004*\"invertir\" + 0.004*\"semestre\"\n",
      "Topic: 16 Word: 0.011*\"tecnologico\" + 0.007*\"padron\" + 0.007*\"instituto\" + 0.007*\"contratista\" + 0.006*\"presupuestar\" + 0.006*\"chihuahua\" + 0.005*\"dependiente\" + 0.005*\"director\" + 0.005*\"semestre\" + 0.004*\"plantel\"\n",
      "Topic: 17 Word: 0.007*\"tecnologico\" + 0.006*\"gracia\" + 0.006*\"instituto\" + 0.005*\"conformar\" + 0.005*\"anexar\" + 0.005*\"atender\" + 0.005*\"educativo\" + 0.004*\"educacion\" + 0.004*\"presupuestar\" + 0.004*\"otorgar\"\n",
      "Topic: 18 Word: 0.019*\"tecnologico\" + 0.014*\"instituto\" + 0.010*\"presupuestar\" + 0.007*\"gastar\" + 0.007*\"poblar\" + 0.007*\"tlaxcala\" + 0.007*\"institución\" + 0.007*\"altiplano\" + 0.007*\"fumigacion\" + 0.007*\"plagar\"\n",
      "Topic: 19 Word: 0.010*\"plantel\" + 0.007*\"utrilla\" + 0.007*\"serio\" + 0.007*\"colegiar\" + 0.007*\"bachiller\" + 0.005*\"aquie\" + 0.005*\"tecnologico\" + 0.004*\"cultural\" + 0.004*\"publicar\" + 0.004*\"informatica\"\n"
     ]
    }
   ],
   "source": [
    "for idx, topic in lda_model_tfidf_20.print_topics(-1):\n",
    "    print('Topic: {} Word: {}'.format(idx, topic))"
   ]
  },
  {
   "cell_type": "markdown",
   "metadata": {},
   "source": [
    "### Guardamos en S3"
   ]
  },
  {
   "cell_type": "code",
   "execution_count": null,
   "metadata": {},
   "outputs": [],
   "source": [
    "bucket='inai-summerofdata'\n",
    "key='modeling/LDA/4/sep/df_sep.pkl'\n",
    "pickle_byte_obj = pickle.dumps(df_sep)\n",
    "s3_resource = boto3.resource('s3')\n",
    "s3_resource.Object(bucket, key).put(Body=pickle_byte_obj)"
   ]
  },
  {
   "cell_type": "code",
   "execution_count": null,
   "metadata": {},
   "outputs": [],
   "source": [
    "bucket='inai-summerofdata'\n",
    "key='modeling/LDA/4/sep/processed_docs.pkl'\n",
    "pickle_byte_obj = pickle.dumps(processed_docs)\n",
    "s3_resource = boto3.resource('s3')\n",
    "s3_resource.Object(bucket, key).put(Body=pickle_byte_obj)"
   ]
  },
  {
   "cell_type": "code",
   "execution_count": null,
   "metadata": {},
   "outputs": [],
   "source": [
    "bucket='inai-summerofdata'\n",
    "key='modeling/LDA/4/sep/lda_model_tfidf_20.pkl'\n",
    "pickle_byte_obj = pickle.dumps(lda_model_tfidf_20)\n",
    "s3_resource = boto3.resource('s3')\n",
    "s3_resource.Object(bucket, key).put(Body=pickle_byte_obj)"
   ]
  },
  {
   "cell_type": "markdown",
   "metadata": {},
   "source": [
    "# semarnat"
   ]
  },
  {
   "cell_type": "code",
   "execution_count": 67,
   "metadata": {},
   "outputs": [],
   "source": [
    "filtro = (df_new['dependencia_clean'] == 'semarnat')\n",
    "df_semarnat = df_new[filtro]"
   ]
  },
  {
   "cell_type": "code",
   "execution_count": 68,
   "metadata": {},
   "outputs": [
    {
     "name": "stdout",
     "output_type": "stream",
     "text": [
      "<class 'pandas.core.frame.DataFrame'>\n",
      "Int64Index: 30882 entries, 325329 to 1559003\n",
      "Data columns (total 31 columns):\n",
      " #   Column                         Non-Null Count  Dtype         \n",
      "---  ------                         --------------  -----         \n",
      " 0   folio                          30882 non-null  object        \n",
      " 1   fechasolicitud                 30882 non-null  datetime64[ns]\n",
      " 2   dependencia                    30882 non-null  object        \n",
      " 3   estatus                        30882 non-null  object        \n",
      " 4   medioentrada                   30882 non-null  object        \n",
      " 5   tiposolicitud                  30882 non-null  object        \n",
      " 6   descripcionsolicitud           30882 non-null  object        \n",
      " 7   otrosdatos                     30882 non-null  object        \n",
      " 8   archivoadjuntosolicitud        30882 non-null  object        \n",
      " 9   medioentrega                   30882 non-null  object        \n",
      " 10  fechalimite                    28649 non-null  datetime64[ns]\n",
      " 11  respuesta                      30882 non-null  object        \n",
      " 12  textorespuesta                 30882 non-null  object        \n",
      " 13  archivorespuesta               30882 non-null  object        \n",
      " 14  fecharespuesta                 30882 non-null  datetime64[ns]\n",
      " 15  pais                           30882 non-null  object        \n",
      " 16  estado                         30882 non-null  object        \n",
      " 17  municipio                      30882 non-null  object        \n",
      " 18  codigopostal                   30882 non-null  object        \n",
      " 19  sector                         30882 non-null  object        \n",
      " 20  tipo_archivo_respuesta         30882 non-null  object        \n",
      " 21  cantidad_archivos_respuesta    25193 non-null  float64       \n",
      " 22  texto_respuesta_adjunto        30882 non-null  object        \n",
      " 23  respuestareal                  30882 non-null  object        \n",
      " 24  calidad_respuesta              30882 non-null  object        \n",
      " 25  calidad_respuesta_real         30882 non-null  object        \n",
      " 26  solicitud_longitud             30882 non-null  int64         \n",
      " 27  descripcionsolicitud_lemma     30882 non-null  object        \n",
      " 28  codigo_calidad_respuesta_real  30882 non-null  int64         \n",
      " 29  dependencia_clean              30882 non-null  object        \n",
      " 30  solicitud_lemma_longitud       30882 non-null  int64         \n",
      "dtypes: datetime64[ns](3), float64(1), int64(3), object(24)\n",
      "memory usage: 7.5+ MB\n"
     ]
    }
   ],
   "source": [
    "df_semarnat.info()"
   ]
  },
  {
   "cell_type": "code",
   "execution_count": 69,
   "metadata": {},
   "outputs": [],
   "source": [
    "data = df_semarnat[['descripcionsolicitud_lemma']]\n",
    "data['index'] = data.index\n",
    "docs = data"
   ]
  },
  {
   "cell_type": "code",
   "execution_count": 70,
   "metadata": {},
   "outputs": [
    {
     "data": {
      "text/html": [
       "<div>\n",
       "<style scoped>\n",
       "    .dataframe tbody tr th:only-of-type {\n",
       "        vertical-align: middle;\n",
       "    }\n",
       "\n",
       "    .dataframe tbody tr th {\n",
       "        vertical-align: top;\n",
       "    }\n",
       "\n",
       "    .dataframe thead th {\n",
       "        text-align: right;\n",
       "    }\n",
       "</style>\n",
       "<table border=\"1\" class=\"dataframe\">\n",
       "  <thead>\n",
       "    <tr style=\"text-align: right;\">\n",
       "      <th></th>\n",
       "      <th>descripcionsolicitud_lemma</th>\n",
       "      <th>index</th>\n",
       "    </tr>\n",
       "  </thead>\n",
       "  <tbody>\n",
       "    <tr>\n",
       "      <th>325329</th>\n",
       "      <td>maestro aguar saneamiento tabasco elaborar ecu...</td>\n",
       "      <td>325329</td>\n",
       "    </tr>\n",
       "    <tr>\n",
       "      <th>325346</th>\n",
       "      <td>manifestacion impactar ambiental autopista fed...</td>\n",
       "      <td>325346</td>\n",
       "    </tr>\n",
       "    <tr>\n",
       "      <th>325415</th>\n",
       "      <td>resolución emitir secretario ambientar natural...</td>\n",
       "      <td>325415</td>\n",
       "    </tr>\n",
       "    <tr>\n",
       "      <th>325579</th>\n",
       "      <td>aprobacion prorrogar recentar emitir semarnat ...</td>\n",
       "      <td>325579</td>\n",
       "    </tr>\n",
       "    <tr>\n",
       "      <th>325612</th>\n",
       "      <td>adquirir licitacion adjudicacion invitacion ut...</td>\n",
       "      <td>325612</td>\n",
       "    </tr>\n",
       "  </tbody>\n",
       "</table>\n",
       "</div>"
      ],
      "text/plain": [
       "                               descripcionsolicitud_lemma   index\n",
       "325329  maestro aguar saneamiento tabasco elaborar ecu...  325329\n",
       "325346  manifestacion impactar ambiental autopista fed...  325346\n",
       "325415  resolución emitir secretario ambientar natural...  325415\n",
       "325579  aprobacion prorrogar recentar emitir semarnat ...  325579\n",
       "325612  adquirir licitacion adjudicacion invitacion ut...  325612"
      ]
     },
     "execution_count": 70,
     "metadata": {},
     "output_type": "execute_result"
    }
   ],
   "source": [
    "docs.head()"
   ]
  },
  {
   "cell_type": "code",
   "execution_count": 71,
   "metadata": {},
   "outputs": [],
   "source": [
    "import spacy\n",
    "import nltk\n",
    "from nltk import SnowballStemmer"
   ]
  },
  {
   "cell_type": "code",
   "execution_count": 72,
   "metadata": {},
   "outputs": [],
   "source": [
    "nlp = spacy.load('es_core_news_sm')"
   ]
  },
  {
   "cell_type": "code",
   "execution_count": 73,
   "metadata": {},
   "outputs": [],
   "source": [
    "def ProcesarTexto(texto):\n",
    "    \n",
    "    doc = nlp(texto)\n",
    "    words = [t.text for t in doc]\n",
    "    \n",
    "    return words"
   ]
  },
  {
   "cell_type": "code",
   "execution_count": 74,
   "metadata": {},
   "outputs": [],
   "source": [
    "import multiprocessing\n",
    "from multiprocessing.dummy import Pool as ThreadPool"
   ]
  },
  {
   "cell_type": "code",
   "execution_count": 75,
   "metadata": {},
   "outputs": [
    {
     "data": {
      "text/plain": [
       "12"
      ]
     },
     "execution_count": 75,
     "metadata": {},
     "output_type": "execute_result"
    }
   ],
   "source": [
    "cores = multiprocessing.cpu_count()\n",
    "pool = ThreadPool(cores)\n",
    "cores"
   ]
  },
  {
   "cell_type": "code",
   "execution_count": 76,
   "metadata": {},
   "outputs": [],
   "source": [
    "processed_docs = pool.map(ProcesarTexto, docs['descripcionsolicitud_lemma'])\n",
    "pool.close()"
   ]
  },
  {
   "cell_type": "code",
   "execution_count": 77,
   "metadata": {},
   "outputs": [],
   "source": [
    "import gensim"
   ]
  },
  {
   "cell_type": "code",
   "execution_count": 78,
   "metadata": {},
   "outputs": [],
   "source": [
    "dictionary = gensim.corpora.Dictionary(processed_docs)"
   ]
  },
  {
   "cell_type": "code",
   "execution_count": 79,
   "metadata": {},
   "outputs": [],
   "source": [
    "dictionary.filter_extremes(no_below=15, no_above=0.5, keep_n=100000)"
   ]
  },
  {
   "cell_type": "code",
   "execution_count": 80,
   "metadata": {},
   "outputs": [],
   "source": [
    "bow_corpus = [dictionary.doc2bow(doc) for doc in processed_docs]"
   ]
  },
  {
   "cell_type": "code",
   "execution_count": 81,
   "metadata": {},
   "outputs": [],
   "source": [
    "from gensim import corpora, models\n",
    "from pprint import pprint"
   ]
  },
  {
   "cell_type": "code",
   "execution_count": 82,
   "metadata": {},
   "outputs": [],
   "source": [
    "tfidf = models.TfidfModel(bow_corpus)\n",
    "corpus_tfidf = tfidf[bow_corpus]"
   ]
  },
  {
   "cell_type": "markdown",
   "metadata": {},
   "source": [
    "### 20 tópicos TF-IDF"
   ]
  },
  {
   "cell_type": "code",
   "execution_count": 83,
   "metadata": {},
   "outputs": [],
   "source": [
    "lda_model_tfidf_20 = gensim.models.LdaMulticore(corpus_tfidf, \n",
    "                                            num_topics=20,\n",
    "                                            id2word=dictionary,\n",
    "                                            passes=2,\n",
    "                                            workers=cores)"
   ]
  },
  {
   "cell_type": "code",
   "execution_count": 84,
   "metadata": {},
   "outputs": [
    {
     "name": "stdout",
     "output_type": "stream",
     "text": [
      "Topic: 0 Word: 0.008*\"concesion\" + 0.007*\"numeros\" + 0.007*\"titulos\" + 0.006*\"aguar\" + 0.006*\"bajo\" + 0.005*\"ambiental\" + 0.005*\"federal\" + 0.005*\"secretario\" + 0.005*\"inspeccionar\" + 0.005*\"california\"\n",
      "Topic: 1 Word: 0.010*\"numeros\" + 0.010*\"concesion\" + 0.010*\"titulos\" + 0.007*\"protegido\" + 0.006*\"ambiental\" + 0.006*\"natural\" + 0.006*\"areas\" + 0.005*\"articular\" + 0.005*\"inspeccionar\" + 0.004*\"impactar\"\n",
      "Topic: 2 Word: 0.010*\"aguar\" + 0.006*\"formato\" + 0.006*\"concesion\" + 0.005*\"municipio\" + 0.005*\"zona\" + 0.005*\"federal\" + 0.005*\"tipo\" + 0.005*\"ubicar\" + 0.005*\"denominar\" + 0.004*\"otorgar\"\n",
      "Topic: 3 Word: 0.010*\"concesion\" + 0.008*\"numeros\" + 0.008*\"titulos\" + 0.007*\"aguar\" + 0.005*\"ambiental\" + 0.005*\"numerar\" + 0.004*\"federal\" + 0.004*\"permiso\" + 0.004*\"pago\" + 0.004*\"semarnat\"\n",
      "Topic: 4 Word: 0.060*\"numerar\" + 0.058*\"comprobante\" + 0.056*\"pago\" + 0.052*\"fiscal\" + 0.035*\"realizar\" + 0.031*\"aguar\" + 0.026*\"concesion\" + 0.004*\"obrar\" + 0.003*\"municipio\" + 0.003*\"ambiental\"\n",
      "Topic: 5 Word: 0.051*\"otorgamiento\" + 0.050*\"completar\" + 0.044*\"procesar\" + 0.025*\"concesion\" + 0.005*\"aguar\" + 0.004*\"municipio\" + 0.004*\"protegido\" + 0.004*\"inspeccionar\" + 0.004*\"ambientar\" + 0.004*\"proteccion\"\n",
      "Topic: 6 Word: 0.007*\"aguar\" + 0.005*\"ambiental\" + 0.005*\"empresa\" + 0.005*\"santo\" + 0.005*\"municipio\" + 0.004*\"permiso\" + 0.004*\"california\" + 0.004*\"comision\" + 0.004*\"bajo\" + 0.003*\"requerir\"\n",
      "Topic: 7 Word: 0.054*\"numeros\" + 0.051*\"titulos\" + 0.039*\"concesion\" + 0.018*\"terrestre\" + 0.017*\"maritimo\" + 0.016*\"zona\" + 0.015*\"federal\" + 0.014*\"resolución\" + 0.014*\"direccion\" + 0.014*\"emitir\"\n",
      "Topic: 8 Word: 0.006*\"protegido\" + 0.006*\"consejo\" + 0.006*\"proteccion\" + 0.006*\"aguar\" + 0.005*\"articular\" + 0.005*\"asesor\" + 0.005*\"veracruz\" + 0.005*\"ecologico\" + 0.005*\"ambientar\" + 0.005*\"ambiental\"\n",
      "Topic: 9 Word: 0.047*\"numeros\" + 0.045*\"titulos\" + 0.037*\"concesion\" + 0.009*\"aguar\" + 0.005*\"municipio\" + 0.005*\"zona\" + 0.005*\"federal\" + 0.004*\"santo\" + 0.004*\"ambiental\" + 0.004*\"permiso\"\n",
      "Topic: 10 Word: 0.078*\"inspeccionar\" + 0.042*\"especificarlo\" + 0.042*\"haberse\" + 0.037*\"informe\" + 0.034*\"concesion\" + 0.029*\"aprovechamiento\" + 0.028*\"otorgamiento\" + 0.028*\"realizar\" + 0.027*\"completar\" + 0.026*\"casar\"\n",
      "Topic: 11 Word: 0.011*\"aguar\" + 0.005*\"realizar\" + 0.005*\"oficiar\" + 0.005*\"tramitar\" + 0.005*\"concesion\" + 0.005*\"resolucion\" + 0.005*\"consejo\" + 0.004*\"expediente\" + 0.004*\"permiso\" + 0.004*\"pago\"\n",
      "Topic: 12 Word: 0.006*\"aguar\" + 0.005*\"federal\" + 0.005*\"municipio\" + 0.004*\"zona\" + 0.004*\"aprovechamiento\" + 0.004*\"realizar\" + 0.004*\"periodo\" + 0.004*\"publicar\" + 0.004*\"conagua\" + 0.004*\"inspeccionar\"\n",
      "Topic: 13 Word: 0.020*\"titulos\" + 0.019*\"concesion\" + 0.018*\"numeros\" + 0.007*\"soler\" + 0.007*\"forestal\" + 0.006*\"cambiar\" + 0.005*\"aguar\" + 0.005*\"autorizacion\" + 0.005*\"completar\" + 0.005*\"federal\"\n",
      "Topic: 14 Word: 0.012*\"ambiental\" + 0.010*\"impactar\" + 0.009*\"concesion\" + 0.007*\"titulos\" + 0.007*\"numeros\" + 0.007*\"tramitar\" + 0.007*\"manifestacion\" + 0.006*\"casar\" + 0.006*\"inspeccionar\" + 0.005*\"aguar\"\n",
      "Topic: 15 Word: 0.007*\"concesion\" + 0.006*\"aguar\" + 0.005*\"titulos\" + 0.005*\"numeros\" + 0.004*\"federal\" + 0.004*\"semarnat\" + 0.004*\"municipio\" + 0.004*\"conagua\" + 0.004*\"informar\" + 0.004*\"zona\"\n",
      "Topic: 16 Word: 0.018*\"concesion\" + 0.017*\"numeros\" + 0.017*\"titulos\" + 0.008*\"federal\" + 0.007*\"completar\" + 0.007*\"zona\" + 0.006*\"otorgamiento\" + 0.006*\"procesar\" + 0.006*\"terrestre\" + 0.005*\"maritimo\"\n",
      "Topic: 17 Word: 0.008*\"aguar\" + 0.006*\"federal\" + 0.006*\"otorgar\" + 0.006*\"concesión\" + 0.006*\"santo\" + 0.006*\"zona\" + 0.006*\"municipio\" + 0.006*\"concesion\" + 0.005*\"permiso\" + 0.005*\"informar\"\n",
      "Topic: 18 Word: 0.010*\"federal\" + 0.010*\"terrestre\" + 0.010*\"zona\" + 0.008*\"maritimo\" + 0.006*\"otorgar\" + 0.006*\"concesion\" + 0.005*\"ganar\" + 0.005*\"terreno\" + 0.005*\"direccion\" + 0.005*\"costero\"\n",
      "Topic: 19 Word: 0.010*\"ambiental\" + 0.010*\"impactar\" + 0.007*\"concesion\" + 0.007*\"titulos\" + 0.006*\"aguar\" + 0.006*\"numeros\" + 0.005*\"forestal\" + 0.005*\"aprovechamiento\" + 0.005*\"permiso\" + 0.005*\"municipio\"\n"
     ]
    }
   ],
   "source": [
    "for idx, topic in lda_model_tfidf_20.print_topics(-1):\n",
    "    print('Topic: {} Word: {}'.format(idx, topic))"
   ]
  },
  {
   "cell_type": "markdown",
   "metadata": {},
   "source": [
    "### Guardamos en S3"
   ]
  },
  {
   "cell_type": "code",
   "execution_count": null,
   "metadata": {},
   "outputs": [],
   "source": [
    "bucket='inai-summerofdata'\n",
    "key='modeling/LDA/4/semarnat/df_semarnat.pkl'\n",
    "pickle_byte_obj = pickle.dumps(df_semarnat)\n",
    "s3_resource = boto3.resource('s3')\n",
    "s3_resource.Object(bucket, key).put(Body=pickle_byte_obj)"
   ]
  },
  {
   "cell_type": "code",
   "execution_count": null,
   "metadata": {},
   "outputs": [],
   "source": [
    "bucket='inai-summerofdata'\n",
    "key='modeling/LDA/4/semarnat/processed_docs.pkl'\n",
    "pickle_byte_obj = pickle.dumps(processed_docs)\n",
    "s3_resource = boto3.resource('s3')\n",
    "s3_resource.Object(bucket, key).put(Body=pickle_byte_obj)"
   ]
  },
  {
   "cell_type": "code",
   "execution_count": null,
   "metadata": {},
   "outputs": [],
   "source": [
    "bucket='inai-summerofdata'\n",
    "key='modeling/LDA/4/semarnat/lda_model_tfidf_20.pkl'\n",
    "pickle_byte_obj = pickle.dumps(lda_model_tfidf_20)\n",
    "s3_resource = boto3.resource('s3')\n",
    "s3_resource.Object(bucket, key).put(Body=pickle_byte_obj)"
   ]
  },
  {
   "cell_type": "markdown",
   "metadata": {},
   "source": [
    "# segob"
   ]
  },
  {
   "cell_type": "code",
   "execution_count": 88,
   "metadata": {},
   "outputs": [],
   "source": [
    "filtro = (df_new['dependencia_clean'] == 'segob')\n",
    "df_segob = df_new[filtro]"
   ]
  },
  {
   "cell_type": "code",
   "execution_count": 89,
   "metadata": {},
   "outputs": [
    {
     "name": "stdout",
     "output_type": "stream",
     "text": [
      "<class 'pandas.core.frame.DataFrame'>\n",
      "Int64Index: 12648 entries, 321460 to 1558990\n",
      "Data columns (total 31 columns):\n",
      " #   Column                         Non-Null Count  Dtype         \n",
      "---  ------                         --------------  -----         \n",
      " 0   folio                          12648 non-null  object        \n",
      " 1   fechasolicitud                 12648 non-null  datetime64[ns]\n",
      " 2   dependencia                    12648 non-null  object        \n",
      " 3   estatus                        12648 non-null  object        \n",
      " 4   medioentrada                   12648 non-null  object        \n",
      " 5   tiposolicitud                  12648 non-null  object        \n",
      " 6   descripcionsolicitud           12648 non-null  object        \n",
      " 7   otrosdatos                     12648 non-null  object        \n",
      " 8   archivoadjuntosolicitud        12648 non-null  object        \n",
      " 9   medioentrega                   12648 non-null  object        \n",
      " 10  fechalimite                    11941 non-null  datetime64[ns]\n",
      " 11  respuesta                      12648 non-null  object        \n",
      " 12  textorespuesta                 12648 non-null  object        \n",
      " 13  archivorespuesta               12648 non-null  object        \n",
      " 14  fecharespuesta                 12648 non-null  datetime64[ns]\n",
      " 15  pais                           12648 non-null  object        \n",
      " 16  estado                         12648 non-null  object        \n",
      " 17  municipio                      12648 non-null  object        \n",
      " 18  codigopostal                   12648 non-null  object        \n",
      " 19  sector                         12648 non-null  object        \n",
      " 20  tipo_archivo_respuesta         12648 non-null  object        \n",
      " 21  cantidad_archivos_respuesta    7527 non-null   float64       \n",
      " 22  texto_respuesta_adjunto        12648 non-null  object        \n",
      " 23  respuestareal                  12648 non-null  object        \n",
      " 24  calidad_respuesta              12648 non-null  object        \n",
      " 25  calidad_respuesta_real         12648 non-null  object        \n",
      " 26  solicitud_longitud             12648 non-null  int64         \n",
      " 27  descripcionsolicitud_lemma     12648 non-null  object        \n",
      " 28  codigo_calidad_respuesta_real  12648 non-null  int64         \n",
      " 29  dependencia_clean              12648 non-null  object        \n",
      " 30  solicitud_lemma_longitud       12648 non-null  int64         \n",
      "dtypes: datetime64[ns](3), float64(1), int64(3), object(24)\n",
      "memory usage: 3.1+ MB\n"
     ]
    }
   ],
   "source": [
    "df_segob.info()"
   ]
  },
  {
   "cell_type": "code",
   "execution_count": 90,
   "metadata": {},
   "outputs": [],
   "source": [
    "data = df_segob[['descripcionsolicitud_lemma']]\n",
    "data['index'] = data.index\n",
    "docs = data"
   ]
  },
  {
   "cell_type": "code",
   "execution_count": 91,
   "metadata": {},
   "outputs": [
    {
     "data": {
      "text/html": [
       "<div>\n",
       "<style scoped>\n",
       "    .dataframe tbody tr th:only-of-type {\n",
       "        vertical-align: middle;\n",
       "    }\n",
       "\n",
       "    .dataframe tbody tr th {\n",
       "        vertical-align: top;\n",
       "    }\n",
       "\n",
       "    .dataframe thead th {\n",
       "        text-align: right;\n",
       "    }\n",
       "</style>\n",
       "<table border=\"1\" class=\"dataframe\">\n",
       "  <thead>\n",
       "    <tr style=\"text-align: right;\">\n",
       "      <th></th>\n",
       "      <th>descripcionsolicitud_lemma</th>\n",
       "      <th>index</th>\n",
       "    </tr>\n",
       "  </thead>\n",
       "  <tbody>\n",
       "    <tr>\n",
       "      <th>321460</th>\n",
       "      <td>municipal salariar vestir paginar sacar salariar</td>\n",
       "      <td>321460</td>\n",
       "    </tr>\n",
       "    <tr>\n",
       "      <th>322024</th>\n",
       "      <td>listar demandar potencial espacio depositar re...</td>\n",
       "      <td>322024</td>\n",
       "    </tr>\n",
       "    <tr>\n",
       "      <th>322825</th>\n",
       "      <td>autorizacion integral vial monclova coahuila p...</td>\n",
       "      <td>322825</td>\n",
       "    </tr>\n",
       "    <tr>\n",
       "      <th>323358</th>\n",
       "      <td>querer creacion municipio mexicano utilizar as...</td>\n",
       "      <td>323358</td>\n",
       "    </tr>\n",
       "    <tr>\n",
       "      <th>324809</th>\n",
       "      <td>transparecia secretario gobernacion segob acud...</td>\n",
       "      <td>324809</td>\n",
       "    </tr>\n",
       "  </tbody>\n",
       "</table>\n",
       "</div>"
      ],
      "text/plain": [
       "                               descripcionsolicitud_lemma   index\n",
       "321460   municipal salariar vestir paginar sacar salariar  321460\n",
       "322024  listar demandar potencial espacio depositar re...  322024\n",
       "322825  autorizacion integral vial monclova coahuila p...  322825\n",
       "323358  querer creacion municipio mexicano utilizar as...  323358\n",
       "324809  transparecia secretario gobernacion segob acud...  324809"
      ]
     },
     "execution_count": 91,
     "metadata": {},
     "output_type": "execute_result"
    }
   ],
   "source": [
    "docs.head()"
   ]
  },
  {
   "cell_type": "code",
   "execution_count": 92,
   "metadata": {},
   "outputs": [],
   "source": [
    "import spacy\n",
    "import nltk\n",
    "from nltk import SnowballStemmer"
   ]
  },
  {
   "cell_type": "code",
   "execution_count": 93,
   "metadata": {},
   "outputs": [],
   "source": [
    "nlp = spacy.load('es_core_news_sm')"
   ]
  },
  {
   "cell_type": "code",
   "execution_count": 94,
   "metadata": {},
   "outputs": [],
   "source": [
    "def ProcesarTexto(texto):\n",
    "    \n",
    "    doc = nlp(texto)\n",
    "    words = [t.text for t in doc]\n",
    "    \n",
    "    return words"
   ]
  },
  {
   "cell_type": "code",
   "execution_count": 95,
   "metadata": {},
   "outputs": [],
   "source": [
    "import multiprocessing\n",
    "from multiprocessing.dummy import Pool as ThreadPool"
   ]
  },
  {
   "cell_type": "code",
   "execution_count": 96,
   "metadata": {},
   "outputs": [
    {
     "data": {
      "text/plain": [
       "12"
      ]
     },
     "execution_count": 96,
     "metadata": {},
     "output_type": "execute_result"
    }
   ],
   "source": [
    "cores = multiprocessing.cpu_count()\n",
    "pool = ThreadPool(cores)\n",
    "cores"
   ]
  },
  {
   "cell_type": "code",
   "execution_count": 97,
   "metadata": {},
   "outputs": [],
   "source": [
    "processed_docs = pool.map(ProcesarTexto, docs['descripcionsolicitud_lemma'])\n",
    "pool.close()"
   ]
  },
  {
   "cell_type": "code",
   "execution_count": 98,
   "metadata": {},
   "outputs": [],
   "source": [
    "import gensim"
   ]
  },
  {
   "cell_type": "code",
   "execution_count": 99,
   "metadata": {},
   "outputs": [],
   "source": [
    "dictionary = gensim.corpora.Dictionary(processed_docs)"
   ]
  },
  {
   "cell_type": "code",
   "execution_count": 100,
   "metadata": {},
   "outputs": [],
   "source": [
    "dictionary.filter_extremes(no_below=15, no_above=0.5, keep_n=100000)"
   ]
  },
  {
   "cell_type": "code",
   "execution_count": 101,
   "metadata": {},
   "outputs": [],
   "source": [
    "bow_corpus = [dictionary.doc2bow(doc) for doc in processed_docs]"
   ]
  },
  {
   "cell_type": "code",
   "execution_count": 102,
   "metadata": {},
   "outputs": [],
   "source": [
    "from gensim import corpora, models\n",
    "from pprint import pprint"
   ]
  },
  {
   "cell_type": "code",
   "execution_count": 103,
   "metadata": {},
   "outputs": [],
   "source": [
    "tfidf = models.TfidfModel(bow_corpus)\n",
    "corpus_tfidf = tfidf[bow_corpus]"
   ]
  },
  {
   "cell_type": "markdown",
   "metadata": {},
   "source": [
    "### 20 tópicos TF-IDF"
   ]
  },
  {
   "cell_type": "code",
   "execution_count": 104,
   "metadata": {},
   "outputs": [],
   "source": [
    "lda_model_tfidf_20 = gensim.models.LdaMulticore(corpus_tfidf, \n",
    "                                            num_topics=20,\n",
    "                                            id2word=dictionary,\n",
    "                                            passes=2,\n",
    "                                            workers=cores)"
   ]
  },
  {
   "cell_type": "code",
   "execution_count": 105,
   "metadata": {},
   "outputs": [
    {
     "name": "stdout",
     "output_type": "stream",
     "text": [
      "Topic: 0 Word: 0.007*\"secretario\" + 0.007*\"direccion\" + 0.006*\"gobernacion\" + 0.005*\"radiar\" + 0.005*\"federal\" + 0.005*\"gracia\" + 0.005*\"television\" + 0.004*\"presupuestar\" + 0.004*\"realizar\" + 0.004*\"publicar\"\n",
      "Topic: 1 Word: 0.007*\"presupuestar\" + 0.006*\"federal\" + 0.005*\"gobernar\" + 0.005*\"victimar\" + 0.005*\"publicar\" + 0.005*\"ceav\" + 0.004*\"informar\" + 0.004*\"tipo\" + 0.004*\"gracia\" + 0.004*\"servidor\"\n",
      "Topic: 2 Word: 0.007*\"victimar\" + 0.006*\"busqueda\" + 0.006*\"informar\" + 0.005*\"comision\" + 0.005*\"sorteo\" + 0.005*\"juego\" + 0.004*\"federal\" + 0.004*\"direccion\" + 0.004*\"secretario\" + 0.004*\"fondo\"\n",
      "Topic: 3 Word: 0.006*\"victimar\" + 0.005*\"casar\" + 0.005*\"federal\" + 0.005*\"informar\" + 0.004*\"comision\" + 0.004*\"humano\" + 0.004*\"delito\" + 0.004*\"municipio\" + 0.004*\"secretario\" + 0.004*\"caso\"\n",
      "Topic: 4 Word: 0.005*\"federal\" + 0.005*\"secretario\" + 0.004*\"direccion\" + 0.004*\"mexicano\" + 0.004*\"periodo\" + 0.004*\"violencia\" + 0.004*\"articular\" + 0.003*\"municipio\" + 0.003*\"informar\" + 0.003*\"humano\"\n",
      "Topic: 5 Word: 0.006*\"desastre\" + 0.006*\"otorgar\" + 0.005*\"victimar\" + 0.005*\"natural\" + 0.005*\"montar\" + 0.005*\"secretario\" + 0.005*\"informar\" + 0.004*\"partir\" + 0.004*\"municipio\" + 0.004*\"sistema\"\n",
      "Topic: 6 Word: 0.008*\"manual\" + 0.007*\"publicar\" + 0.006*\"secretario\" + 0.006*\"oficial\" + 0.006*\"federal\" + 0.005*\"organizacion\" + 0.005*\"procedimiento\" + 0.005*\"organigrama\" + 0.005*\"dictamenes\" + 0.005*\"celebrar\"\n",
      "Topic: 7 Word: 0.005*\"seguridad\" + 0.004*\"secretario\" + 0.004*\"utilizar\" + 0.004*\"tabasco\" + 0.004*\"migrante\" + 0.004*\"direccion\" + 0.004*\"federal\" + 0.004*\"chiapas\" + 0.004*\"etnicos\" + 0.004*\"racial\"\n",
      "Topic: 8 Word: 0.010*\"victimar\" + 0.005*\"secretario\" + 0.005*\"periodo\" + 0.005*\"ayudar\" + 0.004*\"comision\" + 0.004*\"reparacion\" + 0.004*\"integral\" + 0.004*\"querer\" + 0.004*\"informar\" + 0.004*\"casar\"\n",
      "Topic: 9 Word: 0.008*\"victimar\" + 0.006*\"ceav\" + 0.005*\"montar\" + 0.005*\"federal\" + 0.005*\"municipio\" + 0.005*\"fonden\" + 0.005*\"periodo\" + 0.005*\"humano\" + 0.004*\"gobernar\" + 0.004*\"secretario\"\n",
      "Topic: 10 Word: 0.006*\"seguridad\" + 0.006*\"secretario\" + 0.005*\"victimar\" + 0.005*\"documentar\" + 0.005*\"gobernar\" + 0.004*\"informar\" + 0.004*\"integral\" + 0.004*\"direccion\" + 0.004*\"relacion\" + 0.004*\"gobernacion\"\n",
      "Topic: 11 Word: 0.011*\"gobernacion\" + 0.011*\"secretario\" + 0.005*\"denunciar\" + 0.005*\"tipo\" + 0.004*\"publicar\" + 0.004*\"direccion\" + 0.004*\"documentar\" + 0.004*\"victimar\" + 0.004*\"otorgar\" + 0.004*\"periodo\"\n",
      "Topic: 12 Word: 0.011*\"remuneracion\" + 0.010*\"servidor\" + 0.009*\"tipo\" + 0.008*\"publicar\" + 0.006*\"honorario\" + 0.006*\"sistema\" + 0.006*\"bruto\" + 0.006*\"soldar\" + 0.006*\"neto\" + 0.006*\"nominar\"\n",
      "Topic: 13 Word: 0.007*\"sismo\" + 0.007*\"septiembre\" + 0.006*\"secretario\" + 0.006*\"municipio\" + 0.005*\"gobernar\" + 0.005*\"documentar\" + 0.005*\"federal\" + 0.005*\"informar\" + 0.004*\"violencia\" + 0.004*\"gobernacion\"\n",
      "Topic: 14 Word: 0.005*\"victimar\" + 0.005*\"municipio\" + 0.005*\"desglosar\" + 0.005*\"secretario\" + 0.004*\"presupuestar\" + 0.004*\"requerir\" + 0.004*\"informar\" + 0.004*\"violencia\" + 0.004*\"delito\" + 0.004*\"generar\"\n",
      "Topic: 15 Word: 0.007*\"proteccion\" + 0.007*\"periodista\" + 0.006*\"defensor\" + 0.006*\"humano\" + 0.006*\"mecanismo\" + 0.005*\"documentar\" + 0.005*\"informar\" + 0.005*\"federal\" + 0.005*\"victimar\" + 0.004*\"secretario\"\n",
      "Topic: 16 Word: 0.006*\"federal\" + 0.006*\"seguridad\" + 0.005*\"empresa\" + 0.005*\"mujer\" + 0.004*\"secretario\" + 0.004*\"prevencion\" + 0.004*\"informar\" + 0.004*\"social\" + 0.004*\"violencia\" + 0.004*\"publicar\"\n",
      "Topic: 17 Word: 0.008*\"alertar\" + 0.007*\"generar\" + 0.006*\"violencia\" + 0.006*\"secretario\" + 0.005*\"servidor\" + 0.005*\"federal\" + 0.005*\"declaratorio\" + 0.005*\"periodo\" + 0.005*\"informar\" + 0.004*\"victimar\"\n",
      "Topic: 18 Word: 0.006*\"humano\" + 0.005*\"victimar\" + 0.005*\"formato\" + 0.005*\"proteccion\" + 0.005*\"facturar\" + 0.005*\"defensor\" + 0.005*\"periodista\" + 0.005*\"secretario\" + 0.005*\"mecanismo\" + 0.004*\"requerir\"\n",
      "Topic: 19 Word: 0.006*\"secretario\" + 0.006*\"humano\" + 0.006*\"seguridad\" + 0.005*\"municipio\" + 0.005*\"informar\" + 0.004*\"federal\" + 0.004*\"gobernacion\" + 0.004*\"proteccion\" + 0.004*\"tipo\" + 0.004*\"victimar\"\n"
     ]
    }
   ],
   "source": [
    "for idx, topic in lda_model_tfidf_20.print_topics(-1):\n",
    "    print('Topic: {} Word: {}'.format(idx, topic))"
   ]
  },
  {
   "cell_type": "markdown",
   "metadata": {},
   "source": [
    "### Guardamos en S3"
   ]
  },
  {
   "cell_type": "code",
   "execution_count": null,
   "metadata": {},
   "outputs": [],
   "source": [
    "bucket='inai-summerofdata'\n",
    "key='modeling/LDA/4/segob/df_segob.pkl'\n",
    "pickle_byte_obj = pickle.dumps(df_segob)\n",
    "s3_resource = boto3.resource('s3')\n",
    "s3_resource.Object(bucket, key).put(Body=pickle_byte_obj)"
   ]
  },
  {
   "cell_type": "code",
   "execution_count": null,
   "metadata": {},
   "outputs": [],
   "source": [
    "bucket='inai-summerofdata'\n",
    "key='modeling/LDA/4/segob/processed_docs.pkl'\n",
    "pickle_byte_obj = pickle.dumps(processed_docs)\n",
    "s3_resource = boto3.resource('s3')\n",
    "s3_resource.Object(bucket, key).put(Body=pickle_byte_obj)"
   ]
  },
  {
   "cell_type": "code",
   "execution_count": null,
   "metadata": {},
   "outputs": [],
   "source": [
    "bucket='inai-summerofdata'\n",
    "key='modeling/LDA/4/segob/lda_model_tfidf_20.pkl'\n",
    "pickle_byte_obj = pickle.dumps(lda_model_tfidf_20)\n",
    "s3_resource = boto3.resource('s3')\n",
    "s3_resource.Object(bucket, key).put(Body=pickle_byte_obj)"
   ]
  },
  {
   "cell_type": "markdown",
   "metadata": {},
   "source": [
    "# sedena + semar"
   ]
  },
  {
   "cell_type": "code",
   "execution_count": 109,
   "metadata": {},
   "outputs": [],
   "source": [
    "filtro = (df_new['dependencia_clean'] == 'sedena') | (df_new['dependencia_clean'] == 'semar')\n",
    "df_sedena = df_new[filtro]"
   ]
  },
  {
   "cell_type": "code",
   "execution_count": 110,
   "metadata": {},
   "outputs": [
    {
     "name": "stdout",
     "output_type": "stream",
     "text": [
      "<class 'pandas.core.frame.DataFrame'>\n",
      "Int64Index: 10159 entries, 35 to 1559006\n",
      "Data columns (total 31 columns):\n",
      " #   Column                         Non-Null Count  Dtype         \n",
      "---  ------                         --------------  -----         \n",
      " 0   folio                          10159 non-null  object        \n",
      " 1   fechasolicitud                 10159 non-null  datetime64[ns]\n",
      " 2   dependencia                    10159 non-null  object        \n",
      " 3   estatus                        10159 non-null  object        \n",
      " 4   medioentrada                   10159 non-null  object        \n",
      " 5   tiposolicitud                  10159 non-null  object        \n",
      " 6   descripcionsolicitud           10159 non-null  object        \n",
      " 7   otrosdatos                     10159 non-null  object        \n",
      " 8   archivoadjuntosolicitud        10159 non-null  object        \n",
      " 9   medioentrega                   10159 non-null  object        \n",
      " 10  fechalimite                    10153 non-null  datetime64[ns]\n",
      " 11  respuesta                      10159 non-null  object        \n",
      " 12  textorespuesta                 10159 non-null  object        \n",
      " 13  archivorespuesta               10159 non-null  object        \n",
      " 14  fecharespuesta                 10159 non-null  datetime64[ns]\n",
      " 15  pais                           10159 non-null  object        \n",
      " 16  estado                         10159 non-null  object        \n",
      " 17  municipio                      10159 non-null  object        \n",
      " 18  codigopostal                   10159 non-null  object        \n",
      " 19  sector                         10159 non-null  object        \n",
      " 20  tipo_archivo_respuesta         10159 non-null  object        \n",
      " 21  cantidad_archivos_respuesta    9197 non-null   float64       \n",
      " 22  texto_respuesta_adjunto        10159 non-null  object        \n",
      " 23  respuestareal                  10159 non-null  object        \n",
      " 24  calidad_respuesta              10159 non-null  object        \n",
      " 25  calidad_respuesta_real         10159 non-null  object        \n",
      " 26  solicitud_longitud             10159 non-null  int64         \n",
      " 27  descripcionsolicitud_lemma     10159 non-null  object        \n",
      " 28  codigo_calidad_respuesta_real  10159 non-null  int64         \n",
      " 29  dependencia_clean              10159 non-null  object        \n",
      " 30  solicitud_lemma_longitud       10159 non-null  int64         \n",
      "dtypes: datetime64[ns](3), float64(1), int64(3), object(24)\n",
      "memory usage: 2.5+ MB\n"
     ]
    }
   ],
   "source": [
    "df_sedena.info()"
   ]
  },
  {
   "cell_type": "code",
   "execution_count": 111,
   "metadata": {},
   "outputs": [],
   "source": [
    "data = df_sedena[['descripcionsolicitud_lemma']]\n",
    "data['index'] = data.index\n",
    "docs = data"
   ]
  },
  {
   "cell_type": "code",
   "execution_count": 112,
   "metadata": {},
   "outputs": [
    {
     "data": {
      "text/html": [
       "<div>\n",
       "<style scoped>\n",
       "    .dataframe tbody tr th:only-of-type {\n",
       "        vertical-align: middle;\n",
       "    }\n",
       "\n",
       "    .dataframe tbody tr th {\n",
       "        vertical-align: top;\n",
       "    }\n",
       "\n",
       "    .dataframe thead th {\n",
       "        text-align: right;\n",
       "    }\n",
       "</style>\n",
       "<table border=\"1\" class=\"dataframe\">\n",
       "  <thead>\n",
       "    <tr style=\"text-align: right;\">\n",
       "      <th></th>\n",
       "      <th>descripcionsolicitud_lemma</th>\n",
       "      <th>index</th>\n",
       "    </tr>\n",
       "  </thead>\n",
       "  <tbody>\n",
       "    <tr>\n",
       "      <th>35</th>\n",
       "      <td>fundamentar prever articulos parrafo parrafo i...</td>\n",
       "      <td>35</td>\n",
       "    </tr>\n",
       "    <tr>\n",
       "      <th>196</th>\n",
       "      <td>echar acusasion angulo entender deber cuidar m...</td>\n",
       "      <td>196</td>\n",
       "    </tr>\n",
       "    <tr>\n",
       "      <th>220</th>\n",
       "      <td>pago realizar partir realizar montar requerir ...</td>\n",
       "      <td>220</td>\n",
       "    </tr>\n",
       "    <tr>\n",
       "      <th>3563</th>\n",
       "      <td>requerir indicar otorgar seguro separacion ind...</td>\n",
       "      <td>3563</td>\n",
       "    </tr>\n",
       "    <tr>\n",
       "      <th>3671</th>\n",
       "      <td>proporcionar medicamento material curacion for...</td>\n",
       "      <td>3671</td>\n",
       "    </tr>\n",
       "  </tbody>\n",
       "</table>\n",
       "</div>"
      ],
      "text/plain": [
       "                             descripcionsolicitud_lemma  index\n",
       "35    fundamentar prever articulos parrafo parrafo i...     35\n",
       "196   echar acusasion angulo entender deber cuidar m...    196\n",
       "220   pago realizar partir realizar montar requerir ...    220\n",
       "3563  requerir indicar otorgar seguro separacion ind...   3563\n",
       "3671  proporcionar medicamento material curacion for...   3671"
      ]
     },
     "execution_count": 112,
     "metadata": {},
     "output_type": "execute_result"
    }
   ],
   "source": [
    "docs.head()"
   ]
  },
  {
   "cell_type": "code",
   "execution_count": 113,
   "metadata": {},
   "outputs": [],
   "source": [
    "import spacy\n",
    "import nltk\n",
    "from nltk import SnowballStemmer"
   ]
  },
  {
   "cell_type": "code",
   "execution_count": 114,
   "metadata": {},
   "outputs": [],
   "source": [
    "nlp = spacy.load('es_core_news_sm')"
   ]
  },
  {
   "cell_type": "code",
   "execution_count": 115,
   "metadata": {},
   "outputs": [],
   "source": [
    "def ProcesarTexto(texto):\n",
    "    \n",
    "    doc = nlp(texto)\n",
    "    words = [t.text for t in doc]\n",
    "    \n",
    "    return words"
   ]
  },
  {
   "cell_type": "code",
   "execution_count": 116,
   "metadata": {},
   "outputs": [],
   "source": [
    "import multiprocessing\n",
    "from multiprocessing.dummy import Pool as ThreadPool"
   ]
  },
  {
   "cell_type": "code",
   "execution_count": 117,
   "metadata": {},
   "outputs": [
    {
     "data": {
      "text/plain": [
       "12"
      ]
     },
     "execution_count": 117,
     "metadata": {},
     "output_type": "execute_result"
    }
   ],
   "source": [
    "cores = multiprocessing.cpu_count()\n",
    "pool = ThreadPool(cores)\n",
    "cores"
   ]
  },
  {
   "cell_type": "code",
   "execution_count": 118,
   "metadata": {},
   "outputs": [],
   "source": [
    "processed_docs = pool.map(ProcesarTexto, docs['descripcionsolicitud_lemma'])\n",
    "pool.close()"
   ]
  },
  {
   "cell_type": "code",
   "execution_count": 119,
   "metadata": {},
   "outputs": [],
   "source": [
    "import gensim"
   ]
  },
  {
   "cell_type": "code",
   "execution_count": 120,
   "metadata": {},
   "outputs": [],
   "source": [
    "dictionary = gensim.corpora.Dictionary(processed_docs)"
   ]
  },
  {
   "cell_type": "code",
   "execution_count": 121,
   "metadata": {},
   "outputs": [],
   "source": [
    "dictionary.filter_extremes(no_below=15, no_above=0.5, keep_n=100000)"
   ]
  },
  {
   "cell_type": "code",
   "execution_count": 122,
   "metadata": {},
   "outputs": [],
   "source": [
    "bow_corpus = [dictionary.doc2bow(doc) for doc in processed_docs]"
   ]
  },
  {
   "cell_type": "code",
   "execution_count": 123,
   "metadata": {},
   "outputs": [],
   "source": [
    "from gensim import corpora, models\n",
    "from pprint import pprint"
   ]
  },
  {
   "cell_type": "code",
   "execution_count": 124,
   "metadata": {},
   "outputs": [],
   "source": [
    "tfidf = models.TfidfModel(bow_corpus)\n",
    "corpus_tfidf = tfidf[bow_corpus]"
   ]
  },
  {
   "cell_type": "markdown",
   "metadata": {},
   "source": [
    "### 20 tópicos TF-IDF"
   ]
  },
  {
   "cell_type": "code",
   "execution_count": 125,
   "metadata": {},
   "outputs": [],
   "source": [
    "lda_model_tfidf_20 = gensim.models.LdaMulticore(corpus_tfidf, \n",
    "                                            num_topics=20,\n",
    "                                            id2word=dictionary,\n",
    "                                            passes=2,\n",
    "                                            workers=cores)"
   ]
  },
  {
   "cell_type": "code",
   "execution_count": 126,
   "metadata": {},
   "outputs": [
    {
     "name": "stdout",
     "output_type": "stream",
     "text": [
      "Topic: 0 Word: 0.007*\"militar\" + 0.006*\"sedena\" + 0.006*\"secretario\" + 0.005*\"marcar\" + 0.005*\"informar\" + 0.005*\"comercializacion\" + 0.005*\"obrar\" + 0.005*\"calibrar\" + 0.005*\"municipio\" + 0.005*\"operativo\"\n",
      "Topic: 1 Word: 0.008*\"realizar\" + 0.008*\"sedena\" + 0.007*\"militar\" + 0.007*\"obrar\" + 0.007*\"aerea\" + 0.006*\"forzar\" + 0.006*\"sexo\" + 0.006*\"narcotrafico\" + 0.006*\"informar\" + 0.005*\"elemento\"\n",
      "Topic: 2 Word: 0.009*\"informar\" + 0.008*\"militar\" + 0.008*\"obrar\" + 0.007*\"secretario\" + 0.007*\"sedena\" + 0.006*\"montar\" + 0.005*\"defensa\" + 0.005*\"suministrar\" + 0.005*\"guardia\" + 0.004*\"tipo\"\n",
      "Topic: 3 Word: 0.007*\"elemento\" + 0.006*\"desglosar\" + 0.006*\"amapola\" + 0.006*\"marihuana\" + 0.006*\"militar\" + 0.005*\"municipio\" + 0.005*\"asegurar\" + 0.005*\"periodo\" + 0.005*\"sedena\" + 0.005*\"mexicano\"\n",
      "Topic: 4 Word: 0.009*\"medicamento\" + 0.007*\"material\" + 0.007*\"sedena\" + 0.006*\"licitacion\" + 0.006*\"adquirir\" + 0.006*\"requerir\" + 0.006*\"gubernamental\" + 0.006*\"informar\" + 0.005*\"adjudicacion\" + 0.005*\"periodo\"\n",
      "Topic: 5 Word: 0.009*\"secretario\" + 0.008*\"defensa\" + 0.007*\"militar\" + 0.006*\"montar\" + 0.006*\"seguro\" + 0.006*\"prestación\" + 0.005*\"casar\" + 0.005*\"publicar\" + 0.005*\"remuneracion\" + 0.005*\"tipo\"\n",
      "Topic: 6 Word: 0.011*\"fuego\" + 0.010*\"licenciar\" + 0.008*\"seguridad\" + 0.008*\"portacion\" + 0.007*\"particular\" + 0.007*\"armar\" + 0.006*\"secretario\" + 0.006*\"sedena\" + 0.005*\"militar\" + 0.005*\"mensual\"\n",
      "Topic: 7 Word: 0.006*\"secretario\" + 0.006*\"armar\" + 0.006*\"social\" + 0.006*\"sedena\" + 0.005*\"militar\" + 0.005*\"fuerza\" + 0.005*\"drogar\" + 0.005*\"defensa\" + 0.005*\"medicamento\" + 0.005*\"instituto\"\n",
      "Topic: 8 Word: 0.008*\"militar\" + 0.006*\"secretario\" + 0.006*\"sedena\" + 0.006*\"desglosar\" + 0.005*\"seguridad\" + 0.005*\"tipo\" + 0.005*\"periodo\" + 0.005*\"elemento\" + 0.005*\"ejercitar\" + 0.005*\"defensa\"\n",
      "Topic: 9 Word: 0.007*\"sedena\" + 0.006*\"decomisar\" + 0.006*\"operativo\" + 0.006*\"desglosar\" + 0.006*\"militar\" + 0.006*\"secretario\" + 0.006*\"realizar\" + 0.005*\"municipio\" + 0.005*\"presupuestar\" + 0.005*\"tipo\"\n",
      "Topic: 10 Word: 0.011*\"anual\" + 0.011*\"secretario\" + 0.009*\"defensa\" + 0.009*\"sedena\" + 0.009*\"mensual\" + 0.009*\"seguridad\" + 0.007*\"querer\" + 0.007*\"invitar\" + 0.006*\"militar\" + 0.006*\"ejercer\"\n",
      "Topic: 11 Word: 0.010*\"asegurar\" + 0.009*\"informar\" + 0.008*\"militar\" + 0.008*\"desglosar\" + 0.008*\"elemento\" + 0.007*\"poblar\" + 0.007*\"tipo\" + 0.007*\"armar\" + 0.007*\"periodo\" + 0.007*\"municipio\"\n",
      "Topic: 12 Word: 0.009*\"medicamento\" + 0.009*\"armar\" + 0.007*\"mexicano\" + 0.007*\"fuerza\" + 0.007*\"seguridad\" + 0.007*\"requerir\" + 0.006*\"parrafo\" + 0.006*\"tipo\" + 0.006*\"elemento\" + 0.006*\"militar\"\n",
      "Topic: 13 Word: 0.008*\"militar\" + 0.008*\"desglosar\" + 0.006*\"tipo\" + 0.005*\"sedena\" + 0.005*\"federal\" + 0.005*\"alto\" + 0.005*\"municipio\" + 0.004*\"sexo\" + 0.004*\"informar\" + 0.004*\"operativo\"\n",
      "Topic: 14 Word: 0.009*\"denominacion\" + 0.008*\"medicamento\" + 0.006*\"secretario\" + 0.006*\"tratamiento\" + 0.005*\"militar\" + 0.005*\"informar\" + 0.005*\"sedena\" + 0.005*\"seguridad\" + 0.005*\"distintivo\" + 0.005*\"huerfano\"\n",
      "Topic: 15 Word: 0.010*\"sedena\" + 0.008*\"militar\" + 0.008*\"secretario\" + 0.006*\"casar\" + 0.006*\"tipo\" + 0.005*\"costo\" + 0.005*\"montar\" + 0.005*\"oficio\" + 0.005*\"documentacion\" + 0.005*\"sancion\"\n",
      "Topic: 16 Word: 0.011*\"militar\" + 0.008*\"informar\" + 0.006*\"sedena\" + 0.006*\"hospital\" + 0.006*\"santo\" + 0.006*\"medicar\" + 0.005*\"casar\" + 0.005*\"anexar\" + 0.005*\"municipio\" + 0.005*\"consultar\"\n",
      "Topic: 17 Word: 0.010*\"medicamento\" + 0.009*\"militar\" + 0.007*\"desagregar\" + 0.006*\"desglosar\" + 0.006*\"sedena\" + 0.005*\"issfam\" + 0.005*\"embarazar\" + 0.005*\"informar\" + 0.005*\"grupo\" + 0.004*\"secretario\"\n",
      "Topic: 18 Word: 0.012*\"militar\" + 0.007*\"sedena\" + 0.006*\"guardia\" + 0.005*\"hospital\" + 0.005*\"zona\" + 0.005*\"secretario\" + 0.005*\"armar\" + 0.005*\"convenio\" + 0.004*\"social\" + 0.004*\"estadistica\"\n",
      "Topic: 19 Word: 0.009*\"obrar\" + 0.008*\"sedena\" + 0.007*\"articular\" + 0.007*\"medicamento\" + 0.006*\"militar\" + 0.005*\"montar\" + 0.005*\"aeropuerto\" + 0.005*\"adquirir\" + 0.005*\"secretario\" + 0.005*\"armar\"\n"
     ]
    }
   ],
   "source": [
    "for idx, topic in lda_model_tfidf_20.print_topics(-1):\n",
    "    print('Topic: {} Word: {}'.format(idx, topic))"
   ]
  },
  {
   "cell_type": "markdown",
   "metadata": {},
   "source": [
    "### Guardamos en S3"
   ]
  },
  {
   "cell_type": "code",
   "execution_count": null,
   "metadata": {},
   "outputs": [],
   "source": [
    "bucket='inai-summerofdata'\n",
    "key='modeling/LDA/4/sedena/df_sedena.pkl'\n",
    "pickle_byte_obj = pickle.dumps(df_sedena)\n",
    "s3_resource = boto3.resource('s3')\n",
    "s3_resource.Object(bucket, key).put(Body=pickle_byte_obj)"
   ]
  },
  {
   "cell_type": "code",
   "execution_count": null,
   "metadata": {},
   "outputs": [],
   "source": [
    "bucket='inai-summerofdata'\n",
    "key='modeling/LDA/4/sedena/processed_docs.pkl'\n",
    "pickle_byte_obj = pickle.dumps(processed_docs)\n",
    "s3_resource = boto3.resource('s3')\n",
    "s3_resource.Object(bucket, key).put(Body=pickle_byte_obj)"
   ]
  },
  {
   "cell_type": "code",
   "execution_count": null,
   "metadata": {},
   "outputs": [],
   "source": [
    "bucket='inai-summerofdata'\n",
    "key='modeling/LDA/4/sedena/lda_model_tfidf_20.pkl'\n",
    "pickle_byte_obj = pickle.dumps(lda_model_tfidf_20)\n",
    "s3_resource = boto3.resource('s3')\n",
    "s3_resource.Object(bucket, key).put(Body=pickle_byte_obj)"
   ]
  },
  {
   "cell_type": "markdown",
   "metadata": {},
   "source": [
    "# sener + pemex + cfe (energía)"
   ]
  },
  {
   "cell_type": "code",
   "execution_count": 130,
   "metadata": {},
   "outputs": [],
   "source": [
    "filtro = (df_new['dependencia_clean'] == 'sener') | (df_new['dependencia_clean'] == 'pemex') | (df_new['dependencia_clean'] == 'cfe')\n",
    "df_energia = df_new[filtro]"
   ]
  },
  {
   "cell_type": "code",
   "execution_count": 131,
   "metadata": {},
   "outputs": [
    {
     "name": "stdout",
     "output_type": "stream",
     "text": [
      "<class 'pandas.core.frame.DataFrame'>\n",
      "Int64Index: 48484 entries, 0 to 1558986\n",
      "Data columns (total 31 columns):\n",
      " #   Column                         Non-Null Count  Dtype         \n",
      "---  ------                         --------------  -----         \n",
      " 0   folio                          48484 non-null  object        \n",
      " 1   fechasolicitud                 48484 non-null  datetime64[ns]\n",
      " 2   dependencia                    48484 non-null  object        \n",
      " 3   estatus                        48484 non-null  object        \n",
      " 4   medioentrada                   48484 non-null  object        \n",
      " 5   tiposolicitud                  48484 non-null  object        \n",
      " 6   descripcionsolicitud           48484 non-null  object        \n",
      " 7   otrosdatos                     48484 non-null  object        \n",
      " 8   archivoadjuntosolicitud        48484 non-null  object        \n",
      " 9   medioentrega                   48484 non-null  object        \n",
      " 10  fechalimite                    44412 non-null  datetime64[ns]\n",
      " 11  respuesta                      48484 non-null  object        \n",
      " 12  textorespuesta                 48484 non-null  object        \n",
      " 13  archivorespuesta               48484 non-null  object        \n",
      " 14  fecharespuesta                 48484 non-null  datetime64[ns]\n",
      " 15  pais                           48484 non-null  object        \n",
      " 16  estado                         48484 non-null  object        \n",
      " 17  municipio                      48484 non-null  object        \n",
      " 18  codigopostal                   48484 non-null  object        \n",
      " 19  sector                         48484 non-null  object        \n",
      " 20  tipo_archivo_respuesta         48484 non-null  object        \n",
      " 21  cantidad_archivos_respuesta    34326 non-null  float64       \n",
      " 22  texto_respuesta_adjunto        48484 non-null  object        \n",
      " 23  respuestareal                  48484 non-null  object        \n",
      " 24  calidad_respuesta              48484 non-null  object        \n",
      " 25  calidad_respuesta_real         48484 non-null  object        \n",
      " 26  solicitud_longitud             48484 non-null  int64         \n",
      " 27  descripcionsolicitud_lemma     48484 non-null  object        \n",
      " 28  codigo_calidad_respuesta_real  48484 non-null  int64         \n",
      " 29  dependencia_clean              48484 non-null  object        \n",
      " 30  solicitud_lemma_longitud       48484 non-null  int64         \n",
      "dtypes: datetime64[ns](3), float64(1), int64(3), object(24)\n",
      "memory usage: 11.8+ MB\n"
     ]
    }
   ],
   "source": [
    "df_energia.info()"
   ]
  },
  {
   "cell_type": "code",
   "execution_count": 132,
   "metadata": {},
   "outputs": [],
   "source": [
    "data = df_energia[['descripcionsolicitud_lemma']]\n",
    "data['index'] = data.index\n",
    "docs = data"
   ]
  },
  {
   "cell_type": "code",
   "execution_count": 133,
   "metadata": {},
   "outputs": [
    {
     "data": {
      "text/html": [
       "<div>\n",
       "<style scoped>\n",
       "    .dataframe tbody tr th:only-of-type {\n",
       "        vertical-align: middle;\n",
       "    }\n",
       "\n",
       "    .dataframe tbody tr th {\n",
       "        vertical-align: top;\n",
       "    }\n",
       "\n",
       "    .dataframe thead th {\n",
       "        text-align: right;\n",
       "    }\n",
       "</style>\n",
       "<table border=\"1\" class=\"dataframe\">\n",
       "  <thead>\n",
       "    <tr style=\"text-align: right;\">\n",
       "      <th></th>\n",
       "      <th>descripcionsolicitud_lemma</th>\n",
       "      <th>index</th>\n",
       "    </tr>\n",
       "  </thead>\n",
       "  <tbody>\n",
       "    <tr>\n",
       "      <th>0</th>\n",
       "      <td>comportamiento historico tipicos comprender es...</td>\n",
       "      <td>0</td>\n",
       "    </tr>\n",
       "    <tr>\n",
       "      <th>1</th>\n",
       "      <td>usar flujo efectivo pozo tipico aguar fria ela...</td>\n",
       "      <td>1</td>\n",
       "    </tr>\n",
       "    <tr>\n",
       "      <th>76</th>\n",
       "      <td>proporcionar monto economicos mensual convenio...</td>\n",
       "      <td>76</td>\n",
       "    </tr>\n",
       "    <tr>\n",
       "      <th>77</th>\n",
       "      <td>proporcionar relacion desglosar convenio espec...</td>\n",
       "      <td>77</td>\n",
       "    </tr>\n",
       "    <tr>\n",
       "      <th>78</th>\n",
       "      <td>proporcionar monto economicos mensual convenio...</td>\n",
       "      <td>78</td>\n",
       "    </tr>\n",
       "  </tbody>\n",
       "</table>\n",
       "</div>"
      ],
      "text/plain": [
       "                           descripcionsolicitud_lemma  index\n",
       "0   comportamiento historico tipicos comprender es...      0\n",
       "1   usar flujo efectivo pozo tipico aguar fria ela...      1\n",
       "76  proporcionar monto economicos mensual convenio...     76\n",
       "77  proporcionar relacion desglosar convenio espec...     77\n",
       "78  proporcionar monto economicos mensual convenio...     78"
      ]
     },
     "execution_count": 133,
     "metadata": {},
     "output_type": "execute_result"
    }
   ],
   "source": [
    "docs.head()"
   ]
  },
  {
   "cell_type": "code",
   "execution_count": 134,
   "metadata": {},
   "outputs": [],
   "source": [
    "import spacy\n",
    "import nltk\n",
    "from nltk import SnowballStemmer"
   ]
  },
  {
   "cell_type": "code",
   "execution_count": 135,
   "metadata": {},
   "outputs": [],
   "source": [
    "nlp = spacy.load('es_core_news_sm')"
   ]
  },
  {
   "cell_type": "code",
   "execution_count": 136,
   "metadata": {},
   "outputs": [],
   "source": [
    "def ProcesarTexto(texto):\n",
    "    \n",
    "    doc = nlp(texto)\n",
    "    words = [t.text for t in doc]\n",
    "    \n",
    "    return words"
   ]
  },
  {
   "cell_type": "code",
   "execution_count": 137,
   "metadata": {},
   "outputs": [],
   "source": [
    "import multiprocessing\n",
    "from multiprocessing.dummy import Pool as ThreadPool"
   ]
  },
  {
   "cell_type": "code",
   "execution_count": 138,
   "metadata": {},
   "outputs": [
    {
     "data": {
      "text/plain": [
       "12"
      ]
     },
     "execution_count": 138,
     "metadata": {},
     "output_type": "execute_result"
    }
   ],
   "source": [
    "cores = multiprocessing.cpu_count()\n",
    "pool = ThreadPool(cores)\n",
    "cores"
   ]
  },
  {
   "cell_type": "code",
   "execution_count": 139,
   "metadata": {},
   "outputs": [],
   "source": [
    "processed_docs = pool.map(ProcesarTexto, docs['descripcionsolicitud_lemma'])\n",
    "pool.close()"
   ]
  },
  {
   "cell_type": "code",
   "execution_count": 140,
   "metadata": {},
   "outputs": [],
   "source": [
    "import gensim"
   ]
  },
  {
   "cell_type": "code",
   "execution_count": 141,
   "metadata": {},
   "outputs": [],
   "source": [
    "dictionary = gensim.corpora.Dictionary(processed_docs)"
   ]
  },
  {
   "cell_type": "code",
   "execution_count": 142,
   "metadata": {},
   "outputs": [],
   "source": [
    "dictionary.filter_extremes(no_below=15, no_above=0.5, keep_n=100000)"
   ]
  },
  {
   "cell_type": "code",
   "execution_count": 143,
   "metadata": {},
   "outputs": [],
   "source": [
    "bow_corpus = [dictionary.doc2bow(doc) for doc in processed_docs]"
   ]
  },
  {
   "cell_type": "code",
   "execution_count": 144,
   "metadata": {},
   "outputs": [],
   "source": [
    "from gensim import corpora, models\n",
    "from pprint import pprint"
   ]
  },
  {
   "cell_type": "code",
   "execution_count": 145,
   "metadata": {},
   "outputs": [],
   "source": [
    "tfidf = models.TfidfModel(bow_corpus)\n",
    "corpus_tfidf = tfidf[bow_corpus]"
   ]
  },
  {
   "cell_type": "markdown",
   "metadata": {},
   "source": [
    "### 20 tópicos TF-IDF"
   ]
  },
  {
   "cell_type": "code",
   "execution_count": 146,
   "metadata": {},
   "outputs": [],
   "source": [
    "lda_model_tfidf_20 = gensim.models.LdaMulticore(corpus_tfidf, \n",
    "                                            num_topics=20,\n",
    "                                            id2word=dictionary,\n",
    "                                            passes=2,\n",
    "                                            workers=cores)"
   ]
  },
  {
   "cell_type": "code",
   "execution_count": 147,
   "metadata": {
    "scrolled": true
   },
   "outputs": [
    {
     "name": "stdout",
     "output_type": "stream",
     "text": [
      "Topic: 0 Word: 0.010*\"abastecimiento\" + 0.008*\"pemex\" + 0.008*\"tramitar\" + 0.007*\"industrial\" + 0.006*\"transformacion\" + 0.006*\"gasolina\" + 0.005*\"empresa\" + 0.005*\"basilio\" + 0.005*\"reyna\" + 0.005*\"ortiz\"\n",
      "Topic: 1 Word: 0.006*\"municipio\" + 0.006*\"energia\" + 0.006*\"licitacion\" + 0.006*\"fondo\" + 0.005*\"tabasco\" + 0.005*\"energetica\" + 0.005*\"empresa\" + 0.005*\"pemex\" + 0.004*\"desarrollar\" + 0.004*\"periodo\"\n",
      "Topic: 2 Word: 0.008*\"produccion\" + 0.008*\"pemex\" + 0.007*\"tabasco\" + 0.007*\"exploracion\" + 0.006*\"empresa\" + 0.005*\"refineria\" + 0.005*\"antiguedad\" + 0.004*\"hidalgo\" + 0.004*\"municipio\" + 0.004*\"obrar\"\n",
      "Topic: 3 Word: 0.009*\"cliente\" + 0.008*\"municipio\" + 0.008*\"consumir\" + 0.008*\"gobernar\" + 0.008*\"energia\" + 0.006*\"auditorio\" + 0.006*\"electrica\" + 0.006*\"incluir\" + 0.005*\"tarifar\" + 0.005*\"pemex\"\n",
      "Topic: 4 Word: 0.006*\"electricidad\" + 0.005*\"combustible\" + 0.005*\"comision\" + 0.005*\"municipio\" + 0.005*\"correspondiente\" + 0.005*\"federal\" + 0.005*\"pemex\" + 0.005*\"central\" + 0.005*\"california\" + 0.004*\"generacion\"\n",
      "Topic: 5 Word: 0.007*\"barril\" + 0.007*\"presupuestar\" + 0.006*\"periodo\" + 0.006*\"pemex\" + 0.005*\"empresa\" + 0.004*\"anual\" + 0.004*\"petroleos\" + 0.004*\"correspondiente\" + 0.004*\"desglosar\" + 0.004*\"laborar\"\n",
      "Topic: 6 Word: 0.009*\"pemex\" + 0.007*\"trabajador\" + 0.006*\"empresa\" + 0.005*\"desglosar\" + 0.005*\"petroleos\" + 0.005*\"laborar\" + 0.005*\"convenio\" + 0.005*\"servidor\" + 0.005*\"proporcionar\" + 0.004*\"formato\"\n",
      "Topic: 7 Word: 0.006*\"gasolina\" + 0.006*\"documentar\" + 0.006*\"tabasco\" + 0.006*\"pemex\" + 0.006*\"proporcionar\" + 0.004*\"petrolear\" + 0.004*\"empresa\" + 0.004*\"desglosar\" + 0.004*\"periodo\" + 0.004*\"firmar\"\n",
      "Topic: 8 Word: 0.010*\"pemex\" + 0.009*\"empresa\" + 0.006*\"produccion\" + 0.005*\"exploracion\" + 0.005*\"laborar\" + 0.005*\"confianza\" + 0.005*\"informar\" + 0.005*\"celebrar\" + 0.004*\"petroquimica\" + 0.004*\"filial\"\n",
      "Topic: 9 Word: 0.007*\"municipio\" + 0.007*\"combustible\" + 0.006*\"robar\" + 0.006*\"pemex\" + 0.005*\"montar\" + 0.005*\"listar\" + 0.004*\"tabasco\" + 0.004*\"desglosar\" + 0.004*\"empresa\" + 0.004*\"firmar\"\n",
      "Topic: 10 Word: 0.008*\"pemex\" + 0.006*\"produccion\" + 0.006*\"exploracion\" + 0.005*\"empresa\" + 0.005*\"trabajador\" + 0.005*\"petroleos\" + 0.005*\"control\" + 0.005*\"periodo\" + 0.005*\"convenio\" + 0.005*\"firmar\"\n",
      "Topic: 11 Word: 0.008*\"pemex\" + 0.007*\"produccion\" + 0.007*\"exploracion\" + 0.007*\"celebrar\" + 0.006*\"empresa\" + 0.005*\"tipo\" + 0.005*\"derivar\" + 0.005*\"completo\" + 0.004*\"portal\" + 0.004*\"legible\"\n",
      "Topic: 12 Word: 0.017*\"janai\" + 0.016*\"melgoza\" + 0.016*\"margarita\" + 0.016*\"rojo\" + 0.016*\"remuneracion\" + 0.016*\"corresponder\" + 0.016*\"deducción\" + 0.016*\"cordial\" + 0.014*\"laborar\" + 0.014*\"indicar\"\n",
      "Topic: 13 Word: 0.020*\"clandestino\" + 0.020*\"tomar\" + 0.009*\"municipio\" + 0.008*\"pemex\" + 0.007*\"desglosar\" + 0.007*\"hidrocarburo\" + 0.007*\"detectar\" + 0.006*\"robar\" + 0.006*\"ductos\" + 0.005*\"informar\"\n",
      "Topic: 14 Word: 0.008*\"produccion\" + 0.008*\"exploracion\" + 0.008*\"pemex\" + 0.005*\"central\" + 0.005*\"empresa\" + 0.005*\"legible\" + 0.004*\"completo\" + 0.004*\"transmision\" + 0.004*\"convenio\" + 0.004*\"totalidad\"\n",
      "Topic: 15 Word: 0.006*\"pemex\" + 0.004*\"medicamento\" + 0.004*\"tipo\" + 0.004*\"produccion\" + 0.004*\"formato\" + 0.004*\"informar\" + 0.004*\"producto\" + 0.004*\"municipio\" + 0.004*\"empresa\" + 0.003*\"exploracion\"\n",
      "Topic: 16 Word: 0.007*\"pemex\" + 0.006*\"produccion\" + 0.005*\"social\" + 0.005*\"producir\" + 0.004*\"exploracion\" + 0.004*\"hidrocarburo\" + 0.004*\"combustible\" + 0.004*\"empresa\" + 0.004*\"desglosar\" + 0.004*\"impactar\"\n",
      "Topic: 17 Word: 0.007*\"pemex\" + 0.007*\"produccion\" + 0.005*\"exploracion\" + 0.005*\"proporcionar\" + 0.004*\"empresa\" + 0.004*\"periodo\" + 0.004*\"director\" + 0.004*\"formato\" + 0.004*\"facturar\" + 0.004*\"relacion\"\n",
      "Topic: 18 Word: 0.006*\"pemex\" + 0.005*\"acta\" + 0.005*\"convenio\" + 0.004*\"publicar\" + 0.004*\"documentar\" + 0.004*\"empresa\" + 0.004*\"obrar\" + 0.004*\"municipio\" + 0.004*\"produccion\" + 0.004*\"requerir\"\n",
      "Topic: 19 Word: 0.006*\"municipio\" + 0.006*\"pemex\" + 0.006*\"energia\" + 0.005*\"produccion\" + 0.004*\"ubicar\" + 0.004*\"empresa\" + 0.004*\"barril\" + 0.004*\"tabasco\" + 0.004*\"electrica\" + 0.004*\"montar\"\n"
     ]
    }
   ],
   "source": [
    "for idx, topic in lda_model_tfidf_20.print_topics(-1):\n",
    "    print('Topic: {} Word: {}'.format(idx, topic))"
   ]
  },
  {
   "cell_type": "markdown",
   "metadata": {},
   "source": [
    "### Guardamos en S3"
   ]
  },
  {
   "cell_type": "code",
   "execution_count": null,
   "metadata": {},
   "outputs": [],
   "source": [
    "bucket='inai-summerofdata'\n",
    "key='modeling/LDA/4/energia/df_energia.pkl'\n",
    "pickle_byte_obj = pickle.dumps(df_energia)\n",
    "s3_resource = boto3.resource('s3')\n",
    "s3_resource.Object(bucket, key).put(Body=pickle_byte_obj)"
   ]
  },
  {
   "cell_type": "code",
   "execution_count": null,
   "metadata": {},
   "outputs": [],
   "source": [
    "bucket='inai-summerofdata'\n",
    "key='modeling/LDA/4/energia/processed_docs.pkl'\n",
    "pickle_byte_obj = pickle.dumps(processed_docs)\n",
    "s3_resource = boto3.resource('s3')\n",
    "s3_resource.Object(bucket, key).put(Body=pickle_byte_obj)"
   ]
  },
  {
   "cell_type": "code",
   "execution_count": null,
   "metadata": {},
   "outputs": [],
   "source": [
    "bucket='inai-summerofdata'\n",
    "key='modeling/LDA/4/energia/lda_model_tfidf_20.pkl'\n",
    "pickle_byte_obj = pickle.dumps(lda_model_tfidf_20)\n",
    "s3_resource = boto3.resource('s3')\n",
    "s3_resource.Object(bucket, key).put(Body=pickle_byte_obj)"
   ]
  },
  {
   "cell_type": "markdown",
   "metadata": {},
   "source": [
    "# shcp"
   ]
  },
  {
   "cell_type": "code",
   "execution_count": 151,
   "metadata": {},
   "outputs": [],
   "source": [
    "filtro = (df_new['dependencia_clean'] == 'shcp') \n",
    "df_shcp = df_new[filtro]"
   ]
  },
  {
   "cell_type": "code",
   "execution_count": 152,
   "metadata": {},
   "outputs": [
    {
     "name": "stdout",
     "output_type": "stream",
     "text": [
      "<class 'pandas.core.frame.DataFrame'>\n",
      "Int64Index: 15905 entries, 320536 to 1558995\n",
      "Data columns (total 31 columns):\n",
      " #   Column                         Non-Null Count  Dtype         \n",
      "---  ------                         --------------  -----         \n",
      " 0   folio                          15905 non-null  object        \n",
      " 1   fechasolicitud                 15905 non-null  datetime64[ns]\n",
      " 2   dependencia                    15905 non-null  object        \n",
      " 3   estatus                        15905 non-null  object        \n",
      " 4   medioentrada                   15905 non-null  object        \n",
      " 5   tiposolicitud                  15905 non-null  object        \n",
      " 6   descripcionsolicitud           15905 non-null  object        \n",
      " 7   otrosdatos                     15905 non-null  object        \n",
      " 8   archivoadjuntosolicitud        15905 non-null  object        \n",
      " 9   medioentrega                   15905 non-null  object        \n",
      " 10  fechalimite                    15420 non-null  datetime64[ns]\n",
      " 11  respuesta                      15905 non-null  object        \n",
      " 12  textorespuesta                 15905 non-null  object        \n",
      " 13  archivorespuesta               15905 non-null  object        \n",
      " 14  fecharespuesta                 15905 non-null  datetime64[ns]\n",
      " 15  pais                           15905 non-null  object        \n",
      " 16  estado                         15905 non-null  object        \n",
      " 17  municipio                      15905 non-null  object        \n",
      " 18  codigopostal                   15905 non-null  object        \n",
      " 19  sector                         15905 non-null  object        \n",
      " 20  tipo_archivo_respuesta         15905 non-null  object        \n",
      " 21  cantidad_archivos_respuesta    11285 non-null  float64       \n",
      " 22  texto_respuesta_adjunto        15905 non-null  object        \n",
      " 23  respuestareal                  15905 non-null  object        \n",
      " 24  calidad_respuesta              15905 non-null  object        \n",
      " 25  calidad_respuesta_real         15905 non-null  object        \n",
      " 26  solicitud_longitud             15905 non-null  int64         \n",
      " 27  descripcionsolicitud_lemma     15905 non-null  object        \n",
      " 28  codigo_calidad_respuesta_real  15905 non-null  int64         \n",
      " 29  dependencia_clean              15905 non-null  object        \n",
      " 30  solicitud_lemma_longitud       15905 non-null  int64         \n",
      "dtypes: datetime64[ns](3), float64(1), int64(3), object(24)\n",
      "memory usage: 3.9+ MB\n"
     ]
    }
   ],
   "source": [
    "df_shcp.info()"
   ]
  },
  {
   "cell_type": "code",
   "execution_count": 153,
   "metadata": {},
   "outputs": [],
   "source": [
    "data = df_shcp[['descripcionsolicitud_lemma']]\n",
    "data['index'] = data.index\n",
    "docs = data"
   ]
  },
  {
   "cell_type": "code",
   "execution_count": 154,
   "metadata": {},
   "outputs": [
    {
     "data": {
      "text/html": [
       "<div>\n",
       "<style scoped>\n",
       "    .dataframe tbody tr th:only-of-type {\n",
       "        vertical-align: middle;\n",
       "    }\n",
       "\n",
       "    .dataframe tbody tr th {\n",
       "        vertical-align: top;\n",
       "    }\n",
       "\n",
       "    .dataframe thead th {\n",
       "        text-align: right;\n",
       "    }\n",
       "</style>\n",
       "<table border=\"1\" class=\"dataframe\">\n",
       "  <thead>\n",
       "    <tr style=\"text-align: right;\">\n",
       "      <th></th>\n",
       "      <th>descripcionsolicitud_lemma</th>\n",
       "      <th>index</th>\n",
       "    </tr>\n",
       "  </thead>\n",
       "  <tbody>\n",
       "    <tr>\n",
       "      <th>320536</th>\n",
       "      <td>corresponder informar celebrar motors corporat...</td>\n",
       "      <td>320536</td>\n",
       "    </tr>\n",
       "    <tr>\n",
       "      <th>322142</th>\n",
       "      <td>cantar invirtio municipio santiago infraestruc...</td>\n",
       "      <td>322142</td>\n",
       "    </tr>\n",
       "    <tr>\n",
       "      <th>322836</th>\n",
       "      <td>economicos rubro municipio timilpan</td>\n",
       "      <td>322836</td>\n",
       "    </tr>\n",
       "    <tr>\n",
       "      <th>322958</th>\n",
       "      <td>procesar realizar prestacion aplicacion</td>\n",
       "      <td>322958</td>\n",
       "    </tr>\n",
       "    <tr>\n",
       "      <th>325354</th>\n",
       "      <td>ingreso fiscal mexicano</td>\n",
       "      <td>325354</td>\n",
       "    </tr>\n",
       "  </tbody>\n",
       "</table>\n",
       "</div>"
      ],
      "text/plain": [
       "                               descripcionsolicitud_lemma   index\n",
       "320536  corresponder informar celebrar motors corporat...  320536\n",
       "322142  cantar invirtio municipio santiago infraestruc...  322142\n",
       "322836                economicos rubro municipio timilpan  322836\n",
       "322958            procesar realizar prestacion aplicacion  322958\n",
       "325354                            ingreso fiscal mexicano  325354"
      ]
     },
     "execution_count": 154,
     "metadata": {},
     "output_type": "execute_result"
    }
   ],
   "source": [
    "docs.head()"
   ]
  },
  {
   "cell_type": "code",
   "execution_count": 155,
   "metadata": {},
   "outputs": [],
   "source": [
    "import spacy\n",
    "import nltk\n",
    "from nltk import SnowballStemmer"
   ]
  },
  {
   "cell_type": "code",
   "execution_count": 156,
   "metadata": {},
   "outputs": [],
   "source": [
    "nlp = spacy.load('es_core_news_sm')"
   ]
  },
  {
   "cell_type": "code",
   "execution_count": 157,
   "metadata": {},
   "outputs": [],
   "source": [
    "def ProcesarTexto(texto):\n",
    "    \n",
    "    doc = nlp(texto)\n",
    "    words = [t.text for t in doc]\n",
    "    \n",
    "    return words"
   ]
  },
  {
   "cell_type": "code",
   "execution_count": 158,
   "metadata": {},
   "outputs": [],
   "source": [
    "import multiprocessing\n",
    "from multiprocessing.dummy import Pool as ThreadPool"
   ]
  },
  {
   "cell_type": "code",
   "execution_count": 159,
   "metadata": {},
   "outputs": [
    {
     "data": {
      "text/plain": [
       "12"
      ]
     },
     "execution_count": 159,
     "metadata": {},
     "output_type": "execute_result"
    }
   ],
   "source": [
    "cores = multiprocessing.cpu_count()\n",
    "pool = ThreadPool(cores)\n",
    "cores"
   ]
  },
  {
   "cell_type": "code",
   "execution_count": 160,
   "metadata": {},
   "outputs": [],
   "source": [
    "processed_docs = pool.map(ProcesarTexto, docs['descripcionsolicitud_lemma'])\n",
    "pool.close()"
   ]
  },
  {
   "cell_type": "code",
   "execution_count": 161,
   "metadata": {},
   "outputs": [],
   "source": [
    "import gensim"
   ]
  },
  {
   "cell_type": "code",
   "execution_count": 162,
   "metadata": {},
   "outputs": [],
   "source": [
    "dictionary = gensim.corpora.Dictionary(processed_docs)"
   ]
  },
  {
   "cell_type": "code",
   "execution_count": 163,
   "metadata": {},
   "outputs": [],
   "source": [
    "dictionary.filter_extremes(no_below=15, no_above=0.5, keep_n=100000)"
   ]
  },
  {
   "cell_type": "code",
   "execution_count": 164,
   "metadata": {},
   "outputs": [],
   "source": [
    "bow_corpus = [dictionary.doc2bow(doc) for doc in processed_docs]"
   ]
  },
  {
   "cell_type": "code",
   "execution_count": 165,
   "metadata": {},
   "outputs": [],
   "source": [
    "from gensim import corpora, models\n",
    "from pprint import pprint"
   ]
  },
  {
   "cell_type": "code",
   "execution_count": 166,
   "metadata": {},
   "outputs": [],
   "source": [
    "tfidf = models.TfidfModel(bow_corpus)\n",
    "corpus_tfidf = tfidf[bow_corpus]"
   ]
  },
  {
   "cell_type": "markdown",
   "metadata": {},
   "source": [
    "### 20 tópicos TF-IDF"
   ]
  },
  {
   "cell_type": "code",
   "execution_count": 167,
   "metadata": {},
   "outputs": [],
   "source": [
    "lda_model_tfidf_20 = gensim.models.LdaMulticore(corpus_tfidf, \n",
    "                                            num_topics=20,\n",
    "                                            id2word=dictionary,\n",
    "                                            passes=2,\n",
    "                                            workers=cores)"
   ]
  },
  {
   "cell_type": "code",
   "execution_count": 168,
   "metadata": {},
   "outputs": [
    {
     "name": "stdout",
     "output_type": "stream",
     "text": [
      "Topic: 0 Word: 0.012*\"secretario\" + 0.009*\"aplicar\" + 0.008*\"hacendar\" + 0.008*\"plaza\" + 0.007*\"perteneciente\" + 0.007*\"anualidad\" + 0.007*\"incrementar\" + 0.007*\"publicar\" + 0.007*\"credito\" + 0.007*\"informar\"\n",
      "Topic: 1 Word: 0.014*\"remuneracion\" + 0.012*\"servidor\" + 0.010*\"tipo\" + 0.009*\"publicar\" + 0.007*\"proporcionar\" + 0.007*\"ingresar\" + 0.007*\"compensacion\" + 0.007*\"deducción\" + 0.007*\"permitir\" + 0.007*\"vincular\"\n",
      "Topic: 2 Word: 0.007*\"seguro\" + 0.006*\"federal\" + 0.005*\"municipio\" + 0.005*\"secretario\" + 0.005*\"montar\" + 0.005*\"sociedad\" + 0.004*\"publicar\" + 0.004*\"documentar\" + 0.004*\"gobernar\" + 0.004*\"presupuestar\"\n",
      "Topic: 3 Word: 0.008*\"plagar\" + 0.008*\"fumigacion\" + 0.006*\"control\" + 0.006*\"vazquez\" + 0.006*\"nava\" + 0.006*\"contratacion\" + 0.006*\"federal\" + 0.005*\"consultor\" + 0.005*\"publicar\" + 0.005*\"servidor\"\n",
      "Topic: 4 Word: 0.011*\"facturar\" + 0.008*\"secretario\" + 0.007*\"credito\" + 0.006*\"informatica\" + 0.006*\"hacendar\" + 0.006*\"publicar\" + 0.005*\"informar\" + 0.005*\"institucion\" + 0.005*\"financiero\" + 0.005*\"maderar\"\n",
      "Topic: 5 Word: 0.006*\"publicar\" + 0.005*\"extintor\" + 0.005*\"fiscal\" + 0.005*\"periodo\" + 0.005*\"tipo\" + 0.004*\"secretario\" + 0.004*\"gasolina\" + 0.004*\"presupuestar\" + 0.004*\"montar\" + 0.004*\"servidor\"\n",
      "Topic: 6 Word: 0.009*\"secretario\" + 0.007*\"hacendar\" + 0.007*\"publicar\" + 0.007*\"credito\" + 0.006*\"federal\" + 0.006*\"gobernar\" + 0.005*\"presupuestar\" + 0.005*\"fiscal\" + 0.005*\"fondo\" + 0.004*\"montar\"\n",
      "Topic: 7 Word: 0.006*\"tramitar\" + 0.006*\"fiscal\" + 0.005*\"domiciliar\" + 0.005*\"secretario\" + 0.005*\"periodo\" + 0.004*\"montar\" + 0.004*\"federal\" + 0.004*\"municipio\" + 0.004*\"casar\" + 0.004*\"publicar\"\n",
      "Topic: 8 Word: 0.008*\"presupuestar\" + 0.005*\"destinar\" + 0.005*\"federal\" + 0.005*\"fiscal\" + 0.004*\"informar\" + 0.004*\"fondo\" + 0.004*\"montar\" + 0.004*\"secretario\" + 0.004*\"tramitar\" + 0.004*\"requerir\"\n",
      "Topic: 9 Word: 0.018*\"tramitar\" + 0.008*\"padron\" + 0.008*\"periodo\" + 0.007*\"contratista\" + 0.006*\"montar\" + 0.005*\"recibir\" + 0.005*\"presupuestar\" + 0.005*\"institucion\" + 0.005*\"enajenación\" + 0.005*\"responsable\"\n",
      "Topic: 10 Word: 0.007*\"secretario\" + 0.006*\"publicar\" + 0.005*\"credito\" + 0.005*\"federal\" + 0.005*\"hacendar\" + 0.005*\"periodo\" + 0.004*\"empresa\" + 0.004*\"tramitar\" + 0.004*\"gobernar\" + 0.004*\"montar\"\n",
      "Topic: 11 Word: 0.007*\"publicar\" + 0.006*\"federal\" + 0.005*\"secretario\" + 0.005*\"impuesto\" + 0.005*\"informar\" + 0.005*\"fiscal\" + 0.004*\"tramitar\" + 0.004*\"documentar\" + 0.004*\"periodo\" + 0.004*\"tipo\"\n",
      "Topic: 12 Word: 0.010*\"tramitar\" + 0.005*\"plazo\" + 0.005*\"requisito\" + 0.005*\"federal\" + 0.005*\"imponer\" + 0.005*\"costo\" + 0.004*\"secretario\" + 0.004*\"publicar\" + 0.004*\"responsable\" + 0.004*\"periodo\"\n",
      "Topic: 13 Word: 0.005*\"secretario\" + 0.005*\"federal\" + 0.005*\"empresa\" + 0.005*\"firmar\" + 0.004*\"informar\" + 0.004*\"publicar\" + 0.004*\"montar\" + 0.004*\"convenio\" + 0.004*\"original\" + 0.004*\"partir\"\n",
      "Topic: 14 Word: 0.011*\"empresa\" + 0.009*\"presupuestar\" + 0.007*\"federal\" + 0.006*\"municipio\" + 0.006*\"secretario\" + 0.006*\"desglosar\" + 0.005*\"publicar\" + 0.005*\"federacion\" + 0.005*\"fondo\" + 0.005*\"fiscal\"\n",
      "Topic: 15 Word: 0.011*\"aplicar\" + 0.008*\"prestador\" + 0.008*\"servidor\" + 0.007*\"honorario\" + 0.007*\"tipo\" + 0.007*\"sueldo\" + 0.007*\"nominar\" + 0.006*\"publicar\" + 0.005*\"periodo\" + 0.005*\"seguro\"\n",
      "Topic: 16 Word: 0.007*\"organigrama\" + 0.006*\"oficial\" + 0.006*\"dictamenes\" + 0.006*\"federal\" + 0.006*\"publicar\" + 0.006*\"manual\" + 0.006*\"diario\" + 0.006*\"organizacion\" + 0.006*\"procedimiento\" + 0.005*\"respectivo\"\n",
      "Topic: 17 Word: 0.005*\"federal\" + 0.005*\"casar\" + 0.005*\"recaudar\" + 0.005*\"fiscal\" + 0.005*\"zona\" + 0.005*\"secretario\" + 0.004*\"especial\" + 0.004*\"universidad\" + 0.004*\"montar\" + 0.004*\"costo\"\n",
      "Topic: 18 Word: 0.006*\"publicar\" + 0.006*\"seguro\" + 0.005*\"tramitar\" + 0.005*\"secretario\" + 0.005*\"fiscal\" + 0.005*\"presupuestar\" + 0.004*\"requerir\" + 0.004*\"federal\" + 0.004*\"periodo\" + 0.004*\"listar\"\n",
      "Topic: 19 Word: 0.022*\"tramitar\" + 0.013*\"periodo\" + 0.009*\"comprender\" + 0.008*\"recibir\" + 0.008*\"junio\" + 0.006*\"institucion\" + 0.005*\"sustanciacion\" + 0.005*\"denegar\" + 0.005*\"llevar\" + 0.005*\"favorable\"\n"
     ]
    }
   ],
   "source": [
    "for idx, topic in lda_model_tfidf_20.print_topics(-1):\n",
    "    print('Topic: {} Word: {}'.format(idx, topic))"
   ]
  },
  {
   "cell_type": "markdown",
   "metadata": {},
   "source": [
    "### Guardamos en S3"
   ]
  },
  {
   "cell_type": "code",
   "execution_count": null,
   "metadata": {},
   "outputs": [],
   "source": [
    "bucket='inai-summerofdata'\n",
    "key='modeling/LDA/4/shcp/df_shcp.pkl'\n",
    "pickle_byte_obj = pickle.dumps(df_shcp)\n",
    "s3_resource = boto3.resource('s3')\n",
    "s3_resource.Object(bucket, key).put(Body=pickle_byte_obj)"
   ]
  },
  {
   "cell_type": "code",
   "execution_count": null,
   "metadata": {},
   "outputs": [],
   "source": [
    "bucket='inai-summerofdata'\n",
    "key='modeling/LDA/4/shcp/processed_docs.pkl'\n",
    "pickle_byte_obj = pickle.dumps(processed_docs)\n",
    "s3_resource = boto3.resource('s3')\n",
    "s3_resource.Object(bucket, key).put(Body=pickle_byte_obj)"
   ]
  },
  {
   "cell_type": "code",
   "execution_count": null,
   "metadata": {},
   "outputs": [],
   "source": [
    "bucket='inai-summerofdata'\n",
    "key='modeling/LDA/4/shcp/lda_model_tfidf_20.pkl'\n",
    "pickle_byte_obj = pickle.dumps(lda_model_tfidf_20)\n",
    "s3_resource = boto3.resource('s3')\n",
    "s3_resource.Object(bucket, key).put(Body=pickle_byte_obj)"
   ]
  },
  {
   "cell_type": "markdown",
   "metadata": {},
   "source": [
    "# sct"
   ]
  },
  {
   "cell_type": "code",
   "execution_count": 172,
   "metadata": {},
   "outputs": [],
   "source": [
    "filtro = (df_new['dependencia_clean'] == 'sct') \n",
    "df_sct = df_new[filtro]"
   ]
  },
  {
   "cell_type": "code",
   "execution_count": 173,
   "metadata": {},
   "outputs": [
    {
     "name": "stdout",
     "output_type": "stream",
     "text": [
      "<class 'pandas.core.frame.DataFrame'>\n",
      "Int64Index: 14388 entries, 178 to 1558877\n",
      "Data columns (total 31 columns):\n",
      " #   Column                         Non-Null Count  Dtype         \n",
      "---  ------                         --------------  -----         \n",
      " 0   folio                          14388 non-null  object        \n",
      " 1   fechasolicitud                 14388 non-null  datetime64[ns]\n",
      " 2   dependencia                    14388 non-null  object        \n",
      " 3   estatus                        14388 non-null  object        \n",
      " 4   medioentrada                   14388 non-null  object        \n",
      " 5   tiposolicitud                  14388 non-null  object        \n",
      " 6   descripcionsolicitud           14388 non-null  object        \n",
      " 7   otrosdatos                     14388 non-null  object        \n",
      " 8   archivoadjuntosolicitud        14388 non-null  object        \n",
      " 9   medioentrega                   14388 non-null  object        \n",
      " 10  fechalimite                    13892 non-null  datetime64[ns]\n",
      " 11  respuesta                      14388 non-null  object        \n",
      " 12  textorespuesta                 14388 non-null  object        \n",
      " 13  archivorespuesta               14388 non-null  object        \n",
      " 14  fecharespuesta                 14388 non-null  datetime64[ns]\n",
      " 15  pais                           14388 non-null  object        \n",
      " 16  estado                         14388 non-null  object        \n",
      " 17  municipio                      14388 non-null  object        \n",
      " 18  codigopostal                   14388 non-null  object        \n",
      " 19  sector                         14388 non-null  object        \n",
      " 20  tipo_archivo_respuesta         14388 non-null  object        \n",
      " 21  cantidad_archivos_respuesta    12163 non-null  float64       \n",
      " 22  texto_respuesta_adjunto        14388 non-null  object        \n",
      " 23  respuestareal                  14388 non-null  object        \n",
      " 24  calidad_respuesta              14388 non-null  object        \n",
      " 25  calidad_respuesta_real         14388 non-null  object        \n",
      " 26  solicitud_longitud             14388 non-null  int64         \n",
      " 27  descripcionsolicitud_lemma     14388 non-null  object        \n",
      " 28  codigo_calidad_respuesta_real  14388 non-null  int64         \n",
      " 29  dependencia_clean              14388 non-null  object        \n",
      " 30  solicitud_lemma_longitud       14388 non-null  int64         \n",
      "dtypes: datetime64[ns](3), float64(1), int64(3), object(24)\n",
      "memory usage: 3.5+ MB\n"
     ]
    }
   ],
   "source": [
    "df_sct.info()"
   ]
  },
  {
   "cell_type": "code",
   "execution_count": 174,
   "metadata": {},
   "outputs": [],
   "source": [
    "data = df_sct[['descripcionsolicitud_lemma']]\n",
    "data['index'] = data.index\n",
    "docs = data"
   ]
  },
  {
   "cell_type": "code",
   "execution_count": 175,
   "metadata": {},
   "outputs": [
    {
     "data": {
      "text/html": [
       "<div>\n",
       "<style scoped>\n",
       "    .dataframe tbody tr th:only-of-type {\n",
       "        vertical-align: middle;\n",
       "    }\n",
       "\n",
       "    .dataframe tbody tr th {\n",
       "        vertical-align: top;\n",
       "    }\n",
       "\n",
       "    .dataframe thead th {\n",
       "        text-align: right;\n",
       "    }\n",
       "</style>\n",
       "<table border=\"1\" class=\"dataframe\">\n",
       "  <thead>\n",
       "    <tr style=\"text-align: right;\">\n",
       "      <th></th>\n",
       "      <th>descripcionsolicitud_lemma</th>\n",
       "      <th>index</th>\n",
       "    </tr>\n",
       "  </thead>\n",
       "  <tbody>\n",
       "    <tr>\n",
       "      <th>178</th>\n",
       "      <td>precisar prestación economicas mixto gerente h...</td>\n",
       "      <td>178</td>\n",
       "    </tr>\n",
       "    <tr>\n",
       "      <th>184</th>\n",
       "      <td>precisar liquidar porcentaje totalidad aumento...</td>\n",
       "      <td>184</td>\n",
       "    </tr>\n",
       "    <tr>\n",
       "      <th>996</th>\n",
       "      <td>demandar laboral postal mexicano laudo emitir ...</td>\n",
       "      <td>996</td>\n",
       "    </tr>\n",
       "    <tr>\n",
       "      <th>1008</th>\n",
       "      <td>nominar incluir compensación demas prestación ...</td>\n",
       "      <td>1008</td>\n",
       "    </tr>\n",
       "    <tr>\n",
       "      <th>1934</th>\n",
       "      <td>conformar enlazar papel desempena organizar da...</td>\n",
       "      <td>1934</td>\n",
       "    </tr>\n",
       "  </tbody>\n",
       "</table>\n",
       "</div>"
      ],
      "text/plain": [
       "                             descripcionsolicitud_lemma  index\n",
       "178   precisar prestación economicas mixto gerente h...    178\n",
       "184   precisar liquidar porcentaje totalidad aumento...    184\n",
       "996   demandar laboral postal mexicano laudo emitir ...    996\n",
       "1008  nominar incluir compensación demas prestación ...   1008\n",
       "1934  conformar enlazar papel desempena organizar da...   1934"
      ]
     },
     "execution_count": 175,
     "metadata": {},
     "output_type": "execute_result"
    }
   ],
   "source": [
    "docs.head()"
   ]
  },
  {
   "cell_type": "code",
   "execution_count": 176,
   "metadata": {},
   "outputs": [],
   "source": [
    "import spacy\n",
    "import nltk\n",
    "from nltk import SnowballStemmer"
   ]
  },
  {
   "cell_type": "code",
   "execution_count": 177,
   "metadata": {},
   "outputs": [],
   "source": [
    "nlp = spacy.load('es_core_news_sm')"
   ]
  },
  {
   "cell_type": "code",
   "execution_count": 178,
   "metadata": {},
   "outputs": [],
   "source": [
    "def ProcesarTexto(texto):\n",
    "    \n",
    "    doc = nlp(texto)\n",
    "    words = [t.text for t in doc]\n",
    "    \n",
    "    return words"
   ]
  },
  {
   "cell_type": "code",
   "execution_count": 179,
   "metadata": {},
   "outputs": [],
   "source": [
    "import multiprocessing\n",
    "from multiprocessing.dummy import Pool as ThreadPool"
   ]
  },
  {
   "cell_type": "code",
   "execution_count": 180,
   "metadata": {},
   "outputs": [
    {
     "data": {
      "text/plain": [
       "12"
      ]
     },
     "execution_count": 180,
     "metadata": {},
     "output_type": "execute_result"
    }
   ],
   "source": [
    "cores = multiprocessing.cpu_count()\n",
    "pool = ThreadPool(cores)\n",
    "cores"
   ]
  },
  {
   "cell_type": "code",
   "execution_count": 181,
   "metadata": {},
   "outputs": [],
   "source": [
    "processed_docs = pool.map(ProcesarTexto, docs['descripcionsolicitud_lemma'])\n",
    "pool.close()"
   ]
  },
  {
   "cell_type": "code",
   "execution_count": 182,
   "metadata": {},
   "outputs": [],
   "source": [
    "import gensim"
   ]
  },
  {
   "cell_type": "code",
   "execution_count": 183,
   "metadata": {},
   "outputs": [],
   "source": [
    "dictionary = gensim.corpora.Dictionary(processed_docs)"
   ]
  },
  {
   "cell_type": "code",
   "execution_count": 184,
   "metadata": {},
   "outputs": [],
   "source": [
    "dictionary.filter_extremes(no_below=15, no_above=0.5, keep_n=100000)"
   ]
  },
  {
   "cell_type": "code",
   "execution_count": 185,
   "metadata": {},
   "outputs": [],
   "source": [
    "bow_corpus = [dictionary.doc2bow(doc) for doc in processed_docs]"
   ]
  },
  {
   "cell_type": "code",
   "execution_count": 186,
   "metadata": {},
   "outputs": [],
   "source": [
    "from gensim import corpora, models\n",
    "from pprint import pprint"
   ]
  },
  {
   "cell_type": "code",
   "execution_count": 187,
   "metadata": {},
   "outputs": [],
   "source": [
    "tfidf = models.TfidfModel(bow_corpus)\n",
    "corpus_tfidf = tfidf[bow_corpus]"
   ]
  },
  {
   "cell_type": "markdown",
   "metadata": {},
   "source": [
    "### 20 tópicos TF-IDF"
   ]
  },
  {
   "cell_type": "code",
   "execution_count": 188,
   "metadata": {},
   "outputs": [],
   "source": [
    "lda_model_tfidf_20 = gensim.models.LdaMulticore(corpus_tfidf, \n",
    "                                            num_topics=20,\n",
    "                                            id2word=dictionary,\n",
    "                                            passes=2,\n",
    "                                            workers=cores)"
   ]
  },
  {
   "cell_type": "code",
   "execution_count": 189,
   "metadata": {},
   "outputs": [
    {
     "name": "stdout",
     "output_type": "stream",
     "text": [
      "Topic: 0 Word: 0.008*\"obrar\" + 0.006*\"documentar\" + 0.006*\"carretero\" + 0.005*\"empresa\" + 0.004*\"federal\" + 0.004*\"tren\" + 0.004*\"ciudad\" + 0.004*\"secretario\" + 0.004*\"formular\" + 0.004*\"tipo\"\n",
      "Topic: 1 Word: 0.010*\"secretario\" + 0.009*\"agenciar\" + 0.009*\"espacial\" + 0.008*\"mexicano\" + 0.007*\"comunicación\" + 0.007*\"transporte\" + 0.006*\"federal\" + 0.005*\"postal\" + 0.005*\"publicar\" + 0.005*\"carretero\"\n",
      "Topic: 2 Word: 0.008*\"carretero\" + 0.007*\"empresa\" + 0.007*\"permiso\" + 0.006*\"federal\" + 0.006*\"construccion\" + 0.005*\"licitacion\" + 0.005*\"infraestructura\" + 0.005*\"obrar\" + 0.004*\"secretario\" + 0.004*\"transportar\"\n",
      "Topic: 3 Word: 0.007*\"aeropuerto\" + 0.007*\"carretero\" + 0.007*\"construccion\" + 0.006*\"secretario\" + 0.006*\"tren\" + 0.006*\"federal\" + 0.005*\"obrar\" + 0.005*\"comunicación\" + 0.005*\"transporte\" + 0.005*\"ciudad\"\n",
      "Topic: 4 Word: 0.008*\"transportar\" + 0.007*\"tarjeta\" + 0.007*\"circulacion\" + 0.007*\"obrar\" + 0.005*\"tipo\" + 0.004*\"direccion\" + 0.004*\"contratista\" + 0.004*\"presupuestar\" + 0.004*\"mexicano\" + 0.004*\"roer\"\n",
      "Topic: 5 Word: 0.008*\"permiso\" + 0.006*\"empresa\" + 0.006*\"aeropuerto\" + 0.006*\"secretario\" + 0.005*\"construccion\" + 0.004*\"comunicación\" + 0.004*\"ciudad\" + 0.004*\"transportar\" + 0.004*\"transporte\" + 0.004*\"referenciar\"\n",
      "Topic: 6 Word: 0.009*\"carretero\" + 0.007*\"arrastrar\" + 0.005*\"oficiar\" + 0.005*\"federal\" + 0.005*\"salvamento\" + 0.004*\"secretario\" + 0.004*\"tramar\" + 0.004*\"casar\" + 0.004*\"obrar\" + 0.004*\"aeropuerto\"\n",
      "Topic: 7 Word: 0.006*\"ciudad\" + 0.006*\"modelar\" + 0.005*\"arrendatario\" + 0.005*\"publicar\" + 0.005*\"vallarta\" + 0.005*\"facturar\" + 0.005*\"secretario\" + 0.005*\"institucion\" + 0.005*\"transportar\" + 0.004*\"clase\"\n",
      "Topic: 8 Word: 0.006*\"obrar\" + 0.006*\"tren\" + 0.006*\"carretero\" + 0.005*\"informar\" + 0.005*\"secretario\" + 0.005*\"interurbano\" + 0.004*\"accidente\" + 0.004*\"comunicación\" + 0.004*\"transporte\" + 0.004*\"toluca\"\n",
      "Topic: 9 Word: 0.007*\"documentar\" + 0.005*\"federal\" + 0.005*\"carretero\" + 0.005*\"montar\" + 0.004*\"santo\" + 0.004*\"informar\" + 0.004*\"postal\" + 0.004*\"social\" + 0.004*\"consultar\" + 0.004*\"secretario\"\n",
      "Topic: 10 Word: 0.013*\"permiso\" + 0.008*\"carretero\" + 0.006*\"arrastrar\" + 0.005*\"autopista\" + 0.005*\"obrar\" + 0.005*\"otorgar\" + 0.005*\"secretario\" + 0.005*\"federal\" + 0.004*\"informar\" + 0.004*\"transporte\"\n",
      "Topic: 11 Word: 0.006*\"servidor\" + 0.006*\"periodo\" + 0.006*\"centrar\" + 0.006*\"publicar\" + 0.005*\"transportar\" + 0.005*\"plaza\" + 0.005*\"comprender\" + 0.005*\"nominar\" + 0.005*\"aplicar\" + 0.005*\"firmar\"\n",
      "Topic: 12 Word: 0.005*\"modelar\" + 0.005*\"federal\" + 0.005*\"documentar\" + 0.005*\"tipo\" + 0.004*\"clase\" + 0.004*\"publicar\" + 0.004*\"secretario\" + 0.004*\"direccion\" + 0.004*\"articulos\" + 0.004*\"tramitar\"\n",
      "Topic: 13 Word: 0.006*\"permiso\" + 0.005*\"federal\" + 0.005*\"secretario\" + 0.004*\"proporcionar\" + 0.004*\"periodo\" + 0.004*\"informar\" + 0.004*\"montar\" + 0.004*\"transporte\" + 0.004*\"centrar\" + 0.004*\"aeropuerto\"\n",
      "Topic: 14 Word: 0.006*\"salarial\" + 0.006*\"secretario\" + 0.005*\"trabajador\" + 0.005*\"informar\" + 0.005*\"puerto\" + 0.005*\"evolucion\" + 0.004*\"comunicación\" + 0.004*\"direccion\" + 0.004*\"transporte\" + 0.004*\"paquete\"\n",
      "Topic: 15 Word: 0.007*\"permiso\" + 0.006*\"servidor\" + 0.006*\"kilometrar\" + 0.006*\"carretero\" + 0.005*\"remuneracion\" + 0.005*\"publicar\" + 0.005*\"tipo\" + 0.005*\"centrar\" + 0.005*\"autopista\" + 0.005*\"federal\"\n",
      "Topic: 16 Word: 0.007*\"permiso\" + 0.007*\"obrar\" + 0.007*\"presupuestar\" + 0.006*\"tren\" + 0.005*\"empresa\" + 0.004*\"construccion\" + 0.004*\"periodo\" + 0.004*\"otorgar\" + 0.004*\"licitacion\" + 0.004*\"espacial\"\n",
      "Topic: 17 Word: 0.006*\"obrar\" + 0.005*\"requerir\" + 0.005*\"empresa\" + 0.005*\"internet\" + 0.005*\"mexicano\" + 0.005*\"federal\" + 0.005*\"carretero\" + 0.004*\"centrar\" + 0.004*\"informar\" + 0.004*\"cardenas\"\n",
      "Topic: 18 Word: 0.007*\"postal\" + 0.006*\"seguro\" + 0.005*\"requerir\" + 0.005*\"carretero\" + 0.005*\"federal\" + 0.005*\"permiso\" + 0.005*\"direccion\" + 0.005*\"informar\" + 0.005*\"secretario\" + 0.004*\"empresa\"\n",
      "Topic: 19 Word: 0.009*\"aeropuerto\" + 0.005*\"concesion\" + 0.005*\"obrar\" + 0.005*\"veracruz\" + 0.005*\"permiso\" + 0.005*\"ciudad\" + 0.004*\"otorgar\" + 0.004*\"direccion\" + 0.004*\"empresa\" + 0.004*\"informar\"\n"
     ]
    }
   ],
   "source": [
    "for idx, topic in lda_model_tfidf_20.print_topics(-1):\n",
    "    print('Topic: {} Word: {}'.format(idx, topic))"
   ]
  },
  {
   "cell_type": "markdown",
   "metadata": {},
   "source": [
    "### Guardamos en S3"
   ]
  },
  {
   "cell_type": "code",
   "execution_count": null,
   "metadata": {},
   "outputs": [],
   "source": [
    "bucket='inai-summerofdata'\n",
    "key='modeling/LDA/4/sct/df_sct.pkl'\n",
    "pickle_byte_obj = pickle.dumps(df_sct)\n",
    "s3_resource = boto3.resource('s3')\n",
    "s3_resource.Object(bucket, key).put(Body=pickle_byte_obj)"
   ]
  },
  {
   "cell_type": "code",
   "execution_count": null,
   "metadata": {},
   "outputs": [],
   "source": [
    "bucket='inai-summerofdata'\n",
    "key='modeling/LDA/4/sct/processed_docs.pkl'\n",
    "pickle_byte_obj = pickle.dumps(processed_docs)\n",
    "s3_resource = boto3.resource('s3')\n",
    "s3_resource.Object(bucket, key).put(Body=pickle_byte_obj)"
   ]
  },
  {
   "cell_type": "code",
   "execution_count": null,
   "metadata": {},
   "outputs": [],
   "source": [
    "bucket='inai-summerofdata'\n",
    "key='modeling/LDA/4/sct/lda_model_tfidf_20.pkl'\n",
    "pickle_byte_obj = pickle.dumps(lda_model_tfidf_20)\n",
    "s3_resource = boto3.resource('s3')\n",
    "s3_resource.Object(bucket, key).put(Body=pickle_byte_obj)"
   ]
  },
  {
   "cell_type": "markdown",
   "metadata": {},
   "source": [
    "# sagarpa"
   ]
  },
  {
   "cell_type": "code",
   "execution_count": 193,
   "metadata": {},
   "outputs": [],
   "source": [
    "filtro = (df_new['dependencia_clean'] == 'sagarpa') \n",
    "df_sagarpa = df_new[filtro]"
   ]
  },
  {
   "cell_type": "code",
   "execution_count": 194,
   "metadata": {},
   "outputs": [
    {
     "name": "stdout",
     "output_type": "stream",
     "text": [
      "<class 'pandas.core.frame.DataFrame'>\n",
      "Int64Index: 7490 entries, 2338 to 1556831\n",
      "Data columns (total 31 columns):\n",
      " #   Column                         Non-Null Count  Dtype         \n",
      "---  ------                         --------------  -----         \n",
      " 0   folio                          7490 non-null   object        \n",
      " 1   fechasolicitud                 7490 non-null   datetime64[ns]\n",
      " 2   dependencia                    7490 non-null   object        \n",
      " 3   estatus                        7490 non-null   object        \n",
      " 4   medioentrada                   7490 non-null   object        \n",
      " 5   tiposolicitud                  7490 non-null   object        \n",
      " 6   descripcionsolicitud           7490 non-null   object        \n",
      " 7   otrosdatos                     7490 non-null   object        \n",
      " 8   archivoadjuntosolicitud        7490 non-null   object        \n",
      " 9   medioentrega                   7490 non-null   object        \n",
      " 10  fechalimite                    7189 non-null   datetime64[ns]\n",
      " 11  respuesta                      7490 non-null   object        \n",
      " 12  textorespuesta                 7490 non-null   object        \n",
      " 13  archivorespuesta               7490 non-null   object        \n",
      " 14  fecharespuesta                 7490 non-null   datetime64[ns]\n",
      " 15  pais                           7490 non-null   object        \n",
      " 16  estado                         7490 non-null   object        \n",
      " 17  municipio                      7490 non-null   object        \n",
      " 18  codigopostal                   7490 non-null   object        \n",
      " 19  sector                         7490 non-null   object        \n",
      " 20  tipo_archivo_respuesta         7490 non-null   object        \n",
      " 21  cantidad_archivos_respuesta    4207 non-null   float64       \n",
      " 22  texto_respuesta_adjunto        7490 non-null   object        \n",
      " 23  respuestareal                  7490 non-null   object        \n",
      " 24  calidad_respuesta              7490 non-null   object        \n",
      " 25  calidad_respuesta_real         7490 non-null   object        \n",
      " 26  solicitud_longitud             7490 non-null   int64         \n",
      " 27  descripcionsolicitud_lemma     7490 non-null   object        \n",
      " 28  codigo_calidad_respuesta_real  7490 non-null   int64         \n",
      " 29  dependencia_clean              7490 non-null   object        \n",
      " 30  solicitud_lemma_longitud       7490 non-null   int64         \n",
      "dtypes: datetime64[ns](3), float64(1), int64(3), object(24)\n",
      "memory usage: 1.8+ MB\n"
     ]
    }
   ],
   "source": [
    "df_sagarpa.info()"
   ]
  },
  {
   "cell_type": "code",
   "execution_count": 195,
   "metadata": {},
   "outputs": [],
   "source": [
    "data = df_sagarpa[['descripcionsolicitud_lemma']]\n",
    "data['index'] = data.index\n",
    "docs = data"
   ]
  },
  {
   "cell_type": "code",
   "execution_count": 196,
   "metadata": {},
   "outputs": [
    {
     "data": {
      "text/html": [
       "<div>\n",
       "<style scoped>\n",
       "    .dataframe tbody tr th:only-of-type {\n",
       "        vertical-align: middle;\n",
       "    }\n",
       "\n",
       "    .dataframe tbody tr th {\n",
       "        vertical-align: top;\n",
       "    }\n",
       "\n",
       "    .dataframe thead th {\n",
       "        text-align: right;\n",
       "    }\n",
       "</style>\n",
       "<table border=\"1\" class=\"dataframe\">\n",
       "  <thead>\n",
       "    <tr style=\"text-align: right;\">\n",
       "      <th></th>\n",
       "      <th>descripcionsolicitud_lemma</th>\n",
       "      <th>index</th>\n",
       "    </tr>\n",
       "  </thead>\n",
       "  <tbody>\n",
       "    <tr>\n",
       "      <th>2338</th>\n",
       "      <td>estidiantes colegiar</td>\n",
       "      <td>2338</td>\n",
       "    </tr>\n",
       "    <tr>\n",
       "      <th>5585</th>\n",
       "      <td>requerir atento proporcionar mexicano partir p...</td>\n",
       "      <td>5585</td>\n",
       "    </tr>\n",
       "    <tr>\n",
       "      <th>8193</th>\n",
       "      <td>pago monto cifrar expedicion cheque viaticos r...</td>\n",
       "      <td>8193</td>\n",
       "    </tr>\n",
       "    <tr>\n",
       "      <th>8197</th>\n",
       "      <td>requerir funcionar menorizadas ingresar instit...</td>\n",
       "      <td>8197</td>\n",
       "    </tr>\n",
       "    <tr>\n",
       "      <th>10833</th>\n",
       "      <td>documentar contratacion eric francisco montero...</td>\n",
       "      <td>10833</td>\n",
       "    </tr>\n",
       "  </tbody>\n",
       "</table>\n",
       "</div>"
      ],
      "text/plain": [
       "                              descripcionsolicitud_lemma  index\n",
       "2338                                estidiantes colegiar   2338\n",
       "5585   requerir atento proporcionar mexicano partir p...   5585\n",
       "8193   pago monto cifrar expedicion cheque viaticos r...   8193\n",
       "8197   requerir funcionar menorizadas ingresar instit...   8197\n",
       "10833  documentar contratacion eric francisco montero...  10833"
      ]
     },
     "execution_count": 196,
     "metadata": {},
     "output_type": "execute_result"
    }
   ],
   "source": [
    "docs.head()"
   ]
  },
  {
   "cell_type": "code",
   "execution_count": 197,
   "metadata": {},
   "outputs": [],
   "source": [
    "import spacy\n",
    "import nltk\n",
    "from nltk import SnowballStemmer"
   ]
  },
  {
   "cell_type": "code",
   "execution_count": 198,
   "metadata": {},
   "outputs": [],
   "source": [
    "nlp = spacy.load('es_core_news_sm')"
   ]
  },
  {
   "cell_type": "code",
   "execution_count": 199,
   "metadata": {},
   "outputs": [],
   "source": [
    "def ProcesarTexto(texto):\n",
    "    \n",
    "    doc = nlp(texto)\n",
    "    words = [t.text for t in doc]\n",
    "    \n",
    "    return words"
   ]
  },
  {
   "cell_type": "code",
   "execution_count": 200,
   "metadata": {},
   "outputs": [],
   "source": [
    "import multiprocessing\n",
    "from multiprocessing.dummy import Pool as ThreadPool"
   ]
  },
  {
   "cell_type": "code",
   "execution_count": 201,
   "metadata": {},
   "outputs": [
    {
     "data": {
      "text/plain": [
       "12"
      ]
     },
     "execution_count": 201,
     "metadata": {},
     "output_type": "execute_result"
    }
   ],
   "source": [
    "cores = multiprocessing.cpu_count()\n",
    "pool = ThreadPool(cores)\n",
    "cores"
   ]
  },
  {
   "cell_type": "code",
   "execution_count": 202,
   "metadata": {},
   "outputs": [],
   "source": [
    "processed_docs = pool.map(ProcesarTexto, docs['descripcionsolicitud_lemma'])\n",
    "pool.close()"
   ]
  },
  {
   "cell_type": "code",
   "execution_count": 203,
   "metadata": {},
   "outputs": [],
   "source": [
    "import gensim"
   ]
  },
  {
   "cell_type": "code",
   "execution_count": 204,
   "metadata": {},
   "outputs": [],
   "source": [
    "dictionary = gensim.corpora.Dictionary(processed_docs)"
   ]
  },
  {
   "cell_type": "code",
   "execution_count": 205,
   "metadata": {},
   "outputs": [],
   "source": [
    "dictionary.filter_extremes(no_below=15, no_above=0.5, keep_n=100000)"
   ]
  },
  {
   "cell_type": "code",
   "execution_count": 206,
   "metadata": {},
   "outputs": [],
   "source": [
    "bow_corpus = [dictionary.doc2bow(doc) for doc in processed_docs]"
   ]
  },
  {
   "cell_type": "code",
   "execution_count": 207,
   "metadata": {},
   "outputs": [],
   "source": [
    "from gensim import corpora, models\n",
    "from pprint import pprint"
   ]
  },
  {
   "cell_type": "code",
   "execution_count": 208,
   "metadata": {},
   "outputs": [],
   "source": [
    "tfidf = models.TfidfModel(bow_corpus)\n",
    "corpus_tfidf = tfidf[bow_corpus]"
   ]
  },
  {
   "cell_type": "markdown",
   "metadata": {},
   "source": [
    "### 20 tópicos TF-IDF"
   ]
  },
  {
   "cell_type": "code",
   "execution_count": 209,
   "metadata": {},
   "outputs": [],
   "source": [
    "lda_model_tfidf_20 = gensim.models.LdaMulticore(corpus_tfidf, \n",
    "                                            num_topics=20,\n",
    "                                            id2word=dictionary,\n",
    "                                            passes=2,\n",
    "                                            workers=cores)"
   ]
  },
  {
   "cell_type": "code",
   "execution_count": 210,
   "metadata": {},
   "outputs": [
    {
     "name": "stdout",
     "output_type": "stream",
     "text": [
      "Topic: 0 Word: 0.010*\"montar\" + 0.009*\"otorgar\" + 0.008*\"empresa\" + 0.007*\"apoyar\" + 0.007*\"relacion\" + 0.007*\"municipio\" + 0.007*\"desglosar\" + 0.006*\"casar\" + 0.006*\"monto\" + 0.006*\"procampo\"\n",
      "Topic: 1 Word: 0.016*\"potosi\" + 0.015*\"santo\" + 0.014*\"padron\" + 0.012*\"procampo\" + 0.010*\"coahuila\" + 0.009*\"capar\" + 0.007*\"montar\" + 0.006*\"presupuestar\" + 0.006*\"apoyar\" + 0.006*\"rural\"\n",
      "Topic: 2 Word: 0.007*\"federal\" + 0.006*\"michoacan\" + 0.006*\"colegiar\" + 0.006*\"postgraduados\" + 0.006*\"municipio\" + 0.006*\"firmar\" + 0.006*\"tabasco\" + 0.006*\"apoyar\" + 0.006*\"convenio\" + 0.005*\"certificacion\"\n",
      "Topic: 3 Word: 0.033*\"procampo\" + 0.031*\"padron\" + 0.026*\"aguascalientes\" + 0.016*\"oaxaca\" + 0.012*\"poblar\" + 0.010*\"bajo\" + 0.010*\"capar\" + 0.009*\"california\" + 0.009*\"rastro\" + 0.009*\"colimar\"\n",
      "Topic: 4 Word: 0.012*\"bajo\" + 0.012*\"california\" + 0.007*\"padron\" + 0.007*\"querer\" + 0.007*\"municipio\" + 0.006*\"publicar\" + 0.006*\"desarrollar\" + 0.006*\"secretario\" + 0.006*\"rastro\" + 0.006*\"sagarpa\"\n",
      "Topic: 5 Word: 0.019*\"padron\" + 0.018*\"guerrero\" + 0.016*\"federal\" + 0.016*\"distrito\" + 0.014*\"capar\" + 0.012*\"procampo\" + 0.010*\"produccion\" + 0.010*\"rastro\" + 0.007*\"laguna\" + 0.007*\"aplicar\"\n",
      "Topic: 6 Word: 0.046*\"aguascalientes\" + 0.021*\"padron\" + 0.014*\"rastro\" + 0.012*\"capar\" + 0.011*\"abogar\" + 0.011*\"contencioso\" + 0.007*\"plantar\" + 0.007*\"ganar\" + 0.007*\"sagarpa\" + 0.007*\"introductor\"\n",
      "Topic: 7 Word: 0.008*\"california\" + 0.008*\"presupuestar\" + 0.007*\"padron\" + 0.007*\"bajo\" + 0.007*\"capar\" + 0.006*\"desarrollar\" + 0.006*\"direccion\" + 0.006*\"vigente\" + 0.006*\"sagarpa\" + 0.005*\"rural\"\n",
      "Topic: 8 Word: 0.035*\"padron\" + 0.031*\"campeche\" + 0.028*\"procampo\" + 0.027*\"capar\" + 0.014*\"guerrero\" + 0.013*\"nayarit\" + 0.011*\"tlaxcala\" + 0.010*\"bajo\" + 0.010*\"california\" + 0.009*\"chihuahua\"\n",
      "Topic: 9 Word: 0.043*\"padron\" + 0.040*\"bajacalifornia\" + 0.032*\"procampo\" + 0.020*\"distrito\" + 0.019*\"yucatan\" + 0.018*\"chihuahua\" + 0.017*\"federal\" + 0.014*\"zacateco\" + 0.012*\"leon\" + 0.009*\"capar\"\n",
      "Topic: 10 Word: 0.018*\"california\" + 0.018*\"bajo\" + 0.014*\"padron\" + 0.013*\"tabasco\" + 0.011*\"remuneracion\" + 0.009*\"capar\" + 0.009*\"campus\" + 0.009*\"servidor\" + 0.008*\"tipo\" + 0.008*\"formato\"\n",
      "Topic: 11 Word: 0.024*\"hidalgo\" + 0.013*\"procampo\" + 0.012*\"rastro\" + 0.011*\"padron\" + 0.007*\"sagarpa\" + 0.007*\"secretario\" + 0.006*\"plantar\" + 0.006*\"bajacalifornia\" + 0.006*\"denominar\" + 0.006*\"requerir\"\n",
      "Topic: 12 Word: 0.116*\"rastro\" + 0.060*\"durango\" + 0.059*\"introductor\" + 0.058*\"plantar\" + 0.057*\"ganar\" + 0.055*\"ubicar\" + 0.054*\"denominar\" + 0.029*\"inscribir\" + 0.029*\"asociación\" + 0.028*\"encargar\"\n",
      "Topic: 13 Word: 0.090*\"chihuahua\" + 0.066*\"padron\" + 0.039*\"capar\" + 0.033*\"procampo\" + 0.024*\"aguascalientes\" + 0.024*\"rastro\" + 0.017*\"durango\" + 0.012*\"introductor\" + 0.012*\"guerrero\" + 0.012*\"ubicar\"\n",
      "Topic: 14 Word: 0.007*\"academicos\" + 0.007*\"institucion\" + 0.007*\"veracruz\" + 0.006*\"plaguicida\" + 0.006*\"sagarpa\" + 0.006*\"capacitacion\" + 0.005*\"colegiar\" + 0.005*\"fomentar\" + 0.005*\"montar\" + 0.005*\"presupuestar\"\n",
      "Topic: 15 Word: 0.049*\"guanajuato\" + 0.041*\"padron\" + 0.040*\"procampo\" + 0.020*\"region\" + 0.015*\"jalisco\" + 0.013*\"lagunero\" + 0.012*\"sonoro\" + 0.011*\"laguna\" + 0.010*\"tabasco\" + 0.007*\"capar\"\n",
      "Topic: 16 Word: 0.018*\"sinaloa\" + 0.011*\"procampo\" + 0.010*\"padron\" + 0.006*\"acta\" + 0.006*\"campus\" + 0.006*\"sagarpa\" + 0.005*\"guanajuato\" + 0.005*\"vigente\" + 0.005*\"distrito\" + 0.005*\"informar\"\n",
      "Topic: 17 Word: 0.108*\"california\" + 0.105*\"bajo\" + 0.077*\"padron\" + 0.050*\"coahuila\" + 0.033*\"capar\" + 0.031*\"zaragoza\" + 0.030*\"procampo\" + 0.018*\"queretaro\" + 0.013*\"michoacan\" + 0.008*\"requisito\"\n",
      "Topic: 18 Word: 0.027*\"rastro\" + 0.014*\"ubicar\" + 0.014*\"denominar\" + 0.014*\"plantar\" + 0.014*\"durango\" + 0.013*\"introductor\" + 0.013*\"ganar\" + 0.007*\"autorizar\" + 0.007*\"asociación\" + 0.007*\"inscribir\"\n",
      "Topic: 19 Word: 0.010*\"nava\" + 0.008*\"vazquez\" + 0.008*\"proyecto\" + 0.008*\"consultor\" + 0.007*\"montar\" + 0.007*\"partir\" + 0.007*\"municipio\" + 0.006*\"anual\" + 0.006*\"celebrar\" + 0.005*\"padron\"\n"
     ]
    }
   ],
   "source": [
    "for idx, topic in lda_model_tfidf_20.print_topics(-1):\n",
    "    print('Topic: {} Word: {}'.format(idx, topic))"
   ]
  },
  {
   "cell_type": "markdown",
   "metadata": {},
   "source": [
    "### Guardamos en S3"
   ]
  },
  {
   "cell_type": "code",
   "execution_count": null,
   "metadata": {},
   "outputs": [],
   "source": [
    "bucket='inai-summerofdata'\n",
    "key='modeling/LDA/4/sagarpa/df_sagarpa.pkl'\n",
    "pickle_byte_obj = pickle.dumps(df_sagarpa)\n",
    "s3_resource = boto3.resource('s3')\n",
    "s3_resource.Object(bucket, key).put(Body=pickle_byte_obj)"
   ]
  },
  {
   "cell_type": "code",
   "execution_count": null,
   "metadata": {},
   "outputs": [],
   "source": [
    "bucket='inai-summerofdata'\n",
    "key='modeling/LDA/4/sagarpa/processed_docs.pkl'\n",
    "pickle_byte_obj = pickle.dumps(processed_docs)\n",
    "s3_resource = boto3.resource('s3')\n",
    "s3_resource.Object(bucket, key).put(Body=pickle_byte_obj)"
   ]
  },
  {
   "cell_type": "code",
   "execution_count": null,
   "metadata": {},
   "outputs": [],
   "source": [
    "bucket='inai-summerofdata'\n",
    "key='modeling/LDA/4/sagarpa/lda_model_tfidf_20.pkl'\n",
    "pickle_byte_obj = pickle.dumps(lda_model_tfidf_20)\n",
    "s3_resource = boto3.resource('s3')\n",
    "s3_resource.Object(bucket, key).put(Body=pickle_byte_obj)"
   ]
  },
  {
   "cell_type": "markdown",
   "metadata": {},
   "source": [
    "# sedesol"
   ]
  },
  {
   "cell_type": "code",
   "execution_count": 214,
   "metadata": {},
   "outputs": [],
   "source": [
    "filtro = (df_new['dependencia_clean'] == 'sedesol') \n",
    "df_sedesol = df_new[filtro]"
   ]
  },
  {
   "cell_type": "code",
   "execution_count": 215,
   "metadata": {},
   "outputs": [
    {
     "name": "stdout",
     "output_type": "stream",
     "text": [
      "<class 'pandas.core.frame.DataFrame'>\n",
      "Int64Index: 3606 entries, 974 to 1558748\n",
      "Data columns (total 31 columns):\n",
      " #   Column                         Non-Null Count  Dtype         \n",
      "---  ------                         --------------  -----         \n",
      " 0   folio                          3606 non-null   object        \n",
      " 1   fechasolicitud                 3606 non-null   datetime64[ns]\n",
      " 2   dependencia                    3606 non-null   object        \n",
      " 3   estatus                        3606 non-null   object        \n",
      " 4   medioentrada                   3606 non-null   object        \n",
      " 5   tiposolicitud                  3606 non-null   object        \n",
      " 6   descripcionsolicitud           3606 non-null   object        \n",
      " 7   otrosdatos                     3606 non-null   object        \n",
      " 8   archivoadjuntosolicitud        3606 non-null   object        \n",
      " 9   medioentrega                   3606 non-null   object        \n",
      " 10  fechalimite                    3496 non-null   datetime64[ns]\n",
      " 11  respuesta                      3606 non-null   object        \n",
      " 12  textorespuesta                 3606 non-null   object        \n",
      " 13  archivorespuesta               3606 non-null   object        \n",
      " 14  fecharespuesta                 3606 non-null   datetime64[ns]\n",
      " 15  pais                           3606 non-null   object        \n",
      " 16  estado                         3606 non-null   object        \n",
      " 17  municipio                      3606 non-null   object        \n",
      " 18  codigopostal                   3606 non-null   object        \n",
      " 19  sector                         3606 non-null   object        \n",
      " 20  tipo_archivo_respuesta         3606 non-null   object        \n",
      " 21  cantidad_archivos_respuesta    2868 non-null   float64       \n",
      " 22  texto_respuesta_adjunto        3606 non-null   object        \n",
      " 23  respuestareal                  3606 non-null   object        \n",
      " 24  calidad_respuesta              3606 non-null   object        \n",
      " 25  calidad_respuesta_real         3606 non-null   object        \n",
      " 26  solicitud_longitud             3606 non-null   int64         \n",
      " 27  descripcionsolicitud_lemma     3606 non-null   object        \n",
      " 28  codigo_calidad_respuesta_real  3606 non-null   int64         \n",
      " 29  dependencia_clean              3606 non-null   object        \n",
      " 30  solicitud_lemma_longitud       3606 non-null   int64         \n",
      "dtypes: datetime64[ns](3), float64(1), int64(3), object(24)\n",
      "memory usage: 901.5+ KB\n"
     ]
    }
   ],
   "source": [
    "df_sedesol.info()"
   ]
  },
  {
   "cell_type": "code",
   "execution_count": 216,
   "metadata": {},
   "outputs": [],
   "source": [
    "data = df_sedesol[['descripcionsolicitud_lemma']]\n",
    "data['index'] = data.index\n",
    "docs = data"
   ]
  },
  {
   "cell_type": "code",
   "execution_count": 217,
   "metadata": {},
   "outputs": [
    {
     "data": {
      "text/html": [
       "<div>\n",
       "<style scoped>\n",
       "    .dataframe tbody tr th:only-of-type {\n",
       "        vertical-align: middle;\n",
       "    }\n",
       "\n",
       "    .dataframe tbody tr th {\n",
       "        vertical-align: top;\n",
       "    }\n",
       "\n",
       "    .dataframe thead th {\n",
       "        text-align: right;\n",
       "    }\n",
       "</style>\n",
       "<table border=\"1\" class=\"dataframe\">\n",
       "  <thead>\n",
       "    <tr style=\"text-align: right;\">\n",
       "      <th></th>\n",
       "      <th>descripcionsolicitud_lemma</th>\n",
       "      <th>index</th>\n",
       "    </tr>\n",
       "  </thead>\n",
       "  <tbody>\n",
       "    <tr>\n",
       "      <th>974</th>\n",
       "      <td>presupuestar anual instituto mexicano juventud...</td>\n",
       "      <td>974</td>\n",
       "    </tr>\n",
       "    <tr>\n",
       "      <th>1256</th>\n",
       "      <td>organización montar detalle proyecto proyecto ...</td>\n",
       "      <td>1256</td>\n",
       "    </tr>\n",
       "    <tr>\n",
       "      <th>1385</th>\n",
       "      <td>presupuestar anual recibira intituto mexicano ...</td>\n",
       "      <td>1385</td>\n",
       "    </tr>\n",
       "    <tr>\n",
       "      <th>2058</th>\n",
       "      <td>atento proporcionar proyecto formato oficial a...</td>\n",
       "      <td>2058</td>\n",
       "    </tr>\n",
       "    <tr>\n",
       "      <th>2543</th>\n",
       "      <td>cifrar coahuila ciudad serio actual recentar a...</td>\n",
       "      <td>2543</td>\n",
       "    </tr>\n",
       "  </tbody>\n",
       "</table>\n",
       "</div>"
      ],
      "text/plain": [
       "                             descripcionsolicitud_lemma  index\n",
       "974   presupuestar anual instituto mexicano juventud...    974\n",
       "1256  organización montar detalle proyecto proyecto ...   1256\n",
       "1385  presupuestar anual recibira intituto mexicano ...   1385\n",
       "2058  atento proporcionar proyecto formato oficial a...   2058\n",
       "2543  cifrar coahuila ciudad serio actual recentar a...   2543"
      ]
     },
     "execution_count": 217,
     "metadata": {},
     "output_type": "execute_result"
    }
   ],
   "source": [
    "docs.head()"
   ]
  },
  {
   "cell_type": "code",
   "execution_count": 218,
   "metadata": {},
   "outputs": [],
   "source": [
    "import spacy\n",
    "import nltk\n",
    "from nltk import SnowballStemmer"
   ]
  },
  {
   "cell_type": "code",
   "execution_count": 219,
   "metadata": {},
   "outputs": [],
   "source": [
    "nlp = spacy.load('es_core_news_sm')"
   ]
  },
  {
   "cell_type": "code",
   "execution_count": 220,
   "metadata": {},
   "outputs": [],
   "source": [
    "def ProcesarTexto(texto):\n",
    "    \n",
    "    doc = nlp(texto)\n",
    "    words = [t.text for t in doc]\n",
    "    \n",
    "    return words"
   ]
  },
  {
   "cell_type": "code",
   "execution_count": 221,
   "metadata": {},
   "outputs": [],
   "source": [
    "import multiprocessing\n",
    "from multiprocessing.dummy import Pool as ThreadPool"
   ]
  },
  {
   "cell_type": "code",
   "execution_count": 222,
   "metadata": {},
   "outputs": [
    {
     "data": {
      "text/plain": [
       "12"
      ]
     },
     "execution_count": 222,
     "metadata": {},
     "output_type": "execute_result"
    }
   ],
   "source": [
    "cores = multiprocessing.cpu_count()\n",
    "pool = ThreadPool(cores)\n",
    "cores"
   ]
  },
  {
   "cell_type": "code",
   "execution_count": 223,
   "metadata": {},
   "outputs": [],
   "source": [
    "processed_docs = pool.map(ProcesarTexto, docs['descripcionsolicitud_lemma'])\n",
    "pool.close()"
   ]
  },
  {
   "cell_type": "code",
   "execution_count": 224,
   "metadata": {},
   "outputs": [],
   "source": [
    "import gensim"
   ]
  },
  {
   "cell_type": "code",
   "execution_count": 225,
   "metadata": {},
   "outputs": [],
   "source": [
    "dictionary = gensim.corpora.Dictionary(processed_docs)"
   ]
  },
  {
   "cell_type": "code",
   "execution_count": 226,
   "metadata": {},
   "outputs": [],
   "source": [
    "dictionary.filter_extremes(no_below=15, no_above=0.5, keep_n=100000)"
   ]
  },
  {
   "cell_type": "code",
   "execution_count": 227,
   "metadata": {},
   "outputs": [],
   "source": [
    "bow_corpus = [dictionary.doc2bow(doc) for doc in processed_docs]"
   ]
  },
  {
   "cell_type": "code",
   "execution_count": 228,
   "metadata": {},
   "outputs": [],
   "source": [
    "from gensim import corpora, models\n",
    "from pprint import pprint"
   ]
  },
  {
   "cell_type": "code",
   "execution_count": 229,
   "metadata": {},
   "outputs": [],
   "source": [
    "tfidf = models.TfidfModel(bow_corpus)\n",
    "corpus_tfidf = tfidf[bow_corpus]"
   ]
  },
  {
   "cell_type": "markdown",
   "metadata": {},
   "source": [
    "### 20 tópicos TF-IDF"
   ]
  },
  {
   "cell_type": "code",
   "execution_count": 230,
   "metadata": {},
   "outputs": [],
   "source": [
    "lda_model_tfidf_20 = gensim.models.LdaMulticore(corpus_tfidf, \n",
    "                                            num_topics=20,\n",
    "                                            id2word=dictionary,\n",
    "                                            passes=2,\n",
    "                                            workers=cores)"
   ]
  },
  {
   "cell_type": "code",
   "execution_count": 250,
   "metadata": {
    "scrolled": true
   },
   "outputs": [
    {
     "name": "stdout",
     "output_type": "stream",
     "text": [
      "Topic: 1 Word: 0.018*\"civil\" + 0.014*\"organización\" + 0.014*\"sociedad\" + 0.010*\"recibir\" + 0.009*\"social\" + 0.009*\"actividad\" + 0.008*\"adjudicación\" + 0.008*\"promocion\" + 0.008*\"federal\" + 0.008*\"documentar\"\n",
      "Topic: 2 Word: 0.018*\"requerir\" + 0.017*\"informar\" + 0.016*\"recibiados\" + 0.015*\"distrito\" + 0.013*\"montar\" + 0.012*\"federal\" + 0.012*\"convocatorio\" + 0.012*\"acta\" + 0.011*\"humano\" + 0.011*\"ciudadano\"\n",
      "Topic: 3 Word: 0.012*\"anual\" + 0.011*\"adolescente\" + 0.011*\"ingresar\" + 0.011*\"cuestionario\" + 0.010*\"convocatorio\" + 0.010*\"contestar\" + 0.009*\"acta\" + 0.009*\"juventud\" + 0.009*\"presupuestar\" + 0.008*\"administracion\"\n",
      "Topic: 4 Word: 0.017*\"vifac\" + 0.016*\"instituto\" + 0.016*\"desarrollar\" + 0.015*\"mujer\" + 0.015*\"social\" + 0.014*\"informe\" + 0.012*\"correspondiente\" + 0.011*\"presupuestar\" + 0.010*\"hombre\" + 0.009*\"periodo\"\n",
      "Topic: 5 Word: 0.019*\"dictaminacion\" + 0.016*\"convocatorio\" + 0.016*\"social\" + 0.014*\"acta\" + 0.012*\"calificacion\" + 0.011*\"humano\" + 0.011*\"desarrollar\" + 0.010*\"educacion\" + 0.010*\"distrito\" + 0.009*\"iniciativo\"\n",
      "Topic: 6 Word: 0.021*\"civil\" + 0.021*\"inscribir\" + 0.018*\"foliar\" + 0.017*\"fomentar\" + 0.017*\"organización\" + 0.017*\"cruzar\" + 0.017*\"hambre\" + 0.016*\"coinversion\" + 0.015*\"documentar\" + 0.015*\"nutricion\"\n",
      "Topic: 7 Word: 0.022*\"desarrollar\" + 0.020*\"social\" + 0.018*\"instituto\" + 0.016*\"organización\" + 0.014*\"donativo\" + 0.014*\"recibir\" + 0.013*\"secretario\" + 0.012*\"sociedad\" + 0.012*\"civil\" + 0.010*\"mexicano\"\n",
      "Topic: 8 Word: 0.009*\"casar\" + 0.009*\"estudio\" + 0.009*\"montar\" + 0.009*\"prestador\" + 0.008*\"contratacion\" + 0.008*\"social\" + 0.008*\"realizar\" + 0.008*\"operacion\" + 0.008*\"apoyar\" + 0.007*\"presupuestar\"\n",
      "Topic: 9 Word: 0.009*\"cluni\" + 0.009*\"proyecto\" + 0.009*\"recibir\" + 0.009*\"social\" + 0.009*\"especificar\" + 0.009*\"federal\" + 0.008*\"cursar\" + 0.008*\"emprendedor\" + 0.007*\"tipo\" + 0.007*\"municipio\"\n",
      "Topic: 10 Word: 0.020*\"informar\" + 0.019*\"requerir\" + 0.017*\"recibiados\" + 0.014*\"montar\" + 0.011*\"dictaminacion\" + 0.011*\"estatal\" + 0.011*\"acta\" + 0.010*\"calificacion\" + 0.010*\"convocatorio\" + 0.009*\"consumidor\"\n",
      "Topic: 11 Word: 0.015*\"llevar\" + 0.015*\"promocion\" + 0.014*\"ciudadano\" + 0.014*\"iniciativo\" + 0.014*\"educacion\" + 0.013*\"acta\" + 0.013*\"distrito\" + 0.012*\"dictaminacion\" + 0.012*\"humano\" + 0.011*\"convocatorio\"\n",
      "Topic: 12 Word: 0.015*\"institucion\" + 0.014*\"proyecto\" + 0.013*\"organización\" + 0.012*\"social\" + 0.012*\"encuestar\" + 0.010*\"civil\" + 0.010*\"apoyar\" + 0.010*\"elegible\" + 0.009*\"sociedad\" + 0.008*\"desarrollar\"\n",
      "Topic: 13 Word: 0.016*\"montar\" + 0.014*\"tabasco\" + 0.013*\"apoyar\" + 0.012*\"social\" + 0.010*\"asociacion\" + 0.010*\"documentar\" + 0.009*\"otorgar\" + 0.009*\"cluni\" + 0.008*\"apoyo\" + 0.008*\"coinversion\"\n",
      "Topic: 14 Word: 0.014*\"gobernar\" + 0.012*\"fallir\" + 0.012*\"acta\" + 0.012*\"federal\" + 0.010*\"gubernamental\" + 0.009*\"montar\" + 0.009*\"anexo\" + 0.008*\"economica\" + 0.007*\"economicas\" + 0.007*\"propuesta\"\n",
      "Topic: 15 Word: 0.025*\"calificacion\" + 0.022*\"dictaminacion\" + 0.021*\"aprobar\" + 0.016*\"juvenil\" + 0.015*\"acta\" + 0.014*\"convocatorio\" + 0.014*\"inscribir\" + 0.013*\"impulsar\" + 0.013*\"cohesion\" + 0.013*\"proyecto\"\n",
      "Topic: 16 Word: 0.026*\"nava\" + 0.026*\"vazquez\" + 0.022*\"acta\" + 0.021*\"consumidor\" + 0.019*\"consultor\" + 0.019*\"dictaminacion\" + 0.017*\"calificacion\" + 0.013*\"convocatorio\" + 0.013*\"juventud\" + 0.011*\"otorgar\"\n",
      "Topic: 17 Word: 0.023*\"tecnico\" + 0.022*\"imef\" + 0.018*\"convenio\" + 0.012*\"civil\" + 0.011*\"trabajador\" + 0.010*\"organización\" + 0.010*\"sociedad\" + 0.009*\"michoacan\" + 0.009*\"ejercicio\" + 0.009*\"jalisco\"\n",
      "Topic: 18 Word: 0.013*\"control\" + 0.012*\"social\" + 0.011*\"proyecto\" + 0.011*\"direccion\" + 0.010*\"organización\" + 0.009*\"proteger\" + 0.009*\"completo\" + 0.009*\"entregar\" + 0.008*\"desarrollar\" + 0.008*\"formato\"\n",
      "Topic: 19 Word: 0.010*\"mujer\" + 0.009*\"social\" + 0.009*\"publicar\" + 0.009*\"evento\" + 0.008*\"infantil\" + 0.008*\"estrategia\" + 0.008*\"estadisticas\" + 0.008*\"proyecto\" + 0.008*\"organizacion\" + 0.007*\"apoyar\"\n",
      "Topic: 20 Word: 0.039*\"juventud\" + 0.034*\"instituto\" + 0.027*\"presupuestar\" + 0.026*\"mexicano\" + 0.015*\"destinar\" + 0.011*\"social\" + 0.008*\"delegacion\" + 0.008*\"partir\" + 0.008*\"imjuve\" + 0.007*\"municipio\"\n"
     ]
    }
   ],
   "source": [
    "for idx, topic in lda_model_tfidf_20.print_topics(-1):\n",
    "    print('Topic: {} Word: {}'.format(idx + 1, topic))"
   ]
  },
  {
   "cell_type": "markdown",
   "metadata": {},
   "source": [
    "### Guardamos en S3"
   ]
  },
  {
   "cell_type": "code",
   "execution_count": null,
   "metadata": {},
   "outputs": [],
   "source": [
    "bucket='inai-summerofdata'\n",
    "key='modeling/LDA/4/sedesol/df_sedesol.pkl'\n",
    "pickle_byte_obj = pickle.dumps(df_sedesol)\n",
    "s3_resource = boto3.resource('s3')\n",
    "s3_resource.Object(bucket, key).put(Body=pickle_byte_obj)"
   ]
  },
  {
   "cell_type": "code",
   "execution_count": null,
   "metadata": {},
   "outputs": [],
   "source": [
    "bucket='inai-summerofdata'\n",
    "key='modeling/LDA/4/sedesol/processed_docs.pkl'\n",
    "pickle_byte_obj = pickle.dumps(processed_docs)\n",
    "s3_resource = boto3.resource('s3')\n",
    "s3_resource.Object(bucket, key).put(Body=pickle_byte_obj)"
   ]
  },
  {
   "cell_type": "code",
   "execution_count": null,
   "metadata": {},
   "outputs": [],
   "source": [
    "bucket='inai-summerofdata'\n",
    "key='modeling/LDA/4/sedesol/lda_model_tfidf_20.pkl'\n",
    "pickle_byte_obj = pickle.dumps(lda_model_tfidf_20)\n",
    "s3_resource = boto3.resource('s3')\n",
    "s3_resource.Object(bucket, key).put(Body=pickle_byte_obj)"
   ]
  },
  {
   "cell_type": "markdown",
   "metadata": {},
   "source": [
    "# Visualización Ejemplo"
   ]
  },
  {
   "cell_type": "code",
   "execution_count": 237,
   "metadata": {},
   "outputs": [],
   "source": [
    "import pyLDAvis\n",
    "import pyLDAvis.gensim"
   ]
  },
  {
   "cell_type": "code",
   "execution_count": 238,
   "metadata": {},
   "outputs": [],
   "source": [
    "pyLDAvis.enable_notebook()"
   ]
  },
  {
   "cell_type": "code",
   "execution_count": 239,
   "metadata": {},
   "outputs": [],
   "source": [
    "vis = pyLDAvis.gensim.prepare(lda_model_tfidf_20, corpus_tfidf,lda_model_tfidf_20.id2word)"
   ]
  },
  {
   "cell_type": "code",
   "execution_count": 240,
   "metadata": {},
   "outputs": [
    {
     "data": {
      "text/html": [
       "\n",
       "<link rel=\"stylesheet\" type=\"text/css\" href=\"https://cdn.rawgit.com/bmabey/pyLDAvis/files/ldavis.v1.0.0.css\">\n",
       "\n",
       "\n",
       "<div id=\"ldavis_el738871403602938218001266707851\"></div>\n",
       "<script type=\"text/javascript\">\n",
       "\n",
       "var ldavis_el738871403602938218001266707851_data = {\"mdsDat\": {\"x\": [-0.002672449937923976, -4.391333798460939e-05, -0.15556682028241584, -0.01523021487193084, 0.07320547976250381, 0.048369922810363924, 0.013181629775274126, -0.02090654368854644, 0.03339224682855331, 0.016191871577839093, -0.04600534631224752, 0.013549238327697867, 0.021685393916983823, 0.05345294010846927, -0.059922419278928496, 0.030517582569512307, 0.011373141809516636, -0.009183805138270358, 0.02202179298582046, -0.02740972762428693], \"y\": [0.042980228034742565, -0.027702943380356837, 0.00575185455980527, -0.0054965715677508424, 0.0809559370681075, -0.0675381380356536, 0.013749766774681071, -0.0726813787924439, -0.023681245211527695, 0.014213307329150465, 0.007284746660374749, -0.06036460084981653, -0.01191730839626876, -0.03379673339024652, -0.00032363619890737606, -0.020950391340846083, 0.04447438336401025, 0.04692641829313245, 0.05573679225114452, 0.012379512828669018], \"topics\": [1, 2, 3, 4, 5, 6, 7, 8, 9, 10, 11, 12, 13, 14, 15, 16, 17, 18, 19, 20], \"cluster\": [1, 1, 1, 1, 1, 1, 1, 1, 1, 1, 1, 1, 1, 1, 1, 1, 1, 1, 1, 1], \"Freq\": [7.290976524353027, 6.9995036125183105, 6.825448036193848, 6.496163368225098, 6.064958095550537, 5.241644382476807, 5.044500350952148, 5.042977333068848, 5.012669563293457, 4.859761714935303, 4.636091232299805, 4.378016948699951, 4.358946800231934, 4.307536602020264, 4.262197971343994, 4.212362766265869, 4.099857330322266, 3.9801816940307617, 3.732982635498047, 3.153228282928467]}, \"tinfo\": {\"Term\": [\"vazquez\", \"nava\", \"tecnico\", \"recibiados\", \"imef\", \"consumidor\", \"calificacion\", \"juventud\", \"dictaminacion\", \"consultor\", \"acta\", \"instituto\", \"vifac\", \"inscribir\", \"cruzar\", \"mexicano\", \"familiar\", \"hambre\", \"requerir\", \"aprobar\", \"nutricion\", \"iniciativo\", \"distrito\", \"informar\", \"foliar\", \"promocion\", \"presupuestar\", \"juvenil\", \"humano\", \"alimentacion\", \"deducci\\u00f3n\", \"compensacion\", \"existente\", \"percepci\\u00f3n\", \"outsourcing\", \"remuneracion\", \"sueldo\", \"bruto\", \"comisionar\", \"popular\", \"neto\", \"actualidad\", \"restringir\", \"aplicacion\", \"colaboracion\", \"sonoro\", \"prestador\", \"leon\", \"iniciativo\", \"vincular\", \"responder\", \"llevar\", \"tecnologia\", \"preguntar\", \"nominar\", \"permitir\", \"nombramiento\", \"promocion\", \"adquisicion\", \"ciudadano\", \"educacion\", \"humano\", \"distrito\", \"comprender\", \"tipo\", \"servidor\", \"acta\", \"dictaminacion\", \"convenio\", \"publicar\", \"convocatorio\", \"federal\", \"proyecto\", \"presupuestar\", \"social\", \"periodo\", \"especificar\", \"trabajador\", \"aplicar\", \"instituto\", \"desarrollar\", \"donativo\", \"financiamiento\", \"comprobar\", \"natural\", \"espacio\", \"sustentable\", \"miembro\", \"condicionar\", \"localidad\", \"viaticos\", \"organizar\", \"oficio\", \"extranjero\", \"pago\", \"alto\", \"comprobacion\", \"asesoria\", \"necesitar\", \"fuente\", \"recibir\", \"vigilancia\", \"cumplir\", \"depender\", \"cualquiera\", \"director\", \"solucionar\", \"disposicion\", \"dejar\", \"especial\", \"delito\", \"hospedaje\", \"equipar\", \"secretario\", \"desarrollar\", \"grupo\", \"politicas\", \"organizaci\\u00f3n\", \"instituto\", \"social\", \"sociedad\", \"mexicano\", \"participacion\", \"civil\", \"listar\", \"indesol\", \"coinversion\", \"federal\", \"proyecto\", \"publicar\", \"apoyar\", \"convocatorio\", \"trabajador\", \"juventud\", \"casar\", \"fuerte\", \"foliar\", \"nutricion\", \"cedula\", \"comprobatorio\", \"familiar\", \"cruzar\", \"avalar\", \"comprobante\", \"alimentacion\", \"hambre\", \"recibo\", \"padron\", \"fomentar\", \"injuve\", \"taller\", \"comunitario\", \"unica\", \"observaci\\u00f3n\", \"inscripcion\", \"inscribir\", \"ajustar\", \"designar\", \"plazo\", \"funcion\", \"elegir\", \"esten\", \"estimulos\", \"aplicable\", \"mencionar\", \"cluni\", \"documentar\", \"asociacion\", \"coinversion\", \"civil\", \"secretario\", \"organizaci\\u00f3n\", \"indesol\", \"sociedad\", \"otorgar\", \"convocatorio\", \"montar\", \"apoyar\", \"social\", \"chihuahua\", \"garantizar\", \"encuestar\", \"promover\", \"estudiar\", \"folio\", \"temer\", \"alimentario\", \"enviar\", \"elegible\", \"entender\", \"seguro\", \"excel\", \"arte\", \"reservar\", \"estimar\", \"describir\", \"financiero\", \"analisis\", \"ambito\", \"libro\", \"enfocar\", \"seguridad\", \"academicas\", \"telefonico\", \"educativo\", \"cultura\", \"ubicar\", \"explicar\", \"punto\", \"institucion\", \"yucatan\", \"tramitar\", \"fondo\", \"listar\", \"proyecto\", \"organizaci\\u00f3n\", \"resultar\", \"ayudar\", \"apoyar\", \"formar\", \"social\", \"civil\", \"sociedad\", \"entregar\", \"gastar\", \"coinversion\", \"desarrollar\", \"instituto\", \"juventud\", \"federal\", \"indesol\", \"decir\", \"montar\", \"periodo\", \"convocatorio\", \"requerir\", \"suministrar\", \"fallir\", \"licitante\", \"diferimientos\", \"suficiencia\", \"proposici\\u00f3n\", \"xiii\", \"aclaraci\\u00f3n\", \"modificatorio\", \"compranet\", \"propuesta\", \"economica\", \"llegar\", \"antecedente\", \"apertura\", \"tecnicas\", \"proponer\", \"anexo\", \"tecnica\", \"economicas\", \"fraccion\", \"gubernamental\", \"mercar\", \"afectar\", \"junto\", \"presentacion\", \"articulos\", \"curso\", \"adquisicion\", \"respectivo\", \"invertir\", \"gobernar\", \"derivar\", \"procedimiento\", \"federal\", \"acta\", \"montar\", \"entregar\", \"evaluacion\", \"fundamentar\", \"mujer\", \"convenio\", \"articular\", \"civil\", \"distribuir\", \"nombrar\", \"radiar\", \"potosi\", \"candidato\", \"presupuestario\", \"comprobacion\", \"ganador\", \"juventud\", \"capitular\", \"asunto\", \"preguntar\", \"mexicano\", \"hidalgo\", \"plazo\", \"claramente\", \"comunicacion\", \"contemplar\", \"hacendario\", \"hogar\", \"certificar\", \"comunidad\", \"jurar\", \"potencial\", \"presupuestar\", \"egreso\", \"destinar\", \"hara\", \"instituto\", \"partir\", \"soldar\", \"atender\", \"delegacion\", \"santo\", \"conformar\", \"cohesion\", \"aguascalientes\", \"imjuve\", \"municipal\", \"sedesol\", \"municipio\", \"fortalecimiento\", \"social\", \"desglosar\", \"becar\", \"documentar\", \"desarrollar\", \"inscribir\", \"convocatorio\", \"querer\", \"proyecto\", \"realizar\", \"federal\", \"control\", \"proteger\", \"publicaci\\u00f3n\", \"anualmente\", \"senalando\", \"abarcar\", \"adscribir\", \"juridica\", \"telefono\", \"sector\", \"pedir\", \"orden\", \"disponible\", \"constituir\", \"actor\", \"completo\", \"consultar\", \"discapacidad\", \"activo\", \"difusion\", \"licitaci\\u00f3n\", \"inventario\", \"figurar\", \"estatus\", \"direccion\", \"llamar\", \"continuacion\", \"integracion\", \"categoria\", \"certificar\", \"leon\", \"funcionar\", \"entregar\", \"formato\", \"querer\", \"evento\", \"proyecto\", \"nivel\", \"social\", \"organizaci\\u00f3n\", \"municipio\", \"sociedad\", \"desarrollar\", \"instituto\", \"destinar\", \"civil\", \"federal\", \"convocatorio\", \"apoyar\", \"casar\", \"norma\", \"impulsar\", \"ortega\", \"desagregar\", \"aguascalientes\", \"aprobar\", \"cohesion\", \"caso\", \"juvenil\", \"martinez\", \"adjudicar\", \"determinar\", \"coordinacion\", \"delegacion\", \"noviembre\", \"conocer\", \"aparecer\", \"modalidad\", \"shcp\", \"profesionalizacion\", \"ocupar\", \"clasificacion\", \"vitae\", \"fortalecimiento\", \"calificacion\", \"octubre\", \"decretar\", \"ajustar\", \"ninas\", \"autoridad\", \"domiciliar\", \"dictaminacion\", \"inscribir\", \"sedesol\", \"utilizar\", \"nombramiento\", \"acta\", \"convocatorio\", \"proyecto\", \"apoyar\", \"social\", \"requerir\", \"civil\", \"organizaci\\u00f3n\", \"sociedad\", \"informar\", \"montar\", \"desarrollar\", \"instituto\", \"indesol\", \"correspondiente\", \"tecnico\", \"imef\", \"urbano\", \"embarazo\", \"debatir\", \"jalisco\", \"asesorar\", \"politico\", \"sindicato\", \"pobreza\", \"ejercicio\", \"michoacan\", \"compromiso\", \"interno\", \"ejercer\", \"estimulos\", \"prestaci\\u00f3n\", \"zona\", \"registro\", \"marzo\", \"aclarar\", \"excel\", \"trabajador\", \"puesto\", \"convenio\", \"asignacion\", \"linear\", \"medir\", \"economicos\", \"encaminar\", \"mayar\", \"representante\", \"asociaci\\u00f3n\", \"apoyo\", \"legal\", \"beneficiar\", \"delito\", \"institucion\", \"civil\", \"periodo\", \"sociedad\", \"organizaci\\u00f3n\", \"actividad\", \"federal\", \"montar\", \"indesol\", \"organizacion\", \"instituto\", \"nava\", \"vazquez\", \"consultor\", \"despachar\", \"seguimiento\", \"consumidor\", \"rodriguez\", \"electronicos\", \"corriente\", \"solicitarle\", \"institucional\", \"normatividad\", \"unicamente\", \"redar\", \"cantidad\", \"especificos\", \"imprimir\", \"consejo\", \"relativo\", \"representar\", \"manual\", \"creacion\", \"jovenes\", \"comunicacion\", \"tecnologia\", \"analisis\", \"aplicable\", \"conversion\", \"demas\", \"politicas\", \"mecanismo\", \"calificacion\", \"acta\", \"dictaminacion\", \"otorgar\", \"imjuve\", \"juventud\", \"convocatorio\", \"contener\", \"publicar\", \"documentar\", \"salariar\", \"relacion\", \"gastar\", \"proyecto\", \"ciudadano\", \"social\", \"presupuestar\", \"casar\", \"instituto\", \"mexicano\", \"represion\", \"computar\", \"telecomunicaci\\u00f3n\", \"amparar\", \"departamento\", \"tecnicos\", \"indice\", \"cuestionario\", \"recibo\", \"familia\", \"tabasco\", \"operativo\", \"avalar\", \"diagnosticar\", \"hoja\", \"licenciar\", \"estructurar\", \"desempena\", \"implementar\", \"facturar\", \"actual\", \"victimar\", \"finalidad\", \"contestar\", \"referente\", \"municipal\", \"unica\", \"centro\", \"comunidad\", \"inscripcion\", \"apoyo\", \"mencionar\", \"montar\", \"asociacion\", \"apoyar\", \"cluni\", \"documentar\", \"otorgar\", \"padron\", \"social\", \"secretario\", \"coinversion\", \"mexicano\", \"desarrollar\", \"incluir\", \"proyecto\", \"civil\", \"instituto\", \"juventud\", \"presupuestar\", \"desglosar\", \"vifac\", \"especializar\", \"hombre\", \"identificar\", \"expedir\", \"modificar\", \"abrir\", \"proceso\", \"informe\", \"acudir\", \"constitucion\", \"organismo\", \"contactar\", \"vivir\", \"problema\", \"colimar\", \"constitucional\", \"reglamentar\", \"patrimonial\", \"equidad\", \"afectar\", \"vertiente\", \"pertenecer\", \"acuerdo\", \"particular\", \"callar\", \"rural\", \"responsabilidad\", \"mujer\", \"correspondiente\", \"situacion\", \"violencia\", \"unir\", \"politica\", \"articular\", \"prevencion\", \"poblar\", \"creacion\", \"desarrollar\", \"desglosar\", \"instituto\", \"periodo\", \"social\", \"anual\", \"presupuestar\", \"consumidor\", \"municipio\", \"coinversion\", \"salud\", \"acta\", \"documentar\", \"casar\", \"juventud\", \"calificacion\", \"convocatorio\", \"telefonia\", \"celular\", \"recibiados\", \"importar\", \"juarez\", \"dictaminador\", \"modelar\", \"motivo\", \"vacante\", \"estatal\", \"adjudicacion\", \"vivienda\", \"plaza\", \"licitacion\", \"obligar\", \"temporal\", \"dicha\", \"encaminar\", \"restringir\", \"mantenimiento\", \"sancionar\", \"corresponder\", \"combatir\", \"prestacion\", \"tomar\", \"bajo\", \"quedar\", \"justificacion\", \"coordinador\", \"incidencia\", \"informar\", \"requerir\", \"consumidor\", \"contar\", \"ganador\", \"montar\", \"rubro\", \"actividad\", \"calificacion\", \"dictaminacion\", \"acta\", \"presupuestar\", \"convocatorio\", \"institucion\", \"instituto\", \"juventud\", \"tipo\", \"mexicano\", \"social\", \"especificar\", \"federal\", \"indesol\", \"civil\", \"numeral\", \"infantil\", \"sustentar\", \"temporal\", \"usuario\", \"conjuntar\", \"estrategia\", \"ultimar\", \"remitir\", \"evento\", \"riesgo\", \"autorizacion\", \"embarazar\", \"evaluaci\\u00f3n\", \"cambiar\", \"avanzar\", \"mostrar\", \"implementacion\", \"impactar\", \"estadisticas\", \"ejecucion\", \"accion\", \"indicador\", \"diario\", \"experiencia\", \"soportar\", \"constar\", \"organigrama\", \"politico\", \"paimef\", \"bien\", \"oaxaca\", \"objetivar\", \"instancia\", \"mujer\", \"indicar\", \"costo\", \"general\", \"organizacion\", \"publicar\", \"prevencion\", \"manual\", \"accionar\", \"federacion\", \"juvenil\", \"oficial\", \"fiscal\", \"social\", \"proyecto\", \"apoyar\", \"desarrollar\", \"instituto\", \"convenio\", \"proporcionar\", \"coinversion\", \"resultar\", \"reconocer\", \"ejecutor\", \"cifrar\", \"respetar\", \"sentir\", \"libro\", \"evaluar\", \"manejar\", \"talar\", \"universidad\", \"igualdad\", \"equidad\", \"vertiente\", \"cuyo\", \"unir\", \"cordial\", \"imprimir\", \"rodriguez\", \"familiar\", \"soportar\", \"electronico\", \"vincular\", \"alimentario\", \"comisionar\", \"encaminar\", \"virtud\", \"nutricion\", \"humano\", \"constitucion\", \"estimar\", \"privar\", \"alimentacion\", \"comunitario\", \"iniciativo\", \"dictaminacion\", \"educacion\", \"generar\", \"distrito\", \"cruzar\", \"convocatorio\", \"promocion\", \"calificacion\", \"fomentar\", \"acta\", \"social\", \"hambre\", \"ciudadano\", \"llevar\", \"violencia\", \"inscribir\", \"desarrollar\", \"federal\", \"civil\", \"coinversion\", \"organizaci\\u00f3n\", \"proyecto\", \"sociedad\", \"asociacion\", \"contestar\", \"competencia\", \"cuestionario\", \"conjunto\", \"escolaridad\", \"importante\", \"publicacion\", \"lfprh\", \"ofrecer\", \"principio\", \"elemento\", \"migrante\", \"ingresar\", \"diverso\", \"cargo\", \"potencial\", \"diario\", \"categorias\", \"adicionalmente\", \"indigena\", \"acreditar\", \"adolescente\", \"cuantificacion\", \"embarazar\", \"guia\", \"emitir\", \"definir\", \"hacendario\", \"compromiso\", \"representacion\", \"anual\", \"indicador\", \"administracion\", \"relativo\", \"federacion\", \"santo\", \"atender\", \"grupo\", \"obligar\", \"relacion\", \"nivel\", \"oficial\", \"convocatorio\", \"tipo\", \"presupuestar\", \"juventud\", \"acta\", \"proyecto\", \"dictaminacion\", \"federal\", \"social\", \"ciudadano\", \"municipio\", \"instituto\", \"mexicano\", \"adjudicaci\\u00f3n\", \"capturar\", \"adulto\", \"comentar\", \"saludo\", \"diez\", \"experiencia\", \"campo\", \"cerrar\", \"mencion\", \"mayor\", \"ligar\", \"antiguedad\", \"central\", \"mostrar\", \"trabajar\", \"instalacion\", \"perfil\", \"oficina\", \"enlazar\", \"orden\", \"invertir\", \"caber\", \"infraestructura\", \"discapacidad\", \"juridico\", \"vinculacion\", \"carrera\", \"campana\", \"michoacan\", \"recibir\", \"asociaci\\u00f3n\", \"civil\", \"sociedad\", \"organizaci\\u00f3n\", \"atender\", \"actividad\", \"promocion\", \"nivel\", \"organizacion\", \"documentar\", \"llevar\", \"gastar\", \"social\", \"federal\", \"proyecto\", \"acta\", \"humano\", \"asociacion\", \"tipo\", \"distrito\", \"apoyar\", \"convocatorio\", \"indesol\", \"dictaminacion\", \"terminar\", \"concluir\", \"especificamente\", \"directamente\", \"arrendamiento\", \"internacional\", \"depender\", \"aclarar\", \"prestador\", \"desempena\", \"estudio\", \"invitacion\", \"licitaci\\u00f3n\", \"dirigir\", \"caber\", \"proceso\", \"prestar\", \"humanar\", \"digital\", \"consumir\", \"afirmativo\", \"antemano\", \"constar\", \"profesional\", \"tener\", \"estadisticas\", \"orden\", \"prestacion\", \"obligaci\\u00f3n\", \"central\", \"contratacion\", \"particular\", \"operacion\", \"celebrar\", \"sinaloa\", \"procesar\", \"facturar\", \"casar\", \"monto\", \"realizar\", \"montar\", \"grupo\", \"honorario\", \"apoyar\", \"presupuestar\", \"convenio\", \"social\", \"requerir\", \"prevencion\", \"federal\", \"nivel\", \"desarrollar\", \"convocatorio\", \"publicar\", \"plantilla\", \"transportar\", \"recibiados\", \"sinaloa\", \"segundo\", \"incidencia\", \"directorio\", \"inmueble\", \"credito\", \"continuacion\", \"ordenar\", \"quedar\", \"denominacion\", \"becar\", \"perfil\", \"diez\", \"guerrero\", \"direccionar\", \"rural\", \"necesidad\", \"distrito\", \"mesar\", \"emprendedor\", \"conocer\", \"humanar\", \"hidalgo\", \"rango\", \"requerir\", \"septiembre\", \"iniciativo\", \"informar\", \"humano\", \"laborar\", \"ciudadano\", \"llevar\", \"promocion\", \"educacion\", \"beneficiar\", \"montar\", \"federal\", \"acta\", \"proporcionar\", \"convocatorio\", \"sociedad\", \"proyecto\", \"social\", \"otorgar\", \"civil\", \"organizaci\\u00f3n\", \"dictaminacion\", \"instituto\", \"juventud\", \"mexicano\", \"desarrollar\", \"cursar\", \"emprendedor\", \"academicas\", \"agostar\", \"beneficio\", \"jurar\", \"elemento\", \"siguiente\", \"versionar\", \"horario\", \"precisar\", \"hoja\", \"responder\", \"ninas\", \"madre\", \"caracteristicas\", \"internet\", \"estudiante\", \"yucatan\", \"taller\", \"febrero\", \"especificos\", \"obligaci\\u00f3n\", \"mensual\", \"subsidiar\", \"rango\", \"instalacion\", \"crear\", \"mencion\", \"cultura\", \"fundacion\", \"razon\", \"comprobar\", \"especificar\", \"menor\", \"soldar\", \"recibir\", \"cluni\", \"informe\", \"centrar\", \"tipo\", \"municipio\", \"proyecto\", \"federal\", \"unica\", \"familiar\", \"fomentar\", \"social\", \"documentar\", \"obtener\", \"presupuestar\", \"nivel\", \"civil\", \"correspondiente\", \"partir\", \"desarrollar\", \"dictaminacion\", \"montar\", \"apoyar\", \"informar\"], \"Freq\": [20.0, 20.0, 20.0, 21.0, 21.0, 29.0, 60.0, 80.0, 78.0, 15.0, 82.0, 93.0, 12.0, 48.0, 29.0, 56.0, 24.0, 29.0, 54.0, 31.0, 23.0, 33.0, 40.0, 54.0, 27.0, 39.0, 69.0, 26.0, 37.0, 26.0, 3.553393602371216, 2.581958532333374, 4.068813800811768, 3.473125457763672, 4.884113788604736, 4.923714637756348, 3.8964271545410156, 4.988768577575684, 3.1265110969543457, 1.8091539144515991, 5.006603717803955, 3.640392780303955, 1.5420657396316528, 2.002591609954834, 3.886659860610962, 2.2968904972076416, 5.086951732635498, 4.0165815353393555, 11.033305168151855, 2.4839799404144287, 1.8491007089614868, 11.955827713012695, 1.1806414127349854, 3.913898229598999, 4.094907283782959, 3.6906633377075195, 3.509097099304199, 11.563129425048828, 3.9574267864227295, 11.07036018371582, 10.89356517791748, 9.576088905334473, 10.221725463867188, 4.203542709350586, 8.336268424987793, 6.4946513175964355, 10.506257057189941, 9.84499454498291, 6.701780319213867, 6.591675758361816, 8.38160228729248, 6.748157501220703, 6.680287837982178, 6.142941474914551, 6.969855785369873, 5.409658432006836, 4.710739612579346, 4.43964147567749, 4.215687274932861, 4.6750946044921875, 4.246706485748291, 10.634526252746582, 5.555215358734131, 4.608133316040039, 2.6672537326812744, 3.418187141418457, 3.831455945968628, 2.7457780838012695, 2.370037078857422, 2.8228039741516113, 2.1904075145721436, 2.8985562324523926, 2.3156816959381104, 2.3071587085723877, 4.337425708770752, 3.8427016735076904, 1.6979647874832153, 3.571700096130371, 1.9440165758132935, 1.6309200525283813, 10.528572082519531, 2.1694962978363037, 2.2227680683135986, 1.2640349864959717, 1.4578094482421875, 5.074960708618164, 2.061262845993042, 0.9769363403320312, 1.9394445419311523, 1.0141446590423584, 3.2294960021972656, 1.3619968891143799, 1.8123128414154053, 9.57837200164795, 16.956369400024414, 4.897637367248535, 4.445705413818359, 12.427958488464355, 13.402690887451172, 15.479317665100098, 9.479333877563477, 7.4379706382751465, 3.778301477432251, 8.99606990814209, 4.857935905456543, 6.138437271118164, 5.765904426574707, 6.298341274261475, 5.5851240158081055, 4.82817268371582, 5.165065288543701, 5.157501697540283, 3.7357521057128906, 4.631937503814697, 4.023337364196777, 5.003547191619873, 13.067872047424316, 11.140751838684082, 3.9070231914520264, 3.2957606315612793, 10.843001365661621, 12.650226593017578, 7.434304237365723, 4.3255438804626465, 10.9091215133667, 12.318340301513672, 6.504955291748047, 9.457234382629395, 12.801716804504395, 3.1502492427825928, 2.4572296142578125, 10.343436241149902, 8.523319244384766, 3.0074942111968994, 8.334388732910156, 15.768522262573242, 7.435832977294922, 2.428835391998291, 1.2261695861816406, 1.568267822265625, 1.3708375692367554, 1.4041786193847656, 2.654633045196533, 1.0847580432891846, 6.137746810913086, 8.74853801727295, 11.430926322937012, 9.642328262329102, 11.845870018005371, 15.863094329833984, 7.91357946395874, 12.69477367401123, 8.829986572265625, 10.703222274780273, 7.783965587615967, 10.973831176757812, 9.796844482421875, 9.558273315429688, 9.778666496276855, 4.495674133300781, 2.0115318298339844, 8.232882499694824, 3.7370474338531494, 5.185937881469727, 3.2400436401367188, 3.6082370281219482, 3.0326292514801025, 2.9499428272247314, 7.020517349243164, 2.2086880207061768, 5.833564758300781, 1.9616862535476685, 1.8706403970718384, 1.664133906364441, 2.548586845397949, 3.0298075675964355, 3.896897554397583, 2.227607011795044, 2.5051865577697754, 1.514032244682312, 2.065183639526367, 4.287207126617432, 1.2593908309936523, 1.9691071510314941, 2.5935025215148926, 2.1256814002990723, 2.798088312149048, 1.1791841983795166, 2.3674280643463135, 10.598055839538574, 2.8255980014801025, 3.9133126735687256, 3.4400038719177246, 5.34600305557251, 9.532769203186035, 9.210241317749023, 5.04421329498291, 3.5466248989105225, 7.246575832366943, 3.688359498977661, 8.348414421081543, 7.297104835510254, 6.272056579589844, 4.240849018096924, 3.929940700531006, 5.4384355545043945, 5.915317535400391, 5.8150954246521, 5.395699977874756, 4.879927158355713, 4.303931713104248, 3.65423583984375, 4.114433765411377, 3.9041359424591064, 4.0746893882751465, 3.817476272583008, 3.0224876403808594, 8.142204284667969, 4.214597225189209, 3.9562745094299316, 3.93849778175354, 4.129405975341797, 3.936920642852783, 3.9689738750457764, 3.7571911811828613, 4.0089850425720215, 4.830995559692383, 5.066274166107178, 4.058623313903809, 3.8377606868743896, 4.367927074432373, 3.6974635124206543, 4.013852596282959, 5.738446235656738, 4.083484172821045, 4.891401767730713, 4.056910991668701, 6.476702690124512, 3.6570966243743896, 1.9105157852172852, 3.8486084938049316, 3.989525079727173, 3.235153913497925, 2.2165286540985107, 4.221401214599609, 4.561692714691162, 3.3515357971191406, 9.446914672851562, 3.6876885890960693, 4.684469223022461, 7.921245574951172, 8.074013710021973, 6.130041599273682, 4.678030967712402, 4.343728542327881, 4.251082420349121, 4.557323455810547, 4.347917079925537, 4.009751796722412, 4.01191520690918, 2.0326690673828125, 1.7705066204071045, 2.7423765659332275, 3.7703888416290283, 1.7047793865203857, 3.4558651447296143, 1.6192833185195923, 3.8418467044830322, 22.268516540527344, 1.590092658996582, 1.4441291093826294, 3.3771917819976807, 14.963003158569336, 2.4780707359313965, 1.1733444929122925, 0.9239880442619324, 2.800788640975952, 1.354372262954712, 0.7324499487876892, 1.623430848121643, 1.5510039329528809, 3.521080255508423, 1.4081569910049438, 2.007730484008789, 15.071572303771973, 1.6705166101455688, 8.610976219177246, 0.7015592455863953, 19.459983825683594, 4.7342119216918945, 3.2528090476989746, 4.217991828918457, 4.812068939208984, 4.091780662536621, 2.5787370204925537, 3.290626287460327, 2.9906678199768066, 4.734145164489746, 2.679110288619995, 4.123682498931885, 4.255401134490967, 3.353738307952881, 6.275436878204346, 3.7363760471343994, 2.6420581340789795, 3.588052272796631, 3.924112558364868, 3.412963390350342, 3.4238784313201904, 2.9651966094970703, 3.3327834606170654, 2.975001573562622, 2.999072313308716, 7.293576717376709, 4.960388660430908, 4.278749942779541, 3.2589497566223145, 4.418272495269775, 1.8974422216415405, 2.565769910812378, 2.1417617797851562, 3.4731297492980957, 3.985065221786499, 1.9307750463485718, 2.1942968368530273, 2.4184768199920654, 2.6393091678619385, 4.420577049255371, 4.920707702636719, 3.624150514602661, 3.496124744415283, 2.253495931625366, 2.5484440326690674, 1.4854167699813843, 1.0202875137329102, 1.2749015092849731, 1.0696790218353271, 5.9685750007629395, 1.912354826927185, 0.9469150304794312, 1.314467430114746, 1.8669430017471313, 1.4851250648498535, 2.5313172340393066, 3.5087215900421143, 4.663000106811523, 4.513419151306152, 4.068629264831543, 2.460184097290039, 6.238140106201172, 3.814336061477661, 6.741286277770996, 5.63831901550293, 3.732294797897339, 4.416627883911133, 4.603447914123535, 4.462335109710693, 3.535799264907837, 4.320123672485352, 3.82894229888916, 3.9062037467956543, 3.7088279724121094, 3.3895018100738525, 2.2611966133117676, 7.192646026611328, 2.652707576751709, 5.167647838592529, 6.708276271820068, 11.544708251953125, 7.12917947769165, 3.3111422061920166, 8.485864639282227, 1.902117371559143, 1.5912857055664062, 1.7341396808624268, 2.173685312271118, 6.657717227935791, 2.845043182373047, 1.1156455278396606, 1.3513895273208618, 1.83214271068573, 0.8553674221038818, 1.915108323097229, 2.940256118774414, 1.159403681755066, 1.3023558855056763, 6.1438069343566895, 13.5375394821167, 1.7648098468780518, 1.1248552799224854, 4.938460826873779, 1.5724886655807495, 1.6342641115188599, 3.023932933807373, 12.108908653259277, 7.475681304931641, 5.416171550750732, 3.1540350914001465, 2.22810959815979, 8.39772891998291, 7.925492286682129, 6.917703628540039, 6.274339199066162, 6.522243022918701, 4.4505414962768555, 5.437074184417725, 4.736750602722168, 4.032510280609131, 3.6050612926483154, 3.8377864360809326, 3.627403974533081, 3.5078790187835693, 3.2179336547851562, 3.0613224506378174, 12.565386772155762, 11.99923324584961, 2.8264319896698, 3.7319130897521973, 3.887376070022583, 4.637206554412842, 2.828404188156128, 3.3373608589172363, 3.5281944274902344, 3.9193637371063232, 4.837573051452637, 5.013426303863525, 1.7978347539901733, 1.6217892169952393, 3.1395015716552734, 2.6881654262542725, 3.244520425796509, 1.9956721067428589, 1.6612412929534912, 2.1475327014923096, 1.087437391281128, 1.3303548097610474, 5.759287357330322, 2.580073833465576, 9.880990028381348, 1.447529673576355, 1.042014479637146, 1.5293432474136353, 3.197340250015259, 1.3896547555923462, 2.189751148223877, 2.852785348892212, 4.2512030601501465, 4.308239936828613, 3.015204429626465, 3.271702289581299, 2.338308095932007, 4.633335590362549, 6.268656253814697, 4.374002933502197, 5.31198263168335, 5.482394218444824, 4.03496789932251, 4.052944660186768, 3.9555671215057373, 3.5749080181121826, 3.2461981773376465, 3.2629048824310303, 13.558311462402344, 13.5582857131958, 10.058672904968262, 3.9351601600646973, 4.096210956573486, 10.807975769042969, 3.0668745040893555, 2.553565502166748, 1.2272348403930664, 1.2336547374725342, 4.695010185241699, 1.7825292348861694, 1.3286099433898926, 2.373744010925293, 1.6598544120788574, 1.2421152591705322, 1.2699391841888428, 3.2637596130371094, 2.065631151199341, 1.2486506700515747, 2.6397511959075928, 3.4956700801849365, 2.773308277130127, 2.276150703430176, 0.7125415205955505, 1.3650116920471191, 0.7829006314277649, 1.1205368041992188, 0.9721867442131042, 3.940629720687866, 2.1070382595062256, 9.006110191345215, 11.807964324951172, 9.750097274780273, 5.5367207527160645, 4.471318244934082, 6.892546653747559, 7.060168266296387, 2.745253562927246, 4.562981605529785, 4.737377643585205, 2.443446636199951, 2.9650685787200928, 2.6431756019592285, 3.475982904434204, 2.9127490520477295, 3.41772198677063, 3.1253859996795654, 2.8668065071105957, 2.686465263366699, 2.644167423248291, 2.461928129196167, 2.0149877071380615, 1.8848440647125244, 2.8658931255340576, 2.351594924926758, 1.6629223823547363, 2.3664698600769043, 2.880276679992676, 3.7467904090881348, 1.9163709878921509, 6.859671592712402, 2.0169219970703125, 3.6329667568206787, 1.3167405128479004, 1.3243281841278076, 1.533064842224121, 1.9852428436279297, 0.9548690915107727, 3.2552294731140137, 3.9827840328216553, 2.4468994140625, 2.4127368927001953, 1.08986234664917, 1.66217041015625, 2.449537515640259, 2.6968274116516113, 4.083049297332764, 2.421186685562134, 2.572519540786743, 3.99220871925354, 4.236655235290527, 3.850484848022461, 8.13355541229248, 5.2547101974487305, 6.5980401039123535, 4.3018646240234375, 5.208240509033203, 4.569981575012207, 3.1883938312530518, 5.982873439788818, 3.8162636756896973, 4.129770278930664, 3.5973989963531494, 3.9239320755004883, 2.8313748836517334, 3.4435641765594482, 3.2768430709838867, 3.2769181728363037, 3.079146146774292, 3.0241377353668213, 2.7816922664642334, 8.130032539367676, 2.4841196537017822, 4.799676895141602, 2.5844314098358154, 1.9948501586914062, 1.4403963088989258, 2.62882924079895, 1.5359148979187012, 6.79531192779541, 1.5618329048156738, 3.509246826171875, 2.8402838706970215, 2.7815163135528564, 2.261075258255005, 2.0498998165130615, 1.688231348991394, 2.002171516418457, 1.1593279838562012, 1.062799334526062, 2.0114479064941406, 1.0866769552230835, 1.211444616317749, 1.1041284799575806, 1.2078149318695068, 1.5670819282531738, 1.438366413116455, 1.3935725688934326, 1.092644214630127, 7.339862823486328, 5.7949910163879395, 2.360710382461548, 3.6581597328186035, 2.8012309074401855, 2.9961705207824707, 4.085800647735596, 3.2148377895355225, 2.9535303115844727, 2.566568613052368, 7.633571624755859, 4.310249328613281, 7.633625030517578, 4.351040840148926, 6.9046711921691895, 3.277866840362549, 5.0262956619262695, 3.2689568996429443, 3.5723366737365723, 3.646562099456787, 2.5531005859375, 3.4920382499694824, 3.1877598762512207, 2.9501242637634277, 3.0835120677948, 2.9885213375091553, 2.7517740726470947, 2.640596866607666, 2.7187235355377197, 8.15995979309082, 2.6978721618652344, 2.507995843887329, 3.3027732372283936, 1.682296872138977, 1.6847102642059326, 2.2269093990325928, 5.08612060546875, 3.028524875640869, 2.428894519805908, 2.0461626052856445, 3.9398999214172363, 2.250828266143799, 0.9038618803024292, 1.83574378490448, 1.6197035312652588, 0.9098206758499146, 1.832371473312378, 1.9527583122253418, 2.152672290802002, 1.346975326538086, 1.4644038677215576, 2.0290205478668213, 2.768336534500122, 1.523359775543213, 0.8228892683982849, 0.9921193718910217, 1.4707914590835571, 9.576278686523438, 9.052656173706055, 4.374652862548828, 3.4666976928710938, 2.2532265186309814, 6.717888355255127, 2.295130968093872, 3.988724708557129, 4.897436618804932, 5.324997425079346, 5.01906156539917, 4.149946689605713, 4.517550945281982, 3.1114447116851807, 4.008229732513428, 3.800276279449463, 3.1353065967559814, 2.9952123165130615, 3.348433017730713, 2.5851616859436035, 2.8883533477783203, 2.6012134552001953, 2.6398870944976807, 1.6664278507232666, 3.959686040878296, 1.5106881856918335, 1.284064769744873, 1.6419711112976074, 1.0910940170288086, 3.8860538005828857, 1.7267988920211792, 1.2620588541030884, 3.9943089485168457, 1.4363179206848145, 2.2137365341186523, 1.7446253299713135, 1.1511118412017822, 1.5346416234970093, 2.204155206680298, 1.425621747970581, 1.9424657821655273, 1.5244985818862915, 3.790137767791748, 1.379961609840393, 3.124248743057251, 2.270352363586426, 2.9404139518737793, 1.2963789701461792, 0.9803622961044312, 1.3184292316436768, 1.5510780811309814, 1.7667750120162964, 2.8610470294952393, 2.118738889694214, 2.0628840923309326, 2.8565969467163086, 2.9260306358337402, 4.882800579071045, 2.465773105621338, 2.379365921020508, 2.0625288486480713, 3.556873083114624, 4.317282199859619, 2.741163969039917, 2.0586605072021484, 3.339811325073242, 2.6770036220550537, 2.937007188796997, 2.688857316970825, 3.011674404144287, 4.370527267456055, 3.6143369674682617, 3.4732723236083984, 3.4370596408843994, 3.1490602493286133, 2.446646213531494, 2.265793800354004, 2.3249154090881348, 2.2458243370056152, 2.6619200706481934, 1.3299155235290527, 2.3587257862091064, 1.5121564865112305, 1.049767255783081, 1.2863973379135132, 1.084362268447876, 1.1468729972839355, 0.9203139543533325, 2.2681119441986084, 1.4231786727905273, 2.018970012664795, 1.2819061279296875, 3.1761271953582764, 3.2643227577209473, 0.9319192171096802, 0.8738560080528259, 1.3825196027755737, 3.9804201126098633, 0.7367074489593506, 1.0318856239318848, 1.1194837093353271, 1.1778470277786255, 1.2112334966659546, 1.0644505023956299, 0.6448896527290344, 3.3891353607177734, 5.160694599151611, 1.9924838542938232, 1.067718267440796, 1.9073210954666138, 3.3851051330566406, 3.8928821086883545, 4.211596965789795, 8.929588317871094, 4.457744121551514, 2.9568536281585693, 4.417511463165283, 3.262009620666504, 7.5309906005859375, 4.041543960571289, 5.421871662139893, 3.7113606929779053, 6.278271198272705, 7.219756126403809, 3.2005250453948975, 3.82480525970459, 3.6246140003204346, 2.593956232070923, 3.8557310104370117, 5.032355785369873, 4.143710136413574, 4.081313133239746, 3.515211820602417, 3.7442879676818848, 3.500826358795166, 3.2904212474823, 2.974965810775757, 4.507944107055664, 2.0544075965881348, 4.8914899826049805, 3.3948233127593994, 1.8678994178771973, 2.7200732231140137, 3.4010255336761475, 1.2768062353134155, 2.98488712310791, 0.7611039876937866, 0.9547295570373535, 1.7604395151138306, 4.976662635803223, 1.9420541524887085, 2.331634998321533, 2.2641239166259766, 3.366302967071533, 2.0809829235076904, 0.7223499417304993, 1.6679223775863647, 1.5178762674331665, 5.238059997558594, 1.2541124820709229, 1.6280428171157837, 0.7362785339355469, 2.9739837646484375, 0.7402337193489075, 0.6621718406677246, 1.2092448472976685, 1.1127856969833374, 5.348747730255127, 1.9732328653335571, 3.6839489936828613, 1.7039320468902588, 3.466202974319458, 3.345310926437378, 3.152984857559204, 3.0176327228546143, 1.7465494871139526, 3.0184950828552246, 3.1593234539031982, 2.6680779457092285, 4.672557830810547, 3.258678674697876, 3.9268405437469482, 4.000812530517578, 4.017530918121338, 3.562270164489746, 3.5528674125671387, 3.300629138946533, 3.2399795055389404, 2.7398903369903564, 2.6408040523529053, 2.76593017578125, 2.670830249786377, 3.761826753616333, 2.8064234256744385, 3.243147611618042, 1.4780457019805908, 1.8345348834991455, 1.3651762008666992, 2.0116517543792725, 1.4424093961715698, 1.5142019987106323, 1.3261241912841797, 3.1677963733673096, 1.4199469089508057, 1.5601584911346436, 1.566545009613037, 1.5040360689163208, 2.0076382160186768, 1.3221815824508667, 2.0151281356811523, 3.2491061687469482, 1.7940529584884644, 1.5195348262786865, 2.345289468765259, 1.3876837491989136, 1.415358543395996, 2.6756112575531006, 1.0630269050598145, 1.0538744926452637, 1.4137119054794312, 1.735895037651062, 2.790647268295288, 4.308651447296143, 3.3596701622009277, 8.048047065734863, 6.220090389251709, 6.380694389343262, 2.7432687282562256, 3.7814347743988037, 3.4910120964050293, 3.075803756713867, 2.8827991485595703, 3.4559266567230225, 2.8628950119018555, 2.4819202423095703, 4.028703212738037, 3.4902901649475098, 3.4464240074157715, 3.399688720703125, 2.5970652103424072, 2.699951410293579, 2.6273815631866455, 2.569890260696411, 2.795552968978882, 2.8004870414733887, 2.6114253997802734, 2.585981607437134, 1.4941412210464478, 1.3534239530563354, 2.574629306793213, 1.4424384832382202, 1.8422788381576538, 2.5432517528533936, 1.1925886869430542, 1.2034275531768799, 3.7504935264587402, 1.2267471551895142, 3.9319558143615723, 2.294722557067871, 1.2908785343170166, 2.040900945663452, 1.4591279029846191, 1.3473163843154907, 1.577427625656128, 1.0537394285202026, 1.8019379377365112, 1.2317320108413696, 1.6865684986114502, 1.8896245956420898, 1.1609916687011719, 2.814619302749634, 2.471848964691162, 2.9308364391326904, 1.2460908889770508, 1.248452067375183, 0.7833899259567261, 1.0622684955596924, 3.630689859390259, 1.3967591524124146, 3.315436840057373, 2.7040843963623047, 1.6454848051071167, 2.312800884246826, 2.6609690189361572, 3.988492250442505, 2.507910966873169, 3.3736674785614014, 3.822021722793579, 2.178654909133911, 1.9303818941116333, 3.2479848861694336, 3.118159532546997, 2.6589648723602295, 3.40031361579895, 2.6612730026245117, 2.052354335784912, 2.6754071712493896, 2.168473720550537, 2.2129557132720947, 2.2002382278442383, 2.1058425903320312, 2.9643781185150146, 3.5875720977783203, 6.506651401519775, 2.9363248348236084, 1.369608998298645, 1.756673812866211, 1.9251618385314941, 1.2844443321228027, 1.1118590831756592, 0.8051523566246033, 0.9285723567008972, 1.3660460710525513, 0.8279862403869629, 2.959446430206299, 1.4010924100875854, 0.6546964049339294, 1.7922956943511963, 0.9846571087837219, 1.1711839437484741, 0.6586176156997681, 5.980700969696045, 1.6265220642089844, 1.5272819995880127, 0.6627318263053894, 0.7123792767524719, 1.2937991619110107, 0.7495725750923157, 7.244458198547363, 1.596096396446228, 4.391520023345947, 7.0186357498168945, 4.505456924438477, 2.147259473800659, 4.476796627044678, 3.966803789138794, 4.170690536499023, 4.131269454956055, 2.3239662647247314, 5.405797004699707, 4.957475662231445, 4.7184600830078125, 2.796489715576172, 4.758868217468262, 3.6648123264312744, 3.794853687286377, 4.335453987121582, 2.894766092300415, 3.5209896564483643, 3.395817518234253, 3.330036163330078, 3.408684730529785, 3.250519037246704, 2.9448370933532715, 3.2084813117980957, 2.6359972953796387, 2.610025644302368, 1.0974513292312622, 1.4899253845214844, 1.5685818195343018, 1.3013287782669067, 0.6761711835861206, 1.0878130197525024, 1.0926055908203125, 1.084815263748169, 0.9087545871734619, 1.224707007408142, 1.0722438097000122, 1.428086519241333, 2.1327641010284424, 1.0929100513458252, 1.5583168268203735, 1.3019144535064697, 1.7124989032745361, 1.1262669563293457, 1.0840158462524414, 0.7441795468330383, 0.677947998046875, 2.0310068130493164, 0.7027417421340942, 0.7918457984924316, 0.8089471459388733, 0.945056140422821, 0.573895275592804, 0.9951657652854919, 2.160353183746338, 1.8862274885177612, 1.3708630800247192, 2.969128131866455, 1.6417120695114136, 1.7917782068252563, 2.992969274520874, 3.042736530303955, 2.329662799835205, 1.6571598052978516, 2.528573513031006, 2.527517318725586, 2.996645212173462, 2.93947434425354, 1.8709906339645386, 1.8698104619979858, 2.057126045227051, 2.973825216293335, 2.2540247440338135, 1.791357398033142, 2.348154306411743, 1.9244846105575562, 2.410245180130005, 1.8975342512130737, 1.7379822731018066, 1.91696035861969, 1.8894485235214233, 1.8718481063842773, 1.8586907386779785, 1.8120976686477661], \"Total\": [20.0, 20.0, 20.0, 21.0, 21.0, 29.0, 60.0, 80.0, 78.0, 15.0, 82.0, 93.0, 12.0, 48.0, 29.0, 56.0, 24.0, 29.0, 54.0, 31.0, 23.0, 33.0, 40.0, 54.0, 27.0, 39.0, 69.0, 26.0, 37.0, 26.0, 6.42665958404541, 4.876082897186279, 7.907690048217773, 7.29090690612793, 10.401350975036621, 10.765350341796875, 9.628375053405762, 12.842522621154785, 8.188018798828125, 4.762514591217041, 13.255071640014648, 9.811817169189453, 4.172328948974609, 5.450572967529297, 11.107501029968262, 6.697708606719971, 14.874226570129395, 11.842232704162598, 33.45135498046875, 7.561347961425781, 5.666415691375732, 37.11666488647461, 3.798898220062256, 12.703580856323242, 13.46726131439209, 12.47235107421875, 12.063634872436523, 39.807655334472656, 13.701909065246582, 40.121795654296875, 39.54756546020508, 37.29786682128906, 40.62248992919922, 15.362553596496582, 41.78139877319336, 33.18383026123047, 82.79360961914062, 78.96237182617188, 43.710792541503906, 48.82255935668945, 91.48770141601562, 77.44438171386719, 79.22109985351562, 69.51380157470703, 115.64834594726562, 45.066368103027344, 29.552722930908203, 25.3066349029541, 20.997730255126953, 93.05976867675781, 84.52848052978516, 21.323524475097656, 12.793193817138672, 11.149717330932617, 6.503386497497559, 8.757657051086426, 10.207775115966797, 7.347910404205322, 6.36073112487793, 7.80056095123291, 6.078455448150635, 8.20150375366211, 6.937607765197754, 7.137067794799805, 13.966385841369629, 12.49522876739502, 5.631817817687988, 11.940970420837402, 6.5310163497924805, 5.561984062194824, 36.1213493347168, 7.587713718414307, 8.120423316955566, 4.6405720710754395, 5.445908069610596, 19.165285110473633, 7.791198253631592, 3.7129876613616943, 7.37288761138916, 4.103481292724609, 13.078904151916504, 5.551625728607178, 7.493141174316406, 43.27191162109375, 84.52848052978516, 22.66839599609375, 22.19629669189453, 82.9570541381836, 93.05976867675781, 115.64834594726562, 71.00196838378906, 56.31439208984375, 19.84746742248535, 91.0490951538086, 32.00642395019531, 52.02376174926758, 61.12006759643555, 77.44438171386719, 79.22109985351562, 48.82255935668945, 71.7917251586914, 91.48770141601562, 25.3066349029541, 80.357177734375, 43.63335418701172, 10.154290199279785, 27.16301918029785, 23.634662628173828, 8.530072212219238, 7.231844902038574, 24.896347045898438, 29.295494079589844, 17.434513092041016, 10.150378227233887, 26.034082412719727, 29.6202335357666, 16.381196975708008, 24.96539878845215, 36.23199462890625, 8.93876838684082, 7.0703043937683105, 30.125885009765625, 24.91949462890625, 9.009777069091797, 25.181440353393555, 48.63963317871094, 23.754634857177734, 7.928669452667236, 4.4436492919921875, 5.9230875968933105, 5.232402801513672, 5.436216831207275, 10.280200958251953, 4.328399658203125, 25.55498504638672, 38.90085983276367, 55.61087417602539, 48.01372528076172, 61.12006759643555, 91.0490951538086, 43.27191162109375, 82.9570541381836, 52.02376174926758, 71.00196838378906, 45.40354537963867, 91.48770141601562, 75.36048889160156, 71.7917251586914, 115.64834594726562, 8.741035461425781, 4.606540679931641, 19.077648162841797, 8.951668739318848, 12.446311950683594, 7.8182783126831055, 9.000468254089355, 7.9587082862854, 7.855823040008545, 19.309764862060547, 6.098184108734131, 17.311784744262695, 5.832747936248779, 5.6539154052734375, 5.13876485824585, 7.945957183837891, 9.513386726379395, 12.465252876281738, 7.326862335205078, 8.291351318359375, 5.121483325958252, 6.985982894897461, 14.933940887451172, 4.445072650909424, 7.002282619476318, 9.396967887878418, 7.70629358291626, 10.262423515319824, 4.432855606079102, 8.911901473999023, 39.93135452270508, 10.702214241027832, 16.61870765686035, 15.376567840576172, 32.00642395019531, 79.22109985351562, 82.9570541381836, 31.84042739868164, 17.878612518310547, 71.7917251586914, 20.02553939819336, 115.64834594726562, 91.0490951538086, 71.00196838378906, 29.95265769958496, 25.361528396606445, 61.12006759643555, 84.52848052978516, 93.05976867675781, 80.357177734375, 77.44438171386719, 52.02376174926758, 22.24354362487793, 75.36048889160156, 45.066368103027344, 91.48770141601562, 54.04744338989258, 5.096248149871826, 15.042383193969727, 7.956340312957764, 7.671086311340332, 7.691029071807861, 8.13148021697998, 7.901203632354736, 8.013265609741211, 7.651028156280518, 8.18233871459961, 9.965788841247559, 10.536404609680176, 8.863837242126465, 8.706758499145508, 9.980722427368164, 8.808976173400879, 10.040199279785156, 14.73922348022461, 11.0336332321167, 13.286816596984863, 11.654861450195312, 18.65746307373047, 10.59008502960205, 5.665589332580566, 11.603211402893066, 12.218587875366211, 10.067851066589355, 7.185463905334473, 13.701909065246582, 14.879284858703613, 11.206936836242676, 35.999576568603516, 12.542649269104004, 18.803918838500977, 77.44438171386719, 82.79360961914062, 75.36048889160156, 29.95265769958496, 21.210798263549805, 21.697410583496094, 42.45349884033203, 43.710792541503906, 28.162729263305664, 91.0490951538086, 5.59207010269165, 4.879129409790039, 7.8268141746521, 10.912287712097168, 5.526335716247559, 11.533308029174805, 5.631817817687988, 13.659065246582031, 80.357177734375, 5.773213863372803, 5.319302558898926, 12.703580856323242, 56.31439208984375, 9.327241897583008, 4.4436492919921875, 3.559499502182007, 11.531288146972656, 5.662900447845459, 3.1008780002593994, 7.234033584594727, 6.933862686157227, 15.965063095092773, 6.426101207733154, 9.195672988891602, 69.51380157470703, 7.832174777984619, 40.42479705810547, 3.3053088188171387, 93.05976867675781, 23.077241897583008, 16.582246780395508, 21.980754852294922, 25.515514373779297, 22.13968276977539, 14.115355491638184, 19.71355438232422, 18.092710494995117, 36.651180267333984, 16.103574752807617, 34.12154006958008, 43.005828857421875, 27.162372589111328, 115.64834594726562, 37.82355499267578, 18.032913208007812, 55.61087417602539, 84.52848052978516, 48.63963317871094, 91.48770141601562, 32.75458526611328, 79.22109985351562, 37.95310974121094, 77.44438171386719, 13.847026824951172, 9.521477699279785, 9.161070823669434, 7.4192023277282715, 10.063508033752441, 4.562819480895996, 6.296861171722412, 5.301383972167969, 9.427258491516113, 11.427594184875488, 6.24113655090332, 7.2486419677734375, 8.007719039916992, 9.144115447998047, 15.359591484069824, 17.732389450073242, 13.6417875289917, 13.203920364379883, 8.61771011352539, 9.7572021484375, 5.798269748687744, 4.119796276092529, 5.231228828430176, 4.53929328918457, 26.041597366333008, 8.703154563903809, 4.321931838989258, 6.017309665679932, 8.709301948547363, 6.933862686157227, 11.842232704162598, 17.909366607666016, 29.95265769958496, 33.817466735839844, 32.75458526611328, 15.347077369689941, 79.22109985351562, 33.417789459228516, 115.64834594726562, 82.9570541381836, 43.005828857421875, 71.00196838378906, 84.52848052978516, 93.05976867675781, 40.42479705810547, 91.0490951538086, 77.44438171386719, 91.48770141601562, 71.7917251586914, 43.63335418701172, 4.98513126373291, 17.866016387939453, 6.7858500480651855, 13.897191047668457, 18.092710494995117, 31.784109115600586, 19.71355438232422, 9.368481636047363, 26.890308380126953, 6.122658729553223, 5.4628777503967285, 6.15756368637085, 7.84395694732666, 25.515514373779297, 11.328977584838867, 4.654275894165039, 5.643575191497803, 7.761984348297119, 3.6650373935699463, 8.270273208618164, 12.883214950561523, 5.108466148376465, 5.75359582901001, 27.162372589111328, 60.649017333984375, 7.931397914886475, 5.190518379211426, 23.754634857177734, 7.717475891113281, 8.144566535949707, 15.867780685424805, 78.96237182617188, 48.63963317871094, 34.12154006958008, 18.247556686401367, 12.063634872436523, 82.79360961914062, 91.48770141601562, 79.22109985351562, 71.7917251586914, 115.64834594726562, 54.04744338989258, 91.0490951538086, 82.9570541381836, 71.00196838378906, 54.1029052734375, 75.36048889160156, 84.52848052978516, 93.05976867675781, 52.02376174926758, 33.74816131591797, 20.314857482910156, 21.009016036987305, 5.765924453735352, 7.716063976287842, 8.126434326171875, 10.784677505493164, 6.881968975067139, 8.696125984191895, 9.246869087219238, 10.899707794189453, 13.823057174682617, 14.698134422302246, 5.865085124969482, 5.316272258758545, 11.654966354370117, 10.280200958251953, 12.713190078735352, 8.18929386138916, 6.981359004974365, 9.124062538146973, 4.727662086486816, 5.832747936248779, 25.3066349029541, 11.352432250976562, 43.710792541503906, 6.557297229766846, 5.374061584472656, 7.936735153198242, 16.767675399780273, 7.326866626739502, 11.824396133422852, 15.623894691467285, 26.1353702545166, 28.45574378967285, 18.722543716430664, 21.04325294494629, 13.078904151916504, 39.93135452270508, 91.0490951538086, 45.066368103027344, 71.00196838378906, 82.9570541381836, 41.87907791137695, 77.44438171386719, 75.36048889160156, 52.02376174926758, 32.670623779296875, 93.05976867675781, 20.58327293395996, 20.583284378051758, 15.811232566833496, 7.719010829925537, 10.81381893157959, 29.1478328704834, 8.439493179321289, 7.63330078125, 3.7213690280914307, 4.0601959228515625, 15.562264442443848, 6.400434494018555, 4.962289810180664, 9.101993560791016, 6.470080375671387, 4.877198696136475, 5.009673118591309, 13.374728202819824, 8.982008934020996, 5.612563610076904, 12.097311019897461, 16.852388381958008, 13.635881423950195, 11.531288146972656, 3.798898220062256, 7.326862335205078, 4.328399658203125, 6.220917701721191, 5.403802394866943, 22.19629669189453, 12.276471138000488, 60.649017333984375, 82.79360961914062, 78.96237182617188, 45.40354537963867, 36.651180267333984, 80.357177734375, 91.48770141601562, 19.455101013183594, 48.82255935668945, 55.61087417602539, 17.56560516357422, 29.303874969482422, 25.361528396606445, 79.22109985351562, 40.121795654296875, 115.64834594726562, 69.51380157470703, 43.63335418701172, 93.05976867675781, 56.31439208984375, 5.828078746795654, 5.633364200592041, 5.616418361663818, 9.154208183288574, 7.812745094299316, 5.921549320220947, 9.833013534545898, 12.3705415725708, 16.381196975708008, 8.669683456420898, 31.507549285888672, 9.638808250427246, 17.434513092041016, 6.375518798828125, 6.413049221038818, 7.624644756317139, 10.082268714904785, 4.872586250305176, 17.527206420898438, 21.672021865844727, 13.495938301086426, 13.50228214263916, 6.108696460723877, 9.475052833557129, 13.964900016784668, 16.103574752807617, 24.91949462890625, 14.934671401977539, 15.965063095092773, 25.181440353393555, 28.45574378967285, 25.55498504638672, 75.36048889160156, 48.01372528076172, 71.7917251586914, 38.90085983276367, 55.61087417602539, 45.40354537963867, 24.96539878845215, 115.64834594726562, 43.27191162109375, 61.12006759643555, 56.31439208984375, 84.52848052978516, 27.88680076599121, 79.22109985351562, 91.0490951538086, 93.05976867675781, 80.357177734375, 69.51380157470703, 37.82355499267578, 12.112762451171875, 5.557419776916504, 13.175280570983887, 8.639335632324219, 6.785902976989746, 5.721952438354492, 10.711939811706543, 6.320807933807373, 28.05847930908203, 6.481536388397217, 14.674850463867188, 12.501913070678711, 12.351011276245117, 10.042543411254883, 9.161588668823242, 7.564993381500244, 9.049848556518555, 5.284079074859619, 5.177725791931152, 9.883188247680664, 5.665589332580566, 6.328267574310303, 5.8711090087890625, 6.517570495605469, 8.527694702148438, 7.876455783843994, 7.811522483825684, 6.173224925994873, 42.45349884033203, 33.74816131591797, 13.842381477355957, 22.206806182861328, 16.6827449798584, 18.057950973510742, 28.162729263305664, 21.628278732299805, 20.15729522705078, 16.852388381958008, 84.52848052978516, 37.82355499267578, 93.05976867675781, 45.066368103027344, 115.64834594726562, 29.042774200439453, 69.51380157470703, 29.1478328704834, 43.005828857421875, 61.12006759643555, 19.637630462646484, 82.79360961914062, 55.61087417602539, 43.63335418701172, 80.357177734375, 60.649017333984375, 91.48770141601562, 6.079343318939209, 6.297544002532959, 21.843944549560547, 7.395087718963623, 7.283324241638184, 9.915140151977539, 5.067875862121582, 5.649217128753662, 7.898072719573975, 18.247058868408203, 11.621006965637207, 9.81698226928711, 8.306106567382812, 16.653987884521484, 9.892068862915039, 3.983961582183838, 8.100075721740723, 7.326866626739502, 4.172328948974609, 8.668212890625, 9.317964553833008, 10.343737602233887, 6.679374694824219, 7.2658772468566895, 10.140451431274414, 13.905765533447266, 7.784061431884766, 4.237210750579834, 5.153138637542725, 7.7089762687683105, 54.1029052734375, 54.04744338989258, 29.1478328704834, 22.244014739990234, 13.659065246582031, 75.36048889160156, 15.028542518615723, 41.87907791137695, 60.649017333984375, 78.96237182617188, 82.79360961914062, 69.51380157470703, 91.48770141601562, 39.93135452270508, 93.05976867675781, 80.357177734375, 41.78139877319336, 56.31439208984375, 115.64834594726562, 29.552722930908203, 77.44438171386719, 52.02376174926758, 91.0490951538086, 4.567569732666016, 11.898372650146484, 4.680911540985107, 3.983961582183838, 5.176217079162598, 3.750168800354004, 13.426673889160156, 6.280980110168457, 4.847402095794678, 15.347077369689941, 5.673806667327881, 8.967906951904297, 7.140559196472168, 4.971758842468262, 6.662130832672119, 9.609476089477539, 6.24995756149292, 8.578496932983398, 6.754732131958008, 16.903736114501953, 6.171796798706055, 14.047329902648926, 10.490117073059082, 13.825119972229004, 6.139372825622559, 4.651589870452881, 6.335109710693359, 7.6024017333984375, 8.696125984191895, 14.38218879699707, 10.702995300292969, 10.396869659423828, 18.41127586364746, 19.32441520690918, 42.45349884033203, 15.283773422241211, 15.152536392211914, 11.860713005065918, 32.670623779296875, 48.82255935668945, 21.628278732299805, 12.097311019897461, 33.92448806762695, 21.715030670166016, 26.890308380126953, 24.023788452148438, 34.136348724365234, 115.64834594726562, 79.22109985351562, 71.7917251586914, 84.52848052978516, 93.05976867675781, 43.710792541503906, 33.626163482666016, 61.12006759643555, 31.84042739868164, 8.355668067932129, 4.38196325302124, 8.654580116271973, 5.5685601234436035, 4.052816867828369, 5.121483325958252, 4.838003158569336, 5.346490383148193, 4.439034938812256, 11.012724876403809, 6.956081390380859, 9.883188247680664, 6.328267574310303, 15.822122573852539, 16.6827449798584, 4.993709087371826, 5.009673118591309, 8.439493179321289, 24.896347045898438, 4.651589870452881, 6.635696887969971, 7.561347961425781, 7.9587082862854, 8.188018798828125, 7.326866626739502, 4.469228267669678, 23.634662628173828, 37.29786682128906, 14.674850463867188, 7.945957183837891, 14.404452323913574, 26.034082412719727, 30.125885009765625, 33.45135498046875, 78.96237182617188, 39.54756546020508, 24.589326858520508, 40.62248992919922, 29.295494079589844, 91.48770141601562, 39.807655334472656, 60.649017333984375, 36.23199462890625, 82.79360961914062, 115.64834594726562, 29.6202335357666, 40.121795654296875, 37.11666488647461, 22.206806182861328, 48.63963317871094, 84.52848052978516, 77.44438171386719, 91.0490951538086, 61.12006759643555, 82.9570541381836, 79.22109985351562, 71.00196838378906, 48.01372528076172, 9.475052833557129, 4.986873149871826, 12.3705415725708, 8.7202787399292, 5.181687355041504, 7.945754528045654, 10.013392448425293, 3.9246344566345215, 10.456677436828613, 2.6812150478363037, 3.3742332458496094, 6.247053146362305, 17.847444534301758, 7.075807094573975, 9.407973289489746, 9.195672988891602, 13.825119972229004, 8.578876495361328, 3.0287110805511475, 7.123894691467285, 6.504798412322998, 22.795053482055664, 5.477933406829834, 7.140559196472168, 3.2764108180999756, 13.35965633392334, 3.3404502868652344, 3.1008780002593994, 5.865085124969482, 5.591036319732666, 29.042774200439453, 10.490117073059082, 21.714672088623047, 8.982008934020996, 21.715030670166016, 22.13968276977539, 21.980754852294922, 22.66839599609375, 9.892068862915039, 29.303874969482422, 33.417789459228516, 24.023788452148438, 91.48770141601562, 41.78139877319336, 69.51380157470703, 80.357177734375, 82.79360961914062, 79.22109985351562, 78.96237182617188, 77.44438171386719, 115.64834594726562, 40.121795654296875, 43.005828857421875, 93.05976867675781, 56.31439208984375, 7.630166053771973, 5.7966203689575195, 7.7028021812438965, 3.9672186374664307, 5.430807590484619, 4.1470417976379395, 6.139372825622559, 4.477322101593018, 4.928112030029297, 4.322790622711182, 10.891447067260742, 4.968579292297363, 5.463266849517822, 6.437933921813965, 6.24995756149292, 8.502484321594238, 5.739601135253906, 8.816938400268555, 14.426095008850098, 8.253390312194824, 7.2486419677734375, 11.206936836242676, 6.783092498779297, 6.934243202209473, 13.203920364379883, 5.329188823699951, 5.285438060760498, 7.36868143081665, 9.085967063903809, 14.698134422302246, 36.1213493347168, 26.1353702545166, 91.0490951538086, 71.00196838378906, 82.9570541381836, 21.980754852294922, 41.87907791137695, 39.807655334472656, 33.417789459228516, 32.670623779296875, 55.61087417602539, 37.11666488647461, 25.361528396606445, 115.64834594726562, 77.44438171386719, 79.22109985351562, 82.79360961914062, 37.29786682128906, 48.01372528076172, 41.78139877319336, 40.62248992919922, 71.7917251586914, 91.48770141601562, 52.02376174926758, 78.96237182617188, 4.197061061859131, 4.194413185119629, 8.133378982543945, 4.932921409606934, 6.3259077072143555, 8.773979187011719, 4.6405720710754395, 4.727662086486816, 14.874226570129395, 4.872586250305176, 15.70454216003418, 10.004555702209473, 5.798269748687744, 9.227569580078125, 6.783092498779297, 6.320807933807373, 7.4966630935668945, 5.074248313903809, 8.681710243225098, 6.021852970123291, 8.865656852722168, 10.010689735412598, 6.335109710693359, 15.533577919006348, 14.054866790771484, 16.903736114501953, 7.2486419677734375, 7.2658772468566895, 4.564793586730957, 6.437933921813965, 22.433368682861328, 8.527694702148438, 22.84794807434082, 18.230907440185547, 10.300291061401367, 15.8985013961792, 21.672021865844727, 43.63335418701172, 21.298412322998047, 37.95310974121094, 75.36048889160156, 22.66839599609375, 16.52228546142578, 71.7917251586914, 69.51380157470703, 43.710792541503906, 115.64834594726562, 54.04744338989258, 21.628278732299805, 77.44438171386719, 33.417789459228516, 84.52848052978516, 91.48770141601562, 48.82255935668945, 5.63259744644165, 9.339692115783691, 21.843944549560547, 10.300291061401367, 5.044582366943359, 7.7089762687683105, 8.91097640991211, 6.3547682762146, 5.510878086090088, 4.321931838989258, 5.104379177093506, 7.784061431884766, 4.95128059387207, 18.032913208007812, 8.816938400268555, 4.1470417976379395, 11.418087005615234, 6.4070024490356445, 7.811522483825684, 4.433265686035156, 40.62248992919922, 11.098047256469727, 10.543105125427246, 4.654275894165039, 5.074248313903809, 9.327241897583008, 5.562463760375977, 54.04744338989258, 12.12013053894043, 33.45135498046875, 54.1029052734375, 37.29786682128906, 17.293216705322266, 40.121795654296875, 37.11666488647461, 39.807655334472656, 39.54756546020508, 21.04325294494629, 75.36048889160156, 77.44438171386719, 82.79360961914062, 33.626163482666016, 91.48770141601562, 71.00196838378906, 79.22109985351562, 115.64834594726562, 45.40354537963867, 91.0490951538086, 82.9570541381836, 78.96237182617188, 93.05976867675781, 80.357177734375, 56.31439208984375, 84.52848052978516, 7.2751994132995605, 10.543105125427246, 4.445072650909424, 6.4949235916137695, 7.697610855102539, 6.426101207733154, 3.3742332458496094, 5.455634117126465, 5.484512805938721, 5.623024940490723, 4.732325553894043, 6.413049221038818, 5.666415691375732, 7.717475891113281, 11.649887084960938, 6.09915828704834, 9.31874942779541, 8.028031349182129, 10.702214241027832, 7.0703043937683105, 6.82316780090332, 4.877198696136475, 4.564793586730957, 13.763279914855957, 4.876617431640625, 5.562463760375977, 5.739601135253906, 7.01312255859375, 4.322790622711182, 7.70629358291626, 16.759767532348633, 14.748193740844727, 11.149717330932617, 29.552722930908203, 14.697882652282715, 16.582246780395508, 36.1213493347168, 38.90085983276367, 28.05847930908203, 16.504417419433594, 41.78139877319336, 43.005828857421875, 79.22109985351562, 77.44438171386719, 24.91949462890625, 24.896347045898438, 36.23199462890625, 115.64834594726562, 55.61087417602539, 25.456382751464844, 69.51380157470703, 33.417789459228516, 91.0490951538086, 33.74816131591797, 23.077241897583008, 84.52848052978516, 78.96237182617188, 75.36048889160156, 71.7917251586914, 54.1029052734375], \"Category\": [\"Default\", \"Default\", \"Default\", \"Default\", \"Default\", \"Default\", \"Default\", \"Default\", \"Default\", \"Default\", \"Default\", \"Default\", \"Default\", \"Default\", \"Default\", \"Default\", \"Default\", \"Default\", \"Default\", \"Default\", \"Default\", \"Default\", \"Default\", \"Default\", \"Default\", \"Default\", \"Default\", \"Default\", \"Default\", \"Default\", \"Topic1\", \"Topic1\", \"Topic1\", \"Topic1\", \"Topic1\", \"Topic1\", \"Topic1\", \"Topic1\", \"Topic1\", \"Topic1\", \"Topic1\", \"Topic1\", \"Topic1\", \"Topic1\", \"Topic1\", \"Topic1\", \"Topic1\", \"Topic1\", \"Topic1\", \"Topic1\", \"Topic1\", \"Topic1\", \"Topic1\", \"Topic1\", \"Topic1\", \"Topic1\", \"Topic1\", \"Topic1\", \"Topic1\", \"Topic1\", \"Topic1\", \"Topic1\", \"Topic1\", \"Topic1\", \"Topic1\", \"Topic1\", \"Topic1\", \"Topic1\", \"Topic1\", \"Topic1\", \"Topic1\", \"Topic1\", \"Topic1\", \"Topic1\", \"Topic1\", \"Topic1\", \"Topic1\", \"Topic1\", \"Topic1\", \"Topic1\", \"Topic1\", \"Topic2\", \"Topic2\", \"Topic2\", \"Topic2\", \"Topic2\", \"Topic2\", \"Topic2\", \"Topic2\", \"Topic2\", \"Topic2\", \"Topic2\", \"Topic2\", \"Topic2\", \"Topic2\", \"Topic2\", \"Topic2\", \"Topic2\", \"Topic2\", \"Topic2\", \"Topic2\", \"Topic2\", \"Topic2\", \"Topic2\", \"Topic2\", \"Topic2\", \"Topic2\", \"Topic2\", \"Topic2\", \"Topic2\", \"Topic2\", \"Topic2\", \"Topic2\", \"Topic2\", \"Topic2\", \"Topic2\", \"Topic2\", \"Topic2\", \"Topic2\", \"Topic2\", \"Topic2\", \"Topic2\", \"Topic2\", \"Topic2\", \"Topic2\", \"Topic2\", \"Topic2\", \"Topic2\", \"Topic2\", \"Topic2\", \"Topic2\", \"Topic2\", \"Topic2\", \"Topic2\", \"Topic2\", \"Topic3\", \"Topic3\", \"Topic3\", \"Topic3\", \"Topic3\", \"Topic3\", \"Topic3\", \"Topic3\", \"Topic3\", \"Topic3\", \"Topic3\", \"Topic3\", \"Topic3\", \"Topic3\", \"Topic3\", \"Topic3\", \"Topic3\", \"Topic3\", \"Topic3\", \"Topic3\", \"Topic3\", \"Topic3\", \"Topic3\", \"Topic3\", \"Topic3\", \"Topic3\", \"Topic3\", \"Topic3\", \"Topic3\", \"Topic3\", \"Topic3\", \"Topic3\", \"Topic3\", \"Topic3\", \"Topic3\", \"Topic3\", \"Topic3\", \"Topic3\", \"Topic3\", \"Topic3\", \"Topic3\", \"Topic3\", \"Topic3\", \"Topic3\", \"Topic4\", \"Topic4\", \"Topic4\", \"Topic4\", \"Topic4\", \"Topic4\", \"Topic4\", \"Topic4\", \"Topic4\", \"Topic4\", \"Topic4\", \"Topic4\", \"Topic4\", \"Topic4\", \"Topic4\", \"Topic4\", \"Topic4\", \"Topic4\", \"Topic4\", \"Topic4\", \"Topic4\", \"Topic4\", \"Topic4\", \"Topic4\", \"Topic4\", \"Topic4\", \"Topic4\", \"Topic4\", \"Topic4\", \"Topic4\", \"Topic4\", \"Topic4\", \"Topic4\", \"Topic4\", \"Topic4\", \"Topic4\", \"Topic4\", \"Topic4\", \"Topic4\", \"Topic4\", \"Topic4\", \"Topic4\", \"Topic4\", \"Topic4\", \"Topic4\", \"Topic4\", \"Topic4\", \"Topic4\", \"Topic4\", \"Topic4\", \"Topic4\", \"Topic4\", \"Topic4\", \"Topic4\", \"Topic4\", \"Topic4\", \"Topic4\", \"Topic5\", \"Topic5\", \"Topic5\", \"Topic5\", \"Topic5\", \"Topic5\", \"Topic5\", \"Topic5\", \"Topic5\", \"Topic5\", \"Topic5\", \"Topic5\", \"Topic5\", \"Topic5\", \"Topic5\", \"Topic5\", \"Topic5\", \"Topic5\", \"Topic5\", \"Topic5\", \"Topic5\", \"Topic5\", \"Topic5\", \"Topic5\", \"Topic5\", \"Topic5\", \"Topic5\", \"Topic5\", \"Topic5\", \"Topic5\", \"Topic5\", \"Topic5\", \"Topic5\", \"Topic5\", \"Topic5\", \"Topic5\", \"Topic5\", \"Topic5\", \"Topic5\", \"Topic5\", \"Topic5\", \"Topic5\", \"Topic5\", \"Topic5\", \"Topic6\", \"Topic6\", \"Topic6\", \"Topic6\", \"Topic6\", \"Topic6\", \"Topic6\", \"Topic6\", \"Topic6\", \"Topic6\", \"Topic6\", \"Topic6\", \"Topic6\", \"Topic6\", \"Topic6\", \"Topic6\", \"Topic6\", \"Topic6\", \"Topic6\", \"Topic6\", \"Topic6\", \"Topic6\", \"Topic6\", \"Topic6\", \"Topic6\", \"Topic6\", \"Topic6\", \"Topic6\", \"Topic6\", \"Topic6\", \"Topic6\", \"Topic6\", \"Topic6\", \"Topic6\", \"Topic6\", \"Topic6\", \"Topic6\", \"Topic6\", \"Topic6\", \"Topic6\", \"Topic6\", \"Topic6\", \"Topic6\", \"Topic6\", \"Topic6\", \"Topic6\", \"Topic6\", \"Topic6\", \"Topic6\", \"Topic6\", \"Topic6\", \"Topic6\", \"Topic6\", \"Topic7\", \"Topic7\", \"Topic7\", \"Topic7\", \"Topic7\", \"Topic7\", \"Topic7\", \"Topic7\", \"Topic7\", \"Topic7\", \"Topic7\", \"Topic7\", \"Topic7\", \"Topic7\", \"Topic7\", \"Topic7\", \"Topic7\", \"Topic7\", \"Topic7\", \"Topic7\", \"Topic7\", \"Topic7\", \"Topic7\", \"Topic7\", \"Topic7\", \"Topic7\", \"Topic7\", \"Topic7\", \"Topic7\", \"Topic7\", \"Topic7\", \"Topic7\", \"Topic7\", \"Topic7\", \"Topic7\", \"Topic7\", \"Topic7\", \"Topic7\", \"Topic7\", \"Topic7\", \"Topic7\", \"Topic7\", \"Topic7\", \"Topic7\", \"Topic7\", \"Topic7\", \"Topic7\", \"Topic7\", \"Topic7\", \"Topic7\", \"Topic8\", \"Topic8\", \"Topic8\", \"Topic8\", \"Topic8\", \"Topic8\", \"Topic8\", \"Topic8\", \"Topic8\", \"Topic8\", \"Topic8\", \"Topic8\", \"Topic8\", \"Topic8\", \"Topic8\", \"Topic8\", \"Topic8\", \"Topic8\", \"Topic8\", \"Topic8\", \"Topic8\", \"Topic8\", \"Topic8\", \"Topic8\", \"Topic8\", \"Topic8\", \"Topic8\", \"Topic8\", \"Topic8\", \"Topic8\", \"Topic8\", \"Topic8\", \"Topic8\", \"Topic8\", \"Topic8\", \"Topic8\", \"Topic8\", \"Topic8\", \"Topic8\", \"Topic8\", \"Topic8\", \"Topic8\", \"Topic8\", \"Topic8\", \"Topic8\", \"Topic8\", \"Topic8\", \"Topic8\", \"Topic8\", \"Topic8\", \"Topic8\", \"Topic9\", \"Topic9\", \"Topic9\", \"Topic9\", \"Topic9\", \"Topic9\", \"Topic9\", \"Topic9\", \"Topic9\", \"Topic9\", \"Topic9\", \"Topic9\", \"Topic9\", \"Topic9\", \"Topic9\", \"Topic9\", \"Topic9\", \"Topic9\", \"Topic9\", \"Topic9\", \"Topic9\", \"Topic9\", \"Topic9\", \"Topic9\", \"Topic9\", \"Topic9\", \"Topic9\", \"Topic9\", \"Topic9\", \"Topic9\", \"Topic9\", \"Topic9\", \"Topic9\", \"Topic9\", \"Topic9\", \"Topic9\", \"Topic9\", \"Topic9\", \"Topic9\", \"Topic9\", \"Topic9\", \"Topic9\", \"Topic9\", \"Topic9\", \"Topic9\", \"Topic9\", \"Topic9\", \"Topic9\", \"Topic10\", \"Topic10\", \"Topic10\", \"Topic10\", \"Topic10\", \"Topic10\", \"Topic10\", \"Topic10\", \"Topic10\", \"Topic10\", \"Topic10\", \"Topic10\", \"Topic10\", \"Topic10\", \"Topic10\", \"Topic10\", \"Topic10\", \"Topic10\", \"Topic10\", \"Topic10\", \"Topic10\", \"Topic10\", \"Topic10\", \"Topic10\", \"Topic10\", \"Topic10\", \"Topic10\", \"Topic10\", \"Topic10\", \"Topic10\", \"Topic10\", \"Topic10\", \"Topic10\", \"Topic10\", \"Topic10\", \"Topic10\", \"Topic10\", \"Topic10\", \"Topic10\", \"Topic10\", \"Topic10\", \"Topic10\", \"Topic10\", \"Topic10\", \"Topic10\", \"Topic10\", \"Topic10\", \"Topic10\", \"Topic10\", \"Topic10\", \"Topic10\", \"Topic11\", \"Topic11\", \"Topic11\", \"Topic11\", \"Topic11\", \"Topic11\", \"Topic11\", \"Topic11\", \"Topic11\", \"Topic11\", \"Topic11\", \"Topic11\", \"Topic11\", \"Topic11\", \"Topic11\", \"Topic11\", \"Topic11\", \"Topic11\", \"Topic11\", \"Topic11\", \"Topic11\", \"Topic11\", \"Topic11\", \"Topic11\", \"Topic11\", \"Topic11\", \"Topic11\", \"Topic11\", \"Topic11\", \"Topic11\", \"Topic11\", \"Topic11\", \"Topic11\", \"Topic11\", \"Topic11\", \"Topic11\", \"Topic11\", \"Topic11\", \"Topic11\", \"Topic11\", \"Topic11\", \"Topic11\", \"Topic11\", \"Topic11\", \"Topic11\", \"Topic11\", \"Topic11\", \"Topic11\", \"Topic11\", \"Topic11\", \"Topic11\", \"Topic12\", \"Topic12\", \"Topic12\", \"Topic12\", \"Topic12\", \"Topic12\", \"Topic12\", \"Topic12\", \"Topic12\", \"Topic12\", \"Topic12\", \"Topic12\", \"Topic12\", \"Topic12\", \"Topic12\", \"Topic12\", \"Topic12\", \"Topic12\", \"Topic12\", \"Topic12\", \"Topic12\", \"Topic12\", \"Topic12\", \"Topic12\", \"Topic12\", \"Topic12\", \"Topic12\", \"Topic12\", \"Topic12\", \"Topic12\", \"Topic12\", \"Topic12\", \"Topic12\", \"Topic12\", \"Topic12\", \"Topic12\", \"Topic12\", \"Topic12\", \"Topic12\", \"Topic12\", \"Topic12\", \"Topic12\", \"Topic12\", \"Topic12\", \"Topic12\", \"Topic12\", \"Topic12\", \"Topic12\", \"Topic12\", \"Topic12\", \"Topic12\", \"Topic12\", \"Topic12\", \"Topic12\", \"Topic12\", \"Topic13\", \"Topic13\", \"Topic13\", \"Topic13\", \"Topic13\", \"Topic13\", \"Topic13\", \"Topic13\", \"Topic13\", \"Topic13\", \"Topic13\", \"Topic13\", \"Topic13\", \"Topic13\", \"Topic13\", \"Topic13\", \"Topic13\", \"Topic13\", \"Topic13\", \"Topic13\", \"Topic13\", \"Topic13\", \"Topic13\", \"Topic13\", \"Topic13\", \"Topic13\", \"Topic13\", \"Topic13\", \"Topic13\", \"Topic13\", \"Topic13\", \"Topic13\", \"Topic13\", \"Topic13\", \"Topic13\", \"Topic13\", \"Topic13\", \"Topic13\", \"Topic13\", \"Topic13\", \"Topic13\", \"Topic13\", \"Topic13\", \"Topic13\", \"Topic13\", \"Topic13\", \"Topic13\", \"Topic13\", \"Topic13\", \"Topic13\", \"Topic13\", \"Topic13\", \"Topic13\", \"Topic14\", \"Topic14\", \"Topic14\", \"Topic14\", \"Topic14\", \"Topic14\", \"Topic14\", \"Topic14\", \"Topic14\", \"Topic14\", \"Topic14\", \"Topic14\", \"Topic14\", \"Topic14\", \"Topic14\", \"Topic14\", \"Topic14\", \"Topic14\", \"Topic14\", \"Topic14\", \"Topic14\", \"Topic14\", \"Topic14\", \"Topic14\", \"Topic14\", \"Topic14\", \"Topic14\", \"Topic14\", \"Topic14\", \"Topic14\", \"Topic14\", \"Topic14\", \"Topic14\", \"Topic14\", \"Topic14\", \"Topic14\", \"Topic14\", \"Topic14\", \"Topic14\", \"Topic14\", \"Topic14\", \"Topic14\", \"Topic14\", \"Topic14\", \"Topic14\", \"Topic14\", \"Topic14\", \"Topic14\", \"Topic14\", \"Topic14\", \"Topic14\", \"Topic14\", \"Topic14\", \"Topic14\", \"Topic14\", \"Topic14\", \"Topic15\", \"Topic15\", \"Topic15\", \"Topic15\", \"Topic15\", \"Topic15\", \"Topic15\", \"Topic15\", \"Topic15\", \"Topic15\", \"Topic15\", \"Topic15\", \"Topic15\", \"Topic15\", \"Topic15\", \"Topic15\", \"Topic15\", \"Topic15\", \"Topic15\", \"Topic15\", \"Topic15\", \"Topic15\", \"Topic15\", \"Topic15\", \"Topic15\", \"Topic15\", \"Topic15\", \"Topic15\", \"Topic15\", \"Topic15\", \"Topic15\", \"Topic15\", \"Topic15\", \"Topic15\", \"Topic15\", \"Topic15\", \"Topic15\", \"Topic15\", \"Topic15\", \"Topic15\", \"Topic15\", \"Topic15\", \"Topic15\", \"Topic15\", \"Topic15\", \"Topic15\", \"Topic15\", \"Topic15\", \"Topic15\", \"Topic15\", \"Topic15\", \"Topic15\", \"Topic15\", \"Topic15\", \"Topic15\", \"Topic15\", \"Topic15\", \"Topic15\", \"Topic16\", \"Topic16\", \"Topic16\", \"Topic16\", \"Topic16\", \"Topic16\", \"Topic16\", \"Topic16\", \"Topic16\", \"Topic16\", \"Topic16\", \"Topic16\", \"Topic16\", \"Topic16\", \"Topic16\", \"Topic16\", \"Topic16\", \"Topic16\", \"Topic16\", \"Topic16\", \"Topic16\", \"Topic16\", \"Topic16\", \"Topic16\", \"Topic16\", \"Topic16\", \"Topic16\", \"Topic16\", \"Topic16\", \"Topic16\", \"Topic16\", \"Topic16\", \"Topic16\", \"Topic16\", \"Topic16\", \"Topic16\", \"Topic16\", \"Topic16\", \"Topic16\", \"Topic16\", \"Topic16\", \"Topic16\", \"Topic16\", \"Topic16\", \"Topic16\", \"Topic16\", \"Topic16\", \"Topic16\", \"Topic16\", \"Topic16\", \"Topic16\", \"Topic16\", \"Topic16\", \"Topic16\", \"Topic16\", \"Topic17\", \"Topic17\", \"Topic17\", \"Topic17\", \"Topic17\", \"Topic17\", \"Topic17\", \"Topic17\", \"Topic17\", \"Topic17\", \"Topic17\", \"Topic17\", \"Topic17\", \"Topic17\", \"Topic17\", \"Topic17\", \"Topic17\", \"Topic17\", \"Topic17\", \"Topic17\", \"Topic17\", \"Topic17\", \"Topic17\", \"Topic17\", \"Topic17\", \"Topic17\", \"Topic17\", \"Topic17\", \"Topic17\", \"Topic17\", \"Topic17\", \"Topic17\", \"Topic17\", \"Topic17\", \"Topic17\", \"Topic17\", \"Topic17\", \"Topic17\", \"Topic17\", \"Topic17\", \"Topic17\", \"Topic17\", \"Topic17\", \"Topic17\", \"Topic17\", \"Topic17\", \"Topic17\", \"Topic17\", \"Topic17\", \"Topic17\", \"Topic17\", \"Topic17\", \"Topic17\", \"Topic17\", \"Topic17\", \"Topic18\", \"Topic18\", \"Topic18\", \"Topic18\", \"Topic18\", \"Topic18\", \"Topic18\", \"Topic18\", \"Topic18\", \"Topic18\", \"Topic18\", \"Topic18\", \"Topic18\", \"Topic18\", \"Topic18\", \"Topic18\", \"Topic18\", \"Topic18\", \"Topic18\", \"Topic18\", \"Topic18\", \"Topic18\", \"Topic18\", \"Topic18\", \"Topic18\", \"Topic18\", \"Topic18\", \"Topic18\", \"Topic18\", \"Topic18\", \"Topic18\", \"Topic18\", \"Topic18\", \"Topic18\", \"Topic18\", \"Topic18\", \"Topic18\", \"Topic18\", \"Topic18\", \"Topic18\", \"Topic18\", \"Topic18\", \"Topic18\", \"Topic18\", \"Topic18\", \"Topic18\", \"Topic18\", \"Topic18\", \"Topic18\", \"Topic18\", \"Topic18\", \"Topic18\", \"Topic18\", \"Topic18\", \"Topic19\", \"Topic19\", \"Topic19\", \"Topic19\", \"Topic19\", \"Topic19\", \"Topic19\", \"Topic19\", \"Topic19\", \"Topic19\", \"Topic19\", \"Topic19\", \"Topic19\", \"Topic19\", \"Topic19\", \"Topic19\", \"Topic19\", \"Topic19\", \"Topic19\", \"Topic19\", \"Topic19\", \"Topic19\", \"Topic19\", \"Topic19\", \"Topic19\", \"Topic19\", \"Topic19\", \"Topic19\", \"Topic19\", \"Topic19\", \"Topic19\", \"Topic19\", \"Topic19\", \"Topic19\", \"Topic19\", \"Topic19\", \"Topic19\", \"Topic19\", \"Topic19\", \"Topic19\", \"Topic19\", \"Topic19\", \"Topic19\", \"Topic19\", \"Topic19\", \"Topic19\", \"Topic19\", \"Topic19\", \"Topic19\", \"Topic19\", \"Topic19\", \"Topic19\", \"Topic19\", \"Topic19\", \"Topic20\", \"Topic20\", \"Topic20\", \"Topic20\", \"Topic20\", \"Topic20\", \"Topic20\", \"Topic20\", \"Topic20\", \"Topic20\", \"Topic20\", \"Topic20\", \"Topic20\", \"Topic20\", \"Topic20\", \"Topic20\", \"Topic20\", \"Topic20\", \"Topic20\", \"Topic20\", \"Topic20\", \"Topic20\", \"Topic20\", \"Topic20\", \"Topic20\", \"Topic20\", \"Topic20\", \"Topic20\", \"Topic20\", \"Topic20\", \"Topic20\", \"Topic20\", \"Topic20\", \"Topic20\", \"Topic20\", \"Topic20\", \"Topic20\", \"Topic20\", \"Topic20\", \"Topic20\", \"Topic20\", \"Topic20\", \"Topic20\", \"Topic20\", \"Topic20\", \"Topic20\", \"Topic20\", \"Topic20\", \"Topic20\", \"Topic20\", \"Topic20\", \"Topic20\", \"Topic20\", \"Topic20\", \"Topic20\", \"Topic20\", \"Topic20\", \"Topic20\", \"Topic20\", \"Topic20\"], \"logprob\": [30.0, 29.0, 28.0, 27.0, 26.0, 25.0, 24.0, 23.0, 22.0, 21.0, 20.0, 19.0, 18.0, 17.0, 16.0, 15.0, 14.0, 13.0, 12.0, 11.0, 10.0, 9.0, 8.0, 7.0, 6.0, 5.0, 4.0, 3.0, 2.0, 1.0, -5.404799938201904, -5.7241997718811035, -5.269400119781494, -5.427700042724609, -5.0868000984191895, -5.078700065612793, -5.312699794769287, -5.0655999183654785, -5.532800197601318, -6.079899787902832, -5.061999797821045, -5.38070011138916, -6.23960018157959, -5.978300094604492, -5.315199851989746, -5.84119987487793, -5.04610013961792, -5.282299995422363, -4.2718000411987305, -5.762899875640869, -6.05810022354126, -4.191500186920166, -6.506700038909912, -5.308199882507324, -5.263000011444092, -5.3668999671936035, -5.417399883270264, -4.224899768829346, -5.2972002029418945, -4.268499851226807, -4.284599781036377, -4.41349983215332, -4.348199844360352, -5.236800193786621, -4.55210018157959, -4.801799774169922, -4.320799827575684, -4.385799884796143, -4.770400047302246, -4.786900043487549, -4.5467000007629395, -4.763500213623047, -4.773600101470947, -4.857399940490723, -4.731200218200684, -4.984600067138672, -5.122900009155273, -5.182199954986572, -5.23390007019043, -5.130499839782715, -5.226600170135498, -4.2677998542785645, -4.917200088500977, -5.104100227355957, -5.650899887084961, -5.4028000831604, -5.288700103759766, -5.6219000816345215, -5.769000053405762, -5.594200134277344, -5.847899913787842, -5.567699909210205, -5.792200088500977, -5.795899868011475, -5.164700031280518, -5.285799980163574, -6.102499961853027, -5.35890007019043, -5.967199802398682, -6.1427998542785645, -4.277900218963623, -5.857500076293945, -5.833199977874756, -6.397600173950195, -6.255000114440918, -5.007599830627441, -5.908599853515625, -6.655300140380859, -5.969600200653076, -6.6178998947143555, -5.45959997177124, -6.322999954223633, -6.037300109863281, -4.372399806976318, -3.801300048828125, -5.0432000160217285, -5.139999866485596, -4.111999988555908, -4.036499977111816, -3.892400026321411, -4.382800102233887, -4.625400066375732, -5.302700042724609, -4.435200214385986, -5.051300048828125, -4.817399978637695, -4.880000114440918, -4.7916998863220215, -4.911799907684326, -5.057499885559082, -4.989999771118164, -4.991499900817871, -5.314000129699707, -5.098999977111816, -5.239799976348877, -4.996600151062012, -4.036600112915039, -4.196199893951416, -5.24399995803833, -5.414100170135498, -4.223299980163574, -4.0690999031066895, -4.6006999015808105, -5.142199993133545, -4.217199802398682, -4.095699787139893, -4.7342000007629395, -4.360000133514404, -4.057199954986572, -5.4593000411987305, -5.707699775695801, -4.270400047302246, -4.464000225067139, -5.50570011138916, -4.486400127410889, -3.84879994392395, -4.600500106811523, -5.719399929046631, -6.402900218963623, -6.156799793243408, -6.291399955749512, -6.267300128936768, -5.630499839782715, -6.525400161743164, -4.792300224304199, -4.437900066375732, -4.170400142669678, -4.34060001373291, -4.134799957275391, -3.8427999019622803, -4.5381999015808105, -4.0655999183654785, -4.428599834442139, -4.236199855804443, -4.554699897766113, -4.211299896240234, -4.324699878692627, -4.349400043487549, -4.326600074768066, -5.054200172424316, -5.858399868011475, -4.44920015335083, -5.238999843597412, -4.911399841308594, -5.381700038909912, -5.274099826812744, -5.44789981842041, -5.475500106811523, -4.608500003814697, -5.764900207519531, -4.793700218200684, -5.883500099182129, -5.931000232696533, -6.047999858856201, -5.621799945831299, -5.448800086975098, -5.1971001625061035, -5.756400108337402, -5.638999938964844, -6.142499923706055, -5.832099914550781, -5.1016998291015625, -6.326700210571289, -5.879700183868408, -5.604300022125244, -5.803199768066406, -5.52839994430542, -6.392499923706055, -5.695499897003174, -4.196700096130371, -5.518599987030029, -5.19290018081665, -5.321899890899658, -4.88100004196167, -4.302599906921387, -4.336999893188477, -4.9390997886657715, -5.291299819946289, -4.5767998695373535, -5.252099990844727, -4.435299873352051, -4.569799900054932, -4.721199989318848, -5.112599849700928, -5.188700199127197, -4.863800048828125, -4.779799938201904, -4.796899795532227, -4.871699810028076, -4.9721999168396, -5.097799777984619, -5.26140022277832, -5.1427998542785645, -5.195300102233887, -5.152500152587891, -5.217700004577637, -5.382599830627441, -4.391600131988525, -5.050099849700928, -5.11329984664917, -5.117800235748291, -5.070499897003174, -5.118199825286865, -5.110099792480469, -5.164999961853027, -5.100100040435791, -4.913599967956543, -4.866000175476074, -5.087800025939941, -5.143799781799316, -5.014400005340576, -5.181000232696533, -5.098899841308594, -4.741499900817871, -5.081699848175049, -4.901199817657471, -5.088200092315674, -4.6203999519348145, -5.191999912261963, -5.841300010681152, -5.140900135040283, -5.105000019073486, -5.314599990844727, -5.692699909210205, -5.048500061035156, -4.970900058746338, -5.279200077056885, -4.243000030517578, -5.183599948883057, -4.944399833679199, -4.419099807739258, -4.400000095367432, -4.6753997802734375, -4.945799827575684, -5.019899845123291, -5.041500091552734, -4.97189998626709, -5.018899917602539, -5.099899768829346, -5.099400043487549, -5.633399963378906, -5.771500110626221, -5.333899974822998, -5.015600204467773, -5.809299945831299, -5.102700233459473, -5.860799789428711, -4.996799945831299, -3.2395999431610107, -5.879000186920166, -5.975200176239014, -5.125699996948242, -3.637200117111206, -5.435299873352051, -6.1828999519348145, -6.421800136566162, -5.31279993057251, -6.039400100708008, -6.654099941253662, -5.8582000732421875, -5.903800010681152, -5.084000110626221, -6.000500202178955, -5.645699977874756, -3.6298999786376953, -5.829599857330322, -4.189700126647949, -6.697199821472168, -3.3743999004364014, -4.787899971008301, -5.1631999015808105, -4.90339994430542, -4.771599769592285, -4.933800220489502, -5.395400047302246, -5.151700019836426, -5.247300148010254, -4.787899971008301, -5.3572998046875, -4.926000118255615, -4.894599914550781, -5.132699966430664, -4.506100177764893, -5.024600028991699, -5.371200084686279, -5.065100193023682, -4.975599765777588, -5.115200042724609, -5.111999988555908, -5.255799770355225, -5.138899803161621, -5.252500057220459, -5.2444000244140625, -4.317399978637695, -4.702899932861328, -4.850800037384033, -5.123000144958496, -4.818699836730957, -5.663899898529053, -5.362199783325195, -5.542799949645996, -5.0594000816345215, -4.921899795532227, -5.646500110626221, -5.518599987030029, -5.421299934387207, -5.333899974822998, -4.8180999755859375, -4.710999965667725, -5.0167999267578125, -5.052800178527832, -5.4918999671936035, -5.368899822235107, -5.908699989318848, -6.284299850463867, -6.061500072479248, -6.237100124359131, -4.517899990081787, -5.656099796295166, -6.359000205993652, -6.031000137329102, -5.680099964141846, -5.908899784088135, -5.375699996948242, -5.049200057983398, -4.764800071716309, -4.797399997711182, -4.901100158691406, -5.404200077056885, -4.473700046539307, -4.96560001373291, -4.396200180053711, -4.57480001449585, -4.987400054931641, -4.818999767303467, -4.777599811553955, -4.808700084686279, -5.041500091552734, -4.841100215911865, -4.9618000984191895, -4.941800117492676, -4.99370002746582, -5.083700180053711, -5.4882001876831055, -4.331099987030029, -5.328499794006348, -4.6616997718811035, -4.4008002281188965, -3.8578999042510986, -4.339900016784668, -5.106800079345703, -4.1656999588012695, -5.661099910736084, -5.839600086212158, -5.753600120544434, -5.527699947357178, -4.408299922943115, -5.258500099182129, -6.194699764251709, -6.002999782562256, -5.698599815368652, -6.460299968719482, -5.654300212860107, -5.225599765777588, -6.156199932098389, -6.039899826049805, -4.488699913024902, -3.6986000537872314, -5.736100196838379, -6.186500072479248, -4.707099914550781, -5.851500034332275, -5.812900066375732, -5.1975998878479, -3.8101999759674072, -4.292500019073486, -4.614699840545654, -5.155399799346924, -5.502999782562256, -4.17609977722168, -4.234000205993652, -4.369999885559082, -4.467599868774414, -4.428899765014648, -4.811100006103516, -4.610899925231934, -4.748799800872803, -4.9096999168396, -5.0218000411987305, -4.959199905395508, -5.015600204467773, -5.049099922180176, -5.13539981842041, -5.185299873352051, -3.7671000957489014, -3.813199996948242, -5.259099960327148, -4.981200218200684, -4.940299987792969, -4.763999938964844, -5.258399963378906, -5.092899799346924, -5.037300109863281, -4.932199954986572, -4.721700191497803, -4.685999870300293, -5.71150016784668, -5.814599990844727, -5.1539998054504395, -5.309199810028076, -5.121099948883057, -5.607100009918213, -5.790500164031982, -5.53380012512207, -6.214300155639648, -6.012599945068359, -4.547299861907959, -5.350299835205078, -4.007500171661377, -5.928199768066406, -6.256899833679199, -5.873199939727783, -5.135799884796143, -5.968999862670898, -5.5142998695373535, -5.249800205230713, -4.850900173187256, -4.837600231170654, -5.194399833679199, -5.112800121307373, -5.448699951171875, -4.764800071716309, -4.462500095367432, -4.822400093078613, -4.6280999183654785, -4.596499919891357, -4.90310001373291, -4.898600101470947, -4.922999858856201, -5.024099826812744, -5.12060022354126, -5.115499973297119, -3.660099983215332, -3.660099983215332, -3.958699941635132, -4.897200107574463, -4.85699987411499, -3.8868000507354736, -5.146399974822998, -5.329599857330322, -6.062300205230713, -6.05709981918335, -4.720600128173828, -5.6890997886657715, -5.982999801635742, -5.402599811553955, -5.76039981842041, -6.050300121307373, -6.02810001373291, -5.084199905395508, -5.5416998863220215, -6.045000076293945, -5.29640007019043, -5.015600204467773, -5.247099876403809, -5.4446001052856445, -6.605999946594238, -5.955900192260742, -6.511899948120117, -6.153299808502197, -6.295300006866455, -4.8958001136779785, -5.5218000411987305, -4.069200038909912, -3.79830002784729, -3.989799976348877, -4.555699825286865, -4.769400119781494, -4.336699962615967, -4.312600135803223, -5.257199764251709, -4.749100208282471, -4.711599826812744, -5.373700141906738, -5.180200099945068, -5.295100212097168, -5.021200180053711, -5.197999954223633, -5.038099765777588, -5.127500057220459, -5.213900089263916, -5.278900146484375, -5.2947001457214355, -5.318999767303467, -5.519400119781494, -5.586100101470947, -5.167099952697754, -5.3649001121521, -5.711400032043457, -5.35860013961792, -5.162099838256836, -4.899099826812744, -5.5696001052856445, -4.294300079345703, -5.518400192260742, -4.929900169372559, -5.944799900054932, -5.9390997886657715, -5.792699813842773, -5.534200191497803, -6.266200065612793, -5.039700031280518, -4.8379998207092285, -5.325200080871582, -5.339200019836426, -6.133900165557861, -5.711900234222412, -5.324100017547607, -5.22790002822876, -4.8130998611450195, -5.335700035095215, -5.275100231170654, -4.835599899291992, -4.776199817657471, -4.871799945831299, -4.124000072479248, -4.5609002113342285, -4.333199977874756, -4.760900020599365, -4.569699764251709, -4.700500011444092, -5.060500144958496, -4.431099891662598, -4.88070011138916, -4.801799774169922, -4.939799785614014, -4.85290002822876, -5.179200172424316, -4.983500003814697, -5.033100128173828, -5.033100128173828, -5.095300197601318, -5.113399982452393, -5.196899890899658, -4.0671000480651855, -5.252799987792969, -4.594200134277344, -5.213200092315674, -5.472099781036377, -5.797800064086914, -5.196199893951416, -5.73360013961792, -4.246500015258789, -5.716899871826172, -4.907299995422363, -5.118800163269043, -5.139699935913086, -5.34689998626709, -5.444900035858154, -5.638999938964844, -5.468500137329102, -6.014900207519531, -6.101799964904785, -5.463900089263916, -6.079599857330322, -5.970900058746338, -6.063700199127197, -5.973899841308594, -5.713500022888184, -5.799200057983398, -5.8308000564575195, -6.074100017547607, -4.169400215148926, -4.405700206756592, -5.303699970245361, -4.865799903869629, -5.132699966430664, -5.065400123596191, -4.755199909210205, -4.994900226593018, -5.079699993133545, -5.220099925994873, -4.130199909210205, -4.701700210571289, -4.130099773406982, -4.692299842834473, -4.230500221252441, -4.975500106811523, -4.547999858856201, -4.9781999588012695, -4.889500141143799, -4.868899822235107, -5.225399971008301, -4.912199974060059, -5.003399848937988, -5.080900192260742, -5.036600112915039, -5.06790018081665, -5.1504998207092285, -5.187300205230713, -5.158199787139893, -4.059100151062012, -5.165900230407715, -5.238900184631348, -4.963600158691406, -5.638199806213379, -5.6367998123168945, -5.357699871063232, -4.531799793243408, -5.050300121307373, -5.270899772644043, -5.442399978637695, -4.787199974060059, -5.3470001220703125, -6.259399890899658, -5.550899982452393, -5.67609977722168, -6.252900123596191, -5.552700042724609, -5.489099979400635, -5.391600131988525, -5.860499858856201, -5.776899814605713, -5.450799942016602, -5.140100002288818, -5.737400054931641, -6.353300094604492, -6.166299819946289, -5.772500038146973, -3.8991000652313232, -3.9553000926971436, -4.682499885559082, -4.91510009765625, -5.3460001945495605, -4.253600120544434, -5.327600002288818, -4.774899959564209, -4.5696001052856445, -4.485899925231934, -4.545100212097168, -4.735199928283691, -4.650400161743164, -5.0233001708984375, -4.769999980926514, -4.823299884796143, -5.015600204467773, -5.061299800872803, -4.949900150299072, -5.208600044250488, -5.097700119018555, -5.202400207519531, -5.187600135803223, -5.635799884796143, -4.770299911499023, -5.73390007019043, -5.896399974822998, -5.650599956512451, -6.059299945831299, -4.789100170135498, -5.600200176239014, -5.913700103759766, -4.761600017547607, -5.78439998626709, -5.351799964904785, -5.589900016784668, -6.005799770355225, -5.718200206756592, -5.356100082397461, -5.791900157928467, -5.482500076293945, -5.724800109863281, -4.8140997886657715, -5.824399948120117, -5.007299900054932, -5.326499938964844, -5.06790018081665, -5.886899948120117, -6.166299819946289, -5.869999885559082, -5.707499980926514, -5.577300071716309, -5.095300197601318, -5.395699977874756, -5.422399997711182, -5.096799850463867, -5.072800159454346, -4.560800075531006, -5.24399995803833, -5.279600143432617, -5.422500133514404, -4.877600193023682, -4.683899879455566, -5.1381001472473145, -5.4243998527526855, -4.9405999183654785, -5.161799907684326, -5.0690999031066895, -5.157400131225586, -5.044000148773193, -4.671599864959717, -4.861599922180176, -4.901400089263916, -4.911900043487549, -4.9994001388549805, -5.251800060272217, -5.32859992980957, -5.302800178527832, -5.337399959564209, -5.156899929046631, -5.850800037384033, -5.2778000831604, -5.722400188446045, -6.087299823760986, -5.884099960327148, -6.054900169372559, -5.998899936676025, -6.218900203704834, -5.316999912261963, -5.7829999923706055, -5.433300018310547, -5.887599945068359, -4.980199813842773, -4.9527997970581055, -6.206399917602539, -6.270699977874756, -5.811999797821045, -4.754499912261963, -6.441500186920166, -6.104499816894531, -6.0229997634887695, -5.9721999168396, -5.944300174713135, -6.073400020599365, -6.5746002197265625, -4.915299892425537, -4.494800090789795, -5.446499824523926, -6.070400238037109, -5.490200042724609, -4.916500091552734, -4.776700019836426, -4.6981000900268555, -3.946500062942505, -4.641300201416016, -5.051799774169922, -4.650300025939941, -4.95359992980957, -4.1168999671936035, -4.739299774169922, -4.445499897003174, -4.82450008392334, -4.298799991607666, -4.15910005569458, -4.972599983215332, -4.794400215148926, -4.848199844360352, -5.182700157165527, -4.786300182342529, -4.519999980926514, -4.714300155639648, -4.729499816894531, -4.878799915313721, -4.815700054168701, -4.882900238037109, -4.944900035858154, -5.0457000732421875, -4.618299961090088, -5.404200077056885, -4.536600112915039, -4.901899814605713, -5.499300003051758, -5.123499870300293, -4.900100231170654, -5.879799842834473, -5.030600070953369, -6.39709997177124, -6.170499801635742, -5.558599948883057, -4.519400119781494, -5.460400104522705, -5.277599811553955, -5.307000160217285, -4.910299777984619, -5.391300201416016, -6.449399948120117, -5.612599849700928, -5.7067999839782715, -4.468200206756592, -5.89769983291626, -5.6367998123168945, -6.430300235748291, -5.034200191497803, -6.424900054931641, -6.536399841308594, -5.934100151062012, -6.017300128936768, -4.447299957275391, -5.444499969482422, -4.820199966430664, -5.59119987487793, -4.881100177764893, -4.916600227355957, -4.975800037384033, -5.019700050354004, -5.566500186920166, -5.019400119781494, -4.973800182342529, -5.1427998542785645, -4.582399845123291, -4.942800045013428, -4.75629997253418, -4.737599849700928, -4.733500003814697, -4.853700160980225, -4.856400012969971, -4.929999828338623, -4.948599815368652, -5.116199970245361, -5.15310001373291, -5.106800079345703, -5.14169979095459, -4.772200107574463, -5.065199851989746, -4.920499801635742, -5.706299781799316, -5.490300178527832, -5.785799980163574, -5.398099899291992, -5.730800151824951, -5.682199954986572, -5.814799785614014, -4.943999767303467, -5.746399879455566, -5.652299880981445, -5.648200035095215, -5.688899993896484, -5.400100231170654, -5.817800045013428, -5.396399974822998, -4.918700218200684, -5.512599945068359, -5.678699970245361, -5.244699954986572, -5.769400119781494, -5.74970006942749, -5.1128997802734375, -6.035900115966797, -6.044600009918213, -5.750800132751465, -5.545499801635742, -5.070799827575684, -4.63640022277832, -4.885200023651123, -4.011600017547607, -4.2692999839782715, -4.243800163269043, -5.087900161743164, -4.767000198364258, -4.84689998626709, -4.973499774932861, -5.038300037384033, -4.85699987411499, -5.045199871063232, -5.188000202178955, -4.70359992980957, -4.847099781036377, -4.8597002029418945, -4.8734002113342285, -5.1427001953125, -5.103799819946289, -5.131100177764893, -5.153200149536133, -5.068999767303467, -5.067299842834473, -5.137199878692627, -5.146999835968018, -5.665900230407715, -5.764800071716309, -5.121699810028076, -5.701099872589111, -5.456399917602539, -5.133999824523926, -5.891300201416016, -5.882299900054932, -4.74560022354126, -5.863100051879883, -4.698299884796143, -5.236800193786621, -5.812099933624268, -5.354000091552734, -5.689599990844727, -5.7692999839782715, -5.611599922180176, -6.015100002288818, -5.478600025177002, -5.859000205993652, -5.5447001457214355, -5.431099891662598, -5.9182000160217285, -5.032599925994873, -5.162499904632568, -4.992199897766113, -5.847400188446045, -5.8454999923706055, -6.311600208282471, -6.006999969482422, -4.7779998779296875, -5.73330020904541, -4.868899822235107, -5.072700023651123, -5.569399833679199, -5.229000091552734, -5.088799953460693, -4.684000015258789, -5.1479997634887695, -4.851399898529053, -4.7266998291015625, -5.288700103759766, -5.4096999168396, -4.889400005340576, -4.930200099945068, -5.0894999504089355, -4.843599796295166, -5.088600158691406, -5.348499774932861, -5.0833001136779785, -5.293399810791016, -5.273099899291992, -5.278900146484375, -5.322700023651123, -4.9166998863220215, -4.725800037384033, -4.130499839782715, -4.926199913024902, -5.688799858093262, -5.439899921417236, -5.348299980163574, -5.752999782562256, -5.897299766540527, -6.21999979019165, -6.077400207519531, -5.691400051116943, -6.1921000480651855, -4.918300151824951, -5.666100025177002, -6.4268999099731445, -5.4197998046875, -6.018799781799316, -5.845300197601318, -6.420899868011475, -4.214799880981445, -5.516900062561035, -5.579800128936768, -6.414700031280518, -6.34250020980835, -5.745699882507324, -6.291600227355957, -4.023099899291992, -5.535799980163574, -4.523600101470947, -4.054800033569336, -4.498000144958496, -5.239099979400635, -4.50439977645874, -4.625400066375732, -4.575200080871582, -4.584700107574463, -5.159999847412109, -4.315800189971924, -4.402400016784668, -4.4517998695373535, -4.974999904632568, -4.443299770355225, -4.704500198364258, -4.6697001457214355, -4.536499977111816, -4.940400123596191, -4.74459981918335, -4.780799865722656, -4.800300121307373, -4.7769999504089355, -4.82450008392334, -4.923299789428711, -4.837500095367432, -4.865300178527832, -4.875199794769287, -5.741600036621094, -5.435800075531006, -5.384399890899658, -5.571199893951416, -6.225800037384033, -5.750400066375732, -5.745999813079834, -5.7530999183654785, -5.930200099945068, -5.631800174713135, -5.764800071716309, -5.4781999588012695, -5.077099800109863, -5.745699882507324, -5.390900135040283, -5.570700168609619, -5.296599864959717, -5.71560001373291, -5.753900051116943, -6.130000114440918, -6.223199844360352, -5.125999927520752, -6.187300205230713, -6.06790018081665, -6.046599864959717, -5.89109992980957, -6.389800071716309, -5.839399814605713, -5.064300060272217, -5.199999809265137, -5.519100189208984, -4.746300220489502, -5.338799953460693, -5.251299858093262, -4.73829984664917, -4.721799850463867, -4.988800048828125, -5.329400062561035, -4.906899929046631, -4.907299995422363, -4.736999988555908, -4.75629997253418, -5.208099842071533, -5.208700180053711, -5.1132001876831055, -4.744699954986572, -5.0218000411987305, -5.2515997886657715, -4.980899810791016, -5.179900169372559, -4.954800128936768, -5.193999767303467, -5.281799793243408, -5.183800220489502, -5.198299884796143, -5.207600116729736, -5.214700222015381, -5.240099906921387], \"loglift\": [30.0, 29.0, 28.0, 27.0, 26.0, 25.0, 24.0, 23.0, 22.0, 21.0, 20.0, 19.0, 18.0, 17.0, 16.0, 15.0, 14.0, 13.0, 12.0, 11.0, 10.0, 9.0, 8.0, 7.0, 6.0, 5.0, 4.0, 3.0, 2.0, 1.0, 2.0260000228881836, 1.982699990272522, 1.9539999961853027, 1.8769999742507935, 1.8625999689102173, 1.836300015449524, 1.7138999700546265, 1.6729999780654907, 1.6557999849319458, 1.6505999565124512, 1.6448999643325806, 1.6269999742507935, 1.6232000589370728, 1.617300033569336, 1.56850004196167, 1.54830002784729, 1.5456000566482544, 1.5372999906539917, 1.5094000101089478, 1.5053000450134277, 1.4987000226974487, 1.485700011253357, 1.4499000310897827, 1.4412000179290771, 1.4279999732971191, 1.4007999897003174, 1.3837000131607056, 1.3823000192642212, 1.3766000270843506, 1.330899953842163, 1.329200029373169, 1.2589000463485718, 1.238700032234192, 1.3224999904632568, 1.006700038909912, 0.9873999953269958, 0.5541999936103821, 0.5364999771118164, 0.7433000206947327, 0.616100013256073, 0.22840000689029694, 0.17820000648498535, 0.14550000429153442, 0.1923000067472458, -0.19040000438690186, 0.4986000061035156, 0.7821999788284302, 0.878000020980835, 1.0128999948501587, -0.3725000023841858, -0.3723999857902527, 1.9636000394821167, 1.8251999616622925, 1.7756999731063843, 1.7681000232696533, 1.718500018119812, 1.6793999671936035, 1.6749999523162842, 1.6720999479293823, 1.642899990081787, 1.638700008392334, 1.6191999912261963, 1.5621000528335571, 1.5299999713897705, 1.4900000095367432, 1.4802000522613525, 1.4602999687194824, 1.4523999691009521, 1.4474999904632568, 1.4325000047683716, 1.4264999628067017, 1.4072999954223633, 1.363700032234192, 1.3588000535964966, 1.3414000272750854, 1.3305000066757202, 1.329699993133545, 1.3242000341415405, 1.3238999843597412, 1.2615000009536743, 1.260699987411499, 1.2541999816894531, 1.23989999294281, 1.1512999534606934, 1.052899956703186, 1.1270999908447266, 1.051300048828125, 0.7609999775886536, 0.7214999794960022, 0.6482999920845032, 0.6456999778747559, 0.6349999904632568, 1.000499963760376, 0.34470000863075256, 0.7739999890327454, 0.5221999883651733, 0.2985000014305115, 0.1500999927520752, 0.007199999876320362, 0.3456000089645386, 0.027499999850988388, -0.21639999747276306, 0.7462000250816345, -0.19419999420642853, 0.27559998631477356, 1.9767999649047852, 1.9528000354766846, 1.9323999881744385, 1.9036999940872192, 1.8986999988555908, 1.8532999753952026, 1.8447999954223633, 1.832200050354004, 1.8315000534057617, 1.8147000074386597, 1.8071000576019287, 1.7609000205993652, 1.7137999534606934, 1.6440999507904053, 1.6416000127792358, 1.6275999546051025, 1.6154999732971191, 1.6117000579833984, 1.5872999429702759, 1.5787999629974365, 1.5580999851226807, 1.5230000019073486, 1.5013999938964844, 1.3969000577926636, 1.3555999994277954, 1.3451000452041626, 1.330899953842163, 1.3306000232696533, 1.3006999492645264, 1.2581000328063965, 1.1923999786376953, 1.1024999618530273, 1.079200029373169, 1.0436999797821045, 0.9370999932289124, 0.9855999946594238, 0.8073999881744385, 0.9110000133514404, 0.7922999858856201, 0.9210000038146973, 0.5637999773025513, 0.6442999839782715, 0.6682000160217285, 0.2142000049352646, 2.069000005722046, 1.905400037765503, 1.8935999870300293, 1.8603999614715576, 1.8585000038146973, 1.8530999422073364, 1.8199000358581543, 1.7690999507904053, 1.7545000314712524, 1.7222000360488892, 1.718400001525879, 1.6461999416351318, 1.6442999839782715, 1.6279000043869019, 1.6065000295639038, 1.5967999696731567, 1.5898000001907349, 1.5712000131607056, 1.5433000326156616, 1.5370999574661255, 1.5153000354766846, 1.5153000354766846, 1.4859999418258667, 1.4728000164031982, 1.4652999639511108, 1.4465999603271484, 1.4459999799728394, 1.434399962425232, 1.4097000360488892, 1.408400058746338, 1.4075000286102295, 1.4021999835968018, 1.2877999544143677, 1.2366000413894653, 0.9444000124931335, 0.6165000200271606, 0.5360000133514404, 0.8914999961853027, 1.1162999868392944, 0.4406999945640564, 1.042099952697754, 0.1054999977350235, 0.20999999344348907, 0.3073999881744385, 0.7791000008583069, 0.8693000078201294, 0.31459999084472656, 0.07440000027418137, -0.03880000114440918, 0.03310000151395798, -0.030500000342726707, 0.241799995303154, 0.9277999997138977, -0.1738000065088272, 0.28790000081062317, -0.3774999976158142, 0.08370000123977661, 2.2802000045776367, 2.188800096511841, 2.1672000885009766, 2.140500068664551, 2.1333999633789062, 2.125, 2.1059999465942383, 2.100100040435791, 2.0915000438690186, 2.089200019836426, 2.0785000324249268, 2.0703999996185303, 2.0215001106262207, 1.9833999872207642, 1.9763000011444092, 1.934499979019165, 1.8858000040054321, 1.8593000173568726, 1.8085999488830566, 1.8033000230789185, 1.7473000288009644, 1.7446000576019287, 1.739400029182434, 1.7156000137329102, 1.6991000175476074, 1.68340003490448, 1.6674000024795532, 1.6265000104904175, 1.6253000497817993, 1.6203999519348145, 1.5954999923706055, 1.4648000001907349, 1.5785000324249268, 1.4127999544143677, 0.522599995136261, 0.4749000072479248, 0.2935999929904938, 0.945900022983551, 1.2168999910354614, 1.1726000308990479, 0.5709999799728394, 0.49470001459121704, 0.8533999919891357, -0.31949999928474426, 1.9364999532699585, 1.9348000288009644, 1.8997999429702759, 1.8858000040054321, 1.7724000215530396, 1.743399977684021, 1.7021000385284424, 1.6800999641418457, 1.6651999950408936, 1.65910005569458, 1.644700050354004, 1.6237000226974487, 1.6232000589370728, 1.6231000423431396, 1.6168999671936035, 1.5999000072479248, 1.533400058746338, 1.517899990081787, 1.5054999589920044, 1.454300045967102, 1.4509999752044678, 1.436900019645691, 1.430400013923645, 1.426800012588501, 1.419800043106079, 1.40339994430542, 1.4020999670028687, 1.3985999822616577, 1.3837000131607056, 1.3645000457763672, 1.319700002670288, 1.297700047492981, 1.280400037765503, 1.26010000705719, 1.2486000061035156, 1.1583000421524048, 1.1484999656677246, 0.9018999934196472, 1.1549999713897705, 0.8353999853134155, 0.6353999972343445, 0.8568000197410583, 0.03460000082850456, 0.6337000131607056, 1.027899980545044, 0.2078000009059906, -0.12139999866485596, 0.29170000553131104, -0.336899995803833, 0.5464000105857849, -0.2198999971151352, 0.4023999869823456, -0.302700012922287, 2.3457999229431152, 2.3348000049591064, 2.225600004196167, 2.1642000675201416, 2.1637001037597656, 2.1094000339508057, 2.089099884033203, 2.0804998874664307, 1.9882999658584595, 1.93340003490448, 1.813599944114685, 1.7919000387191772, 1.7896000146865845, 1.7443000078201294, 1.7414000034332275, 1.7049000263214111, 1.6613999605178833, 1.6579999923706055, 1.6454999446868896, 1.6442999839782715, 1.625, 1.5911999940872192, 1.5750999450683594, 1.5414999723434448, 1.513700008392334, 1.471500039100647, 1.4686000347137451, 1.4657000303268433, 1.4467999935150146, 1.4459999799728394, 1.4438999891281128, 1.3567999601364136, 1.1268999576568604, 0.9728999733924866, 0.9010999798774719, 1.1562000513076782, 0.44530001282691956, 0.8165000081062317, 0.1446000039577484, 0.29809999465942383, 0.5425999760627747, 0.2094999998807907, 0.07660000026226044, -0.050700001418590546, 0.5504000186920166, -0.06120000034570694, -0.020099999383091927, -0.16680000722408295, 0.023800000548362732, 0.4316999912261963, 2.1965999603271484, 2.0773000717163086, 2.0478999614715576, 1.9979000091552734, 1.9950000047683716, 1.9744000434875488, 1.9701000452041626, 1.947100043296814, 1.833799958229065, 1.8180999755859375, 1.7537000179290771, 1.7200000286102295, 1.7038999795913696, 1.6437000036239624, 1.6053999662399292, 1.5587999820709229, 1.557800054550171, 1.5434000492095947, 1.532099962234497, 1.5242999792099, 1.5096999406814575, 1.5041999816894531, 1.5015000104904175, 1.5008000135421753, 1.4874999523162842, 1.4844000339508057, 1.4579999446868896, 1.4163999557495117, 1.396299958229065, 1.38100004196167, 1.3293999433517456, 1.1121000051498413, 1.114400029182434, 1.1466000080108643, 1.2317999601364136, 1.2980999946594238, 0.6988000273704529, 0.541100025177002, 0.5490000247955322, 0.5498999953269958, 0.11180000007152557, 0.4902999997138977, 0.16899999976158142, 0.1242000013589859, 0.11890000104904175, 0.2786000072956085, 0.009800000116229057, -0.16140000522136688, -0.29109999537467957, 0.20419999957084656, 0.5871000289916992, 2.5127999782562256, 2.4330999851226807, 2.2802999019622803, 2.2667999267578125, 2.2558000087738037, 2.149199962615967, 2.1040000915527344, 2.0355000495910645, 2.0297000408172607, 1.9703999757766724, 1.9433000087738037, 1.9176000356674194, 1.8107999563217163, 1.805999994277954, 1.68149995803833, 1.6518000364303589, 1.627500057220459, 1.5814000368118286, 1.5575000047683716, 1.5465999841690063, 1.5235999822616577, 1.5152000188827515, 1.5128999948501587, 1.5116000175476074, 1.5061999559402466, 1.4824999570846558, 1.3528000116348267, 1.346500039100647, 1.3360999822616577, 1.3307000398635864, 1.3068000078201294, 1.2927000522613525, 1.1770999431610107, 1.1053999662399292, 1.167099952697754, 1.1318999528884888, 1.2716000080108643, 0.8392999768257141, 0.3174000084400177, 0.6607000231742859, 0.40049999952316284, 0.27639999985694885, 0.6534000039100647, 0.04309999942779541, 0.04600000008940697, 0.31540000438690186, 0.6841999888420105, -0.35740000009536743, 2.6066999435424805, 2.6066999435424805, 2.571899890899658, 2.350399971008301, 2.0534000396728516, 2.032099962234497, 2.011899948120117, 1.9292000532150269, 1.9148999452590942, 1.832900047302246, 1.8257999420166016, 1.7458000183105469, 1.7064000368118286, 1.6801999807357788, 1.663699984550476, 1.6563999652862549, 1.6518000364303589, 1.613700032234192, 1.5543999671936035, 1.5211999416351318, 1.5018999576568604, 1.451200008392334, 1.43149995803833, 1.4016000032424927, 1.350600004196167, 1.3437999486923218, 1.3142000436782837, 1.3100999593734741, 1.308899998664856, 1.2956000566482544, 1.2618000507354736, 1.1169999837875366, 1.0765999555587769, 0.9325000047683716, 0.9200000166893005, 0.9204000234603882, 0.5680999755859375, 0.46239998936653137, 1.0658999681472778, 0.6539999842643738, 0.5612999796867371, 1.0515999794006348, 0.7333999872207642, 0.7628999948501587, -0.10220000147819519, 0.40139999985694885, -0.4973999857902527, -0.07779999822378159, 0.30160000920295715, -0.520799994468689, -0.03440000116825104, 2.2095999717712402, 2.0432000160217285, 1.9794000387191772, 1.909999966621399, 1.8705999851226807, 1.801300048828125, 1.6469999551773071, 1.6138999462127686, 1.5960999727249146, 1.561900019645691, 1.5467000007629395, 1.507099986076355, 1.5029000043869019, 1.49399995803833, 1.493899941444397, 1.4672000408172607, 1.4463000297546387, 1.441499948501587, 1.3877999782562256, 1.3773000240325928, 1.363700032234192, 1.3492000102996826, 1.347599983215332, 1.3308000564575195, 1.3307000398635864, 1.2842999696731567, 1.2625000476837158, 1.2518999576568604, 1.2458000183105469, 1.2295000553131104, 1.166700005531311, 1.1786999702453613, 0.8450000286102295, 0.8589000105857849, 0.6843000054359436, 0.8693000078201294, 0.7031999826431274, 0.7752000093460083, 1.0132999420166016, 0.1096000000834465, 0.6431000232696533, 0.3767000138759613, 0.3206000030040741, 0.0013000000035390258, 0.7839000225067139, -0.06440000236034393, -0.2531999945640564, -0.2750000059604645, -0.19050000607967377, -0.06360000371932983, 0.46140000224113464, 2.7298998832702637, 2.3234000205993652, 2.118799924850464, 1.9218000173568726, 1.9042999744415283, 1.7491999864578247, 1.7237999439239502, 1.7138999700546265, 1.7105000019073486, 1.7055000066757202, 1.6978000402450562, 1.6466000080108643, 1.6377999782562256, 1.6375999450683594, 1.6312999725341797, 1.6287000179290771, 1.6201000213623047, 1.6117000579833984, 1.5450999736785889, 1.5365999937057495, 1.4773000478744507, 1.4753999710083008, 1.4575999975204468, 1.4428999423980713, 1.434499979019165, 1.4282000064849854, 1.4048000574111938, 1.3969999551773071, 1.3734999895095825, 1.3666000366210938, 1.3597999811172485, 1.3250999450683594, 1.3443000316619873, 1.3322999477386475, 1.198099970817566, 1.2223000526428223, 1.2079999446868896, 1.2467000484466553, 0.7239999771118164, 0.95660001039505, 0.6279000043869019, 0.7908999919891357, 0.3102000057697296, 0.9470000267028809, 0.5016999840736389, 0.9406999945640564, 0.640500009059906, 0.3095000088214874, 1.0884000062942505, -0.037300001829862595, 0.2694999873638153, 0.43459999561309814, -0.13179999589920044, 0.11819999665021896, -0.37540000677108765, 2.2990000247955322, 2.2929000854492188, 2.1482999324798584, 2.1245999336242676, 2.066800117492676, 2.033600091934204, 2.0302000045776367, 1.9229999780654907, 1.8668999671936035, 1.8554999828338623, 1.7882000207901, 1.736299991607666, 1.7318999767303467, 1.6914000511169434, 1.652500033378601, 1.6496000289916992, 1.6484999656677246, 1.6236000061035156, 1.6100000143051147, 1.5788999795913696, 1.570199966430664, 1.5633000135421753, 1.5318000316619873, 1.5312000513076782, 1.5240000486373901, 1.5189000368118286, 1.5017999410629272, 1.4940999746322632, 1.4853999614715576, 1.4764000177383423, 1.4012999534606934, 1.3460999727249146, 1.2364000082015991, 1.2740999460220337, 1.330899953842163, 0.715399980545044, 1.2538000345230103, 0.7815999984741211, 0.6165000200271606, 0.43639999628067017, 0.329800009727478, 0.31450000405311584, 0.12470000237226486, 0.5809000134468079, -0.012000000104308128, 0.08150000125169754, 0.5432000160217285, 0.19900000095367432, -0.4090999960899353, 0.6966000199317932, -0.1559000015258789, 0.1371999979019165, -0.4077000021934509, 2.1364998817443848, 2.044600009918213, 2.0139000415802, 2.0125999450683594, 1.9966000318527222, 1.9101999998092651, 1.9049999713897705, 1.8535000085830688, 1.7991000413894653, 1.798699975013733, 1.7710000276565552, 1.7458000183105469, 1.7355999946594238, 1.6818000078201294, 1.6766999959945679, 1.6723999977111816, 1.6668000221252441, 1.659500002861023, 1.6562000513076782, 1.6497000455856323, 1.6469000577926636, 1.6416000127792358, 1.614300012588501, 1.5968999862670898, 1.5896999835968018, 1.5878000259399414, 1.5750999450683594, 1.555299997329712, 1.5511000156402588, 1.5299999713897705, 1.5250999927520752, 1.527400016784668, 1.281499981880188, 1.257099986076355, 0.9821000099182129, 1.3205000162124634, 1.2934999465942383, 1.3954999446868896, 0.9272000193595886, 0.7192000150680542, 1.079200029373169, 1.373900055885315, 0.8266000151634216, 1.0514999628067017, 0.930400013923645, 0.9549000263214111, 0.7168999910354614, -0.13089999556541443, 0.057500001043081284, 0.1160999983549118, -0.05770000070333481, -0.24130000174045563, 0.26190000772476196, 0.4474000036716461, -0.12439999729394913, 0.49309998750686646, 2.0114998817443848, 1.9630000591278076, 1.8553999662399292, 1.8517999649047852, 1.8044999837875366, 1.773800015449524, 1.6598999500274658, 1.6160000562667847, 1.5819000005722046, 1.5752999782562256, 1.5686999559402466, 1.5671000480651855, 1.5586999654769897, 1.5496000051498413, 1.5240999460220337, 1.476699948310852, 1.4091999530792236, 1.3464000225067139, 1.322100043296814, 1.312600016593933, 1.2942999601364136, 1.2452000379562378, 1.2447999715805054, 1.2444000244140625, 1.2263000011444092, 1.219499945640564, 1.2131999731063843, 1.1775000095367432, 1.1585999727249146, 1.1482000350952148, 1.1334999799728394, 1.115399956703186, 1.1092000007629395, 1.0830999612808228, 0.9757999777793884, 0.9725000262260437, 1.0371999740600586, 0.9366000294685364, 0.9603000283241272, 0.6582000255584717, 0.8679999709129333, 0.7407000064849854, 0.876800000667572, 0.5760999917984009, 0.3817000091075897, 0.9301999807357788, 0.8050000071525574, 0.8291000127792358, 1.0082000494003296, 0.6205000281333923, 0.334199994802475, 0.227400004863739, 0.05040000006556511, 0.2996000051498413, 0.05730000138282776, 0.03610000014305115, 0.08370000123977661, 0.374099999666214, 2.424299955368042, 2.2802999019622803, 2.239300012588501, 2.2237000465393066, 2.1468000411987305, 2.0952000617980957, 2.0873000621795654, 2.0441999435424805, 1.9134999513626099, 1.9078999757766724, 1.9047000408172607, 1.9005999565124512, 1.8899999856948853, 1.8741999864578247, 1.7721999883651733, 1.7655999660491943, 1.7545000314712524, 1.7506999969482422, 1.7338000535964966, 1.7152999639511108, 1.711899995803833, 1.6965999603271484, 1.6928000450134277, 1.6886999607086182, 1.674299955368042, 1.6648000478744507, 1.6603000164031982, 1.6232000589370728, 1.5880999565124512, 1.5528000593185425, 1.4752000570297241, 1.496399998664856, 1.3931000232696533, 1.5048999786376953, 1.332200050354004, 1.2773000001907349, 1.2252999544143677, 1.1505999565124512, 1.4330999851226807, 0.8942000269889832, 0.8083999752998352, 0.9695000052452087, 0.19259999692440033, 0.6159999966621399, 0.29350000619888306, 0.1671999990940094, 0.14149999618530273, 0.06530000269412994, 0.06589999794960022, 0.011699999682605267, -0.40779998898506165, 0.4830999970436096, 0.37689998745918274, -0.34869998693466187, 0.11860000342130661, 2.486999988555908, 2.468899965286255, 2.329200029373169, 2.206899881362915, 2.1089000701904297, 2.0831000804901123, 2.0785000324249268, 2.061500072479248, 2.01419997215271, 2.0125999450683594, 1.9593000411987305, 1.9416999816894531, 1.940999984741211, 1.780900001525879, 1.7697999477386475, 1.7508000135421753, 1.726099967956543, 1.7181999683380127, 1.7036000490188599, 1.6680999994277954, 1.6318000555038452, 1.6301000118255615, 1.6073999404907227, 1.6051000356674194, 1.5979000329971313, 1.5821000337600708, 1.5816999673843384, 1.5432000160217285, 1.5390000343322754, 1.5327999591827393, 1.0679999589920044, 1.142799973487854, 0.7681999802589417, 0.7592999935150146, 0.6291999816894531, 1.1131999492645264, 0.7894999980926514, 0.7603999972343445, 0.8087000250816345, 0.7664999961853027, 0.41589999198913574, 0.6320000290870667, 0.8700000047683716, -0.16290000081062317, 0.09459999948740005, 0.059300001710653305, 0.0015999999595806003, 0.529699981212616, 0.3160000145435333, 0.4277999997138977, 0.43380001187324524, -0.051500000059604645, -0.2921999990940094, 0.20239999890327454, -0.22460000216960907, 2.190999984741211, 2.0927000045776367, 2.0736000537872314, 1.9941999912261963, 1.9902000427246094, 1.9854999780654907, 1.8651000261306763, 1.8555999994277954, 1.8460999727249146, 1.844599962234497, 1.8389999866485596, 1.7513999938964844, 1.72160005569458, 1.715000033378601, 1.6871999502182007, 1.6780999898910522, 1.6651999950408936, 1.6519999504089355, 1.6514999866485596, 1.6368999481201172, 1.5643999576568604, 1.5565999746322632, 1.5269999504089355, 1.5156999826431274, 1.48580002784729, 1.47160005569458, 1.4630000591278076, 1.4625999927520752, 1.461300015449524, 1.4220000505447388, 1.4026999473571777, 1.4147000312805176, 1.2935999631881714, 1.315500020980835, 1.3897000551223755, 1.2961000204086304, 1.1265000104904175, 0.8313999772071838, 1.0846999883651733, 0.8034999966621399, 0.24230000376701355, 0.881600022315979, 1.0769000053405762, 0.12809999287128448, 0.11959999799728394, 0.42419999837875366, -0.3027999997138977, 0.21279999613761902, 0.8687999844551086, -0.14159999787807465, 0.4887999892234802, -0.4189000129699707, -0.5037999749183655, 0.0803999975323677, 2.6461000442504883, 2.331199884414673, 2.076900005340576, 2.032900094985962, 1.9842000007629395, 1.809000015258789, 1.7556999921798706, 1.6891000270843506, 1.6872999668121338, 1.6074999570846558, 1.583799958229065, 1.5477999448776245, 1.4996000528335571, 1.4808000326156616, 1.4485000371932983, 1.4420000314712524, 1.4363000392913818, 1.4150999784469604, 1.3904000520706177, 1.3811999559402466, 1.3722000122070312, 1.3675999641418457, 1.3559999465942383, 1.3387999534606934, 1.3245999813079834, 1.312600016593933, 1.2836999893188477, 1.2783000469207764, 1.260699987411499, 1.2575000524520874, 1.2455999851226807, 1.174299955368042, 1.201799988746643, 1.0950000286102295, 1.051900029182434, 1.031999945640564, 1.0290000438690186, 1.0846999883651733, 0.6531999707221985, 0.5393000245094299, 0.42309999465942383, 0.8009999990463257, 0.33180001378059387, 0.3240000009536743, 0.24940000474452972, 0.00419999985024333, 0.5353000164031982, 0.03530000150203705, 0.09220000356435776, 0.12200000137090683, -0.01899999938905239, 0.08030000329017639, 0.33709999918937683, 0.016699999570846558, 2.441499948501587, 2.0606000423431396, 2.0578999519348145, 1.9844000339508057, 1.8660000562667847, 1.8597999811172485, 1.8493000268936157, 1.8443000316619873, 1.843400001525879, 1.8113000392913818, 1.8065999746322632, 1.8011000156402588, 1.7919000387191772, 1.7696000337600708, 1.7589000463485718, 1.7374000549316406, 1.6683000326156616, 1.6375999450683594, 1.6241999864578247, 1.6196999549865723, 1.6171000003814697, 1.57669997215271, 1.5497000217437744, 1.5433000326156616, 1.5195000171661377, 1.5073000192642212, 1.4973000288009644, 1.4523999691009521, 1.4375, 1.4098999500274658, 1.4079999923706055, 1.4002000093460083, 1.36080002784729, 1.1588000059127808, 1.264799952507019, 1.231600046157837, 0.9660999774932861, 0.9085000157356262, 0.9682000279426575, 1.1582000255584717, 0.6518999934196472, 0.6226000189781189, 0.18199999630451202, 0.18539999425411224, 0.8676000237464905, 0.867900013923645, 0.588100016117096, -0.20399999618530273, 0.25110000371932983, 0.8027999997138977, 0.06880000233650208, 0.6022999882698059, -0.17489999532699585, 0.5784000158309937, 0.8705999851226807, -0.3296000063419342, -0.2759000062942505, -0.2386000007390976, -0.1972000002861023, 0.06030000001192093]}, \"token.table\": {\"Topic\": [7, 2, 4, 5, 6, 8, 12, 13, 14, 4, 20, 2, 5, 7, 8, 9, 11, 13, 14, 18, 19, 1, 2, 3, 4, 5, 6, 7, 8, 9, 10, 11, 12, 13, 14, 15, 16, 18, 19, 20, 5, 19, 7, 9, 18, 4, 9, 12, 16, 1, 2, 3, 4, 5, 6, 7, 8, 9, 10, 11, 12, 13, 14, 15, 16, 17, 18, 19, 20, 1, 2, 3, 4, 5, 6, 7, 8, 9, 10, 11, 13, 14, 15, 16, 17, 18, 19, 20, 2, 4, 7, 9, 4, 5, 6, 7, 11, 12, 14, 15, 17, 20, 2, 4, 5, 6, 8, 10, 11, 12, 15, 17, 19, 1, 2, 4, 8, 2, 12, 13, 2, 6, 12, 14, 20, 16, 1, 5, 6, 8, 10, 11, 13, 14, 18, 7, 11, 17, 8, 14, 2, 3, 4, 5, 6, 7, 9, 10, 11, 13, 14, 15, 16, 18, 19, 20, 1, 2, 5, 6, 7, 8, 9, 11, 12, 14, 15, 16, 17, 18, 1, 2, 5, 6, 13, 20, 3, 7, 10, 2, 4, 12, 13, 17, 5, 12, 1, 2, 4, 6, 7, 10, 18, 1, 5, 6, 16, 17, 20, 2, 3, 5, 6, 8, 9, 14, 15, 1, 2, 3, 4, 8, 11, 13, 14, 15, 18, 20, 1, 2, 3, 4, 6, 10, 11, 12, 13, 15, 16, 18, 20, 4, 9, 15, 1, 2, 6, 9, 12, 19, 1, 4, 7, 14, 15, 16, 2, 3, 5, 8, 11, 4, 7, 10, 5, 7, 10, 11, 14, 15, 18, 19, 5, 19, 1, 2, 3, 5, 12, 15, 16, 18, 2, 3, 9, 17, 1, 2, 3, 4, 5, 6, 7, 8, 10, 11, 12, 13, 16, 19, 20, 4, 7, 17, 2, 6, 8, 11, 5, 7, 19, 20, 3, 10, 1, 3, 7, 1, 2, 4, 5, 6, 9, 11, 13, 14, 17, 18, 19, 1, 2, 3, 4, 5, 6, 7, 8, 9, 10, 11, 12, 13, 14, 15, 16, 17, 18, 19, 20, 1, 2, 3, 4, 8, 9, 10, 11, 15, 16, 17, 18, 19, 20, 1, 2, 3, 4, 6, 8, 9, 10, 12, 13, 14, 15, 16, 18, 3, 5, 11, 18, 1, 4, 10, 17, 1, 2, 3, 4, 5, 6, 7, 9, 10, 11, 12, 13, 14, 15, 16, 18, 19, 20, 2, 4, 5, 10, 12, 9, 10, 12, 1, 2, 3, 4, 8, 12, 15, 18, 20, 3, 8, 9, 10, 17, 1, 2, 3, 4, 5, 6, 7, 8, 9, 10, 11, 13, 15, 16, 17, 18, 19, 20, 1, 2, 3, 4, 5, 6, 8, 9, 13, 14, 15, 16, 17, 2, 5, 6, 2, 3, 5, 6, 8, 10, 12, 13, 14, 16, 17, 18, 20, 4, 7, 8, 2, 4, 8, 14, 3, 5, 7, 8, 11, 18, 1, 3, 9, 12, 14, 18, 1, 4, 5, 7, 10, 13, 15, 16, 17, 1, 2, 4, 7, 8, 10, 13, 15, 17, 19, 1, 2, 4, 5, 6, 7, 13, 15, 17, 19, 20, 1, 2, 3, 4, 6, 7, 8, 9, 11, 13, 14, 15, 17, 19, 4, 9, 10, 13, 20, 1, 5, 12, 14, 17, 19, 20, 1, 8, 10, 11, 20, 7, 17, 18, 1, 2, 3, 4, 5, 6, 7, 8, 9, 10, 11, 12, 13, 14, 15, 16, 18, 20, 1, 2, 7, 12, 17, 5, 12, 14, 17, 2, 4, 6, 9, 10, 17, 18, 4, 17, 6, 9, 4, 10, 13, 1, 2, 4, 6, 11, 17, 3, 4, 7, 20, 1, 3, 4, 7, 9, 10, 16, 17, 18, 2, 4, 10, 17, 1, 2, 3, 4, 5, 6, 7, 8, 9, 10, 11, 12, 13, 14, 15, 16, 17, 18, 19, 20, 8, 14, 17, 18, 3, 5, 6, 7, 9, 12, 13, 3, 6, 8, 9, 16, 3, 9, 16, 1, 2, 5, 6, 7, 9, 10, 13, 14, 17, 18, 11, 13, 3, 7, 17, 18, 2, 3, 4, 5, 6, 7, 8, 9, 12, 13, 18, 20, 1, 3, 5, 6, 7, 8, 11, 13, 15, 16, 19, 20, 7, 17, 1, 6, 7, 14, 4, 9, 13, 20, 1, 3, 4, 13, 15, 19, 20, 1, 2, 3, 4, 5, 6, 7, 8, 9, 10, 11, 13, 15, 16, 17, 18, 19, 1, 2, 3, 4, 5, 6, 7, 8, 9, 10, 11, 12, 13, 14, 15, 16, 17, 18, 19, 20, 5, 6, 16, 1, 8, 10, 1, 2, 3, 4, 6, 7, 8, 9, 10, 11, 13, 14, 15, 16, 17, 18, 19, 20, 5, 6, 8, 9, 10, 11, 13, 14, 15, 19, 1, 2, 3, 4, 5, 6, 7, 8, 9, 10, 11, 12, 13, 14, 15, 16, 17, 18, 19, 20, 1, 2, 3, 5, 6, 9, 10, 16, 1, 3, 12, 15, 17, 19, 9, 10, 11, 13, 14, 17, 1, 2, 15, 17, 19, 1, 7, 16, 2, 3, 4, 7, 12, 16, 17, 18, 19, 20, 5, 19, 1, 2, 5, 6, 8, 9, 11, 14, 16, 19, 2, 6, 1, 3, 4, 7, 11, 2, 6, 7, 8, 15, 20, 3, 7, 2, 9, 16, 5, 11, 2, 3, 6, 7, 8, 10, 11, 14, 1, 6, 7, 8, 9, 11, 14, 15, 16, 17, 1, 2, 3, 4, 5, 9, 10, 11, 12, 13, 14, 15, 18, 20, 18, 2, 7, 16, 1, 4, 6, 7, 9, 11, 13, 14, 18, 19, 14, 16, 1, 8, 16, 7, 8, 19, 1, 2, 3, 4, 6, 7, 8, 9, 10, 16, 10, 14, 18, 2, 4, 5, 9, 10, 11, 12, 15, 18, 2, 8, 12, 13, 16, 19, 1, 7, 9, 14, 15, 16, 17, 2, 3, 4, 5, 6, 7, 8, 10, 11, 15, 19, 1, 5, 10, 17, 18, 1, 2, 7, 8, 9, 10, 12, 13, 15, 16, 18, 5, 6, 12, 14, 18, 2, 4, 5, 7, 8, 9, 11, 12, 1, 3, 4, 5, 7, 8, 9, 11, 12, 13, 14, 15, 16, 17, 18, 19, 20, 1, 4, 6, 9, 18, 1, 2, 5, 6, 7, 10, 11, 12, 13, 14, 15, 16, 18, 19, 20, 1, 8, 11, 16, 7, 19, 2, 3, 4, 5, 6, 7, 9, 10, 12, 13, 14, 16, 18, 19, 3, 7, 14, 17, 18, 1, 2, 3, 4, 5, 6, 7, 9, 10, 11, 12, 14, 15, 16, 17, 18, 19, 20, 4, 6, 8, 10, 14, 17, 1, 2, 3, 4, 5, 6, 7, 8, 9, 10, 11, 12, 13, 14, 15, 16, 17, 18, 19, 20, 1, 2, 8, 10, 4, 9, 13, 19, 20, 1, 3, 7, 13, 15, 1, 3, 8, 9, 10, 13, 14, 20, 1, 2, 3, 4, 5, 6, 7, 8, 10, 11, 12, 13, 14, 15, 16, 17, 19, 20, 10, 16, 1, 2, 4, 5, 7, 9, 14, 15, 18, 19, 20, 1, 2, 3, 4, 5, 8, 9, 10, 11, 12, 13, 14, 1, 4, 9, 10, 15, 20, 2, 3, 9, 16, 19, 1, 3, 4, 10, 11, 12, 15, 16, 18, 20, 2, 5, 17, 5, 6, 14, 16, 8, 11, 14, 16, 18, 1, 4, 18, 19, 20, 1, 2, 4, 19, 20, 2, 5, 20, 1, 4, 5, 9, 13, 2, 4, 5, 7, 8, 11, 13, 14, 15, 17, 5, 8, 9, 14, 1, 2, 3, 4, 5, 6, 7, 8, 10, 11, 13, 14, 15, 16, 19, 6, 8, 1, 16, 2, 9, 18, 19, 2, 4, 5, 6, 8, 9, 10, 12, 13, 14, 15, 19, 20, 2, 8, 9, 10, 16, 18, 2, 7, 10, 16, 11, 14, 19, 4, 10, 11, 2, 18, 2, 4, 5, 6, 7, 9, 12, 15, 19, 1, 2, 3, 5, 8, 9, 13, 1, 2, 3, 4, 5, 6, 7, 8, 9, 10, 11, 12, 13, 14, 15, 16, 17, 18, 19, 20, 4, 7, 10, 12, 16, 20, 2, 11, 18, 1, 2, 3, 4, 5, 6, 7, 8, 9, 10, 11, 12, 13, 14, 15, 16, 17, 18, 19, 20, 1, 3, 5, 17, 5, 6, 10, 1, 2, 3, 4, 5, 6, 7, 8, 9, 10, 11, 12, 13, 14, 15, 16, 17, 18, 20, 1, 4, 8, 4, 6, 11, 16, 2, 5, 10, 11, 14, 16, 17, 2, 8, 10, 13, 14, 1, 2, 3, 4, 5, 6, 7, 8, 9, 10, 11, 12, 13, 14, 15, 16, 17, 18, 19, 20, 1, 2, 10, 13, 15, 17, 19, 5, 19, 1, 2, 3, 6, 7, 10, 12, 19, 3, 7, 9, 14, 18, 1, 2, 4, 5, 6, 7, 10, 11, 12, 13, 17, 18, 19, 20, 1, 6, 11, 19, 16, 18, 2, 3, 4, 6, 8, 10, 12, 13, 15, 16, 19, 20, 6, 7, 12, 15, 17, 19, 2, 3, 8, 9, 16, 18, 1, 4, 7, 8, 16, 17, 2, 4, 6, 7, 10, 2, 1, 6, 14, 1, 2, 4, 5, 6, 8, 9, 10, 11, 13, 14, 15, 16, 17, 18, 19, 20, 5, 10, 13, 14, 16, 18, 1, 2, 3, 4, 5, 6, 7, 8, 9, 10, 11, 12, 13, 14, 15, 16, 17, 18, 19, 20, 2, 3, 4, 5, 7, 8, 9, 14, 15, 17, 18, 2, 5, 6, 7, 8, 9, 12, 14, 15, 18, 20, 5, 6, 19, 1, 5, 10, 19, 2, 4, 6, 7, 8, 9, 10, 11, 13, 15, 16, 20, 1, 2, 4, 5, 6, 8, 9, 10, 11, 12, 13, 14, 15, 16, 17, 18, 19, 4, 5, 14, 18, 3, 5, 6, 14, 16, 18, 7, 11, 14, 17, 15, 1, 2, 4, 6, 9, 11, 19, 1, 4, 8, 9, 11, 12, 14, 15, 4, 7, 8, 10, 15, 1, 2, 8, 9, 10, 1, 2, 4, 5, 10, 14, 15, 18, 19, 20, 3, 5, 16, 20, 12, 14, 16, 2, 9, 16, 1, 4, 5, 7, 9, 10, 11, 14, 16, 17, 1, 3, 8, 11, 14, 18, 19, 20, 9, 10, 13, 14, 15, 1, 2, 3, 4, 6, 7, 10, 11, 14, 4, 5, 9, 17, 1, 7, 9, 11, 17, 20, 4, 16, 2, 3, 4, 5, 6, 7, 8, 10, 11, 12, 13, 16, 17, 18, 19, 20, 4, 6, 7, 8, 16, 9, 12, 13, 15, 16, 2, 11, 14, 19, 8, 16, 2, 9, 11, 17, 2, 6, 5, 12, 4, 5, 15, 18, 1, 2, 3, 4, 5, 6, 7, 8, 9, 10, 11, 12, 13, 14, 15, 16, 17, 18, 19, 20, 6, 10, 20, 1, 2, 4, 7, 8, 12, 14, 18, 1, 2, 4, 5, 6, 7, 8, 9, 10, 12, 13, 14, 15, 16, 19, 1, 7, 9, 2, 3, 4, 7, 4, 10, 12, 15, 2, 3, 9, 2, 11, 12, 13, 14, 15, 16, 17, 1, 2, 3, 10, 11, 12, 13, 16, 3, 5, 6, 15, 20, 1, 2, 4, 10, 18, 20, 2, 4, 5, 6, 7, 11, 14, 18, 20, 1, 2, 3, 4, 5, 6, 8, 9, 11, 12, 13, 15, 16, 18, 9, 14, 16, 20, 11, 13, 14, 15, 1, 2, 7, 11, 14, 16, 4, 9, 11, 1, 10, 3, 4, 12, 14, 14, 17, 4, 2, 3, 4, 17, 20, 1, 2, 3, 4, 7, 8, 10, 11, 18, 5, 6, 7, 19, 8, 11, 12, 13, 14, 1, 3, 4, 5, 10, 11, 12, 15, 18, 20, 1, 8, 9, 14, 20, 1, 2, 3, 5, 6, 7, 8, 9, 10, 11, 14, 16, 17, 18, 1, 2, 3, 4, 5, 6, 7, 8, 9, 10, 11, 12, 13, 14, 15, 16, 17, 18, 19, 20, 1, 7, 8, 12, 9, 11, 16, 18, 2, 3, 4, 7, 16, 18, 1, 2, 3, 4, 6, 11, 13, 15, 18, 1, 3, 4, 5, 6, 7, 8, 9, 10, 11, 12, 13, 14, 15, 16, 17, 18, 19, 2, 3, 4, 8, 12, 13, 14, 15, 18, 19, 4, 5, 11, 13, 1, 2, 3, 4, 5, 8, 9, 10, 11, 12, 13, 15, 16, 17, 18, 19, 20, 2, 3, 4, 5, 6, 8, 9, 12, 15, 16, 17, 20, 1, 2, 4, 5, 6, 8, 9, 11, 12, 13, 14, 15, 16, 17, 18, 1, 2, 3, 4, 5, 6, 7, 8, 9, 10, 11, 12, 13, 14, 15, 16, 17, 18, 19, 20, 2, 3, 4, 5, 6, 7, 8, 9, 10, 11, 12, 13, 14, 15, 18, 19, 5, 9, 10, 11, 12, 16, 18, 19, 2, 8, 12, 1, 3, 4, 11, 2, 3, 6, 14, 1, 3, 4, 6, 7, 8, 9, 10, 11, 12, 13, 14, 16, 17, 18, 19, 1, 4, 6, 7, 8, 9, 10, 11, 12, 14, 15, 18, 20, 2, 3, 4, 5, 6, 8, 9, 10, 11, 12, 13, 14, 15, 19, 20, 1, 6, 9, 11, 13, 16, 19, 20, 4, 1, 2, 3, 4, 5, 6, 7, 8, 10, 11, 13, 14, 17, 20, 1, 2, 4, 7, 14, 17, 19, 20, 1, 2, 4, 6, 7, 9, 11, 12, 13, 14, 15, 16, 20, 1, 2, 3, 4, 5, 6, 7, 8, 9, 10, 11, 12, 13, 14, 15, 16, 17, 18, 19, 20, 1, 2, 3, 4, 5, 6, 8, 9, 10, 12, 14, 15, 16, 17, 18, 19, 2, 4, 5, 7, 12, 14, 15, 17, 18, 19, 4, 8, 9, 13, 19, 16, 6, 16, 1, 3, 4, 11, 12, 15, 16, 18, 20, 3, 5, 6, 8, 1, 2, 4, 6, 11, 13, 18, 19, 4, 5, 6, 9, 10, 11, 12, 20, 4, 9, 12, 14, 16, 17, 1, 4, 5, 6, 8, 11, 12, 13, 17, 18, 19, 4, 13, 20, 1, 2, 18, 19, 1, 2, 3, 5, 7, 8, 9, 10, 11, 12, 13, 15, 16, 17, 18, 19, 20, 1, 3, 12, 16, 17, 4, 5, 8, 12, 15, 1, 3, 6, 9, 11, 14, 18, 1, 2, 3, 4, 5, 6, 7, 9, 10, 11, 12, 13, 14, 16, 17, 19, 20, 3, 14, 16, 18, 2, 3, 4, 8, 12, 14, 1, 2, 4, 10, 11, 12, 14, 17, 4, 11, 16, 2, 6, 7, 11, 13, 3, 10, 15, 1, 2, 6, 8, 10, 12, 14, 17, 4, 13, 16, 19, 1, 2, 3, 4, 5, 6, 7, 9, 10, 11, 12, 13, 14, 15, 16, 17, 18, 20, 1, 2, 3, 4, 5, 6, 7, 8, 9, 10, 11, 12, 13, 14, 15, 16, 17, 18, 19, 20, 1, 12, 14, 16, 17, 18, 20, 1, 3, 4, 5, 6, 7, 8, 11, 12, 13, 14, 15, 20, 2, 9, 10, 11, 12, 16, 4, 10, 12, 16, 1, 2, 5, 9, 14, 15, 20, 1, 2, 3, 4, 5, 6, 7, 8, 9, 10, 11, 12, 13, 14, 15, 16, 17, 18, 19, 20, 1, 2, 3, 4, 5, 6, 7, 8, 9, 10, 11, 12, 13, 14, 15, 17, 18, 19, 20, 1, 4, 13, 17, 1, 2, 4, 5, 6, 7, 8, 9, 11, 14, 15, 16, 20, 1, 2, 3, 5, 9, 10, 11, 14, 15, 16, 17, 18, 19, 3, 4, 5, 7, 9, 10, 11, 5, 13, 14, 19, 1, 2, 3, 4, 5, 6, 7, 8, 9, 10, 11, 12, 13, 14, 15, 18, 19, 20, 1, 3, 4, 7, 8, 10, 11, 15, 18, 20, 4, 5, 17, 20, 2, 3, 5, 6, 7, 8, 10, 11, 12, 13, 14, 15, 17, 18, 1, 2, 4, 5, 6, 7, 8, 9, 10, 11, 12, 13, 14, 15, 16, 17, 18, 19, 20, 1, 2, 3, 4, 7, 8, 10, 11, 16, 1, 2, 3, 4, 5, 6, 7, 8, 9, 10, 11, 12, 13, 14, 15, 16, 17, 18, 19, 20, 4, 7, 8, 1, 2, 6, 11, 18, 1, 4, 6, 20, 1, 3, 9, 7, 13, 14, 1, 5, 7, 13, 17, 18, 1, 5, 13, 18, 1, 9, 13, 14, 16, 1, 2, 4, 5, 6, 7, 10, 12, 14, 18, 19, 4, 8, 9, 13, 16, 2, 5, 6, 12, 14, 19, 2, 3, 6, 20, 7, 2, 8, 17, 5, 13, 1, 2, 3, 4, 6, 8, 9, 11, 14, 15, 17, 19, 1, 2, 3, 4, 5, 6, 7, 8, 9, 10, 11, 12, 13, 14, 15, 16, 17, 18, 19, 20, 1, 2, 3, 4, 9, 11, 12, 13, 15, 16, 18, 19, 20, 1, 2, 4, 5, 6, 8, 9, 10, 11, 13, 14, 15, 16, 17, 18, 1, 6, 7, 12, 14, 16, 6, 16, 4, 15, 1, 2, 4, 11, 18, 1, 5, 10, 11, 12, 13, 14, 18, 20, 7, 8, 11, 18, 5, 19, 10, 17, 18, 2, 9, 11, 1, 2, 3, 4, 5, 7, 8, 9, 11, 13, 14, 15, 16, 17, 18, 1, 4, 7, 8, 14, 15, 18, 5, 6, 19, 1, 2, 4, 5, 6, 8, 9, 10, 11, 12, 13, 14, 15, 16, 17, 18, 19, 20, 1, 2, 6, 9, 20, 1, 5, 9, 12, 14, 18, 20, 4, 7, 10, 15, 1, 2, 5, 13, 19, 2, 3, 5, 6, 7, 8, 10, 11, 14, 18, 8, 10, 13, 14, 1, 4, 9, 10, 2, 5, 8, 9, 10, 19, 20, 2, 4, 10, 13, 17, 1, 2, 3, 9, 10, 11, 14, 15, 16, 4, 5, 6, 9, 16, 20, 2, 17, 20, 1, 2, 3, 4, 6, 7, 8, 9, 10, 11, 16, 17, 18, 20, 2, 3, 8, 9, 12, 13, 14, 15, 18, 20, 4, 5, 6, 7, 8, 9, 10, 11, 12, 15, 16, 19, 20, 4, 5, 6, 12, 19, 1, 2, 4, 5, 9, 10, 12, 15, 17, 19, 20, 1, 2, 3, 4, 5, 6, 7, 8, 9, 10, 11, 12, 13, 14, 15, 16, 17, 18, 19, 20, 6, 8, 9, 11, 12, 17, 2, 9, 16, 20, 7, 9, 15, 16, 1, 2, 6, 7, 8, 9, 4, 13, 9, 12, 16, 5, 18, 19, 1, 2, 3, 4, 5, 6, 7, 8, 9, 10, 11, 12, 13, 14, 15, 16, 17, 18, 19, 20, 2, 3, 4, 7, 8, 9, 11, 12, 15, 18, 19, 20, 1, 14, 17, 1, 2, 13, 1, 2, 3, 4, 5, 6, 7, 8, 9, 10, 11, 12, 13, 14, 15, 16, 17, 18, 19, 20, 4, 5, 6, 7, 9, 10, 11, 13, 1, 2, 3, 4, 5, 6, 7, 8, 9, 11, 12, 13, 14, 15, 16, 17, 18, 19, 20, 2, 13, 17, 1, 5, 10, 11, 17, 18, 1, 19, 2, 9, 13, 17, 1, 8, 9, 10, 11, 13, 14, 19, 20, 2, 5, 8, 17, 20, 1, 2, 3, 4, 5, 6, 7, 8, 9, 10, 11, 12, 13, 14, 16, 17, 18, 19, 20, 1, 4, 8, 10, 12, 13, 17, 1, 6, 11, 1, 3, 4, 6, 9, 11, 12, 15, 1, 8, 3, 4, 7, 10, 1, 2, 4, 5, 8, 17, 2, 14, 1, 3, 4, 11, 12, 15, 18, 20, 3, 8, 9, 11, 13, 14, 20, 2, 3, 5, 6, 7, 8, 10, 12, 14, 15, 16, 17, 18, 20, 1, 7, 9, 13, 16, 2, 3, 7, 14, 18, 1, 2, 3, 4, 5, 6, 7, 8, 11, 12, 13, 14, 15, 16, 18, 20, 1, 2, 5, 8, 17, 2, 3, 4, 7, 8, 9, 10, 16, 17, 20, 1, 2, 3, 4, 5, 6, 7, 8, 9, 10, 11, 12, 13, 14, 16, 17, 19, 2, 3, 5, 7, 9, 11, 13, 17, 19, 20, 2, 6, 7, 19, 20, 4, 5, 7, 9, 13, 15, 16, 2, 3, 4, 5, 6, 7, 10, 11, 14, 15, 16, 18, 19, 20, 1, 3, 9, 11, 16, 17, 7, 8, 17, 18, 2, 4, 19, 1, 2, 11, 14, 16, 17, 2, 3, 5, 6, 7, 8, 12, 14, 15, 16, 1, 2, 5, 6, 7, 8, 9, 10, 11, 12, 13, 14, 15, 16, 17, 18, 19, 1, 2, 3, 4, 5, 6, 7, 8, 9, 10, 11, 12, 13, 14, 15, 16, 17, 18, 19, 20, 2, 7, 8, 9, 10, 11, 2, 3, 8, 14, 1, 2, 3, 4, 5, 6, 7, 8, 9, 10, 11, 12, 13, 14, 15, 16, 17, 18, 19, 20, 1, 3, 10, 13, 19, 1, 2, 3, 4, 6, 7, 8, 10, 11, 15, 17, 18, 20, 1, 2, 6, 11, 15, 18, 19, 20, 2, 3, 5, 6, 7, 11, 12, 14, 1, 2, 5, 6, 7, 8, 10, 14, 15, 16, 19, 2, 5, 12, 18, 1, 4, 5, 6, 7, 9, 10, 11, 13, 14, 15, 16, 19, 20, 5, 7, 12, 3, 4, 7, 11, 1, 5, 8, 10, 11, 17, 19, 1, 2, 3, 4, 5, 6, 7, 8, 9, 10, 11, 12, 13, 14, 15, 16, 17, 18, 19, 20, 1, 2, 3, 6, 7, 14, 16, 17, 18, 2, 3, 6, 7, 12, 16, 19, 1, 6, 13, 17, 20, 3, 6, 1, 3, 6, 7, 8, 10, 11, 12, 13, 14, 15, 16, 18, 2, 4, 9, 10, 13, 15, 16, 20, 2, 3, 4, 5, 6, 8, 9, 10, 11, 12, 13, 14, 15, 16, 20, 1, 2, 6, 8, 9, 10, 12, 13, 14, 15, 17, 20, 7, 8, 9, 14, 1, 6, 5, 6, 14, 16, 3, 5, 6, 9, 18, 2, 4, 20, 1, 2, 4, 6, 14, 2, 4, 5, 7, 12, 14, 19, 2, 5, 9, 13, 18, 1, 2, 4, 8, 9, 14, 20, 1, 2, 3, 18, 20, 5, 6, 12, 15, 18, 1, 2, 3, 4, 5, 6, 7, 8, 9, 10, 11, 12, 13, 14, 15, 16, 17, 18, 19, 20, 3, 5, 6, 11, 15, 16, 1, 2, 5, 7, 9, 11, 12, 14, 15, 16, 17, 18, 16, 1, 2, 4, 5, 6, 7, 8, 9, 12, 15, 17, 18, 4, 6, 11, 12, 15, 16, 1, 2, 3, 4, 5, 6, 10, 12, 13, 14, 15, 17, 18, 19, 20, 1, 2, 3, 5, 7, 8, 10, 14, 17, 18, 19, 1, 12, 18, 3, 4, 5, 8, 10, 12, 14, 16, 17, 18, 20, 3, 4, 8, 9, 15, 1, 2, 3, 4, 5, 7, 9, 10, 11, 12, 13, 15, 16, 17, 18, 19, 2, 4, 6, 5, 7, 10, 18, 19, 1, 2, 3, 4, 5, 6, 7, 8, 9, 10, 11, 13, 14, 15, 16, 17, 18, 19, 20, 5, 19, 5, 6, 19, 2, 5, 7, 10, 17, 1, 2, 3, 4, 5, 6, 7, 8, 9, 10, 11, 12, 13, 14, 15, 16, 17, 18, 19, 20, 1, 10, 11, 16, 17, 4, 5, 7, 15, 1, 2, 3, 4, 5, 6, 7, 8, 9, 10, 11, 12, 13, 14, 15, 16, 17, 18, 19, 20, 1, 7, 8, 9, 11, 17, 4, 5, 7, 9, 10, 13, 2, 10, 13, 18, 19, 1, 2, 3, 4, 5, 6, 7, 8, 9, 10, 11, 12, 13, 14, 15, 16, 17, 18, 19, 20, 6, 10, 12, 14, 17, 4, 7, 8, 16, 19, 20, 1, 2, 4, 5, 7, 8, 10, 13, 15, 16, 18, 19, 20, 1, 2, 3, 4, 5, 6, 7, 8, 9, 10, 11, 13, 14, 15, 17, 18, 19, 20, 5, 6, 8, 11, 13, 19, 1, 2, 3, 4, 5, 6, 7, 8, 10, 11, 12, 13, 14, 15, 16, 17, 18, 19, 20, 3, 5, 7, 11, 15, 18, 3, 4, 15, 1, 4, 6, 9, 10, 13, 1, 4, 6, 9, 10, 11, 13, 14, 15, 17, 5, 7, 9, 13, 14, 1, 12, 1, 2, 3, 4, 5, 6, 8, 9, 10, 11, 13, 14, 15, 16, 17, 20, 6, 7, 10, 16, 7, 14, 1, 6, 8, 11, 12, 14, 17, 5, 16, 2, 3, 5, 6, 7, 8, 9, 10, 14, 16, 17, 18, 19, 2, 9, 10, 3, 11, 1, 2, 3, 4, 5, 6, 7, 8, 9, 10, 11, 12, 13, 14, 15, 17, 18, 19, 20, 2, 4, 6, 2, 4, 5, 6, 9, 14, 16, 19, 4, 12, 15, 1, 10, 13, 20, 5, 6, 12, 16, 1, 13, 1, 2, 3, 4, 5, 6, 7, 8, 9, 10, 11, 13, 14, 15, 16, 17, 18, 19, 20, 4, 12, 14, 17, 10, 12, 15, 16, 17, 2, 3, 4, 5, 7, 8, 9, 10, 11, 13, 16, 3, 6, 7, 9, 12, 19, 1, 2, 4, 8, 9, 10, 13, 16, 18, 20, 1, 4, 6, 7, 8, 9, 10, 11, 12, 13, 15, 16, 17, 18, 4, 17, 19, 2, 5, 7, 9, 13, 17, 18, 3, 4, 5, 6, 7, 9, 11, 12, 14, 16, 18, 19, 20, 1, 2, 3, 4, 5, 6, 7, 8, 9, 10, 11, 12, 13, 15, 16, 17, 18, 19, 20, 1, 2, 5, 7, 14, 17, 18, 1, 2, 3, 5, 6, 7, 8, 10, 11, 13, 14, 15, 18, 19, 1, 2, 5, 6, 10, 18, 6, 8, 19, 2, 4, 5, 9, 10, 14, 16, 18, 19, 1, 3, 4, 5, 10, 12, 13, 14, 5, 7, 14, 9, 15, 1, 2, 3, 5, 8, 9, 14, 16, 19, 20, 1, 2, 3, 4, 5, 6, 7, 8, 9, 10, 11, 12, 15, 16, 17, 18, 19, 20, 8, 14, 16, 7, 18, 20, 2, 6, 7, 18, 19, 2, 4, 5, 9, 2, 4, 5, 7, 9, 10, 12, 14, 15, 16, 17, 18, 20, 1, 2, 3, 4, 5, 6, 7, 8, 9, 10, 11, 12, 13, 14, 15, 16, 17, 18, 19, 20, 1, 2, 3, 4, 5, 6, 7, 8, 9, 10, 11, 12, 13, 14, 15, 16, 17, 18, 19, 20, 1, 2, 3, 4, 6, 9, 11, 13, 14, 19, 20, 3, 10, 1, 2, 9, 13, 19, 1, 8, 17, 19, 11, 14, 15, 6, 16, 20, 1, 4, 6, 7, 8, 17, 5, 19, 5, 2, 4, 7, 17, 14, 1, 3, 4, 5, 6, 7, 8, 10, 11, 13, 14, 15, 17, 18, 2, 5, 15, 3, 4, 15, 20, 3, 5, 6, 18, 19, 5, 7, 19, 1, 3, 6, 9, 14, 18, 2, 11, 1, 10, 3, 11, 12, 9, 13, 14, 2, 4, 5, 13, 14, 15, 2, 5, 7, 10, 14, 2, 4, 17, 9, 13, 14, 2, 3, 4, 5, 6, 7, 8, 9, 11, 16, 17, 18, 18, 1, 2, 3, 4, 5, 6, 7, 8, 9, 10, 11, 12, 13, 14, 15, 16, 17, 18, 19, 20, 2, 7, 8, 9, 10, 13, 16, 17, 20, 1, 2, 3, 4, 6, 7, 8, 9, 11, 12, 13, 14, 17, 20, 2, 7, 17, 18, 20, 1, 2, 3, 4, 5, 7, 13, 15, 16, 18, 4, 14, 18, 19, 1, 2, 4, 8, 11, 13, 1, 2, 11, 14, 1, 3, 4, 7, 8, 10, 11, 15, 18, 20, 2, 10, 20, 2, 3, 4, 5, 7, 9, 10, 11, 12, 15, 1, 2, 3, 4, 5, 6, 8, 13, 15, 9, 17, 1, 14, 1, 2, 3, 5, 6, 7, 8, 10, 11, 12, 13, 14, 18, 19, 9, 10, 13, 17, 19, 1, 5, 10, 11, 17, 18, 2, 6, 10, 20, 4, 9, 12, 15, 1, 2, 3, 6, 19, 2, 8, 9, 10, 11, 12, 15, 16, 2, 12, 13, 2, 3, 4, 10, 4, 6, 17, 1, 3, 15, 1, 2, 3, 5, 6, 7, 8, 9, 11, 12, 14, 15, 16, 17, 18, 6, 15, 16, 6, 8, 16, 1, 5, 9, 11, 12, 13, 16, 17, 1, 2, 3, 4, 12, 13, 15, 5, 19, 4, 5, 10, 14, 19, 20, 2, 9, 12, 14, 17], \"Freq\": [0.4383254647254944, 0.093353770673275, 0.093353770673275, 0.093353770673275, 0.093353770673275, 0.093353770673275, 0.2800613343715668, 0.093353770673275, 0.093353770673275, 0.22496819496154785, 0.22496819496154785, 0.07118790596723557, 0.07118790596723557, 0.07118790596723557, 0.07118790596723557, 0.07118790596723557, 0.07118790596723557, 0.07118790596723557, 0.2135637104511261, 0.07118790596723557, 0.07118790596723557, 0.0884316936135292, 0.05895446240901947, 0.05895446240901947, 0.05895446240901947, 0.05895446240901947, 0.029477231204509735, 0.029477231204509735, 0.029477231204509735, 0.0884316936135292, 0.05895446240901947, 0.05895446240901947, 0.029477231204509735, 0.05895446240901947, 0.0884316936135292, 0.05895446240901947, 0.05895446240901947, 0.029477231204509735, 0.029477231204509735, 0.029477231204509735, 0.49917227029800415, 0.12479306757450104, 0.21152104437351227, 0.21152104437351227, 0.21152104437351227, 0.15373267233371735, 0.15373267233371735, 0.15373267233371735, 0.3074653446674347, 0.13286049664020538, 0.02415645308792591, 0.02415645308792591, 0.02415645308792591, 0.09662581235170364, 0.02415645308792591, 0.02415645308792591, 0.09662581235170364, 0.02415645308792591, 0.14493872225284576, 0.012078226543962955, 0.03623468056321144, 0.0603911355137825, 0.012078226543962955, 0.07246936112642288, 0.04831290617585182, 0.03623468056321144, 0.02415645308792591, 0.0603911355137825, 0.02415645308792591, 0.023878270760178566, 0.07163481414318085, 0.07163481414318085, 0.07163481414318085, 0.04775654152035713, 0.04775654152035713, 0.07163481414318085, 0.07163481414318085, 0.09551308304071426, 0.023878270760178566, 0.023878270760178566, 0.09551308304071426, 0.04775654152035713, 0.023878270760178566, 0.023878270760178566, 0.09551308304071426, 0.04775654152035713, 0.023878270760178566, 0.023878270760178566, 0.11604010313749313, 0.23208020627498627, 0.23208020627498627, 0.11604010313749313, 0.06510590016841888, 0.13021180033683777, 0.06510590016841888, 0.26042360067367554, 0.06510590016841888, 0.06510590016841888, 0.06510590016841888, 0.06510590016841888, 0.06510590016841888, 0.06510590016841888, 0.07409636676311493, 0.07409636676311493, 0.07409636676311493, 0.07409636676311493, 0.07409636676311493, 0.07409636676311493, 0.14819273352622986, 0.07409636676311493, 0.07409636676311493, 0.07409636676311493, 0.07409636676311493, 0.4076716899871826, 0.10191792249679565, 0.2038358449935913, 0.10191792249679565, 0.15428440272808075, 0.3085688054561615, 0.15428440272808075, 0.15343140065670013, 0.15343140065670013, 0.15343140065670013, 0.15343140065670013, 0.15343140065670013, 0.33017346262931824, 0.08605106174945831, 0.08605106174945831, 0.08605106174945831, 0.08605106174945831, 0.08605106174945831, 0.08605106174945831, 0.25815320014953613, 0.08605106174945831, 0.08605106174945831, 0.13105875253677368, 0.13105875253677368, 0.5242350101470947, 0.36610740423202515, 0.18305370211601257, 0.13815543055534363, 0.13815543055534363, 0.046051811426877975, 0.046051811426877975, 0.046051811426877975, 0.09210362285375595, 0.046051811426877975, 0.046051811426877975, 0.046051811426877975, 0.046051811426877975, 0.046051811426877975, 0.046051811426877975, 0.1842072457075119, 0.046051811426877975, 0.046051811426877975, 0.046051811426877975, 0.04386916756629944, 0.08773833513259888, 0.04386916756629944, 0.04386916756629944, 0.04386916756629944, 0.04386916756629944, 0.13160750269889832, 0.04386916756629944, 0.08773833513259888, 0.04386916756629944, 0.04386916756629944, 0.2193458378314972, 0.04386916756629944, 0.04386916756629944, 0.29193010926246643, 0.07298252731561661, 0.29193010926246643, 0.07298252731561661, 0.07298252731561661, 0.07298252731561661, 0.15880927443504333, 0.4764278531074524, 0.15880927443504333, 0.12982288002967834, 0.12982288002967834, 0.12982288002967834, 0.12982288002967834, 0.38946864008903503, 0.35300830006599426, 0.17650415003299713, 0.11279480159282684, 0.11279480159282684, 0.11279480159282684, 0.11279480159282684, 0.11279480159282684, 0.11279480159282684, 0.2255896031856537, 0.15396639704704285, 0.15396639704704285, 0.15396639704704285, 0.15396639704704285, 0.15396639704704285, 0.15396639704704285, 0.05527087673544884, 0.05527087673544884, 0.05527087673544884, 0.1658126413822174, 0.38689613342285156, 0.05527087673544884, 0.05527087673544884, 0.11054175347089767, 0.08419409394264221, 0.042097046971321106, 0.29467934370040894, 0.042097046971321106, 0.21048523485660553, 0.08419409394264221, 0.042097046971321106, 0.042097046971321106, 0.042097046971321106, 0.042097046971321106, 0.042097046971321106, 0.07682237029075623, 0.03841118514537811, 0.42252305150032043, 0.03841118514537811, 0.03841118514537811, 0.03841118514537811, 0.03841118514537811, 0.03841118514537811, 0.03841118514537811, 0.11523356288671494, 0.03841118514537811, 0.03841118514537811, 0.03841118514537811, 0.3769455850124359, 0.12564852833747864, 0.12564852833747864, 0.1600610911846161, 0.3201221823692322, 0.08003054559230804, 0.08003054559230804, 0.08003054559230804, 0.08003054559230804, 0.12060759961605072, 0.36182281374931335, 0.12060759961605072, 0.12060759961605072, 0.12060759961605072, 0.12060759961605072, 0.1092393770813942, 0.1092393770813942, 0.1092393770813942, 0.1092393770813942, 0.3277181386947632, 0.2729681432247162, 0.1364840716123581, 0.1364840716123581, 0.4070770740509033, 0.06784617900848389, 0.06784617900848389, 0.06784617900848389, 0.06784617900848389, 0.06784617900848389, 0.06784617900848389, 0.06784617900848389, 0.45941323041915894, 0.11485330760478973, 0.09989321976900101, 0.09989321976900101, 0.09989321976900101, 0.09989321976900101, 0.09989321976900101, 0.09989321976900101, 0.09989321976900101, 0.19978643953800201, 0.18304066359996796, 0.18304066359996796, 0.18304066359996796, 0.3660813271999359, 0.03443197160959244, 0.06886394321918488, 0.10329591482877731, 0.06886394321918488, 0.03443197160959244, 0.10329591482877731, 0.03443197160959244, 0.03443197160959244, 0.03443197160959244, 0.03443197160959244, 0.10329591482877731, 0.06886394321918488, 0.17215986549854279, 0.03443197160959244, 0.03443197160959244, 0.13478538393974304, 0.4043561518192291, 0.13478538393974304, 0.17719264328479767, 0.17719264328479767, 0.17719264328479767, 0.17719264328479767, 0.4007726013660431, 0.10019315034151077, 0.10019315034151077, 0.10019315034151077, 0.23103226721286774, 0.23103226721286774, 0.3669339120388031, 0.18346695601940155, 0.18346695601940155, 0.1904967725276947, 0.047624193131923676, 0.047624193131923676, 0.14287258684635162, 0.09524838626384735, 0.047624193131923676, 0.047624193131923676, 0.047624193131923676, 0.047624193131923676, 0.09524838626384735, 0.047624193131923676, 0.047624193131923676, 0.055716726928949356, 0.06964591145515442, 0.13929182291030884, 0.09750427305698395, 0.04178754612803459, 0.027858363464474678, 0.055716726928949356, 0.08357509225606918, 0.027858363464474678, 0.027858363464474678, 0.09750427305698395, 0.027858363464474678, 0.027858363464474678, 0.04178754612803459, 0.027858363464474678, 0.013929181732237339, 0.04178754612803459, 0.04178754612803459, 0.027858363464474678, 0.027858363464474678, 0.07028458267450333, 0.14056916534900665, 0.10542687028646469, 0.07028458267450333, 0.03514229133725166, 0.14056916534900665, 0.03514229133725166, 0.14056916534900665, 0.03514229133725166, 0.03514229133725166, 0.03514229133725166, 0.03514229133725166, 0.03514229133725166, 0.07028458267450333, 0.09438678622245789, 0.03146226331591606, 0.03146226331591606, 0.06292452663183212, 0.06292452663183212, 0.37754714488983154, 0.03146226331591606, 0.03146226331591606, 0.09438678622245789, 0.06292452663183212, 0.03146226331591606, 0.03146226331591606, 0.03146226331591606, 0.03146226331591606, 0.1580800861120224, 0.1580800861120224, 0.1580800861120224, 0.3161601722240448, 0.17686858773231506, 0.3537371754646301, 0.17686858773231506, 0.17686858773231506, 0.0355079211294651, 0.0710158422589302, 0.10652376711368561, 0.0355079211294651, 0.1420316845178604, 0.0355079211294651, 0.0355079211294651, 0.0355079211294651, 0.0355079211294651, 0.0355079211294651, 0.1420316845178604, 0.0355079211294651, 0.0355079211294651, 0.0710158422589302, 0.0355079211294651, 0.0355079211294651, 0.0355079211294651, 0.0355079211294651, 0.09932605922222137, 0.09932605922222137, 0.2979781925678253, 0.09932605922222137, 0.09932605922222137, 0.4359217584133148, 0.145307257771492, 0.145307257771492, 0.08374528586864471, 0.33498114347457886, 0.08374528586864471, 0.08374528586864471, 0.08374528586864471, 0.08374528586864471, 0.08374528586864471, 0.08374528586864471, 0.08374528586864471, 0.15250185132026672, 0.15250185132026672, 0.15250185132026672, 0.15250185132026672, 0.15250185132026672, 0.06248213350772858, 0.04165475443005562, 0.208273783326149, 0.06248213350772858, 0.04165475443005562, 0.02082737721502781, 0.04165475443005562, 0.04165475443005562, 0.04165475443005562, 0.02082737721502781, 0.1041368916630745, 0.04165475443005562, 0.06248213350772858, 0.02082737721502781, 0.06248213350772858, 0.04165475443005562, 0.02082737721502781, 0.04165475443005562, 0.07652464509010315, 0.07652464509010315, 0.11478697508573532, 0.038262322545051575, 0.07652464509010315, 0.038262322545051575, 0.07652464509010315, 0.1530492901802063, 0.038262322545051575, 0.07652464509010315, 0.038262322545051575, 0.038262322545051575, 0.11478697508573532, 0.1879945695400238, 0.1879945695400238, 0.1879945695400238, 0.04549434408545494, 0.04549434408545494, 0.13648302853107452, 0.18197737634181976, 0.04549434408545494, 0.04549434408545494, 0.04549434408545494, 0.04549434408545494, 0.04549434408545494, 0.13648302853107452, 0.13648302853107452, 0.04549434408545494, 0.04549434408545494, 0.12278123944997787, 0.12278123944997787, 0.24556247889995575, 0.11150874197483063, 0.22301748394966125, 0.11150874197483063, 0.22301748394966125, 0.40150246024131775, 0.05735749378800392, 0.05735749378800392, 0.05735749378800392, 0.22942997515201569, 0.05735749378800392, 0.10406394302845001, 0.20812788605690002, 0.10406394302845001, 0.10406394302845001, 0.20812788605690002, 0.10406394302845001, 0.055932752788066864, 0.22373101115226746, 0.16779825091362, 0.055932752788066864, 0.055932752788066864, 0.11186550557613373, 0.055932752788066864, 0.055932752788066864, 0.055932752788066864, 0.1438252329826355, 0.07191261649131775, 0.07191261649131775, 0.07191261649131775, 0.07191261649131775, 0.07191261649131775, 0.21573784947395325, 0.07191261649131775, 0.07191261649131775, 0.07191261649131775, 0.055454157292842865, 0.055454157292842865, 0.166362464427948, 0.055454157292842865, 0.166362464427948, 0.055454157292842865, 0.11090831458568573, 0.055454157292842865, 0.055454157292842865, 0.166362464427948, 0.055454157292842865, 0.04752117022871971, 0.04752117022871971, 0.04752117022871971, 0.09504234045743942, 0.04752117022871971, 0.04752117022871971, 0.04752117022871971, 0.14256350696086884, 0.09504234045743942, 0.04752117022871971, 0.04752117022871971, 0.04752117022871971, 0.04752117022871971, 0.09504234045743942, 0.1299104392528534, 0.1299104392528534, 0.1299104392528534, 0.1299104392528534, 0.2598208785057068, 0.09343178570270538, 0.18686357140541077, 0.09343178570270538, 0.18686357140541077, 0.09343178570270538, 0.09343178570270538, 0.09343178570270538, 0.3893316090106964, 0.0778663232922554, 0.0778663232922554, 0.0778663232922554, 0.0778663232922554, 0.14742538332939148, 0.14742538332939148, 0.14742538332939148, 0.06595325469970703, 0.032976627349853516, 0.04946494102478027, 0.06595325469970703, 0.016488313674926758, 0.032976627349853516, 0.016488313674926758, 0.2308363914489746, 0.016488313674926758, 0.14839482307434082, 0.016488313674926758, 0.04946494102478027, 0.08244156837463379, 0.016488313674926758, 0.08244156837463379, 0.032976627349853516, 0.032976627349853516, 0.016488313674926758, 0.2539213001728058, 0.1269606500864029, 0.1269606500864029, 0.1269606500864029, 0.1269606500864029, 0.15010212361812592, 0.15010212361812592, 0.30020424723625183, 0.15010212361812592, 0.11005982756614685, 0.11005982756614685, 0.11005982756614685, 0.11005982756614685, 0.11005982756614685, 0.2201196551322937, 0.11005982756614685, 0.22334779798984528, 0.22334779798984528, 0.36190345883369446, 0.18095172941684723, 0.15455758571624756, 0.3091151714324951, 0.15455758571624756, 0.17321375012397766, 0.17321375012397766, 0.17321375012397766, 0.3464275002479553, 0.17251431941986084, 0.5175429582595825, 0.16395704448223114, 0.3279140889644623, 0.16395704448223114, 0.16395704448223114, 0.10629282146692276, 0.10629282146692276, 0.10629282146692276, 0.10629282146692276, 0.10629282146692276, 0.10629282146692276, 0.21258564293384552, 0.10629282146692276, 0.10629282146692276, 0.1357094943523407, 0.1357094943523407, 0.1357094943523407, 0.1357094943523407, 0.06875474005937576, 0.09167298674583435, 0.022918246686458588, 0.09167298674583435, 0.06875474005937576, 0.045836493372917175, 0.06875474005937576, 0.022918246686458588, 0.045836493372917175, 0.06875474005937576, 0.022918246686458588, 0.06875474005937576, 0.045836493372917175, 0.022918246686458588, 0.045836493372917175, 0.022918246686458588, 0.022918246686458588, 0.09167298674583435, 0.022918246686458588, 0.045836493372917175, 0.3202226459980011, 0.10674088448286057, 0.10674088448286057, 0.10674088448286057, 0.11481976509094238, 0.11481976509094238, 0.11481976509094238, 0.22963953018188477, 0.11481976509094238, 0.11481976509094238, 0.11481976509094238, 0.11656537652015686, 0.11656537652015686, 0.11656537652015686, 0.11656537652015686, 0.23313075304031372, 0.4689292013645172, 0.1172323003411293, 0.1172323003411293, 0.05485190451145172, 0.05485190451145172, 0.10970380902290344, 0.05485190451145172, 0.10970380902290344, 0.05485190451145172, 0.10970380902290344, 0.05485190451145172, 0.05485190451145172, 0.05485190451145172, 0.16455571353435516, 0.15879206359386444, 0.47637617588043213, 0.15532933175563812, 0.15532933175563812, 0.31065866351127625, 0.15532933175563812, 0.06058983877301216, 0.12117967754602432, 0.12117967754602432, 0.12117967754602432, 0.06058983877301216, 0.06058983877301216, 0.06058983877301216, 0.06058983877301216, 0.06058983877301216, 0.12117967754602432, 0.06058983877301216, 0.12117967754602432, 0.06695828586816788, 0.06695828586816788, 0.20087486505508423, 0.06695828586816788, 0.06695828586816788, 0.06695828586816788, 0.13391657173633575, 0.06695828586816788, 0.06695828586816788, 0.06695828586816788, 0.06695828586816788, 0.06695828586816788, 0.20291747152805328, 0.40583494305610657, 0.1442197561264038, 0.2884395122528076, 0.1442197561264038, 0.1442197561264038, 0.45761168003082275, 0.11440292000770569, 0.11440292000770569, 0.11440292000770569, 0.11554575711488724, 0.11554575711488724, 0.11554575711488724, 0.11554575711488724, 0.23109151422977448, 0.11554575711488724, 0.11554575711488724, 0.27416518330574036, 0.04984821751713753, 0.024924108758568764, 0.024924108758568764, 0.024924108758568764, 0.024924108758568764, 0.024924108758568764, 0.024924108758568764, 0.024924108758568764, 0.07477232813835144, 0.024924108758568764, 0.024924108758568764, 0.09969643503427505, 0.07477232813835144, 0.07477232813835144, 0.024924108758568764, 0.09969643503427505, 0.032949257642030716, 0.09884776920080185, 0.17572936415672302, 0.07688160240650177, 0.043932341039180756, 0.032949257642030716, 0.043932341039180756, 0.054915428161621094, 0.06589851528406143, 0.010983085259795189, 0.032949257642030716, 0.010983085259795189, 0.032949257642030716, 0.021966170519590378, 0.043932341039180756, 0.021966170519590378, 0.08786468207836151, 0.021966170519590378, 0.043932341039180756, 0.021966170519590378, 0.28093838691711426, 0.28093838691711426, 0.28093838691711426, 0.19575347006320953, 0.19575347006320953, 0.19575347006320953, 0.05141274631023407, 0.025706373155117035, 0.23135735094547272, 0.05141274631023407, 0.025706373155117035, 0.0771191194653511, 0.05141274631023407, 0.025706373155117035, 0.025706373155117035, 0.10282549262046814, 0.025706373155117035, 0.025706373155117035, 0.05141274631023407, 0.025706373155117035, 0.05141274631023407, 0.025706373155117035, 0.025706373155117035, 0.0771191194653511, 0.050726518034935, 0.152179554104805, 0.3550856411457062, 0.050726518034935, 0.050726518034935, 0.050726518034935, 0.050726518034935, 0.050726518034935, 0.10145303606987, 0.050726518034935, 0.04908371716737747, 0.09816743433475494, 0.1963348686695099, 0.08180619031190872, 0.016361238434910774, 0.03272247686982155, 0.04908371716737747, 0.03272247686982155, 0.016361238434910774, 0.016361238434910774, 0.0654449537396431, 0.0654449537396431, 0.03272247686982155, 0.03272247686982155, 0.0654449537396431, 0.03272247686982155, 0.03272247686982155, 0.03272247686982155, 0.04908371716737747, 0.016361238434910774, 0.36011701822280884, 0.09002925455570221, 0.09002925455570221, 0.09002925455570221, 0.09002925455570221, 0.09002925455570221, 0.09002925455570221, 0.09002925455570221, 0.1321878284215927, 0.2643756568431854, 0.2643756568431854, 0.1321878284215927, 0.1321878284215927, 0.1321878284215927, 0.1497146189212799, 0.1497146189212799, 0.1497146189212799, 0.1497146189212799, 0.1497146189212799, 0.2520657777786255, 0.3663890063762665, 0.1221296638250351, 0.1221296638250351, 0.1221296638250351, 0.1221296638250351, 0.6152479648590088, 0.20052646100521088, 0.40105292201042175, 0.056393977254629135, 0.11278795450925827, 0.11278795450925827, 0.28196990489959717, 0.11278795450925827, 0.056393977254629135, 0.11278795450925827, 0.056393977254629135, 0.056393977254629135, 0.056393977254629135, 0.48885777592658997, 0.12221444398164749, 0.26037338376045227, 0.06509334594011307, 0.06509334594011307, 0.06509334594011307, 0.06509334594011307, 0.13018669188022614, 0.06509334594011307, 0.06509334594011307, 0.06509334594011307, 0.06509334594011307, 0.3551251292228699, 0.3551251292228699, 0.0985184982419014, 0.3940739929676056, 0.0985184982419014, 0.0985184982419014, 0.0985184982419014, 0.44844186305999756, 0.08968837559223175, 0.08968837559223175, 0.08968837559223175, 0.08968837559223175, 0.08968837559223175, 0.41483190655708313, 0.1382773071527481, 0.1705005019903183, 0.3410010039806366, 0.1705005019903183, 0.17751382291316986, 0.3550276458263397, 0.08672057837247849, 0.08672057837247849, 0.26016172766685486, 0.08672057837247849, 0.08672057837247849, 0.17344115674495697, 0.08672057837247849, 0.08672057837247849, 0.06263677030801773, 0.2505470812320709, 0.12527354061603546, 0.06263677030801773, 0.06263677030801773, 0.1879103183746338, 0.06263677030801773, 0.06263677030801773, 0.06263677030801773, 0.06263677030801773, 0.03319404646754265, 0.0663880929350853, 0.3319404423236847, 0.03319404646754265, 0.03319404646754265, 0.03319404646754265, 0.03319404646754265, 0.0663880929350853, 0.0663880929350853, 0.03319404646754265, 0.03319404646754265, 0.1327761858701706, 0.03319404646754265, 0.03319404646754265, 0.23841238021850586, 0.31442925333976746, 0.15721462666988373, 0.15721462666988373, 0.07084483653306961, 0.07084483653306961, 0.21253450214862823, 0.07084483653306961, 0.07084483653306961, 0.07084483653306961, 0.07084483653306961, 0.07084483653306961, 0.07084483653306961, 0.07084483653306961, 0.2666546702384949, 0.2666546702384949, 0.22935046255588531, 0.11467523127794266, 0.34402570128440857, 0.21485619246959686, 0.21485619246959686, 0.21485619246959686, 0.07476787269115448, 0.07476787269115448, 0.07476787269115448, 0.07476787269115448, 0.07476787269115448, 0.07476787269115448, 0.07476787269115448, 0.07476787269115448, 0.22430361807346344, 0.14953574538230896, 0.1578504592180252, 0.1578504592180252, 0.1578504592180252, 0.06814379245042801, 0.06814379245042801, 0.06814379245042801, 0.06814379245042801, 0.06814379245042801, 0.06814379245042801, 0.27257516980171204, 0.13628758490085602, 0.06814379245042801, 0.11049908399581909, 0.11049908399581909, 0.22099816799163818, 0.11049908399581909, 0.11049908399581909, 0.11049908399581909, 0.10935994982719421, 0.32807984948158264, 0.10935994982719421, 0.10935994982719421, 0.10935994982719421, 0.10935994982719421, 0.10935994982719421, 0.0733041763305664, 0.0733041763305664, 0.1466083526611328, 0.0733041763305664, 0.0733041763305664, 0.2932167053222656, 0.0733041763305664, 0.0733041763305664, 0.0733041763305664, 0.0733041763305664, 0.0733041763305664, 0.06324617564678192, 0.06324617564678192, 0.6324617862701416, 0.06324617564678192, 0.06324617564678192, 0.03430786728858948, 0.03430786728858948, 0.03430786728858948, 0.03430786728858948, 0.03430786728858948, 0.37738654017448425, 0.10292360186576843, 0.1372314691543579, 0.06861573457717896, 0.03430786728858948, 0.03430786728858948, 0.16606184840202332, 0.16606184840202332, 0.16606184840202332, 0.16606184840202332, 0.16606184840202332, 0.08096502721309662, 0.08096502721309662, 0.16193005442619324, 0.08096502721309662, 0.08096502721309662, 0.08096502721309662, 0.08096502721309662, 0.24289509654045105, 0.08991182595491409, 0.044955912977457047, 0.044955912977457047, 0.044955912977457047, 0.044955912977457047, 0.08991182595491409, 0.044955912977457047, 0.044955912977457047, 0.044955912977457047, 0.13486774265766144, 0.044955912977457047, 0.044955912977457047, 0.08991182595491409, 0.044955912977457047, 0.044955912977457047, 0.08991182595491409, 0.044955912977457047, 0.17658795416355133, 0.17658795416355133, 0.17658795416355133, 0.17658795416355133, 0.17658795416355133, 0.05140040069818497, 0.10280080139636993, 0.05140040069818497, 0.10280080139636993, 0.05140040069818497, 0.1542012095451355, 0.05140040069818497, 0.10280080139636993, 0.05140040069818497, 0.05140040069818497, 0.05140040069818497, 0.05140040069818497, 0.05140040069818497, 0.05140040069818497, 0.05140040069818497, 0.10554030537605286, 0.10554030537605286, 0.2110806107521057, 0.5277015566825867, 0.23137801885604858, 0.23137801885604858, 0.04457645118236542, 0.04457645118236542, 0.04457645118236542, 0.13372935354709625, 0.04457645118236542, 0.08915290236473083, 0.04457645118236542, 0.04457645118236542, 0.04457645118236542, 0.04457645118236542, 0.04457645118236542, 0.04457645118236542, 0.17830580472946167, 0.04457645118236542, 0.0722176656126976, 0.505523681640625, 0.0722176656126976, 0.0722176656126976, 0.0722176656126976, 0.16014350950717926, 0.0457552894949913, 0.0915105789899826, 0.02287764474749565, 0.0915105789899826, 0.0457552894949913, 0.02287764474749565, 0.2287764549255371, 0.0457552894949913, 0.02287764474749565, 0.02287764474749565, 0.0457552894949913, 0.02287764474749565, 0.02287764474749565, 0.02287764474749565, 0.06863293796777725, 0.02287764474749565, 0.02287764474749565, 0.16074799001216888, 0.16074799001216888, 0.16074799001216888, 0.16074799001216888, 0.16074799001216888, 0.16074799001216888, 0.08744344860315323, 0.05465215444564819, 0.12023474276065826, 0.043721724301576614, 0.043721724301576614, 0.032791294157505035, 0.043721724301576614, 0.08744344860315323, 0.021860862150788307, 0.07651301473379135, 0.021860862150788307, 0.032791294157505035, 0.05465215444564819, 0.021860862150788307, 0.08744344860315323, 0.05465215444564819, 0.032791294157505035, 0.021860862150788307, 0.05465215444564819, 0.010930431075394154, 0.1274866759777069, 0.1274866759777069, 0.2549733519554138, 0.1274866759777069, 0.19405649602413177, 0.19405649602413177, 0.19405649602413177, 0.19405649602413177, 0.19405649602413177, 0.20025195181369781, 0.20025195181369781, 0.20025195181369781, 0.20025195181369781, 0.20025195181369781, 0.09667685627937317, 0.09667685627937317, 0.09667685627937317, 0.09667685627937317, 0.09667685627937317, 0.19335371255874634, 0.09667685627937317, 0.09667685627937317, 0.08889373391866684, 0.059262488037347794, 0.059262488037347794, 0.029631244018673897, 0.029631244018673897, 0.059262488037347794, 0.08889373391866684, 0.08889373391866684, 0.029631244018673897, 0.029631244018673897, 0.17778746783733368, 0.059262488037347794, 0.029631244018673897, 0.029631244018673897, 0.059262488037347794, 0.029631244018673897, 0.029631244018673897, 0.059262488037347794, 0.26871830224990845, 0.26871830224990845, 0.13199110329151154, 0.13199110329151154, 0.06599555164575577, 0.06599555164575577, 0.06599555164575577, 0.06599555164575577, 0.13199110329151154, 0.06599555164575577, 0.06599555164575577, 0.06599555164575577, 0.06599555164575577, 0.0593387708067894, 0.0593387708067894, 0.0593387708067894, 0.1186775416135788, 0.0593387708067894, 0.1186775416135788, 0.0593387708067894, 0.1780163049697876, 0.0593387708067894, 0.1780163049697876, 0.0593387708067894, 0.0593387708067894, 0.14258983731269836, 0.14258983731269836, 0.14258983731269836, 0.14258983731269836, 0.14258983731269836, 0.14258983731269836, 0.18145929276943207, 0.18145929276943207, 0.18145929276943207, 0.18145929276943207, 0.18145929276943207, 0.10240482538938522, 0.44375425577163696, 0.034134943038225174, 0.034134943038225174, 0.06826988607645035, 0.06826988607645035, 0.10240482538938522, 0.034134943038225174, 0.06826988607645035, 0.034134943038225174, 0.18362410366535187, 0.18362410366535187, 0.18362410366535187, 0.1825505942106247, 0.1825505942106247, 0.1825505942106247, 0.1825505942106247, 0.0808372050523758, 0.24251161515712738, 0.0808372050523758, 0.4041860103607178, 0.0808372050523758, 0.12976406514644623, 0.25952813029289246, 0.12976406514644623, 0.12976406514644623, 0.12976406514644623, 0.12314628809690475, 0.2462925761938095, 0.12314628809690475, 0.12314628809690475, 0.12314628809690475, 0.13745327293872833, 0.13745327293872833, 0.4123598337173462, 0.1391698569059372, 0.1391698569059372, 0.2783397138118744, 0.1391698569059372, 0.1391698569059372, 0.0632026419043541, 0.0632026419043541, 0.0632026419043541, 0.0632026419043541, 0.0632026419043541, 0.0632026419043541, 0.0632026419043541, 0.0632026419043541, 0.18960793316364288, 0.0632026419043541, 0.12305519729852676, 0.12305519729852676, 0.49222078919410706, 0.12305519729852676, 0.0899137333035469, 0.04495686665177345, 0.04495686665177345, 0.1798274666070938, 0.04495686665177345, 0.0899137333035469, 0.04495686665177345, 0.04495686665177345, 0.04495686665177345, 0.04495686665177345, 0.0899137333035469, 0.0899137333035469, 0.04495686665177345, 0.04495686665177345, 0.04495686665177345, 0.19265899062156677, 0.19265899062156677, 0.6224073171615601, 0.29936084151268005, 0.27126413583755493, 0.13563206791877747, 0.13563206791877747, 0.13563206791877747, 0.0391918420791626, 0.0783836841583252, 0.0391918420791626, 0.195959210395813, 0.2743428945541382, 0.0391918420791626, 0.0391918420791626, 0.0391918420791626, 0.0391918420791626, 0.0783836841583252, 0.0391918420791626, 0.0391918420791626, 0.0391918420791626, 0.22937701642513275, 0.1529180109500885, 0.1529180109500885, 0.07645900547504425, 0.07645900547504425, 0.07645900547504425, 0.18505488336086273, 0.18505488336086273, 0.18505488336086273, 0.18505488336086273, 0.20196795463562012, 0.20196795463562012, 0.20196795463562012, 0.12799598276615143, 0.12799598276615143, 0.25599196553230286, 0.2154906690120697, 0.2154906690120697, 0.07972797006368637, 0.07972797006368637, 0.3189118802547455, 0.07972797006368637, 0.07972797006368637, 0.07972797006368637, 0.07972797006368637, 0.07972797006368637, 0.07972797006368637, 0.07195698469877243, 0.07195698469877243, 0.07195698469877243, 0.14391396939754486, 0.35978493094444275, 0.07195698469877243, 0.07195698469877243, 0.04732132703065872, 0.2011156529188156, 0.05915166065096855, 0.07098199427127838, 0.03549099713563919, 0.04732132703065872, 0.05915166065096855, 0.04732132703065872, 0.02366066351532936, 0.02366066351532936, 0.04732132703065872, 0.09464265406131744, 0.02366066351532936, 0.03549099713563919, 0.05915166065096855, 0.01183033175766468, 0.02366066351532936, 0.02366066351532936, 0.03549099713563919, 0.02366066351532936, 0.3153451085090637, 0.21023006737232208, 0.10511503368616104, 0.10511503368616104, 0.10511503368616104, 0.10511503368616104, 0.20522981882095337, 0.20522981882095337, 0.20522981882095337, 0.026438551023602486, 0.05287710204720497, 0.026438551023602486, 0.0793156549334526, 0.05287710204720497, 0.10575420409440994, 0.05287710204720497, 0.05287710204720497, 0.05287710204720497, 0.026438551023602486, 0.0793156549334526, 0.10575420409440994, 0.026438551023602486, 0.05287710204720497, 0.026438551023602486, 0.026438551023602486, 0.05287710204720497, 0.026438551023602486, 0.026438551023602486, 0.026438551023602486, 0.1261245608329773, 0.2522491216659546, 0.1261245608329773, 0.1261245608329773, 0.1295502781867981, 0.1295502781867981, 0.5182011127471924, 0.07421187311410904, 0.09894916415214539, 0.024737291038036346, 0.024737291038036346, 0.04947458207607269, 0.22263562679290771, 0.09894916415214539, 0.024737291038036346, 0.04947458207607269, 0.04947458207607269, 0.04947458207607269, 0.04947458207607269, 0.04947458207607269, 0.04947458207607269, 0.024737291038036346, 0.024737291038036346, 0.024737291038036346, 0.024737291038036346, 0.024737291038036346, 0.16240189969539642, 0.16240189969539642, 0.32480379939079285, 0.15684998035430908, 0.15684998035430908, 0.15684998035430908, 0.15684998035430908, 0.07233210653066635, 0.07233210653066635, 0.07233210653066635, 0.07233210653066635, 0.21699631214141846, 0.21699631214141846, 0.07233210653066635, 0.12345563620328903, 0.12345563620328903, 0.12345563620328903, 0.24691127240657806, 0.12345563620328903, 0.1266425997018814, 0.02532852068543434, 0.05065704137086868, 0.03799277916550636, 0.02532852068543434, 0.02532852068543434, 0.01266426034271717, 0.15197111666202545, 0.01266426034271717, 0.1266425997018814, 0.01266426034271717, 0.02532852068543434, 0.0633212998509407, 0.01266426034271717, 0.11397834122180939, 0.05065704137086868, 0.03799277916550636, 0.02532852068543434, 0.03799277916550636, 0.02532852068543434, 0.2017117291688919, 0.10085586458444595, 0.10085586458444595, 0.30256757140159607, 0.10085586458444595, 0.24113574624061584, 0.24113574624061584, 0.5214385390281677, 0.13035963475704193, 0.10248839855194092, 0.10248839855194092, 0.10248839855194092, 0.10248839855194092, 0.30746519565582275, 0.10248839855194092, 0.10248839855194092, 0.10248839855194092, 0.11518467962741852, 0.11518467962741852, 0.11518467962741852, 0.11518467962741852, 0.23036935925483704, 0.07680020481348038, 0.07680020481348038, 0.03840010240674019, 0.03840010240674019, 0.07680020481348038, 0.23040060698986053, 0.07680020481348038, 0.03840010240674019, 0.03840010240674019, 0.03840010240674019, 0.07680020481348038, 0.07680020481348038, 0.03840010240674019, 0.03840010240674019, 0.1560792326927185, 0.1560792326927185, 0.1560792326927185, 0.1560792326927185, 0.20271962881088257, 0.20271962881088257, 0.26088836789131165, 0.1043553501367569, 0.05217767506837845, 0.05217767506837845, 0.1043553501367569, 0.05217767506837845, 0.05217767506837845, 0.05217767506837845, 0.05217767506837845, 0.05217767506837845, 0.05217767506837845, 0.05217767506837845, 0.1122211441397667, 0.1122211441397667, 0.1122211441397667, 0.1122211441397667, 0.1122211441397667, 0.2244422882795334, 0.10837090015411377, 0.10837090015411377, 0.10837090015411377, 0.10837090015411377, 0.10837090015411377, 0.21674180030822754, 0.07573508471250534, 0.15147016942501068, 0.22720524668693542, 0.07573508471250534, 0.07573508471250534, 0.22720524668693542, 0.12487950921058655, 0.12487950921058655, 0.12487950921058655, 0.2497590184211731, 0.12487950921058655, 0.2693248987197876, 0.17882464826107025, 0.3576492965221405, 0.17882464826107025, 0.2461690604686737, 0.0492338128387928, 0.0246169064193964, 0.0492338128387928, 0.0246169064193964, 0.0246169064193964, 0.0492338128387928, 0.0246169064193964, 0.0492338128387928, 0.0246169064193964, 0.0246169064193964, 0.0984676256775856, 0.0246169064193964, 0.07385071367025375, 0.0246169064193964, 0.1477014273405075, 0.0246169064193964, 0.1413266360759735, 0.1413266360759735, 0.1413266360759735, 0.1413266360759735, 0.282653272151947, 0.1413266360759735, 0.01798209547996521, 0.05394628271460533, 0.19780303537845612, 0.03596419095993042, 0.01798209547996521, 0.07192838191986084, 0.05394628271460533, 0.03596419095993042, 0.01798209547996521, 0.08991046994924545, 0.08991046994924545, 0.05394628271460533, 0.03596419095993042, 0.01798209547996521, 0.03596419095993042, 0.01798209547996521, 0.05394628271460533, 0.03596419095993042, 0.01798209547996521, 0.03596419095993042, 0.06302078813314438, 0.06302078813314438, 0.06302078813314438, 0.06302078813314438, 0.06302078813314438, 0.18906235694885254, 0.12604157626628876, 0.06302078813314438, 0.06302078813314438, 0.06302078813314438, 0.06302078813314438, 0.5158621668815613, 0.0468965619802475, 0.093793123960495, 0.0468965619802475, 0.0468965619802475, 0.0468965619802475, 0.0468965619802475, 0.0468965619802475, 0.0468965619802475, 0.0468965619802475, 0.0468965619802475, 0.4745451807975769, 0.09490903466939926, 0.09490903466939926, 0.15052515268325806, 0.37631285190582275, 0.07526257634162903, 0.07526257634162903, 0.05963855981826782, 0.11927711963653564, 0.11927711963653564, 0.05963855981826782, 0.05963855981826782, 0.17891567945480347, 0.05963855981826782, 0.11927711963653564, 0.05963855981826782, 0.05963855981826782, 0.05963855981826782, 0.05963855981826782, 0.27814605832099915, 0.07585801929235458, 0.025286005809903145, 0.05057201161980629, 0.025286005809903145, 0.025286005809903145, 0.05057201161980629, 0.025286005809903145, 0.025286005809903145, 0.025286005809903145, 0.025286005809903145, 0.025286005809903145, 0.10114402323961258, 0.05057201161980629, 0.05057201161980629, 0.025286005809903145, 0.10114402323961258, 0.3192519247531891, 0.10641730576753616, 0.10641730576753616, 0.10641730576753616, 0.12767845392227173, 0.12767845392227173, 0.25535690784454346, 0.12767845392227173, 0.12767845392227173, 0.12767845392227173, 0.16202737390995026, 0.16202737390995026, 0.16202737390995026, 0.16202737390995026, 0.22820821404457092, 0.08580033481121063, 0.08580033481121063, 0.08580033481121063, 0.08580033481121063, 0.2574009895324707, 0.08580033481121063, 0.08580033481121063, 0.0723428949713707, 0.0723428949713707, 0.0723428949713707, 0.3617144823074341, 0.0723428949713707, 0.0723428949713707, 0.0723428949713707, 0.0723428949713707, 0.15070007741451263, 0.15070007741451263, 0.15070007741451263, 0.15070007741451263, 0.15070007741451263, 0.1310049295425415, 0.1310049295425415, 0.1310049295425415, 0.1310049295425415, 0.3930147886276245, 0.10357453674077988, 0.10357453674077988, 0.36251088976860046, 0.05178726837038994, 0.05178726837038994, 0.05178726837038994, 0.05178726837038994, 0.05178726837038994, 0.05178726837038994, 0.05178726837038994, 0.19111678004264832, 0.19111678004264832, 0.29636362195014954, 0.29636362195014954, 0.14004504680633545, 0.2800900936126709, 0.2800900936126709, 0.12959975004196167, 0.5183990001678467, 0.12959975004196167, 0.07485222816467285, 0.07485222816467285, 0.07485222816467285, 0.07485222816467285, 0.07485222816467285, 0.07485222816467285, 0.07485222816467285, 0.07485222816467285, 0.22455666959285736, 0.1497044563293457, 0.09484871476888657, 0.09484871476888657, 0.09484871476888657, 0.09484871476888657, 0.09484871476888657, 0.09484871476888657, 0.18969742953777313, 0.2845461666584015, 0.13648399710655212, 0.13648399710655212, 0.27296799421310425, 0.13648399710655212, 0.13648399710655212, 0.10483472794294357, 0.052417363971471786, 0.052417363971471786, 0.4193389117717743, 0.052417363971471786, 0.052417363971471786, 0.052417363971471786, 0.052417363971471786, 0.052417363971471786, 0.2862875461578369, 0.14314377307891846, 0.14314377307891846, 0.14314377307891846, 0.12116233259439468, 0.12116233259439468, 0.12116233259439468, 0.12116233259439468, 0.24232466518878937, 0.12116233259439468, 0.32796648144721985, 0.16398324072360992, 0.06677203625440598, 0.03338601812720299, 0.13354407250881195, 0.16693009436130524, 0.03338601812720299, 0.16693009436130524, 0.03338601812720299, 0.03338601812720299, 0.06677203625440598, 0.03338601812720299, 0.03338601812720299, 0.06677203625440598, 0.03338601812720299, 0.03338601812720299, 0.03338601812720299, 0.03338601812720299, 0.38188233971595764, 0.12729410827159882, 0.12729410827159882, 0.12729410827159882, 0.12729410827159882, 0.10118192434310913, 0.20236384868621826, 0.10118192434310913, 0.20236384868621826, 0.10118192434310913, 0.26691076159477234, 0.13345538079738617, 0.13345538079738617, 0.13345538079738617, 0.192987322807312, 0.385974645614624, 0.3425573706626892, 0.11418578773736954, 0.11418578773736954, 0.11418578773736954, 0.24369551241397858, 0.24369551241397858, 0.1799396127462387, 0.3598792254924774, 0.12295012921094894, 0.12295012921094894, 0.12295012921094894, 0.36885038018226624, 0.16918914020061493, 0.10151349008083344, 0.033837828785181046, 0.06767565757036209, 0.033837828785181046, 0.033837828785181046, 0.033837828785181046, 0.033837828785181046, 0.033837828785181046, 0.033837828785181046, 0.033837828785181046, 0.033837828785181046, 0.10151349008083344, 0.033837828785181046, 0.033837828785181046, 0.033837828785181046, 0.033837828785181046, 0.033837828785181046, 0.033837828785181046, 0.10151349008083344, 0.2050357311964035, 0.2050357311964035, 0.2050357311964035, 0.05915851891040802, 0.05915851891040802, 0.11831703782081604, 0.11831703782081604, 0.05915851891040802, 0.05915851891040802, 0.23663407564163208, 0.17747555673122406, 0.05480335280299187, 0.05480335280299187, 0.05480335280299187, 0.05480335280299187, 0.10960670560598373, 0.05480335280299187, 0.05480335280299187, 0.10960670560598373, 0.05480335280299187, 0.05480335280299187, 0.27401676774024963, 0.05480335280299187, 0.05480335280299187, 0.05480335280299187, 0.05480335280299187, 0.22029860317707062, 0.22029860317707062, 0.22029860317707062, 0.1839514523744583, 0.1839514523744583, 0.1839514523744583, 0.1839514523744583, 0.37755048274993896, 0.1258501559495926, 0.1258501559495926, 0.1258501559495926, 0.09727436304092407, 0.2918230891227722, 0.2918230891227722, 0.14895722270011902, 0.07447861135005951, 0.14895722270011902, 0.07447861135005951, 0.29791444540023804, 0.07447861135005951, 0.07447861135005951, 0.07447861135005951, 0.09918402880430222, 0.09918402880430222, 0.09918402880430222, 0.09918402880430222, 0.19836805760860443, 0.09918402880430222, 0.09918402880430222, 0.09918402880430222, 0.2491270750761032, 0.1245635375380516, 0.1245635375380516, 0.1245635375380516, 0.1245635375380516, 0.08034508675336838, 0.08034508675336838, 0.4017254412174225, 0.08034508675336838, 0.08034508675336838, 0.08034508675336838, 0.19102753698825836, 0.06367584317922592, 0.06367584317922592, 0.06367584317922592, 0.12735168635845184, 0.06367584317922592, 0.06367584317922592, 0.2547033727169037, 0.06367584317922592, 0.04714579880237579, 0.04714579880237579, 0.14143739640712738, 0.04714579880237579, 0.18858319520950317, 0.04714579880237579, 0.04714579880237579, 0.04714579880237579, 0.04714579880237579, 0.04714579880237579, 0.04714579880237579, 0.04714579880237579, 0.04714579880237579, 0.04714579880237579, 0.20113606750965118, 0.20113606750965118, 0.20113606750965118, 0.20113606750965118, 0.20669685304164886, 0.20669685304164886, 0.20669685304164886, 0.20669685304164886, 0.13031797111034393, 0.13031797111034393, 0.13031797111034393, 0.06515898555517197, 0.26063594222068787, 0.06515898555517197, 0.34289154410362244, 0.17144577205181122, 0.17144577205181122, 0.5058367252349854, 0.12645918130874634, 0.1473643183708191, 0.1473643183708191, 0.2947286367416382, 0.1473643183708191, 0.16288308799266815, 0.3257661759853363, 0.22558821737766266, 0.2802271246910095, 0.14011356234550476, 0.14011356234550476, 0.14011356234550476, 0.14011356234550476, 0.09228488057851791, 0.04614244028925896, 0.18456976115703583, 0.04614244028925896, 0.04614244028925896, 0.04614244028925896, 0.04614244028925896, 0.18456976115703583, 0.13842731714248657, 0.5318306088447571, 0.06647882610559464, 0.06647882610559464, 0.06647882610559464, 0.11534446477890015, 0.2306889295578003, 0.11534446477890015, 0.11534446477890015, 0.11534446477890015, 0.04016653448343277, 0.44183188676834106, 0.04016653448343277, 0.04016653448343277, 0.04016653448343277, 0.04016653448343277, 0.04016653448343277, 0.16066613793373108, 0.04016653448343277, 0.08033306896686554, 0.14655949175357819, 0.14655949175357819, 0.14655949175357819, 0.14655949175357819, 0.14655949175357819, 0.04605105146765709, 0.04605105146765709, 0.04605105146765709, 0.09210210293531418, 0.09210210293531418, 0.04605105146765709, 0.04605105146765709, 0.04605105146765709, 0.04605105146765709, 0.04605105146765709, 0.13815315067768097, 0.13815315067768097, 0.09210210293531418, 0.04605105146765709, 0.09038744866847992, 0.07747495174407959, 0.06456246227025986, 0.06456246227025986, 0.10329993814229965, 0.038737475872039795, 0.051649969071149826, 0.038737475872039795, 0.051649969071149826, 0.025824984535574913, 0.038737475872039795, 0.025824984535574913, 0.038737475872039795, 0.025824984535574913, 0.051649969071149826, 0.038737475872039795, 0.038737475872039795, 0.038737475872039795, 0.06456246227025986, 0.038737475872039795, 0.1911596804857254, 0.1911596804857254, 0.1911596804857254, 0.1911596804857254, 0.16370104253292084, 0.16370104253292084, 0.16370104253292084, 0.16370104253292084, 0.46899938583374023, 0.07816656678915024, 0.15633313357830048, 0.07816656678915024, 0.07816656678915024, 0.07816656678915024, 0.08022300153970718, 0.08022300153970718, 0.08022300153970718, 0.32089200615882874, 0.08022300153970718, 0.08022300153970718, 0.08022300153970718, 0.08022300153970718, 0.08022300153970718, 0.029294287785887718, 0.175765722990036, 0.029294287785887718, 0.058588575571775436, 0.087882861495018, 0.087882861495018, 0.029294287785887718, 0.058588575571775436, 0.029294287785887718, 0.058588575571775436, 0.029294287785887718, 0.029294287785887718, 0.087882861495018, 0.029294287785887718, 0.029294287785887718, 0.029294287785887718, 0.058588575571775436, 0.029294287785887718, 0.07362952083349228, 0.4785918593406677, 0.03681476041674614, 0.03681476041674614, 0.03681476041674614, 0.03681476041674614, 0.03681476041674614, 0.07362952083349228, 0.03681476041674614, 0.03681476041674614, 0.3837161958217621, 0.12790539860725403, 0.12790539860725403, 0.12790539860725403, 0.05519983172416687, 0.027599915862083435, 0.35879889130592346, 0.0827997475862503, 0.027599915862083435, 0.027599915862083435, 0.027599915862083435, 0.027599915862083435, 0.027599915862083435, 0.027599915862083435, 0.027599915862083435, 0.11039966344833374, 0.027599915862083435, 0.027599915862083435, 0.05519983172416687, 0.027599915862083435, 0.05519983172416687, 0.06503401696681976, 0.06503401696681976, 0.1951020509004593, 0.06503401696681976, 0.06503401696681976, 0.06503401696681976, 0.13006803393363953, 0.06503401696681976, 0.06503401696681976, 0.06503401696681976, 0.06503401696681976, 0.06503401696681976, 0.04993623122572899, 0.09987246245145798, 0.19974492490291595, 0.09987246245145798, 0.04993623122572899, 0.04993623122572899, 0.04993623122572899, 0.04993623122572899, 0.09987246245145798, 0.04993623122572899, 0.04993623122572899, 0.04993623122572899, 0.04993623122572899, 0.04993623122572899, 0.04993623122572899, 0.05914103612303734, 0.02957051806151867, 0.02957051806151867, 0.08871155232191086, 0.02957051806151867, 0.02957051806151867, 0.1478525847196579, 0.05914103612303734, 0.02957051806151867, 0.02957051806151867, 0.05914103612303734, 0.02957051806151867, 0.02957051806151867, 0.05914103612303734, 0.02957051806151867, 0.05914103612303734, 0.05914103612303734, 0.05914103612303734, 0.05914103612303734, 0.02957051806151867, 0.03681563585996628, 0.03681563585996628, 0.03681563585996628, 0.03681563585996628, 0.11044690757989883, 0.03681563585996628, 0.22089381515979767, 0.03681563585996628, 0.07363127171993256, 0.03681563585996628, 0.03681563585996628, 0.03681563585996628, 0.03681563585996628, 0.11044690757989883, 0.03681563585996628, 0.03681563585996628, 0.34320440888404846, 0.08580110222101212, 0.08580110222101212, 0.08580110222101212, 0.08580110222101212, 0.08580110222101212, 0.08580110222101212, 0.08580110222101212, 0.35958391427993774, 0.17979195713996887, 0.17979195713996887, 0.09848054498434067, 0.49240270256996155, 0.09848054498434067, 0.09848054498434067, 0.16883087158203125, 0.3376617431640625, 0.16883087158203125, 0.16883087158203125, 0.05583670362830162, 0.05583670362830162, 0.05583670362830162, 0.05583670362830162, 0.22334681451320648, 0.05583670362830162, 0.11167340725660324, 0.05583670362830162, 0.05583670362830162, 0.05583670362830162, 0.05583670362830162, 0.05583670362830162, 0.05583670362830162, 0.05583670362830162, 0.05583670362830162, 0.05583670362830162, 0.059666696935892105, 0.059666696935892105, 0.059666696935892105, 0.059666696935892105, 0.059666696935892105, 0.059666696935892105, 0.059666696935892105, 0.059666696935892105, 0.059666696935892105, 0.11933339387178421, 0.11933339387178421, 0.059666696935892105, 0.11933339387178421, 0.04608844965696335, 0.04608844965696335, 0.04608844965696335, 0.1843537986278534, 0.04608844965696335, 0.04608844965696335, 0.0921768993139267, 0.04608844965696335, 0.04608844965696335, 0.0921768993139267, 0.04608844965696335, 0.04608844965696335, 0.0921768993139267, 0.04608844965696335, 0.04608844965696335, 0.07321145385503769, 0.29284581542015076, 0.07321145385503769, 0.07321145385503769, 0.14642290771007538, 0.07321145385503769, 0.07321145385503769, 0.07321145385503769, 0.43416526913642883, 0.0788595974445343, 0.03942979872226715, 0.03942979872226715, 0.1577191948890686, 0.03942979872226715, 0.0788595974445343, 0.03942979872226715, 0.03942979872226715, 0.11828940361738205, 0.0788595974445343, 0.0788595974445343, 0.03942979872226715, 0.0788595974445343, 0.03942979872226715, 0.08431196212768555, 0.1686239242553711, 0.08431196212768555, 0.08431196212768555, 0.1686239242553711, 0.08431196212768555, 0.08431196212768555, 0.08431196212768555, 0.040668051689863205, 0.08133610337972641, 0.08133610337972641, 0.08133610337972641, 0.040668051689863205, 0.08133610337972641, 0.040668051689863205, 0.08133610337972641, 0.08133610337972641, 0.08133610337972641, 0.12200415134429932, 0.08133610337972641, 0.040668051689863205, 0.05555620789527893, 0.0833343118429184, 0.05555620789527893, 0.0833343118429184, 0.2500029504299164, 0.027778103947639465, 0.027778103947639465, 0.027778103947639465, 0.027778103947639465, 0.05555620789527893, 0.027778103947639465, 0.027778103947639465, 0.027778103947639465, 0.027778103947639465, 0.027778103947639465, 0.05555620789527893, 0.027778103947639465, 0.027778103947639465, 0.027778103947639465, 0.027778103947639465, 0.04411428049206734, 0.22057141363620758, 0.04411428049206734, 0.04411428049206734, 0.04411428049206734, 0.04411428049206734, 0.04411428049206734, 0.04411428049206734, 0.04411428049206734, 0.04411428049206734, 0.08822856098413467, 0.04411428049206734, 0.1323428452014923, 0.04411428049206734, 0.08822856098413467, 0.04411428049206734, 0.16079355776309967, 0.05359785631299019, 0.32158711552619934, 0.05359785631299019, 0.05359785631299019, 0.05359785631299019, 0.05359785631299019, 0.05359785631299019, 0.05359785631299019, 0.05359785631299019, 0.2627410292625427, 0.08758034557104111, 0.17516069114208221, 0.08758034557104111, 0.17516069114208221, 0.30521202087402344, 0.32248932123184204, 0.32248932123184204, 0.06752141565084457, 0.40512847900390625, 0.03376070782542229, 0.06752141565084457, 0.06752141565084457, 0.10128211975097656, 0.03376070782542229, 0.06752141565084457, 0.06752141565084457, 0.302543580532074, 0.302543580532074, 0.302543580532074, 0.302543580532074, 0.10721282660961151, 0.10721282660961151, 0.10721282660961151, 0.21442565321922302, 0.10721282660961151, 0.10721282660961151, 0.10721282660961151, 0.10721282660961151, 0.13823546469211578, 0.13823546469211578, 0.27647092938423157, 0.13823546469211578, 0.15593206882476807, 0.15593206882476807, 0.15593206882476807, 0.15593206882476807, 0.07589971274137497, 0.07589971274137497, 0.37949857115745544, 0.07589971274137497, 0.15179942548274994, 0.07589971274137497, 0.24209725856781006, 0.060524314641952515, 0.060524314641952515, 0.060524314641952515, 0.060524314641952515, 0.060524314641952515, 0.060524314641952515, 0.060524314641952515, 0.060524314641952515, 0.12104862928390503, 0.060524314641952515, 0.1778402179479599, 0.1778402179479599, 0.1778402179479599, 0.18012741208076477, 0.18012741208076477, 0.19707351922988892, 0.19707351922988892, 0.26811185479164124, 0.05362236872315407, 0.05362236872315407, 0.026811184361577034, 0.026811184361577034, 0.026811184361577034, 0.026811184361577034, 0.026811184361577034, 0.026811184361577034, 0.026811184361577034, 0.026811184361577034, 0.13405592739582062, 0.05362236872315407, 0.08043355494737625, 0.026811184361577034, 0.13405592739582062, 0.026811184361577034, 0.11574964225292206, 0.11574964225292206, 0.347248911857605, 0.11574964225292206, 0.11574964225292206, 0.1437591016292572, 0.1437591016292572, 0.1437591016292572, 0.1437591016292572, 0.1437591016292572, 0.14279583096504211, 0.04759861156344414, 0.04759861156344414, 0.5711833238601685, 0.04759861156344414, 0.04759861156344414, 0.04759861156344414, 0.0818527564406395, 0.0818527564406395, 0.0818527564406395, 0.05456850305199623, 0.027284251525998116, 0.13642124831676483, 0.027284251525998116, 0.027284251525998116, 0.10913700610399246, 0.05456850305199623, 0.05456850305199623, 0.05456850305199623, 0.027284251525998116, 0.05456850305199623, 0.027284251525998116, 0.05456850305199623, 0.027284251525998116, 0.14804436266422272, 0.29608872532844543, 0.14804436266422272, 0.14804436266422272, 0.11657053977251053, 0.11657053977251053, 0.11657053977251053, 0.11657053977251053, 0.11657053977251053, 0.23314107954502106, 0.11410831660032272, 0.11410831660032272, 0.05705415830016136, 0.05705415830016136, 0.1711624711751938, 0.11410831660032272, 0.11410831660032272, 0.05705415830016136, 0.12585337460041046, 0.12585337460041046, 0.3775601089000702, 0.13522489368915558, 0.13522489368915558, 0.13522489368915558, 0.13522489368915558, 0.40567469596862793, 0.19961382448673248, 0.19961382448673248, 0.19961382448673248, 0.11194436997175217, 0.05597218498587608, 0.05597218498587608, 0.3918052911758423, 0.05597218498587608, 0.05597218498587608, 0.05597218498587608, 0.05597218498587608, 0.12971891462802887, 0.12971891462802887, 0.12971891462802887, 0.25943782925605774, 0.10757777839899063, 0.07171851396560669, 0.035859256982803345, 0.07171851396560669, 0.10757777839899063, 0.035859256982803345, 0.07171851396560669, 0.035859256982803345, 0.035859256982803345, 0.10757777839899063, 0.035859256982803345, 0.035859256982803345, 0.07171851396560669, 0.035859256982803345, 0.035859256982803345, 0.035859256982803345, 0.07171851396560669, 0.035859256982803345, 0.038443971425294876, 0.11533191055059433, 0.1729978770017624, 0.07688794285058975, 0.038443971425294876, 0.019221985712647438, 0.057665955275297165, 0.057665955275297165, 0.07688794285058975, 0.019221985712647438, 0.038443971425294876, 0.019221985712647438, 0.057665955275297165, 0.019221985712647438, 0.019221985712647438, 0.038443971425294876, 0.057665955275297165, 0.019221985712647438, 0.038443971425294876, 0.019221985712647438, 0.09532782435417175, 0.09532782435417175, 0.1906556487083435, 0.1906556487083435, 0.09532782435417175, 0.09532782435417175, 0.09532782435417175, 0.06542886793613434, 0.13085773587226868, 0.13085773587226868, 0.06542886793613434, 0.06542886793613434, 0.06542886793613434, 0.06542886793613434, 0.06542886793613434, 0.06542886793613434, 0.06542886793613434, 0.13085773587226868, 0.06542886793613434, 0.06542886793613434, 0.20339643955230713, 0.10169821977615356, 0.10169821977615356, 0.20339643955230713, 0.10169821977615356, 0.10169821977615356, 0.1403726488351822, 0.1403726488351822, 0.1403726488351822, 0.2807452976703644, 0.08404510468244553, 0.252135306596756, 0.08404510468244553, 0.08404510468244553, 0.3361804187297821, 0.08404510468244553, 0.08404510468244553, 0.03696659207344055, 0.05544988811016083, 0.05544988811016083, 0.05544988811016083, 0.05544988811016083, 0.03696659207344055, 0.03696659207344055, 0.0739331841468811, 0.03696659207344055, 0.03696659207344055, 0.03696659207344055, 0.03696659207344055, 0.18483296036720276, 0.018483296036720276, 0.018483296036720276, 0.018483296036720276, 0.03696659207344055, 0.03696659207344055, 0.12938307225704193, 0.03696659207344055, 0.03563984856009483, 0.07127969712018967, 0.07127969712018967, 0.03563984856009483, 0.03563984856009483, 0.03563984856009483, 0.07127969712018967, 0.03563984856009483, 0.03563984856009483, 0.03563984856009483, 0.03563984856009483, 0.24947895109653473, 0.07127969712018967, 0.03563984856009483, 0.03563984856009483, 0.03563984856009483, 0.03563984856009483, 0.03563984856009483, 0.07127969712018967, 0.14421184360980988, 0.14421184360980988, 0.14421184360980988, 0.14421184360980988, 0.11206085979938507, 0.056030429899692535, 0.056030429899692535, 0.056030429899692535, 0.056030429899692535, 0.11206085979938507, 0.056030429899692535, 0.056030429899692535, 0.056030429899692535, 0.056030429899692535, 0.056030429899692535, 0.2801521420478821, 0.056030429899692535, 0.32883569598197937, 0.029894154518842697, 0.029894154518842697, 0.029894154518842697, 0.029894154518842697, 0.029894154518842697, 0.029894154518842697, 0.029894154518842697, 0.11957661807537079, 0.059788309037685394, 0.059788309037685394, 0.029894154518842697, 0.11957661807537079, 0.33561670780181885, 0.11187223345041275, 0.11187223345041275, 0.11187223345041275, 0.11187223345041275, 0.11187223345041275, 0.11187223345041275, 0.15736214816570282, 0.15736214816570282, 0.15736214816570282, 0.15736214816570282, 0.020559364929795265, 0.04111872985959053, 0.32894983887672424, 0.020559364929795265, 0.020559364929795265, 0.061678096652030945, 0.020559364929795265, 0.1439155638217926, 0.020559364929795265, 0.020559364929795265, 0.020559364929795265, 0.04111872985959053, 0.04111872985959053, 0.020559364929795265, 0.08223745971918106, 0.020559364929795265, 0.020559364929795265, 0.04111872985959053, 0.039711788296699524, 0.3176943063735962, 0.039711788296699524, 0.039711788296699524, 0.039711788296699524, 0.039711788296699524, 0.1588471531867981, 0.07942357659339905, 0.039711788296699524, 0.039711788296699524, 0.17422813177108765, 0.17422813177108765, 0.17422813177108765, 0.17422813177108765, 0.05174800753593445, 0.1034960150718689, 0.1034960150718689, 0.05174800753593445, 0.05174800753593445, 0.05174800753593445, 0.05174800753593445, 0.1034960150718689, 0.05174800753593445, 0.05174800753593445, 0.15524402260780334, 0.05174800753593445, 0.05174800753593445, 0.05174800753593445, 0.025042977184057236, 0.05008595436811447, 0.2754727602005005, 0.025042977184057236, 0.025042977184057236, 0.025042977184057236, 0.05008595436811447, 0.12521488964557648, 0.05008595436811447, 0.05008595436811447, 0.025042977184057236, 0.07512892782688141, 0.025042977184057236, 0.05008595436811447, 0.025042977184057236, 0.025042977184057236, 0.025042977184057236, 0.025042977184057236, 0.025042977184057236, 0.06425800174474716, 0.06425800174474716, 0.06425800174474716, 0.12851600348949432, 0.06425800174474716, 0.06425800174474716, 0.3212900161743164, 0.06425800174474716, 0.06425800174474716, 0.05372891202569008, 0.1396951675415039, 0.03223734721541405, 0.0644746944308281, 0.02149156481027603, 0.2041698545217514, 0.04298312962055206, 0.04298312962055206, 0.03223734721541405, 0.03223734721541405, 0.03223734721541405, 0.08596625924110413, 0.04298312962055206, 0.03223734721541405, 0.02149156481027603, 0.03223734721541405, 0.02149156481027603, 0.02149156481027603, 0.03223734721541405, 0.010745782405138016, 0.16618722677230835, 0.16618722677230835, 0.16618722677230835, 0.11397337168455124, 0.11397337168455124, 0.11397337168455124, 0.11397337168455124, 0.3419201076030731, 0.10731053352355957, 0.10731053352355957, 0.21462106704711914, 0.21462106704711914, 0.18810172379016876, 0.18810172379016876, 0.3762034475803375, 0.24273045361042023, 0.24273045361042023, 0.24273045361042023, 0.08923044800758362, 0.26769134402275085, 0.17846089601516724, 0.08923044800758362, 0.17846089601516724, 0.08923044800758362, 0.19990892708301544, 0.09995446354150772, 0.19990892708301544, 0.19990892708301544, 0.09272414445877075, 0.46362072229385376, 0.09272414445877075, 0.09272414445877075, 0.09272414445877075, 0.1466718465089798, 0.0733359232544899, 0.0733359232544899, 0.0733359232544899, 0.0733359232544899, 0.0733359232544899, 0.2200077772140503, 0.0733359232544899, 0.1466718465089798, 0.0733359232544899, 0.0733359232544899, 0.13729993999004364, 0.13729993999004364, 0.13729993999004364, 0.4118998348712921, 0.13729993999004364, 0.17236606776714325, 0.3447321355342865, 0.08618303388357162, 0.08618303388357162, 0.08618303388357162, 0.08618303388357162, 0.15561534464359283, 0.15561534464359283, 0.15561534464359283, 0.15561534464359283, 0.3772599697113037, 0.187645822763443, 0.187645822763443, 0.187645822763443, 0.2360043078660965, 0.2360043078660965, 0.03718812018632889, 0.07437624037265778, 0.03718812018632889, 0.03718812018632889, 0.11156436055898666, 0.2975049614906311, 0.07437624037265778, 0.03718812018632889, 0.11156436055898666, 0.03718812018632889, 0.07437624037265778, 0.03718812018632889, 0.04977775737643242, 0.0622221939265728, 0.04977775737643242, 0.0622221939265728, 0.02488887868821621, 0.27377766370773315, 0.03733331710100174, 0.02488887868821621, 0.03733331710100174, 0.08711107075214386, 0.03733331710100174, 0.03733331710100174, 0.04977775737643242, 0.02488887868821621, 0.012444439344108105, 0.04977775737643242, 0.02488887868821621, 0.012444439344108105, 0.03733331710100174, 0.012444439344108105, 0.05782614275813103, 0.05782614275813103, 0.05782614275813103, 0.17347842454910278, 0.05782614275813103, 0.05782614275813103, 0.11565228551626205, 0.05782614275813103, 0.05782614275813103, 0.05782614275813103, 0.11565228551626205, 0.11565228551626205, 0.05782614275813103, 0.05341154709458351, 0.05341154709458351, 0.05341154709458351, 0.05341154709458351, 0.05341154709458351, 0.05341154709458351, 0.16023463010787964, 0.05341154709458351, 0.05341154709458351, 0.05341154709458351, 0.10682309418916702, 0.10682309418916702, 0.05341154709458351, 0.05341154709458351, 0.05341154709458351, 0.3377741575241089, 0.08444353938102722, 0.25333061814308167, 0.08444353938102722, 0.08444353938102722, 0.08444353938102722, 0.25480079650878906, 0.25480079650878906, 0.3905118703842163, 0.19525593519210815, 0.1311536580324173, 0.1311536580324173, 0.1311536580324173, 0.2623073160648346, 0.1311536580324173, 0.180137038230896, 0.06004567816853523, 0.06004567816853523, 0.06004567816853523, 0.06004567816853523, 0.24018271267414093, 0.06004567816853523, 0.06004567816853523, 0.06004567816853523, 0.1724652498960495, 0.1724652498960495, 0.1724652498960495, 0.1724652498960495, 0.5027437210083008, 0.1256859302520752, 0.20126478374004364, 0.20126478374004364, 0.20126478374004364, 0.1860789954662323, 0.1860789954662323, 0.1860789954662323, 0.03124372847378254, 0.15621863305568695, 0.03124372847378254, 0.15621863305568695, 0.12497491389513016, 0.06248745694756508, 0.06248745694756508, 0.03124372847378254, 0.06248745694756508, 0.06248745694756508, 0.03124372847378254, 0.03124372847378254, 0.06248745694756508, 0.06248745694756508, 0.03124372847378254, 0.1149008646607399, 0.1149008646607399, 0.2298017293214798, 0.1149008646607399, 0.2298017293214798, 0.1149008646607399, 0.1149008646607399, 0.45127183198928833, 0.11281795799732208, 0.11281795799732208, 0.3233049213886261, 0.053884152323007584, 0.026942076161503792, 0.026942076161503792, 0.026942076161503792, 0.026942076161503792, 0.026942076161503792, 0.026942076161503792, 0.053884152323007584, 0.026942076161503792, 0.026942076161503792, 0.026942076161503792, 0.10776830464601517, 0.053884152323007584, 0.08082623034715652, 0.026942076161503792, 0.10776830464601517, 0.026942076161503792, 0.12819591164588928, 0.38458773493766785, 0.12819591164588928, 0.12819591164588928, 0.12819591164588928, 0.08583774417638779, 0.17167548835277557, 0.08583774417638779, 0.08583774417638779, 0.08583774417638779, 0.08583774417638779, 0.17167548835277557, 0.1870385855436325, 0.1870385855436325, 0.1870385855436325, 0.1870385855436325, 0.11536403000354767, 0.11536403000354767, 0.23072806000709534, 0.23072806000709534, 0.11536403000354767, 0.08266299962997437, 0.08266299962997437, 0.08266299962997437, 0.08266299962997437, 0.08266299962997437, 0.08266299962997437, 0.2479889988899231, 0.08266299962997437, 0.16532599925994873, 0.08266299962997437, 0.32665547728538513, 0.16332773864269257, 0.16332773864269257, 0.16332773864269257, 0.21920059621334076, 0.10960029810667038, 0.21920059621334076, 0.10960029810667038, 0.16914182901382446, 0.16914182901382446, 0.08457091450691223, 0.16914182901382446, 0.08457091450691223, 0.08457091450691223, 0.08457091450691223, 0.09181516617536545, 0.1836303323507309, 0.09181516617536545, 0.09181516617536545, 0.27544549107551575, 0.24436989426612854, 0.08145663142204285, 0.08145663142204285, 0.08145663142204285, 0.1629132628440857, 0.08145663142204285, 0.08145663142204285, 0.08145663142204285, 0.08145663142204285, 0.125996395945549, 0.125996395945549, 0.125996395945549, 0.251992791891098, 0.125996395945549, 0.125996395945549, 0.23133204877376556, 0.23133204877376556, 0.23133204877376556, 0.03913130983710289, 0.03913130983710289, 0.23478785157203674, 0.03913130983710289, 0.03913130983710289, 0.03913130983710289, 0.07826261967420578, 0.03913130983710289, 0.03913130983710289, 0.15652523934841156, 0.07826261967420578, 0.03913130983710289, 0.07826261967420578, 0.03913130983710289, 0.0680370107293129, 0.0680370107293129, 0.1360740214586258, 0.1360740214586258, 0.0680370107293129, 0.0680370107293129, 0.0680370107293129, 0.0680370107293129, 0.1360740214586258, 0.1360740214586258, 0.07265710085630417, 0.07265710085630417, 0.07265710085630417, 0.07265710085630417, 0.07265710085630417, 0.07265710085630417, 0.07265710085630417, 0.07265710085630417, 0.07265710085630417, 0.07265710085630417, 0.07265710085630417, 0.07265710085630417, 0.14531420171260834, 0.18885590136051178, 0.37771180272102356, 0.09442795068025589, 0.09442795068025589, 0.09442795068025589, 0.09010594338178635, 0.09010594338178635, 0.09010594338178635, 0.09010594338178635, 0.09010594338178635, 0.09010594338178635, 0.09010594338178635, 0.09010594338178635, 0.09010594338178635, 0.1802118867635727, 0.09010594338178635, 0.01775744929909706, 0.12430214881896973, 0.01775744929909706, 0.05327235162258148, 0.01775744929909706, 0.2663617432117462, 0.03551489859819412, 0.03551489859819412, 0.05327235162258148, 0.05327235162258148, 0.07102979719638824, 0.03551489859819412, 0.05327235162258148, 0.01775744929909706, 0.01775744929909706, 0.05327235162258148, 0.01775744929909706, 0.01775744929909706, 0.05327235162258148, 0.01775744929909706, 0.13607169687747955, 0.06803584843873978, 0.3401792347431183, 0.06803584843873978, 0.06803584843873978, 0.20410753786563873, 0.40827932953834534, 0.1360931098461151, 0.1360931098461151, 0.1360931098461151, 0.16007547080516815, 0.16007547080516815, 0.16007547080516815, 0.3201509416103363, 0.12883304059505463, 0.12883304059505463, 0.12883304059505463, 0.12883304059505463, 0.25766608119010925, 0.12883304059505463, 0.1973213255405426, 0.3946426510810852, 0.17476552724838257, 0.17476552724838257, 0.17476552724838257, 0.5228055715560913, 0.13070139288902283, 0.13070139288902283, 0.05307821184396744, 0.05307821184396744, 0.1326955258846283, 0.05307821184396744, 0.07961732149124146, 0.02653910592198372, 0.02653910592198372, 0.05307821184396744, 0.05307821184396744, 0.02653910592198372, 0.10615642368793488, 0.02653910592198372, 0.09288687258958817, 0.02653910592198372, 0.01326955296099186, 0.02653910592198372, 0.02653910592198372, 0.05307821184396744, 0.06634776294231415, 0.02653910592198372, 0.04695185646414757, 0.04695185646414757, 0.04695185646414757, 0.1408555656671524, 0.09390371292829514, 0.04695185646414757, 0.09390371292829514, 0.04695185646414757, 0.04695185646414757, 0.1408555656671524, 0.04695185646414757, 0.09390371292829514, 0.16000108420848846, 0.16000108420848846, 0.32000216841697693, 0.17701567709445953, 0.17701567709445953, 0.35403135418891907, 0.02355518378317356, 0.04711036756634712, 0.02355518378317356, 0.02355518378317356, 0.11777592450380325, 0.07066555321216583, 0.02355518378317356, 0.02355518378317356, 0.02355518378317356, 0.02355518378317356, 0.04711036756634712, 0.16488629579544067, 0.02355518378317356, 0.11777592450380325, 0.04711036756634712, 0.04711036756634712, 0.02355518378317356, 0.02355518378317356, 0.02355518378317356, 0.02355518378317356, 0.12419603019952774, 0.12419603019952774, 0.18629403412342072, 0.06209801509976387, 0.06209801509976387, 0.06209801509976387, 0.18629403412342072, 0.06209801509976387, 0.06975798308849335, 0.04650532454252243, 0.023252662271261215, 0.06975798308849335, 0.023252662271261215, 0.09301064908504486, 0.09301064908504486, 0.04650532454252243, 0.06975798308849335, 0.04650532454252243, 0.09301064908504486, 0.06975798308849335, 0.023252662271261215, 0.023252662271261215, 0.06975798308849335, 0.04650532454252243, 0.023252662271261215, 0.04650532454252243, 0.06975798308849335, 0.4612981379032135, 0.15376603603363037, 0.15376603603363037, 0.04858313873410225, 0.0971662774682045, 0.6801639199256897, 0.04858313873410225, 0.0971662774682045, 0.04858313873410225, 0.22556735575199127, 0.22556735575199127, 0.3062310516834259, 0.15311552584171295, 0.15311552584171295, 0.15311552584171295, 0.37721410393714905, 0.07544282078742981, 0.07544282078742981, 0.07544282078742981, 0.07544282078742981, 0.07544282078742981, 0.07544282078742981, 0.07544282078742981, 0.07544282078742981, 0.12957604229450226, 0.12957604229450226, 0.2591520845890045, 0.12957604229450226, 0.12957604229450226, 0.0598483644425869, 0.0598483644425869, 0.02992418222129345, 0.0598483644425869, 0.0598483644425869, 0.02992418222129345, 0.1196967288851738, 0.02992418222129345, 0.02992418222129345, 0.02992418222129345, 0.02992418222129345, 0.02992418222129345, 0.02992418222129345, 0.02992418222129345, 0.0897725448012352, 0.0897725448012352, 0.0598483644425869, 0.02992418222129345, 0.0598483644425869, 0.33157503604888916, 0.08289375901222229, 0.16578751802444458, 0.08289375901222229, 0.08289375901222229, 0.08289375901222229, 0.08289375901222229, 0.204954594373703, 0.409909188747406, 0.204954594373703, 0.29701659083366394, 0.07425414770841599, 0.07425414770841599, 0.07425414770841599, 0.07425414770841599, 0.07425414770841599, 0.14850829541683197, 0.07425414770841599, 0.20059652626514435, 0.4011930525302887, 0.15623939037322998, 0.15623939037322998, 0.15623939037322998, 0.31247878074645996, 0.26480764150619507, 0.08826921880245209, 0.08826921880245209, 0.08826921880245209, 0.26480764150619507, 0.08826921880245209, 0.2189348042011261, 0.4378696084022522, 0.04231073707342148, 0.46541810035705566, 0.04231073707342148, 0.04231073707342148, 0.04231073707342148, 0.12693221867084503, 0.04231073707342148, 0.04231073707342148, 0.09618279337882996, 0.09618279337882996, 0.09618279337882996, 0.09618279337882996, 0.09618279337882996, 0.1923655867576599, 0.09618279337882996, 0.10862908512353897, 0.054314542561769485, 0.054314542561769485, 0.10862908512353897, 0.10862908512353897, 0.054314542561769485, 0.054314542561769485, 0.054314542561769485, 0.16294361650943756, 0.054314542561769485, 0.10862908512353897, 0.054314542561769485, 0.21906796097755432, 0.21906796097755432, 0.10109108686447144, 0.10109108686447144, 0.20218217372894287, 0.20218217372894287, 0.20218217372894287, 0.11099053919315338, 0.33297160267829895, 0.11099053919315338, 0.11099053919315338, 0.11099053919315338, 0.07856576144695282, 0.07856576144695282, 0.03928288072347641, 0.11784863471984863, 0.07856576144695282, 0.03928288072347641, 0.07856576144695282, 0.03928288072347641, 0.03928288072347641, 0.03928288072347641, 0.07856576144695282, 0.03928288072347641, 0.07856576144695282, 0.03928288072347641, 0.03928288072347641, 0.07856576144695282, 0.252162367105484, 0.126081183552742, 0.126081183552742, 0.252162367105484, 0.126081183552742, 0.07762037962675095, 0.07762037962675095, 0.07762037962675095, 0.07762037962675095, 0.23286113142967224, 0.07762037962675095, 0.07762037962675095, 0.07762037962675095, 0.07762037962675095, 0.07762037962675095, 0.08325081318616867, 0.08325081318616867, 0.041625406593084335, 0.041625406593084335, 0.041625406593084335, 0.041625406593084335, 0.041625406593084335, 0.041625406593084335, 0.041625406593084335, 0.041625406593084335, 0.041625406593084335, 0.041625406593084335, 0.041625406593084335, 0.1248762235045433, 0.1248762235045433, 0.041625406593084335, 0.041625406593084335, 0.06931883096694946, 0.13863766193389893, 0.06931883096694946, 0.06931883096694946, 0.13863766193389893, 0.06931883096694946, 0.06931883096694946, 0.2079564779996872, 0.06931883096694946, 0.06931883096694946, 0.2882838249206543, 0.14414191246032715, 0.14414191246032715, 0.14414191246032715, 0.14414191246032715, 0.09563267230987549, 0.09563267230987549, 0.09563267230987549, 0.09563267230987549, 0.09563267230987549, 0.09563267230987549, 0.28689801692962646, 0.08753520995378494, 0.04376760497689247, 0.04376760497689247, 0.1313028186559677, 0.04376760497689247, 0.08753520995378494, 0.04376760497689247, 0.04376760497689247, 0.04376760497689247, 0.04376760497689247, 0.04376760497689247, 0.1313028186559677, 0.04376760497689247, 0.08753520995378494, 0.10374726355075836, 0.20749452710151672, 0.10374726355075836, 0.20749452710151672, 0.10374726355075836, 0.10374726355075836, 0.2759137451648712, 0.1379568725824356, 0.2759137451648712, 0.1379568725824356, 0.19591021537780762, 0.19591021537780762, 0.19591021537780762, 0.13153737783432007, 0.13153737783432007, 0.13153737783432007, 0.26307475566864014, 0.13153737783432007, 0.13153737783432007, 0.07998775690793991, 0.07998775690793991, 0.07998775690793991, 0.07998775690793991, 0.07998775690793991, 0.07998775690793991, 0.23996327817440033, 0.07998775690793991, 0.07998775690793991, 0.07998775690793991, 0.030608536675572395, 0.09182561188936234, 0.030608536675572395, 0.06121707335114479, 0.06121707335114479, 0.06121707335114479, 0.09182561188936234, 0.06121707335114479, 0.06121707335114479, 0.030608536675572395, 0.030608536675572395, 0.12243414670228958, 0.06121707335114479, 0.030608536675572395, 0.09182561188936234, 0.06121707335114479, 0.030608536675572395, 0.012054430320858955, 0.14465315639972687, 0.15670758485794067, 0.10848987102508545, 0.02410886064171791, 0.02410886064171791, 0.07232657819986343, 0.06027214974164963, 0.06027214974164963, 0.02410886064171791, 0.012054430320858955, 0.012054430320858955, 0.02410886064171791, 0.02410886064171791, 0.04821772128343582, 0.02410886064171791, 0.07232657819986343, 0.02410886064171791, 0.03616328909993172, 0.02410886064171791, 0.3657865822315216, 0.1219288632273674, 0.1219288632273674, 0.1219288632273674, 0.1219288632273674, 0.1219288632273674, 0.14736546576023102, 0.14736546576023102, 0.44209641218185425, 0.14736546576023102, 0.044049423187971115, 0.044049423187971115, 0.17619769275188446, 0.06607413291931152, 0.022024711593985558, 0.044049423187971115, 0.022024711593985558, 0.022024711593985558, 0.044049423187971115, 0.13214826583862305, 0.11012355983257294, 0.022024711593985558, 0.022024711593985558, 0.022024711593985558, 0.022024711593985558, 0.044049423187971115, 0.022024711593985558, 0.044049423187971115, 0.06607413291931152, 0.044049423187971115, 0.4807067811489105, 0.09614136070013046, 0.09614136070013046, 0.09614136070013046, 0.09614136070013046, 0.04005543887615204, 0.04005543887615204, 0.36049893498420715, 0.04005543887615204, 0.04005543887615204, 0.04005543887615204, 0.04005543887615204, 0.04005543887615204, 0.12016631662845612, 0.04005543887615204, 0.04005543887615204, 0.04005543887615204, 0.04005543887615204, 0.14320096373558044, 0.2864019274711609, 0.07160048186779022, 0.07160048186779022, 0.07160048186779022, 0.07160048186779022, 0.07160048186779022, 0.07160048186779022, 0.0695304423570633, 0.0695304423570633, 0.0695304423570633, 0.1390608847141266, 0.0695304423570633, 0.1390608847141266, 0.0695304423570633, 0.20859134197235107, 0.10076852142810822, 0.20153704285621643, 0.05038426071405411, 0.05038426071405411, 0.05038426071405411, 0.05038426071405411, 0.10076852142810822, 0.10076852142810822, 0.05038426071405411, 0.10076852142810822, 0.05038426071405411, 0.11726498603820801, 0.11726498603820801, 0.23452997207641602, 0.11726498603820801, 0.12999820709228516, 0.04333273321390152, 0.04333273321390152, 0.2166636735200882, 0.04333273321390152, 0.12999820709228516, 0.04333273321390152, 0.08666546642780304, 0.04333273321390152, 0.04333273321390152, 0.04333273321390152, 0.04333273321390152, 0.04333273321390152, 0.08666546642780304, 0.19313499331474304, 0.19313499331474304, 0.19313499331474304, 0.1602272242307663, 0.1602272242307663, 0.3204544484615326, 0.1602272242307663, 0.4114714562892914, 0.11341805756092072, 0.11341805756092072, 0.11341805756092072, 0.11341805756092072, 0.22683611512184143, 0.11341805756092072, 0.11094748228788376, 0.06656848639249802, 0.044378992170095444, 0.08875798434019089, 0.044378992170095444, 0.044378992170095444, 0.022189496085047722, 0.022189496085047722, 0.08875798434019089, 0.044378992170095444, 0.022189496085047722, 0.08875798434019089, 0.044378992170095444, 0.022189496085047722, 0.044378992170095444, 0.022189496085047722, 0.022189496085047722, 0.022189496085047722, 0.06656848639249802, 0.044378992170095444, 0.32070937752723694, 0.08017734438180923, 0.08017734438180923, 0.08017734438180923, 0.08017734438180923, 0.08017734438180923, 0.08017734438180923, 0.08017734438180923, 0.08017734438180923, 0.17032557725906372, 0.17032557725906372, 0.17032557725906372, 0.17032557725906372, 0.17032557725906372, 0.17032557725906372, 0.5326139330863953, 0.12039335072040558, 0.12039335072040558, 0.24078670144081116, 0.12039335072040558, 0.12039335072040558, 0.2250402569770813, 0.2250402569770813, 0.04960982874035835, 0.0992196574807167, 0.04960982874035835, 0.04960982874035835, 0.0992196574807167, 0.04960982874035835, 0.04960982874035835, 0.14882948994636536, 0.04960982874035835, 0.04960982874035835, 0.04960982874035835, 0.0992196574807167, 0.04960982874035835, 0.09174557775259018, 0.09174557775259018, 0.3669823110103607, 0.09174557775259018, 0.09174557775259018, 0.09174557775259018, 0.09174557775259018, 0.09174557775259018, 0.05537726730108261, 0.05537726730108261, 0.05537726730108261, 0.05537726730108261, 0.05537726730108261, 0.05537726730108261, 0.05537726730108261, 0.05537726730108261, 0.05537726730108261, 0.16613180935382843, 0.05537726730108261, 0.05537726730108261, 0.11075453460216522, 0.05537726730108261, 0.05537726730108261, 0.18021024763584137, 0.18021024763584137, 0.04505256190896034, 0.04505256190896034, 0.04505256190896034, 0.18021024763584137, 0.04505256190896034, 0.04505256190896034, 0.04505256190896034, 0.04505256190896034, 0.04505256190896034, 0.04505256190896034, 0.11499373614788055, 0.11499373614788055, 0.34498119354248047, 0.2299874722957611, 0.41994622349739075, 0.20997311174869537, 0.10874679684638977, 0.21749359369277954, 0.10874679684638977, 0.21749359369277954, 0.09163980931043625, 0.09163980931043625, 0.366559237241745, 0.1832796186208725, 0.09163980931043625, 0.21131259202957153, 0.21131259202957153, 0.21131259202957153, 0.3148718476295471, 0.07871796190738678, 0.07871796190738678, 0.23615388572216034, 0.07871796190738678, 0.08184251934289932, 0.08184251934289932, 0.3273700773715973, 0.08184251934289932, 0.08184251934289932, 0.08184251934289932, 0.08184251934289932, 0.13762962818145752, 0.13762962818145752, 0.13762962818145752, 0.13762962818145752, 0.13762962818145752, 0.1573169231414795, 0.07865846157073975, 0.07865846157073975, 0.07865846157073975, 0.23597538471221924, 0.07865846157073975, 0.07865846157073975, 0.33615192770957947, 0.06723038852214813, 0.06723038852214813, 0.26892155408859253, 0.06723038852214813, 0.13339267671108246, 0.13339267671108246, 0.13339267671108246, 0.13339267671108246, 0.2667853534221649, 0.08631379157304764, 0.04315689578652382, 0.07192816585302353, 0.04315689578652382, 0.028771264478564262, 0.21578449010849, 0.04315689578652382, 0.028771264478564262, 0.028771264478564262, 0.04315689578652382, 0.04315689578652382, 0.07192816585302353, 0.057542528957128525, 0.028771264478564262, 0.014385632239282131, 0.057542528957128525, 0.014385632239282131, 0.04315689578652382, 0.014385632239282131, 0.028771264478564262, 0.08670539408922195, 0.1734107881784439, 0.26011618971824646, 0.08670539408922195, 0.08670539408922195, 0.08670539408922195, 0.09247153252363205, 0.13870729506015778, 0.046235766261816025, 0.046235766261816025, 0.09247153252363205, 0.046235766261816025, 0.13870729506015778, 0.13870729506015778, 0.09247153252363205, 0.046235766261816025, 0.046235766261816025, 0.09247153252363205, 0.3729652464389801, 0.06942298263311386, 0.06942298263311386, 0.06942298263311386, 0.06942298263311386, 0.06942298263311386, 0.13884596526622772, 0.06942298263311386, 0.06942298263311386, 0.06942298263311386, 0.13884596526622772, 0.13884596526622772, 0.06942298263311386, 0.10915137827396393, 0.10915137827396393, 0.10915137827396393, 0.21830275654792786, 0.10915137827396393, 0.10915137827396393, 0.053180404007434845, 0.053180404007434845, 0.053180404007434845, 0.053180404007434845, 0.26590201258659363, 0.053180404007434845, 0.053180404007434845, 0.053180404007434845, 0.053180404007434845, 0.053180404007434845, 0.053180404007434845, 0.053180404007434845, 0.053180404007434845, 0.053180404007434845, 0.053180404007434845, 0.12579801678657532, 0.06289900839328766, 0.18869702517986298, 0.06289900839328766, 0.06289900839328766, 0.06289900839328766, 0.06289900839328766, 0.06289900839328766, 0.06289900839328766, 0.12579801678657532, 0.06289900839328766, 0.15820762515068054, 0.3164152503013611, 0.15820762515068054, 0.06437666714191437, 0.12875333428382874, 0.06437666714191437, 0.06437666714191437, 0.06437666714191437, 0.06437666714191437, 0.06437666714191437, 0.06437666714191437, 0.12875333428382874, 0.1931300014257431, 0.06437666714191437, 0.120914988219738, 0.241829976439476, 0.241829976439476, 0.120914988219738, 0.120914988219738, 0.30144956707954407, 0.05024159327149391, 0.025120796635746956, 0.05024159327149391, 0.05024159327149391, 0.025120796635746956, 0.025120796635746956, 0.025120796635746956, 0.025120796635746956, 0.025120796635746956, 0.025120796635746956, 0.10048318654298782, 0.05024159327149391, 0.07536239176988602, 0.025120796635746956, 0.10048318654298782, 0.11171101778745651, 0.44684407114982605, 0.11171101778745651, 0.3983984589576721, 0.09959961473941803, 0.09959961473941803, 0.09959961473941803, 0.09959961473941803, 0.08921624720096588, 0.05947749689221382, 0.02973874844610691, 0.05947749689221382, 0.02973874844610691, 0.05947749689221382, 0.05947749689221382, 0.05947749689221382, 0.05947749689221382, 0.02973874844610691, 0.05947749689221382, 0.02973874844610691, 0.05947749689221382, 0.05947749689221382, 0.05947749689221382, 0.02973874844610691, 0.02973874844610691, 0.08921624720096588, 0.02973874844610691, 0.49191534519195557, 0.12297883629798889, 0.5017164349555969, 0.10034328699111938, 0.10034328699111938, 0.10502571612596512, 0.10502571612596512, 0.5251286029815674, 0.10502571612596512, 0.10502571612596512, 0.08836029469966888, 0.07573740184307098, 0.03786870092153549, 0.12622900307178497, 0.025245798751711845, 0.03786870092153549, 0.07573740184307098, 0.08836029469966888, 0.025245798751711845, 0.03786870092153549, 0.03786870092153549, 0.03786870092153549, 0.025245798751711845, 0.05049159750342369, 0.05049159750342369, 0.05049159750342369, 0.03786870092153549, 0.025245798751711845, 0.05049159750342369, 0.03786870092153549, 0.09986625611782074, 0.09986625611782074, 0.09986625611782074, 0.299598753452301, 0.09986625611782074, 0.21831509470939636, 0.10915754735469818, 0.4366301894187927, 0.10915754735469818, 0.14337633550167084, 0.1024116724729538, 0.04096467047929764, 0.06144700571894646, 0.06144700571894646, 0.04096467047929764, 0.02048233523964882, 0.04096467047929764, 0.02048233523964882, 0.1024116724729538, 0.04096467047929764, 0.04096467047929764, 0.02048233523964882, 0.08192934095859528, 0.04096467047929764, 0.02048233523964882, 0.04096467047929764, 0.04096467047929764, 0.02048233523964882, 0.04096467047929764, 0.17617370188236237, 0.08808685094118118, 0.08808685094118118, 0.26426056027412415, 0.08808685094118118, 0.08808685094118118, 0.2244189977645874, 0.1122094988822937, 0.1122094988822937, 0.1122094988822937, 0.1122094988822937, 0.1122094988822937, 0.1284676343202591, 0.1284676343202591, 0.2569352686405182, 0.1284676343202591, 0.1284676343202591, 0.06106015294790268, 0.06106015294790268, 0.06106015294790268, 0.06106015294790268, 0.06106015294790268, 0.09159023314714432, 0.12212030589580536, 0.03053007647395134, 0.06106015294790268, 0.03053007647395134, 0.03053007647395134, 0.03053007647395134, 0.03053007647395134, 0.06106015294790268, 0.03053007647395134, 0.03053007647395134, 0.03053007647395134, 0.03053007647395134, 0.03053007647395134, 0.03053007647395134, 0.38329771161079407, 0.12776590883731842, 0.12776590883731842, 0.12776590883731842, 0.12776590883731842, 0.17977644503116608, 0.17977644503116608, 0.17977644503116608, 0.17977644503116608, 0.17977644503116608, 0.17977644503116608, 0.13560982048511505, 0.06780491024255753, 0.06780491024255753, 0.06780491024255753, 0.13560982048511505, 0.06780491024255753, 0.06780491024255753, 0.06780491024255753, 0.06780491024255753, 0.06780491024255753, 0.06780491024255753, 0.06780491024255753, 0.13560982048511505, 0.07904490828514099, 0.07904490828514099, 0.07904490828514099, 0.07904490828514099, 0.10539320856332779, 0.07904490828514099, 0.052696604281663895, 0.026348302140831947, 0.026348302140831947, 0.026348302140831947, 0.026348302140831947, 0.052696604281663895, 0.026348302140831947, 0.052696604281663895, 0.026348302140831947, 0.07904490828514099, 0.026348302140831947, 0.026348302140831947, 0.0457792766392231, 0.0457792766392231, 0.0915585532784462, 0.0457792766392231, 0.3662342131137848, 0.3204549551010132, 0.02768445946276188, 0.3045290410518646, 0.05536891892552376, 0.02768445946276188, 0.05536891892552376, 0.05536891892552376, 0.02768445946276188, 0.05536891892552376, 0.02768445946276188, 0.02768445946276188, 0.02768445946276188, 0.02768445946276188, 0.02768445946276188, 0.02768445946276188, 0.05536891892552376, 0.11073783785104752, 0.02768445946276188, 0.02768445946276188, 0.08305337280035019, 0.427319198846817, 0.06104560196399689, 0.06104560196399689, 0.24418240785598755, 0.06104560196399689, 0.06104560196399689, 0.23935848474502563, 0.11967924237251282, 0.35903772711753845, 0.10986603796482086, 0.10986603796482086, 0.10986603796482086, 0.10986603796482086, 0.21973207592964172, 0.10986603796482086, 0.14321620762348175, 0.07160810381174088, 0.07160810381174088, 0.07160810381174088, 0.07160810381174088, 0.14321620762348175, 0.14321620762348175, 0.07160810381174088, 0.07160810381174088, 0.14321620762348175, 0.1432385891675949, 0.1432385891675949, 0.2864771783351898, 0.1432385891675949, 0.1432385891675949, 0.1892477422952652, 0.1892477422952652, 0.10237553715705872, 0.034125179052352905, 0.034125179052352905, 0.06825035810470581, 0.06825035810470581, 0.034125179052352905, 0.06825035810470581, 0.06825035810470581, 0.10237553715705872, 0.034125179052352905, 0.034125179052352905, 0.034125179052352905, 0.034125179052352905, 0.10237553715705872, 0.06825035810470581, 0.034125179052352905, 0.11133366823196411, 0.11133366823196411, 0.22266733646392822, 0.22266733646392822, 0.20629607141017914, 0.20629607141017914, 0.4644530713558197, 0.09289061278104782, 0.09289061278104782, 0.09289061278104782, 0.09289061278104782, 0.09289061278104782, 0.09289061278104782, 0.1788577139377594, 0.1788577139377594, 0.06400452554225922, 0.06400452554225922, 0.06400452554225922, 0.06400452554225922, 0.06400452554225922, 0.06400452554225922, 0.19201357662677765, 0.06400452554225922, 0.06400452554225922, 0.06400452554225922, 0.06400452554225922, 0.06400452554225922, 0.06400452554225922, 0.17817169427871704, 0.17817169427871704, 0.17817169427871704, 0.1715831309556961, 0.3431662619113922, 0.07400905340909958, 0.03700452670454979, 0.018502263352274895, 0.07400905340909958, 0.03700452670454979, 0.03700452670454979, 0.018502263352274895, 0.07400905340909958, 0.03700452670454979, 0.018502263352274895, 0.03700452670454979, 0.03700452670454979, 0.1665203720331192, 0.03700452670454979, 0.018502263352274895, 0.03700452670454979, 0.055506788194179535, 0.1295158416032791, 0.03700452670454979, 0.19459928572177887, 0.38919857144355774, 0.19459928572177887, 0.06720753014087677, 0.06720753014087677, 0.33603766560554504, 0.06720753014087677, 0.06720753014087677, 0.13441506028175354, 0.06720753014087677, 0.06720753014087677, 0.17957963049411774, 0.17957963049411774, 0.3591592609882355, 0.3529568016529083, 0.17647840082645416, 0.17647840082645416, 0.17647840082645416, 0.16198988258838654, 0.16198988258838654, 0.16198988258838654, 0.16198988258838654, 0.4793485999107361, 0.23967429995536804, 0.06281322985887527, 0.09421984106302261, 0.03140661492943764, 0.1570330709218979, 0.03140661492943764, 0.03140661492943764, 0.06281322985887527, 0.03140661492943764, 0.03140661492943764, 0.06281322985887527, 0.03140661492943764, 0.06281322985887527, 0.06281322985887527, 0.06281322985887527, 0.03140661492943764, 0.03140661492943764, 0.03140661492943764, 0.03140661492943764, 0.03140661492943764, 0.17624852061271667, 0.17624852061271667, 0.17624852061271667, 0.17624852061271667, 0.35547158122062683, 0.11849052459001541, 0.11849052459001541, 0.11849052459001541, 0.11849052459001541, 0.1330801099538803, 0.06654005497694016, 0.06654005497694016, 0.06654005497694016, 0.06654005497694016, 0.1330801099538803, 0.06654005497694016, 0.06654005497694016, 0.06654005497694016, 0.1330801099538803, 0.06654005497694016, 0.12801602482795715, 0.2560320496559143, 0.12801602482795715, 0.12801602482795715, 0.12801602482795715, 0.12801602482795715, 0.17078830301761627, 0.05692943558096886, 0.05692943558096886, 0.11385887116193771, 0.17078830301761627, 0.11385887116193771, 0.05692943558096886, 0.05692943558096886, 0.05692943558096886, 0.05692943558096886, 0.10184527933597565, 0.10184527933597565, 0.050922639667987823, 0.050922639667987823, 0.050922639667987823, 0.050922639667987823, 0.050922639667987823, 0.050922639667987823, 0.15276792645454407, 0.050922639667987823, 0.10184527933597565, 0.050922639667987823, 0.10184527933597565, 0.050922639667987823, 0.18413467705249786, 0.3682693541049957, 0.18413467705249786, 0.10731957852840424, 0.21463915705680847, 0.10731957852840424, 0.10731957852840424, 0.21463915705680847, 0.21463915705680847, 0.10731957852840424, 0.04516776651144028, 0.09033553302288055, 0.04516776651144028, 0.1806710660457611, 0.04516776651144028, 0.13550329208374023, 0.04516776651144028, 0.09033553302288055, 0.04516776651144028, 0.13550329208374023, 0.04516776651144028, 0.04516776651144028, 0.04516776651144028, 0.0231096800416708, 0.2310967892408371, 0.1848774403333664, 0.0462193600833416, 0.0231096800416708, 0.0231096800416708, 0.0231096800416708, 0.0462193600833416, 0.0462193600833416, 0.0231096800416708, 0.0924387201666832, 0.0231096800416708, 0.0231096800416708, 0.06932903826236725, 0.0231096800416708, 0.0231096800416708, 0.0231096800416708, 0.0462193600833416, 0.0231096800416708, 0.08750748634338379, 0.08750748634338379, 0.08750748634338379, 0.35002994537353516, 0.08750748634338379, 0.08750748634338379, 0.08750748634338379, 0.08792100101709366, 0.11722800135612488, 0.11722800135612488, 0.02930700033903122, 0.11722800135612488, 0.02930700033903122, 0.1465350091457367, 0.02930700033903122, 0.05861400067806244, 0.02930700033903122, 0.02930700033903122, 0.08792100101709366, 0.05861400067806244, 0.05861400067806244, 0.09247426688671112, 0.09247426688671112, 0.09247426688671112, 0.09247426688671112, 0.3698970675468445, 0.09247426688671112, 0.1982324719429016, 0.1982324719429016, 0.1982324719429016, 0.06696156412363052, 0.2678462564945221, 0.13392312824726105, 0.06696156412363052, 0.13392312824726105, 0.06696156412363052, 0.06696156412363052, 0.06696156412363052, 0.06696156412363052, 0.11552824079990387, 0.057764120399951935, 0.3465847074985504, 0.057764120399951935, 0.057764120399951935, 0.057764120399951935, 0.057764120399951935, 0.11552824079990387, 0.09936892986297607, 0.3974757194519043, 0.09936892986297607, 0.24674196541309357, 0.24674196541309357, 0.24752208590507507, 0.08250736445188522, 0.08250736445188522, 0.08250736445188522, 0.08250736445188522, 0.08250736445188522, 0.08250736445188522, 0.08250736445188522, 0.16501472890377045, 0.08250736445188522, 0.18081095814704895, 0.030135158449411392, 0.12054063379764557, 0.060270316898822784, 0.030135158449411392, 0.030135158449411392, 0.030135158449411392, 0.030135158449411392, 0.060270316898822784, 0.060270316898822784, 0.060270316898822784, 0.030135158449411392, 0.030135158449411392, 0.030135158449411392, 0.030135158449411392, 0.060270316898822784, 0.030135158449411392, 0.030135158449411392, 0.272848516702652, 0.272848516702652, 0.272848516702652, 0.18329675495624542, 0.18329675495624542, 0.18329675495624542, 0.09708463400602341, 0.09708463400602341, 0.09708463400602341, 0.19416926801204681, 0.2912538945674896, 0.2162894308567047, 0.10814471542835236, 0.10814471542835236, 0.4325788617134094, 0.0722419023513794, 0.0722419023513794, 0.0722419023513794, 0.0722419023513794, 0.0722419023513794, 0.0722419023513794, 0.1444838047027588, 0.0722419023513794, 0.0722419023513794, 0.0722419023513794, 0.0722419023513794, 0.1444838047027588, 0.0722419023513794, 0.06052831932902336, 0.12970353662967682, 0.08646902441978455, 0.06917522102594376, 0.03458761051297188, 0.051881417632102966, 0.06052831932902336, 0.06052831932902336, 0.01729380525648594, 0.025940708816051483, 0.051881417632102966, 0.06052831932902336, 0.025940708816051483, 0.03458761051297188, 0.06052831932902336, 0.025940708816051483, 0.03458761051297188, 0.025940708816051483, 0.03458761051297188, 0.025940708816051483, 0.01408411655575037, 0.12675705552101135, 0.15492528676986694, 0.08450470119714737, 0.042252350598573685, 0.02816823311150074, 0.05633646622300148, 0.05633646622300148, 0.07042058557271957, 0.01408411655575037, 0.01408411655575037, 0.01408411655575037, 0.042252350598573685, 0.02816823311150074, 0.042252350598573685, 0.02816823311150074, 0.08450470119714737, 0.01408411655575037, 0.05633646622300148, 0.02816823311150074, 0.12061091512441635, 0.12061091512441635, 0.060305457562208176, 0.060305457562208176, 0.18091636896133423, 0.060305457562208176, 0.060305457562208176, 0.12061091512441635, 0.060305457562208176, 0.060305457562208176, 0.12061091512441635, 0.24629352986812592, 0.24629352986812592, 0.25669991970062256, 0.25669991970062256, 0.12834995985031128, 0.12834995985031128, 0.12834995985031128, 0.29860958456993103, 0.14930479228496552, 0.14930479228496552, 0.14930479228496552, 0.21498025953769684, 0.21498025953769684, 0.21498025953769684, 0.2050601691007614, 0.2050601691007614, 0.2050601691007614, 0.4154387414455414, 0.10385968536138535, 0.10385968536138535, 0.10385968536138535, 0.10385968536138535, 0.10385968536138535, 0.5200864672660828, 0.1300216168165207, 0.5886683464050293, 0.39185816049575806, 0.09796454012393951, 0.09796454012393951, 0.09796454012393951, 0.4272671937942505, 0.09521527588367462, 0.19043055176734924, 0.09521527588367462, 0.03173842653632164, 0.06347685307264328, 0.03173842653632164, 0.06347685307264328, 0.03173842653632164, 0.22216898202896118, 0.03173842653632164, 0.03173842653632164, 0.03173842653632164, 0.03173842653632164, 0.03173842653632164, 0.2252741903066635, 0.2252741903066635, 0.2252741903066635, 0.2828732430934906, 0.1414366215467453, 0.1414366215467453, 0.1414366215467453, 0.09063197672367096, 0.36252790689468384, 0.09063197672367096, 0.09063197672367096, 0.09063197672367096, 0.45408228039741516, 0.11352057009935379, 0.11352057009935379, 0.09845010936260223, 0.04922505468130112, 0.04922505468130112, 0.6399257183074951, 0.04922505468130112, 0.04922505468130112, 0.16887472569942474, 0.3377494513988495, 0.2632342278957367, 0.2632342278957367, 0.17804941534996033, 0.35609883069992065, 0.17804941534996033, 0.1644914448261261, 0.4934743642807007, 0.1644914448261261, 0.14281056821346283, 0.28562113642692566, 0.14281056821346283, 0.14281056821346283, 0.14281056821346283, 0.14281056821346283, 0.10607537627220154, 0.10607537627220154, 0.3182261288166046, 0.10607537627220154, 0.10607537627220154, 0.11110533028841019, 0.44442132115364075, 0.11110533028841019, 0.25100642442703247, 0.25100642442703247, 0.25100642442703247, 0.07114972919225693, 0.07114972919225693, 0.07114972919225693, 0.07114972919225693, 0.07114972919225693, 0.07114972919225693, 0.07114972919225693, 0.07114972919225693, 0.07114972919225693, 0.07114972919225693, 0.07114972919225693, 0.14229945838451385, 0.23826196789741516, 0.19147276878356934, 0.047868192195892334, 0.023934096097946167, 0.047868192195892334, 0.047868192195892334, 0.047868192195892334, 0.047868192195892334, 0.023934096097946167, 0.047868192195892334, 0.047868192195892334, 0.023934096097946167, 0.023934096097946167, 0.0718022882938385, 0.047868192195892334, 0.023934096097946167, 0.0718022882938385, 0.0718022882938385, 0.023934096097946167, 0.023934096097946167, 0.0718022882938385, 0.09861493855714798, 0.09861493855714798, 0.09861493855714798, 0.09861493855714798, 0.09861493855714798, 0.19722987711429596, 0.09861493855714798, 0.09861493855714798, 0.09861493855714798, 0.15806131064891815, 0.15806131064891815, 0.03951532766222954, 0.03951532766222954, 0.03951532766222954, 0.03951532766222954, 0.03951532766222954, 0.23709197342395782, 0.03951532766222954, 0.03951532766222954, 0.03951532766222954, 0.03951532766222954, 0.03951532766222954, 0.03951532766222954, 0.11761268228292465, 0.11761268228292465, 0.2352253645658493, 0.11761268228292465, 0.11761268228292465, 0.060173150151968, 0.120346300303936, 0.060173150151968, 0.240692600607872, 0.060173150151968, 0.120346300303936, 0.060173150151968, 0.060173150151968, 0.060173150151968, 0.060173150151968, 0.10706990957260132, 0.10706990957260132, 0.10706990957260132, 0.4282796382904053, 0.0974428728222847, 0.0974428728222847, 0.2923285961151123, 0.0974428728222847, 0.0974428728222847, 0.0974428728222847, 0.15921081602573395, 0.15921081602573395, 0.15921081602573395, 0.3184216320514679, 0.08025845140218735, 0.36116302013397217, 0.040129225701093674, 0.040129225701093674, 0.040129225701093674, 0.040129225701093674, 0.1605169028043747, 0.040129225701093674, 0.040129225701093674, 0.08025845140218735, 0.20151987671852112, 0.20151987671852112, 0.20151987671852112, 0.11988434940576553, 0.05994217470288277, 0.05994217470288277, 0.05994217470288277, 0.05994217470288277, 0.11988434940576553, 0.05994217470288277, 0.05994217470288277, 0.1798265278339386, 0.1798265278339386, 0.09080404788255692, 0.09080404788255692, 0.09080404788255692, 0.18160809576511383, 0.09080404788255692, 0.09080404788255692, 0.09080404788255692, 0.09080404788255692, 0.18160809576511383, 0.520298182964325, 0.17343272268772125, 0.1931912750005722, 0.3863825500011444, 0.054801858961582184, 0.054801858961582184, 0.054801858961582184, 0.054801858961582184, 0.054801858961582184, 0.054801858961582184, 0.16440556943416595, 0.10960371792316437, 0.16440556943416595, 0.054801858961582184, 0.054801858961582184, 0.054801858961582184, 0.054801858961582184, 0.054801858961582184, 0.12661316990852356, 0.12661316990852356, 0.2532263398170471, 0.12661316990852356, 0.12661316990852356, 0.04858311265707016, 0.09716622531414032, 0.680163562297821, 0.04858311265707016, 0.09716622531414032, 0.04858311265707016, 0.1823316067457199, 0.1823316067457199, 0.1823316067457199, 0.1823316067457199, 0.15802113711833954, 0.15802113711833954, 0.15802113711833954, 0.15802113711833954, 0.16451548039913177, 0.32903096079826355, 0.16451548039913177, 0.16451548039913177, 0.16451548039913177, 0.0740615576505661, 0.0740615576505661, 0.1481231153011322, 0.0740615576505661, 0.1481231153011322, 0.1481231153011322, 0.0740615576505661, 0.1481231153011322, 0.0825575515627861, 0.6604604125022888, 0.0825575515627861, 0.2635840177536011, 0.13179200887680054, 0.13179200887680054, 0.13179200887680054, 0.1891990751028061, 0.1891990751028061, 0.1891990751028061, 0.2645030915737152, 0.1322515457868576, 0.1322515457868576, 0.045031238347291946, 0.09006247669458389, 0.045031238347291946, 0.045031238347291946, 0.045031238347291946, 0.045031238347291946, 0.09006247669458389, 0.045031238347291946, 0.13509371876716614, 0.18012495338916779, 0.045031238347291946, 0.13509371876716614, 0.045031238347291946, 0.045031238347291946, 0.045031238347291946, 0.22375227510929108, 0.22375227510929108, 0.22375227510929108, 0.1738043576478958, 0.1738043576478958, 0.1738043576478958, 0.1018643006682396, 0.1018643006682396, 0.1018643006682396, 0.1018643006682396, 0.1018643006682396, 0.2037286013364792, 0.1018643006682396, 0.1018643006682396, 0.09957636892795563, 0.09957636892795563, 0.09957636892795563, 0.09957636892795563, 0.19915273785591125, 0.09957636892795563, 0.09957636892795563, 0.5062519907951355, 0.12656299769878387, 0.2803158164024353, 0.09343861043453217, 0.09343861043453217, 0.09343861043453217, 0.09343861043453217, 0.18687722086906433, 0.12211064994335175, 0.2442212998867035, 0.12211064994335175, 0.12211064994335175, 0.12211064994335175], \"Term\": [\"abarcar\", \"abrir\", \"abrir\", \"abrir\", \"abrir\", \"abrir\", \"abrir\", \"abrir\", \"abrir\", \"academicas\", \"academicas\", \"accion\", \"accion\", \"accion\", \"accion\", \"accion\", \"accion\", \"accion\", \"accion\", \"accion\", \"accion\", \"accionar\", \"accionar\", \"accionar\", \"accionar\", \"accionar\", \"accionar\", \"accionar\", \"accionar\", \"accionar\", \"accionar\", \"accionar\", \"accionar\", \"accionar\", \"accionar\", \"accionar\", \"accionar\", \"accionar\", \"accionar\", \"accionar\", \"aclaraci\\u00f3n\", \"aclaraci\\u00f3n\", \"aclarar\", \"aclarar\", \"aclarar\", \"acreditar\", \"acreditar\", \"acreditar\", \"acreditar\", \"acta\", \"acta\", \"acta\", \"acta\", \"acta\", \"acta\", \"acta\", \"acta\", \"acta\", \"acta\", \"acta\", \"acta\", \"acta\", \"acta\", \"acta\", \"acta\", \"acta\", \"acta\", \"acta\", \"acta\", \"actividad\", \"actividad\", \"actividad\", \"actividad\", \"actividad\", \"actividad\", \"actividad\", \"actividad\", \"actividad\", \"actividad\", \"actividad\", \"actividad\", \"actividad\", \"actividad\", \"actividad\", \"actividad\", \"actividad\", \"actividad\", \"actividad\", \"activo\", \"activo\", \"activo\", \"activo\", \"actor\", \"actor\", \"actor\", \"actor\", \"actor\", \"actor\", \"actor\", \"actor\", \"actor\", \"actor\", \"actual\", \"actual\", \"actual\", \"actual\", \"actual\", \"actual\", \"actual\", \"actual\", \"actual\", \"actual\", \"actual\", \"actualidad\", \"actualidad\", \"actualidad\", \"actualidad\", \"acudir\", \"acudir\", \"acudir\", \"acuerdo\", \"acuerdo\", \"acuerdo\", \"acuerdo\", \"acuerdo\", \"adicionalmente\", \"adjudicacion\", \"adjudicacion\", \"adjudicacion\", \"adjudicacion\", \"adjudicacion\", \"adjudicacion\", \"adjudicacion\", \"adjudicacion\", \"adjudicacion\", \"adjudicaci\\u00f3n\", \"adjudicaci\\u00f3n\", \"adjudicaci\\u00f3n\", \"adjudicar\", \"adjudicar\", \"administracion\", \"administracion\", \"administracion\", \"administracion\", \"administracion\", \"administracion\", \"administracion\", \"administracion\", \"administracion\", \"administracion\", \"administracion\", \"administracion\", \"administracion\", \"administracion\", \"administracion\", \"administracion\", \"adolescente\", \"adolescente\", \"adolescente\", \"adolescente\", \"adolescente\", \"adolescente\", \"adolescente\", \"adolescente\", \"adolescente\", \"adolescente\", \"adolescente\", \"adolescente\", \"adolescente\", \"adolescente\", \"adquisicion\", \"adquisicion\", \"adquisicion\", \"adquisicion\", \"adquisicion\", \"adquisicion\", \"adscribir\", \"adscribir\", \"adscribir\", \"adulto\", \"adulto\", \"adulto\", \"adulto\", \"adulto\", \"afectar\", \"afectar\", \"afirmativo\", \"afirmativo\", \"afirmativo\", \"afirmativo\", \"afirmativo\", \"afirmativo\", \"afirmativo\", \"agostar\", \"agostar\", \"agostar\", \"agostar\", \"agostar\", \"agostar\", \"aguascalientes\", \"aguascalientes\", \"aguascalientes\", \"aguascalientes\", \"aguascalientes\", \"aguascalientes\", \"aguascalientes\", \"aguascalientes\", \"ajustar\", \"ajustar\", \"ajustar\", \"ajustar\", \"ajustar\", \"ajustar\", \"ajustar\", \"ajustar\", \"ajustar\", \"ajustar\", \"ajustar\", \"alimentacion\", \"alimentacion\", \"alimentacion\", \"alimentacion\", \"alimentacion\", \"alimentacion\", \"alimentacion\", \"alimentacion\", \"alimentacion\", \"alimentacion\", \"alimentacion\", \"alimentacion\", \"alimentacion\", \"alimentario\", \"alimentario\", \"alimentario\", \"alto\", \"alto\", \"alto\", \"alto\", \"alto\", \"alto\", \"ambito\", \"ambito\", \"ambito\", \"ambito\", \"ambito\", \"ambito\", \"amparar\", \"amparar\", \"amparar\", \"amparar\", \"amparar\", \"analisis\", \"analisis\", \"analisis\", \"anexo\", \"anexo\", \"anexo\", \"anexo\", \"anexo\", \"anexo\", \"anexo\", \"anexo\", \"antecedente\", \"antecedente\", \"antemano\", \"antemano\", \"antemano\", \"antemano\", \"antemano\", \"antemano\", \"antemano\", \"antemano\", \"antiguedad\", \"antiguedad\", \"antiguedad\", \"antiguedad\", \"anual\", \"anual\", \"anual\", \"anual\", \"anual\", \"anual\", \"anual\", \"anual\", \"anual\", \"anual\", \"anual\", \"anual\", \"anual\", \"anual\", \"anual\", \"anualmente\", \"anualmente\", \"anualmente\", \"aparecer\", \"aparecer\", \"aparecer\", \"aparecer\", \"apertura\", \"apertura\", \"apertura\", \"apertura\", \"aplicable\", \"aplicable\", \"aplicacion\", \"aplicacion\", \"aplicacion\", \"aplicar\", \"aplicar\", \"aplicar\", \"aplicar\", \"aplicar\", \"aplicar\", \"aplicar\", \"aplicar\", \"aplicar\", \"aplicar\", \"aplicar\", \"aplicar\", \"apoyar\", \"apoyar\", \"apoyar\", \"apoyar\", \"apoyar\", \"apoyar\", \"apoyar\", \"apoyar\", \"apoyar\", \"apoyar\", \"apoyar\", \"apoyar\", \"apoyar\", \"apoyar\", \"apoyar\", \"apoyar\", \"apoyar\", \"apoyar\", \"apoyar\", \"apoyar\", \"apoyo\", \"apoyo\", \"apoyo\", \"apoyo\", \"apoyo\", \"apoyo\", \"apoyo\", \"apoyo\", \"apoyo\", \"apoyo\", \"apoyo\", \"apoyo\", \"apoyo\", \"apoyo\", \"aprobar\", \"aprobar\", \"aprobar\", \"aprobar\", \"aprobar\", \"aprobar\", \"aprobar\", \"aprobar\", \"aprobar\", \"aprobar\", \"aprobar\", \"aprobar\", \"aprobar\", \"aprobar\", \"arrendamiento\", \"arrendamiento\", \"arrendamiento\", \"arrendamiento\", \"arte\", \"arte\", \"arte\", \"arte\", \"articular\", \"articular\", \"articular\", \"articular\", \"articular\", \"articular\", \"articular\", \"articular\", \"articular\", \"articular\", \"articular\", \"articular\", \"articular\", \"articular\", \"articular\", \"articular\", \"articular\", \"articular\", \"articulos\", \"articulos\", \"articulos\", \"articulos\", \"articulos\", \"asesorar\", \"asesorar\", \"asesorar\", \"asesoria\", \"asesoria\", \"asesoria\", \"asesoria\", \"asesoria\", \"asesoria\", \"asesoria\", \"asesoria\", \"asesoria\", \"asignacion\", \"asignacion\", \"asignacion\", \"asignacion\", \"asignacion\", \"asociacion\", \"asociacion\", \"asociacion\", \"asociacion\", \"asociacion\", \"asociacion\", \"asociacion\", \"asociacion\", \"asociacion\", \"asociacion\", \"asociacion\", \"asociacion\", \"asociacion\", \"asociacion\", \"asociacion\", \"asociacion\", \"asociacion\", \"asociacion\", \"asociaci\\u00f3n\", \"asociaci\\u00f3n\", \"asociaci\\u00f3n\", \"asociaci\\u00f3n\", \"asociaci\\u00f3n\", \"asociaci\\u00f3n\", \"asociaci\\u00f3n\", \"asociaci\\u00f3n\", \"asociaci\\u00f3n\", \"asociaci\\u00f3n\", \"asociaci\\u00f3n\", \"asociaci\\u00f3n\", \"asociaci\\u00f3n\", \"asunto\", \"asunto\", \"asunto\", \"atender\", \"atender\", \"atender\", \"atender\", \"atender\", \"atender\", \"atender\", \"atender\", \"atender\", \"atender\", \"atender\", \"atender\", \"atender\", \"autoridad\", \"autoridad\", \"autoridad\", \"autorizacion\", \"autorizacion\", \"autorizacion\", \"autorizacion\", \"avalar\", \"avalar\", \"avalar\", \"avalar\", \"avalar\", \"avalar\", \"avanzar\", \"avanzar\", \"avanzar\", \"avanzar\", \"avanzar\", \"avanzar\", \"ayudar\", \"ayudar\", \"ayudar\", \"ayudar\", \"ayudar\", \"ayudar\", \"ayudar\", \"ayudar\", \"ayudar\", \"bajo\", \"bajo\", \"bajo\", \"bajo\", \"bajo\", \"bajo\", \"bajo\", \"bajo\", \"bajo\", \"bajo\", \"becar\", \"becar\", \"becar\", \"becar\", \"becar\", \"becar\", \"becar\", \"becar\", \"becar\", \"becar\", \"becar\", \"beneficiar\", \"beneficiar\", \"beneficiar\", \"beneficiar\", \"beneficiar\", \"beneficiar\", \"beneficiar\", \"beneficiar\", \"beneficiar\", \"beneficiar\", \"beneficiar\", \"beneficiar\", \"beneficiar\", \"beneficiar\", \"beneficio\", \"beneficio\", \"beneficio\", \"beneficio\", \"beneficio\", \"bien\", \"bien\", \"bien\", \"bien\", \"bien\", \"bien\", \"bien\", \"bruto\", \"bruto\", \"bruto\", \"bruto\", \"bruto\", \"caber\", \"caber\", \"caber\", \"calificacion\", \"calificacion\", \"calificacion\", \"calificacion\", \"calificacion\", \"calificacion\", \"calificacion\", \"calificacion\", \"calificacion\", \"calificacion\", \"calificacion\", \"calificacion\", \"calificacion\", \"calificacion\", \"calificacion\", \"calificacion\", \"calificacion\", \"calificacion\", \"callar\", \"callar\", \"callar\", \"callar\", \"callar\", \"cambiar\", \"cambiar\", \"cambiar\", \"cambiar\", \"campana\", \"campana\", \"campana\", \"campana\", \"campana\", \"campana\", \"campana\", \"campo\", \"campo\", \"candidato\", \"candidato\", \"cantidad\", \"cantidad\", \"cantidad\", \"capitular\", \"capitular\", \"capitular\", \"capitular\", \"capturar\", \"capturar\", \"caracteristicas\", \"caracteristicas\", \"caracteristicas\", \"caracteristicas\", \"cargo\", \"cargo\", \"cargo\", \"cargo\", \"cargo\", \"cargo\", \"cargo\", \"cargo\", \"cargo\", \"carrera\", \"carrera\", \"carrera\", \"carrera\", \"casar\", \"casar\", \"casar\", \"casar\", \"casar\", \"casar\", \"casar\", \"casar\", \"casar\", \"casar\", \"casar\", \"casar\", \"casar\", \"casar\", \"casar\", \"casar\", \"casar\", \"casar\", \"casar\", \"casar\", \"caso\", \"caso\", \"caso\", \"caso\", \"categoria\", \"categoria\", \"categoria\", \"categoria\", \"categoria\", \"categoria\", \"categoria\", \"categorias\", \"categorias\", \"categorias\", \"categorias\", \"categorias\", \"cedula\", \"cedula\", \"cedula\", \"celebrar\", \"celebrar\", \"celebrar\", \"celebrar\", \"celebrar\", \"celebrar\", \"celebrar\", \"celebrar\", \"celebrar\", \"celebrar\", \"celebrar\", \"celular\", \"celular\", \"central\", \"central\", \"central\", \"central\", \"centrar\", \"centrar\", \"centrar\", \"centrar\", \"centrar\", \"centrar\", \"centrar\", \"centrar\", \"centrar\", \"centrar\", \"centrar\", \"centrar\", \"centro\", \"centro\", \"centro\", \"centro\", \"centro\", \"centro\", \"centro\", \"centro\", \"centro\", \"centro\", \"centro\", \"centro\", \"cerrar\", \"cerrar\", \"certificar\", \"certificar\", \"certificar\", \"certificar\", \"chihuahua\", \"chihuahua\", \"chihuahua\", \"chihuahua\", \"cifrar\", \"cifrar\", \"cifrar\", \"cifrar\", \"cifrar\", \"cifrar\", \"cifrar\", \"ciudadano\", \"ciudadano\", \"ciudadano\", \"ciudadano\", \"ciudadano\", \"ciudadano\", \"ciudadano\", \"ciudadano\", \"ciudadano\", \"ciudadano\", \"ciudadano\", \"ciudadano\", \"ciudadano\", \"ciudadano\", \"ciudadano\", \"ciudadano\", \"ciudadano\", \"civil\", \"civil\", \"civil\", \"civil\", \"civil\", \"civil\", \"civil\", \"civil\", \"civil\", \"civil\", \"civil\", \"civil\", \"civil\", \"civil\", \"civil\", \"civil\", \"civil\", \"civil\", \"civil\", \"civil\", \"claramente\", \"claramente\", \"claramente\", \"clasificacion\", \"clasificacion\", \"clasificacion\", \"cluni\", \"cluni\", \"cluni\", \"cluni\", \"cluni\", \"cluni\", \"cluni\", \"cluni\", \"cluni\", \"cluni\", \"cluni\", \"cluni\", \"cluni\", \"cluni\", \"cluni\", \"cluni\", \"cluni\", \"cluni\", \"cohesion\", \"cohesion\", \"cohesion\", \"cohesion\", \"cohesion\", \"cohesion\", \"cohesion\", \"cohesion\", \"cohesion\", \"cohesion\", \"coinversion\", \"coinversion\", \"coinversion\", \"coinversion\", \"coinversion\", \"coinversion\", \"coinversion\", \"coinversion\", \"coinversion\", \"coinversion\", \"coinversion\", \"coinversion\", \"coinversion\", \"coinversion\", \"coinversion\", \"coinversion\", \"coinversion\", \"coinversion\", \"coinversion\", \"coinversion\", \"colaboracion\", \"colaboracion\", \"colaboracion\", \"colaboracion\", \"colaboracion\", \"colaboracion\", \"colaboracion\", \"colaboracion\", \"colimar\", \"colimar\", \"colimar\", \"colimar\", \"colimar\", \"colimar\", \"combatir\", \"combatir\", \"combatir\", \"combatir\", \"combatir\", \"comentar\", \"comisionar\", \"comisionar\", \"comisionar\", \"comisionar\", \"comisionar\", \"compensacion\", \"competencia\", \"competencia\", \"completo\", \"completo\", \"completo\", \"completo\", \"completo\", \"completo\", \"completo\", \"completo\", \"completo\", \"completo\", \"compranet\", \"compranet\", \"comprender\", \"comprender\", \"comprender\", \"comprender\", \"comprender\", \"comprender\", \"comprender\", \"comprender\", \"comprender\", \"comprender\", \"comprobacion\", \"comprobacion\", \"comprobante\", \"comprobante\", \"comprobante\", \"comprobante\", \"comprobante\", \"comprobar\", \"comprobar\", \"comprobar\", \"comprobar\", \"comprobar\", \"comprobar\", \"comprobatorio\", \"comprobatorio\", \"compromiso\", \"compromiso\", \"compromiso\", \"computar\", \"computar\", \"comunicacion\", \"comunicacion\", \"comunicacion\", \"comunicacion\", \"comunicacion\", \"comunicacion\", \"comunicacion\", \"comunicacion\", \"comunidad\", \"comunidad\", \"comunidad\", \"comunidad\", \"comunidad\", \"comunidad\", \"comunidad\", \"comunidad\", \"comunidad\", \"comunidad\", \"comunitario\", \"comunitario\", \"comunitario\", \"comunitario\", \"comunitario\", \"comunitario\", \"comunitario\", \"comunitario\", \"comunitario\", \"comunitario\", \"comunitario\", \"comunitario\", \"comunitario\", \"comunitario\", \"concluir\", \"condicionar\", \"condicionar\", \"condicionar\", \"conformar\", \"conformar\", \"conformar\", \"conformar\", \"conformar\", \"conformar\", \"conformar\", \"conformar\", \"conformar\", \"conformar\", \"conjuntar\", \"conjuntar\", \"conjunto\", \"conjunto\", \"conjunto\", \"conocer\", \"conocer\", \"conocer\", \"consejo\", \"consejo\", \"consejo\", \"consejo\", \"consejo\", \"consejo\", \"consejo\", \"consejo\", \"consejo\", \"consejo\", \"constar\", \"constar\", \"constar\", \"constitucion\", \"constitucion\", \"constitucion\", \"constitucion\", \"constitucion\", \"constitucion\", \"constitucion\", \"constitucion\", \"constitucion\", \"constitucional\", \"constitucional\", \"constitucional\", \"constitucional\", \"constitucional\", \"constitucional\", \"constituir\", \"constituir\", \"constituir\", \"constituir\", \"constituir\", \"constituir\", \"constituir\", \"consultar\", \"consultar\", \"consultar\", \"consultar\", \"consultar\", \"consultar\", \"consultar\", \"consultar\", \"consultar\", \"consultar\", \"consultar\", \"consultor\", \"consultor\", \"consultor\", \"consultor\", \"consultor\", \"consumidor\", \"consumidor\", \"consumidor\", \"consumidor\", \"consumidor\", \"consumidor\", \"consumidor\", \"consumidor\", \"consumidor\", \"consumidor\", \"consumidor\", \"consumir\", \"consumir\", \"consumir\", \"consumir\", \"consumir\", \"contactar\", \"contactar\", \"contactar\", \"contactar\", \"contactar\", \"contactar\", \"contactar\", \"contactar\", \"contar\", \"contar\", \"contar\", \"contar\", \"contar\", \"contar\", \"contar\", \"contar\", \"contar\", \"contar\", \"contar\", \"contar\", \"contar\", \"contar\", \"contar\", \"contar\", \"contar\", \"contemplar\", \"contemplar\", \"contemplar\", \"contemplar\", \"contemplar\", \"contener\", \"contener\", \"contener\", \"contener\", \"contener\", \"contener\", \"contener\", \"contener\", \"contener\", \"contener\", \"contener\", \"contener\", \"contener\", \"contener\", \"contener\", \"contestar\", \"contestar\", \"contestar\", \"contestar\", \"continuacion\", \"continuacion\", \"contratacion\", \"contratacion\", \"contratacion\", \"contratacion\", \"contratacion\", \"contratacion\", \"contratacion\", \"contratacion\", \"contratacion\", \"contratacion\", \"contratacion\", \"contratacion\", \"contratacion\", \"contratacion\", \"control\", \"control\", \"control\", \"control\", \"control\", \"convenio\", \"convenio\", \"convenio\", \"convenio\", \"convenio\", \"convenio\", \"convenio\", \"convenio\", \"convenio\", \"convenio\", \"convenio\", \"convenio\", \"convenio\", \"convenio\", \"convenio\", \"convenio\", \"convenio\", \"convenio\", \"conversion\", \"conversion\", \"conversion\", \"conversion\", \"conversion\", \"conversion\", \"convocatorio\", \"convocatorio\", \"convocatorio\", \"convocatorio\", \"convocatorio\", \"convocatorio\", \"convocatorio\", \"convocatorio\", \"convocatorio\", \"convocatorio\", \"convocatorio\", \"convocatorio\", \"convocatorio\", \"convocatorio\", \"convocatorio\", \"convocatorio\", \"convocatorio\", \"convocatorio\", \"convocatorio\", \"convocatorio\", \"coordinacion\", \"coordinacion\", \"coordinacion\", \"coordinacion\", \"coordinador\", \"coordinador\", \"coordinador\", \"coordinador\", \"coordinador\", \"cordial\", \"cordial\", \"cordial\", \"cordial\", \"cordial\", \"corresponder\", \"corresponder\", \"corresponder\", \"corresponder\", \"corresponder\", \"corresponder\", \"corresponder\", \"corresponder\", \"correspondiente\", \"correspondiente\", \"correspondiente\", \"correspondiente\", \"correspondiente\", \"correspondiente\", \"correspondiente\", \"correspondiente\", \"correspondiente\", \"correspondiente\", \"correspondiente\", \"correspondiente\", \"correspondiente\", \"correspondiente\", \"correspondiente\", \"correspondiente\", \"correspondiente\", \"correspondiente\", \"corriente\", \"corriente\", \"costo\", \"costo\", \"costo\", \"costo\", \"costo\", \"costo\", \"costo\", \"costo\", \"costo\", \"costo\", \"costo\", \"creacion\", \"creacion\", \"creacion\", \"creacion\", \"creacion\", \"creacion\", \"creacion\", \"creacion\", \"creacion\", \"creacion\", \"creacion\", \"creacion\", \"crear\", \"crear\", \"crear\", \"crear\", \"crear\", \"crear\", \"credito\", \"credito\", \"credito\", \"credito\", \"credito\", \"cruzar\", \"cruzar\", \"cruzar\", \"cruzar\", \"cruzar\", \"cruzar\", \"cruzar\", \"cruzar\", \"cruzar\", \"cruzar\", \"cualquiera\", \"cualquiera\", \"cualquiera\", \"cuantificacion\", \"cuantificacion\", \"cuantificacion\", \"cuantificacion\", \"cuestionario\", \"cuestionario\", \"cuestionario\", \"cuestionario\", \"cuestionario\", \"cultura\", \"cultura\", \"cultura\", \"cultura\", \"cultura\", \"cumplir\", \"cumplir\", \"cumplir\", \"cumplir\", \"cumplir\", \"cursar\", \"cursar\", \"cursar\", \"curso\", \"curso\", \"curso\", \"curso\", \"curso\", \"cuyo\", \"cuyo\", \"cuyo\", \"cuyo\", \"cuyo\", \"cuyo\", \"cuyo\", \"cuyo\", \"cuyo\", \"cuyo\", \"debatir\", \"debatir\", \"debatir\", \"debatir\", \"decir\", \"decir\", \"decir\", \"decir\", \"decir\", \"decir\", \"decir\", \"decir\", \"decir\", \"decir\", \"decir\", \"decir\", \"decir\", \"decir\", \"decir\", \"decretar\", \"decretar\", \"deducci\\u00f3n\", \"definir\", \"dejar\", \"dejar\", \"dejar\", \"dejar\", \"delegacion\", \"delegacion\", \"delegacion\", \"delegacion\", \"delegacion\", \"delegacion\", \"delegacion\", \"delegacion\", \"delegacion\", \"delegacion\", \"delegacion\", \"delegacion\", \"delegacion\", \"delito\", \"delito\", \"delito\", \"delito\", \"delito\", \"delito\", \"demas\", \"demas\", \"demas\", \"demas\", \"denominacion\", \"denominacion\", \"denominacion\", \"departamento\", \"departamento\", \"departamento\", \"depender\", \"depender\", \"derivar\", \"derivar\", \"derivar\", \"derivar\", \"derivar\", \"derivar\", \"derivar\", \"derivar\", \"derivar\", \"desagregar\", \"desagregar\", \"desagregar\", \"desagregar\", \"desagregar\", \"desagregar\", \"desagregar\", \"desarrollar\", \"desarrollar\", \"desarrollar\", \"desarrollar\", \"desarrollar\", \"desarrollar\", \"desarrollar\", \"desarrollar\", \"desarrollar\", \"desarrollar\", \"desarrollar\", \"desarrollar\", \"desarrollar\", \"desarrollar\", \"desarrollar\", \"desarrollar\", \"desarrollar\", \"desarrollar\", \"desarrollar\", \"desarrollar\", \"describir\", \"describir\", \"describir\", \"describir\", \"describir\", \"describir\", \"desempena\", \"desempena\", \"desempena\", \"desglosar\", \"desglosar\", \"desglosar\", \"desglosar\", \"desglosar\", \"desglosar\", \"desglosar\", \"desglosar\", \"desglosar\", \"desglosar\", \"desglosar\", \"desglosar\", \"desglosar\", \"desglosar\", \"desglosar\", \"desglosar\", \"desglosar\", \"desglosar\", \"desglosar\", \"desglosar\", \"designar\", \"designar\", \"designar\", \"designar\", \"despachar\", \"despachar\", \"despachar\", \"destinar\", \"destinar\", \"destinar\", \"destinar\", \"destinar\", \"destinar\", \"destinar\", \"destinar\", \"destinar\", \"destinar\", \"destinar\", \"destinar\", \"destinar\", \"destinar\", \"destinar\", \"destinar\", \"destinar\", \"destinar\", \"destinar\", \"determinar\", \"determinar\", \"determinar\", \"diagnosticar\", \"diagnosticar\", \"diagnosticar\", \"diagnosticar\", \"diario\", \"diario\", \"diario\", \"diario\", \"diario\", \"diario\", \"diario\", \"dicha\", \"dicha\", \"dicha\", \"dicha\", \"dicha\", \"dictaminacion\", \"dictaminacion\", \"dictaminacion\", \"dictaminacion\", \"dictaminacion\", \"dictaminacion\", \"dictaminacion\", \"dictaminacion\", \"dictaminacion\", \"dictaminacion\", \"dictaminacion\", \"dictaminacion\", \"dictaminacion\", \"dictaminacion\", \"dictaminacion\", \"dictaminacion\", \"dictaminacion\", \"dictaminacion\", \"dictaminacion\", \"dictaminacion\", \"dictaminador\", \"dictaminador\", \"dictaminador\", \"dictaminador\", \"dictaminador\", \"diez\", \"diez\", \"diferimientos\", \"diferimientos\", \"difusion\", \"difusion\", \"difusion\", \"difusion\", \"difusion\", \"difusion\", \"difusion\", \"difusion\", \"digital\", \"digital\", \"digital\", \"digital\", \"digital\", \"direccion\", \"direccion\", \"direccion\", \"direccion\", \"direccion\", \"direccion\", \"direccion\", \"direccion\", \"direccion\", \"direccion\", \"direccion\", \"direccion\", \"direccion\", \"direccion\", \"direccionar\", \"direccionar\", \"direccionar\", \"direccionar\", \"directamente\", \"directamente\", \"director\", \"director\", \"director\", \"director\", \"director\", \"director\", \"director\", \"director\", \"director\", \"director\", \"director\", \"director\", \"directorio\", \"directorio\", \"directorio\", \"directorio\", \"directorio\", \"directorio\", \"dirigir\", \"dirigir\", \"dirigir\", \"dirigir\", \"dirigir\", \"dirigir\", \"discapacidad\", \"discapacidad\", \"discapacidad\", \"discapacidad\", \"discapacidad\", \"discapacidad\", \"disponible\", \"disponible\", \"disponible\", \"disponible\", \"disponible\", \"disposicion\", \"distribuir\", \"distribuir\", \"distribuir\", \"distrito\", \"distrito\", \"distrito\", \"distrito\", \"distrito\", \"distrito\", \"distrito\", \"distrito\", \"distrito\", \"distrito\", \"distrito\", \"distrito\", \"distrito\", \"distrito\", \"distrito\", \"distrito\", \"distrito\", \"diverso\", \"diverso\", \"diverso\", \"diverso\", \"diverso\", \"diverso\", \"documentar\", \"documentar\", \"documentar\", \"documentar\", \"documentar\", \"documentar\", \"documentar\", \"documentar\", \"documentar\", \"documentar\", \"documentar\", \"documentar\", \"documentar\", \"documentar\", \"documentar\", \"documentar\", \"documentar\", \"documentar\", \"documentar\", \"documentar\", \"domiciliar\", \"domiciliar\", \"domiciliar\", \"domiciliar\", \"domiciliar\", \"domiciliar\", \"domiciliar\", \"domiciliar\", \"domiciliar\", \"domiciliar\", \"domiciliar\", \"donativo\", \"donativo\", \"donativo\", \"donativo\", \"donativo\", \"donativo\", \"donativo\", \"donativo\", \"donativo\", \"donativo\", \"donativo\", \"economica\", \"economica\", \"economica\", \"economicas\", \"economicas\", \"economicas\", \"economicas\", \"economicos\", \"economicos\", \"economicos\", \"economicos\", \"economicos\", \"economicos\", \"economicos\", \"economicos\", \"economicos\", \"economicos\", \"economicos\", \"economicos\", \"educacion\", \"educacion\", \"educacion\", \"educacion\", \"educacion\", \"educacion\", \"educacion\", \"educacion\", \"educacion\", \"educacion\", \"educacion\", \"educacion\", \"educacion\", \"educacion\", \"educacion\", \"educacion\", \"educacion\", \"educativo\", \"educativo\", \"educativo\", \"educativo\", \"egreso\", \"egreso\", \"egreso\", \"egreso\", \"egreso\", \"egreso\", \"ejecucion\", \"ejecucion\", \"ejecucion\", \"ejecucion\", \"ejecutor\", \"ejercer\", \"ejercer\", \"ejercer\", \"ejercer\", \"ejercer\", \"ejercer\", \"ejercer\", \"ejercicio\", \"ejercicio\", \"ejercicio\", \"ejercicio\", \"ejercicio\", \"ejercicio\", \"ejercicio\", \"ejercicio\", \"electronico\", \"electronico\", \"electronico\", \"electronico\", \"electronico\", \"electronicos\", \"electronicos\", \"electronicos\", \"electronicos\", \"electronicos\", \"elegible\", \"elegible\", \"elegible\", \"elegible\", \"elegible\", \"elegible\", \"elegible\", \"elegible\", \"elegible\", \"elegible\", \"elegir\", \"elegir\", \"elemento\", \"elemento\", \"embarazar\", \"embarazar\", \"embarazar\", \"embarazo\", \"embarazo\", \"embarazo\", \"emitir\", \"emitir\", \"emitir\", \"emitir\", \"emitir\", \"emitir\", \"emitir\", \"emitir\", \"emitir\", \"emitir\", \"emprendedor\", \"emprendedor\", \"emprendedor\", \"emprendedor\", \"emprendedor\", \"emprendedor\", \"emprendedor\", \"emprendedor\", \"encaminar\", \"encaminar\", \"encaminar\", \"encaminar\", \"encaminar\", \"encuestar\", \"encuestar\", \"encuestar\", \"encuestar\", \"encuestar\", \"encuestar\", \"encuestar\", \"encuestar\", \"encuestar\", \"enfocar\", \"enfocar\", \"enfocar\", \"enfocar\", \"enlazar\", \"enlazar\", \"enlazar\", \"enlazar\", \"enlazar\", \"enlazar\", \"entender\", \"entender\", \"entregar\", \"entregar\", \"entregar\", \"entregar\", \"entregar\", \"entregar\", \"entregar\", \"entregar\", \"entregar\", \"entregar\", \"entregar\", \"entregar\", \"entregar\", \"entregar\", \"entregar\", \"entregar\", \"enviar\", \"enviar\", \"enviar\", \"enviar\", \"enviar\", \"equidad\", \"equidad\", \"equidad\", \"equidad\", \"equidad\", \"equipar\", \"equipar\", \"equipar\", \"equipar\", \"escolaridad\", \"escolaridad\", \"espacio\", \"espacio\", \"espacio\", \"espacio\", \"especial\", \"especial\", \"especializar\", \"especializar\", \"especificamente\", \"especificamente\", \"especificamente\", \"especificamente\", \"especificar\", \"especificar\", \"especificar\", \"especificar\", \"especificar\", \"especificar\", \"especificar\", \"especificar\", \"especificar\", \"especificar\", \"especificar\", \"especificar\", \"especificar\", \"especificar\", \"especificar\", \"especificar\", \"especificar\", \"especificar\", \"especificar\", \"especificar\", \"especificos\", \"especificos\", \"especificos\", \"estadisticas\", \"estadisticas\", \"estadisticas\", \"estadisticas\", \"estadisticas\", \"estadisticas\", \"estadisticas\", \"estadisticas\", \"estatal\", \"estatal\", \"estatal\", \"estatal\", \"estatal\", \"estatal\", \"estatal\", \"estatal\", \"estatal\", \"estatal\", \"estatal\", \"estatal\", \"estatal\", \"estatal\", \"estatal\", \"estatus\", \"estatus\", \"estatus\", \"esten\", \"esten\", \"esten\", \"esten\", \"estimar\", \"estimar\", \"estimar\", \"estimar\", \"estimulos\", \"estimulos\", \"estimulos\", \"estrategia\", \"estrategia\", \"estrategia\", \"estrategia\", \"estrategia\", \"estrategia\", \"estrategia\", \"estrategia\", \"estructurar\", \"estructurar\", \"estructurar\", \"estructurar\", \"estructurar\", \"estructurar\", \"estructurar\", \"estructurar\", \"estudiante\", \"estudiante\", \"estudiante\", \"estudiante\", \"estudiante\", \"estudiar\", \"estudiar\", \"estudiar\", \"estudiar\", \"estudiar\", \"estudiar\", \"estudio\", \"estudio\", \"estudio\", \"estudio\", \"estudio\", \"estudio\", \"estudio\", \"estudio\", \"estudio\", \"evaluacion\", \"evaluacion\", \"evaluacion\", \"evaluacion\", \"evaluacion\", \"evaluacion\", \"evaluacion\", \"evaluacion\", \"evaluacion\", \"evaluacion\", \"evaluacion\", \"evaluacion\", \"evaluacion\", \"evaluacion\", \"evaluaci\\u00f3n\", \"evaluaci\\u00f3n\", \"evaluaci\\u00f3n\", \"evaluaci\\u00f3n\", \"evaluar\", \"evaluar\", \"evaluar\", \"evaluar\", \"evento\", \"evento\", \"evento\", \"evento\", \"evento\", \"evento\", \"excel\", \"excel\", \"excel\", \"existente\", \"existente\", \"expedir\", \"expedir\", \"expedir\", \"expedir\", \"experiencia\", \"experiencia\", \"explicar\", \"extranjero\", \"extranjero\", \"extranjero\", \"extranjero\", \"extranjero\", \"facturar\", \"facturar\", \"facturar\", \"facturar\", \"facturar\", \"facturar\", \"facturar\", \"facturar\", \"facturar\", \"fallir\", \"fallir\", \"fallir\", \"fallir\", \"familia\", \"familia\", \"familia\", \"familia\", \"familia\", \"familiar\", \"familiar\", \"familiar\", \"familiar\", \"familiar\", \"familiar\", \"familiar\", \"familiar\", \"familiar\", \"familiar\", \"febrero\", \"febrero\", \"febrero\", \"febrero\", \"febrero\", \"federacion\", \"federacion\", \"federacion\", \"federacion\", \"federacion\", \"federacion\", \"federacion\", \"federacion\", \"federacion\", \"federacion\", \"federacion\", \"federacion\", \"federacion\", \"federacion\", \"federal\", \"federal\", \"federal\", \"federal\", \"federal\", \"federal\", \"federal\", \"federal\", \"federal\", \"federal\", \"federal\", \"federal\", \"federal\", \"federal\", \"federal\", \"federal\", \"federal\", \"federal\", \"federal\", \"federal\", \"figurar\", \"figurar\", \"figurar\", \"figurar\", \"finalidad\", \"finalidad\", \"finalidad\", \"finalidad\", \"financiamiento\", \"financiamiento\", \"financiamiento\", \"financiamiento\", \"financiamiento\", \"financiamiento\", \"financiero\", \"financiero\", \"financiero\", \"financiero\", \"financiero\", \"financiero\", \"financiero\", \"financiero\", \"financiero\", \"fiscal\", \"fiscal\", \"fiscal\", \"fiscal\", \"fiscal\", \"fiscal\", \"fiscal\", \"fiscal\", \"fiscal\", \"fiscal\", \"fiscal\", \"fiscal\", \"fiscal\", \"fiscal\", \"fiscal\", \"fiscal\", \"fiscal\", \"fiscal\", \"foliar\", \"foliar\", \"foliar\", \"foliar\", \"foliar\", \"foliar\", \"foliar\", \"foliar\", \"foliar\", \"foliar\", \"folio\", \"folio\", \"folio\", \"folio\", \"fomentar\", \"fomentar\", \"fomentar\", \"fomentar\", \"fomentar\", \"fomentar\", \"fomentar\", \"fomentar\", \"fomentar\", \"fomentar\", \"fomentar\", \"fomentar\", \"fomentar\", \"fomentar\", \"fomentar\", \"fomentar\", \"fomentar\", \"fondo\", \"fondo\", \"fondo\", \"fondo\", \"fondo\", \"fondo\", \"fondo\", \"fondo\", \"fondo\", \"fondo\", \"fondo\", \"fondo\", \"formar\", \"formar\", \"formar\", \"formar\", \"formar\", \"formar\", \"formar\", \"formar\", \"formar\", \"formar\", \"formar\", \"formar\", \"formar\", \"formar\", \"formar\", \"formato\", \"formato\", \"formato\", \"formato\", \"formato\", \"formato\", \"formato\", \"formato\", \"formato\", \"formato\", \"formato\", \"formato\", \"formato\", \"formato\", \"formato\", \"formato\", \"formato\", \"formato\", \"formato\", \"formato\", \"fortalecimiento\", \"fortalecimiento\", \"fortalecimiento\", \"fortalecimiento\", \"fortalecimiento\", \"fortalecimiento\", \"fortalecimiento\", \"fortalecimiento\", \"fortalecimiento\", \"fortalecimiento\", \"fortalecimiento\", \"fortalecimiento\", \"fortalecimiento\", \"fortalecimiento\", \"fortalecimiento\", \"fortalecimiento\", \"fraccion\", \"fraccion\", \"fraccion\", \"fraccion\", \"fraccion\", \"fraccion\", \"fraccion\", \"fraccion\", \"fuente\", \"fuente\", \"fuente\", \"fuerte\", \"fuerte\", \"fuerte\", \"fuerte\", \"funcion\", \"funcion\", \"funcion\", \"funcion\", \"funcionar\", \"funcionar\", \"funcionar\", \"funcionar\", \"funcionar\", \"funcionar\", \"funcionar\", \"funcionar\", \"funcionar\", \"funcionar\", \"funcionar\", \"funcionar\", \"funcionar\", \"funcionar\", \"funcionar\", \"funcionar\", \"fundacion\", \"fundacion\", \"fundacion\", \"fundacion\", \"fundacion\", \"fundacion\", \"fundacion\", \"fundacion\", \"fundacion\", \"fundacion\", \"fundacion\", \"fundacion\", \"fundacion\", \"fundamentar\", \"fundamentar\", \"fundamentar\", \"fundamentar\", \"fundamentar\", \"fundamentar\", \"fundamentar\", \"fundamentar\", \"fundamentar\", \"fundamentar\", \"fundamentar\", \"fundamentar\", \"fundamentar\", \"fundamentar\", \"fundamentar\", \"ganador\", \"ganador\", \"ganador\", \"ganador\", \"ganador\", \"ganador\", \"ganador\", \"ganador\", \"garantizar\", \"gastar\", \"gastar\", \"gastar\", \"gastar\", \"gastar\", \"gastar\", \"gastar\", \"gastar\", \"gastar\", \"gastar\", \"gastar\", \"gastar\", \"gastar\", \"gastar\", \"general\", \"general\", \"general\", \"general\", \"general\", \"general\", \"general\", \"general\", \"generar\", \"generar\", \"generar\", \"generar\", \"generar\", \"generar\", \"generar\", \"generar\", \"generar\", \"generar\", \"generar\", \"generar\", \"generar\", \"gobernar\", \"gobernar\", \"gobernar\", \"gobernar\", \"gobernar\", \"gobernar\", \"gobernar\", \"gobernar\", \"gobernar\", \"gobernar\", \"gobernar\", \"gobernar\", \"gobernar\", \"gobernar\", \"gobernar\", \"gobernar\", \"gobernar\", \"gobernar\", \"gobernar\", \"gobernar\", \"grupo\", \"grupo\", \"grupo\", \"grupo\", \"grupo\", \"grupo\", \"grupo\", \"grupo\", \"grupo\", \"grupo\", \"grupo\", \"grupo\", \"grupo\", \"grupo\", \"grupo\", \"grupo\", \"gubernamental\", \"gubernamental\", \"gubernamental\", \"gubernamental\", \"gubernamental\", \"gubernamental\", \"gubernamental\", \"gubernamental\", \"gubernamental\", \"gubernamental\", \"guerrero\", \"guerrero\", \"guerrero\", \"guerrero\", \"guerrero\", \"guia\", \"hacendario\", \"hacendario\", \"hambre\", \"hambre\", \"hambre\", \"hambre\", \"hambre\", \"hambre\", \"hambre\", \"hambre\", \"hambre\", \"hara\", \"hara\", \"hara\", \"hara\", \"hidalgo\", \"hidalgo\", \"hidalgo\", \"hidalgo\", \"hidalgo\", \"hidalgo\", \"hidalgo\", \"hidalgo\", \"hogar\", \"hogar\", \"hogar\", \"hogar\", \"hoja\", \"hoja\", \"hoja\", \"hoja\", \"hombre\", \"hombre\", \"hombre\", \"hombre\", \"hombre\", \"hombre\", \"honorario\", \"honorario\", \"honorario\", \"honorario\", \"honorario\", \"honorario\", \"honorario\", \"honorario\", \"honorario\", \"honorario\", \"honorario\", \"horario\", \"horario\", \"horario\", \"hospedaje\", \"hospedaje\", \"humanar\", \"humanar\", \"humano\", \"humano\", \"humano\", \"humano\", \"humano\", \"humano\", \"humano\", \"humano\", \"humano\", \"humano\", \"humano\", \"humano\", \"humano\", \"humano\", \"humano\", \"humano\", \"humano\", \"identificar\", \"identificar\", \"identificar\", \"identificar\", \"identificar\", \"igualdad\", \"igualdad\", \"igualdad\", \"igualdad\", \"igualdad\", \"imef\", \"imef\", \"imef\", \"imef\", \"imef\", \"imef\", \"imef\", \"imjuve\", \"imjuve\", \"imjuve\", \"imjuve\", \"imjuve\", \"imjuve\", \"imjuve\", \"imjuve\", \"imjuve\", \"imjuve\", \"imjuve\", \"imjuve\", \"imjuve\", \"imjuve\", \"imjuve\", \"imjuve\", \"imjuve\", \"impactar\", \"impactar\", \"impactar\", \"impactar\", \"implementacion\", \"implementacion\", \"implementacion\", \"implementacion\", \"implementacion\", \"implementacion\", \"implementar\", \"implementar\", \"implementar\", \"implementar\", \"implementar\", \"implementar\", \"implementar\", \"implementar\", \"importante\", \"importante\", \"importante\", \"importar\", \"importar\", \"importar\", \"importar\", \"importar\", \"imprimir\", \"imprimir\", \"imprimir\", \"impulsar\", \"impulsar\", \"impulsar\", \"impulsar\", \"impulsar\", \"impulsar\", \"impulsar\", \"impulsar\", \"incidencia\", \"incidencia\", \"incidencia\", \"incidencia\", \"incluir\", \"incluir\", \"incluir\", \"incluir\", \"incluir\", \"incluir\", \"incluir\", \"incluir\", \"incluir\", \"incluir\", \"incluir\", \"incluir\", \"incluir\", \"incluir\", \"incluir\", \"incluir\", \"incluir\", \"incluir\", \"indesol\", \"indesol\", \"indesol\", \"indesol\", \"indesol\", \"indesol\", \"indesol\", \"indesol\", \"indesol\", \"indesol\", \"indesol\", \"indesol\", \"indesol\", \"indesol\", \"indesol\", \"indesol\", \"indesol\", \"indesol\", \"indesol\", \"indesol\", \"indicador\", \"indicador\", \"indicador\", \"indicador\", \"indicador\", \"indicador\", \"indicador\", \"indicar\", \"indicar\", \"indicar\", \"indicar\", \"indicar\", \"indicar\", \"indicar\", \"indicar\", \"indicar\", \"indicar\", \"indicar\", \"indicar\", \"indicar\", \"indice\", \"indice\", \"indice\", \"indice\", \"indice\", \"indice\", \"indigena\", \"indigena\", \"indigena\", \"indigena\", \"infantil\", \"infantil\", \"infantil\", \"infantil\", \"infantil\", \"infantil\", \"infantil\", \"informar\", \"informar\", \"informar\", \"informar\", \"informar\", \"informar\", \"informar\", \"informar\", \"informar\", \"informar\", \"informar\", \"informar\", \"informar\", \"informar\", \"informar\", \"informar\", \"informar\", \"informar\", \"informar\", \"informar\", \"informe\", \"informe\", \"informe\", \"informe\", \"informe\", \"informe\", \"informe\", \"informe\", \"informe\", \"informe\", \"informe\", \"informe\", \"informe\", \"informe\", \"informe\", \"informe\", \"informe\", \"informe\", \"informe\", \"infraestructura\", \"infraestructura\", \"infraestructura\", \"infraestructura\", \"ingresar\", \"ingresar\", \"ingresar\", \"ingresar\", \"ingresar\", \"ingresar\", \"ingresar\", \"ingresar\", \"ingresar\", \"ingresar\", \"ingresar\", \"ingresar\", \"ingresar\", \"iniciativo\", \"iniciativo\", \"iniciativo\", \"iniciativo\", \"iniciativo\", \"iniciativo\", \"iniciativo\", \"iniciativo\", \"iniciativo\", \"iniciativo\", \"iniciativo\", \"iniciativo\", \"iniciativo\", \"injuve\", \"injuve\", \"injuve\", \"injuve\", \"injuve\", \"injuve\", \"injuve\", \"inmueble\", \"inmueble\", \"inmueble\", \"inmueble\", \"inscribir\", \"inscribir\", \"inscribir\", \"inscribir\", \"inscribir\", \"inscribir\", \"inscribir\", \"inscribir\", \"inscribir\", \"inscribir\", \"inscribir\", \"inscribir\", \"inscribir\", \"inscribir\", \"inscribir\", \"inscribir\", \"inscribir\", \"inscribir\", \"inscripcion\", \"inscripcion\", \"inscripcion\", \"inscripcion\", \"inscripcion\", \"inscripcion\", \"inscripcion\", \"inscripcion\", \"inscripcion\", \"inscripcion\", \"instalacion\", \"instalacion\", \"instalacion\", \"instalacion\", \"instancia\", \"instancia\", \"instancia\", \"instancia\", \"instancia\", \"instancia\", \"instancia\", \"instancia\", \"instancia\", \"instancia\", \"instancia\", \"instancia\", \"instancia\", \"instancia\", \"institucion\", \"institucion\", \"institucion\", \"institucion\", \"institucion\", \"institucion\", \"institucion\", \"institucion\", \"institucion\", \"institucion\", \"institucion\", \"institucion\", \"institucion\", \"institucion\", \"institucion\", \"institucion\", \"institucion\", \"institucion\", \"institucion\", \"institucional\", \"institucional\", \"institucional\", \"institucional\", \"institucional\", \"institucional\", \"institucional\", \"institucional\", \"institucional\", \"instituto\", \"instituto\", \"instituto\", \"instituto\", \"instituto\", \"instituto\", \"instituto\", \"instituto\", \"instituto\", \"instituto\", \"instituto\", \"instituto\", \"instituto\", \"instituto\", \"instituto\", \"instituto\", \"instituto\", \"instituto\", \"instituto\", \"instituto\", \"integracion\", \"integracion\", \"integracion\", \"internacional\", \"internacional\", \"internacional\", \"internacional\", \"internacional\", \"internet\", \"internet\", \"internet\", \"internet\", \"interno\", \"interno\", \"interno\", \"inventario\", \"inventario\", \"inventario\", \"invertir\", \"invertir\", \"invertir\", \"invertir\", \"invertir\", \"invertir\", \"invitacion\", \"invitacion\", \"invitacion\", \"invitacion\", \"jalisco\", \"jalisco\", \"jalisco\", \"jalisco\", \"jalisco\", \"jovenes\", \"jovenes\", \"jovenes\", \"jovenes\", \"jovenes\", \"jovenes\", \"jovenes\", \"jovenes\", \"jovenes\", \"jovenes\", \"jovenes\", \"juarez\", \"juarez\", \"juarez\", \"juarez\", \"juarez\", \"junto\", \"junto\", \"junto\", \"junto\", \"junto\", \"junto\", \"jurar\", \"jurar\", \"jurar\", \"jurar\", \"juridica\", \"juridico\", \"juridico\", \"juridico\", \"justificacion\", \"justificacion\", \"juvenil\", \"juvenil\", \"juvenil\", \"juvenil\", \"juvenil\", \"juvenil\", \"juvenil\", \"juvenil\", \"juvenil\", \"juvenil\", \"juvenil\", \"juvenil\", \"juventud\", \"juventud\", \"juventud\", \"juventud\", \"juventud\", \"juventud\", \"juventud\", \"juventud\", \"juventud\", \"juventud\", \"juventud\", \"juventud\", \"juventud\", \"juventud\", \"juventud\", \"juventud\", \"juventud\", \"juventud\", \"juventud\", \"juventud\", \"laborar\", \"laborar\", \"laborar\", \"laborar\", \"laborar\", \"laborar\", \"laborar\", \"laborar\", \"laborar\", \"laborar\", \"laborar\", \"laborar\", \"laborar\", \"legal\", \"legal\", \"legal\", \"legal\", \"legal\", \"legal\", \"legal\", \"legal\", \"legal\", \"legal\", \"legal\", \"legal\", \"legal\", \"legal\", \"legal\", \"leon\", \"leon\", \"leon\", \"leon\", \"leon\", \"leon\", \"lfprh\", \"lfprh\", \"libro\", \"libro\", \"licenciar\", \"licenciar\", \"licenciar\", \"licenciar\", \"licenciar\", \"licitacion\", \"licitacion\", \"licitacion\", \"licitacion\", \"licitacion\", \"licitacion\", \"licitacion\", \"licitacion\", \"licitacion\", \"licitaci\\u00f3n\", \"licitaci\\u00f3n\", \"licitaci\\u00f3n\", \"licitaci\\u00f3n\", \"licitante\", \"licitante\", \"ligar\", \"ligar\", \"ligar\", \"linear\", \"linear\", \"linear\", \"listar\", \"listar\", \"listar\", \"listar\", \"listar\", \"listar\", \"listar\", \"listar\", \"listar\", \"listar\", \"listar\", \"listar\", \"listar\", \"listar\", \"listar\", \"llamar\", \"llamar\", \"llamar\", \"llamar\", \"llamar\", \"llamar\", \"llamar\", \"llegar\", \"llegar\", \"llegar\", \"llevar\", \"llevar\", \"llevar\", \"llevar\", \"llevar\", \"llevar\", \"llevar\", \"llevar\", \"llevar\", \"llevar\", \"llevar\", \"llevar\", \"llevar\", \"llevar\", \"llevar\", \"llevar\", \"llevar\", \"llevar\", \"localidad\", \"localidad\", \"localidad\", \"localidad\", \"localidad\", \"madre\", \"madre\", \"madre\", \"madre\", \"madre\", \"madre\", \"madre\", \"manejar\", \"manejar\", \"manejar\", \"manejar\", \"mantenimiento\", \"mantenimiento\", \"mantenimiento\", \"mantenimiento\", \"mantenimiento\", \"manual\", \"manual\", \"manual\", \"manual\", \"manual\", \"manual\", \"manual\", \"manual\", \"manual\", \"manual\", \"martinez\", \"martinez\", \"martinez\", \"martinez\", \"marzo\", \"marzo\", \"marzo\", \"marzo\", \"mayar\", \"mayar\", \"mayar\", \"mayar\", \"mayar\", \"mayar\", \"mayar\", \"mayor\", \"mayor\", \"mayor\", \"mayor\", \"mayor\", \"mecanismo\", \"mecanismo\", \"mecanismo\", \"mecanismo\", \"mecanismo\", \"mecanismo\", \"mecanismo\", \"mecanismo\", \"mecanismo\", \"medir\", \"medir\", \"medir\", \"medir\", \"medir\", \"medir\", \"mencion\", \"mencion\", \"mencion\", \"mencionar\", \"mencionar\", \"mencionar\", \"mencionar\", \"mencionar\", \"mencionar\", \"mencionar\", \"mencionar\", \"mencionar\", \"mencionar\", \"mencionar\", \"mencionar\", \"mencionar\", \"mencionar\", \"menor\", \"menor\", \"menor\", \"menor\", \"menor\", \"menor\", \"menor\", \"menor\", \"menor\", \"menor\", \"mensual\", \"mensual\", \"mensual\", \"mensual\", \"mensual\", \"mensual\", \"mensual\", \"mensual\", \"mensual\", \"mensual\", \"mensual\", \"mensual\", \"mensual\", \"mercar\", \"mercar\", \"mercar\", \"mercar\", \"mercar\", \"mesar\", \"mesar\", \"mesar\", \"mesar\", \"mesar\", \"mesar\", \"mesar\", \"mesar\", \"mesar\", \"mesar\", \"mesar\", \"mexicano\", \"mexicano\", \"mexicano\", \"mexicano\", \"mexicano\", \"mexicano\", \"mexicano\", \"mexicano\", \"mexicano\", \"mexicano\", \"mexicano\", \"mexicano\", \"mexicano\", \"mexicano\", \"mexicano\", \"mexicano\", \"mexicano\", \"mexicano\", \"mexicano\", \"mexicano\", \"michoacan\", \"michoacan\", \"michoacan\", \"michoacan\", \"michoacan\", \"michoacan\", \"miembro\", \"miembro\", \"miembro\", \"miembro\", \"migrante\", \"migrante\", \"migrante\", \"migrante\", \"modalidad\", \"modalidad\", \"modalidad\", \"modalidad\", \"modalidad\", \"modalidad\", \"modelar\", \"modelar\", \"modificar\", \"modificar\", \"modificar\", \"modificatorio\", \"modificatorio\", \"modificatorio\", \"montar\", \"montar\", \"montar\", \"montar\", \"montar\", \"montar\", \"montar\", \"montar\", \"montar\", \"montar\", \"montar\", \"montar\", \"montar\", \"montar\", \"montar\", \"montar\", \"montar\", \"montar\", \"montar\", \"montar\", \"monto\", \"monto\", \"monto\", \"monto\", \"monto\", \"monto\", \"monto\", \"monto\", \"monto\", \"monto\", \"monto\", \"monto\", \"mostrar\", \"mostrar\", \"mostrar\", \"motivo\", \"motivo\", \"motivo\", \"mujer\", \"mujer\", \"mujer\", \"mujer\", \"mujer\", \"mujer\", \"mujer\", \"mujer\", \"mujer\", \"mujer\", \"mujer\", \"mujer\", \"mujer\", \"mujer\", \"mujer\", \"mujer\", \"mujer\", \"mujer\", \"mujer\", \"mujer\", \"municipal\", \"municipal\", \"municipal\", \"municipal\", \"municipal\", \"municipal\", \"municipal\", \"municipal\", \"municipio\", \"municipio\", \"municipio\", \"municipio\", \"municipio\", \"municipio\", \"municipio\", \"municipio\", \"municipio\", \"municipio\", \"municipio\", \"municipio\", \"municipio\", \"municipio\", \"municipio\", \"municipio\", \"municipio\", \"municipio\", \"municipio\", \"natural\", \"natural\", \"natural\", \"nava\", \"nava\", \"nava\", \"nava\", \"nava\", \"nava\", \"necesidad\", \"necesidad\", \"necesitar\", \"necesitar\", \"necesitar\", \"necesitar\", \"neto\", \"neto\", \"neto\", \"neto\", \"neto\", \"neto\", \"neto\", \"neto\", \"neto\", \"ninas\", \"ninas\", \"ninas\", \"ninas\", \"ninas\", \"nivel\", \"nivel\", \"nivel\", \"nivel\", \"nivel\", \"nivel\", \"nivel\", \"nivel\", \"nivel\", \"nivel\", \"nivel\", \"nivel\", \"nivel\", \"nivel\", \"nivel\", \"nivel\", \"nivel\", \"nivel\", \"nivel\", \"nombramiento\", \"nombramiento\", \"nombramiento\", \"nombramiento\", \"nombramiento\", \"nombramiento\", \"nombramiento\", \"nombrar\", \"nombrar\", \"nombrar\", \"nominar\", \"nominar\", \"nominar\", \"nominar\", \"nominar\", \"nominar\", \"nominar\", \"nominar\", \"norma\", \"norma\", \"normatividad\", \"normatividad\", \"normatividad\", \"normatividad\", \"noviembre\", \"noviembre\", \"noviembre\", \"noviembre\", \"noviembre\", \"noviembre\", \"numeral\", \"numeral\", \"nutricion\", \"nutricion\", \"nutricion\", \"nutricion\", \"nutricion\", \"nutricion\", \"nutricion\", \"nutricion\", \"oaxaca\", \"oaxaca\", \"oaxaca\", \"oaxaca\", \"oaxaca\", \"oaxaca\", \"oaxaca\", \"objetivar\", \"objetivar\", \"objetivar\", \"objetivar\", \"objetivar\", \"objetivar\", \"objetivar\", \"objetivar\", \"objetivar\", \"objetivar\", \"objetivar\", \"objetivar\", \"obligaci\\u00f3n\", \"obligaci\\u00f3n\", \"obligar\", \"obligar\", \"obligar\", \"obligar\", \"obligar\", \"observaci\\u00f3n\", \"observaci\\u00f3n\", \"observaci\\u00f3n\", \"observaci\\u00f3n\", \"observaci\\u00f3n\", \"obtener\", \"obtener\", \"obtener\", \"obtener\", \"obtener\", \"obtener\", \"obtener\", \"obtener\", \"obtener\", \"obtener\", \"obtener\", \"obtener\", \"obtener\", \"obtener\", \"obtener\", \"obtener\", \"octubre\", \"octubre\", \"octubre\", \"octubre\", \"octubre\", \"ocupar\", \"ocupar\", \"ocupar\", \"ocupar\", \"ocupar\", \"ocupar\", \"ocupar\", \"ocupar\", \"ocupar\", \"ocupar\", \"oficial\", \"oficial\", \"oficial\", \"oficial\", \"oficial\", \"oficial\", \"oficial\", \"oficial\", \"oficial\", \"oficial\", \"oficial\", \"oficial\", \"oficial\", \"oficial\", \"oficial\", \"oficial\", \"oficial\", \"oficina\", \"oficina\", \"oficina\", \"oficina\", \"oficina\", \"oficina\", \"oficina\", \"oficina\", \"oficina\", \"oficina\", \"oficio\", \"oficio\", \"oficio\", \"oficio\", \"oficio\", \"ofrecer\", \"ofrecer\", \"ofrecer\", \"ofrecer\", \"ofrecer\", \"ofrecer\", \"ofrecer\", \"operacion\", \"operacion\", \"operacion\", \"operacion\", \"operacion\", \"operacion\", \"operacion\", \"operacion\", \"operacion\", \"operacion\", \"operacion\", \"operacion\", \"operacion\", \"operacion\", \"operativo\", \"operativo\", \"operativo\", \"operativo\", \"operativo\", \"operativo\", \"orden\", \"orden\", \"orden\", \"orden\", \"ordenar\", \"ordenar\", \"ordenar\", \"organigrama\", \"organigrama\", \"organigrama\", \"organigrama\", \"organigrama\", \"organigrama\", \"organismo\", \"organismo\", \"organismo\", \"organismo\", \"organismo\", \"organismo\", \"organismo\", \"organismo\", \"organismo\", \"organismo\", \"organizacion\", \"organizacion\", \"organizacion\", \"organizacion\", \"organizacion\", \"organizacion\", \"organizacion\", \"organizacion\", \"organizacion\", \"organizacion\", \"organizacion\", \"organizacion\", \"organizacion\", \"organizacion\", \"organizacion\", \"organizacion\", \"organizacion\", \"organizaci\\u00f3n\", \"organizaci\\u00f3n\", \"organizaci\\u00f3n\", \"organizaci\\u00f3n\", \"organizaci\\u00f3n\", \"organizaci\\u00f3n\", \"organizaci\\u00f3n\", \"organizaci\\u00f3n\", \"organizaci\\u00f3n\", \"organizaci\\u00f3n\", \"organizaci\\u00f3n\", \"organizaci\\u00f3n\", \"organizaci\\u00f3n\", \"organizaci\\u00f3n\", \"organizaci\\u00f3n\", \"organizaci\\u00f3n\", \"organizaci\\u00f3n\", \"organizaci\\u00f3n\", \"organizaci\\u00f3n\", \"organizaci\\u00f3n\", \"organizar\", \"organizar\", \"organizar\", \"organizar\", \"organizar\", \"organizar\", \"ortega\", \"ortega\", \"ortega\", \"ortega\", \"otorgar\", \"otorgar\", \"otorgar\", \"otorgar\", \"otorgar\", \"otorgar\", \"otorgar\", \"otorgar\", \"otorgar\", \"otorgar\", \"otorgar\", \"otorgar\", \"otorgar\", \"otorgar\", \"otorgar\", \"otorgar\", \"otorgar\", \"otorgar\", \"otorgar\", \"otorgar\", \"outsourcing\", \"outsourcing\", \"outsourcing\", \"outsourcing\", \"outsourcing\", \"padron\", \"padron\", \"padron\", \"padron\", \"padron\", \"padron\", \"padron\", \"padron\", \"padron\", \"padron\", \"padron\", \"padron\", \"padron\", \"pago\", \"pago\", \"pago\", \"pago\", \"pago\", \"pago\", \"pago\", \"pago\", \"paimef\", \"paimef\", \"paimef\", \"paimef\", \"paimef\", \"paimef\", \"paimef\", \"paimef\", \"participacion\", \"participacion\", \"participacion\", \"participacion\", \"participacion\", \"participacion\", \"participacion\", \"participacion\", \"participacion\", \"participacion\", \"participacion\", \"particular\", \"particular\", \"particular\", \"particular\", \"partir\", \"partir\", \"partir\", \"partir\", \"partir\", \"partir\", \"partir\", \"partir\", \"partir\", \"partir\", \"partir\", \"partir\", \"partir\", \"partir\", \"patrimonial\", \"patrimonial\", \"patrimonial\", \"pedir\", \"pedir\", \"pedir\", \"pedir\", \"percepci\\u00f3n\", \"perfil\", \"perfil\", \"perfil\", \"perfil\", \"perfil\", \"perfil\", \"periodo\", \"periodo\", \"periodo\", \"periodo\", \"periodo\", \"periodo\", \"periodo\", \"periodo\", \"periodo\", \"periodo\", \"periodo\", \"periodo\", \"periodo\", \"periodo\", \"periodo\", \"periodo\", \"periodo\", \"periodo\", \"periodo\", \"periodo\", \"permitir\", \"permitir\", \"permitir\", \"permitir\", \"permitir\", \"permitir\", \"permitir\", \"permitir\", \"permitir\", \"pertenecer\", \"pertenecer\", \"pertenecer\", \"pertenecer\", \"pertenecer\", \"pertenecer\", \"plantilla\", \"plaza\", \"plaza\", \"plaza\", \"plaza\", \"plaza\", \"plazo\", \"plazo\", \"poblar\", \"poblar\", \"poblar\", \"poblar\", \"poblar\", \"poblar\", \"poblar\", \"poblar\", \"poblar\", \"poblar\", \"poblar\", \"poblar\", \"poblar\", \"pobreza\", \"pobreza\", \"pobreza\", \"pobreza\", \"pobreza\", \"pobreza\", \"pobreza\", \"pobreza\", \"politica\", \"politica\", \"politica\", \"politica\", \"politica\", \"politica\", \"politica\", \"politica\", \"politica\", \"politica\", \"politica\", \"politica\", \"politica\", \"politica\", \"politica\", \"politicas\", \"politicas\", \"politicas\", \"politicas\", \"politicas\", \"politicas\", \"politicas\", \"politicas\", \"politicas\", \"politicas\", \"politicas\", \"politicas\", \"politico\", \"politico\", \"politico\", \"politico\", \"popular\", \"popular\", \"potencial\", \"potencial\", \"potencial\", \"potencial\", \"potosi\", \"potosi\", \"potosi\", \"potosi\", \"potosi\", \"precisar\", \"precisar\", \"precisar\", \"preguntar\", \"preguntar\", \"preguntar\", \"preguntar\", \"preguntar\", \"presentacion\", \"presentacion\", \"presentacion\", \"presentacion\", \"presentacion\", \"presentacion\", \"presentacion\", \"prestacion\", \"prestacion\", \"prestacion\", \"prestacion\", \"prestacion\", \"prestaci\\u00f3n\", \"prestaci\\u00f3n\", \"prestaci\\u00f3n\", \"prestaci\\u00f3n\", \"prestaci\\u00f3n\", \"prestaci\\u00f3n\", \"prestaci\\u00f3n\", \"prestador\", \"prestador\", \"prestador\", \"prestador\", \"prestador\", \"prestar\", \"prestar\", \"prestar\", \"prestar\", \"prestar\", \"presupuestar\", \"presupuestar\", \"presupuestar\", \"presupuestar\", \"presupuestar\", \"presupuestar\", \"presupuestar\", \"presupuestar\", \"presupuestar\", \"presupuestar\", \"presupuestar\", \"presupuestar\", \"presupuestar\", \"presupuestar\", \"presupuestar\", \"presupuestar\", \"presupuestar\", \"presupuestar\", \"presupuestar\", \"presupuestar\", \"presupuestario\", \"presupuestario\", \"presupuestario\", \"presupuestario\", \"presupuestario\", \"presupuestario\", \"prevencion\", \"prevencion\", \"prevencion\", \"prevencion\", \"prevencion\", \"prevencion\", \"prevencion\", \"prevencion\", \"prevencion\", \"prevencion\", \"prevencion\", \"prevencion\", \"principio\", \"privar\", \"privar\", \"privar\", \"privar\", \"privar\", \"privar\", \"privar\", \"privar\", \"privar\", \"privar\", \"privar\", \"privar\", \"problema\", \"problema\", \"problema\", \"problema\", \"problema\", \"problema\", \"procedimiento\", \"procedimiento\", \"procedimiento\", \"procedimiento\", \"procedimiento\", \"procedimiento\", \"procedimiento\", \"procedimiento\", \"procedimiento\", \"procedimiento\", \"procedimiento\", \"procedimiento\", \"procedimiento\", \"procedimiento\", \"procedimiento\", \"procesar\", \"procesar\", \"procesar\", \"procesar\", \"procesar\", \"procesar\", \"procesar\", \"procesar\", \"procesar\", \"procesar\", \"procesar\", \"proceso\", \"proceso\", \"proceso\", \"profesional\", \"profesional\", \"profesional\", \"profesional\", \"profesional\", \"profesional\", \"profesional\", \"profesional\", \"profesional\", \"profesional\", \"profesional\", \"profesionalizacion\", \"profesionalizacion\", \"profesionalizacion\", \"profesionalizacion\", \"profesionalizacion\", \"promocion\", \"promocion\", \"promocion\", \"promocion\", \"promocion\", \"promocion\", \"promocion\", \"promocion\", \"promocion\", \"promocion\", \"promocion\", \"promocion\", \"promocion\", \"promocion\", \"promocion\", \"promocion\", \"promover\", \"promover\", \"promover\", \"proponer\", \"proponer\", \"proponer\", \"proponer\", \"proponer\", \"proporcionar\", \"proporcionar\", \"proporcionar\", \"proporcionar\", \"proporcionar\", \"proporcionar\", \"proporcionar\", \"proporcionar\", \"proporcionar\", \"proporcionar\", \"proporcionar\", \"proporcionar\", \"proporcionar\", \"proporcionar\", \"proporcionar\", \"proporcionar\", \"proporcionar\", \"proporcionar\", \"proporcionar\", \"proposici\\u00f3n\", \"proposici\\u00f3n\", \"propuesta\", \"propuesta\", \"propuesta\", \"proteger\", \"proteger\", \"proteger\", \"proteger\", \"proteger\", \"proyecto\", \"proyecto\", \"proyecto\", \"proyecto\", \"proyecto\", \"proyecto\", \"proyecto\", \"proyecto\", \"proyecto\", \"proyecto\", \"proyecto\", \"proyecto\", \"proyecto\", \"proyecto\", \"proyecto\", \"proyecto\", \"proyecto\", \"proyecto\", \"proyecto\", \"proyecto\", \"publicacion\", \"publicacion\", \"publicacion\", \"publicacion\", \"publicacion\", \"publicaci\\u00f3n\", \"publicaci\\u00f3n\", \"publicaci\\u00f3n\", \"publicaci\\u00f3n\", \"publicar\", \"publicar\", \"publicar\", \"publicar\", \"publicar\", \"publicar\", \"publicar\", \"publicar\", \"publicar\", \"publicar\", \"publicar\", \"publicar\", \"publicar\", \"publicar\", \"publicar\", \"publicar\", \"publicar\", \"publicar\", \"publicar\", \"publicar\", \"puesto\", \"puesto\", \"puesto\", \"puesto\", \"puesto\", \"puesto\", \"punto\", \"punto\", \"punto\", \"punto\", \"punto\", \"punto\", \"quedar\", \"quedar\", \"quedar\", \"quedar\", \"quedar\", \"querer\", \"querer\", \"querer\", \"querer\", \"querer\", \"querer\", \"querer\", \"querer\", \"querer\", \"querer\", \"querer\", \"querer\", \"querer\", \"querer\", \"querer\", \"querer\", \"querer\", \"querer\", \"querer\", \"querer\", \"radiar\", \"radiar\", \"radiar\", \"radiar\", \"radiar\", \"rango\", \"rango\", \"rango\", \"rango\", \"rango\", \"rango\", \"razon\", \"razon\", \"razon\", \"razon\", \"razon\", \"razon\", \"razon\", \"razon\", \"razon\", \"razon\", \"razon\", \"razon\", \"razon\", \"realizar\", \"realizar\", \"realizar\", \"realizar\", \"realizar\", \"realizar\", \"realizar\", \"realizar\", \"realizar\", \"realizar\", \"realizar\", \"realizar\", \"realizar\", \"realizar\", \"realizar\", \"realizar\", \"realizar\", \"realizar\", \"recibiados\", \"recibiados\", \"recibiados\", \"recibiados\", \"recibiados\", \"recibiados\", \"recibir\", \"recibir\", \"recibir\", \"recibir\", \"recibir\", \"recibir\", \"recibir\", \"recibir\", \"recibir\", \"recibir\", \"recibir\", \"recibir\", \"recibir\", \"recibir\", \"recibir\", \"recibir\", \"recibir\", \"recibir\", \"recibir\", \"recibo\", \"recibo\", \"recibo\", \"recibo\", \"recibo\", \"recibo\", \"reconocer\", \"reconocer\", \"reconocer\", \"redar\", \"redar\", \"redar\", \"redar\", \"redar\", \"redar\", \"referente\", \"referente\", \"referente\", \"referente\", \"referente\", \"referente\", \"referente\", \"referente\", \"referente\", \"referente\", \"registro\", \"registro\", \"registro\", \"registro\", \"registro\", \"reglamentar\", \"reglamentar\", \"relacion\", \"relacion\", \"relacion\", \"relacion\", \"relacion\", \"relacion\", \"relacion\", \"relacion\", \"relacion\", \"relacion\", \"relacion\", \"relacion\", \"relacion\", \"relacion\", \"relacion\", \"relacion\", \"relativo\", \"relativo\", \"relativo\", \"relativo\", \"remitir\", \"remitir\", \"remuneracion\", \"remuneracion\", \"remuneracion\", \"remuneracion\", \"remuneracion\", \"remuneracion\", \"remuneracion\", \"representacion\", \"representacion\", \"representante\", \"representante\", \"representante\", \"representante\", \"representante\", \"representante\", \"representante\", \"representante\", \"representante\", \"representante\", \"representante\", \"representante\", \"representante\", \"representar\", \"representar\", \"representar\", \"represion\", \"represion\", \"requerir\", \"requerir\", \"requerir\", \"requerir\", \"requerir\", \"requerir\", \"requerir\", \"requerir\", \"requerir\", \"requerir\", \"requerir\", \"requerir\", \"requerir\", \"requerir\", \"requerir\", \"requerir\", \"requerir\", \"requerir\", \"requerir\", \"reservar\", \"reservar\", \"reservar\", \"respectivo\", \"respectivo\", \"respectivo\", \"respectivo\", \"respectivo\", \"respectivo\", \"respectivo\", \"respectivo\", \"respetar\", \"respetar\", \"respetar\", \"responder\", \"responder\", \"responder\", \"responder\", \"responsabilidad\", \"responsabilidad\", \"responsabilidad\", \"responsabilidad\", \"restringir\", \"restringir\", \"resultar\", \"resultar\", \"resultar\", \"resultar\", \"resultar\", \"resultar\", \"resultar\", \"resultar\", \"resultar\", \"resultar\", \"resultar\", \"resultar\", \"resultar\", \"resultar\", \"resultar\", \"resultar\", \"resultar\", \"resultar\", \"resultar\", \"riesgo\", \"riesgo\", \"riesgo\", \"riesgo\", \"rodriguez\", \"rodriguez\", \"rodriguez\", \"rodriguez\", \"rodriguez\", \"rubro\", \"rubro\", \"rubro\", \"rubro\", \"rubro\", \"rubro\", \"rubro\", \"rubro\", \"rubro\", \"rubro\", \"rubro\", \"rural\", \"rural\", \"rural\", \"rural\", \"rural\", \"rural\", \"salariar\", \"salariar\", \"salariar\", \"salariar\", \"salariar\", \"salariar\", \"salariar\", \"salariar\", \"salariar\", \"salariar\", \"salud\", \"salud\", \"salud\", \"salud\", \"salud\", \"salud\", \"salud\", \"salud\", \"salud\", \"salud\", \"salud\", \"salud\", \"salud\", \"salud\", \"saludo\", \"saludo\", \"saludo\", \"sancionar\", \"sancionar\", \"sancionar\", \"sancionar\", \"sancionar\", \"sancionar\", \"sancionar\", \"santo\", \"santo\", \"santo\", \"santo\", \"santo\", \"santo\", \"santo\", \"santo\", \"santo\", \"santo\", \"santo\", \"santo\", \"santo\", \"secretario\", \"secretario\", \"secretario\", \"secretario\", \"secretario\", \"secretario\", \"secretario\", \"secretario\", \"secretario\", \"secretario\", \"secretario\", \"secretario\", \"secretario\", \"secretario\", \"secretario\", \"secretario\", \"secretario\", \"secretario\", \"secretario\", \"sector\", \"sector\", \"sector\", \"sector\", \"sector\", \"sector\", \"sector\", \"sedesol\", \"sedesol\", \"sedesol\", \"sedesol\", \"sedesol\", \"sedesol\", \"sedesol\", \"sedesol\", \"sedesol\", \"sedesol\", \"sedesol\", \"sedesol\", \"sedesol\", \"sedesol\", \"seguimiento\", \"seguimiento\", \"seguimiento\", \"seguimiento\", \"seguimiento\", \"seguimiento\", \"segundo\", \"segundo\", \"segundo\", \"seguridad\", \"seguridad\", \"seguridad\", \"seguridad\", \"seguridad\", \"seguridad\", \"seguridad\", \"seguridad\", \"seguridad\", \"seguro\", \"seguro\", \"seguro\", \"seguro\", \"seguro\", \"seguro\", \"seguro\", \"seguro\", \"senalando\", \"senalando\", \"senalando\", \"sentir\", \"sentir\", \"septiembre\", \"septiembre\", \"septiembre\", \"septiembre\", \"septiembre\", \"septiembre\", \"septiembre\", \"septiembre\", \"septiembre\", \"septiembre\", \"servidor\", \"servidor\", \"servidor\", \"servidor\", \"servidor\", \"servidor\", \"servidor\", \"servidor\", \"servidor\", \"servidor\", \"servidor\", \"servidor\", \"servidor\", \"servidor\", \"servidor\", \"servidor\", \"servidor\", \"servidor\", \"shcp\", \"shcp\", \"shcp\", \"siguiente\", \"siguiente\", \"siguiente\", \"sinaloa\", \"sinaloa\", \"sinaloa\", \"sinaloa\", \"sinaloa\", \"sindicato\", \"sindicato\", \"sindicato\", \"sindicato\", \"situacion\", \"situacion\", \"situacion\", \"situacion\", \"situacion\", \"situacion\", \"situacion\", \"situacion\", \"situacion\", \"situacion\", \"situacion\", \"situacion\", \"situacion\", \"social\", \"social\", \"social\", \"social\", \"social\", \"social\", \"social\", \"social\", \"social\", \"social\", \"social\", \"social\", \"social\", \"social\", \"social\", \"social\", \"social\", \"social\", \"social\", \"social\", \"sociedad\", \"sociedad\", \"sociedad\", \"sociedad\", \"sociedad\", \"sociedad\", \"sociedad\", \"sociedad\", \"sociedad\", \"sociedad\", \"sociedad\", \"sociedad\", \"sociedad\", \"sociedad\", \"sociedad\", \"sociedad\", \"sociedad\", \"sociedad\", \"sociedad\", \"sociedad\", \"soldar\", \"soldar\", \"soldar\", \"soldar\", \"soldar\", \"soldar\", \"soldar\", \"soldar\", \"soldar\", \"soldar\", \"soldar\", \"solicitarle\", \"solicitarle\", \"solucionar\", \"solucionar\", \"solucionar\", \"solucionar\", \"solucionar\", \"sonoro\", \"sonoro\", \"sonoro\", \"sonoro\", \"soportar\", \"soportar\", \"soportar\", \"subsidiar\", \"subsidiar\", \"subsidiar\", \"sueldo\", \"sueldo\", \"sueldo\", \"sueldo\", \"sueldo\", \"sueldo\", \"suficiencia\", \"suficiencia\", \"suministrar\", \"sustentable\", \"sustentable\", \"sustentable\", \"sustentable\", \"sustentar\", \"tabasco\", \"tabasco\", \"tabasco\", \"tabasco\", \"tabasco\", \"tabasco\", \"tabasco\", \"tabasco\", \"tabasco\", \"tabasco\", \"tabasco\", \"tabasco\", \"tabasco\", \"tabasco\", \"talar\", \"talar\", \"talar\", \"taller\", \"taller\", \"taller\", \"taller\", \"tecnica\", \"tecnica\", \"tecnica\", \"tecnica\", \"tecnica\", \"tecnicas\", \"tecnicas\", \"tecnicas\", \"tecnico\", \"tecnico\", \"tecnico\", \"tecnico\", \"tecnico\", \"tecnico\", \"tecnicos\", \"tecnicos\", \"tecnologia\", \"tecnologia\", \"telecomunicaci\\u00f3n\", \"telecomunicaci\\u00f3n\", \"telecomunicaci\\u00f3n\", \"telefonia\", \"telefonia\", \"telefonia\", \"telefonico\", \"telefonico\", \"telefonico\", \"telefonico\", \"telefonico\", \"telefonico\", \"telefono\", \"telefono\", \"telefono\", \"telefono\", \"telefono\", \"temer\", \"temer\", \"temer\", \"temporal\", \"temporal\", \"temporal\", \"tener\", \"tener\", \"tener\", \"tener\", \"tener\", \"tener\", \"tener\", \"tener\", \"tener\", \"tener\", \"tener\", \"tener\", \"terminar\", \"tipo\", \"tipo\", \"tipo\", \"tipo\", \"tipo\", \"tipo\", \"tipo\", \"tipo\", \"tipo\", \"tipo\", \"tipo\", \"tipo\", \"tipo\", \"tipo\", \"tipo\", \"tipo\", \"tipo\", \"tipo\", \"tipo\", \"tipo\", \"tomar\", \"tomar\", \"tomar\", \"tomar\", \"tomar\", \"tomar\", \"tomar\", \"tomar\", \"tomar\", \"trabajador\", \"trabajador\", \"trabajador\", \"trabajador\", \"trabajador\", \"trabajador\", \"trabajador\", \"trabajador\", \"trabajador\", \"trabajador\", \"trabajador\", \"trabajador\", \"trabajador\", \"trabajador\", \"trabajar\", \"trabajar\", \"trabajar\", \"trabajar\", \"trabajar\", \"tramitar\", \"tramitar\", \"tramitar\", \"tramitar\", \"tramitar\", \"tramitar\", \"tramitar\", \"tramitar\", \"tramitar\", \"tramitar\", \"transportar\", \"transportar\", \"transportar\", \"transportar\", \"ubicar\", \"ubicar\", \"ubicar\", \"ubicar\", \"ubicar\", \"ubicar\", \"ultimar\", \"ultimar\", \"ultimar\", \"ultimar\", \"unica\", \"unica\", \"unica\", \"unica\", \"unica\", \"unica\", \"unica\", \"unica\", \"unica\", \"unica\", \"unicamente\", \"unicamente\", \"unicamente\", \"unir\", \"unir\", \"unir\", \"unir\", \"unir\", \"unir\", \"unir\", \"unir\", \"unir\", \"unir\", \"universidad\", \"universidad\", \"universidad\", \"universidad\", \"universidad\", \"universidad\", \"universidad\", \"universidad\", \"universidad\", \"urbano\", \"urbano\", \"usuario\", \"usuario\", \"utilizar\", \"utilizar\", \"utilizar\", \"utilizar\", \"utilizar\", \"utilizar\", \"utilizar\", \"utilizar\", \"utilizar\", \"utilizar\", \"utilizar\", \"utilizar\", \"utilizar\", \"utilizar\", \"vacante\", \"vacante\", \"vacante\", \"vacante\", \"vacante\", \"vazquez\", \"vazquez\", \"vazquez\", \"vazquez\", \"vazquez\", \"vazquez\", \"versionar\", \"versionar\", \"versionar\", \"versionar\", \"vertiente\", \"vertiente\", \"vertiente\", \"vertiente\", \"viaticos\", \"viaticos\", \"viaticos\", \"viaticos\", \"viaticos\", \"victimar\", \"victimar\", \"victimar\", \"victimar\", \"victimar\", \"victimar\", \"victimar\", \"victimar\", \"vifac\", \"vifac\", \"vifac\", \"vigilancia\", \"vigilancia\", \"vigilancia\", \"vigilancia\", \"vinculacion\", \"vinculacion\", \"vinculacion\", \"vincular\", \"vincular\", \"vincular\", \"violencia\", \"violencia\", \"violencia\", \"violencia\", \"violencia\", \"violencia\", \"violencia\", \"violencia\", \"violencia\", \"violencia\", \"violencia\", \"violencia\", \"violencia\", \"violencia\", \"violencia\", \"virtud\", \"virtud\", \"virtud\", \"vitae\", \"vitae\", \"vitae\", \"vivienda\", \"vivienda\", \"vivienda\", \"vivienda\", \"vivienda\", \"vivienda\", \"vivienda\", \"vivienda\", \"vivir\", \"vivir\", \"vivir\", \"vivir\", \"vivir\", \"vivir\", \"vivir\", \"xiii\", \"xiii\", \"yucatan\", \"yucatan\", \"yucatan\", \"yucatan\", \"yucatan\", \"yucatan\", \"zona\", \"zona\", \"zona\", \"zona\", \"zona\"]}, \"R\": 30, \"lambda.step\": 0.01, \"plot.opts\": {\"xlab\": \"PC1\", \"ylab\": \"PC2\"}, \"topic.order\": [11, 7, 6, 12, 14, 20, 18, 15, 17, 16, 13, 4, 10, 19, 5, 3, 1, 8, 2, 9]};\n",
       "\n",
       "function LDAvis_load_lib(url, callback){\n",
       "  var s = document.createElement('script');\n",
       "  s.src = url;\n",
       "  s.async = true;\n",
       "  s.onreadystatechange = s.onload = callback;\n",
       "  s.onerror = function(){console.warn(\"failed to load library \" + url);};\n",
       "  document.getElementsByTagName(\"head\")[0].appendChild(s);\n",
       "}\n",
       "\n",
       "if(typeof(LDAvis) !== \"undefined\"){\n",
       "   // already loaded: just create the visualization\n",
       "   !function(LDAvis){\n",
       "       new LDAvis(\"#\" + \"ldavis_el738871403602938218001266707851\", ldavis_el738871403602938218001266707851_data);\n",
       "   }(LDAvis);\n",
       "}else if(typeof define === \"function\" && define.amd){\n",
       "   // require.js is available: use it to load d3/LDAvis\n",
       "   require.config({paths: {d3: \"https://cdnjs.cloudflare.com/ajax/libs/d3/3.5.5/d3.min\"}});\n",
       "   require([\"d3\"], function(d3){\n",
       "      window.d3 = d3;\n",
       "      LDAvis_load_lib(\"https://cdn.rawgit.com/bmabey/pyLDAvis/files/ldavis.v1.0.0.js\", function(){\n",
       "        new LDAvis(\"#\" + \"ldavis_el738871403602938218001266707851\", ldavis_el738871403602938218001266707851_data);\n",
       "      });\n",
       "    });\n",
       "}else{\n",
       "    // require.js not available: dynamically load d3 & LDAvis\n",
       "    LDAvis_load_lib(\"https://cdnjs.cloudflare.com/ajax/libs/d3/3.5.5/d3.min.js\", function(){\n",
       "         LDAvis_load_lib(\"https://cdn.rawgit.com/bmabey/pyLDAvis/files/ldavis.v1.0.0.js\", function(){\n",
       "                 new LDAvis(\"#\" + \"ldavis_el738871403602938218001266707851\", ldavis_el738871403602938218001266707851_data);\n",
       "            })\n",
       "         });\n",
       "}\n",
       "</script>"
      ],
      "text/plain": [
       "PreparedData(topic_coordinates=              x         y  topics  cluster      Freq\n",
       "topic                                               \n",
       "10    -0.002672  0.042980       1        1  7.290977\n",
       "6     -0.000044 -0.027703       2        1  6.999504\n",
       "5     -0.155567  0.005752       3        1  6.825448\n",
       "11    -0.015230 -0.005497       4        1  6.496163\n",
       "13     0.073205  0.080956       5        1  6.064958\n",
       "19     0.048370 -0.067538       6        1  5.241644\n",
       "17     0.013182  0.013750       7        1  5.044500\n",
       "14    -0.020907 -0.072681       8        1  5.042977\n",
       "16     0.033392 -0.023681       9        1  5.012670\n",
       "15     0.016192  0.014213      10        1  4.859762\n",
       "12    -0.046005  0.007285      11        1  4.636091\n",
       "3      0.013549 -0.060365      12        1  4.378017\n",
       "9      0.021685 -0.011917      13        1  4.358947\n",
       "18     0.053453 -0.033797      14        1  4.307537\n",
       "4     -0.059922 -0.000324      15        1  4.262198\n",
       "2      0.030518 -0.020950      16        1  4.212363\n",
       "0      0.011373  0.044474      17        1  4.099857\n",
       "7     -0.009184  0.046926      18        1  3.980182\n",
       "1      0.022022  0.055737      19        1  3.732983\n",
       "8     -0.027410  0.012380      20        1  3.153228, topic_info=              Term       Freq      Total Category  logprob  loglift\n",
       "776        vazquez  20.000000  20.000000  Default  30.0000  30.0000\n",
       "775           nava  20.000000  20.000000  Default  29.0000  29.0000\n",
       "742        tecnico  20.000000  20.000000  Default  28.0000  28.0000\n",
       "773     recibiados  21.000000  21.000000  Default  27.0000  27.0000\n",
       "725           imef  21.000000  21.000000  Default  26.0000  26.0000\n",
       "..             ...        ...        ...      ...      ...      ...\n",
       "26     desarrollar   1.916960  84.528481  Topic20  -5.1838  -0.3296\n",
       "104  dictaminacion   1.889449  78.962372  Topic20  -5.1983  -0.2759\n",
       "9           montar   1.871848  75.360489  Topic20  -5.2076  -0.2386\n",
       "14          apoyar   1.858691  71.791725  Topic20  -5.2147  -0.1972\n",
       "273       informar   1.812098  54.102905  Topic20  -5.2401   0.0603\n",
       "\n",
       "[1084 rows x 6 columns], token_table=      Topic      Freq     Term\n",
       "term                          \n",
       "414       7  0.438325  abarcar\n",
       "594       2  0.093354    abrir\n",
       "594       4  0.093354    abrir\n",
       "594       5  0.093354    abrir\n",
       "594       6  0.093354    abrir\n",
       "...     ...       ...      ...\n",
       "296       2  0.122111     zona\n",
       "296       9  0.244221     zona\n",
       "296      12  0.122111     zona\n",
       "296      14  0.122111     zona\n",
       "296      17  0.122111     zona\n",
       "\n",
       "[4646 rows x 3 columns], R=30, lambda_step=0.01, plot_opts={'xlab': 'PC1', 'ylab': 'PC2'}, topic_order=[11, 7, 6, 12, 14, 20, 18, 15, 17, 16, 13, 4, 10, 19, 5, 3, 1, 8, 2, 9])"
      ]
     },
     "execution_count": 240,
     "metadata": {},
     "output_type": "execute_result"
    }
   ],
   "source": [
    "vis"
   ]
  }
 ],
 "metadata": {
  "kernelspec": {
   "display_name": "Python 3",
   "language": "python",
   "name": "python3"
  },
  "language_info": {
   "codemirror_mode": {
    "name": "ipython",
    "version": 3
   },
   "file_extension": ".py",
   "mimetype": "text/x-python",
   "name": "python",
   "nbconvert_exporter": "python",
   "pygments_lexer": "ipython3",
   "version": "3.7.3"
  }
 },
 "nbformat": 4,
 "nbformat_minor": 4
}
