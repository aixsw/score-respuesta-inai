{
 "cells": [
  {
   "cell_type": "code",
   "execution_count": 1,
   "metadata": {},
   "outputs": [],
   "source": [
    "import os, sys\n",
    "sys.path.insert(0, os.path.abspath(\"..\"))"
   ]
  },
  {
   "cell_type": "code",
   "execution_count": 2,
   "metadata": {},
   "outputs": [],
   "source": [
    "import pandas as pd\n",
    "import boto3\n",
    "import pickle\n",
    "import matplotlib.pyplot as plt\n",
    "import seaborn as sns\n",
    "import warnings\n",
    "warnings.filterwarnings('ignore')"
   ]
  },
  {
   "cell_type": "code",
   "execution_count": 3,
   "metadata": {},
   "outputs": [],
   "source": [
    "sns.set_style(\"whitegrid\")"
   ]
  },
  {
   "cell_type": "markdown",
   "metadata": {},
   "source": [
    "## Importamos la información"
   ]
  },
  {
   "cell_type": "code",
   "execution_count": 4,
   "metadata": {},
   "outputs": [],
   "source": [
    "session = boto3.session.Session()\n",
    "s3client = session.client('s3')"
   ]
  },
  {
   "cell_type": "code",
   "execution_count": 5,
   "metadata": {},
   "outputs": [],
   "source": [
    "response = s3client.get_object(Bucket='inai-summerofdata', Key='mlpreproc/pickles/df.pkl')\n",
    "\n",
    "body = response['Body'].read()\n",
    "df = pickle.loads(body)"
   ]
  },
  {
   "cell_type": "code",
   "execution_count": 6,
   "metadata": {},
   "outputs": [
    {
     "data": {
      "text/html": [
       "<div>\n",
       "<style scoped>\n",
       "    .dataframe tbody tr th:only-of-type {\n",
       "        vertical-align: middle;\n",
       "    }\n",
       "\n",
       "    .dataframe tbody tr th {\n",
       "        vertical-align: top;\n",
       "    }\n",
       "\n",
       "    .dataframe thead th {\n",
       "        text-align: right;\n",
       "    }\n",
       "</style>\n",
       "<table border=\"1\" class=\"dataframe\">\n",
       "  <thead>\n",
       "    <tr style=\"text-align: right;\">\n",
       "      <th></th>\n",
       "      <th>folio</th>\n",
       "      <th>fechasolicitud</th>\n",
       "      <th>dependencia</th>\n",
       "      <th>estatus</th>\n",
       "      <th>medioentrada</th>\n",
       "      <th>tiposolicitud</th>\n",
       "      <th>descripcionsolicitud</th>\n",
       "      <th>otrosdatos</th>\n",
       "      <th>archivoadjuntosolicitud</th>\n",
       "      <th>medioentrega</th>\n",
       "      <th>...</th>\n",
       "      <th>sector</th>\n",
       "      <th>tipo_archivo_respuesta</th>\n",
       "      <th>cantidad_archivos_respuesta</th>\n",
       "      <th>texto_respuesta_adjunto</th>\n",
       "      <th>respuestareal</th>\n",
       "      <th>calidad_respuesta</th>\n",
       "      <th>calidad_respuesta_real</th>\n",
       "      <th>solicitud_longitud</th>\n",
       "      <th>descripcionsolicitud_lemma</th>\n",
       "      <th>codigo_calidad_respuesta_real</th>\n",
       "    </tr>\n",
       "  </thead>\n",
       "  <tbody>\n",
       "    <tr>\n",
       "      <th>0</th>\n",
       "      <td>1857500001912</td>\n",
       "      <td>2012-01-01 05:04:07</td>\n",
       "      <td>pemex exploracion y produccion</td>\n",
       "      <td>terminada</td>\n",
       "      <td>electronica</td>\n",
       "      <td>informacion publica</td>\n",
       "      <td>copia de los documentos y los con que cuenta a...</td>\n",
       "      <td>None</td>\n",
       "      <td>None</td>\n",
       "      <td>entrega por internet en el infomex</td>\n",
       "      <td>...</td>\n",
       "      <td>energia</td>\n",
       "      <td>pdf</td>\n",
       "      <td>1.0</td>\n",
       "      <td>pemex exploracion y produccion oficio fecha 02...</td>\n",
       "      <td>entrega de informacion en medio electronico</td>\n",
       "      <td>satisfactoria</td>\n",
       "      <td>satisfactoria</td>\n",
       "      <td>768</td>\n",
       "      <td>copiar documento comportamiento historico tipi...</td>\n",
       "      <td>0</td>\n",
       "    </tr>\n",
       "    <tr>\n",
       "      <th>1</th>\n",
       "      <td>1857500002012</td>\n",
       "      <td>2012-01-01 05:13:16</td>\n",
       "      <td>pemex exploracion y produccion</td>\n",
       "      <td>terminada</td>\n",
       "      <td>electronica</td>\n",
       "      <td>informacion publica</td>\n",
       "      <td>del informacion y usados en la de flujo de efe...</td>\n",
       "      <td>None</td>\n",
       "      <td>None</td>\n",
       "      <td>entrega por internet en el infomex</td>\n",
       "      <td>...</td>\n",
       "      <td>energia</td>\n",
       "      <td>pdf</td>\n",
       "      <td>1.0</td>\n",
       "      <td>pemex exploracion y produccion oficio fecha 01...</td>\n",
       "      <td>entrega de informacion en medio electronico</td>\n",
       "      <td>satisfactoria</td>\n",
       "      <td>satisfactoria</td>\n",
       "      <td>548</td>\n",
       "      <td>informacion usar flujo efectivo pozo tipico ag...</td>\n",
       "      <td>0</td>\n",
       "    </tr>\n",
       "    <tr>\n",
       "      <th>2</th>\n",
       "      <td>0001800000712</td>\n",
       "      <td>2012-01-01 09:46:39</td>\n",
       "      <td>secretaria de energia</td>\n",
       "      <td>terminada</td>\n",
       "      <td>electronica</td>\n",
       "      <td>informacion publica</td>\n",
       "      <td>se me proporcione en magnetico y por este medi...</td>\n",
       "      <td>None</td>\n",
       "      <td>None</td>\n",
       "      <td>entrega por internet en el infomex</td>\n",
       "      <td>...</td>\n",
       "      <td>energia</td>\n",
       "      <td>zip</td>\n",
       "      <td>2.0</td>\n",
       "      <td>None</td>\n",
       "      <td>inexistencia de la informacion solicitada</td>\n",
       "      <td>no respondida</td>\n",
       "      <td>no respondida</td>\n",
       "      <td>269</td>\n",
       "      <td>proporcionar magnetico relacion ocupar amparar...</td>\n",
       "      <td>1</td>\n",
       "    </tr>\n",
       "    <tr>\n",
       "      <th>3</th>\n",
       "      <td>0000600003712</td>\n",
       "      <td>2012-01-01 10:11:41</td>\n",
       "      <td>secretaria de hacienda y credito publico</td>\n",
       "      <td>terminada</td>\n",
       "      <td>electronica</td>\n",
       "      <td>informacion publica</td>\n",
       "      <td>se me proporcione en magnetico y por este medi...</td>\n",
       "      <td>None</td>\n",
       "      <td>None</td>\n",
       "      <td>entrega por internet en el infomex</td>\n",
       "      <td>...</td>\n",
       "      <td>hacienda y credito publico</td>\n",
       "      <td>pdf</td>\n",
       "      <td>1.0</td>\n",
       "      <td>inidos secretaria de hacienda y credito public...</td>\n",
       "      <td>la informacion esta disponible publicamente</td>\n",
       "      <td>satisfactoria</td>\n",
       "      <td>satisfactoria</td>\n",
       "      <td>269</td>\n",
       "      <td>proporcionar magnetico relacion ocupar amparar...</td>\n",
       "      <td>0</td>\n",
       "    </tr>\n",
       "    <tr>\n",
       "      <th>4</th>\n",
       "      <td>0001500002812</td>\n",
       "      <td>2012-01-01 10:32:15</td>\n",
       "      <td>secretaria de desarrollo agrario territorial y...</td>\n",
       "      <td>terminada</td>\n",
       "      <td>electronica</td>\n",
       "      <td>informacion publica</td>\n",
       "      <td>se me proporcione en magnetico y por este medi...</td>\n",
       "      <td>None</td>\n",
       "      <td>None</td>\n",
       "      <td>entrega por internet en el infomex</td>\n",
       "      <td>...</td>\n",
       "      <td>reforma agraria</td>\n",
       "      <td>zip</td>\n",
       "      <td>4.0</td>\n",
       "      <td>None</td>\n",
       "      <td>sin respuesta</td>\n",
       "      <td>satisfactoria</td>\n",
       "      <td>no respondida</td>\n",
       "      <td>398</td>\n",
       "      <td>proporcionar magnetico relacion ocupar amparar...</td>\n",
       "      <td>1</td>\n",
       "    </tr>\n",
       "  </tbody>\n",
       "</table>\n",
       "<p>5 rows × 29 columns</p>\n",
       "</div>"
      ],
      "text/plain": [
       "           folio      fechasolicitud  \\\n",
       "0  1857500001912 2012-01-01 05:04:07   \n",
       "1  1857500002012 2012-01-01 05:13:16   \n",
       "2  0001800000712 2012-01-01 09:46:39   \n",
       "3  0000600003712 2012-01-01 10:11:41   \n",
       "4  0001500002812 2012-01-01 10:32:15   \n",
       "\n",
       "                                         dependencia    estatus medioentrada  \\\n",
       "0                     pemex exploracion y produccion  terminada  electronica   \n",
       "1                     pemex exploracion y produccion  terminada  electronica   \n",
       "2                              secretaria de energia  terminada  electronica   \n",
       "3           secretaria de hacienda y credito publico  terminada  electronica   \n",
       "4  secretaria de desarrollo agrario territorial y...  terminada  electronica   \n",
       "\n",
       "         tiposolicitud                               descripcionsolicitud  \\\n",
       "0  informacion publica  copia de los documentos y los con que cuenta a...   \n",
       "1  informacion publica  del informacion y usados en la de flujo de efe...   \n",
       "2  informacion publica  se me proporcione en magnetico y por este medi...   \n",
       "3  informacion publica  se me proporcione en magnetico y por este medi...   \n",
       "4  informacion publica  se me proporcione en magnetico y por este medi...   \n",
       "\n",
       "  otrosdatos archivoadjuntosolicitud                        medioentrega  ...  \\\n",
       "0       None                    None  entrega por internet en el infomex  ...   \n",
       "1       None                    None  entrega por internet en el infomex  ...   \n",
       "2       None                    None  entrega por internet en el infomex  ...   \n",
       "3       None                    None  entrega por internet en el infomex  ...   \n",
       "4       None                    None  entrega por internet en el infomex  ...   \n",
       "\n",
       "                       sector tipo_archivo_respuesta  \\\n",
       "0                     energia                    pdf   \n",
       "1                     energia                    pdf   \n",
       "2                     energia                    zip   \n",
       "3  hacienda y credito publico                    pdf   \n",
       "4             reforma agraria                    zip   \n",
       "\n",
       "  cantidad_archivos_respuesta  \\\n",
       "0                         1.0   \n",
       "1                         1.0   \n",
       "2                         2.0   \n",
       "3                         1.0   \n",
       "4                         4.0   \n",
       "\n",
       "                             texto_respuesta_adjunto  \\\n",
       "0  pemex exploracion y produccion oficio fecha 02...   \n",
       "1  pemex exploracion y produccion oficio fecha 01...   \n",
       "2                                               None   \n",
       "3  inidos secretaria de hacienda y credito public...   \n",
       "4                                               None   \n",
       "\n",
       "                                 respuestareal calidad_respuesta  \\\n",
       "0  entrega de informacion en medio electronico     satisfactoria   \n",
       "1  entrega de informacion en medio electronico     satisfactoria   \n",
       "2    inexistencia de la informacion solicitada     no respondida   \n",
       "3  la informacion esta disponible publicamente     satisfactoria   \n",
       "4                                sin respuesta     satisfactoria   \n",
       "\n",
       "  calidad_respuesta_real solicitud_longitud  \\\n",
       "0          satisfactoria                768   \n",
       "1          satisfactoria                548   \n",
       "2          no respondida                269   \n",
       "3          satisfactoria                269   \n",
       "4          no respondida                398   \n",
       "\n",
       "                          descripcionsolicitud_lemma  \\\n",
       "0  copiar documento comportamiento historico tipi...   \n",
       "1  informacion usar flujo efectivo pozo tipico ag...   \n",
       "2  proporcionar magnetico relacion ocupar amparar...   \n",
       "3  proporcionar magnetico relacion ocupar amparar...   \n",
       "4  proporcionar magnetico relacion ocupar amparar...   \n",
       "\n",
       "  codigo_calidad_respuesta_real  \n",
       "0                             0  \n",
       "1                             0  \n",
       "2                             1  \n",
       "3                             0  \n",
       "4                             1  \n",
       "\n",
       "[5 rows x 29 columns]"
      ]
     },
     "execution_count": 6,
     "metadata": {},
     "output_type": "execute_result"
    }
   ],
   "source": [
    "df.head()"
   ]
  },
  {
   "cell_type": "markdown",
   "metadata": {},
   "source": [
    "## Implementación LDA"
   ]
  },
  {
   "cell_type": "markdown",
   "metadata": {},
   "source": [
    "Quitamos palabras identificadas en el primer analisis LDA validadas con SocialTIC."
   ]
  },
  {
   "cell_type": "code",
   "execution_count": 7,
   "metadata": {},
   "outputs": [],
   "source": [
    "banned = ['federativo', 'materia', 'activar', 'cargar', 'transparencia', 'poblacion', 'favor', \n",
    "          'directo', 'fecho', 'registrar', 'emplear', 'campar', 'atencion',\n",
    "          'pagar', 'reportar', 'publicos', 'encontrar', 'entidad',\n",
    "          'acceso', 'derecho', 'concepto', 'recurso', 'beneficiario', 'esperar', 'expedientar', 'basar',\n",
    "          'documento', 'presentar', 'clavar', 'personal', 'solucion', 'adjuntar', 'adjunto',\n",
    "          'respuesta','solicitud','solicitar', 'solicito', 'solicitamos', 'solicite', 'informacion', 'mexico', \n",
    "          'titular', 'copiar', 'copie', 'copiamos', 'dependencia', 'contratar', \n",
    "          'contrato', 'servicio', 'proyectar', 'proyectamos', 'proyecte', 'proyeccion', \n",
    "          'nacional', 'administrativo', 'correo', 'programar', 'programa',\n",
    "          'programacion', 'personar', 'edad', 'unidad', 'circuito']"
   ]
  },
  {
   "cell_type": "code",
   "execution_count": 8,
   "metadata": {},
   "outputs": [],
   "source": [
    "f = lambda x: ' '.join([item for item in x.split() if item not in banned])\n",
    "df['descripcionsolicitud_lemma'] = df['descripcionsolicitud_lemma'].apply(f)"
   ]
  },
  {
   "cell_type": "code",
   "execution_count": 9,
   "metadata": {},
   "outputs": [],
   "source": [
    "df['solicitud_lemma_longitud'] = df['descripcionsolicitud_lemma'].str.len()"
   ]
  },
  {
   "cell_type": "code",
   "execution_count": 10,
   "metadata": {
    "scrolled": true
   },
   "outputs": [
    {
     "data": {
      "text/html": [
       "<div>\n",
       "<style scoped>\n",
       "    .dataframe tbody tr th:only-of-type {\n",
       "        vertical-align: middle;\n",
       "    }\n",
       "\n",
       "    .dataframe tbody tr th {\n",
       "        vertical-align: top;\n",
       "    }\n",
       "\n",
       "    .dataframe thead th {\n",
       "        text-align: right;\n",
       "    }\n",
       "</style>\n",
       "<table border=\"1\" class=\"dataframe\">\n",
       "  <thead>\n",
       "    <tr style=\"text-align: right;\">\n",
       "      <th></th>\n",
       "      <th>folio</th>\n",
       "      <th>fechasolicitud</th>\n",
       "      <th>dependencia</th>\n",
       "      <th>estatus</th>\n",
       "      <th>medioentrada</th>\n",
       "      <th>tiposolicitud</th>\n",
       "      <th>descripcionsolicitud</th>\n",
       "      <th>otrosdatos</th>\n",
       "      <th>archivoadjuntosolicitud</th>\n",
       "      <th>medioentrega</th>\n",
       "      <th>...</th>\n",
       "      <th>tipo_archivo_respuesta</th>\n",
       "      <th>cantidad_archivos_respuesta</th>\n",
       "      <th>texto_respuesta_adjunto</th>\n",
       "      <th>respuestareal</th>\n",
       "      <th>calidad_respuesta</th>\n",
       "      <th>calidad_respuesta_real</th>\n",
       "      <th>solicitud_longitud</th>\n",
       "      <th>descripcionsolicitud_lemma</th>\n",
       "      <th>codigo_calidad_respuesta_real</th>\n",
       "      <th>solicitud_lemma_longitud</th>\n",
       "    </tr>\n",
       "  </thead>\n",
       "  <tbody>\n",
       "    <tr>\n",
       "      <th>0</th>\n",
       "      <td>1857500001912</td>\n",
       "      <td>2012-01-01 05:04:07</td>\n",
       "      <td>pemex exploracion y produccion</td>\n",
       "      <td>terminada</td>\n",
       "      <td>electronica</td>\n",
       "      <td>informacion publica</td>\n",
       "      <td>copia de los documentos y los con que cuenta a...</td>\n",
       "      <td>None</td>\n",
       "      <td>None</td>\n",
       "      <td>entrega por internet en el infomex</td>\n",
       "      <td>...</td>\n",
       "      <td>pdf</td>\n",
       "      <td>1.0</td>\n",
       "      <td>pemex exploracion y produccion oficio fecha 02...</td>\n",
       "      <td>entrega de informacion en medio electronico</td>\n",
       "      <td>satisfactoria</td>\n",
       "      <td>satisfactoria</td>\n",
       "      <td>768</td>\n",
       "      <td>comportamiento historico tipicos comprender es...</td>\n",
       "      <td>0</td>\n",
       "      <td>424</td>\n",
       "    </tr>\n",
       "    <tr>\n",
       "      <th>1</th>\n",
       "      <td>1857500002012</td>\n",
       "      <td>2012-01-01 05:13:16</td>\n",
       "      <td>pemex exploracion y produccion</td>\n",
       "      <td>terminada</td>\n",
       "      <td>electronica</td>\n",
       "      <td>informacion publica</td>\n",
       "      <td>del informacion y usados en la de flujo de efe...</td>\n",
       "      <td>None</td>\n",
       "      <td>None</td>\n",
       "      <td>entrega por internet en el infomex</td>\n",
       "      <td>...</td>\n",
       "      <td>pdf</td>\n",
       "      <td>1.0</td>\n",
       "      <td>pemex exploracion y produccion oficio fecha 01...</td>\n",
       "      <td>entrega de informacion en medio electronico</td>\n",
       "      <td>satisfactoria</td>\n",
       "      <td>satisfactoria</td>\n",
       "      <td>548</td>\n",
       "      <td>usar flujo efectivo pozo tipico aguar fria ela...</td>\n",
       "      <td>0</td>\n",
       "      <td>289</td>\n",
       "    </tr>\n",
       "    <tr>\n",
       "      <th>2</th>\n",
       "      <td>0001800000712</td>\n",
       "      <td>2012-01-01 09:46:39</td>\n",
       "      <td>secretaria de energia</td>\n",
       "      <td>terminada</td>\n",
       "      <td>electronica</td>\n",
       "      <td>informacion publica</td>\n",
       "      <td>se me proporcione en magnetico y por este medi...</td>\n",
       "      <td>None</td>\n",
       "      <td>None</td>\n",
       "      <td>entrega por internet en el infomex</td>\n",
       "      <td>...</td>\n",
       "      <td>zip</td>\n",
       "      <td>2.0</td>\n",
       "      <td>None</td>\n",
       "      <td>inexistencia de la informacion solicitada</td>\n",
       "      <td>no respondida</td>\n",
       "      <td>no respondida</td>\n",
       "      <td>269</td>\n",
       "      <td>proporcionar magnetico relacion ocupar amparar...</td>\n",
       "      <td>1</td>\n",
       "      <td>143</td>\n",
       "    </tr>\n",
       "    <tr>\n",
       "      <th>3</th>\n",
       "      <td>0000600003712</td>\n",
       "      <td>2012-01-01 10:11:41</td>\n",
       "      <td>secretaria de hacienda y credito publico</td>\n",
       "      <td>terminada</td>\n",
       "      <td>electronica</td>\n",
       "      <td>informacion publica</td>\n",
       "      <td>se me proporcione en magnetico y por este medi...</td>\n",
       "      <td>None</td>\n",
       "      <td>None</td>\n",
       "      <td>entrega por internet en el infomex</td>\n",
       "      <td>...</td>\n",
       "      <td>pdf</td>\n",
       "      <td>1.0</td>\n",
       "      <td>inidos secretaria de hacienda y credito public...</td>\n",
       "      <td>la informacion esta disponible publicamente</td>\n",
       "      <td>satisfactoria</td>\n",
       "      <td>satisfactoria</td>\n",
       "      <td>269</td>\n",
       "      <td>proporcionar magnetico relacion ocupar amparar...</td>\n",
       "      <td>0</td>\n",
       "      <td>143</td>\n",
       "    </tr>\n",
       "    <tr>\n",
       "      <th>4</th>\n",
       "      <td>0001500002812</td>\n",
       "      <td>2012-01-01 10:32:15</td>\n",
       "      <td>secretaria de desarrollo agrario territorial y...</td>\n",
       "      <td>terminada</td>\n",
       "      <td>electronica</td>\n",
       "      <td>informacion publica</td>\n",
       "      <td>se me proporcione en magnetico y por este medi...</td>\n",
       "      <td>None</td>\n",
       "      <td>None</td>\n",
       "      <td>entrega por internet en el infomex</td>\n",
       "      <td>...</td>\n",
       "      <td>zip</td>\n",
       "      <td>4.0</td>\n",
       "      <td>None</td>\n",
       "      <td>sin respuesta</td>\n",
       "      <td>satisfactoria</td>\n",
       "      <td>no respondida</td>\n",
       "      <td>398</td>\n",
       "      <td>proporcionar magnetico relacion ocupar amparar...</td>\n",
       "      <td>1</td>\n",
       "      <td>188</td>\n",
       "    </tr>\n",
       "  </tbody>\n",
       "</table>\n",
       "<p>5 rows × 30 columns</p>\n",
       "</div>"
      ],
      "text/plain": [
       "           folio      fechasolicitud  \\\n",
       "0  1857500001912 2012-01-01 05:04:07   \n",
       "1  1857500002012 2012-01-01 05:13:16   \n",
       "2  0001800000712 2012-01-01 09:46:39   \n",
       "3  0000600003712 2012-01-01 10:11:41   \n",
       "4  0001500002812 2012-01-01 10:32:15   \n",
       "\n",
       "                                         dependencia    estatus medioentrada  \\\n",
       "0                     pemex exploracion y produccion  terminada  electronica   \n",
       "1                     pemex exploracion y produccion  terminada  electronica   \n",
       "2                              secretaria de energia  terminada  electronica   \n",
       "3           secretaria de hacienda y credito publico  terminada  electronica   \n",
       "4  secretaria de desarrollo agrario territorial y...  terminada  electronica   \n",
       "\n",
       "         tiposolicitud                               descripcionsolicitud  \\\n",
       "0  informacion publica  copia de los documentos y los con que cuenta a...   \n",
       "1  informacion publica  del informacion y usados en la de flujo de efe...   \n",
       "2  informacion publica  se me proporcione en magnetico y por este medi...   \n",
       "3  informacion publica  se me proporcione en magnetico y por este medi...   \n",
       "4  informacion publica  se me proporcione en magnetico y por este medi...   \n",
       "\n",
       "  otrosdatos archivoadjuntosolicitud                        medioentrega  ...  \\\n",
       "0       None                    None  entrega por internet en el infomex  ...   \n",
       "1       None                    None  entrega por internet en el infomex  ...   \n",
       "2       None                    None  entrega por internet en el infomex  ...   \n",
       "3       None                    None  entrega por internet en el infomex  ...   \n",
       "4       None                    None  entrega por internet en el infomex  ...   \n",
       "\n",
       "  tipo_archivo_respuesta cantidad_archivos_respuesta  \\\n",
       "0                    pdf                         1.0   \n",
       "1                    pdf                         1.0   \n",
       "2                    zip                         2.0   \n",
       "3                    pdf                         1.0   \n",
       "4                    zip                         4.0   \n",
       "\n",
       "                             texto_respuesta_adjunto  \\\n",
       "0  pemex exploracion y produccion oficio fecha 02...   \n",
       "1  pemex exploracion y produccion oficio fecha 01...   \n",
       "2                                               None   \n",
       "3  inidos secretaria de hacienda y credito public...   \n",
       "4                                               None   \n",
       "\n",
       "                                 respuestareal calidad_respuesta  \\\n",
       "0  entrega de informacion en medio electronico     satisfactoria   \n",
       "1  entrega de informacion en medio electronico     satisfactoria   \n",
       "2    inexistencia de la informacion solicitada     no respondida   \n",
       "3  la informacion esta disponible publicamente     satisfactoria   \n",
       "4                                sin respuesta     satisfactoria   \n",
       "\n",
       "  calidad_respuesta_real solicitud_longitud  \\\n",
       "0          satisfactoria                768   \n",
       "1          satisfactoria                548   \n",
       "2          no respondida                269   \n",
       "3          satisfactoria                269   \n",
       "4          no respondida                398   \n",
       "\n",
       "                          descripcionsolicitud_lemma  \\\n",
       "0  comportamiento historico tipicos comprender es...   \n",
       "1  usar flujo efectivo pozo tipico aguar fria ela...   \n",
       "2  proporcionar magnetico relacion ocupar amparar...   \n",
       "3  proporcionar magnetico relacion ocupar amparar...   \n",
       "4  proporcionar magnetico relacion ocupar amparar...   \n",
       "\n",
       "  codigo_calidad_respuesta_real solicitud_lemma_longitud  \n",
       "0                             0                      424  \n",
       "1                             0                      289  \n",
       "2                             1                      143  \n",
       "3                             0                      143  \n",
       "4                             1                      188  \n",
       "\n",
       "[5 rows x 30 columns]"
      ]
     },
     "execution_count": 10,
     "metadata": {},
     "output_type": "execute_result"
    }
   ],
   "source": [
    "df.head()"
   ]
  },
  {
   "cell_type": "code",
   "execution_count": 11,
   "metadata": {},
   "outputs": [
    {
     "data": {
      "image/png": "[encoded data removed]",
      "text/plain": [
       "<Figure size 921.6x432 with 1 Axes>"
      ]
     },
     "metadata": {},
     "output_type": "display_data"
    }
   ],
   "source": [
    "plt.figure(figsize=(12.8, 6))\n",
    "sns.distplot(df['solicitud_lemma_longitud']).set_title('Distribución de la logitud de las solicitudes lemma');"
   ]
  },
  {
   "cell_type": "code",
   "execution_count": 12,
   "metadata": {},
   "outputs": [
    {
     "data": {
      "text/plain": [
       "count    1.171697e+06\n",
       "mean     2.267662e+02\n",
       "std      2.603016e+02\n",
       "min      0.000000e+00\n",
       "25%      7.700000e+01\n",
       "50%      1.410000e+02\n",
       "75%      2.740000e+02\n",
       "max      3.681000e+03\n",
       "Name: solicitud_lemma_longitud, dtype: float64"
      ]
     },
     "execution_count": 12,
     "metadata": {},
     "output_type": "execute_result"
    }
   ],
   "source": [
    "df['solicitud_lemma_longitud'].describe()"
   ]
  },
  {
   "cell_type": "code",
   "execution_count": 13,
   "metadata": {},
   "outputs": [],
   "source": [
    "filtro = df['solicitud_lemma_longitud'] < 16\n",
    "cases = df[filtro]"
   ]
  },
  {
   "cell_type": "code",
   "execution_count": 14,
   "metadata": {},
   "outputs": [
    {
     "data": {
      "text/plain": [
       "29686"
      ]
     },
     "execution_count": 14,
     "metadata": {},
     "output_type": "execute_result"
    }
   ],
   "source": [
    "len(cases)"
   ]
  },
  {
   "cell_type": "code",
   "execution_count": 15,
   "metadata": {},
   "outputs": [],
   "source": [
    "df_new = df[df['descripcionsolicitud_lemma'].map(len) > 15]"
   ]
  },
  {
   "cell_type": "code",
   "execution_count": 16,
   "metadata": {},
   "outputs": [
    {
     "data": {
      "text/plain": [
       "count    1.142011e+06\n",
       "mean     2.324750e+02\n",
       "std      2.612111e+02\n",
       "min      1.600000e+01\n",
       "25%      8.100000e+01\n",
       "50%      1.450000e+02\n",
       "75%      2.800000e+02\n",
       "max      3.681000e+03\n",
       "Name: solicitud_lemma_longitud, dtype: float64"
      ]
     },
     "execution_count": 16,
     "metadata": {},
     "output_type": "execute_result"
    }
   ],
   "source": [
    "df_new['solicitud_lemma_longitud'].describe()"
   ]
  },
  {
   "cell_type": "code",
   "execution_count": 17,
   "metadata": {},
   "outputs": [
    {
     "data": {
      "image/png": "[encoded data removed]",
      "text/plain": [
       "<Figure size 921.6x432 with 1 Axes>"
      ]
     },
     "metadata": {},
     "output_type": "display_data"
    }
   ],
   "source": [
    "plt.figure(figsize=(12.8, 6))\n",
    "sns.distplot(df_new['solicitud_lemma_longitud']).set_title('Distribución de la logitud de las solicitudes lemma');"
   ]
  },
  {
   "cell_type": "code",
   "execution_count": 18,
   "metadata": {},
   "outputs": [],
   "source": [
    "data = df_new[['descripcionsolicitud_lemma']]\n",
    "data['index'] = data.index\n",
    "docs = data"
   ]
  },
  {
   "cell_type": "code",
   "execution_count": 19,
   "metadata": {},
   "outputs": [
    {
     "data": {
      "text/html": [
       "<div>\n",
       "<style scoped>\n",
       "    .dataframe tbody tr th:only-of-type {\n",
       "        vertical-align: middle;\n",
       "    }\n",
       "\n",
       "    .dataframe tbody tr th {\n",
       "        vertical-align: top;\n",
       "    }\n",
       "\n",
       "    .dataframe thead th {\n",
       "        text-align: right;\n",
       "    }\n",
       "</style>\n",
       "<table border=\"1\" class=\"dataframe\">\n",
       "  <thead>\n",
       "    <tr style=\"text-align: right;\">\n",
       "      <th></th>\n",
       "      <th>descripcionsolicitud_lemma</th>\n",
       "      <th>index</th>\n",
       "    </tr>\n",
       "  </thead>\n",
       "  <tbody>\n",
       "    <tr>\n",
       "      <th>0</th>\n",
       "      <td>comportamiento historico tipicos comprender es...</td>\n",
       "      <td>0</td>\n",
       "    </tr>\n",
       "    <tr>\n",
       "      <th>1</th>\n",
       "      <td>usar flujo efectivo pozo tipico aguar fria ela...</td>\n",
       "      <td>1</td>\n",
       "    </tr>\n",
       "    <tr>\n",
       "      <th>2</th>\n",
       "      <td>proporcionar magnetico relacion ocupar amparar...</td>\n",
       "      <td>2</td>\n",
       "    </tr>\n",
       "    <tr>\n",
       "      <th>3</th>\n",
       "      <td>proporcionar magnetico relacion ocupar amparar...</td>\n",
       "      <td>3</td>\n",
       "    </tr>\n",
       "    <tr>\n",
       "      <th>4</th>\n",
       "      <td>proporcionar magnetico relacion ocupar amparar...</td>\n",
       "      <td>4</td>\n",
       "    </tr>\n",
       "  </tbody>\n",
       "</table>\n",
       "</div>"
      ],
      "text/plain": [
       "                          descripcionsolicitud_lemma  index\n",
       "0  comportamiento historico tipicos comprender es...      0\n",
       "1  usar flujo efectivo pozo tipico aguar fria ela...      1\n",
       "2  proporcionar magnetico relacion ocupar amparar...      2\n",
       "3  proporcionar magnetico relacion ocupar amparar...      3\n",
       "4  proporcionar magnetico relacion ocupar amparar...      4"
      ]
     },
     "execution_count": 19,
     "metadata": {},
     "output_type": "execute_result"
    }
   ],
   "source": [
    "docs.head()"
   ]
  },
  {
   "cell_type": "code",
   "execution_count": 20,
   "metadata": {},
   "outputs": [],
   "source": [
    "import spacy\n",
    "import nltk\n",
    "from nltk import SnowballStemmer"
   ]
  },
  {
   "cell_type": "code",
   "execution_count": 21,
   "metadata": {},
   "outputs": [],
   "source": [
    "nlp = spacy.load('es_core_news_sm')"
   ]
  },
  {
   "cell_type": "code",
   "execution_count": 22,
   "metadata": {},
   "outputs": [],
   "source": [
    "def ProcesarTexto(texto):\n",
    "    \n",
    "    doc = nlp(texto)\n",
    "    words = [t.text for t in doc]\n",
    "    \n",
    "    return words"
   ]
  },
  {
   "cell_type": "code",
   "execution_count": 23,
   "metadata": {},
   "outputs": [],
   "source": [
    "import multiprocessing\n",
    "from multiprocessing.dummy import Pool as ThreadPool"
   ]
  },
  {
   "cell_type": "code",
   "execution_count": 24,
   "metadata": {},
   "outputs": [
    {
     "data": {
      "text/plain": [
       "12"
      ]
     },
     "execution_count": 24,
     "metadata": {},
     "output_type": "execute_result"
    }
   ],
   "source": [
    "cores = multiprocessing.cpu_count()\n",
    "pool = ThreadPool(cores)\n",
    "cores"
   ]
  },
  {
   "cell_type": "code",
   "execution_count": 25,
   "metadata": {},
   "outputs": [],
   "source": [
    "processed_docs = pool.map(ProcesarTexto, docs['descripcionsolicitud_lemma'])\n",
    "pool.close()"
   ]
  },
  {
   "cell_type": "code",
   "execution_count": 26,
   "metadata": {},
   "outputs": [],
   "source": [
    "import gensim"
   ]
  },
  {
   "cell_type": "code",
   "execution_count": 27,
   "metadata": {},
   "outputs": [],
   "source": [
    "dictionary = gensim.corpora.Dictionary(processed_docs)"
   ]
  },
  {
   "cell_type": "code",
   "execution_count": 28,
   "metadata": {},
   "outputs": [],
   "source": [
    "dictionary.filter_extremes(no_below=15, no_above=0.5, keep_n=100000)"
   ]
  },
  {
   "cell_type": "code",
   "execution_count": 29,
   "metadata": {},
   "outputs": [],
   "source": [
    "bow_corpus = [dictionary.doc2bow(doc) for doc in processed_docs]"
   ]
  },
  {
   "cell_type": "code",
   "execution_count": 30,
   "metadata": {},
   "outputs": [],
   "source": [
    "from gensim import corpora, models\n",
    "from pprint import pprint"
   ]
  },
  {
   "cell_type": "code",
   "execution_count": 31,
   "metadata": {},
   "outputs": [],
   "source": [
    "tfidf = models.TfidfModel(bow_corpus)\n",
    "corpus_tfidf = tfidf[bow_corpus]"
   ]
  },
  {
   "cell_type": "markdown",
   "metadata": {},
   "source": [
    "## 5 tópicos TF-IDF"
   ]
  },
  {
   "cell_type": "code",
   "execution_count": 32,
   "metadata": {},
   "outputs": [],
   "source": [
    "lda_model_tfidf_5 = gensim.models.LdaMulticore(corpus_tfidf, \n",
    "                                            num_topics=5,\n",
    "                                            id2word=dictionary,\n",
    "                                            passes=2,\n",
    "                                            workers=cores)"
   ]
  },
  {
   "cell_type": "code",
   "execution_count": 33,
   "metadata": {},
   "outputs": [
    {
     "name": "stdout",
     "output_type": "stream",
     "text": [
      "Topic: 0 Word: 0.004*\"montar\" + 0.004*\"federal\" + 0.004*\"concesion\" + 0.003*\"presupuestar\" + 0.003*\"desglosar\" + 0.003*\"partir\" + 0.003*\"publicar\" + 0.003*\"municipio\" + 0.003*\"informar\" + 0.003*\"federacion\"\n",
      "Topic: 1 Word: 0.011*\"sanitario\" + 0.008*\"tramitar\" + 0.006*\"amparar\" + 0.006*\"cofepris\" + 0.006*\"tribunal\" + 0.006*\"federal\" + 0.005*\"comision\" + 0.005*\"juicio\" + 0.004*\"colegiar\" + 0.004*\"permiso\"\n",
      "Topic: 2 Word: 0.006*\"servidor\" + 0.004*\"publicar\" + 0.004*\"secretario\" + 0.004*\"laborar\" + 0.003*\"director\" + 0.003*\"informar\" + 0.003*\"soldar\" + 0.003*\"requerir\" + 0.003*\"casar\" + 0.003*\"profesional\"\n",
      "Topic: 3 Word: 0.021*\"medicamento\" + 0.017*\"medicar\" + 0.011*\"licitacion\" + 0.008*\"adquirir\" + 0.008*\"hospital\" + 0.008*\"adjudicacion\" + 0.007*\"recetar\" + 0.007*\"paciente\" + 0.007*\"proveedor\" + 0.007*\"articular\"\n",
      "Topic: 4 Word: 0.006*\"presupuestar\" + 0.006*\"trabajador\" + 0.006*\"municipio\" + 0.006*\"educacion\" + 0.004*\"desglosar\" + 0.004*\"escuela\" + 0.004*\"nivel\" + 0.004*\"seguro\" + 0.004*\"delegacion\" + 0.004*\"instituto\"\n"
     ]
    }
   ],
   "source": [
    "for idx, topic in lda_model_tfidf_5.print_topics(-1):\n",
    "    print('Topic: {} Word: {}'.format(idx, topic))"
   ]
  },
  {
   "cell_type": "code",
   "execution_count": 34,
   "metadata": {},
   "outputs": [
    {
     "data": {
      "text/plain": [
       "'institucion explicar procedimiento instalar cafeterias plantel maquinar cafe refresco producto industrializar convenio formalizar instalacion citar centro ganancia institucion plantel dejar consentir talar formar mercantil negociar autoridad consentimiento destinar'"
      ]
     },
     "execution_count": 34,
     "metadata": {},
     "output_type": "execute_result"
    }
   ],
   "source": [
    "texto = docs[docs['index'] == 4310].values[0][0]\n",
    "texto"
   ]
  },
  {
   "cell_type": "code",
   "execution_count": 35,
   "metadata": {},
   "outputs": [
    {
     "name": "stdout",
     "output_type": "stream",
     "text": [
      "\n",
      "Score: 0.863035261631012\t \n",
      "Topic: 0.004*\"montar\" + 0.004*\"federal\" + 0.004*\"concesion\" + 0.003*\"presupuestar\" + 0.003*\"desglosar\".\n",
      "\n",
      "Score: 0.0347917340695858\t \n",
      "Topic: 0.006*\"presupuestar\" + 0.006*\"trabajador\" + 0.006*\"municipio\" + 0.006*\"educacion\" + 0.004*\"desglosar\".\n",
      "\n",
      "Score: 0.03406837582588196\t \n",
      "Topic: 0.006*\"servidor\" + 0.004*\"publicar\" + 0.004*\"secretario\" + 0.004*\"laborar\" + 0.003*\"director\".\n",
      "\n",
      "Score: 0.03406349942088127\t \n",
      "Topic: 0.021*\"medicamento\" + 0.017*\"medicar\" + 0.011*\"licitacion\" + 0.008*\"adquirir\" + 0.008*\"hospital\".\n",
      "\n",
      "Score: 0.03404110297560692\t \n",
      "Topic: 0.011*\"sanitario\" + 0.008*\"tramitar\" + 0.006*\"amparar\" + 0.006*\"cofepris\" + 0.006*\"tribunal\".\n"
     ]
    }
   ],
   "source": [
    "for index, score in sorted(lda_model_tfidf_5[bow_corpus[4310]],\n",
    "                          key=lambda tup: -1*tup[1]):\n",
    "    print(\"\\nScore: {}\\t \\nTopic: {}.\".format(score,\n",
    "                                             lda_model_tfidf_5.print_topic(index, 5)))"
   ]
  },
  {
   "cell_type": "markdown",
   "metadata": {},
   "source": [
    "## 10 tópicos TF-IDF"
   ]
  },
  {
   "cell_type": "code",
   "execution_count": 36,
   "metadata": {},
   "outputs": [],
   "source": [
    "lda_model_tfidf_10 = gensim.models.LdaMulticore(corpus_tfidf, \n",
    "                                            num_topics=10,\n",
    "                                            id2word=dictionary,\n",
    "                                            passes=2,\n",
    "                                            workers=cores)"
   ]
  },
  {
   "cell_type": "code",
   "execution_count": 37,
   "metadata": {},
   "outputs": [
    {
     "name": "stdout",
     "output_type": "stream",
     "text": [
      "Topic: 0 Word: 0.007*\"trabajador\" + 0.006*\"laborar\" + 0.005*\"montar\" + 0.005*\"sindicato\" + 0.005*\"secretario\" + 0.005*\"mensual\" + 0.005*\"salariar\" + 0.004*\"informar\" + 0.004*\"director\" + 0.004*\"diputar\"\n",
      "Topic: 1 Word: 0.013*\"licitacion\" + 0.010*\"empresa\" + 0.008*\"adquisicion\" + 0.007*\"anexo\" + 0.007*\"acta\" + 0.007*\"procedimiento\" + 0.007*\"contratacion\" + 0.007*\"condonar\" + 0.006*\"montar\" + 0.006*\"convenio\"\n",
      "Topic: 2 Word: 0.008*\"padron\" + 0.008*\"municipio\" + 0.008*\"tipo\" + 0.006*\"desglosar\" + 0.006*\"montar\" + 0.006*\"servidor\" + 0.005*\"delito\" + 0.005*\"publicar\" + 0.005*\"periodo\" + 0.004*\"sociedad\"\n",
      "Topic: 3 Word: 0.011*\"tribunal\" + 0.011*\"amparar\" + 0.009*\"juicio\" + 0.009*\"colegiar\" + 0.006*\"dictar\" + 0.006*\"federal\" + 0.006*\"distrito\" + 0.005*\"penal\" + 0.005*\"resolucion\" + 0.005*\"servidor\"\n",
      "Topic: 4 Word: 0.035*\"sanitario\" + 0.021*\"cofepris\" + 0.021*\"tramitar\" + 0.010*\"comision\" + 0.009*\"ingresar\" + 0.008*\"registro\" + 0.008*\"sustanciar\" + 0.008*\"evidenciar\" + 0.008*\"consignar\" + 0.007*\"denominacion\"\n",
      "Topic: 5 Word: 0.008*\"concesion\" + 0.005*\"presupuestar\" + 0.005*\"municipio\" + 0.004*\"titulos\" + 0.004*\"ambiental\" + 0.004*\"aguar\" + 0.004*\"obrar\" + 0.004*\"proyecto\" + 0.004*\"construccion\" + 0.004*\"gastar\"\n",
      "Topic: 6 Word: 0.006*\"documentar\" + 0.006*\"articular\" + 0.005*\"publicar\" + 0.005*\"fundamentar\" + 0.005*\"proporcionar\" + 0.004*\"direccion\" + 0.004*\"oficiar\" + 0.004*\"salud\" + 0.004*\"secretario\" + 0.004*\"consejo\"\n",
      "Topic: 7 Word: 0.005*\"gracia\" + 0.005*\"quedar\" + 0.005*\"valioso\" + 0.005*\"municipio\" + 0.005*\"ordenar\" + 0.004*\"escuela\" + 0.004*\"federal\" + 0.004*\"corresponder\" + 0.004*\"auditorio\" + 0.003*\"california\"\n",
      "Topic: 8 Word: 0.012*\"presupuestar\" + 0.009*\"seguro\" + 0.007*\"instituto\" + 0.007*\"salud\" + 0.006*\"hospital\" + 0.006*\"medicos\" + 0.006*\"imss\" + 0.006*\"social\" + 0.005*\"medicar\" + 0.005*\"pensionar\"\n",
      "Topic: 9 Word: 0.039*\"medicamento\" + 0.032*\"medicar\" + 0.016*\"recetar\" + 0.015*\"paciente\" + 0.014*\"hospital\" + 0.013*\"pieza\" + 0.011*\"basico\" + 0.011*\"cuadrar\" + 0.008*\"facturar\" + 0.007*\"nivel\"\n"
     ]
    }
   ],
   "source": [
    "for idx, topic in lda_model_tfidf_10.print_topics(-1):\n",
    "    print('Topic: {} Word: {}'.format(idx, topic))"
   ]
  },
  {
   "cell_type": "code",
   "execution_count": 38,
   "metadata": {},
   "outputs": [
    {
     "data": {
      "text/plain": [
       "'institucion explicar procedimiento instalar cafeterias plantel maquinar cafe refresco producto industrializar convenio formalizar instalacion citar centro ganancia institucion plantel dejar consentir talar formar mercantil negociar autoridad consentimiento destinar'"
      ]
     },
     "execution_count": 38,
     "metadata": {},
     "output_type": "execute_result"
    }
   ],
   "source": [
    "texto = docs[docs['index'] == 4310].values[0][0]\n",
    "texto"
   ]
  },
  {
   "cell_type": "code",
   "execution_count": 39,
   "metadata": {},
   "outputs": [
    {
     "name": "stdout",
     "output_type": "stream",
     "text": [
      "\n",
      "Score: 0.8499323129653931\t \n",
      "Topic: 0.008*\"padron\" + 0.008*\"municipio\" + 0.008*\"tipo\" + 0.006*\"desglosar\" + 0.006*\"montar\" + 0.006*\"servidor\" + 0.005*\"delito\" + 0.005*\"publicar\" + 0.005*\"periodo\" + 0.004*\"sociedad\".\n",
      "\n",
      "Score: 0.016679689288139343\t \n",
      "Topic: 0.006*\"documentar\" + 0.006*\"articular\" + 0.005*\"publicar\" + 0.005*\"fundamentar\" + 0.005*\"proporcionar\" + 0.004*\"direccion\" + 0.004*\"oficiar\" + 0.004*\"salud\" + 0.004*\"secretario\" + 0.004*\"consejo\".\n",
      "\n",
      "Score: 0.016674766317009926\t \n",
      "Topic: 0.012*\"presupuestar\" + 0.009*\"seguro\" + 0.007*\"instituto\" + 0.007*\"salud\" + 0.006*\"hospital\" + 0.006*\"medicos\" + 0.006*\"imss\" + 0.006*\"social\" + 0.005*\"medicar\" + 0.005*\"pensionar\".\n",
      "\n",
      "Score: 0.016674641519784927\t \n",
      "Topic: 0.039*\"medicamento\" + 0.032*\"medicar\" + 0.016*\"recetar\" + 0.015*\"paciente\" + 0.014*\"hospital\" + 0.013*\"pieza\" + 0.011*\"basico\" + 0.011*\"cuadrar\" + 0.008*\"facturar\" + 0.007*\"nivel\".\n",
      "\n",
      "Score: 0.016674481332302094\t \n",
      "Topic: 0.005*\"gracia\" + 0.005*\"quedar\" + 0.005*\"valioso\" + 0.005*\"municipio\" + 0.005*\"ordenar\" + 0.004*\"escuela\" + 0.004*\"federal\" + 0.004*\"corresponder\" + 0.004*\"auditorio\" + 0.003*\"california\".\n",
      "\n",
      "Score: 0.016673412173986435\t \n",
      "Topic: 0.035*\"sanitario\" + 0.021*\"cofepris\" + 0.021*\"tramitar\" + 0.010*\"comision\" + 0.009*\"ingresar\" + 0.008*\"registro\" + 0.008*\"sustanciar\" + 0.008*\"evidenciar\" + 0.008*\"consignar\" + 0.007*\"denominacion\".\n",
      "\n",
      "Score: 0.016673201695084572\t \n",
      "Topic: 0.008*\"concesion\" + 0.005*\"presupuestar\" + 0.005*\"municipio\" + 0.004*\"titulos\" + 0.004*\"ambiental\" + 0.004*\"aguar\" + 0.004*\"obrar\" + 0.004*\"proyecto\" + 0.004*\"construccion\" + 0.004*\"gastar\".\n",
      "\n",
      "Score: 0.016673162579536438\t \n",
      "Topic: 0.007*\"trabajador\" + 0.006*\"laborar\" + 0.005*\"montar\" + 0.005*\"sindicato\" + 0.005*\"secretario\" + 0.005*\"mensual\" + 0.005*\"salariar\" + 0.004*\"informar\" + 0.004*\"director\" + 0.004*\"diputar\".\n",
      "\n",
      "Score: 0.016672290861606598\t \n",
      "Topic: 0.011*\"tribunal\" + 0.011*\"amparar\" + 0.009*\"juicio\" + 0.009*\"colegiar\" + 0.006*\"dictar\" + 0.006*\"federal\" + 0.006*\"distrito\" + 0.005*\"penal\" + 0.005*\"resolucion\" + 0.005*\"servidor\".\n",
      "\n",
      "Score: 0.016672037541866302\t \n",
      "Topic: 0.013*\"licitacion\" + 0.010*\"empresa\" + 0.008*\"adquisicion\" + 0.007*\"anexo\" + 0.007*\"acta\" + 0.007*\"procedimiento\" + 0.007*\"contratacion\" + 0.007*\"condonar\" + 0.006*\"montar\" + 0.006*\"convenio\".\n"
     ]
    }
   ],
   "source": [
    "for index, score in sorted(lda_model_tfidf_10[bow_corpus[4310]],\n",
    "                          key=lambda tup: -1*tup[1]):\n",
    "    print(\"\\nScore: {}\\t \\nTopic: {}.\".format(score,\n",
    "                                             lda_model_tfidf_10.print_topic(index, 10)))"
   ]
  },
  {
   "cell_type": "markdown",
   "metadata": {},
   "source": [
    "## 20 tópicos TF-IDF"
   ]
  },
  {
   "cell_type": "code",
   "execution_count": 40,
   "metadata": {},
   "outputs": [],
   "source": [
    "lda_model_tfidf_20 = gensim.models.LdaMulticore(corpus_tfidf, \n",
    "                                            num_topics=20,\n",
    "                                            id2word=dictionary,\n",
    "                                            passes=2,\n",
    "                                            workers=cores)"
   ]
  },
  {
   "cell_type": "code",
   "execution_count": 41,
   "metadata": {},
   "outputs": [
    {
     "name": "stdout",
     "output_type": "stream",
     "text": [
      "Topic: 0 Word: 0.009*\"sociedad\" + 0.008*\"montar\" + 0.008*\"periodo\" + 0.007*\"prestador\" + 0.007*\"premio\" + 0.007*\"aplicar\" + 0.007*\"tipo\" + 0.006*\"comprender\" + 0.006*\"essa\" + 0.005*\"cepillo\"\n",
      "Topic: 1 Word: 0.010*\"delito\" + 0.007*\"mujer\" + 0.005*\"desglosar\" + 0.005*\"victimar\" + 0.005*\"denunciar\" + 0.005*\"violencia\" + 0.005*\"federal\" + 0.005*\"caso\" + 0.004*\"tipo\" + 0.004*\"discapacidad\"\n",
      "Topic: 2 Word: 0.011*\"informatica\" + 0.009*\"montar\" + 0.009*\"adquisicion\" + 0.009*\"bien\" + 0.008*\"inmueble\" + 0.008*\"rentar\" + 0.007*\"preguntar\" + 0.007*\"empresa\" + 0.007*\"dentilab\" + 0.006*\"proveedor\"\n",
      "Topic: 3 Word: 0.010*\"investigacion\" + 0.009*\"protocolar\" + 0.006*\"fumigacion\" + 0.005*\"control\" + 0.005*\"curso\" + 0.005*\"informar\" + 0.004*\"capacitacion\" + 0.004*\"desechar\" + 0.004*\"protocolo\" + 0.004*\"aprobar\"\n",
      "Topic: 4 Word: 0.016*\"electoral\" + 0.013*\"partir\" + 0.007*\"politico\" + 0.006*\"candidato\" + 0.005*\"politicos\" + 0.005*\"electronicas\" + 0.005*\"digital\" + 0.005*\"facturar\" + 0.005*\"elección\" + 0.004*\"comprobante\"\n",
      "Topic: 5 Word: 0.014*\"padron\" + 0.009*\"presupuestar\" + 0.007*\"universidad\" + 0.006*\"procampo\" + 0.006*\"viaticos\" + 0.006*\"viaje\" + 0.006*\"gastar\" + 0.005*\"extranjero\" + 0.005*\"viajar\" + 0.005*\"facturar\"\n",
      "Topic: 6 Word: 0.012*\"concesion\" + 0.009*\"municipio\" + 0.009*\"ambiental\" + 0.007*\"zona\" + 0.007*\"aguar\" + 0.007*\"titulos\" + 0.006*\"impactar\" + 0.006*\"ambientar\" + 0.006*\"permiso\" + 0.006*\"ubicar\"\n",
      "Topic: 7 Word: 0.012*\"partir\" + 0.011*\"adquirir\" + 0.010*\"presupuestar\" + 0.010*\"presupuestal\" + 0.009*\"gastar\" + 0.007*\"articular\" + 0.007*\"energia\" + 0.007*\"nava\" + 0.006*\"montar\" + 0.006*\"informar\"\n",
      "Topic: 8 Word: 0.008*\"federacion\" + 0.008*\"oficial\" + 0.007*\"manual\" + 0.007*\"publicar\" + 0.007*\"servidor\" + 0.007*\"diario\" + 0.006*\"requerir\" + 0.006*\"obligar\" + 0.005*\"federal\" + 0.005*\"administracion\"\n",
      "Topic: 9 Word: 0.048*\"medicar\" + 0.042*\"medicamento\" + 0.034*\"recetar\" + 0.031*\"paciente\" + 0.012*\"hospitalizacion\" + 0.012*\"nivel\" + 0.011*\"farmacia\" + 0.011*\"controlar\" + 0.011*\"prescribir\" + 0.011*\"matricular\"\n",
      "Topic: 10 Word: 0.007*\"financiero\" + 0.006*\"educacion\" + 0.006*\"auditorio\" + 0.006*\"secretario\" + 0.006*\"firmar\" + 0.006*\"fondo\" + 0.006*\"avanzar\" + 0.006*\"credito\" + 0.006*\"desarrollar\" + 0.005*\"fideicomiso\"\n",
      "Topic: 11 Word: 0.021*\"soldar\" + 0.017*\"remuneracion\" + 0.017*\"mensual\" + 0.017*\"servidor\" + 0.015*\"neto\" + 0.015*\"bruto\" + 0.014*\"prestación\" + 0.014*\"salariar\" + 0.013*\"honorario\" + 0.012*\"nominar\"\n",
      "Topic: 12 Word: 0.023*\"salud\" + 0.011*\"condonar\" + 0.011*\"consignar\" + 0.011*\"evidenciar\" + 0.010*\"imss\" + 0.010*\"masculino\" + 0.009*\"insumo\" + 0.009*\"oficiar\" + 0.008*\"secretario\" + 0.008*\"naturaleza\"\n",
      "Topic: 13 Word: 0.036*\"medicamento\" + 0.016*\"pieza\" + 0.013*\"licitacion\" + 0.013*\"adjudicacion\" + 0.013*\"preciar\" + 0.012*\"cuadrar\" + 0.012*\"basico\" + 0.012*\"medicar\" + 0.012*\"invitacion\" + 0.011*\"facturar\"\n",
      "Topic: 14 Word: 0.013*\"valioso\" + 0.012*\"quedar\" + 0.011*\"ordenar\" + 0.011*\"denunciar\" + 0.010*\"corresponder\" + 0.009*\"quejar\" + 0.009*\"gracia\" + 0.007*\"acosar\" + 0.007*\"telecomunicación\" + 0.007*\"sancionar\"\n",
      "Topic: 15 Word: 0.017*\"acta\" + 0.014*\"licitacion\" + 0.013*\"procedimiento\" + 0.012*\"anexo\" + 0.012*\"empresa\" + 0.011*\"fallir\" + 0.010*\"contratacion\" + 0.009*\"convenio\" + 0.008*\"convocatorio\" + 0.008*\"fraccion\"\n",
      "Topic: 16 Word: 0.057*\"sanitario\" + 0.035*\"cofepris\" + 0.032*\"tramitar\" + 0.015*\"comision\" + 0.014*\"registro\" + 0.014*\"ingresar\" + 0.013*\"sustanciar\" + 0.011*\"permiso\" + 0.010*\"denominacion\" + 0.010*\"solicitante\"\n",
      "Topic: 17 Word: 0.013*\"hospital\" + 0.011*\"trabajador\" + 0.010*\"sindicato\" + 0.009*\"medicar\" + 0.009*\"especialidad\" + 0.009*\"imss\" + 0.008*\"seguro\" + 0.008*\"aeropuerto\" + 0.007*\"medicos\" + 0.007*\"tratamiento\"\n",
      "Topic: 18 Word: 0.015*\"tribunal\" + 0.015*\"amparar\" + 0.013*\"colegiar\" + 0.012*\"juicio\" + 0.007*\"dictar\" + 0.006*\"distrito\" + 0.006*\"juzgar\" + 0.006*\"director\" + 0.005*\"magistrado\" + 0.005*\"revision\"\n",
      "Topic: 19 Word: 0.010*\"escuela\" + 0.007*\"becar\" + 0.007*\"educacion\" + 0.006*\"escolar\" + 0.006*\"anexar\" + 0.006*\"pensionar\" + 0.006*\"renunciar\" + 0.006*\"nivel\" + 0.005*\"trabajador\" + 0.005*\"primario\"\n"
     ]
    }
   ],
   "source": [
    "for idx, topic in lda_model_tfidf_20.print_topics(-1):\n",
    "    print('Topic: {} Word: {}'.format(idx, topic))"
   ]
  },
  {
   "cell_type": "code",
   "execution_count": 42,
   "metadata": {},
   "outputs": [
    {
     "data": {
      "text/plain": [
       "'institucion explicar procedimiento instalar cafeterias plantel maquinar cafe refresco producto industrializar convenio formalizar instalacion citar centro ganancia institucion plantel dejar consentir talar formar mercantil negociar autoridad consentimiento destinar'"
      ]
     },
     "execution_count": 42,
     "metadata": {},
     "output_type": "execute_result"
    }
   ],
   "source": [
    "texto = docs[docs['index'] == 4310].values[0][0]\n",
    "texto"
   ]
  },
  {
   "cell_type": "code",
   "execution_count": 43,
   "metadata": {},
   "outputs": [
    {
     "name": "stdout",
     "output_type": "stream",
     "text": [
      "\n",
      "Score: 0.8416386246681213\t \n",
      "Topic: 0.010*\"delito\" + 0.007*\"mujer\" + 0.005*\"desglosar\" + 0.005*\"victimar\" + 0.005*\"denunciar\" + 0.005*\"violencia\" + 0.005*\"federal\" + 0.005*\"caso\" + 0.004*\"tipo\" + 0.004*\"discapacidad\" + 0.004*\"elemento\" + 0.004*\"informar\" + 0.004*\"municipio\" + 0.004*\"detenido\" + 0.004*\"migrante\" + 0.003*\"generar\" + 0.003*\"atender\" + 0.003*\"robar\" + 0.003*\"penal\" + 0.003*\"periodo\".\n"
     ]
    }
   ],
   "source": [
    "for index, score in sorted(lda_model_tfidf_20[bow_corpus[4310]],\n",
    "                          key=lambda tup: -1*tup[1]):\n",
    "    print(\"\\nScore: {}\\t \\nTopic: {}.\".format(score,\n",
    "                                             lda_model_tfidf_20.print_topic(index, 20)))"
   ]
  },
  {
   "cell_type": "markdown",
   "metadata": {},
   "source": [
    "## Guardamos en S3"
   ]
  },
  {
   "cell_type": "code",
   "execution_count": null,
   "metadata": {},
   "outputs": [],
   "source": [
    "bucket='inai-summerofdata'\n",
    "key='modeling/LDA/2/df.pkl'\n",
    "pickle_byte_obj = pickle.dumps(df_new)\n",
    "s3_resource = boto3.resource('s3')\n",
    "s3_resource.Object(bucket, key).put(Body=pickle_byte_obj)"
   ]
  },
  {
   "cell_type": "code",
   "execution_count": null,
   "metadata": {},
   "outputs": [],
   "source": [
    "bucket='inai-summerofdata'\n",
    "key='modeling/LDA/2/processed_docs.pkl'\n",
    "pickle_byte_obj = pickle.dumps(processed_docs)\n",
    "s3_resource = boto3.resource('s3')\n",
    "s3_resource.Object(bucket, key).put(Body=pickle_byte_obj)"
   ]
  },
  {
   "cell_type": "code",
   "execution_count": null,
   "metadata": {},
   "outputs": [],
   "source": [
    "bucket='inai-summerofdata'\n",
    "key='modeling/LDA/2/lda_model_tfidf_5.pkl'\n",
    "pickle_byte_obj = pickle.dumps(lda_model_tfidf_5)\n",
    "s3_resource = boto3.resource('s3')\n",
    "s3_resource.Object(bucket, key).put(Body=pickle_byte_obj)"
   ]
  },
  {
   "cell_type": "code",
   "execution_count": null,
   "metadata": {},
   "outputs": [],
   "source": [
    "bucket='inai-summerofdata'\n",
    "key='modeling/LDA/2/lda_model_tfidf_10.pkl'\n",
    "pickle_byte_obj = pickle.dumps(lda_model_tfidf_10)\n",
    "s3_resource = boto3.resource('s3')\n",
    "s3_resource.Object(bucket, key).put(Body=pickle_byte_obj)"
   ]
  },
  {
   "cell_type": "code",
   "execution_count": null,
   "metadata": {},
   "outputs": [],
   "source": [
    "bucket='inai-summerofdata'\n",
    "key='modeling/LDA/2/lda_model_tfidf_20.pkl'\n",
    "pickle_byte_obj = pickle.dumps(lda_model_tfidf_20)\n",
    "s3_resource = boto3.resource('s3')\n",
    "s3_resource.Object(bucket, key).put(Body=pickle_byte_obj)"
   ]
  }
 ],
 "metadata": {
  "kernelspec": {
   "display_name": "Python 3",
   "language": "python",
   "name": "python3"
  },
  "language_info": {
   "codemirror_mode": {
    "name": "ipython",
    "version": 3
   },
   "file_extension": ".py",
   "mimetype": "text/x-python",
   "name": "python",
   "nbconvert_exporter": "python",
   "pygments_lexer": "ipython3",
   "version": "3.7.3"
  }
 },
 "nbformat": 4,
 "nbformat_minor": 4
}
