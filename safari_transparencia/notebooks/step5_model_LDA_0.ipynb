{
 "cells": [
  {
   "cell_type": "code",
   "execution_count": 1,
   "metadata": {},
   "outputs": [],
   "source": [
    "import os, sys\n",
    "sys.path.insert(0, os.path.abspath(\"..\"))"
   ]
  },
  {
   "cell_type": "code",
   "execution_count": 2,
   "metadata": {},
   "outputs": [],
   "source": [
    "import pandas as pd"
   ]
  },
  {
   "cell_type": "markdown",
   "metadata": {},
   "source": [
    "## Importamos la información"
   ]
  },
  {
   "cell_type": "code",
   "execution_count": 3,
   "metadata": {},
   "outputs": [],
   "source": [
    "path = 's3://inai-summerofdata/mlpreproc/inai.parquet'\n",
    "df = pd.read_parquet(path, engine='pyarrow')\n",
    "pd.options.display.max_columns = None"
   ]
  },
  {
   "cell_type": "code",
   "execution_count": 4,
   "metadata": {},
   "outputs": [
    {
     "data": {
      "text/html": [
       "<div>\n",
       "<style scoped>\n",
       "    .dataframe tbody tr th:only-of-type {\n",
       "        vertical-align: middle;\n",
       "    }\n",
       "\n",
       "    .dataframe tbody tr th {\n",
       "        vertical-align: top;\n",
       "    }\n",
       "\n",
       "    .dataframe thead th {\n",
       "        text-align: right;\n",
       "    }\n",
       "</style>\n",
       "<table border=\"1\" class=\"dataframe\">\n",
       "  <thead>\n",
       "    <tr style=\"text-align: right;\">\n",
       "      <th></th>\n",
       "      <th>folio</th>\n",
       "      <th>fechasolicitud</th>\n",
       "      <th>dependencia</th>\n",
       "      <th>estatus</th>\n",
       "      <th>medioentrada</th>\n",
       "      <th>tiposolicitud</th>\n",
       "      <th>descripcionsolicitud</th>\n",
       "      <th>otrosdatos</th>\n",
       "      <th>archivoadjuntosolicitud</th>\n",
       "      <th>medioentrega</th>\n",
       "      <th>fechalimite</th>\n",
       "      <th>respuesta</th>\n",
       "      <th>textorespuesta</th>\n",
       "      <th>archivorespuesta</th>\n",
       "      <th>fecharespuesta</th>\n",
       "      <th>pais</th>\n",
       "      <th>estado</th>\n",
       "      <th>municipio</th>\n",
       "      <th>codigopostal</th>\n",
       "      <th>sector</th>\n",
       "      <th>tipo_archivo_respuesta</th>\n",
       "      <th>cantidad_archivos_respuesta</th>\n",
       "      <th>texto_respuesta_adjunto</th>\n",
       "      <th>respuestareal</th>\n",
       "    </tr>\n",
       "  </thead>\n",
       "  <tbody>\n",
       "    <tr>\n",
       "      <th>0</th>\n",
       "      <td>1857500001912</td>\n",
       "      <td>2012-01-01 05:04:07</td>\n",
       "      <td>pemex exploracion y produccion</td>\n",
       "      <td>terminada</td>\n",
       "      <td>electronica</td>\n",
       "      <td>informacion publica</td>\n",
       "      <td>copia de los documentos y los con que cuenta a...</td>\n",
       "      <td>None</td>\n",
       "      <td>None</td>\n",
       "      <td>entrega por internet en el infomex</td>\n",
       "      <td>2012-03-02</td>\n",
       "      <td>entrega de informacion en medio electronico</td>\n",
       "      <td>se anexa archivo con la respuesta a la informa...</td>\n",
       "      <td>https://www.infomex.org.mx/gobiernofederal/mod...</td>\n",
       "      <td>2012-03-02</td>\n",
       "      <td>mexico</td>\n",
       "      <td>distrito federal</td>\n",
       "      <td>benito juarez</td>\n",
       "      <td>3100</td>\n",
       "      <td>energia</td>\n",
       "      <td>pdf</td>\n",
       "      <td>1.0</td>\n",
       "      <td>pemex exploracion y produccion oficio fecha 02...</td>\n",
       "      <td>entrega de informacion en medio electronico</td>\n",
       "    </tr>\n",
       "    <tr>\n",
       "      <th>1</th>\n",
       "      <td>1857500002012</td>\n",
       "      <td>2012-01-01 05:13:16</td>\n",
       "      <td>pemex exploracion y produccion</td>\n",
       "      <td>terminada</td>\n",
       "      <td>electronica</td>\n",
       "      <td>informacion publica</td>\n",
       "      <td>del informacion y usados en la de flujo de efe...</td>\n",
       "      <td>None</td>\n",
       "      <td>None</td>\n",
       "      <td>entrega por internet en el infomex</td>\n",
       "      <td>2012-03-02</td>\n",
       "      <td>entrega de informacion en medio electronico</td>\n",
       "      <td>se anexa archivo con la respuesta a la informa...</td>\n",
       "      <td>https://www.infomex.org.mx/gobiernofederal/mod...</td>\n",
       "      <td>2012-03-02</td>\n",
       "      <td>mexico</td>\n",
       "      <td>distrito federal</td>\n",
       "      <td>benito juarez</td>\n",
       "      <td>3100</td>\n",
       "      <td>energia</td>\n",
       "      <td>pdf</td>\n",
       "      <td>1.0</td>\n",
       "      <td>pemex exploracion y produccion oficio fecha 01...</td>\n",
       "      <td>entrega de informacion en medio electronico</td>\n",
       "    </tr>\n",
       "    <tr>\n",
       "      <th>2</th>\n",
       "      <td>0001800000712</td>\n",
       "      <td>2012-01-01 09:46:39</td>\n",
       "      <td>secretaria de energia</td>\n",
       "      <td>terminada</td>\n",
       "      <td>electronica</td>\n",
       "      <td>informacion publica</td>\n",
       "      <td>se me proporcione en magnetico y por este medi...</td>\n",
       "      <td>None</td>\n",
       "      <td>None</td>\n",
       "      <td>entrega por internet en el infomex</td>\n",
       "      <td>2012-02-02</td>\n",
       "      <td>inexistencia de la informacion solicitada</td>\n",
       "      <td>el asunto se turno a la direccion general de r...</td>\n",
       "      <td>https://www.infomex.org.mx/gobiernofederal/mod...</td>\n",
       "      <td>2012-02-02</td>\n",
       "      <td>mexico</td>\n",
       "      <td>distrito federal</td>\n",
       "      <td>miguel hidalgo</td>\n",
       "      <td>11230</td>\n",
       "      <td>energia</td>\n",
       "      <td>zip</td>\n",
       "      <td>2.0</td>\n",
       "      <td>None</td>\n",
       "      <td>inexistencia de la informacion solicitada</td>\n",
       "    </tr>\n",
       "    <tr>\n",
       "      <th>3</th>\n",
       "      <td>0000600003712</td>\n",
       "      <td>2012-01-01 10:11:41</td>\n",
       "      <td>secretaria de hacienda y credito publico</td>\n",
       "      <td>terminada</td>\n",
       "      <td>electronica</td>\n",
       "      <td>informacion publica</td>\n",
       "      <td>se me proporcione en magnetico y por este medi...</td>\n",
       "      <td>None</td>\n",
       "      <td>None</td>\n",
       "      <td>entrega por internet en el infomex</td>\n",
       "      <td>2012-02-02</td>\n",
       "      <td>la informacion esta disponible publicamente</td>\n",
       "      <td>direcci&amp;oacute;n de internet en donde se encue...</td>\n",
       "      <td>https://www.infomex.org.mx/gobiernofederal/mod...</td>\n",
       "      <td>2012-02-02</td>\n",
       "      <td>mexico</td>\n",
       "      <td>distrito federal</td>\n",
       "      <td>miguel hidalgo</td>\n",
       "      <td>11230</td>\n",
       "      <td>hacienda y credito publico</td>\n",
       "      <td>pdf</td>\n",
       "      <td>1.0</td>\n",
       "      <td>inidos secretaria de hacienda y credito public...</td>\n",
       "      <td>la informacion esta disponible publicamente</td>\n",
       "    </tr>\n",
       "    <tr>\n",
       "      <th>4</th>\n",
       "      <td>0001500002812</td>\n",
       "      <td>2012-01-01 10:32:15</td>\n",
       "      <td>secretaria de desarrollo agrario territorial y...</td>\n",
       "      <td>terminada</td>\n",
       "      <td>electronica</td>\n",
       "      <td>informacion publica</td>\n",
       "      <td>se me proporcione en magnetico y por este medi...</td>\n",
       "      <td>None</td>\n",
       "      <td>None</td>\n",
       "      <td>entrega por internet en el infomex</td>\n",
       "      <td>2012-02-02</td>\n",
       "      <td>entrega de informacion en medio electronico</td>\n",
       "      <td>None</td>\n",
       "      <td>https://www.infomex.org.mx/gobiernofederal/mod...</td>\n",
       "      <td>2012-02-01</td>\n",
       "      <td>mexico</td>\n",
       "      <td>distrito federal</td>\n",
       "      <td>miguel hidalgo</td>\n",
       "      <td>11230</td>\n",
       "      <td>reforma agraria</td>\n",
       "      <td>zip</td>\n",
       "      <td>4.0</td>\n",
       "      <td>None</td>\n",
       "      <td>sin respuesta</td>\n",
       "    </tr>\n",
       "  </tbody>\n",
       "</table>\n",
       "</div>"
      ],
      "text/plain": [
       "           folio      fechasolicitud  \\\n",
       "0  1857500001912 2012-01-01 05:04:07   \n",
       "1  1857500002012 2012-01-01 05:13:16   \n",
       "2  0001800000712 2012-01-01 09:46:39   \n",
       "3  0000600003712 2012-01-01 10:11:41   \n",
       "4  0001500002812 2012-01-01 10:32:15   \n",
       "\n",
       "                                         dependencia    estatus medioentrada  \\\n",
       "0                     pemex exploracion y produccion  terminada  electronica   \n",
       "1                     pemex exploracion y produccion  terminada  electronica   \n",
       "2                              secretaria de energia  terminada  electronica   \n",
       "3           secretaria de hacienda y credito publico  terminada  electronica   \n",
       "4  secretaria de desarrollo agrario territorial y...  terminada  electronica   \n",
       "\n",
       "         tiposolicitud                               descripcionsolicitud  \\\n",
       "0  informacion publica  copia de los documentos y los con que cuenta a...   \n",
       "1  informacion publica  del informacion y usados en la de flujo de efe...   \n",
       "2  informacion publica  se me proporcione en magnetico y por este medi...   \n",
       "3  informacion publica  se me proporcione en magnetico y por este medi...   \n",
       "4  informacion publica  se me proporcione en magnetico y por este medi...   \n",
       "\n",
       "  otrosdatos archivoadjuntosolicitud                        medioentrega  \\\n",
       "0       None                    None  entrega por internet en el infomex   \n",
       "1       None                    None  entrega por internet en el infomex   \n",
       "2       None                    None  entrega por internet en el infomex   \n",
       "3       None                    None  entrega por internet en el infomex   \n",
       "4       None                    None  entrega por internet en el infomex   \n",
       "\n",
       "  fechalimite                                    respuesta  \\\n",
       "0  2012-03-02  entrega de informacion en medio electronico   \n",
       "1  2012-03-02  entrega de informacion en medio electronico   \n",
       "2  2012-02-02    inexistencia de la informacion solicitada   \n",
       "3  2012-02-02  la informacion esta disponible publicamente   \n",
       "4  2012-02-02  entrega de informacion en medio electronico   \n",
       "\n",
       "                                      textorespuesta  \\\n",
       "0  se anexa archivo con la respuesta a la informa...   \n",
       "1  se anexa archivo con la respuesta a la informa...   \n",
       "2  el asunto se turno a la direccion general de r...   \n",
       "3  direcci&oacute;n de internet en donde se encue...   \n",
       "4                                               None   \n",
       "\n",
       "                                    archivorespuesta fecharespuesta    pais  \\\n",
       "0  https://www.infomex.org.mx/gobiernofederal/mod...     2012-03-02  mexico   \n",
       "1  https://www.infomex.org.mx/gobiernofederal/mod...     2012-03-02  mexico   \n",
       "2  https://www.infomex.org.mx/gobiernofederal/mod...     2012-02-02  mexico   \n",
       "3  https://www.infomex.org.mx/gobiernofederal/mod...     2012-02-02  mexico   \n",
       "4  https://www.infomex.org.mx/gobiernofederal/mod...     2012-02-01  mexico   \n",
       "\n",
       "             estado       municipio codigopostal                      sector  \\\n",
       "0  distrito federal   benito juarez         3100                     energia   \n",
       "1  distrito federal   benito juarez         3100                     energia   \n",
       "2  distrito federal  miguel hidalgo        11230                     energia   \n",
       "3  distrito federal  miguel hidalgo        11230  hacienda y credito publico   \n",
       "4  distrito federal  miguel hidalgo        11230             reforma agraria   \n",
       "\n",
       "  tipo_archivo_respuesta  cantidad_archivos_respuesta  \\\n",
       "0                    pdf                          1.0   \n",
       "1                    pdf                          1.0   \n",
       "2                    zip                          2.0   \n",
       "3                    pdf                          1.0   \n",
       "4                    zip                          4.0   \n",
       "\n",
       "                             texto_respuesta_adjunto  \\\n",
       "0  pemex exploracion y produccion oficio fecha 02...   \n",
       "1  pemex exploracion y produccion oficio fecha 01...   \n",
       "2                                               None   \n",
       "3  inidos secretaria de hacienda y credito public...   \n",
       "4                                               None   \n",
       "\n",
       "                                 respuestareal  \n",
       "0  entrega de informacion en medio electronico  \n",
       "1  entrega de informacion en medio electronico  \n",
       "2    inexistencia de la informacion solicitada  \n",
       "3  la informacion esta disponible publicamente  \n",
       "4                                sin respuesta  "
      ]
     },
     "execution_count": 4,
     "metadata": {},
     "output_type": "execute_result"
    }
   ],
   "source": [
    "df.head()"
   ]
  },
  {
   "cell_type": "markdown",
   "metadata": {},
   "source": [
    "## Implementación LDA"
   ]
  },
  {
   "cell_type": "markdown",
   "metadata": {},
   "source": [
    "Extracción de tópicos para textos libres de solicitudes."
   ]
  },
  {
   "cell_type": "markdown",
   "metadata": {},
   "source": [
    "Nos quedaremos con la columna descripcionsolictud de nuestro dataframe."
   ]
  },
  {
   "cell_type": "code",
   "execution_count": 5,
   "metadata": {},
   "outputs": [
    {
     "name": "stderr",
     "output_type": "stream",
     "text": [
      "/Library/Frameworks/Python.framework/Versions/3.7/lib/python3.7/site-packages/ipykernel_launcher.py:2: SettingWithCopyWarning: \n",
      "A value is trying to be set on a copy of a slice from a DataFrame.\n",
      "Try using .loc[row_indexer,col_indexer] = value instead\n",
      "\n",
      "See the caveats in the documentation: https://pandas.pydata.org/pandas-docs/stable/user_guide/indexing.html#returning-a-view-versus-a-copy\n",
      "  \n"
     ]
    }
   ],
   "source": [
    "data = df[['descripcionsolicitud']]\n",
    "data['index'] = data.index\n",
    "docs = data"
   ]
  },
  {
   "cell_type": "code",
   "execution_count": 6,
   "metadata": {},
   "outputs": [
    {
     "data": {
      "text/plain": [
       "1559012"
      ]
     },
     "execution_count": 6,
     "metadata": {},
     "output_type": "execute_result"
    }
   ],
   "source": [
    "len(docs)"
   ]
  },
  {
   "cell_type": "code",
   "execution_count": 7,
   "metadata": {},
   "outputs": [
    {
     "data": {
      "text/html": [
       "<div>\n",
       "<style scoped>\n",
       "    .dataframe tbody tr th:only-of-type {\n",
       "        vertical-align: middle;\n",
       "    }\n",
       "\n",
       "    .dataframe tbody tr th {\n",
       "        vertical-align: top;\n",
       "    }\n",
       "\n",
       "    .dataframe thead th {\n",
       "        text-align: right;\n",
       "    }\n",
       "</style>\n",
       "<table border=\"1\" class=\"dataframe\">\n",
       "  <thead>\n",
       "    <tr style=\"text-align: right;\">\n",
       "      <th></th>\n",
       "      <th>descripcionsolicitud</th>\n",
       "      <th>index</th>\n",
       "    </tr>\n",
       "  </thead>\n",
       "  <tbody>\n",
       "    <tr>\n",
       "      <th>0</th>\n",
       "      <td>copia de los documentos y los con que cuenta a...</td>\n",
       "      <td>0</td>\n",
       "    </tr>\n",
       "    <tr>\n",
       "      <th>1</th>\n",
       "      <td>del informacion y usados en la de flujo de efe...</td>\n",
       "      <td>1</td>\n",
       "    </tr>\n",
       "    <tr>\n",
       "      <th>2</th>\n",
       "      <td>se me proporcione en magnetico y por este medi...</td>\n",
       "      <td>2</td>\n",
       "    </tr>\n",
       "    <tr>\n",
       "      <th>3</th>\n",
       "      <td>se me proporcione en magnetico y por este medi...</td>\n",
       "      <td>3</td>\n",
       "    </tr>\n",
       "    <tr>\n",
       "      <th>4</th>\n",
       "      <td>se me proporcione en magnetico y por este medi...</td>\n",
       "      <td>4</td>\n",
       "    </tr>\n",
       "  </tbody>\n",
       "</table>\n",
       "</div>"
      ],
      "text/plain": [
       "                                descripcionsolicitud  index\n",
       "0  copia de los documentos y los con que cuenta a...      0\n",
       "1  del informacion y usados en la de flujo de efe...      1\n",
       "2  se me proporcione en magnetico y por este medi...      2\n",
       "3  se me proporcione en magnetico y por este medi...      3\n",
       "4  se me proporcione en magnetico y por este medi...      4"
      ]
     },
     "execution_count": 7,
     "metadata": {},
     "output_type": "execute_result"
    }
   ],
   "source": [
    "docs.head()"
   ]
  },
  {
   "cell_type": "code",
   "execution_count": 8,
   "metadata": {},
   "outputs": [
    {
     "data": {
      "text/plain": [
       "'a esta institucion solicito sea explicado el procedimiento el cual se instalaron cafeterias en los planteles al igual que maquinas de cafe refrescos y otros productos industrializados. tambien solicito copia de los contratos convenios a de los se formaliza instalacion en los citados centros . ganancias que a la institucion (mes por en uno de los planteles) deja el haber consentido la instalacion-operacion-funcionamiento de tales formas mercantiles. con fueron negociadas y que autoridades dieron consentimiento? y cual el destino de esos recursos?'"
      ]
     },
     "execution_count": 8,
     "metadata": {},
     "output_type": "execute_result"
    }
   ],
   "source": [
    "texto = docs[docs['index'] == 4310].values[0][0]\n",
    "texto"
   ]
  },
  {
   "cell_type": "markdown",
   "metadata": {},
   "source": [
    "### Pre-Procesamiento de la data"
   ]
  },
  {
   "cell_type": "markdown",
   "metadata": {},
   "source": [
    "#### Tokenización"
   ]
  },
  {
   "cell_type": "code",
   "execution_count": 8,
   "metadata": {},
   "outputs": [],
   "source": [
    "import spacy\n",
    "nlp = spacy.load('es_core_news_sm')"
   ]
  },
  {
   "cell_type": "code",
   "execution_count": 9,
   "metadata": {},
   "outputs": [
    {
     "data": {
      "text/plain": [
       "'a esta institucion solicito sea explicado el procedimiento el cual se instalaron cafeterias en los planteles al igual que maquinas de cafe refrescos y otros productos industrializados. tambien solicito copia de los contratos convenios a de los se formaliza instalacion en los citados centros . ganancias que a la institucion (mes por en uno de los planteles) deja el haber consentido la instalacion-operacion-funcionamiento de tales formas mercantiles. con fueron negociadas y que autoridades dieron consentimiento? y cual el destino de esos recursos?'"
      ]
     },
     "execution_count": 9,
     "metadata": {},
     "output_type": "execute_result"
    }
   ],
   "source": [
    "texto = docs[docs['index'] == 4310].values[0][0]\n",
    "texto"
   ]
  },
  {
   "cell_type": "code",
   "execution_count": 11,
   "metadata": {},
   "outputs": [
    {
     "data": {
      "text/plain": [
       "a esta institucion solicito sea explicado el procedimiento el cual se instalaron cafeterias en los planteles al igual que maquinas de cafe refrescos y otros productos industrializados. tambien solicito copia de los contratos convenios a de los se formaliza instalacion en los citados centros . ganancias que a la institucion (mes por en uno de los planteles) deja el haber consentido la instalacion-operacion-funcionamiento de tales formas mercantiles. con fueron negociadas y que autoridades dieron consentimiento? y cual el destino de esos recursos?"
      ]
     },
     "execution_count": 11,
     "metadata": {},
     "output_type": "execute_result"
    }
   ],
   "source": [
    "doc = nlp(texto)\n",
    "doc"
   ]
  },
  {
   "cell_type": "code",
   "execution_count": 12,
   "metadata": {},
   "outputs": [
    {
     "data": {
      "text/plain": [
       "['a',\n",
       " 'esta',\n",
       " 'institucion',\n",
       " 'solicito',\n",
       " 'sea',\n",
       " 'explicado',\n",
       " 'el',\n",
       " 'procedimiento',\n",
       " 'el',\n",
       " 'cual',\n",
       " 'se',\n",
       " 'instalaron',\n",
       " 'cafeterias',\n",
       " 'en',\n",
       " 'los',\n",
       " 'planteles',\n",
       " 'al',\n",
       " 'igual',\n",
       " 'que',\n",
       " 'maquinas',\n",
       " 'de',\n",
       " 'cafe',\n",
       " 'refrescos',\n",
       " 'y',\n",
       " 'otros',\n",
       " 'productos',\n",
       " 'industrializados',\n",
       " '.',\n",
       " 'tambien',\n",
       " 'solicito',\n",
       " 'copia',\n",
       " 'de',\n",
       " 'los',\n",
       " 'contratos',\n",
       " 'convenios',\n",
       " 'a',\n",
       " 'de',\n",
       " 'los',\n",
       " 'se',\n",
       " 'formaliza',\n",
       " 'instalacion',\n",
       " 'en',\n",
       " 'los',\n",
       " 'citados',\n",
       " 'centros',\n",
       " '.',\n",
       " 'ganancias',\n",
       " 'que',\n",
       " 'a',\n",
       " 'la',\n",
       " 'institucion',\n",
       " '(',\n",
       " 'mes',\n",
       " 'por',\n",
       " 'en',\n",
       " 'uno',\n",
       " 'de',\n",
       " 'los',\n",
       " 'planteles',\n",
       " ')',\n",
       " 'deja',\n",
       " 'el',\n",
       " 'haber',\n",
       " 'consentido',\n",
       " 'la',\n",
       " 'instalacion-operacion-funcionamiento',\n",
       " 'de',\n",
       " 'tales',\n",
       " 'formas',\n",
       " 'mercantiles',\n",
       " '.',\n",
       " 'con',\n",
       " 'fueron',\n",
       " 'negociadas',\n",
       " 'y',\n",
       " 'que',\n",
       " 'autoridades',\n",
       " 'dieron',\n",
       " 'consentimiento',\n",
       " '?',\n",
       " 'y',\n",
       " 'cual',\n",
       " 'el',\n",
       " 'destino',\n",
       " 'de',\n",
       " 'esos',\n",
       " 'recursos',\n",
       " '?']"
      ]
     },
     "execution_count": 12,
     "metadata": {},
     "output_type": "execute_result"
    }
   ],
   "source": [
    "tokens = [t.orth_ for t in doc]\n",
    "tokens"
   ]
  },
  {
   "cell_type": "markdown",
   "metadata": {},
   "source": [
    "#### Limpieza del texto - tokenización"
   ]
  },
  {
   "cell_type": "code",
   "execution_count": 13,
   "metadata": {},
   "outputs": [],
   "source": [
    "import spacy\n",
    "nlp = spacy.load('es_core_news_sm')"
   ]
  },
  {
   "cell_type": "code",
   "execution_count": 14,
   "metadata": {},
   "outputs": [
    {
     "data": {
      "text/plain": [
       "'a esta institucion solicito sea explicado el procedimiento el cual se instalaron cafeterias en los planteles al igual que maquinas de cafe refrescos y otros productos industrializados. tambien solicito copia de los contratos convenios a de los se formaliza instalacion en los citados centros . ganancias que a la institucion (mes por en uno de los planteles) deja el haber consentido la instalacion-operacion-funcionamiento de tales formas mercantiles. con fueron negociadas y que autoridades dieron consentimiento? y cual el destino de esos recursos?'"
      ]
     },
     "execution_count": 14,
     "metadata": {},
     "output_type": "execute_result"
    }
   ],
   "source": [
    "texto = docs[docs['index'] == 4310].values[0][0]\n",
    "texto"
   ]
  },
  {
   "cell_type": "code",
   "execution_count": 15,
   "metadata": {},
   "outputs": [
    {
     "data": {
      "text/plain": [
       "a esta institucion solicito sea explicado el procedimiento el cual se instalaron cafeterias en los planteles al igual que maquinas de cafe refrescos y otros productos industrializados. tambien solicito copia de los contratos convenios a de los se formaliza instalacion en los citados centros . ganancias que a la institucion (mes por en uno de los planteles) deja el haber consentido la instalacion-operacion-funcionamiento de tales formas mercantiles. con fueron negociadas y que autoridades dieron consentimiento? y cual el destino de esos recursos?"
      ]
     },
     "execution_count": 15,
     "metadata": {},
     "output_type": "execute_result"
    }
   ],
   "source": [
    "doc = nlp(texto)\n",
    "doc"
   ]
  },
  {
   "cell_type": "markdown",
   "metadata": {},
   "source": [
    "Quitamos puntos y stopwords."
   ]
  },
  {
   "cell_type": "code",
   "execution_count": 16,
   "metadata": {},
   "outputs": [
    {
     "data": {
      "text/plain": [
       "['a',\n",
       " 'institucion',\n",
       " 'solicito',\n",
       " 'explicado',\n",
       " 'procedimiento',\n",
       " 'instalaron',\n",
       " 'cafeterias',\n",
       " 'planteles',\n",
       " 'maquinas',\n",
       " 'cafe',\n",
       " 'refrescos',\n",
       " 'y',\n",
       " 'productos',\n",
       " 'industrializados',\n",
       " 'solicito',\n",
       " 'copia',\n",
       " 'contratos',\n",
       " 'convenios',\n",
       " 'a',\n",
       " 'formaliza',\n",
       " 'instalacion',\n",
       " 'citados',\n",
       " 'centros',\n",
       " 'ganancias',\n",
       " 'a',\n",
       " 'institucion',\n",
       " 'mes',\n",
       " 'planteles',\n",
       " 'deja',\n",
       " 'consentido',\n",
       " 'instalacion-operacion-funcionamiento',\n",
       " 'tales',\n",
       " 'formas',\n",
       " 'mercantiles',\n",
       " 'negociadas',\n",
       " 'y',\n",
       " 'autoridades',\n",
       " 'consentimiento',\n",
       " 'y',\n",
       " 'destino',\n",
       " 'recursos']"
      ]
     },
     "execution_count": 16,
     "metadata": {},
     "output_type": "execute_result"
    }
   ],
   "source": [
    "lexical_tokens = [t.orth_ for t in doc if not t.is_punct | t.is_stop]\n",
    "lexical_tokens"
   ]
  },
  {
   "cell_type": "markdown",
   "metadata": {},
   "source": [
    "#### Normalizar texto"
   ]
  },
  {
   "cell_type": "code",
   "execution_count": 17,
   "metadata": {},
   "outputs": [
    {
     "data": {
      "text/plain": [
       "['institucion',\n",
       " 'solicito',\n",
       " 'explicado',\n",
       " 'procedimiento',\n",
       " 'instalaron',\n",
       " 'cafeterias',\n",
       " 'planteles',\n",
       " 'maquinas',\n",
       " 'cafe',\n",
       " 'refrescos',\n",
       " 'productos',\n",
       " 'industrializados',\n",
       " 'solicito',\n",
       " 'copia',\n",
       " 'contratos',\n",
       " 'convenios',\n",
       " 'formaliza',\n",
       " 'instalacion',\n",
       " 'citados',\n",
       " 'centros',\n",
       " 'ganancias',\n",
       " 'institucion',\n",
       " 'planteles',\n",
       " 'deja',\n",
       " 'consentido',\n",
       " 'tales',\n",
       " 'formas',\n",
       " 'mercantiles',\n",
       " 'negociadas',\n",
       " 'autoridades',\n",
       " 'consentimiento',\n",
       " 'destino',\n",
       " 'recursos']"
      ]
     },
     "execution_count": 17,
     "metadata": {},
     "output_type": "execute_result"
    }
   ],
   "source": [
    "words = [t.lower() for t in lexical_tokens if len(t) > 3 and t.isalpha()]\n",
    "words"
   ]
  },
  {
   "cell_type": "markdown",
   "metadata": {},
   "source": [
    "### Creamos una función con que haga todo lo anterior - Tokenización (Normalizar texto)"
   ]
  },
  {
   "cell_type": "code",
   "execution_count": 18,
   "metadata": {},
   "outputs": [],
   "source": [
    "def NormalizarTexto(texto):\n",
    "    doc = nlp(texto)\n",
    "    words = [t.orth_ for t in doc if not t.is_punct | t.is_stop]\n",
    "    lexical_tokens = [t.lower() for t in words if len(t) > 3 and t.isalpha()]\n",
    "    \n",
    "    return lexical_tokens"
   ]
  },
  {
   "cell_type": "code",
   "execution_count": 19,
   "metadata": {},
   "outputs": [
    {
     "data": {
      "text/plain": [
       "['institucion',\n",
       " 'solicito',\n",
       " 'explicado',\n",
       " 'procedimiento',\n",
       " 'instalaron',\n",
       " 'cafeterias',\n",
       " 'planteles',\n",
       " 'maquinas',\n",
       " 'cafe',\n",
       " 'refrescos',\n",
       " 'productos',\n",
       " 'industrializados',\n",
       " 'solicito',\n",
       " 'copia',\n",
       " 'contratos',\n",
       " 'convenios',\n",
       " 'formaliza',\n",
       " 'instalacion',\n",
       " 'citados',\n",
       " 'centros',\n",
       " 'ganancias',\n",
       " 'institucion',\n",
       " 'planteles',\n",
       " 'deja',\n",
       " 'consentido',\n",
       " 'tales',\n",
       " 'formas',\n",
       " 'mercantiles',\n",
       " 'negociadas',\n",
       " 'autoridades',\n",
       " 'consentimiento',\n",
       " 'destino',\n",
       " 'recursos']"
      ]
     },
     "execution_count": 19,
     "metadata": {},
     "output_type": "execute_result"
    }
   ],
   "source": [
    "word_list = NormalizarTexto(texto)\n",
    "word_list"
   ]
  },
  {
   "cell_type": "markdown",
   "metadata": {},
   "source": [
    "#### Lematización"
   ]
  },
  {
   "cell_type": "code",
   "execution_count": 20,
   "metadata": {},
   "outputs": [],
   "source": [
    "import spacy\n",
    "nlp = spacy.load('es_core_news_sm')"
   ]
  },
  {
   "cell_type": "code",
   "execution_count": 21,
   "metadata": {},
   "outputs": [
    {
     "data": {
      "text/plain": [
       "a esta institucion solicito sea explicado el procedimiento el cual se instalaron cafeterias en los planteles al igual que maquinas de cafe refrescos y otros productos industrializados. tambien solicito copia de los contratos convenios a de los se formaliza instalacion en los citados centros . ganancias que a la institucion (mes por en uno de los planteles) deja el haber consentido la instalacion-operacion-funcionamiento de tales formas mercantiles. con fueron negociadas y que autoridades dieron consentimiento? y cual el destino de esos recursos?"
      ]
     },
     "execution_count": 21,
     "metadata": {},
     "output_type": "execute_result"
    }
   ],
   "source": [
    "doc = nlp(texto)\n",
    "doc"
   ]
  },
  {
   "cell_type": "code",
   "execution_count": 22,
   "metadata": {},
   "outputs": [
    {
     "data": {
      "text/plain": [
       "['a',\n",
       " 'este',\n",
       " 'institucion',\n",
       " 'solicitar',\n",
       " 'ser',\n",
       " 'explicar',\n",
       " 'el',\n",
       " 'procedimiento',\n",
       " 'el',\n",
       " 'cual',\n",
       " 'se',\n",
       " 'instalar',\n",
       " 'cafeterias',\n",
       " 'en',\n",
       " 'lo',\n",
       " 'plantel',\n",
       " 'al',\n",
       " 'igual',\n",
       " 'que',\n",
       " 'maquinar',\n",
       " 'de',\n",
       " 'cafe',\n",
       " 'refresco',\n",
       " 'y',\n",
       " 'otro',\n",
       " 'producto',\n",
       " 'industrializar',\n",
       " '.',\n",
       " 'tambien',\n",
       " 'solicitar',\n",
       " 'copiar',\n",
       " 'de',\n",
       " 'lo',\n",
       " 'contrato',\n",
       " 'convenio',\n",
       " 'a',\n",
       " 'de',\n",
       " 'lo',\n",
       " 'se',\n",
       " 'formalizar',\n",
       " 'instalacion',\n",
       " 'en',\n",
       " 'lo',\n",
       " 'citar',\n",
       " 'centro',\n",
       " '.',\n",
       " 'ganancia',\n",
       " 'que',\n",
       " 'a',\n",
       " 'lo',\n",
       " 'institucion',\n",
       " '(',\n",
       " 'mes',\n",
       " 'por',\n",
       " 'en',\n",
       " 'unir',\n",
       " 'de',\n",
       " 'lo',\n",
       " 'plantel',\n",
       " ')',\n",
       " 'dejar',\n",
       " 'el',\n",
       " 'haber',\n",
       " 'consentir',\n",
       " 'lo',\n",
       " 'instalacion-operacion-funcionamiento',\n",
       " 'de',\n",
       " 'talar',\n",
       " 'formar',\n",
       " 'mercantil',\n",
       " '.',\n",
       " 'con',\n",
       " 'ser',\n",
       " 'negociar',\n",
       " 'y',\n",
       " 'que',\n",
       " 'autoridad',\n",
       " 'dar',\n",
       " 'consentimiento',\n",
       " '?',\n",
       " 'y',\n",
       " 'cual',\n",
       " 'el',\n",
       " 'destinar',\n",
       " 'de',\n",
       " 'ese',\n",
       " 'recurso',\n",
       " '?']"
      ]
     },
     "execution_count": 22,
     "metadata": {},
     "output_type": "execute_result"
    }
   ],
   "source": [
    "lemmas = [tok.lemma_.lower() for tok in doc]\n",
    "lemmas"
   ]
  },
  {
   "cell_type": "code",
   "execution_count": 23,
   "metadata": {},
   "outputs": [
    {
     "data": {
      "text/plain": [
       "['a',\n",
       " 'este',\n",
       " 'institucion',\n",
       " 'solicitar',\n",
       " 'ser',\n",
       " 'explicar',\n",
       " 'el',\n",
       " 'procedimiento',\n",
       " 'el',\n",
       " 'instalar',\n",
       " 'cafeterias',\n",
       " 'en',\n",
       " 'lo',\n",
       " 'plantel',\n",
       " 'al',\n",
       " 'igual',\n",
       " 'que',\n",
       " 'maquinar',\n",
       " 'de',\n",
       " 'cafe',\n",
       " 'refresco',\n",
       " 'y',\n",
       " 'otro',\n",
       " 'producto',\n",
       " 'industrializar',\n",
       " '.',\n",
       " 'tambien',\n",
       " 'solicitar',\n",
       " 'copiar',\n",
       " 'de',\n",
       " 'lo',\n",
       " 'contrato',\n",
       " 'convenio',\n",
       " 'a',\n",
       " 'de',\n",
       " 'lo',\n",
       " 'formalizar',\n",
       " 'instalacion',\n",
       " 'en',\n",
       " 'lo',\n",
       " 'citar',\n",
       " 'centro',\n",
       " '.',\n",
       " 'ganancia',\n",
       " 'que',\n",
       " 'a',\n",
       " 'lo',\n",
       " 'institucion',\n",
       " '(',\n",
       " 'mes',\n",
       " 'por',\n",
       " 'en',\n",
       " 'de',\n",
       " 'lo',\n",
       " 'plantel',\n",
       " ')',\n",
       " 'dejar',\n",
       " 'el',\n",
       " 'haber',\n",
       " 'consentir',\n",
       " 'lo',\n",
       " 'instalacion-operacion-funcionamiento',\n",
       " 'de',\n",
       " 'talar',\n",
       " 'formar',\n",
       " 'mercantil',\n",
       " '.',\n",
       " 'con',\n",
       " 'ser',\n",
       " 'negociar',\n",
       " 'y',\n",
       " 'que',\n",
       " 'autoridad',\n",
       " 'dar',\n",
       " 'consentimiento',\n",
       " '?',\n",
       " 'y',\n",
       " 'el',\n",
       " 'destinar',\n",
       " 'de',\n",
       " 'ese',\n",
       " 'recurso',\n",
       " '?']"
      ]
     },
     "execution_count": 23,
     "metadata": {},
     "output_type": "execute_result"
    }
   ],
   "source": [
    "lemmas_no_pron = [tok.lemma_.lower() for tok in doc if tok.pos_ != 'PRON']\n",
    "lemmas_no_pron"
   ]
  },
  {
   "cell_type": "markdown",
   "metadata": {},
   "source": [
    "### Radicalizacion (stemming) -- Obtener raíces"
   ]
  },
  {
   "cell_type": "code",
   "execution_count": 24,
   "metadata": {},
   "outputs": [],
   "source": [
    "import nltk\n",
    "from nltk import SnowballStemmer"
   ]
  },
  {
   "cell_type": "code",
   "execution_count": 25,
   "metadata": {},
   "outputs": [],
   "source": [
    "spanishstemmer = SnowballStemmer('spanish')"
   ]
  },
  {
   "cell_type": "markdown",
   "metadata": {},
   "source": [
    "**tokenizamos**"
   ]
  },
  {
   "cell_type": "code",
   "execution_count": 26,
   "metadata": {},
   "outputs": [
    {
     "data": {
      "text/plain": [
       "['institucion',\n",
       " 'solicito',\n",
       " 'explicado',\n",
       " 'procedimiento',\n",
       " 'instalaron',\n",
       " 'cafeterias',\n",
       " 'planteles',\n",
       " 'maquinas',\n",
       " 'cafe',\n",
       " 'refrescos',\n",
       " 'productos',\n",
       " 'industrializados',\n",
       " 'solicito',\n",
       " 'copia',\n",
       " 'contratos',\n",
       " 'convenios',\n",
       " 'formaliza',\n",
       " 'instalacion',\n",
       " 'citados',\n",
       " 'centros',\n",
       " 'ganancias',\n",
       " 'institucion',\n",
       " 'planteles',\n",
       " 'deja',\n",
       " 'consentido',\n",
       " 'tales',\n",
       " 'formas',\n",
       " 'mercantiles',\n",
       " 'negociadas',\n",
       " 'autoridades',\n",
       " 'consentimiento',\n",
       " 'destino',\n",
       " 'recursos']"
      ]
     },
     "execution_count": 26,
     "metadata": {},
     "output_type": "execute_result"
    }
   ],
   "source": [
    "tokens = NormalizarTexto(texto)\n",
    "tokens"
   ]
  },
  {
   "cell_type": "markdown",
   "metadata": {},
   "source": [
    "**steemming**"
   ]
  },
  {
   "cell_type": "code",
   "execution_count": 27,
   "metadata": {},
   "outputs": [
    {
     "data": {
      "text/plain": [
       "['institucion',\n",
       " 'solicit',\n",
       " 'explic',\n",
       " 'proced',\n",
       " 'instal',\n",
       " 'cafeteri',\n",
       " 'plantel',\n",
       " 'maquin',\n",
       " 'caf',\n",
       " 'refresc',\n",
       " 'product',\n",
       " 'industrializ',\n",
       " 'solicit',\n",
       " 'copi',\n",
       " 'contrat',\n",
       " 'conveni',\n",
       " 'formaliz',\n",
       " 'instalacion',\n",
       " 'cit',\n",
       " 'centr',\n",
       " 'gananci',\n",
       " 'institucion',\n",
       " 'plantel',\n",
       " 'dej',\n",
       " 'consent',\n",
       " 'tal',\n",
       " 'form',\n",
       " 'mercantil',\n",
       " 'negoci',\n",
       " 'autor',\n",
       " 'consent',\n",
       " 'destin',\n",
       " 'recurs']"
      ]
     },
     "execution_count": 27,
     "metadata": {},
     "output_type": "execute_result"
    }
   ],
   "source": [
    "stems = [spanishstemmer.stem(token) for token in tokens]\n",
    "stems"
   ]
  },
  {
   "cell_type": "markdown",
   "metadata": {},
   "source": [
    "# Creamos una función para tokenizar, normalizar y radicalizar"
   ]
  },
  {
   "cell_type": "code",
   "execution_count": null,
   "metadata": {},
   "outputs": [],
   "source": [
    "import spacy\n",
    "import nltk\n",
    "from nltk import SnowballStemmer"
   ]
  },
  {
   "cell_type": "code",
   "execution_count": null,
   "metadata": {},
   "outputs": [],
   "source": [
    "nlp = spacy.load('es_core_news_sm')\n",
    "spanishstemmer = SnowballStemmer('spanish')"
   ]
  },
  {
   "cell_type": "code",
   "execution_count": 92,
   "metadata": {},
   "outputs": [],
   "source": [
    "def RadicalizarTexto(texto):\n",
    "    \n",
    "    doc = nlp(texto)\n",
    "    words = [t.orth_ for t in doc if not t.is_punct | t.is_stop]\n",
    "    lexical_tokens = [t.lower() for t in words if len(t) > 3 and t.isalpha()]\n",
    "    \n",
    "    stems = [spanishstemmer.stem(token) for token in lexical_tokens]\n",
    "    \n",
    "    return stems"
   ]
  },
  {
   "cell_type": "markdown",
   "metadata": {},
   "source": [
    "**Ejemplo**"
   ]
  },
  {
   "cell_type": "code",
   "execution_count": 31,
   "metadata": {},
   "outputs": [
    {
     "data": {
      "text/plain": [
       "'a esta institucion solicito sea explicado el procedimiento el cual se instalaron cafeterias en los planteles al igual que maquinas de cafe refrescos y otros productos industrializados. tambien solicito copia de los contratos convenios a de los se formaliza instalacion en los citados centros . ganancias que a la institucion (mes por en uno de los planteles) deja el haber consentido la instalacion-operacion-funcionamiento de tales formas mercantiles. con fueron negociadas y que autoridades dieron consentimiento? y cual el destino de esos recursos?'"
      ]
     },
     "execution_count": 31,
     "metadata": {},
     "output_type": "execute_result"
    }
   ],
   "source": [
    "doc_sample = docs[docs['index'] == 4310].values[0][0]\n",
    "doc_sample"
   ]
  },
  {
   "cell_type": "code",
   "execution_count": 94,
   "metadata": {},
   "outputs": [
    {
     "data": {
      "text/plain": [
       "['institucion',\n",
       " 'solicit',\n",
       " 'explic',\n",
       " 'proced',\n",
       " 'instal',\n",
       " 'cafeteri',\n",
       " 'plantel',\n",
       " 'maquin',\n",
       " 'caf',\n",
       " 'refresc',\n",
       " 'product',\n",
       " 'industrializ',\n",
       " 'solicit',\n",
       " 'copi',\n",
       " 'contrat',\n",
       " 'conveni',\n",
       " 'formaliz',\n",
       " 'instalacion',\n",
       " 'cit',\n",
       " 'centr',\n",
       " 'gananci',\n",
       " 'institucion',\n",
       " 'plantel',\n",
       " 'dej',\n",
       " 'consent',\n",
       " 'tal',\n",
       " 'form',\n",
       " 'mercantil',\n",
       " 'negoci',\n",
       " 'autor',\n",
       " 'consent',\n",
       " 'destin',\n",
       " 'recurs']"
      ]
     },
     "execution_count": 94,
     "metadata": {},
     "output_type": "execute_result"
    }
   ],
   "source": [
    "word_list = RadicalizarTexto(doc_sample)\n",
    "word_list"
   ]
  },
  {
   "cell_type": "markdown",
   "metadata": {},
   "source": [
    "**Ahora lo haremos para todo el dataframe columna descripcionsolictud**"
   ]
  },
  {
   "cell_type": "markdown",
   "metadata": {},
   "source": [
    "Paralelizaremos la tarea dado que es una tarea tardada."
   ]
  },
  {
   "cell_type": "code",
   "execution_count": 33,
   "metadata": {},
   "outputs": [],
   "source": [
    "import multiprocessing\n",
    "from multiprocessing.dummy import Pool as ThreadPool"
   ]
  },
  {
   "cell_type": "code",
   "execution_count": 34,
   "metadata": {},
   "outputs": [
    {
     "data": {
      "text/plain": [
       "12"
      ]
     },
     "execution_count": 34,
     "metadata": {},
     "output_type": "execute_result"
    }
   ],
   "source": [
    "cores = multiprocessing.cpu_count()\n",
    "pool = ThreadPool(cores)\n",
    "cores"
   ]
  },
  {
   "cell_type": "code",
   "execution_count": 35,
   "metadata": {},
   "outputs": [],
   "source": [
    "processed_docs = pool.map(RadicalizarTexto, docs['descripcionsolicitud'])\n",
    "pool.close()"
   ]
  },
  {
   "cell_type": "code",
   "execution_count": 36,
   "metadata": {},
   "outputs": [
    {
     "data": {
      "text/plain": [
       "[['copi',\n",
       "  'document',\n",
       "  'comport',\n",
       "  'histor',\n",
       "  'tipic',\n",
       "  'comprend',\n",
       "  'proyect',\n",
       "  'estudi',\n",
       "  'cientif',\n",
       "  'variabl',\n",
       "  'present',\n",
       "  'pemex',\n",
       "  'exploracion',\n",
       "  'produccion',\n",
       "  'elabor',\n",
       "  'evaluacion',\n",
       "  'integral',\n",
       "  'proyect',\n",
       "  'shcp',\n",
       "  'inclu',\n",
       "  'form',\n",
       "  'especif',\n",
       "  'produccion',\n",
       "  'aceit',\n",
       "  'barril',\n",
       "  'petrole',\n",
       "  'poz',\n",
       "  'consider',\n",
       "  'evaluacion',\n",
       "  'integral',\n",
       "  'proyect',\n",
       "  'declinacion',\n",
       "  'anual',\n",
       "  'petrole',\n",
       "  'poz',\n",
       "  'usad',\n",
       "  'produccion',\n",
       "  'preci',\n",
       "  'petrole',\n",
       "  'consider',\n",
       "  'respons',\n",
       "  'evaluacion',\n",
       "  'integral',\n",
       "  'proyect',\n",
       "  'cost',\n",
       "  'operacion',\n",
       "  'anual',\n",
       "  'petrole',\n",
       "  'poz',\n",
       "  'consider',\n",
       "  'evaluacion',\n",
       "  'integral',\n",
       "  'proyect'],\n",
       " ['informacion',\n",
       "  'usad',\n",
       "  'fluj',\n",
       "  'efect',\n",
       "  'poz',\n",
       "  'tipic',\n",
       "  'agu',\n",
       "  'fri',\n",
       "  'elabor',\n",
       "  'respond',\n",
       "  'solicitud',\n",
       "  'solicit',\n",
       "  'produccion',\n",
       "  'aceit',\n",
       "  'consider',\n",
       "  'tabl',\n",
       "  'cost',\n",
       "  'capital',\n",
       "  'usad',\n",
       "  'recuper',\n",
       "  'mes',\n",
       "  'preci',\n",
       "  'aceit',\n",
       "  'consider',\n",
       "  'formul',\n",
       "  'usad',\n",
       "  'explicacion',\n",
       "  'detall',\n",
       "  'realiz',\n",
       "  'estimacion',\n",
       "  'cost',\n",
       "  'operacion',\n",
       "  'explicacion',\n",
       "  'detall',\n",
       "  'orig',\n",
       "  'increment',\n",
       "  'produccion',\n",
       "  'aceit'],\n",
       " ['proporcion',\n",
       "  'magnet',\n",
       "  'relacion',\n",
       "  'ocup',\n",
       "  'ampar',\n",
       "  'articul',\n",
       "  'servici',\n",
       "  'profesional',\n",
       "  'carrer',\n",
       "  'administracion',\n",
       "  'federal',\n",
       "  'indic',\n",
       "  'person',\n",
       "  'contrat',\n",
       "  'ocup',\n",
       "  'contratacion',\n",
       "  'cas',\n",
       "  'prorrog'],\n",
       " ['proporcion',\n",
       "  'magnet',\n",
       "  'relacion',\n",
       "  'ocup',\n",
       "  'ampar',\n",
       "  'articul',\n",
       "  'servici',\n",
       "  'profesional',\n",
       "  'carrer',\n",
       "  'administracion',\n",
       "  'federal',\n",
       "  'indic',\n",
       "  'person',\n",
       "  'contrat',\n",
       "  'ocup',\n",
       "  'contratacion',\n",
       "  'cas',\n",
       "  'prorrog'],\n",
       " ['proporcion',\n",
       "  'magnet',\n",
       "  'relacion',\n",
       "  'ocup',\n",
       "  'ampar',\n",
       "  'articul',\n",
       "  'servici',\n",
       "  'profesional',\n",
       "  'carrer',\n",
       "  'administracion',\n",
       "  'federal',\n",
       "  'indic',\n",
       "  'person',\n",
       "  'contrat',\n",
       "  'ocup',\n",
       "  'contratacion',\n",
       "  'cas',\n",
       "  'prorrog',\n",
       "  'informacion',\n",
       "  'portal',\n",
       "  'indic',\n",
       "  'vigenci',\n",
       "  'fech',\n",
       "  'period',\n",
       "  'contratacion',\n",
       "  'person'],\n",
       " ['quier', 'colegi', 'abraham', 'castellan', 'preparatori', 'incorpor'],\n",
       " ['proporcion',\n",
       "  'magnet',\n",
       "  'relacion',\n",
       "  'ocup',\n",
       "  'ampar',\n",
       "  'articul',\n",
       "  'servici',\n",
       "  'profesional',\n",
       "  'carrer',\n",
       "  'administracion',\n",
       "  'federal',\n",
       "  'indic',\n",
       "  'person',\n",
       "  'contrat',\n",
       "  'ocup',\n",
       "  'contratacion',\n",
       "  'cas',\n",
       "  'prorrog'],\n",
       " ['proporcion',\n",
       "  'magnet',\n",
       "  'relacion',\n",
       "  'ocup',\n",
       "  'ampar',\n",
       "  'articul',\n",
       "  'servici',\n",
       "  'profesional',\n",
       "  'carrer',\n",
       "  'administracion',\n",
       "  'federal',\n",
       "  'indic',\n",
       "  'person',\n",
       "  'contrat',\n",
       "  'ocup',\n",
       "  'contratacion',\n",
       "  'cas',\n",
       "  'prorrog'],\n",
       " ['proporcion',\n",
       "  'magnet',\n",
       "  'relacion',\n",
       "  'ocup',\n",
       "  'ampar',\n",
       "  'articul',\n",
       "  'servici',\n",
       "  'profesional',\n",
       "  'carrer',\n",
       "  'administracion',\n",
       "  'federal',\n",
       "  'secretari',\n",
       "  'tecnic',\n",
       "  'comision',\n",
       "  'calif',\n",
       "  'public',\n",
       "  'revist',\n",
       "  'ilustr',\n",
       "  'indic',\n",
       "  'person',\n",
       "  'contrat',\n",
       "  'ocup',\n",
       "  'contratacion',\n",
       "  'cas',\n",
       "  'prorrog',\n",
       "  'public',\n",
       "  'dich',\n",
       "  'informacion',\n",
       "  'portal',\n",
       "  'comision',\n",
       "  'indic',\n",
       "  'contact',\n",
       "  'atiend',\n",
       "  'solicitud',\n",
       "  'informacion',\n",
       "  'solicit',\n",
       "  'secretari',\n",
       "  'gobernacion',\n",
       "  'cabez',\n",
       "  'sector'],\n",
       " ['proporcion',\n",
       "  'magnet',\n",
       "  'relacion',\n",
       "  'ocup',\n",
       "  'ampar',\n",
       "  'articul',\n",
       "  'servici',\n",
       "  'profesional',\n",
       "  'carrer',\n",
       "  'administracion',\n",
       "  'federal',\n",
       "  'servici',\n",
       "  'informacion',\n",
       "  'agroalimentari',\n",
       "  'pesquer',\n",
       "  'indic',\n",
       "  'person',\n",
       "  'contrat',\n",
       "  'ocup',\n",
       "  'contratacion',\n",
       "  'cas',\n",
       "  'prorrog',\n",
       "  'public',\n",
       "  'dich',\n",
       "  'informacion',\n",
       "  'portal',\n",
       "  'organ',\n",
       "  'indic',\n",
       "  'contact',\n",
       "  'atiend',\n",
       "  'solicitud',\n",
       "  'informacion',\n",
       "  'solicit',\n",
       "  'sagarp',\n",
       "  'cabez',\n",
       "  'sector']]"
      ]
     },
     "execution_count": 36,
     "metadata": {},
     "output_type": "execute_result"
    }
   ],
   "source": [
    "processed_docs[:10]"
   ]
  },
  {
   "cell_type": "code",
   "execution_count": 37,
   "metadata": {},
   "outputs": [
    {
     "data": {
      "text/plain": [
       "1559012"
      ]
     },
     "execution_count": 37,
     "metadata": {},
     "output_type": "execute_result"
    }
   ],
   "source": [
    "len(processed_docs)"
   ]
  },
  {
   "cell_type": "markdown",
   "metadata": {},
   "source": [
    "Creamos una bag of words de nuestro dataframe"
   ]
  },
  {
   "cell_type": "code",
   "execution_count": 38,
   "metadata": {},
   "outputs": [],
   "source": [
    "import gensim"
   ]
  },
  {
   "cell_type": "code",
   "execution_count": 39,
   "metadata": {},
   "outputs": [],
   "source": [
    "dictionary = gensim.corpora.Dictionary(processed_docs)"
   ]
  },
  {
   "cell_type": "code",
   "execution_count": 40,
   "metadata": {},
   "outputs": [
    {
     "name": "stdout",
     "output_type": "stream",
     "text": [
      "0 aceit\n",
      "1 anual\n",
      "2 barril\n",
      "3 cientif\n",
      "4 comport\n",
      "5 comprend\n",
      "6 consider\n",
      "7 copi\n",
      "8 cost\n",
      "9 declinacion\n",
      "10 document\n"
     ]
    }
   ],
   "source": [
    "count = 0\n",
    "for k, v in dictionary.iteritems():\n",
    "    print(k, v)\n",
    "    count += 1\n",
    "    if count > 10:\n",
    "        break"
   ]
  },
  {
   "cell_type": "markdown",
   "metadata": {},
   "source": [
    "Filtramos tokens que aparecen en:\n",
    "+ Menos de 15 documentos o\n",
    "+ mas que el 0.5 del total de documentos\n",
    "+ despues de los dos pasos anteriores, manten solo los primeros 100,000 tokens mas frecuentes."
   ]
  },
  {
   "cell_type": "code",
   "execution_count": 41,
   "metadata": {},
   "outputs": [],
   "source": [
    "dictionary.filter_extremes(no_below=15, no_above=0.5, keep_n=100000)"
   ]
  },
  {
   "cell_type": "markdown",
   "metadata": {},
   "source": [
    "**Gensim doc2bow**"
   ]
  },
  {
   "cell_type": "markdown",
   "metadata": {},
   "source": [
    "Para cada documento creamos un diccionario reportando cuantas palabras y cuantas veces esas palabras aparecen."
   ]
  },
  {
   "cell_type": "code",
   "execution_count": 42,
   "metadata": {},
   "outputs": [],
   "source": [
    "bow_corpus = [dictionary.doc2bow(doc) for doc in processed_docs]"
   ]
  },
  {
   "cell_type": "code",
   "execution_count": 43,
   "metadata": {},
   "outputs": [
    {
     "data": {
      "text/plain": [
       "[(7, 1),\n",
       " (16, 1),\n",
       " (49, 2),\n",
       " (57, 1),\n",
       " (113, 1),\n",
       " (151, 1),\n",
       " (173, 1),\n",
       " (330, 1),\n",
       " (344, 2),\n",
       " (415, 1),\n",
       " (629, 1),\n",
       " (835, 1),\n",
       " (931, 1),\n",
       " (1037, 1),\n",
       " (1195, 1),\n",
       " (1235, 1),\n",
       " (1495, 1),\n",
       " (1520, 1),\n",
       " (1775, 1),\n",
       " (1878, 1),\n",
       " (2194, 2),\n",
       " (2291, 1),\n",
       " (3605, 1),\n",
       " (4600, 2),\n",
       " (5042, 1),\n",
       " (5043, 1),\n",
       " (5044, 1),\n",
       " (5045, 1),\n",
       " (5046, 1)]"
      ]
     },
     "execution_count": 43,
     "metadata": {},
     "output_type": "execute_result"
    }
   ],
   "source": [
    "bow_corpus[4310]"
   ]
  },
  {
   "cell_type": "markdown",
   "metadata": {},
   "source": [
    "### TF-IDF"
   ]
  },
  {
   "cell_type": "markdown",
   "metadata": {},
   "source": [
    "Creamos un modelo tf-idf."
   ]
  },
  {
   "cell_type": "code",
   "execution_count": 44,
   "metadata": {},
   "outputs": [],
   "source": [
    "from gensim import corpora, models\n",
    "from pprint import pprint"
   ]
  },
  {
   "cell_type": "code",
   "execution_count": 45,
   "metadata": {},
   "outputs": [],
   "source": [
    "tfidf = models.TfidfModel(bow_corpus)\n",
    "corpus_tfidf = tfidf[bow_corpus]"
   ]
  },
  {
   "cell_type": "code",
   "execution_count": 46,
   "metadata": {},
   "outputs": [
    {
     "name": "stdout",
     "output_type": "stream",
     "text": [
      "[(0, 0.13727626585513125),\n",
      " (1, 0.15434779418679048),\n",
      " (2, 0.13566125046935537),\n",
      " (3, 0.11316682203127554),\n",
      " (4, 0.1353721929203078),\n",
      " (5, 0.07640240866699256),\n",
      " (6, 0.23085975679552553),\n",
      " (7, 0.042564992460744445),\n",
      " (8, 0.06990324891288505),\n",
      " (9, 0.20347610783454645),\n",
      " (10, 0.04678664785497465),\n",
      " (11, 0.09030966762093849),\n",
      " (12, 0.06996941753765298),\n",
      " (13, 0.07118613529159919),\n",
      " (14, 0.3090214063527276),\n",
      " (15, 0.10248823450028925),\n",
      " (16, 0.06333358681952889),\n",
      " (17, 0.10045414506239277),\n",
      " (18, 0.05613741748448796),\n",
      " (19, 0.34432142196950205),\n",
      " (20, 0.08083015337642883),\n",
      " (21, 0.08103341375827121),\n",
      " (22, 0.37506103734380675),\n",
      " (23, 0.35700101417652275),\n",
      " (24, 0.0782102212060324),\n",
      " (25, 0.04625554318552719),\n",
      " (26, 0.26617333004311855),\n",
      " (27, 0.3148946924521641),\n",
      " (28, 0.06256905870717054),\n",
      " (29, 0.10842562043179677),\n",
      " (30, 0.18352006957047706),\n",
      " (31, 0.12067348741327555),\n",
      " (32, 0.12267008953849452)]\n"
     ]
    }
   ],
   "source": [
    "for doc in corpus_tfidf:\n",
    "    pprint(doc)\n",
    "    break"
   ]
  },
  {
   "cell_type": "markdown",
   "metadata": {},
   "source": [
    "## Implementación LDA usando Bag of Words"
   ]
  },
  {
   "cell_type": "code",
   "execution_count": 47,
   "metadata": {},
   "outputs": [],
   "source": [
    "lda_model = gensim.models.LdaMulticore(bow_corpus, num_topics=10,\n",
    "                                      id2word=dictionary, passes=2,\n",
    "                                      workers=cores)"
   ]
  },
  {
   "cell_type": "markdown",
   "metadata": {},
   "source": [
    "Para cada topico exploraremos las palabras que contiene y sus pesos relativos."
   ]
  },
  {
   "cell_type": "code",
   "execution_count": 48,
   "metadata": {},
   "outputs": [
    {
     "name": "stdout",
     "output_type": "stream",
     "text": [
      "Topic: 0 \n",
      "Words: 0.030*\"solicit\" + 0.019*\"informacion\" + 0.017*\"part\" + 0.014*\"presupuest\" + 0.012*\"federal\" + 0.012*\"entid\" + 0.011*\"inform\" + 0.011*\"desgl\" + 0.011*\"dependent\" + 0.011*\"fech\"\n",
      "Topic: 1 \n",
      "Words: 0.027*\"solicit\" + 0.017*\"mont\" + 0.017*\"fech\" + 0.015*\"pag\" + 0.014*\"servici\" + 0.013*\"informacion\" + 0.013*\"concept\" + 0.013*\"trabaj\" + 0.011*\"bas\" + 0.011*\"tip\"\n",
      "Topic: 2 \n",
      "Words: 0.241*\"solicitud\" + 0.022*\"salud\" + 0.016*\"informacion\" + 0.014*\"edad\" + 0.012*\"program\" + 0.012*\"person\" + 0.011*\"gener\" + 0.011*\"respuest\" + 0.009*\"solicit\" + 0.009*\"nin\"\n",
      "Topic: 3 \n",
      "Words: 0.080*\"medic\" + 0.049*\"medicament\" + 0.039*\"clav\" + 0.028*\"solicit\" + 0.023*\"unid\" + 0.023*\"atencion\" + 0.022*\"hospital\" + 0.022*\"pacient\" + 0.022*\"recet\" + 0.018*\"fech\"\n",
      "Topic: 4 \n",
      "Words: 0.036*\"informacion\" + 0.028*\"solicit\" + 0.014*\"solucion\" + 0.011*\"acces\" + 0.011*\"document\" + 0.010*\"articul\" + 0.009*\"cas\" + 0.009*\"transparent\" + 0.009*\"dich\" + 0.008*\"solicitud\"\n",
      "Topic: 5 \n",
      "Words: 0.046*\"informacion\" + 0.038*\"articul\" + 0.029*\"contrat\" + 0.022*\"licitacion\" + 0.020*\"transparent\" + 0.019*\"adquir\" + 0.019*\"acces\" + 0.018*\"proveedor\" + 0.018*\"medicament\" + 0.018*\"adquisicion\"\n",
      "Topic: 6 \n",
      "Words: 0.029*\"contrat\" + 0.023*\"solicit\" + 0.017*\"proyect\" + 0.014*\"copi\" + 0.012*\"municipi\" + 0.012*\"servici\" + 0.011*\"empres\" + 0.010*\"fech\" + 0.008*\"mexic\" + 0.007*\"mont\"\n",
      "Topic: 7 \n",
      "Words: 0.027*\"solicit\" + 0.014*\"document\" + 0.012*\"nacional\" + 0.012*\"copi\" + 0.010*\"institut\" + 0.009*\"director\" + 0.009*\"ofici\" + 0.008*\"direccion\" + 0.008*\"fech\" + 0.008*\"comision\"\n",
      "Topic: 8 \n",
      "Words: 0.049*\"solicit\" + 0.030*\"registr\" + 0.022*\"informacion\" + 0.020*\"sanitari\" + 0.018*\"fech\" + 0.016*\"mexic\" + 0.012*\"present\" + 0.011*\"tramit\" + 0.009*\"copi\" + 0.008*\"comision\"\n",
      "Topic: 9 \n",
      "Words: 0.030*\"public\" + 0.019*\"solicit\" + 0.015*\"federal\" + 0.013*\"secretari\" + 0.013*\"administr\" + 0.012*\"informacion\" + 0.011*\"servidor\" + 0.011*\"servici\" + 0.008*\"program\" + 0.008*\"materi\"\n"
     ]
    }
   ],
   "source": [
    "for idx, topic in lda_model.print_topics(-1):\n",
    "    print('Topic: {} \\nWords: {}'.format(idx, topic))"
   ]
  },
  {
   "cell_type": "markdown",
   "metadata": {},
   "source": [
    "## Implementación LDA usando TF-IDF"
   ]
  },
  {
   "cell_type": "code",
   "execution_count": 49,
   "metadata": {},
   "outputs": [],
   "source": [
    "lda_model_tfidf = gensim.models.LdaMulticore(corpus_tfidf, \n",
    "                                            num_topics=10,\n",
    "                                            id2word=dictionary,\n",
    "                                            passes=2,\n",
    "                                            workers=cores)"
   ]
  },
  {
   "cell_type": "code",
   "execution_count": 50,
   "metadata": {},
   "outputs": [
    {
     "name": "stdout",
     "output_type": "stream",
     "text": [
      "Topic: 0 Word: 0.012*\"copi\" + 0.011*\"ofici\" + 0.010*\"vazquez\" + 0.009*\"nav\" + 0.009*\"contrat\" + 0.006*\"solicit\" + 0.006*\"servici\" + 0.006*\"consultor\" + 0.005*\"fech\" + 0.005*\"plag\"\n",
      "Topic: 1 Word: 0.961*\"solicitud\" + 0.006*\"informacion\" + 0.001*\"suplenci\" + 0.001*\"escane\" + 0.001*\"googl\" + 0.001*\"impos\" + 0.001*\"consupag\" + 0.001*\"crohn\" + 0.000*\"land\" + 0.000*\"postur\"\n",
      "Topic: 2 Word: 0.009*\"concesion\" + 0.008*\"municipi\" + 0.007*\"proyect\" + 0.007*\"titul\" + 0.006*\"copi\" + 0.006*\"solicit\" + 0.006*\"padron\" + 0.006*\"contrat\" + 0.005*\"beneficiari\" + 0.005*\"mexic\"\n",
      "Topic: 3 Word: 0.007*\"program\" + 0.007*\"public\" + 0.007*\"presupuest\" + 0.006*\"solicit\" + 0.006*\"secretari\" + 0.005*\"informacion\" + 0.005*\"nacional\" + 0.005*\"educacion\" + 0.005*\"recurs\" + 0.005*\"servici\"\n",
      "Topic: 4 Word: 0.019*\"medicament\" + 0.018*\"informacion\" + 0.018*\"sanitari\" + 0.015*\"articul\" + 0.012*\"registr\" + 0.011*\"present\" + 0.010*\"solicit\" + 0.010*\"activ\" + 0.010*\"adquir\" + 0.008*\"favor\"\n",
      "Topic: 5 Word: 0.010*\"servidor\" + 0.009*\"public\" + 0.009*\"sueld\" + 0.008*\"carg\" + 0.007*\"labor\" + 0.007*\"salari\" + 0.007*\"trabaj\" + 0.007*\"solicit\" + 0.006*\"bas\" + 0.006*\"dependent\"\n",
      "Topic: 6 Word: 0.010*\"part\" + 0.009*\"mont\" + 0.008*\"gast\" + 0.007*\"diput\" + 0.007*\"pag\" + 0.006*\"electoral\" + 0.006*\"contrat\" + 0.006*\"fech\" + 0.006*\"solicit\" + 0.006*\"copi\"\n",
      "Topic: 7 Word: 0.014*\"cofepris\" + 0.013*\"contrat\" + 0.012*\"sanitari\" + 0.011*\"solicit\" + 0.011*\"evidenci\" + 0.011*\"consign\" + 0.010*\"licitacion\" + 0.010*\"informacion\" + 0.010*\"tramit\" + 0.009*\"registr\"\n",
      "Topic: 8 Word: 0.008*\"informacion\" + 0.008*\"person\" + 0.006*\"delit\" + 0.006*\"edad\" + 0.006*\"solicit\" + 0.006*\"denunci\" + 0.005*\"cas\" + 0.005*\"nacional\" + 0.005*\"protocol\" + 0.005*\"mujer\"\n",
      "Topic: 9 Word: 0.023*\"adjunt\" + 0.011*\"medic\" + 0.011*\"ampar\" + 0.011*\"tribunal\" + 0.010*\"expedient\" + 0.009*\"juici\" + 0.009*\"administr\" + 0.009*\"circuit\" + 0.008*\"informacion\" + 0.008*\"document\"\n"
     ]
    }
   ],
   "source": [
    "for idx, topic in lda_model_tfidf.print_topics(-1):\n",
    "    print('Topic: {} Word: {}'.format(idx, topic))"
   ]
  },
  {
   "cell_type": "markdown",
   "metadata": {},
   "source": [
    "## Evaluación de performance LDA Bag of Words -- Clasificaremos un ejemplo "
   ]
  },
  {
   "cell_type": "code",
   "execution_count": 51,
   "metadata": {},
   "outputs": [
    {
     "data": {
      "text/plain": [
       "['institucion',\n",
       " 'solicit',\n",
       " 'explic',\n",
       " 'proced',\n",
       " 'instal',\n",
       " 'cafeteri',\n",
       " 'plantel',\n",
       " 'maquin',\n",
       " 'caf',\n",
       " 'refresc',\n",
       " 'product',\n",
       " 'industrializ',\n",
       " 'solicit',\n",
       " 'copi',\n",
       " 'contrat',\n",
       " 'conveni',\n",
       " 'formaliz',\n",
       " 'instalacion',\n",
       " 'cit',\n",
       " 'centr',\n",
       " 'gananci',\n",
       " 'institucion',\n",
       " 'plantel',\n",
       " 'dej',\n",
       " 'consent',\n",
       " 'tal',\n",
       " 'form',\n",
       " 'mercantil',\n",
       " 'negoci',\n",
       " 'autor',\n",
       " 'consent',\n",
       " 'destin',\n",
       " 'recurs']"
      ]
     },
     "execution_count": 51,
     "metadata": {},
     "output_type": "execute_result"
    }
   ],
   "source": [
    "processed_docs[4310]"
   ]
  },
  {
   "cell_type": "code",
   "execution_count": 52,
   "metadata": {},
   "outputs": [
    {
     "name": "stdout",
     "output_type": "stream",
     "text": [
      "\n",
      "Score: 0.3845186233520508\t \n",
      "Topic: 0.029*\"contrat\" + 0.023*\"solicit\" + 0.017*\"proyect\" + 0.014*\"copi\" + 0.012*\"municipi\" + 0.012*\"servici\" + 0.011*\"empres\" + 0.010*\"fech\" + 0.008*\"mexic\" + 0.007*\"mont\"\n",
      "\n",
      "Score: 0.20881691575050354\t \n",
      "Topic: 0.027*\"solicit\" + 0.017*\"mont\" + 0.017*\"fech\" + 0.015*\"pag\" + 0.014*\"servici\" + 0.013*\"informacion\" + 0.013*\"concept\" + 0.013*\"trabaj\" + 0.011*\"bas\" + 0.011*\"tip\"\n",
      "\n",
      "Score: 0.1759869009256363\t \n",
      "Topic: 0.027*\"solicit\" + 0.014*\"document\" + 0.012*\"nacional\" + 0.012*\"copi\" + 0.010*\"institut\" + 0.009*\"director\" + 0.009*\"ofici\" + 0.008*\"direccion\" + 0.008*\"fech\" + 0.008*\"comision\"\n",
      "\n",
      "Score: 0.13493725657463074\t \n",
      "Topic: 0.030*\"public\" + 0.019*\"solicit\" + 0.015*\"federal\" + 0.013*\"secretari\" + 0.013*\"administr\" + 0.012*\"informacion\" + 0.011*\"servidor\" + 0.011*\"servici\" + 0.008*\"program\" + 0.008*\"materi\"\n",
      "\n",
      "Score: 0.08100435882806778\t \n",
      "Topic: 0.036*\"informacion\" + 0.028*\"solicit\" + 0.014*\"solucion\" + 0.011*\"acces\" + 0.011*\"document\" + 0.010*\"articul\" + 0.009*\"cas\" + 0.009*\"transparent\" + 0.009*\"dich\" + 0.008*\"solicitud\"\n"
     ]
    }
   ],
   "source": [
    "for index, score in sorted(lda_model[bow_corpus[4310]], \n",
    "                           key=lambda tup: -1*tup[1]):\n",
    "    print(\"\\nScore: {}\\t \\nTopic: {}\".format(score,\n",
    "                                            lda_model.print_topic(index, 10)))\n"
   ]
  },
  {
   "cell_type": "code",
   "execution_count": 53,
   "metadata": {},
   "outputs": [
    {
     "name": "stdout",
     "output_type": "stream",
     "text": [
      "\n",
      "Score: 0.5499981641769409\t \n",
      "Topic: 0.241*\"solicitud\" + 0.022*\"salud\" + 0.016*\"informacion\" + 0.014*\"edad\" + 0.012*\"program\" + 0.012*\"person\" + 0.011*\"gener\" + 0.011*\"respuest\" + 0.009*\"solicit\" + 0.009*\"nin\"\n",
      "\n",
      "Score: 0.05000079795718193\t \n",
      "Topic: 0.036*\"informacion\" + 0.028*\"solicit\" + 0.014*\"solucion\" + 0.011*\"acces\" + 0.011*\"document\" + 0.010*\"articul\" + 0.009*\"cas\" + 0.009*\"transparent\" + 0.009*\"dich\" + 0.008*\"solicitud\"\n",
      "\n",
      "Score: 0.05000077560544014\t \n",
      "Topic: 0.046*\"informacion\" + 0.038*\"articul\" + 0.029*\"contrat\" + 0.022*\"licitacion\" + 0.020*\"transparent\" + 0.019*\"adquir\" + 0.019*\"acces\" + 0.018*\"proveedor\" + 0.018*\"medicament\" + 0.018*\"adquisicion\"\n",
      "\n",
      "Score: 0.05000004544854164\t \n",
      "Topic: 0.029*\"contrat\" + 0.023*\"solicit\" + 0.017*\"proyect\" + 0.014*\"copi\" + 0.012*\"municipi\" + 0.012*\"servici\" + 0.011*\"empres\" + 0.010*\"fech\" + 0.008*\"mexic\" + 0.007*\"mont\"\n",
      "\n",
      "Score: 0.05000004172325134\t \n",
      "Topic: 0.049*\"solicit\" + 0.030*\"registr\" + 0.022*\"informacion\" + 0.020*\"sanitari\" + 0.018*\"fech\" + 0.016*\"mexic\" + 0.012*\"present\" + 0.011*\"tramit\" + 0.009*\"copi\" + 0.008*\"comision\"\n",
      "\n",
      "Score: 0.050000037997961044\t \n",
      "Topic: 0.030*\"public\" + 0.019*\"solicit\" + 0.015*\"federal\" + 0.013*\"secretari\" + 0.013*\"administr\" + 0.012*\"informacion\" + 0.011*\"servidor\" + 0.011*\"servici\" + 0.008*\"program\" + 0.008*\"materi\"\n",
      "\n",
      "Score: 0.050000034272670746\t \n",
      "Topic: 0.030*\"solicit\" + 0.019*\"informacion\" + 0.017*\"part\" + 0.014*\"presupuest\" + 0.012*\"federal\" + 0.012*\"entid\" + 0.011*\"inform\" + 0.011*\"desgl\" + 0.011*\"dependent\" + 0.011*\"fech\"\n",
      "\n",
      "Score: 0.050000034272670746\t \n",
      "Topic: 0.027*\"solicit\" + 0.017*\"mont\" + 0.017*\"fech\" + 0.015*\"pag\" + 0.014*\"servici\" + 0.013*\"informacion\" + 0.013*\"concept\" + 0.013*\"trabaj\" + 0.011*\"bas\" + 0.011*\"tip\"\n",
      "\n",
      "Score: 0.050000034272670746\t \n",
      "Topic: 0.027*\"solicit\" + 0.014*\"document\" + 0.012*\"nacional\" + 0.012*\"copi\" + 0.010*\"institut\" + 0.009*\"director\" + 0.009*\"ofici\" + 0.008*\"direccion\" + 0.008*\"fech\" + 0.008*\"comision\"\n",
      "\n",
      "Score: 0.05000003054738045\t \n",
      "Topic: 0.080*\"medic\" + 0.049*\"medicament\" + 0.039*\"clav\" + 0.028*\"solicit\" + 0.023*\"unid\" + 0.023*\"atencion\" + 0.022*\"hospital\" + 0.022*\"pacient\" + 0.022*\"recet\" + 0.018*\"fech\"\n"
     ]
    }
   ],
   "source": [
    "for index, score in sorted(lda_model[bow_corpus[410]], \n",
    "                           key=lambda tup: -1*tup[1]):\n",
    "    print(\"\\nScore: {}\\t \\nTopic: {}\".format(score,\n",
    "                                            lda_model.print_topic(index, 10)))\n",
    "\n"
   ]
  },
  {
   "cell_type": "markdown",
   "metadata": {},
   "source": [
    "## Evaluación de performance LDA TF-IDF -- Clasificaremos un ejemplo "
   ]
  },
  {
   "cell_type": "code",
   "execution_count": 54,
   "metadata": {},
   "outputs": [
    {
     "name": "stdout",
     "output_type": "stream",
     "text": [
      "\n",
      "Score: 0.6823902726173401\t \n",
      "Topic: 0.007*\"program\" + 0.007*\"public\" + 0.007*\"presupuest\" + 0.006*\"solicit\" + 0.006*\"secretari\" + 0.005*\"informacion\" + 0.005*\"nacional\" + 0.005*\"educacion\" + 0.005*\"recurs\" + 0.005*\"servici\".\n",
      "\n",
      "Score: 0.19794321060180664\t \n",
      "Topic: 0.019*\"medicament\" + 0.018*\"informacion\" + 0.018*\"sanitari\" + 0.015*\"articul\" + 0.012*\"registr\" + 0.011*\"present\" + 0.010*\"solicit\" + 0.010*\"activ\" + 0.010*\"adquir\" + 0.008*\"favor\".\n",
      "\n",
      "Score: 0.09905120730400085\t \n",
      "Topic: 0.010*\"part\" + 0.009*\"mont\" + 0.008*\"gast\" + 0.007*\"diput\" + 0.007*\"pag\" + 0.006*\"electoral\" + 0.006*\"contrat\" + 0.006*\"fech\" + 0.006*\"solicit\" + 0.006*\"copi\".\n"
     ]
    }
   ],
   "source": [
    "for index, score in sorted(lda_model_tfidf[bow_corpus[4310]],\n",
    "                          key=lambda tup: -1*tup[1]):\n",
    "    print(\"\\nScore: {}\\t \\nTopic: {}.\".format(score,\n",
    "                                             lda_model_tfidf.print_topic(index, 10)))"
   ]
  },
  {
   "cell_type": "code",
   "execution_count": 55,
   "metadata": {},
   "outputs": [
    {
     "name": "stdout",
     "output_type": "stream",
     "text": [
      "\n",
      "Score: 0.549999475479126\t \n",
      "Topic: 0.961*\"solicitud\" + 0.006*\"informacion\" + 0.001*\"suplenci\" + 0.001*\"escane\" + 0.001*\"googl\" + 0.001*\"impos\" + 0.001*\"consupag\" + 0.001*\"crohn\" + 0.000*\"land\" + 0.000*\"postur\".\n",
      "\n",
      "Score: 0.050000160932540894\t \n",
      "Topic: 0.019*\"medicament\" + 0.018*\"informacion\" + 0.018*\"sanitari\" + 0.015*\"articul\" + 0.012*\"registr\" + 0.011*\"present\" + 0.010*\"solicit\" + 0.010*\"activ\" + 0.010*\"adquir\" + 0.008*\"favor\".\n",
      "\n",
      "Score: 0.05000007897615433\t \n",
      "Topic: 0.012*\"copi\" + 0.011*\"ofici\" + 0.010*\"vazquez\" + 0.009*\"nav\" + 0.009*\"contrat\" + 0.006*\"solicit\" + 0.006*\"servici\" + 0.006*\"consultor\" + 0.005*\"fech\" + 0.005*\"plag\".\n",
      "\n",
      "Score: 0.050000064074993134\t \n",
      "Topic: 0.023*\"adjunt\" + 0.011*\"medic\" + 0.011*\"ampar\" + 0.011*\"tribunal\" + 0.010*\"expedient\" + 0.009*\"juici\" + 0.009*\"administr\" + 0.009*\"circuit\" + 0.008*\"informacion\" + 0.008*\"document\".\n",
      "\n",
      "Score: 0.050000060349702835\t \n",
      "Topic: 0.008*\"informacion\" + 0.008*\"person\" + 0.006*\"delit\" + 0.006*\"edad\" + 0.006*\"solicit\" + 0.006*\"denunci\" + 0.005*\"cas\" + 0.005*\"nacional\" + 0.005*\"protocol\" + 0.005*\"mujer\".\n",
      "\n",
      "Score: 0.05000004917383194\t \n",
      "Topic: 0.010*\"part\" + 0.009*\"mont\" + 0.008*\"gast\" + 0.007*\"diput\" + 0.007*\"pag\" + 0.006*\"electoral\" + 0.006*\"contrat\" + 0.006*\"fech\" + 0.006*\"solicit\" + 0.006*\"copi\".\n",
      "\n",
      "Score: 0.05000003054738045\t \n",
      "Topic: 0.009*\"concesion\" + 0.008*\"municipi\" + 0.007*\"proyect\" + 0.007*\"titul\" + 0.006*\"copi\" + 0.006*\"solicit\" + 0.006*\"padron\" + 0.006*\"contrat\" + 0.005*\"beneficiari\" + 0.005*\"mexic\".\n",
      "\n",
      "Score: 0.05000003054738045\t \n",
      "Topic: 0.007*\"program\" + 0.007*\"public\" + 0.007*\"presupuest\" + 0.006*\"solicit\" + 0.006*\"secretari\" + 0.005*\"informacion\" + 0.005*\"nacional\" + 0.005*\"educacion\" + 0.005*\"recurs\" + 0.005*\"servici\".\n",
      "\n",
      "Score: 0.05000003054738045\t \n",
      "Topic: 0.014*\"cofepris\" + 0.013*\"contrat\" + 0.012*\"sanitari\" + 0.011*\"solicit\" + 0.011*\"evidenci\" + 0.011*\"consign\" + 0.010*\"licitacion\" + 0.010*\"informacion\" + 0.010*\"tramit\" + 0.009*\"registr\".\n",
      "\n",
      "Score: 0.05000002309679985\t \n",
      "Topic: 0.010*\"servidor\" + 0.009*\"public\" + 0.009*\"sueld\" + 0.008*\"carg\" + 0.007*\"labor\" + 0.007*\"salari\" + 0.007*\"trabaj\" + 0.007*\"solicit\" + 0.006*\"bas\" + 0.006*\"dependent\".\n"
     ]
    }
   ],
   "source": [
    "for index, score in sorted(lda_model_tfidf[bow_corpus[410]],\n",
    "                          key=lambda tup: -1*tup[1]):\n",
    "    print(\"\\nScore: {}\\t \\nTopic: {}.\".format(score,\n",
    "                                             lda_model_tfidf.print_topic(index, 10)))"
   ]
  },
  {
   "cell_type": "markdown",
   "metadata": {},
   "source": [
    "# Guardamos como pickle"
   ]
  },
  {
   "cell_type": "code",
   "execution_count": 56,
   "metadata": {},
   "outputs": [],
   "source": [
    "import pickle"
   ]
  },
  {
   "cell_type": "code",
   "execution_count": 57,
   "metadata": {},
   "outputs": [],
   "source": [
    "with open('processed_docs_radicalizacion.pkl', 'wb') as f:\n",
    "    pickle.dump(processed_docs, f)"
   ]
  },
  {
   "cell_type": "code",
   "execution_count": 58,
   "metadata": {},
   "outputs": [],
   "source": [
    "with open('lda_model_bw_radicalizacion.pkl', 'wb') as f:\n",
    "    pickle.dump(lda_model, f)"
   ]
  },
  {
   "cell_type": "code",
   "execution_count": 59,
   "metadata": {},
   "outputs": [],
   "source": [
    "with open('lda_model_tfidf_radicalizacion.pkl', 'wb') as f:\n",
    "    pickle.dump(lda_model_tfidf, f)"
   ]
  },
  {
   "cell_type": "markdown",
   "metadata": {},
   "source": [
    "# Creamos una función para tokenizar, normalizar y lematizar."
   ]
  },
  {
   "cell_type": "code",
   "execution_count": 9,
   "metadata": {},
   "outputs": [],
   "source": [
    "import spacy\n",
    "import nltk\n",
    "from nltk import SnowballStemmer"
   ]
  },
  {
   "cell_type": "code",
   "execution_count": 10,
   "metadata": {},
   "outputs": [],
   "source": [
    "nlp = spacy.load('es_core_news_sm')"
   ]
  },
  {
   "cell_type": "code",
   "execution_count": 11,
   "metadata": {},
   "outputs": [],
   "source": [
    "def LematizarTexto(texto):\n",
    "    \n",
    "    doc = nlp(texto)\n",
    "    words = [t.lemma_ for t in doc if not t.is_punct | t.is_stop]\n",
    "    lexical_tokens = [t.lower() for t in words if len(t) > 3 and t.isalpha()]\n",
    "    \n",
    "    return lexical_tokens"
   ]
  },
  {
   "cell_type": "code",
   "execution_count": 12,
   "metadata": {},
   "outputs": [
    {
     "data": {
      "text/plain": [
       "'a esta institucion solicito sea explicado el procedimiento el cual se instalaron cafeterias en los planteles al igual que maquinas de cafe refrescos y otros productos industrializados. tambien solicito copia de los contratos convenios a de los se formaliza instalacion en los citados centros . ganancias que a la institucion (mes por en uno de los planteles) deja el haber consentido la instalacion-operacion-funcionamiento de tales formas mercantiles. con fueron negociadas y que autoridades dieron consentimiento? y cual el destino de esos recursos?'"
      ]
     },
     "execution_count": 12,
     "metadata": {},
     "output_type": "execute_result"
    }
   ],
   "source": [
    "texto"
   ]
  },
  {
   "cell_type": "code",
   "execution_count": 13,
   "metadata": {},
   "outputs": [
    {
     "data": {
      "text/plain": [
       "['institucion',\n",
       " 'solicitar',\n",
       " 'explicar',\n",
       " 'procedimiento',\n",
       " 'instalar',\n",
       " 'cafeterias',\n",
       " 'plantel',\n",
       " 'maquinar',\n",
       " 'cafe',\n",
       " 'refresco',\n",
       " 'producto',\n",
       " 'industrializar',\n",
       " 'solicitar',\n",
       " 'copiar',\n",
       " 'contrato',\n",
       " 'convenio',\n",
       " 'formalizar',\n",
       " 'instalacion',\n",
       " 'citar',\n",
       " 'centro',\n",
       " 'ganancia',\n",
       " 'institucion',\n",
       " 'plantel',\n",
       " 'dejar',\n",
       " 'consentir',\n",
       " 'talar',\n",
       " 'formar',\n",
       " 'mercantil',\n",
       " 'negociar',\n",
       " 'autoridad',\n",
       " 'consentimiento',\n",
       " 'destinar',\n",
       " 'recurso']"
      ]
     },
     "execution_count": 13,
     "metadata": {},
     "output_type": "execute_result"
    }
   ],
   "source": [
    "LematizarTexto(texto)"
   ]
  },
  {
   "cell_type": "code",
   "execution_count": 14,
   "metadata": {},
   "outputs": [],
   "source": [
    "import multiprocessing\n",
    "from multiprocessing.dummy import Pool as ThreadPool"
   ]
  },
  {
   "cell_type": "code",
   "execution_count": 15,
   "metadata": {},
   "outputs": [
    {
     "data": {
      "text/plain": [
       "12"
      ]
     },
     "execution_count": 15,
     "metadata": {},
     "output_type": "execute_result"
    }
   ],
   "source": [
    "cores = multiprocessing.cpu_count()\n",
    "pool = ThreadPool(cores)\n",
    "cores"
   ]
  },
  {
   "cell_type": "code",
   "execution_count": 16,
   "metadata": {},
   "outputs": [],
   "source": [
    "processed_docs = pool.map(LematizarTexto, docs['descripcionsolicitud'])\n",
    "pool.close()"
   ]
  },
  {
   "cell_type": "code",
   "execution_count": 17,
   "metadata": {},
   "outputs": [
    {
     "data": {
      "text/plain": [
       "[['copiar',\n",
       "  'documento',\n",
       "  'comportamiento',\n",
       "  'historico',\n",
       "  'tipicos',\n",
       "  'comprender',\n",
       "  'proyectar',\n",
       "  'estudio',\n",
       "  'cientificos',\n",
       "  'variable',\n",
       "  'presentarse',\n",
       "  'pemex',\n",
       "  'exploracion',\n",
       "  'produccion',\n",
       "  'elaborar',\n",
       "  'evaluacion',\n",
       "  'integral',\n",
       "  'proyectar',\n",
       "  'shcp',\n",
       "  'incluir',\n",
       "  'formar',\n",
       "  'especificar',\n",
       "  'produccion',\n",
       "  'aceitar',\n",
       "  'barril',\n",
       "  'petrolear',\n",
       "  'pozo',\n",
       "  'considerar',\n",
       "  'evaluacion',\n",
       "  'integral',\n",
       "  'proyectar',\n",
       "  'declinacion',\n",
       "  'anual',\n",
       "  'petrolear',\n",
       "  'pozo',\n",
       "  'usar',\n",
       "  'produccion',\n",
       "  'preciar',\n",
       "  'petrolear',\n",
       "  'considerar',\n",
       "  'responsable',\n",
       "  'evaluacion',\n",
       "  'integral',\n",
       "  'proyectar',\n",
       "  'costo',\n",
       "  'operacion',\n",
       "  'anual',\n",
       "  'petrolear',\n",
       "  'pozo',\n",
       "  'considerar',\n",
       "  'evaluacion',\n",
       "  'integral',\n",
       "  'proyectar'],\n",
       " ['informacion',\n",
       "  'usar',\n",
       "  'flujo',\n",
       "  'efectivo',\n",
       "  'pozo',\n",
       "  'tipico',\n",
       "  'aguar',\n",
       "  'fria',\n",
       "  'elaborar',\n",
       "  'responder',\n",
       "  'solicitud',\n",
       "  'solicitar',\n",
       "  'produccion',\n",
       "  'aceitar',\n",
       "  'considerar',\n",
       "  'tabla',\n",
       "  'costo',\n",
       "  'capital',\n",
       "  'usar',\n",
       "  'recuperar',\n",
       "  'mesar',\n",
       "  'preciar',\n",
       "  'aceitar',\n",
       "  'considerar',\n",
       "  'formular',\n",
       "  'usar',\n",
       "  'explicacion',\n",
       "  'detallar',\n",
       "  'realizar',\n",
       "  'estimacion',\n",
       "  'costo',\n",
       "  'operacion',\n",
       "  'explicacion',\n",
       "  'detallar',\n",
       "  'origen',\n",
       "  'incrementar',\n",
       "  'produccion',\n",
       "  'aceitar'],\n",
       " ['proporcionar',\n",
       "  'magnetico',\n",
       "  'relacion',\n",
       "  'ocupar',\n",
       "  'amparar',\n",
       "  'articular',\n",
       "  'servicio',\n",
       "  'profesional',\n",
       "  'carrera',\n",
       "  'administracion',\n",
       "  'federal',\n",
       "  'indicar',\n",
       "  'personar',\n",
       "  'contratar',\n",
       "  'ocupar',\n",
       "  'contratacion',\n",
       "  'casar',\n",
       "  'prorrogar'],\n",
       " ['proporcionar',\n",
       "  'magnetico',\n",
       "  'relacion',\n",
       "  'ocupar',\n",
       "  'amparar',\n",
       "  'articular',\n",
       "  'servicio',\n",
       "  'profesional',\n",
       "  'carrera',\n",
       "  'administracion',\n",
       "  'federal',\n",
       "  'indicar',\n",
       "  'personar',\n",
       "  'contratar',\n",
       "  'ocupar',\n",
       "  'contratacion',\n",
       "  'casar',\n",
       "  'prorrogar'],\n",
       " ['proporcionar',\n",
       "  'magnetico',\n",
       "  'relacion',\n",
       "  'ocupar',\n",
       "  'amparar',\n",
       "  'articular',\n",
       "  'servicio',\n",
       "  'profesional',\n",
       "  'carrera',\n",
       "  'administracion',\n",
       "  'federal',\n",
       "  'indicar',\n",
       "  'personar',\n",
       "  'contratar',\n",
       "  'ocupar',\n",
       "  'contratacion',\n",
       "  'casar',\n",
       "  'prorrogar',\n",
       "  'informacion',\n",
       "  'portal',\n",
       "  'indicar',\n",
       "  'vigencia',\n",
       "  'fecho',\n",
       "  'periodo',\n",
       "  'contratacion',\n",
       "  'personar'],\n",
       " ['querer', 'colegiar', 'abraham', 'castellano', 'preparatorio', 'incorporar'],\n",
       " ['proporcionar',\n",
       "  'magnetico',\n",
       "  'relacion',\n",
       "  'ocupar',\n",
       "  'amparar',\n",
       "  'articular',\n",
       "  'servicio',\n",
       "  'profesional',\n",
       "  'carrera',\n",
       "  'administracion',\n",
       "  'federal',\n",
       "  'indicar',\n",
       "  'personar',\n",
       "  'contratar',\n",
       "  'ocupar',\n",
       "  'contratacion',\n",
       "  'casar',\n",
       "  'prorrogar'],\n",
       " ['proporcionar',\n",
       "  'magnetico',\n",
       "  'relacion',\n",
       "  'ocupar',\n",
       "  'amparar',\n",
       "  'articular',\n",
       "  'servicio',\n",
       "  'profesional',\n",
       "  'carrera',\n",
       "  'administracion',\n",
       "  'federal',\n",
       "  'indicar',\n",
       "  'personar',\n",
       "  'contratar',\n",
       "  'ocupar',\n",
       "  'contratacion',\n",
       "  'casar',\n",
       "  'prorrogar'],\n",
       " ['proporcionar',\n",
       "  'magnetico',\n",
       "  'relacion',\n",
       "  'ocupar',\n",
       "  'amparar',\n",
       "  'articular',\n",
       "  'servicio',\n",
       "  'profesional',\n",
       "  'carrera',\n",
       "  'administracion',\n",
       "  'federal',\n",
       "  'secretario',\n",
       "  'tecnica',\n",
       "  'comision',\n",
       "  'calificador',\n",
       "  'publicación',\n",
       "  'revistar',\n",
       "  'ilustrar',\n",
       "  'indicar',\n",
       "  'personar',\n",
       "  'contratar',\n",
       "  'ocupar',\n",
       "  'contratacion',\n",
       "  'casar',\n",
       "  'prorrogar',\n",
       "  'publicar',\n",
       "  'decir',\n",
       "  'informacion',\n",
       "  'portal',\n",
       "  'comision',\n",
       "  'indicar',\n",
       "  'contactar',\n",
       "  'atender',\n",
       "  'solicitud',\n",
       "  'informacion',\n",
       "  'solicitar',\n",
       "  'secretario',\n",
       "  'gobernacion',\n",
       "  'cabeza',\n",
       "  'sector'],\n",
       " ['proporcionar',\n",
       "  'magnetico',\n",
       "  'relacion',\n",
       "  'ocupar',\n",
       "  'amparar',\n",
       "  'articular',\n",
       "  'servicio',\n",
       "  'profesional',\n",
       "  'carrera',\n",
       "  'administracion',\n",
       "  'federal',\n",
       "  'servicio',\n",
       "  'informacion',\n",
       "  'agroalimentario',\n",
       "  'pesquero',\n",
       "  'indicar',\n",
       "  'personar',\n",
       "  'contratar',\n",
       "  'ocupar',\n",
       "  'contratacion',\n",
       "  'casar',\n",
       "  'prorrogar',\n",
       "  'publicar',\n",
       "  'decir',\n",
       "  'informacion',\n",
       "  'portal',\n",
       "  'organismo',\n",
       "  'indicar',\n",
       "  'contactar',\n",
       "  'atender',\n",
       "  'solicitud',\n",
       "  'informacion',\n",
       "  'solicitar',\n",
       "  'sagarpa',\n",
       "  'cabeza',\n",
       "  'sector']]"
      ]
     },
     "execution_count": 17,
     "metadata": {},
     "output_type": "execute_result"
    }
   ],
   "source": [
    "processed_docs[:10]"
   ]
  },
  {
   "cell_type": "code",
   "execution_count": 18,
   "metadata": {},
   "outputs": [],
   "source": [
    "import gensim"
   ]
  },
  {
   "cell_type": "code",
   "execution_count": 19,
   "metadata": {},
   "outputs": [],
   "source": [
    "dictionary = gensim.corpora.Dictionary(processed_docs)"
   ]
  },
  {
   "cell_type": "code",
   "execution_count": 20,
   "metadata": {},
   "outputs": [
    {
     "name": "stdout",
     "output_type": "stream",
     "text": [
      "0 aceitar\n",
      "1 anual\n",
      "2 barril\n",
      "3 cientificos\n",
      "4 comportamiento\n",
      "5 comprender\n",
      "6 considerar\n",
      "7 copiar\n",
      "8 costo\n",
      "9 declinacion\n",
      "10 documento\n"
     ]
    }
   ],
   "source": [
    "count = 0\n",
    "for k, v in dictionary.iteritems():\n",
    "    print(k, v)\n",
    "    count += 1\n",
    "    if count > 10:\n",
    "        break"
   ]
  },
  {
   "cell_type": "code",
   "execution_count": 21,
   "metadata": {},
   "outputs": [],
   "source": [
    "dictionary.filter_extremes(no_below=15, no_above=0.5, keep_n=100000)"
   ]
  },
  {
   "cell_type": "code",
   "execution_count": 22,
   "metadata": {},
   "outputs": [],
   "source": [
    "bow_corpus = [dictionary.doc2bow(doc) for doc in processed_docs]"
   ]
  },
  {
   "cell_type": "code",
   "execution_count": 23,
   "metadata": {},
   "outputs": [],
   "source": [
    "lda_model = gensim.models.LdaMulticore(bow_corpus, num_topics=10,\n",
    "                                      id2word=dictionary, passes=2,\n",
    "                                      workers=cores)"
   ]
  },
  {
   "cell_type": "code",
   "execution_count": 24,
   "metadata": {},
   "outputs": [
    {
     "name": "stdout",
     "output_type": "stream",
     "text": [
      "Topic: 0 \n",
      "Words: 0.024*\"solicitar\" + 0.022*\"municipio\" + 0.019*\"santo\" + 0.012*\"copiar\" + 0.011*\"ubicar\" + 0.010*\"zona\" + 0.008*\"concesion\" + 0.008*\"mexico\" + 0.008*\"proyectar\" + 0.008*\"fecho\"\n",
      "Topic: 1 \n",
      "Words: 0.016*\"solicitar\" + 0.015*\"mexico\" + 0.011*\"informacion\" + 0.011*\"municipio\" + 0.010*\"nacional\" + 0.010*\"programar\" + 0.007*\"escuela\" + 0.007*\"ciudad\" + 0.006*\"aguar\" + 0.006*\"energia\"\n",
      "Topic: 2 \n",
      "Words: 0.034*\"solicitar\" + 0.025*\"informacion\" + 0.017*\"dependencia\" + 0.016*\"montar\" + 0.012*\"partir\" + 0.012*\"concepto\" + 0.011*\"basar\" + 0.010*\"fecho\" + 0.010*\"servicio\" + 0.010*\"presupuestar\"\n",
      "Topic: 3 \n",
      "Words: 0.023*\"solicitar\" + 0.011*\"informacion\" + 0.010*\"nacional\" + 0.010*\"federal\" + 0.009*\"secretario\" + 0.009*\"servidor\" + 0.008*\"direccion\" + 0.008*\"publicar\" + 0.008*\"fecho\" + 0.007*\"informar\"\n",
      "Topic: 4 \n",
      "Words: 0.030*\"solicitar\" + 0.023*\"solucion\" + 0.015*\"informacion\" + 0.013*\"proveedor\" + 0.012*\"adquisicion\" + 0.011*\"pemex\" + 0.011*\"licitacion\" + 0.011*\"nacional\" + 0.011*\"programar\" + 0.009*\"imss\"\n",
      "Topic: 5 \n",
      "Words: 0.024*\"personar\" + 0.016*\"solicitar\" + 0.014*\"social\" + 0.012*\"informacion\" + 0.011*\"fecho\" + 0.009*\"casar\" + 0.008*\"tipo\" + 0.008*\"seguro\" + 0.008*\"programar\" + 0.008*\"edad\"\n",
      "Topic: 6 \n",
      "Words: 0.037*\"solicitar\" + 0.023*\"informacion\" + 0.017*\"fecho\" + 0.015*\"registrar\" + 0.013*\"sanitario\" + 0.013*\"tramitar\" + 0.012*\"federal\" + 0.010*\"presentar\" + 0.008*\"respuesta\" + 0.008*\"informar\"\n",
      "Topic: 7 \n",
      "Words: 0.036*\"servicio\" + 0.035*\"contratar\" + 0.026*\"solicitar\" + 0.025*\"contrato\" + 0.020*\"copiar\" + 0.014*\"convenio\" + 0.013*\"empresa\" + 0.013*\"fecho\" + 0.013*\"informacion\" + 0.010*\"firmar\"\n",
      "Topic: 8 \n",
      "Words: 0.218*\"solicitud\" + 0.056*\"informacion\" + 0.031*\"articular\" + 0.030*\"acceso\" + 0.029*\"transparencia\" + 0.021*\"medicamento\" + 0.018*\"adquirir\" + 0.018*\"favor\" + 0.016*\"fundamentar\" + 0.015*\"presentar\"\n",
      "Topic: 9 \n",
      "Words: 0.073*\"medicar\" + 0.052*\"medicamento\" + 0.037*\"clavar\" + 0.031*\"solicitar\" + 0.029*\"unidad\" + 0.027*\"hospital\" + 0.025*\"atencion\" + 0.024*\"informacion\" + 0.022*\"paciente\" + 0.022*\"recetar\"\n"
     ]
    }
   ],
   "source": [
    "for idx, topic in lda_model.print_topics(-1):\n",
    "    print('Topic: {} \\nWords: {}'.format(idx, topic))"
   ]
  },
  {
   "cell_type": "code",
   "execution_count": 25,
   "metadata": {},
   "outputs": [
    {
     "name": "stdout",
     "output_type": "stream",
     "text": [
      "\n",
      "Score: 0.354082316160202\t \n",
      "Topic: 0.016*\"solicitar\" + 0.015*\"mexico\" + 0.011*\"informacion\" + 0.011*\"municipio\" + 0.010*\"nacional\" + 0.010*\"programar\" + 0.007*\"escuela\" + 0.007*\"ciudad\" + 0.006*\"aguar\" + 0.006*\"energia\"\n",
      "\n",
      "Score: 0.23463356494903564\t \n",
      "Topic: 0.036*\"servicio\" + 0.035*\"contratar\" + 0.026*\"solicitar\" + 0.025*\"contrato\" + 0.020*\"copiar\" + 0.014*\"convenio\" + 0.013*\"empresa\" + 0.013*\"fecho\" + 0.013*\"informacion\" + 0.010*\"firmar\"\n",
      "\n",
      "Score: 0.2004830241203308\t \n",
      "Topic: 0.037*\"solicitar\" + 0.023*\"informacion\" + 0.017*\"fecho\" + 0.015*\"registrar\" + 0.013*\"sanitario\" + 0.013*\"tramitar\" + 0.012*\"federal\" + 0.010*\"presentar\" + 0.008*\"respuesta\" + 0.008*\"informar\"\n",
      "\n",
      "Score: 0.13379602134227753\t \n",
      "Topic: 0.024*\"personar\" + 0.016*\"solicitar\" + 0.014*\"social\" + 0.012*\"informacion\" + 0.011*\"fecho\" + 0.009*\"casar\" + 0.008*\"tipo\" + 0.008*\"seguro\" + 0.008*\"programar\" + 0.008*\"edad\"\n",
      "\n",
      "Score: 0.06220269575715065\t \n",
      "Topic: 0.034*\"solicitar\" + 0.025*\"informacion\" + 0.017*\"dependencia\" + 0.016*\"montar\" + 0.012*\"partir\" + 0.012*\"concepto\" + 0.011*\"basar\" + 0.010*\"fecho\" + 0.010*\"servicio\" + 0.010*\"presupuestar\"\n"
     ]
    }
   ],
   "source": [
    "for index, score in sorted(lda_model[bow_corpus[4310]], \n",
    "                           key=lambda tup: -1*tup[1]):\n",
    "    print(\"\\nScore: {}\\t \\nTopic: {}\".format(score,\n",
    "                                            lda_model.print_topic(index, 10)))"
   ]
  },
  {
   "cell_type": "code",
   "execution_count": 26,
   "metadata": {},
   "outputs": [],
   "source": [
    "from gensim import corpora, models\n",
    "from pprint import pprint"
   ]
  },
  {
   "cell_type": "code",
   "execution_count": 27,
   "metadata": {},
   "outputs": [],
   "source": [
    "tfidf = models.TfidfModel(bow_corpus)\n",
    "corpus_tfidf = tfidf[bow_corpus]"
   ]
  },
  {
   "cell_type": "code",
   "execution_count": 28,
   "metadata": {},
   "outputs": [],
   "source": [
    "lda_model_tfidf = gensim.models.LdaMulticore(corpus_tfidf, \n",
    "                                            num_topics=10,\n",
    "                                            id2word=dictionary,\n",
    "                                            passes=2,\n",
    "                                            workers=cores)"
   ]
  },
  {
   "cell_type": "code",
   "execution_count": 29,
   "metadata": {},
   "outputs": [
    {
     "name": "stdout",
     "output_type": "stream",
     "text": [
      "Topic: 0 Word: 0.022*\"contratar\" + 0.017*\"contrato\" + 0.017*\"servicio\" + 0.011*\"empresa\" + 0.010*\"montar\" + 0.008*\"copiar\" + 0.008*\"licitacion\" + 0.007*\"dependencia\" + 0.007*\"solicitar\" + 0.007*\"contratacion\"\n",
      "Topic: 1 Word: 0.015*\"medicar\" + 0.008*\"medicamento\" + 0.008*\"hospital\" + 0.008*\"unidad\" + 0.007*\"solicitar\" + 0.007*\"recetar\" + 0.006*\"paciente\" + 0.006*\"direccion\" + 0.006*\"correo\" + 0.006*\"informacion\"\n",
      "Topic: 2 Word: 0.971*\"solicitud\" + 0.001*\"biotecnologicos\" + 0.001*\"apizaco\" + 0.001*\"celulas\" + 0.001*\"valsartan\" + 0.000*\"crohn\" + 0.000*\"paternidad\" + 0.000*\"pharmaceuticals\" + 0.000*\"artritis\" + 0.000*\"japon\"\n",
      "Topic: 3 Word: 0.011*\"concesion\" + 0.008*\"copiar\" + 0.007*\"municipio\" + 0.007*\"santo\" + 0.007*\"solicitar\" + 0.005*\"ambiental\" + 0.005*\"proyectar\" + 0.005*\"aguar\" + 0.005*\"titular\" + 0.005*\"mexico\"\n",
      "Topic: 4 Word: 0.018*\"sanitario\" + 0.013*\"medicamento\" + 0.013*\"informacion\" + 0.011*\"registrar\" + 0.011*\"cofepris\" + 0.011*\"tramitar\" + 0.010*\"presentar\" + 0.009*\"solicitar\" + 0.008*\"activar\" + 0.008*\"articular\"\n",
      "Topic: 5 Word: 0.021*\"informacion\" + 0.008*\"solicitar\" + 0.007*\"pemex\" + 0.007*\"energia\" + 0.007*\"municipio\" + 0.005*\"gasolina\" + 0.005*\"hidrocarburo\" + 0.005*\"mexico\" + 0.005*\"electrica\" + 0.005*\"produccion\"\n",
      "Topic: 6 Word: 0.009*\"tribunal\" + 0.009*\"amparar\" + 0.008*\"circuito\" + 0.007*\"servidor\" + 0.007*\"juicio\" + 0.007*\"colegiar\" + 0.006*\"solicitar\" + 0.006*\"materia\" + 0.006*\"administrativo\" + 0.005*\"requerir\"\n",
      "Topic: 7 Word: 0.006*\"solicitar\" + 0.005*\"publicar\" + 0.005*\"informacion\" + 0.005*\"federal\" + 0.005*\"secretario\" + 0.004*\"programar\" + 0.004*\"nacional\" + 0.004*\"administrativo\" + 0.004*\"procedimiento\" + 0.004*\"fecho\"\n",
      "Topic: 8 Word: 0.023*\"adjuntar\" + 0.009*\"informacion\" + 0.008*\"documentar\" + 0.007*\"programar\" + 0.006*\"personar\" + 0.006*\"solicitar\" + 0.005*\"favor\" + 0.005*\"gracia\" + 0.004*\"mujer\" + 0.004*\"mexico\"\n",
      "Topic: 9 Word: 0.017*\"padron\" + 0.016*\"beneficiario\" + 0.016*\"presupuestar\" + 0.016*\"partir\" + 0.012*\"gastar\" + 0.010*\"campar\" + 0.008*\"electoral\" + 0.008*\"presupuestal\" + 0.007*\"programar\" + 0.007*\"adquirir\"\n"
     ]
    }
   ],
   "source": [
    "for idx, topic in lda_model_tfidf.print_topics(-1):\n",
    "    print('Topic: {} Word: {}'.format(idx, topic))"
   ]
  },
  {
   "cell_type": "code",
   "execution_count": 30,
   "metadata": {},
   "outputs": [
    {
     "name": "stdout",
     "output_type": "stream",
     "text": [
      "\n",
      "Score: 0.422720342874527\t \n",
      "Topic: 0.011*\"concesion\" + 0.008*\"copiar\" + 0.007*\"municipio\" + 0.007*\"santo\" + 0.007*\"solicitar\" + 0.005*\"ambiental\" + 0.005*\"proyectar\" + 0.005*\"aguar\" + 0.005*\"titular\" + 0.005*\"mexico\".\n",
      "\n",
      "Score: 0.33429965376853943\t \n",
      "Topic: 0.022*\"contratar\" + 0.017*\"contrato\" + 0.017*\"servicio\" + 0.011*\"empresa\" + 0.010*\"montar\" + 0.008*\"copiar\" + 0.008*\"licitacion\" + 0.007*\"dependencia\" + 0.007*\"solicitar\" + 0.007*\"contratacion\".\n",
      "\n",
      "Score: 0.1834556758403778\t \n",
      "Topic: 0.006*\"solicitar\" + 0.005*\"publicar\" + 0.005*\"informacion\" + 0.005*\"federal\" + 0.005*\"secretario\" + 0.004*\"programar\" + 0.004*\"nacional\" + 0.004*\"administrativo\" + 0.004*\"procedimiento\" + 0.004*\"fecho\".\n",
      "\n",
      "Score: 0.041839297860860825\t \n",
      "Topic: 0.021*\"informacion\" + 0.008*\"solicitar\" + 0.007*\"pemex\" + 0.007*\"energia\" + 0.007*\"municipio\" + 0.005*\"gasolina\" + 0.005*\"hidrocarburo\" + 0.005*\"mexico\" + 0.005*\"electrica\" + 0.005*\"produccion\".\n"
     ]
    }
   ],
   "source": [
    "for index, score in sorted(lda_model_tfidf[bow_corpus[4310]],\n",
    "                          key=lambda tup: -1*tup[1]):\n",
    "    print(\"\\nScore: {}\\t \\nTopic: {}.\".format(score,\n",
    "                                             lda_model_tfidf.print_topic(index, 10)))"
   ]
  },
  {
   "cell_type": "code",
   "execution_count": 31,
   "metadata": {},
   "outputs": [],
   "source": [
    "import pickle"
   ]
  },
  {
   "cell_type": "code",
   "execution_count": 32,
   "metadata": {},
   "outputs": [],
   "source": [
    "with open('processed_docs_lematizacion.pkl', 'wb') as f:\n",
    "    pickle.dump(processed_docs, f)"
   ]
  },
  {
   "cell_type": "code",
   "execution_count": 33,
   "metadata": {},
   "outputs": [],
   "source": [
    "with open('lda_model_bw_lematizacion.pkl', 'wb') as f:\n",
    "    pickle.dump(lda_model, f)"
   ]
  },
  {
   "cell_type": "code",
   "execution_count": 34,
   "metadata": {},
   "outputs": [],
   "source": [
    "with open('lda_model_tfidf_lematizacion.pkl', 'wb') as f:\n",
    "    pickle.dump(lda_model_tfidf, f)"
   ]
  },
  {
   "cell_type": "markdown",
   "metadata": {},
   "source": [
    "## Lematizando y quitando palabras [solicitar, informacion, mexico, titular, copiar, dependencia, municipio, ...]  (Segunda iteración)"
   ]
  },
  {
   "cell_type": "code",
   "execution_count": 5,
   "metadata": {},
   "outputs": [],
   "source": [
    "import spacy\n",
    "import nltk\n",
    "from nltk import SnowballStemmer"
   ]
  },
  {
   "cell_type": "code",
   "execution_count": 6,
   "metadata": {},
   "outputs": [],
   "source": [
    "nlp = spacy.load('es_core_news_sm')"
   ]
  },
  {
   "cell_type": "code",
   "execution_count": 7,
   "metadata": {},
   "outputs": [],
   "source": [
    "def LematizarTexto(texto):\n",
    "    \n",
    "    doc = nlp(texto)\n",
    "    words = [t.lemma_ for t in doc if not t.is_punct | t.is_stop]\n",
    "    lexical_tokens = [t.lower() for t in words if len(t) > 3 and t.isalpha()]\n",
    "    \n",
    "    return lexical_tokens"
   ]
  },
  {
   "cell_type": "code",
   "execution_count": 10,
   "metadata": {},
   "outputs": [],
   "source": [
    "banned = ['solicitar', 'solicito', 'solicitamos', 'solicite', 'informacion', 'mexico', 'titular', \n",
    "          'titulo', 'copiar', 'copie', 'copiamos', 'dependencia', 'municipio', 'tramitar', 'contratar', \n",
    "          'contrato', 'servicio', 'tramitar', 'tramite', 'proyectar', 'proyectamos', 'proyecte', 'proyeccion', \n",
    "          'nacional', 'administrativo', 'presupuestar', 'presupuesto', 'correo', 'pemex', 'programar', 'programa',\n",
    "         'programacion', 'empresa']"
   ]
  },
  {
   "cell_type": "code",
   "execution_count": 11,
   "metadata": {},
   "outputs": [],
   "source": [
    "f = lambda x: ' '.join([item for item in x.split() if item not in banned])\n",
    "df['descripcionsolicitud'] = df['descripcionsolicitud'].apply(f)"
   ]
  },
  {
   "cell_type": "code",
   "execution_count": 12,
   "metadata": {},
   "outputs": [
    {
     "name": "stderr",
     "output_type": "stream",
     "text": [
      "/Library/Frameworks/Python.framework/Versions/3.7/lib/python3.7/site-packages/ipykernel_launcher.py:2: SettingWithCopyWarning: \n",
      "A value is trying to be set on a copy of a slice from a DataFrame.\n",
      "Try using .loc[row_indexer,col_indexer] = value instead\n",
      "\n",
      "See the caveats in the documentation: https://pandas.pydata.org/pandas-docs/stable/user_guide/indexing.html#returning-a-view-versus-a-copy\n",
      "  \n"
     ]
    }
   ],
   "source": [
    "data = df[['descripcionsolicitud']]\n",
    "data['index'] = data.index\n",
    "docs = data"
   ]
  },
  {
   "cell_type": "code",
   "execution_count": 13,
   "metadata": {},
   "outputs": [
    {
     "data": {
      "text/plain": [
       "'a esta institucion sea explicado el procedimiento el cual se instalaron cafeterias en los planteles al igual que maquinas de cafe refrescos y otros productos industrializados. tambien copia de los contratos convenios a de los se formaliza instalacion en los citados centros . ganancias que a la institucion (mes por en uno de los planteles) deja el haber consentido la instalacion-operacion-funcionamiento de tales formas mercantiles. con fueron negociadas y que autoridades dieron consentimiento? y cual el destino de esos recursos?'"
      ]
     },
     "execution_count": 13,
     "metadata": {},
     "output_type": "execute_result"
    }
   ],
   "source": [
    "texto = docs[docs['index'] == 4310].values[0][0]\n",
    "texto"
   ]
  },
  {
   "cell_type": "code",
   "execution_count": 14,
   "metadata": {},
   "outputs": [],
   "source": [
    "import multiprocessing\n",
    "from multiprocessing.dummy import Pool as ThreadPool"
   ]
  },
  {
   "cell_type": "code",
   "execution_count": 15,
   "metadata": {},
   "outputs": [
    {
     "data": {
      "text/plain": [
       "12"
      ]
     },
     "execution_count": 15,
     "metadata": {},
     "output_type": "execute_result"
    }
   ],
   "source": [
    "cores = multiprocessing.cpu_count()\n",
    "pool = ThreadPool(cores)\n",
    "cores"
   ]
  },
  {
   "cell_type": "code",
   "execution_count": 16,
   "metadata": {},
   "outputs": [],
   "source": [
    "processed_docs = pool.map(LematizarTexto, docs['descripcionsolicitud'])\n",
    "pool.close()"
   ]
  },
  {
   "cell_type": "code",
   "execution_count": 17,
   "metadata": {},
   "outputs": [],
   "source": [
    "import gensim"
   ]
  },
  {
   "cell_type": "code",
   "execution_count": 18,
   "metadata": {},
   "outputs": [],
   "source": [
    "dictionary = gensim.corpora.Dictionary(processed_docs)"
   ]
  },
  {
   "cell_type": "code",
   "execution_count": 19,
   "metadata": {},
   "outputs": [],
   "source": [
    "dictionary.filter_extremes(no_below=15, no_above=0.5, keep_n=100000)"
   ]
  },
  {
   "cell_type": "code",
   "execution_count": 20,
   "metadata": {},
   "outputs": [],
   "source": [
    "bow_corpus = [dictionary.doc2bow(doc) for doc in processed_docs]"
   ]
  },
  {
   "cell_type": "code",
   "execution_count": 21,
   "metadata": {},
   "outputs": [],
   "source": [
    "lda_model = gensim.models.LdaMulticore(bow_corpus, num_topics=10,\n",
    "                                      id2word=dictionary, passes=2,\n",
    "                                      workers=cores)"
   ]
  },
  {
   "cell_type": "code",
   "execution_count": 22,
   "metadata": {},
   "outputs": [
    {
     "name": "stdout",
     "output_type": "stream",
     "text": [
      "Topic: 0 \n",
      "Words: 0.450*\"solicitud\" + 0.030*\"respuesta\" + 0.024*\"adjuntar\" + 0.012*\"informacion\" + 0.011*\"personal\" + 0.010*\"reglamentar\" + 0.007*\"salud\" + 0.007*\"activar\" + 0.007*\"proteccion\" + 0.007*\"esperar\"\n",
      "Topic: 1 \n",
      "Words: 0.056*\"medicar\" + 0.031*\"medicamento\" + 0.026*\"hospital\" + 0.021*\"clavar\" + 0.021*\"unidad\" + 0.020*\"atencion\" + 0.017*\"paciente\" + 0.017*\"recetar\" + 0.016*\"fecho\" + 0.015*\"nivel\"\n",
      "Topic: 2 \n",
      "Words: 0.011*\"copiar\" + 0.008*\"amparar\" + 0.008*\"expedientar\" + 0.008*\"tribunal\" + 0.007*\"federal\" + 0.007*\"fecho\" + 0.007*\"presentar\" + 0.007*\"materia\" + 0.007*\"juicio\" + 0.006*\"instituto\"\n",
      "Topic: 3 \n",
      "Words: 0.034*\"medicamento\" + 0.027*\"adquirir\" + 0.024*\"articular\" + 0.023*\"licitacion\" + 0.023*\"proveedor\" + 0.022*\"adquisicion\" + 0.020*\"favor\" + 0.020*\"clavar\" + 0.017*\"presentar\" + 0.015*\"producto\"\n",
      "Topic: 4 \n",
      "Words: 0.017*\"solucion\" + 0.016*\"partir\" + 0.012*\"personar\" + 0.011*\"entidad\" + 0.010*\"programar\" + 0.009*\"poblacion\" + 0.008*\"social\" + 0.008*\"destinar\" + 0.007*\"solicitar\" + 0.007*\"favor\"\n",
      "Topic: 5 \n",
      "Words: 0.020*\"fecho\" + 0.019*\"servidor\" + 0.015*\"publicos\" + 0.012*\"personar\" + 0.012*\"publicar\" + 0.011*\"cargar\" + 0.010*\"tipo\" + 0.010*\"informar\" + 0.010*\"secretario\" + 0.009*\"denunciar\"\n",
      "Topic: 6 \n",
      "Words: 0.029*\"fecho\" + 0.025*\"contrato\" + 0.024*\"solicitar\" + 0.024*\"sanitario\" + 0.021*\"registrar\" + 0.016*\"servicio\" + 0.013*\"copiar\" + 0.011*\"presentar\" + 0.010*\"comision\" + 0.010*\"informar\"\n",
      "Topic: 7 \n",
      "Words: 0.012*\"copiar\" + 0.009*\"santo\" + 0.009*\"fecho\" + 0.008*\"proyectar\" + 0.007*\"federal\" + 0.007*\"documento\" + 0.007*\"aguar\" + 0.007*\"secretario\" + 0.007*\"ciudad\" + 0.006*\"zona\"\n",
      "Topic: 8 \n",
      "Words: 0.015*\"montar\" + 0.009*\"recurso\" + 0.009*\"educacion\" + 0.008*\"apoyar\" + 0.007*\"pagar\" + 0.007*\"instituto\" + 0.007*\"concepto\" + 0.007*\"fecho\" + 0.007*\"secretario\" + 0.007*\"escuela\"\n",
      "Topic: 9 \n",
      "Words: 0.022*\"federal\" + 0.018*\"transparencia\" + 0.017*\"articular\" + 0.017*\"acceso\" + 0.013*\"servicio\" + 0.012*\"publicar\" + 0.009*\"derecho\" + 0.009*\"personar\" + 0.008*\"basar\" + 0.008*\"fundamentar\"\n"
     ]
    }
   ],
   "source": [
    "for idx, topic in lda_model.print_topics(-1):\n",
    "    print('Topic: {} \\nWords: {}'.format(idx, topic))"
   ]
  },
  {
   "cell_type": "code",
   "execution_count": 23,
   "metadata": {},
   "outputs": [
    {
     "name": "stdout",
     "output_type": "stream",
     "text": [
      "\n",
      "Score: 0.4691656231880188\t \n",
      "Topic: 0.015*\"montar\" + 0.009*\"recurso\" + 0.009*\"educacion\" + 0.008*\"apoyar\" + 0.007*\"pagar\" + 0.007*\"instituto\" + 0.007*\"concepto\" + 0.007*\"fecho\" + 0.007*\"secretario\" + 0.007*\"escuela\"\n",
      "\n",
      "Score: 0.20974045991897583\t \n",
      "Topic: 0.029*\"fecho\" + 0.025*\"contrato\" + 0.024*\"solicitar\" + 0.024*\"sanitario\" + 0.021*\"registrar\" + 0.016*\"servicio\" + 0.013*\"copiar\" + 0.011*\"presentar\" + 0.010*\"comision\" + 0.010*\"informar\"\n",
      "\n",
      "Score: 0.1464967131614685\t \n",
      "Topic: 0.017*\"solucion\" + 0.016*\"partir\" + 0.012*\"personar\" + 0.011*\"entidad\" + 0.010*\"programar\" + 0.009*\"poblacion\" + 0.008*\"social\" + 0.008*\"destinar\" + 0.007*\"solicitar\" + 0.007*\"favor\"\n",
      "\n",
      "Score: 0.1225404292345047\t \n",
      "Topic: 0.450*\"solicitud\" + 0.030*\"respuesta\" + 0.024*\"adjuntar\" + 0.012*\"informacion\" + 0.011*\"personal\" + 0.010*\"reglamentar\" + 0.007*\"salud\" + 0.007*\"activar\" + 0.007*\"proteccion\" + 0.007*\"esperar\"\n",
      "\n",
      "Score: 0.036339834332466125\t \n",
      "Topic: 0.012*\"copiar\" + 0.009*\"santo\" + 0.009*\"fecho\" + 0.008*\"proyectar\" + 0.007*\"federal\" + 0.007*\"documento\" + 0.007*\"aguar\" + 0.007*\"secretario\" + 0.007*\"ciudad\" + 0.006*\"zona\"\n"
     ]
    }
   ],
   "source": [
    "for index, score in sorted(lda_model[bow_corpus[4310]], \n",
    "                           key=lambda tup: -1*tup[1]):\n",
    "    print(\"\\nScore: {}\\t \\nTopic: {}\".format(score,\n",
    "                                            lda_model.print_topic(index, 10)))"
   ]
  },
  {
   "cell_type": "code",
   "execution_count": 24,
   "metadata": {},
   "outputs": [],
   "source": [
    "from gensim import corpora, models\n",
    "from pprint import pprint"
   ]
  },
  {
   "cell_type": "code",
   "execution_count": 25,
   "metadata": {},
   "outputs": [],
   "source": [
    "tfidf = models.TfidfModel(bow_corpus)\n",
    "corpus_tfidf = tfidf[bow_corpus]"
   ]
  },
  {
   "cell_type": "code",
   "execution_count": 26,
   "metadata": {},
   "outputs": [],
   "source": [
    "lda_model_tfidf = gensim.models.LdaMulticore(corpus_tfidf, \n",
    "                                            num_topics=10,\n",
    "                                            id2word=dictionary,\n",
    "                                            passes=2,\n",
    "                                            workers=cores)"
   ]
  },
  {
   "cell_type": "code",
   "execution_count": 27,
   "metadata": {},
   "outputs": [
    {
     "name": "stdout",
     "output_type": "stream",
     "text": [
      "Topic: 0 Word: 0.963*\"solicitud\" + 0.002*\"militante\" + 0.001*\"rastro\" + 0.001*\"incumplio\" + 0.001*\"prevalencia\" + 0.000*\"dengue\" + 0.000*\"colosio\" + 0.000*\"hemodinamia\" + 0.000*\"donaldo\" + 0.000*\"cessna\"\n",
      "Topic: 1 Word: 0.008*\"copiar\" + 0.005*\"fecho\" + 0.005*\"facturar\" + 0.005*\"contrato\" + 0.004*\"informar\" + 0.003*\"montar\" + 0.003*\"lopez\" + 0.003*\"servicio\" + 0.003*\"pagar\" + 0.003*\"cargar\"\n",
      "Topic: 2 Word: 0.015*\"licitacion\" + 0.013*\"contrato\" + 0.012*\"medicamento\" + 0.009*\"servicio\" + 0.009*\"adjudicacion\" + 0.009*\"directo\" + 0.008*\"adquisicion\" + 0.008*\"solicitar\" + 0.008*\"proveedor\" + 0.007*\"favor\"\n",
      "Topic: 3 Word: 0.012*\"sanitario\" + 0.009*\"registrar\" + 0.009*\"solicitar\" + 0.007*\"cofepris\" + 0.007*\"fecho\" + 0.006*\"presentar\" + 0.006*\"transparencia\" + 0.006*\"acceso\" + 0.005*\"comision\" + 0.005*\"activar\"\n",
      "Topic: 4 Word: 0.007*\"personar\" + 0.006*\"programar\" + 0.006*\"desglosar\" + 0.006*\"mujer\" + 0.005*\"entidad\" + 0.005*\"edad\" + 0.005*\"delito\" + 0.004*\"federativo\" + 0.004*\"poblacion\" + 0.004*\"tipo\"\n",
      "Topic: 5 Word: 0.035*\"medicar\" + 0.024*\"medicamento\" + 0.019*\"hospital\" + 0.016*\"recetar\" + 0.015*\"paciente\" + 0.013*\"clavar\" + 0.012*\"unidad\" + 0.012*\"atencion\" + 0.010*\"especialidad\" + 0.009*\"reportar\"\n",
      "Topic: 6 Word: 0.029*\"adjuntar\" + 0.012*\"servidor\" + 0.009*\"publicos\" + 0.009*\"documentar\" + 0.008*\"institucion\" + 0.008*\"favor\" + 0.008*\"basar\" + 0.007*\"emplear\" + 0.006*\"soldar\" + 0.006*\"honorario\"\n",
      "Topic: 7 Word: 0.010*\"trabajador\" + 0.007*\"educacion\" + 0.007*\"sindicato\" + 0.005*\"diputar\" + 0.005*\"secretario\" + 0.005*\"electoral\" + 0.005*\"instituto\" + 0.005*\"salariar\" + 0.005*\"copiar\" + 0.004*\"pagar\"\n",
      "Topic: 8 Word: 0.016*\"padron\" + 0.014*\"beneficiario\" + 0.011*\"partir\" + 0.010*\"campar\" + 0.009*\"gastar\" + 0.008*\"encontrar\" + 0.008*\"adquirir\" + 0.008*\"esperar\" + 0.008*\"respuesta\" + 0.007*\"quedar\"\n",
      "Topic: 9 Word: 0.007*\"concesion\" + 0.007*\"amparar\" + 0.007*\"tribunal\" + 0.006*\"copiar\" + 0.006*\"circuito\" + 0.006*\"proyectar\" + 0.005*\"materia\" + 0.005*\"juicio\" + 0.005*\"colegiar\" + 0.005*\"expedientar\"\n"
     ]
    }
   ],
   "source": [
    "for idx, topic in lda_model_tfidf.print_topics(-1):\n",
    "    print('Topic: {} Word: {}'.format(idx, topic))"
   ]
  },
  {
   "cell_type": "code",
   "execution_count": 28,
   "metadata": {},
   "outputs": [
    {
     "name": "stdout",
     "output_type": "stream",
     "text": [
      "\n",
      "Score: 0.6410174369812012\t \n",
      "Topic: 0.007*\"personar\" + 0.006*\"programar\" + 0.006*\"desglosar\" + 0.006*\"mujer\" + 0.005*\"entidad\" + 0.005*\"edad\" + 0.005*\"delito\" + 0.004*\"federativo\" + 0.004*\"poblacion\" + 0.004*\"tipo\".\n",
      "\n",
      "Score: 0.17656007409095764\t \n",
      "Topic: 0.015*\"licitacion\" + 0.013*\"contrato\" + 0.012*\"medicamento\" + 0.009*\"servicio\" + 0.009*\"adjudicacion\" + 0.009*\"directo\" + 0.008*\"adquisicion\" + 0.008*\"solicitar\" + 0.008*\"proveedor\" + 0.007*\"favor\".\n",
      "\n",
      "Score: 0.09025648981332779\t \n",
      "Topic: 0.010*\"trabajador\" + 0.007*\"educacion\" + 0.007*\"sindicato\" + 0.005*\"diputar\" + 0.005*\"secretario\" + 0.005*\"electoral\" + 0.005*\"instituto\" + 0.005*\"salariar\" + 0.005*\"copiar\" + 0.004*\"pagar\".\n",
      "\n",
      "Score: 0.07338825613260269\t \n",
      "Topic: 0.007*\"concesion\" + 0.007*\"amparar\" + 0.007*\"tribunal\" + 0.006*\"copiar\" + 0.006*\"circuito\" + 0.006*\"proyectar\" + 0.005*\"materia\" + 0.005*\"juicio\" + 0.005*\"colegiar\" + 0.005*\"expedientar\".\n"
     ]
    }
   ],
   "source": [
    "for index, score in sorted(lda_model_tfidf[bow_corpus[4310]],\n",
    "                          key=lambda tup: -1*tup[1]):\n",
    "    print(\"\\nScore: {}\\t \\nTopic: {}.\".format(score,\n",
    "                                             lda_model_tfidf.print_topic(index, 10)))"
   ]
  },
  {
   "cell_type": "code",
   "execution_count": 29,
   "metadata": {},
   "outputs": [],
   "source": [
    "import pickle"
   ]
  },
  {
   "cell_type": "code",
   "execution_count": 30,
   "metadata": {},
   "outputs": [],
   "source": [
    "with open('processed_docs_lematizacion.pkl', 'wb') as f:\n",
    "    pickle.dump(processed_docs, f)"
   ]
  },
  {
   "cell_type": "code",
   "execution_count": 31,
   "metadata": {},
   "outputs": [],
   "source": [
    "with open('lda_model_bw_lematizacion.pkl', 'wb') as f:\n",
    "    pickle.dump(lda_model, f)"
   ]
  },
  {
   "cell_type": "code",
   "execution_count": 32,
   "metadata": {},
   "outputs": [],
   "source": [
    "with open('lda_model_tfidf_lematizacion.pkl', 'wb') as f:\n",
    "    pickle.dump(lda_model_tfidf, f)"
   ]
  }
 ],
 "metadata": {
  "kernelspec": {
   "display_name": "Python 3",
   "language": "python",
   "name": "python3"
  },
  "language_info": {
   "codemirror_mode": {
    "name": "ipython",
    "version": 3
   },
   "file_extension": ".py",
   "mimetype": "text/x-python",
   "name": "python",
   "nbconvert_exporter": "python",
   "pygments_lexer": "ipython3",
   "version": "3.7.3"
  }
 },
 "nbformat": 4,
 "nbformat_minor": 4
}
